{
 "cells": [
  {
   "cell_type": "markdown",
   "id": "8ed0c5fa",
   "metadata": {},
   "source": [
    "# Automatic atom mapping - example"
   ]
  },
  {
   "cell_type": "markdown",
   "id": "5aefa4d6",
   "metadata": {},
   "source": [
    "This notebook demonstrates how the `atom_mapping` module works in practice. It's purpose is to reduce the workload when preparing input data for MFA analysis on INCA. "
   ]
  },
  {
   "cell_type": "markdown",
   "id": "5b362b76",
   "metadata": {},
   "source": [
    "The only input required is the COBRA model that contains all reaction data, and, most importantly, references for metabolite structures in KEGG Compound, HMDB, CHEBI databases, or an InChI key."
   ]
  },
  {
   "cell_type": "markdown",
   "id": "a8a04fc6",
   "metadata": {},
   "source": [
    "This module uses RDKit to generate the input for RDT (Reaction Decoder Tool), a tool to estimate the atom mapping of a reaction. The output of RDT is then parsed and used to generate a dictionary of atom mappings for each reaction in the model."
   ]
  },
  {
   "cell_type": "markdown",
   "id": "21edabd6",
   "metadata": {},
   "source": [
    "#### First, import required modules:"
   ]
  },
  {
   "cell_type": "code",
   "execution_count": 1,
   "id": "75aa4c2e",
   "metadata": {},
   "outputs": [],
   "source": [
    "import pandas as pd\n",
    "from incawrapper.atommapping import atom_mapping\n",
    "from cobra.io import load_model"
   ]
  },
  {
   "cell_type": "markdown",
   "id": "4297da9f",
   "metadata": {},
   "source": [
    "## Overview\n",
    "#### 1. create a dataframe with the metabolites\n",
    "- df that has met_id and annoations as columns"
   ]
  },
  {
   "cell_type": "code",
   "execution_count": 2,
   "id": "b01de985",
   "metadata": {},
   "outputs": [
    {
     "name": "stdout",
     "output_type": "stream",
     "text": [
      "Set parameter Username\n",
      "Academic license - for non-commercial use only - expires 2024-03-05\n",
      "    met_id                                        annotations\n",
      "0  13dpg_c  {'bigg.metabolite': '13dpg', 'biocyc': 'DPG', ...\n",
      "1    2pg_c  {'bigg.metabolite': '2pg', 'biocyc': '2-PG', '...\n",
      "2    3pg_c  {'bigg.metabolite': '3pg', 'biocyc': 'G3P', 'c...\n",
      "3   6pgc_c  {'bigg.metabolite': '6pgc', 'biocyc': 'CPD-296...\n",
      "4   6pgl_c  {'bigg.metabolite': '6pgl', 'biocyc': 'D-6-P-G...\n"
     ]
    }
   ],
   "source": [
    "model = load_model(\"textbook\")\n",
    " \n",
    "met_df = pd.DataFrame(\n",
    "    {\n",
    "        \"met_id\": [met.id for met in model.metabolites],\n",
    "        \"annotations\": [met.annotation for met in model.metabolites],\n",
    "    }\n",
    ")\n",
    "print(met_df.head())"
   ]
  },
  {
   "cell_type": "markdown",
   "id": "30eb7bff",
   "metadata": {},
   "source": [
    "#### 2. create a dataframe with the reactions\n",
    "- df that has rxn_id and annotations as columns\n",
    "- the information is taken from the model"
   ]
  },
  {
   "cell_type": "code",
   "execution_count": 3,
   "id": "86daa726",
   "metadata": {},
   "outputs": [
    {
     "data": {
      "text/html": [
       "<div>\n",
       "<style scoped>\n",
       "    .dataframe tbody tr th:only-of-type {\n",
       "        vertical-align: middle;\n",
       "    }\n",
       "\n",
       "    .dataframe tbody tr th {\n",
       "        vertical-align: top;\n",
       "    }\n",
       "\n",
       "    .dataframe thead th {\n",
       "        text-align: right;\n",
       "    }\n",
       "</style>\n",
       "<table border=\"1\" class=\"dataframe\">\n",
       "  <thead>\n",
       "    <tr style=\"text-align: right;\">\n",
       "      <th></th>\n",
       "      <th>rxn_id</th>\n",
       "      <th>equation</th>\n",
       "      <th>reactants_stoichiometry</th>\n",
       "      <th>reactants_ids</th>\n",
       "      <th>products_stoichiometry</th>\n",
       "      <th>products_ids</th>\n",
       "    </tr>\n",
       "  </thead>\n",
       "  <tbody>\n",
       "    <tr>\n",
       "      <th>0</th>\n",
       "      <td>ACALD</td>\n",
       "      <td>acald_c + coa_c + nad_c &lt;=&gt; accoa_c + h_c + na...</td>\n",
       "      <td>[-1.0, -1.0, -1.0]</td>\n",
       "      <td>[acald_c, coa_c, nad_c]</td>\n",
       "      <td>[1.0, 1.0, 1.0]</td>\n",
       "      <td>[accoa_c, h_c, nadh_c]</td>\n",
       "    </tr>\n",
       "    <tr>\n",
       "      <th>1</th>\n",
       "      <td>ACALDt</td>\n",
       "      <td>acald_e &lt;=&gt; acald_c</td>\n",
       "      <td>[-1.0]</td>\n",
       "      <td>[acald_e]</td>\n",
       "      <td>[1.0]</td>\n",
       "      <td>[acald_c]</td>\n",
       "    </tr>\n",
       "    <tr>\n",
       "      <th>2</th>\n",
       "      <td>ACKr</td>\n",
       "      <td>ac_c + atp_c &lt;=&gt; actp_c + adp_c</td>\n",
       "      <td>[-1.0, -1.0]</td>\n",
       "      <td>[ac_c, atp_c]</td>\n",
       "      <td>[1.0, 1.0]</td>\n",
       "      <td>[actp_c, adp_c]</td>\n",
       "    </tr>\n",
       "    <tr>\n",
       "      <th>3</th>\n",
       "      <td>ACONTa</td>\n",
       "      <td>cit_c &lt;=&gt; acon_C_c + h2o_c</td>\n",
       "      <td>[-1.0]</td>\n",
       "      <td>[cit_c]</td>\n",
       "      <td>[1.0, 1.0]</td>\n",
       "      <td>[acon_C_c, h2o_c]</td>\n",
       "    </tr>\n",
       "    <tr>\n",
       "      <th>4</th>\n",
       "      <td>ACONTb</td>\n",
       "      <td>acon_C_c + h2o_c &lt;=&gt; icit_c</td>\n",
       "      <td>[-1.0, -1.0]</td>\n",
       "      <td>[acon_C_c, h2o_c]</td>\n",
       "      <td>[1.0]</td>\n",
       "      <td>[icit_c]</td>\n",
       "    </tr>\n",
       "  </tbody>\n",
       "</table>\n",
       "</div>"
      ],
      "text/plain": [
       "   rxn_id                                           equation  \\\n",
       "0   ACALD  acald_c + coa_c + nad_c <=> accoa_c + h_c + na...   \n",
       "1  ACALDt                                acald_e <=> acald_c   \n",
       "2    ACKr                    ac_c + atp_c <=> actp_c + adp_c   \n",
       "3  ACONTa                         cit_c <=> acon_C_c + h2o_c   \n",
       "4  ACONTb                        acon_C_c + h2o_c <=> icit_c   \n",
       "\n",
       "  reactants_stoichiometry            reactants_ids products_stoichiometry  \\\n",
       "0      [-1.0, -1.0, -1.0]  [acald_c, coa_c, nad_c]        [1.0, 1.0, 1.0]   \n",
       "1                  [-1.0]                [acald_e]                  [1.0]   \n",
       "2            [-1.0, -1.0]            [ac_c, atp_c]             [1.0, 1.0]   \n",
       "3                  [-1.0]                  [cit_c]             [1.0, 1.0]   \n",
       "4            [-1.0, -1.0]        [acon_C_c, h2o_c]                  [1.0]   \n",
       "\n",
       "             products_ids  \n",
       "0  [accoa_c, h_c, nadh_c]  \n",
       "1               [acald_c]  \n",
       "2         [actp_c, adp_c]  \n",
       "3       [acon_C_c, h2o_c]  \n",
       "4                [icit_c]  "
      ]
     },
     "execution_count": 3,
     "metadata": {},
     "output_type": "execute_result"
    }
   ],
   "source": [
    "# Examples\n",
    "reaction_data_temp = {}\n",
    "for cnt, r in enumerate(model.reactions):\n",
    "    reaction_data_dict = {\n",
    "        \"rxn_id\": r.id,\n",
    "        \"equation\": r.build_reaction_string(),\n",
    "        \"reactants_stoichiometry\": [\n",
    "            r.get_coefficient(react.id) for react in r.reactants\n",
    "        ],\n",
    "        \"reactants_ids\": [react.id for react in r.reactants],\n",
    "        \"products_stoichiometry\": [\n",
    "            r.get_coefficient(prod.id) for prod in r.products\n",
    "        ],\n",
    "        \"products_ids\": [prod.id for prod in r.products],\n",
    "    }\n",
    "    reaction_data_temp[cnt] = reaction_data_dict\n",
    " \n",
    "rxn_data = pd.DataFrame.from_dict(reaction_data_temp, orient='index')\n",
    "rxn_data.head()"
   ]
  },
  {
   "cell_type": "markdown",
   "id": "b8c252c5",
   "metadata": {},
   "source": [
    "#### 3. create a MolfileDownloader object\n",
    "- calling the generate_molfile_database method triggers the download of the molfiles for the metabolites in the dataframe"
   ]
  },
  {
   "cell_type": "code",
   "execution_count": 4,
   "id": "194952f4",
   "metadata": {},
   "outputs": [
    {
     "name": "stdout",
     "output_type": "stream",
     "text": [
      "Fetching metabolite structures...\n",
      "Successfully fetched 60/72 metabolites\n"
     ]
    }
   ],
   "source": [
    "base_path = \"data/storage/path\"\n",
    "downloader = atom_mapping.MolfileDownloader(met_df, base_path=base_path)\n",
    "downloader.generate_molfile_database()"
   ]
  },
  {
   "cell_type": "markdown",
   "id": "a1165970",
   "metadata": {},
   "source": [
    "#### 4. Write reactions in the correct format for RDT (write_rxn_file)"
   ]
  },
  {
   "cell_type": "code",
   "execution_count": 5,
   "id": "c961dc42",
   "metadata": {},
   "outputs": [
    {
     "name": "stdout",
     "output_type": "stream",
     "text": [
      "Metabolite structures missing for reaction ACONTa\n",
      "Metabolite structures missing for reaction ACONTb\n",
      "Excluded Biomass_Ecoli_core reaction from mapping\n",
      "Metabolite structures missing for reaction D_LACt2\n",
      "Metabolite structures missing for reaction EX_glc__D_e\n",
      "Metabolite structures missing for reaction EX_gln__L_e\n",
      "Metabolite structures missing for reaction EX_glu__L_e\n",
      "Metabolite structures missing for reaction EX_lac__D_e\n",
      "Metabolite structures missing for reaction EX_mal__L_e\n",
      "Metabolite structures missing for reaction FUM\n",
      "Metabolite structures missing for reaction GLCpts\n",
      "Metabolite structures missing for reaction GLNS\n",
      "Metabolite structures missing for reaction GLNabc\n",
      "Metabolite structures missing for reaction GLUDy\n",
      "Metabolite structures missing for reaction GLUN\n",
      "Metabolite structures missing for reaction GLUSy\n",
      "Metabolite structures missing for reaction GLUt2r\n",
      "Metabolite structures missing for reaction GND\n",
      "Metabolite structures missing for reaction LDH_D\n",
      "Metabolite structures missing for reaction MALS\n",
      "Metabolite structures missing for reaction MALt2_2\n",
      "Metabolite structures missing for reaction MDH\n",
      "Metabolite structures missing for reaction ME1\n",
      "Metabolite structures missing for reaction ME2\n",
      "Metabolite structures missing for reaction RPE\n",
      "Metabolite structures missing for reaction RPI\n",
      "Metabolite structures missing for reaction TKT1\n",
      "Metabolite structures missing for reaction TKT2\n",
      "Generated 67/95\n"
     ]
    }
   ],
   "source": [
    "atom_mapping.write_rxn_files(rxn_data, base_path=base_path)"
   ]
  },
  {
   "cell_type": "markdown",
   "id": "95213bef",
   "metadata": {},
   "source": [
    "#### 5. Query RDT for the atom mapping (obtain_atom_mappings)\n",
    "- This might take a while\n",
    "- Can be skipped if you already have the atom mappings"
   ]
  },
  {
   "cell_type": "code",
   "execution_count": 6,
   "id": "0a542e17",
   "metadata": {},
   "outputs": [
    {
     "name": "stderr",
     "output_type": "stream",
     "text": [
      "openjdk version \"11.0.9.1\" 2020-11-04 LTS\n",
      "OpenJDK Runtime Environment Zulu11.43+55-CA (build 11.0.9.1+1-LTS)\n",
      "OpenJDK 64-Bit Server VM Zulu11.43+55-CA (build 11.0.9.1+1-LTS, mixed mode)\n"
     ]
    },
    {
     "name": "stdout",
     "output_type": "stream",
     "text": [
      "Mapping reactions...\n",
      "['PPC.rxn', 'EX_akg_e.rxn', 'THD2.rxn', 'EX_h2o_e.rxn', 'PGK.rxn', 'EX_for_e.rxn', 'PGI.rxn', 'EX_fum_e.rxn', 'ALCD2x.rxn', 'EX_o2_e.rxn', 'CS.rxn', 'ATPM.rxn', 'ACt2r.rxn', 'PFL.rxn', 'PGL.rxn', 'NADH16.rxn', 'O2t.rxn', 'TALA.rxn', 'FORt2.rxn', 'PPS.rxn', 'PGM.rxn', 'PFK.rxn', 'CYTBD.rxn', 'FRD7.rxn', 'PYRt2.rxn', 'ICDHyr.rxn', 'H2Ot.rxn', 'ACALD.rxn', 'FRUpts2.rxn', 'FUMt2_2.rxn', 'GAPD.rxn', 'ENO.rxn', 'NH4t.rxn', 'AKGDH.rxn', 'SUCOAS.rxn', 'PYK.rxn', 'ATPS4r.rxn', 'EX_pyr_e.rxn', 'SUCCt2_2.rxn', 'G6PDH2r.rxn', 'ACALDt.rxn', 'PIt2r.rxn', 'SUCCt3.rxn', 'ADK1.rxn', 'EX_fru_e.rxn', 'SUCDi.rxn', 'ICL.rxn', 'PPCK.rxn', 'ETOHt2r.rxn', 'PTAr.rxn', 'NADTRHD.rxn', 'AKGt2r.rxn', 'EX_ac_e.rxn', 'EX_succ_e.rxn', 'EX_h_e.rxn', 'EX_co2_e.rxn', 'FORti.rxn', 'FBA.rxn', 'CO2t.rxn', 'EX_etoh_e.rxn', 'EX_acald_e.rxn', 'EX_pi_e.rxn', 'TPI.rxn', 'PDH.rxn', 'EX_nh4_e.rxn', 'FBP.rxn', 'ACKr.rxn']\n",
      "!--------------------------------------------------------\n",
      "Reaction Decoder Tool (RDT)\n",
      "\n",
      "Author: Syed Asad Rahman\n",
      "e-mail: asad@ebi.ac.uk|s9asad@gmail.com\n",
      "c/o EMBL-European BioInformatics Institute (EBI)\n",
      "WTGC, CB10 1SD Hinxton\n",
      "UK\n",
      "\n",
      "Note: The copyright of this software belongs to the author\n",
      "and EMBL-European BioInformatics Institute (EBI).\n",
      "\n",
      "Reference\n",
      "Rahman, S.A. et.al.(2016) Reaction Decoder Tool (RDT):\n",
      "Extracting Features from Chemical Reactions, Bioinformatics (2016)\n",
      "doi: 10.1093/bioinformatics/btw096\n",
      "!--------------------------------------------------------\n",
      "\n",
      "-- AAM --\n"
     ]
    },
    {
     "name": "stderr",
     "output_type": "stream",
     "text": [
      "uk.ac.ebi.reactionblast.mechanism.ReactionMechanismTool WARN: Number of atom(s) on the Left side 14 =/= Number of atom(s) on the Right side 20\n",
      "uk.ac.ebi.reactionblast.mechanism.ReactionMechanismTool WARN: {C=4, O=9, P=1} =/= {C=4, Ca=1, O=13, P=2}\n",
      "uk.ac.ebi.reactionblast.mechanism.ReactionMechanismTool WARN: Unmapped atoms present in this reaction(MIN) algorithm.\n"
     ]
    },
    {
     "name": "stdout",
     "output_type": "stream",
     "text": [
      "0    [main] INFO  net.sf.jnati.deploy.artefact.ConfigManager  - Loading global configuration\n",
      "7    [main] DEBUG net.sf.jnati.deploy.artefact.ConfigManager  - Loading defaults: jar:file:/Users/krv114/Documents/GitHub/incawrapper/RDT.jar!/META-INF/jnati/jnati.default-properties\n",
      "9    [main] INFO  net.sf.jnati.deploy.artefact.ConfigManager  - Loading artefact configuration: jniinchi-1.03_1\n",
      "12   [main] DEBUG net.sf.jnati.deploy.artefact.ConfigManager  - Loading instance defaults: jar:file:/Users/krv114/Documents/GitHub/incawrapper/RDT.jar!/META-INF/jnati/jnati.instance.default-properties\n",
      "14   [main] INFO  net.sf.jnati.deploy.repository.ClasspathRepository  - Searching classpath for: jniinchi-1.03_1-MAC-X86_64\n",
      "15   [main] INFO  net.sf.jnati.deploy.repository.LocalRepository  - Searching local repository for: jniinchi-1.03_1-MAC-X86_64\n",
      "15   [main] DEBUG net.sf.jnati.deploy.repository.LocalRepository  - Artefact path: /Users/krv114/.jnati/repo/jniinchi/1.03_1/MAC-X86_64\n",
      "20   [main] INFO  net.sf.jnati.deploy.artefact.ManifestReader  - Reading manifest\n",
      "50   [main] INFO  net.sf.jnati.deploy.NativeArtefactLocator  - Artefact (jniinchi-1.03_1-MAC-X86_64) location: /Users/krv114/.jnati/repo/jniinchi/1.03_1/MAC-X86_64\n",
      "50   [main] DEBUG net.sf.jnati.deploy.NativeLibraryLoader  - Loading library: /Users/krv114/.jnati/repo/jniinchi/1.03_1/MAC-X86_64/JniInchi-1.03_1-MAC-X86_64\n"
     ]
    },
    {
     "name": "stderr",
     "output_type": "stream",
     "text": [
      "uk.ac.ebi.reactionblast.mechanism.ReactionMechanismTool WARN: Unmapped atoms present in this reaction(MAX) algorithm.\n",
      "uk.ac.ebi.reactionblast.mechanism.ReactionMechanismTool WARN: Unmapped atoms present in this reaction(MIXTURE) algorithm.\n"
     ]
    },
    {
     "name": "stdout",
     "output_type": "stream",
     "text": [
      "Mapped RXN File /Users/krv114/Documents/GitHub/incawrapper/mappedRxns/ECBLAST_PPC_AAM.rxn\n"
     ]
    },
    {
     "name": "stderr",
     "output_type": "stream",
     "text": [
      "Warning: the fonts \"Times\" and \"Times\" are not available for the Java logical font \"Serif\", which may have unexpected appearance or behavior. Re-enable the \"Times\" font to remove this warning.\n"
     ]
    },
    {
     "name": "stdout",
     "output_type": "stream",
     "text": [
      "Annotated RXN Image /Users/krv114/Documents/GitHub/incawrapper/mappedRxns/ECBLAST_PPC_AAM.png\n",
      "Output is presented in text format: /Users/krv114/Documents/GitHub/incawrapper/mappedRxns/ECBLAST_PPC_AAM.txt\n",
      "!--------------------------------------------------------\n",
      "Reaction Decoder Tool (RDT)\n",
      "\n",
      "Author: Syed Asad Rahman\n",
      "e-mail: asad@ebi.ac.uk|s9asad@gmail.com\n",
      "c/o EMBL-European BioInformatics Institute (EBI)\n",
      "WTGC, CB10 1SD Hinxton\n",
      "UK\n",
      "\n",
      "Note: The copyright of this software belongs to the author\n",
      "and EMBL-European BioInformatics Institute (EBI).\n",
      "\n",
      "Reference\n",
      "Rahman, S.A. et.al.(2016) Reaction Decoder Tool (RDT):\n",
      "Extracting Features from Chemical Reactions, Bioinformatics (2016)\n",
      "doi: 10.1093/bioinformatics/btw096\n",
      "!--------------------------------------------------------\n",
      "\n",
      "-- AAM --\n",
      "Mapped RXN File /Users/krv114/Documents/GitHub/incawrapper/mappedRxns/ECBLAST_EX_akg_e_AAM.rxn\n"
     ]
    },
    {
     "name": "stderr",
     "output_type": "stream",
     "text": [
      "Warning: the fonts \"Times\" and \"Times\" are not available for the Java logical font \"Serif\", which may have unexpected appearance or behavior. Re-enable the \"Times\" font to remove this warning.\n"
     ]
    },
    {
     "name": "stdout",
     "output_type": "stream",
     "text": [
      "Annotated RXN Image /Users/krv114/Documents/GitHub/incawrapper/mappedRxns/ECBLAST_EX_akg_e_AAM.png\n",
      "Output is presented in text format: /Users/krv114/Documents/GitHub/incawrapper/mappedRxns/ECBLAST_EX_akg_e_AAM.txt\n",
      "!--------------------------------------------------------\n",
      "Reaction Decoder Tool (RDT)\n",
      "\n",
      "Author: Syed Asad Rahman\n",
      "e-mail: asad@ebi.ac.uk|s9asad@gmail.com\n",
      "c/o EMBL-European BioInformatics Institute (EBI)\n",
      "WTGC, CB10 1SD Hinxton\n",
      "UK\n",
      "\n",
      "Note: The copyright of this software belongs to the author\n",
      "and EMBL-European BioInformatics Institute (EBI).\n",
      "\n",
      "Reference\n",
      "Rahman, S.A. et.al.(2016) Reaction Decoder Tool (RDT):\n",
      "Extracting Features from Chemical Reactions, Bioinformatics (2016)\n",
      "doi: 10.1093/bioinformatics/btw096\n",
      "!--------------------------------------------------------\n",
      "\n",
      "-- AAM --\n",
      "!--------------------------------------------------------\n",
      "Reaction Decoder Tool (RDT)\n",
      "\n",
      "Author: Syed Asad Rahman\n",
      "e-mail: asad@ebi.ac.uk|s9asad@gmail.com\n",
      "c/o EMBL-European BioInformatics Institute (EBI)\n",
      "WTGC, CB10 1SD Hinxton\n",
      "UK\n",
      "\n",
      "Note: The copyright of this software belongs to the author\n",
      "and EMBL-European BioInformatics Institute (EBI).\n",
      "\n",
      "Reference\n",
      "Rahman, S.A. et.al.(2016) Reaction Decoder Tool (RDT):\n",
      "Extracting Features from Chemical Reactions, Bioinformatics (2016)\n",
      "doi: 10.1093/bioinformatics/btw096\n",
      "!--------------------------------------------------------\n",
      "\n",
      "-- AAM --\n",
      "Mapped RXN File /Users/krv114/Documents/GitHub/incawrapper/mappedRxns/ECBLAST_EX_h2o_e_AAM.rxn\n"
     ]
    },
    {
     "name": "stderr",
     "output_type": "stream",
     "text": [
      "Warning: the fonts \"Times\" and \"Times\" are not available for the Java logical font \"Serif\", which may have unexpected appearance or behavior. Re-enable the \"Times\" font to remove this warning.\n"
     ]
    },
    {
     "name": "stdout",
     "output_type": "stream",
     "text": [
      "Annotated RXN Image /Users/krv114/Documents/GitHub/incawrapper/mappedRxns/ECBLAST_EX_h2o_e_AAM.png\n",
      "Output is presented in text format: /Users/krv114/Documents/GitHub/incawrapper/mappedRxns/ECBLAST_EX_h2o_e_AAM.txt\n",
      "!--------------------------------------------------------\n",
      "Reaction Decoder Tool (RDT)\n",
      "\n",
      "Author: Syed Asad Rahman\n",
      "e-mail: asad@ebi.ac.uk|s9asad@gmail.com\n",
      "c/o EMBL-European BioInformatics Institute (EBI)\n",
      "WTGC, CB10 1SD Hinxton\n",
      "UK\n",
      "\n",
      "Note: The copyright of this software belongs to the author\n",
      "and EMBL-European BioInformatics Institute (EBI).\n",
      "\n",
      "Reference\n",
      "Rahman, S.A. et.al.(2016) Reaction Decoder Tool (RDT):\n",
      "Extracting Features from Chemical Reactions, Bioinformatics (2016)\n",
      "doi: 10.1093/bioinformatics/btw096\n",
      "!--------------------------------------------------------\n",
      "\n",
      "-- AAM --\n",
      "0    [main] INFO  net.sf.jnati.deploy.artefact.ConfigManager  - Loading global configuration\n",
      "9    [main] DEBUG net.sf.jnati.deploy.artefact.ConfigManager  - Loading defaults: jar:file:/Users/krv114/Documents/GitHub/incawrapper/RDT.jar!/META-INF/jnati/jnati.default-properties\n",
      "10   [main] INFO  net.sf.jnati.deploy.artefact.ConfigManager  - Loading artefact configuration: jniinchi-1.03_1\n",
      "13   [main] DEBUG net.sf.jnati.deploy.artefact.ConfigManager  - Loading instance defaults: jar:file:/Users/krv114/Documents/GitHub/incawrapper/RDT.jar!/META-INF/jnati/jnati.instance.default-properties\n",
      "16   [main] INFO  net.sf.jnati.deploy.repository.ClasspathRepository  - Searching classpath for: jniinchi-1.03_1-MAC-X86_64\n",
      "17   [main] INFO  net.sf.jnati.deploy.repository.LocalRepository  - Searching local repository for: jniinchi-1.03_1-MAC-X86_64\n",
      "17   [main] DEBUG net.sf.jnati.deploy.repository.LocalRepository  - Artefact path: /Users/krv114/.jnati/repo/jniinchi/1.03_1/MAC-X86_64\n",
      "18   [main] INFO  net.sf.jnati.deploy.artefact.ManifestReader  - Reading manifest\n",
      "46   [main] INFO  net.sf.jnati.deploy.NativeArtefactLocator  - Artefact (jniinchi-1.03_1-MAC-X86_64) location: /Users/krv114/.jnati/repo/jniinchi/1.03_1/MAC-X86_64\n",
      "46   [main] DEBUG net.sf.jnati.deploy.NativeLibraryLoader  - Loading library: /Users/krv114/.jnati/repo/jniinchi/1.03_1/MAC-X86_64/JniInchi-1.03_1-MAC-X86_64\n",
      "Mapped RXN File /Users/krv114/Documents/GitHub/incawrapper/mappedRxns/ECBLAST_PGK_AAM.rxn\n"
     ]
    },
    {
     "name": "stderr",
     "output_type": "stream",
     "text": [
      "Warning: the fonts \"Times\" and \"Times\" are not available for the Java logical font \"Serif\", which may have unexpected appearance or behavior. Re-enable the \"Times\" font to remove this warning.\n"
     ]
    },
    {
     "name": "stdout",
     "output_type": "stream",
     "text": [
      "Annotated RXN Image /Users/krv114/Documents/GitHub/incawrapper/mappedRxns/ECBLAST_PGK_AAM.png\n",
      "Output is presented in text format: /Users/krv114/Documents/GitHub/incawrapper/mappedRxns/ECBLAST_PGK_AAM.txt\n",
      "!--------------------------------------------------------\n",
      "Reaction Decoder Tool (RDT)\n",
      "\n",
      "Author: Syed Asad Rahman\n",
      "e-mail: asad@ebi.ac.uk|s9asad@gmail.com\n",
      "c/o EMBL-European BioInformatics Institute (EBI)\n",
      "WTGC, CB10 1SD Hinxton\n",
      "UK\n",
      "\n",
      "Note: The copyright of this software belongs to the author\n",
      "and EMBL-European BioInformatics Institute (EBI).\n",
      "\n",
      "Reference\n",
      "Rahman, S.A. et.al.(2016) Reaction Decoder Tool (RDT):\n",
      "Extracting Features from Chemical Reactions, Bioinformatics (2016)\n",
      "doi: 10.1093/bioinformatics/btw096\n",
      "!--------------------------------------------------------\n",
      "\n",
      "-- AAM --\n",
      "Mapped RXN File /Users/krv114/Documents/GitHub/incawrapper/mappedRxns/ECBLAST_EX_for_e_AAM.rxn\n"
     ]
    },
    {
     "name": "stderr",
     "output_type": "stream",
     "text": [
      "Warning: the fonts \"Times\" and \"Times\" are not available for the Java logical font \"Serif\", which may have unexpected appearance or behavior. Re-enable the \"Times\" font to remove this warning.\n"
     ]
    },
    {
     "name": "stdout",
     "output_type": "stream",
     "text": [
      "Annotated RXN Image /Users/krv114/Documents/GitHub/incawrapper/mappedRxns/ECBLAST_EX_for_e_AAM.png\n",
      "Output is presented in text format: /Users/krv114/Documents/GitHub/incawrapper/mappedRxns/ECBLAST_EX_for_e_AAM.txt\n",
      "!--------------------------------------------------------\n",
      "Reaction Decoder Tool (RDT)\n",
      "\n",
      "Author: Syed Asad Rahman\n",
      "e-mail: asad@ebi.ac.uk|s9asad@gmail.com\n",
      "c/o EMBL-European BioInformatics Institute (EBI)\n",
      "WTGC, CB10 1SD Hinxton\n",
      "UK\n",
      "\n",
      "Note: The copyright of this software belongs to the author\n",
      "and EMBL-European BioInformatics Institute (EBI).\n",
      "\n",
      "Reference\n",
      "Rahman, S.A. et.al.(2016) Reaction Decoder Tool (RDT):\n",
      "Extracting Features from Chemical Reactions, Bioinformatics (2016)\n",
      "doi: 10.1093/bioinformatics/btw096\n",
      "!--------------------------------------------------------\n",
      "\n",
      "-- AAM --\n",
      "0    [main] INFO  net.sf.jnati.deploy.artefact.ConfigManager  - Loading global configuration\n",
      "10   [main] DEBUG net.sf.jnati.deploy.artefact.ConfigManager  - Loading defaults: jar:file:/Users/krv114/Documents/GitHub/incawrapper/RDT.jar!/META-INF/jnati/jnati.default-properties\n",
      "11   [main] INFO  net.sf.jnati.deploy.artefact.ConfigManager  - Loading artefact configuration: jniinchi-1.03_1\n",
      "13   [main] DEBUG net.sf.jnati.deploy.artefact.ConfigManager  - Loading instance defaults: jar:file:/Users/krv114/Documents/GitHub/incawrapper/RDT.jar!/META-INF/jnati/jnati.instance.default-properties\n",
      "16   [main] INFO  net.sf.jnati.deploy.repository.ClasspathRepository  - Searching classpath for: jniinchi-1.03_1-MAC-X86_64\n",
      "17   [main] INFO  net.sf.jnati.deploy.repository.LocalRepository  - Searching local repository for: jniinchi-1.03_1-MAC-X86_64\n",
      "17   [main] DEBUG net.sf.jnati.deploy.repository.LocalRepository  - Artefact path: /Users/krv114/.jnati/repo/jniinchi/1.03_1/MAC-X86_64\n",
      "18   [main] INFO  net.sf.jnati.deploy.artefact.ManifestReader  - Reading manifest\n",
      "47   [main] INFO  net.sf.jnati.deploy.NativeArtefactLocator  - Artefact (jniinchi-1.03_1-MAC-X86_64) location: /Users/krv114/.jnati/repo/jniinchi/1.03_1/MAC-X86_64\n",
      "48   [main] DEBUG net.sf.jnati.deploy.NativeLibraryLoader  - Loading library: /Users/krv114/.jnati/repo/jniinchi/1.03_1/MAC-X86_64/JniInchi-1.03_1-MAC-X86_64\n",
      "Mapped RXN File /Users/krv114/Documents/GitHub/incawrapper/mappedRxns/ECBLAST_PGI_AAM.rxn\n"
     ]
    },
    {
     "name": "stderr",
     "output_type": "stream",
     "text": [
      "Warning: the fonts \"Times\" and \"Times\" are not available for the Java logical font \"Serif\", which may have unexpected appearance or behavior. Re-enable the \"Times\" font to remove this warning.\n"
     ]
    },
    {
     "name": "stdout",
     "output_type": "stream",
     "text": [
      "Annotated RXN Image /Users/krv114/Documents/GitHub/incawrapper/mappedRxns/ECBLAST_PGI_AAM.png\n",
      "Output is presented in text format: /Users/krv114/Documents/GitHub/incawrapper/mappedRxns/ECBLAST_PGI_AAM.txt\n",
      "!--------------------------------------------------------\n",
      "Reaction Decoder Tool (RDT)\n",
      "\n",
      "Author: Syed Asad Rahman\n",
      "e-mail: asad@ebi.ac.uk|s9asad@gmail.com\n",
      "c/o EMBL-European BioInformatics Institute (EBI)\n",
      "WTGC, CB10 1SD Hinxton\n",
      "UK\n",
      "\n",
      "Note: The copyright of this software belongs to the author\n",
      "and EMBL-European BioInformatics Institute (EBI).\n",
      "\n",
      "Reference\n",
      "Rahman, S.A. et.al.(2016) Reaction Decoder Tool (RDT):\n",
      "Extracting Features from Chemical Reactions, Bioinformatics (2016)\n",
      "doi: 10.1093/bioinformatics/btw096\n",
      "!--------------------------------------------------------\n",
      "\n",
      "-- AAM --\n",
      "Mapped RXN File /Users/krv114/Documents/GitHub/incawrapper/mappedRxns/ECBLAST_EX_fum_e_AAM.rxn\n"
     ]
    },
    {
     "name": "stderr",
     "output_type": "stream",
     "text": [
      "Warning: the fonts \"Times\" and \"Times\" are not available for the Java logical font \"Serif\", which may have unexpected appearance or behavior. Re-enable the \"Times\" font to remove this warning.\n"
     ]
    },
    {
     "name": "stdout",
     "output_type": "stream",
     "text": [
      "Annotated RXN Image /Users/krv114/Documents/GitHub/incawrapper/mappedRxns/ECBLAST_EX_fum_e_AAM.png\n",
      "Output is presented in text format: /Users/krv114/Documents/GitHub/incawrapper/mappedRxns/ECBLAST_EX_fum_e_AAM.txt\n",
      "!--------------------------------------------------------\n",
      "Reaction Decoder Tool (RDT)\n",
      "\n",
      "Author: Syed Asad Rahman\n",
      "e-mail: asad@ebi.ac.uk|s9asad@gmail.com\n",
      "c/o EMBL-European BioInformatics Institute (EBI)\n",
      "WTGC, CB10 1SD Hinxton\n",
      "UK\n",
      "\n",
      "Note: The copyright of this software belongs to the author\n",
      "and EMBL-European BioInformatics Institute (EBI).\n",
      "\n",
      "Reference\n",
      "Rahman, S.A. et.al.(2016) Reaction Decoder Tool (RDT):\n",
      "Extracting Features from Chemical Reactions, Bioinformatics (2016)\n",
      "doi: 10.1093/bioinformatics/btw096\n",
      "!--------------------------------------------------------\n",
      "\n",
      "-- AAM --\n",
      "0    [main] INFO  net.sf.jnati.deploy.artefact.ConfigManager  - Loading global configuration\n",
      "7    [main] DEBUG net.sf.jnati.deploy.artefact.ConfigManager  - Loading defaults: jar:file:/Users/krv114/Documents/GitHub/incawrapper/RDT.jar!/META-INF/jnati/jnati.default-properties\n",
      "8    [main] INFO  net.sf.jnati.deploy.artefact.ConfigManager  - Loading artefact configuration: jniinchi-1.03_1\n",
      "11   [main] DEBUG net.sf.jnati.deploy.artefact.ConfigManager  - Loading instance defaults: jar:file:/Users/krv114/Documents/GitHub/incawrapper/RDT.jar!/META-INF/jnati/jnati.instance.default-properties\n",
      "14   [main] INFO  net.sf.jnati.deploy.repository.ClasspathRepository  - Searching classpath for: jniinchi-1.03_1-MAC-X86_64\n",
      "15   [main] INFO  net.sf.jnati.deploy.repository.LocalRepository  - Searching local repository for: jniinchi-1.03_1-MAC-X86_64\n",
      "15   [main] DEBUG net.sf.jnati.deploy.repository.LocalRepository  - Artefact path: /Users/krv114/.jnati/repo/jniinchi/1.03_1/MAC-X86_64\n",
      "15   [main] INFO  net.sf.jnati.deploy.artefact.ManifestReader  - Reading manifest\n",
      "46   [main] INFO  net.sf.jnati.deploy.NativeArtefactLocator  - Artefact (jniinchi-1.03_1-MAC-X86_64) location: /Users/krv114/.jnati/repo/jniinchi/1.03_1/MAC-X86_64\n",
      "46   [main] DEBUG net.sf.jnati.deploy.NativeLibraryLoader  - Loading library: /Users/krv114/.jnati/repo/jniinchi/1.03_1/MAC-X86_64/JniInchi-1.03_1-MAC-X86_64\n"
     ]
    },
    {
     "name": "stderr",
     "output_type": "stream",
     "text": [
      "uk.ac.ebi.reactionblast.mechanism.ReactionMechanismTool WARN: Unmapped atoms present in this reaction(MAX) algorithm.\n",
      "uk.ac.ebi.reactionblast.mechanism.ReactionMechanismTool WARN: Unmapped atoms present in this reaction(MIXTURE) algorithm.\n"
     ]
    },
    {
     "name": "stdout",
     "output_type": "stream",
     "text": [
      "Mapped RXN File /Users/krv114/Documents/GitHub/incawrapper/mappedRxns/ECBLAST_ALCD2x_AAM.rxn\n"
     ]
    },
    {
     "name": "stderr",
     "output_type": "stream",
     "text": [
      "Warning: the fonts \"Times\" and \"Times\" are not available for the Java logical font \"Serif\", which may have unexpected appearance or behavior. Re-enable the \"Times\" font to remove this warning.\n"
     ]
    },
    {
     "name": "stdout",
     "output_type": "stream",
     "text": [
      "Annotated RXN Image /Users/krv114/Documents/GitHub/incawrapper/mappedRxns/ECBLAST_ALCD2x_AAM.png\n",
      "Output is presented in text format: /Users/krv114/Documents/GitHub/incawrapper/mappedRxns/ECBLAST_ALCD2x_AAM.txt\n",
      "!--------------------------------------------------------\n",
      "Reaction Decoder Tool (RDT)\n",
      "\n",
      "Author: Syed Asad Rahman\n",
      "e-mail: asad@ebi.ac.uk|s9asad@gmail.com\n",
      "c/o EMBL-European BioInformatics Institute (EBI)\n",
      "WTGC, CB10 1SD Hinxton\n",
      "UK\n",
      "\n",
      "Note: The copyright of this software belongs to the author\n",
      "and EMBL-European BioInformatics Institute (EBI).\n",
      "\n",
      "Reference\n",
      "Rahman, S.A. et.al.(2016) Reaction Decoder Tool (RDT):\n",
      "Extracting Features from Chemical Reactions, Bioinformatics (2016)\n",
      "doi: 10.1093/bioinformatics/btw096\n",
      "!--------------------------------------------------------\n",
      "\n",
      "-- AAM --\n",
      "Mapped RXN File /Users/krv114/Documents/GitHub/incawrapper/mappedRxns/ECBLAST_EX_o2_e_AAM.rxn\n"
     ]
    },
    {
     "name": "stderr",
     "output_type": "stream",
     "text": [
      "Warning: the fonts \"Times\" and \"Times\" are not available for the Java logical font \"Serif\", which may have unexpected appearance or behavior. Re-enable the \"Times\" font to remove this warning.\n"
     ]
    },
    {
     "name": "stdout",
     "output_type": "stream",
     "text": [
      "Annotated RXN Image /Users/krv114/Documents/GitHub/incawrapper/mappedRxns/ECBLAST_EX_o2_e_AAM.png\n",
      "Output is presented in text format: /Users/krv114/Documents/GitHub/incawrapper/mappedRxns/ECBLAST_EX_o2_e_AAM.txt\n",
      "!--------------------------------------------------------\n",
      "Reaction Decoder Tool (RDT)\n",
      "\n",
      "Author: Syed Asad Rahman\n",
      "e-mail: asad@ebi.ac.uk|s9asad@gmail.com\n",
      "c/o EMBL-European BioInformatics Institute (EBI)\n",
      "WTGC, CB10 1SD Hinxton\n",
      "UK\n",
      "\n",
      "Note: The copyright of this software belongs to the author\n",
      "and EMBL-European BioInformatics Institute (EBI).\n",
      "\n",
      "Reference\n",
      "Rahman, S.A. et.al.(2016) Reaction Decoder Tool (RDT):\n",
      "Extracting Features from Chemical Reactions, Bioinformatics (2016)\n",
      "doi: 10.1093/bioinformatics/btw096\n",
      "!--------------------------------------------------------\n",
      "\n",
      "-- AAM --\n",
      "0    [main] INFO  net.sf.jnati.deploy.artefact.ConfigManager  - Loading global configuration\n",
      "12   [main] DEBUG net.sf.jnati.deploy.artefact.ConfigManager  - Loading defaults: jar:file:/Users/krv114/Documents/GitHub/incawrapper/RDT.jar!/META-INF/jnati/jnati.default-properties\n",
      "13   [main] INFO  net.sf.jnati.deploy.artefact.ConfigManager  - Loading artefact configuration: jniinchi-1.03_1\n",
      "16   [main] DEBUG net.sf.jnati.deploy.artefact.ConfigManager  - Loading instance defaults: jar:file:/Users/krv114/Documents/GitHub/incawrapper/RDT.jar!/META-INF/jnati/jnati.instance.default-properties\n",
      "18   [main] INFO  net.sf.jnati.deploy.repository.ClasspathRepository  - Searching classpath for: jniinchi-1.03_1-MAC-X86_64\n",
      "19   [main] INFO  net.sf.jnati.deploy.repository.LocalRepository  - Searching local repository for: jniinchi-1.03_1-MAC-X86_64\n",
      "20   [main] DEBUG net.sf.jnati.deploy.repository.LocalRepository  - Artefact path: /Users/krv114/.jnati/repo/jniinchi/1.03_1/MAC-X86_64\n",
      "20   [main] INFO  net.sf.jnati.deploy.artefact.ManifestReader  - Reading manifest\n",
      "48   [main] INFO  net.sf.jnati.deploy.NativeArtefactLocator  - Artefact (jniinchi-1.03_1-MAC-X86_64) location: /Users/krv114/.jnati/repo/jniinchi/1.03_1/MAC-X86_64\n",
      "48   [main] DEBUG net.sf.jnati.deploy.NativeLibraryLoader  - Loading library: /Users/krv114/.jnati/repo/jniinchi/1.03_1/MAC-X86_64/JniInchi-1.03_1-MAC-X86_64\n",
      "Mapped RXN File /Users/krv114/Documents/GitHub/incawrapper/mappedRxns/ECBLAST_CS_AAM.rxn\n"
     ]
    },
    {
     "name": "stderr",
     "output_type": "stream",
     "text": [
      "Warning: the fonts \"Times\" and \"Times\" are not available for the Java logical font \"Serif\", which may have unexpected appearance or behavior. Re-enable the \"Times\" font to remove this warning.\n"
     ]
    },
    {
     "name": "stdout",
     "output_type": "stream",
     "text": [
      "Annotated RXN Image /Users/krv114/Documents/GitHub/incawrapper/mappedRxns/ECBLAST_CS_AAM.png\n",
      "Output is presented in text format: /Users/krv114/Documents/GitHub/incawrapper/mappedRxns/ECBLAST_CS_AAM.txt\n",
      "!--------------------------------------------------------\n",
      "Reaction Decoder Tool (RDT)\n",
      "\n",
      "Author: Syed Asad Rahman\n",
      "e-mail: asad@ebi.ac.uk|s9asad@gmail.com\n",
      "c/o EMBL-European BioInformatics Institute (EBI)\n",
      "WTGC, CB10 1SD Hinxton\n",
      "UK\n",
      "\n",
      "Note: The copyright of this software belongs to the author\n",
      "and EMBL-European BioInformatics Institute (EBI).\n",
      "\n",
      "Reference\n",
      "Rahman, S.A. et.al.(2016) Reaction Decoder Tool (RDT):\n",
      "Extracting Features from Chemical Reactions, Bioinformatics (2016)\n",
      "doi: 10.1093/bioinformatics/btw096\n",
      "!--------------------------------------------------------\n",
      "\n",
      "-- AAM --\n"
     ]
    },
    {
     "name": "stderr",
     "output_type": "stream",
     "text": [
      "uk.ac.ebi.reactionblast.mechanism.ReactionMechanismTool WARN: Number of atom(s) on the Left side 32 =/= Number of atom(s) on the Right side 38\n",
      "uk.ac.ebi.reactionblast.mechanism.ReactionMechanismTool WARN: {C=10, N=5, O=14, P=3} =/= {C=10, Ca=1, N=5, O=18, P=4}\n",
      "uk.ac.ebi.reactionblast.mechanism.ReactionMechanismTool WARN: Unmapped atoms present in this reaction(MIN) algorithm.\n"
     ]
    },
    {
     "name": "stdout",
     "output_type": "stream",
     "text": [
      "0    [main] INFO  net.sf.jnati.deploy.artefact.ConfigManager  - Loading global configuration\n",
      "11   [main] DEBUG net.sf.jnati.deploy.artefact.ConfigManager  - Loading defaults: jar:file:/Users/krv114/Documents/GitHub/incawrapper/RDT.jar!/META-INF/jnati/jnati.default-properties\n",
      "12   [main] INFO  net.sf.jnati.deploy.artefact.ConfigManager  - Loading artefact configuration: jniinchi-1.03_1\n",
      "15   [main] DEBUG net.sf.jnati.deploy.artefact.ConfigManager  - Loading instance defaults: jar:file:/Users/krv114/Documents/GitHub/incawrapper/RDT.jar!/META-INF/jnati/jnati.instance.default-properties\n",
      "17   [main] INFO  net.sf.jnati.deploy.repository.ClasspathRepository  - Searching classpath for: jniinchi-1.03_1-MAC-X86_64\n",
      "18   [main] INFO  net.sf.jnati.deploy.repository.LocalRepository  - Searching local repository for: jniinchi-1.03_1-MAC-X86_64\n",
      "18   [main] DEBUG net.sf.jnati.deploy.repository.LocalRepository  - Artefact path: /Users/krv114/.jnati/repo/jniinchi/1.03_1/MAC-X86_64\n",
      "19   [main] INFO  net.sf.jnati.deploy.artefact.ManifestReader  - Reading manifest\n",
      "49   [main] INFO  net.sf.jnati.deploy.NativeArtefactLocator  - Artefact (jniinchi-1.03_1-MAC-X86_64) location: /Users/krv114/.jnati/repo/jniinchi/1.03_1/MAC-X86_64\n",
      "49   [main] DEBUG net.sf.jnati.deploy.NativeLibraryLoader  - Loading library: /Users/krv114/.jnati/repo/jniinchi/1.03_1/MAC-X86_64/JniInchi-1.03_1-MAC-X86_64\n"
     ]
    },
    {
     "name": "stderr",
     "output_type": "stream",
     "text": [
      "uk.ac.ebi.reactionblast.mechanism.ReactionMechanismTool WARN: Unmapped atoms present in this reaction(MAX) algorithm.\n",
      "uk.ac.ebi.reactionblast.mechanism.ReactionMechanismTool WARN: Unmapped atoms present in this reaction(MIXTURE) algorithm.\n"
     ]
    },
    {
     "name": "stdout",
     "output_type": "stream",
     "text": [
      "Mapped RXN File /Users/krv114/Documents/GitHub/incawrapper/mappedRxns/ECBLAST_ATPM_AAM.rxn\n"
     ]
    },
    {
     "name": "stderr",
     "output_type": "stream",
     "text": [
      "Warning: the fonts \"Times\" and \"Times\" are not available for the Java logical font \"Serif\", which may have unexpected appearance or behavior. Re-enable the \"Times\" font to remove this warning.\n"
     ]
    },
    {
     "name": "stdout",
     "output_type": "stream",
     "text": [
      "Annotated RXN Image /Users/krv114/Documents/GitHub/incawrapper/mappedRxns/ECBLAST_ATPM_AAM.png\n",
      "Output is presented in text format: /Users/krv114/Documents/GitHub/incawrapper/mappedRxns/ECBLAST_ATPM_AAM.txt\n",
      "!--------------------------------------------------------\n",
      "Reaction Decoder Tool (RDT)\n",
      "\n",
      "Author: Syed Asad Rahman\n",
      "e-mail: asad@ebi.ac.uk|s9asad@gmail.com\n",
      "c/o EMBL-European BioInformatics Institute (EBI)\n",
      "WTGC, CB10 1SD Hinxton\n",
      "UK\n",
      "\n",
      "Note: The copyright of this software belongs to the author\n",
      "and EMBL-European BioInformatics Institute (EBI).\n",
      "\n",
      "Reference\n",
      "Rahman, S.A. et.al.(2016) Reaction Decoder Tool (RDT):\n",
      "Extracting Features from Chemical Reactions, Bioinformatics (2016)\n",
      "doi: 10.1093/bioinformatics/btw096\n",
      "!--------------------------------------------------------\n",
      "\n",
      "-- AAM --\n",
      "Mapped RXN File /Users/krv114/Documents/GitHub/incawrapper/mappedRxns/ECBLAST_ACt2r_AAM.rxn\n"
     ]
    },
    {
     "name": "stderr",
     "output_type": "stream",
     "text": [
      "Warning: the fonts \"Times\" and \"Times\" are not available for the Java logical font \"Serif\", which may have unexpected appearance or behavior. Re-enable the \"Times\" font to remove this warning.\n"
     ]
    },
    {
     "name": "stdout",
     "output_type": "stream",
     "text": [
      "Annotated RXN Image /Users/krv114/Documents/GitHub/incawrapper/mappedRxns/ECBLAST_ACt2r_AAM.png\n",
      "Output is presented in text format: /Users/krv114/Documents/GitHub/incawrapper/mappedRxns/ECBLAST_ACt2r_AAM.txt\n",
      "!--------------------------------------------------------\n",
      "Reaction Decoder Tool (RDT)\n",
      "\n",
      "Author: Syed Asad Rahman\n",
      "e-mail: asad@ebi.ac.uk|s9asad@gmail.com\n",
      "c/o EMBL-European BioInformatics Institute (EBI)\n",
      "WTGC, CB10 1SD Hinxton\n",
      "UK\n",
      "\n",
      "Note: The copyright of this software belongs to the author\n",
      "and EMBL-European BioInformatics Institute (EBI).\n",
      "\n",
      "Reference\n",
      "Rahman, S.A. et.al.(2016) Reaction Decoder Tool (RDT):\n",
      "Extracting Features from Chemical Reactions, Bioinformatics (2016)\n",
      "doi: 10.1093/bioinformatics/btw096\n",
      "!--------------------------------------------------------\n",
      "\n",
      "-- AAM --\n"
     ]
    },
    {
     "name": "stderr",
     "output_type": "stream",
     "text": [
      "uk.ac.ebi.reactionblast.mechanism.ReactionMechanismTool WARN: Number of atom(s) on the Left side 54 =/= Number of atom(s) on the Right side 55\n",
      "uk.ac.ebi.reactionblast.mechanism.ReactionMechanismTool WARN: {C=24, N=7, O=19, P=3, S=1} =/= {C=24, N=8, O=19, P=3, S=1}\n",
      "uk.ac.ebi.reactionblast.mechanism.ReactionMechanismTool WARN: Unmapped atoms present in this reaction(MIN) algorithm.\n"
     ]
    },
    {
     "name": "stdout",
     "output_type": "stream",
     "text": [
      "0    [main] INFO  net.sf.jnati.deploy.artefact.ConfigManager  - Loading global configuration\n",
      "8    [main] DEBUG net.sf.jnati.deploy.artefact.ConfigManager  - Loading defaults: jar:file:/Users/krv114/Documents/GitHub/incawrapper/RDT.jar!/META-INF/jnati/jnati.default-properties\n",
      "9    [main] INFO  net.sf.jnati.deploy.artefact.ConfigManager  - Loading artefact configuration: jniinchi-1.03_1\n",
      "12   [main] DEBUG net.sf.jnati.deploy.artefact.ConfigManager  - Loading instance defaults: jar:file:/Users/krv114/Documents/GitHub/incawrapper/RDT.jar!/META-INF/jnati/jnati.instance.default-properties\n",
      "14   [main] INFO  net.sf.jnati.deploy.repository.ClasspathRepository  - Searching classpath for: jniinchi-1.03_1-MAC-X86_64\n",
      "15   [main] INFO  net.sf.jnati.deploy.repository.LocalRepository  - Searching local repository for: jniinchi-1.03_1-MAC-X86_64\n",
      "15   [main] DEBUG net.sf.jnati.deploy.repository.LocalRepository  - Artefact path: /Users/krv114/.jnati/repo/jniinchi/1.03_1/MAC-X86_64\n",
      "15   [main] INFO  net.sf.jnati.deploy.artefact.ManifestReader  - Reading manifest\n",
      "45   [main] INFO  net.sf.jnati.deploy.NativeArtefactLocator  - Artefact (jniinchi-1.03_1-MAC-X86_64) location: /Users/krv114/.jnati/repo/jniinchi/1.03_1/MAC-X86_64\n",
      "45   [main] DEBUG net.sf.jnati.deploy.NativeLibraryLoader  - Loading library: /Users/krv114/.jnati/repo/jniinchi/1.03_1/MAC-X86_64/JniInchi-1.03_1-MAC-X86_64\n"
     ]
    },
    {
     "name": "stderr",
     "output_type": "stream",
     "text": [
      "uk.ac.ebi.reactionblast.mechanism.ReactionMechanismTool WARN: Unmapped atoms present in this reaction(MAX) algorithm.\n",
      "uk.ac.ebi.reactionblast.mechanism.ReactionMechanismTool WARN: Unmapped atoms present in this reaction(MIXTURE) algorithm.\n"
     ]
    },
    {
     "name": "stdout",
     "output_type": "stream",
     "text": [
      "Mapped RXN File /Users/krv114/Documents/GitHub/incawrapper/mappedRxns/ECBLAST_PFL_AAM.rxn\n"
     ]
    },
    {
     "name": "stderr",
     "output_type": "stream",
     "text": [
      "Warning: the fonts \"Times\" and \"Times\" are not available for the Java logical font \"Serif\", which may have unexpected appearance or behavior. Re-enable the \"Times\" font to remove this warning.\n"
     ]
    },
    {
     "name": "stdout",
     "output_type": "stream",
     "text": [
      "Annotated RXN Image /Users/krv114/Documents/GitHub/incawrapper/mappedRxns/ECBLAST_PFL_AAM.png\n",
      "Output is presented in text format: /Users/krv114/Documents/GitHub/incawrapper/mappedRxns/ECBLAST_PFL_AAM.txt\n",
      "!--------------------------------------------------------\n",
      "Reaction Decoder Tool (RDT)\n",
      "\n",
      "Author: Syed Asad Rahman\n",
      "e-mail: asad@ebi.ac.uk|s9asad@gmail.com\n",
      "c/o EMBL-European BioInformatics Institute (EBI)\n",
      "WTGC, CB10 1SD Hinxton\n",
      "UK\n",
      "\n",
      "Note: The copyright of this software belongs to the author\n",
      "and EMBL-European BioInformatics Institute (EBI).\n",
      "\n",
      "Reference\n",
      "Rahman, S.A. et.al.(2016) Reaction Decoder Tool (RDT):\n",
      "Extracting Features from Chemical Reactions, Bioinformatics (2016)\n",
      "doi: 10.1093/bioinformatics/btw096\n",
      "!--------------------------------------------------------\n",
      "\n",
      "-- AAM --\n",
      "0    [main] INFO  net.sf.jnati.deploy.artefact.ConfigManager  - Loading global configuration\n",
      "12   [main] DEBUG net.sf.jnati.deploy.artefact.ConfigManager  - Loading defaults: jar:file:/Users/krv114/Documents/GitHub/incawrapper/RDT.jar!/META-INF/jnati/jnati.default-properties\n",
      "14   [main] INFO  net.sf.jnati.deploy.artefact.ConfigManager  - Loading artefact configuration: jniinchi-1.03_1\n",
      "16   [main] DEBUG net.sf.jnati.deploy.artefact.ConfigManager  - Loading instance defaults: jar:file:/Users/krv114/Documents/GitHub/incawrapper/RDT.jar!/META-INF/jnati/jnati.instance.default-properties\n",
      "20   [main] INFO  net.sf.jnati.deploy.repository.ClasspathRepository  - Searching classpath for: jniinchi-1.03_1-MAC-X86_64\n",
      "21   [main] INFO  net.sf.jnati.deploy.repository.LocalRepository  - Searching local repository for: jniinchi-1.03_1-MAC-X86_64\n",
      "21   [main] DEBUG net.sf.jnati.deploy.repository.LocalRepository  - Artefact path: /Users/krv114/.jnati/repo/jniinchi/1.03_1/MAC-X86_64\n",
      "21   [main] INFO  net.sf.jnati.deploy.artefact.ManifestReader  - Reading manifest\n",
      "52   [main] INFO  net.sf.jnati.deploy.NativeArtefactLocator  - Artefact (jniinchi-1.03_1-MAC-X86_64) location: /Users/krv114/.jnati/repo/jniinchi/1.03_1/MAC-X86_64\n",
      "52   [main] DEBUG net.sf.jnati.deploy.NativeLibraryLoader  - Loading library: /Users/krv114/.jnati/repo/jniinchi/1.03_1/MAC-X86_64/JniInchi-1.03_1-MAC-X86_64\n",
      "Mapped RXN File /Users/krv114/Documents/GitHub/incawrapper/mappedRxns/ECBLAST_PGL_AAM.rxn\n"
     ]
    },
    {
     "name": "stderr",
     "output_type": "stream",
     "text": [
      "Warning: the fonts \"Times\" and \"Times\" are not available for the Java logical font \"Serif\", which may have unexpected appearance or behavior. Re-enable the \"Times\" font to remove this warning.\n"
     ]
    },
    {
     "name": "stdout",
     "output_type": "stream",
     "text": [
      "Annotated RXN Image /Users/krv114/Documents/GitHub/incawrapper/mappedRxns/ECBLAST_PGL_AAM.png\n",
      "Output is presented in text format: /Users/krv114/Documents/GitHub/incawrapper/mappedRxns/ECBLAST_PGL_AAM.txt\n",
      "!--------------------------------------------------------\n",
      "Reaction Decoder Tool (RDT)\n",
      "\n",
      "Author: Syed Asad Rahman\n",
      "e-mail: asad@ebi.ac.uk|s9asad@gmail.com\n",
      "c/o EMBL-European BioInformatics Institute (EBI)\n",
      "WTGC, CB10 1SD Hinxton\n",
      "UK\n",
      "\n",
      "Note: The copyright of this software belongs to the author\n",
      "and EMBL-European BioInformatics Institute (EBI).\n",
      "\n",
      "Reference\n",
      "Rahman, S.A. et.al.(2016) Reaction Decoder Tool (RDT):\n",
      "Extracting Features from Chemical Reactions, Bioinformatics (2016)\n",
      "doi: 10.1093/bioinformatics/btw096\n",
      "!--------------------------------------------------------\n",
      "\n",
      "-- AAM --\n"
     ]
    },
    {
     "name": "stderr",
     "output_type": "stream",
     "text": [
      "uk.ac.ebi.reactionblast.mechanism.ReactionMechanismTool WARN: Number of atom(s) on the Left side 97 =/= Number of atom(s) on the Right side 60\n",
      "uk.ac.ebi.reactionblast.mechanism.ReactionMechanismTool WARN: {C=70, N=7, O=18, P=2} =/= {C=36, N=7, O=15, P=2}\n"
     ]
    },
    {
     "name": "stdout",
     "output_type": "stream",
     "text": [
      "!--------------------------------------------------------\n",
      "Reaction Decoder Tool (RDT)\n",
      "\n",
      "Author: Syed Asad Rahman\n",
      "e-mail: asad@ebi.ac.uk|s9asad@gmail.com\n",
      "c/o EMBL-European BioInformatics Institute (EBI)\n",
      "WTGC, CB10 1SD Hinxton\n",
      "UK\n",
      "\n",
      "Note: The copyright of this software belongs to the author\n",
      "and EMBL-European BioInformatics Institute (EBI).\n",
      "\n",
      "Reference\n",
      "Rahman, S.A. et.al.(2016) Reaction Decoder Tool (RDT):\n",
      "Extracting Features from Chemical Reactions, Bioinformatics (2016)\n",
      "doi: 10.1093/bioinformatics/btw096\n",
      "!--------------------------------------------------------\n",
      "\n",
      "-- AAM --\n",
      "Mapped RXN File /Users/krv114/Documents/GitHub/incawrapper/mappedRxns/ECBLAST_O2t_AAM.rxn\n"
     ]
    },
    {
     "name": "stderr",
     "output_type": "stream",
     "text": [
      "Warning: the fonts \"Times\" and \"Times\" are not available for the Java logical font \"Serif\", which may have unexpected appearance or behavior. Re-enable the \"Times\" font to remove this warning.\n"
     ]
    },
    {
     "name": "stdout",
     "output_type": "stream",
     "text": [
      "Annotated RXN Image /Users/krv114/Documents/GitHub/incawrapper/mappedRxns/ECBLAST_O2t_AAM.png\n",
      "Output is presented in text format: /Users/krv114/Documents/GitHub/incawrapper/mappedRxns/ECBLAST_O2t_AAM.txt\n",
      "!--------------------------------------------------------\n",
      "Reaction Decoder Tool (RDT)\n",
      "\n",
      "Author: Syed Asad Rahman\n",
      "e-mail: asad@ebi.ac.uk|s9asad@gmail.com\n",
      "c/o EMBL-European BioInformatics Institute (EBI)\n",
      "WTGC, CB10 1SD Hinxton\n",
      "UK\n",
      "\n",
      "Note: The copyright of this software belongs to the author\n",
      "and EMBL-European BioInformatics Institute (EBI).\n",
      "\n",
      "Reference\n",
      "Rahman, S.A. et.al.(2016) Reaction Decoder Tool (RDT):\n",
      "Extracting Features from Chemical Reactions, Bioinformatics (2016)\n",
      "doi: 10.1093/bioinformatics/btw096\n",
      "!--------------------------------------------------------\n",
      "\n",
      "-- AAM --\n",
      "0    [main] INFO  net.sf.jnati.deploy.artefact.ConfigManager  - Loading global configuration\n",
      "8    [main] DEBUG net.sf.jnati.deploy.artefact.ConfigManager  - Loading defaults: jar:file:/Users/krv114/Documents/GitHub/incawrapper/RDT.jar!/META-INF/jnati/jnati.default-properties\n",
      "9    [main] INFO  net.sf.jnati.deploy.artefact.ConfigManager  - Loading artefact configuration: jniinchi-1.03_1\n",
      "12   [main] DEBUG net.sf.jnati.deploy.artefact.ConfigManager  - Loading instance defaults: jar:file:/Users/krv114/Documents/GitHub/incawrapper/RDT.jar!/META-INF/jnati/jnati.instance.default-properties\n",
      "14   [main] INFO  net.sf.jnati.deploy.repository.ClasspathRepository  - Searching classpath for: jniinchi-1.03_1-MAC-X86_64\n",
      "15   [main] INFO  net.sf.jnati.deploy.repository.LocalRepository  - Searching local repository for: jniinchi-1.03_1-MAC-X86_64\n",
      "15   [main] DEBUG net.sf.jnati.deploy.repository.LocalRepository  - Artefact path: /Users/krv114/.jnati/repo/jniinchi/1.03_1/MAC-X86_64\n",
      "15   [main] INFO  net.sf.jnati.deploy.artefact.ManifestReader  - Reading manifest\n",
      "46   [main] INFO  net.sf.jnati.deploy.NativeArtefactLocator  - Artefact (jniinchi-1.03_1-MAC-X86_64) location: /Users/krv114/.jnati/repo/jniinchi/1.03_1/MAC-X86_64\n",
      "46   [main] DEBUG net.sf.jnati.deploy.NativeLibraryLoader  - Loading library: /Users/krv114/.jnati/repo/jniinchi/1.03_1/MAC-X86_64/JniInchi-1.03_1-MAC-X86_64\n",
      "Mapped RXN File /Users/krv114/Documents/GitHub/incawrapper/mappedRxns/ECBLAST_TALA_AAM.rxn\n"
     ]
    },
    {
     "name": "stderr",
     "output_type": "stream",
     "text": [
      "Warning: the fonts \"Times\" and \"Times\" are not available for the Java logical font \"Serif\", which may have unexpected appearance or behavior. Re-enable the \"Times\" font to remove this warning.\n"
     ]
    },
    {
     "name": "stdout",
     "output_type": "stream",
     "text": [
      "Annotated RXN Image /Users/krv114/Documents/GitHub/incawrapper/mappedRxns/ECBLAST_TALA_AAM.png\n",
      "Output is presented in text format: /Users/krv114/Documents/GitHub/incawrapper/mappedRxns/ECBLAST_TALA_AAM.txt\n",
      "!--------------------------------------------------------\n",
      "Reaction Decoder Tool (RDT)\n",
      "\n",
      "Author: Syed Asad Rahman\n",
      "e-mail: asad@ebi.ac.uk|s9asad@gmail.com\n",
      "c/o EMBL-European BioInformatics Institute (EBI)\n",
      "WTGC, CB10 1SD Hinxton\n",
      "UK\n",
      "\n",
      "Note: The copyright of this software belongs to the author\n",
      "and EMBL-European BioInformatics Institute (EBI).\n",
      "\n",
      "Reference\n",
      "Rahman, S.A. et.al.(2016) Reaction Decoder Tool (RDT):\n",
      "Extracting Features from Chemical Reactions, Bioinformatics (2016)\n",
      "doi: 10.1093/bioinformatics/btw096\n",
      "!--------------------------------------------------------\n",
      "\n",
      "-- AAM --\n",
      "Mapped RXN File /Users/krv114/Documents/GitHub/incawrapper/mappedRxns/ECBLAST_FORt2_AAM.rxn\n"
     ]
    },
    {
     "name": "stderr",
     "output_type": "stream",
     "text": [
      "Warning: the fonts \"Times\" and \"Times\" are not available for the Java logical font \"Serif\", which may have unexpected appearance or behavior. Re-enable the \"Times\" font to remove this warning.\n"
     ]
    },
    {
     "name": "stdout",
     "output_type": "stream",
     "text": [
      "Annotated RXN Image /Users/krv114/Documents/GitHub/incawrapper/mappedRxns/ECBLAST_FORt2_AAM.png\n",
      "Output is presented in text format: /Users/krv114/Documents/GitHub/incawrapper/mappedRxns/ECBLAST_FORt2_AAM.txt\n",
      "!--------------------------------------------------------\n",
      "Reaction Decoder Tool (RDT)\n",
      "\n",
      "Author: Syed Asad Rahman\n",
      "e-mail: asad@ebi.ac.uk|s9asad@gmail.com\n",
      "c/o EMBL-European BioInformatics Institute (EBI)\n",
      "WTGC, CB10 1SD Hinxton\n",
      "UK\n",
      "\n",
      "Note: The copyright of this software belongs to the author\n",
      "and EMBL-European BioInformatics Institute (EBI).\n",
      "\n",
      "Reference\n",
      "Rahman, S.A. et.al.(2016) Reaction Decoder Tool (RDT):\n",
      "Extracting Features from Chemical Reactions, Bioinformatics (2016)\n",
      "doi: 10.1093/bioinformatics/btw096\n",
      "!--------------------------------------------------------\n",
      "\n",
      "-- AAM --\n"
     ]
    },
    {
     "name": "stderr",
     "output_type": "stream",
     "text": [
      "uk.ac.ebi.reactionblast.mechanism.ReactionMechanismTool WARN: Number of atom(s) on the Left side 38 =/= Number of atom(s) on the Right side 44\n",
      "uk.ac.ebi.reactionblast.mechanism.ReactionMechanismTool WARN: {C=13, N=5, O=17, P=3} =/= {C=13, Ca=1, N=5, O=21, P=4}\n",
      "uk.ac.ebi.reactionblast.mechanism.ReactionMechanismTool WARN: Unmapped atoms present in this reaction(MIN) algorithm.\n"
     ]
    },
    {
     "name": "stdout",
     "output_type": "stream",
     "text": [
      "0    [main] INFO  net.sf.jnati.deploy.artefact.ConfigManager  - Loading global configuration\n",
      "11   [main] DEBUG net.sf.jnati.deploy.artefact.ConfigManager  - Loading defaults: jar:file:/Users/krv114/Documents/GitHub/incawrapper/RDT.jar!/META-INF/jnati/jnati.default-properties\n",
      "12   [main] INFO  net.sf.jnati.deploy.artefact.ConfigManager  - Loading artefact configuration: jniinchi-1.03_1\n",
      "14   [main] DEBUG net.sf.jnati.deploy.artefact.ConfigManager  - Loading instance defaults: jar:file:/Users/krv114/Documents/GitHub/incawrapper/RDT.jar!/META-INF/jnati/jnati.instance.default-properties\n",
      "17   [main] INFO  net.sf.jnati.deploy.repository.ClasspathRepository  - Searching classpath for: jniinchi-1.03_1-MAC-X86_64\n",
      "18   [main] INFO  net.sf.jnati.deploy.repository.LocalRepository  - Searching local repository for: jniinchi-1.03_1-MAC-X86_64\n",
      "18   [main] DEBUG net.sf.jnati.deploy.repository.LocalRepository  - Artefact path: /Users/krv114/.jnati/repo/jniinchi/1.03_1/MAC-X86_64\n",
      "19   [main] INFO  net.sf.jnati.deploy.artefact.ManifestReader  - Reading manifest\n",
      "51   [main] INFO  net.sf.jnati.deploy.NativeArtefactLocator  - Artefact (jniinchi-1.03_1-MAC-X86_64) location: /Users/krv114/.jnati/repo/jniinchi/1.03_1/MAC-X86_64\n",
      "51   [main] DEBUG net.sf.jnati.deploy.NativeLibraryLoader  - Loading library: /Users/krv114/.jnati/repo/jniinchi/1.03_1/MAC-X86_64/JniInchi-1.03_1-MAC-X86_64\n"
     ]
    },
    {
     "name": "stderr",
     "output_type": "stream",
     "text": [
      "uk.ac.ebi.reactionblast.mechanism.ReactionMechanismTool WARN: Unmapped atoms present in this reaction(MAX) algorithm.\n",
      "uk.ac.ebi.reactionblast.mechanism.ReactionMechanismTool WARN: Unmapped atoms present in this reaction(MIXTURE) algorithm.\n"
     ]
    },
    {
     "name": "stdout",
     "output_type": "stream",
     "text": [
      "Mapped RXN File /Users/krv114/Documents/GitHub/incawrapper/mappedRxns/ECBLAST_PPS_AAM.rxn\n"
     ]
    },
    {
     "name": "stderr",
     "output_type": "stream",
     "text": [
      "Warning: the fonts \"Times\" and \"Times\" are not available for the Java logical font \"Serif\", which may have unexpected appearance or behavior. Re-enable the \"Times\" font to remove this warning.\n"
     ]
    },
    {
     "name": "stdout",
     "output_type": "stream",
     "text": [
      "Annotated RXN Image /Users/krv114/Documents/GitHub/incawrapper/mappedRxns/ECBLAST_PPS_AAM.png\n",
      "Output is presented in text format: /Users/krv114/Documents/GitHub/incawrapper/mappedRxns/ECBLAST_PPS_AAM.txt\n",
      "!--------------------------------------------------------\n",
      "Reaction Decoder Tool (RDT)\n",
      "\n",
      "Author: Syed Asad Rahman\n",
      "e-mail: asad@ebi.ac.uk|s9asad@gmail.com\n",
      "c/o EMBL-European BioInformatics Institute (EBI)\n",
      "WTGC, CB10 1SD Hinxton\n",
      "UK\n",
      "\n",
      "Note: The copyright of this software belongs to the author\n",
      "and EMBL-European BioInformatics Institute (EBI).\n",
      "\n",
      "Reference\n",
      "Rahman, S.A. et.al.(2016) Reaction Decoder Tool (RDT):\n",
      "Extracting Features from Chemical Reactions, Bioinformatics (2016)\n",
      "doi: 10.1093/bioinformatics/btw096\n",
      "!--------------------------------------------------------\n",
      "\n",
      "-- AAM --\n",
      "0    [main] INFO  net.sf.jnati.deploy.artefact.ConfigManager  - Loading global configuration\n",
      "9    [main] DEBUG net.sf.jnati.deploy.artefact.ConfigManager  - Loading defaults: jar:file:/Users/krv114/Documents/GitHub/incawrapper/RDT.jar!/META-INF/jnati/jnati.default-properties\n",
      "9    [main] INFO  net.sf.jnati.deploy.artefact.ConfigManager  - Loading artefact configuration: jniinchi-1.03_1\n",
      "13   [main] DEBUG net.sf.jnati.deploy.artefact.ConfigManager  - Loading instance defaults: jar:file:/Users/krv114/Documents/GitHub/incawrapper/RDT.jar!/META-INF/jnati/jnati.instance.default-properties\n",
      "15   [main] INFO  net.sf.jnati.deploy.repository.ClasspathRepository  - Searching classpath for: jniinchi-1.03_1-MAC-X86_64\n",
      "16   [main] INFO  net.sf.jnati.deploy.repository.LocalRepository  - Searching local repository for: jniinchi-1.03_1-MAC-X86_64\n",
      "16   [main] DEBUG net.sf.jnati.deploy.repository.LocalRepository  - Artefact path: /Users/krv114/.jnati/repo/jniinchi/1.03_1/MAC-X86_64\n",
      "16   [main] INFO  net.sf.jnati.deploy.artefact.ManifestReader  - Reading manifest\n",
      "46   [main] INFO  net.sf.jnati.deploy.NativeArtefactLocator  - Artefact (jniinchi-1.03_1-MAC-X86_64) location: /Users/krv114/.jnati/repo/jniinchi/1.03_1/MAC-X86_64\n",
      "46   [main] DEBUG net.sf.jnati.deploy.NativeLibraryLoader  - Loading library: /Users/krv114/.jnati/repo/jniinchi/1.03_1/MAC-X86_64/JniInchi-1.03_1-MAC-X86_64\n",
      "Mapped RXN File /Users/krv114/Documents/GitHub/incawrapper/mappedRxns/ECBLAST_PGM_AAM.rxn\n"
     ]
    },
    {
     "name": "stderr",
     "output_type": "stream",
     "text": [
      "Warning: the fonts \"Times\" and \"Times\" are not available for the Java logical font \"Serif\", which may have unexpected appearance or behavior. Re-enable the \"Times\" font to remove this warning.\n"
     ]
    },
    {
     "name": "stdout",
     "output_type": "stream",
     "text": [
      "Annotated RXN Image /Users/krv114/Documents/GitHub/incawrapper/mappedRxns/ECBLAST_PGM_AAM.png\n",
      "Output is presented in text format: /Users/krv114/Documents/GitHub/incawrapper/mappedRxns/ECBLAST_PGM_AAM.txt\n",
      "!--------------------------------------------------------\n",
      "Reaction Decoder Tool (RDT)\n",
      "\n",
      "Author: Syed Asad Rahman\n",
      "e-mail: asad@ebi.ac.uk|s9asad@gmail.com\n",
      "c/o EMBL-European BioInformatics Institute (EBI)\n",
      "WTGC, CB10 1SD Hinxton\n",
      "UK\n",
      "\n",
      "Note: The copyright of this software belongs to the author\n",
      "and EMBL-European BioInformatics Institute (EBI).\n",
      "\n",
      "Reference\n",
      "Rahman, S.A. et.al.(2016) Reaction Decoder Tool (RDT):\n",
      "Extracting Features from Chemical Reactions, Bioinformatics (2016)\n",
      "doi: 10.1093/bioinformatics/btw096\n",
      "!--------------------------------------------------------\n",
      "\n",
      "-- AAM --\n",
      "0    [main] INFO  net.sf.jnati.deploy.artefact.ConfigManager  - Loading global configuration\n",
      "11   [main] DEBUG net.sf.jnati.deploy.artefact.ConfigManager  - Loading defaults: jar:file:/Users/krv114/Documents/GitHub/incawrapper/RDT.jar!/META-INF/jnati/jnati.default-properties\n",
      "13   [main] INFO  net.sf.jnati.deploy.artefact.ConfigManager  - Loading artefact configuration: jniinchi-1.03_1\n",
      "16   [main] DEBUG net.sf.jnati.deploy.artefact.ConfigManager  - Loading instance defaults: jar:file:/Users/krv114/Documents/GitHub/incawrapper/RDT.jar!/META-INF/jnati/jnati.instance.default-properties\n",
      "18   [main] INFO  net.sf.jnati.deploy.repository.ClasspathRepository  - Searching classpath for: jniinchi-1.03_1-MAC-X86_64\n",
      "19   [main] INFO  net.sf.jnati.deploy.repository.LocalRepository  - Searching local repository for: jniinchi-1.03_1-MAC-X86_64\n",
      "19   [main] DEBUG net.sf.jnati.deploy.repository.LocalRepository  - Artefact path: /Users/krv114/.jnati/repo/jniinchi/1.03_1/MAC-X86_64\n",
      "20   [main] INFO  net.sf.jnati.deploy.artefact.ManifestReader  - Reading manifest\n",
      "49   [main] INFO  net.sf.jnati.deploy.NativeArtefactLocator  - Artefact (jniinchi-1.03_1-MAC-X86_64) location: /Users/krv114/.jnati/repo/jniinchi/1.03_1/MAC-X86_64\n",
      "49   [main] DEBUG net.sf.jnati.deploy.NativeLibraryLoader  - Loading library: /Users/krv114/.jnati/repo/jniinchi/1.03_1/MAC-X86_64/JniInchi-1.03_1-MAC-X86_64\n",
      "Mapped RXN File /Users/krv114/Documents/GitHub/incawrapper/mappedRxns/ECBLAST_PFK_AAM.rxn\n"
     ]
    },
    {
     "name": "stderr",
     "output_type": "stream",
     "text": [
      "Warning: the fonts \"Times\" and \"Times\" are not available for the Java logical font \"Serif\", which may have unexpected appearance or behavior. Re-enable the \"Times\" font to remove this warning.\n"
     ]
    },
    {
     "name": "stdout",
     "output_type": "stream",
     "text": [
      "Annotated RXN Image /Users/krv114/Documents/GitHub/incawrapper/mappedRxns/ECBLAST_PFK_AAM.png\n",
      "Output is presented in text format: /Users/krv114/Documents/GitHub/incawrapper/mappedRxns/ECBLAST_PFK_AAM.txt\n",
      "!--------------------------------------------------------\n",
      "Reaction Decoder Tool (RDT)\n",
      "\n",
      "Author: Syed Asad Rahman\n",
      "e-mail: asad@ebi.ac.uk|s9asad@gmail.com\n",
      "c/o EMBL-European BioInformatics Institute (EBI)\n",
      "WTGC, CB10 1SD Hinxton\n",
      "UK\n",
      "\n",
      "Note: The copyright of this software belongs to the author\n",
      "and EMBL-European BioInformatics Institute (EBI).\n",
      "\n",
      "Reference\n",
      "Rahman, S.A. et.al.(2016) Reaction Decoder Tool (RDT):\n",
      "Extracting Features from Chemical Reactions, Bioinformatics (2016)\n",
      "doi: 10.1093/bioinformatics/btw096\n",
      "!--------------------------------------------------------\n",
      "\n",
      "-- AAM --\n"
     ]
    },
    {
     "name": "stderr",
     "output_type": "stream",
     "text": [
      "uk.ac.ebi.reactionblast.mechanism.ReactionMechanismTool WARN: Number of atom(s) on the Left side 16 =/= Number of atom(s) on the Right side 54\n",
      "uk.ac.ebi.reactionblast.mechanism.ReactionMechanismTool WARN: {C=15, O=1} =/= {C=49, O=5}\n",
      "uk.ac.ebi.reactionblast.mechanism.ReactionMechanismTool WARN: Unmapped atoms present in this reaction(MIN) algorithm.\n"
     ]
    },
    {
     "name": "stdout",
     "output_type": "stream",
     "text": [
      "0    [main] INFO  net.sf.jnati.deploy.artefact.ConfigManager  - Loading global configuration\n",
      "12   [main] DEBUG net.sf.jnati.deploy.artefact.ConfigManager  - Loading defaults: jar:file:/Users/krv114/Documents/GitHub/incawrapper/RDT.jar!/META-INF/jnati/jnati.default-properties\n",
      "13   [main] INFO  net.sf.jnati.deploy.artefact.ConfigManager  - Loading artefact configuration: jniinchi-1.03_1\n",
      "15   [main] DEBUG net.sf.jnati.deploy.artefact.ConfigManager  - Loading instance defaults: jar:file:/Users/krv114/Documents/GitHub/incawrapper/RDT.jar!/META-INF/jnati/jnati.instance.default-properties\n",
      "17   [main] INFO  net.sf.jnati.deploy.repository.ClasspathRepository  - Searching classpath for: jniinchi-1.03_1-MAC-X86_64\n",
      "19   [main] INFO  net.sf.jnati.deploy.repository.LocalRepository  - Searching local repository for: jniinchi-1.03_1-MAC-X86_64\n",
      "19   [main] DEBUG net.sf.jnati.deploy.repository.LocalRepository  - Artefact path: /Users/krv114/.jnati/repo/jniinchi/1.03_1/MAC-X86_64\n",
      "19   [main] INFO  net.sf.jnati.deploy.artefact.ManifestReader  - Reading manifest\n",
      "52   [main] INFO  net.sf.jnati.deploy.NativeArtefactLocator  - Artefact (jniinchi-1.03_1-MAC-X86_64) location: /Users/krv114/.jnati/repo/jniinchi/1.03_1/MAC-X86_64\n",
      "52   [main] DEBUG net.sf.jnati.deploy.NativeLibraryLoader  - Loading library: /Users/krv114/.jnati/repo/jniinchi/1.03_1/MAC-X86_64/JniInchi-1.03_1-MAC-X86_64\n",
      "!--------------------------------------------------------\n",
      "Reaction Decoder Tool (RDT)\n",
      "\n",
      "Author: Syed Asad Rahman\n",
      "e-mail: asad@ebi.ac.uk|s9asad@gmail.com\n",
      "c/o EMBL-European BioInformatics Institute (EBI)\n",
      "WTGC, CB10 1SD Hinxton\n",
      "UK\n",
      "\n",
      "Note: The copyright of this software belongs to the author\n",
      "and EMBL-European BioInformatics Institute (EBI).\n",
      "\n",
      "Reference\n",
      "Rahman, S.A. et.al.(2016) Reaction Decoder Tool (RDT):\n",
      "Extracting Features from Chemical Reactions, Bioinformatics (2016)\n",
      "doi: 10.1093/bioinformatics/btw096\n",
      "!--------------------------------------------------------\n",
      "\n",
      "-- AAM --\n"
     ]
    },
    {
     "name": "stderr",
     "output_type": "stream",
     "text": [
      "uk.ac.ebi.reactionblast.mechanism.ReactionMechanismTool WARN: Number of atom(s) on the Left side 24 =/= Number of atom(s) on the Right side 61\n",
      "uk.ac.ebi.reactionblast.mechanism.ReactionMechanismTool WARN: {C=19, O=5} =/= {C=53, O=8}\n"
     ]
    },
    {
     "name": "stdout",
     "output_type": "stream",
     "text": [
      "!--------------------------------------------------------\n",
      "Reaction Decoder Tool (RDT)\n",
      "\n",
      "Author: Syed Asad Rahman\n",
      "e-mail: asad@ebi.ac.uk|s9asad@gmail.com\n",
      "c/o EMBL-European BioInformatics Institute (EBI)\n",
      "WTGC, CB10 1SD Hinxton\n",
      "UK\n",
      "\n",
      "Note: The copyright of this software belongs to the author\n",
      "and EMBL-European BioInformatics Institute (EBI).\n",
      "\n",
      "Reference\n",
      "Rahman, S.A. et.al.(2016) Reaction Decoder Tool (RDT):\n",
      "Extracting Features from Chemical Reactions, Bioinformatics (2016)\n",
      "doi: 10.1093/bioinformatics/btw096\n",
      "!--------------------------------------------------------\n",
      "\n",
      "-- AAM --\n",
      "Mapped RXN File /Users/krv114/Documents/GitHub/incawrapper/mappedRxns/ECBLAST_PYRt2_AAM.rxn\n"
     ]
    },
    {
     "name": "stderr",
     "output_type": "stream",
     "text": [
      "Warning: the fonts \"Times\" and \"Times\" are not available for the Java logical font \"Serif\", which may have unexpected appearance or behavior. Re-enable the \"Times\" font to remove this warning.\n"
     ]
    },
    {
     "name": "stdout",
     "output_type": "stream",
     "text": [
      "Annotated RXN Image /Users/krv114/Documents/GitHub/incawrapper/mappedRxns/ECBLAST_PYRt2_AAM.png\n",
      "Output is presented in text format: /Users/krv114/Documents/GitHub/incawrapper/mappedRxns/ECBLAST_PYRt2_AAM.txt\n",
      "!--------------------------------------------------------\n",
      "Reaction Decoder Tool (RDT)\n",
      "\n",
      "Author: Syed Asad Rahman\n",
      "e-mail: asad@ebi.ac.uk|s9asad@gmail.com\n",
      "c/o EMBL-European BioInformatics Institute (EBI)\n",
      "WTGC, CB10 1SD Hinxton\n",
      "UK\n",
      "\n",
      "Note: The copyright of this software belongs to the author\n",
      "and EMBL-European BioInformatics Institute (EBI).\n",
      "\n",
      "Reference\n",
      "Rahman, S.A. et.al.(2016) Reaction Decoder Tool (RDT):\n",
      "Extracting Features from Chemical Reactions, Bioinformatics (2016)\n",
      "doi: 10.1093/bioinformatics/btw096\n",
      "!--------------------------------------------------------\n",
      "\n",
      "-- AAM --\n"
     ]
    },
    {
     "name": "stderr",
     "output_type": "stream",
     "text": [
      "uk.ac.ebi.reactionblast.mechanism.ReactionMechanismTool WARN: Unmapped atoms present in this reaction(MIN) algorithm.\n"
     ]
    },
    {
     "name": "stdout",
     "output_type": "stream",
     "text": [
      "0    [main] INFO  net.sf.jnati.deploy.artefact.ConfigManager  - Loading global configuration\n",
      "10   [main] DEBUG net.sf.jnati.deploy.artefact.ConfigManager  - Loading defaults: jar:file:/Users/krv114/Documents/GitHub/incawrapper/RDT.jar!/META-INF/jnati/jnati.default-properties\n",
      "12   [main] INFO  net.sf.jnati.deploy.artefact.ConfigManager  - Loading artefact configuration: jniinchi-1.03_1\n",
      "15   [main] DEBUG net.sf.jnati.deploy.artefact.ConfigManager  - Loading instance defaults: jar:file:/Users/krv114/Documents/GitHub/incawrapper/RDT.jar!/META-INF/jnati/jnati.instance.default-properties\n",
      "17   [main] INFO  net.sf.jnati.deploy.repository.ClasspathRepository  - Searching classpath for: jniinchi-1.03_1-MAC-X86_64\n",
      "18   [main] INFO  net.sf.jnati.deploy.repository.LocalRepository  - Searching local repository for: jniinchi-1.03_1-MAC-X86_64\n",
      "18   [main] DEBUG net.sf.jnati.deploy.repository.LocalRepository  - Artefact path: /Users/krv114/.jnati/repo/jniinchi/1.03_1/MAC-X86_64\n",
      "18   [main] INFO  net.sf.jnati.deploy.artefact.ManifestReader  - Reading manifest\n",
      "62   [main] INFO  net.sf.jnati.deploy.NativeArtefactLocator  - Artefact (jniinchi-1.03_1-MAC-X86_64) location: /Users/krv114/.jnati/repo/jniinchi/1.03_1/MAC-X86_64\n",
      "62   [main] DEBUG net.sf.jnati.deploy.NativeLibraryLoader  - Loading library: /Users/krv114/.jnati/repo/jniinchi/1.03_1/MAC-X86_64/JniInchi-1.03_1-MAC-X86_64\n"
     ]
    },
    {
     "name": "stderr",
     "output_type": "stream",
     "text": [
      "uk.ac.ebi.reactionblast.mechanism.ReactionMechanismTool WARN: Unmapped atoms present in this reaction(MAX) algorithm.\n",
      "uk.ac.ebi.reactionblast.mechanism.ReactionMechanismTool WARN: Unmapped atoms present in this reaction(MIXTURE) algorithm.\n"
     ]
    },
    {
     "name": "stdout",
     "output_type": "stream",
     "text": [
      "Mapped RXN File /Users/krv114/Documents/GitHub/incawrapper/mappedRxns/ECBLAST_ICDHyr_AAM.rxn\n"
     ]
    },
    {
     "name": "stderr",
     "output_type": "stream",
     "text": [
      "Warning: the fonts \"Times\" and \"Times\" are not available for the Java logical font \"Serif\", which may have unexpected appearance or behavior. Re-enable the \"Times\" font to remove this warning.\n"
     ]
    },
    {
     "name": "stdout",
     "output_type": "stream",
     "text": [
      "Annotated RXN Image /Users/krv114/Documents/GitHub/incawrapper/mappedRxns/ECBLAST_ICDHyr_AAM.png\n",
      "Output is presented in text format: /Users/krv114/Documents/GitHub/incawrapper/mappedRxns/ECBLAST_ICDHyr_AAM.txt\n",
      "!--------------------------------------------------------\n",
      "Reaction Decoder Tool (RDT)\n",
      "\n",
      "Author: Syed Asad Rahman\n",
      "e-mail: asad@ebi.ac.uk|s9asad@gmail.com\n",
      "c/o EMBL-European BioInformatics Institute (EBI)\n",
      "WTGC, CB10 1SD Hinxton\n",
      "UK\n",
      "\n",
      "Note: The copyright of this software belongs to the author\n",
      "and EMBL-European BioInformatics Institute (EBI).\n",
      "\n",
      "Reference\n",
      "Rahman, S.A. et.al.(2016) Reaction Decoder Tool (RDT):\n",
      "Extracting Features from Chemical Reactions, Bioinformatics (2016)\n",
      "doi: 10.1093/bioinformatics/btw096\n",
      "!--------------------------------------------------------\n",
      "\n",
      "-- AAM --\n",
      "Mapped RXN File /Users/krv114/Documents/GitHub/incawrapper/mappedRxns/ECBLAST_H2Ot_AAM.rxn\n"
     ]
    },
    {
     "name": "stderr",
     "output_type": "stream",
     "text": [
      "Warning: the fonts \"Times\" and \"Times\" are not available for the Java logical font \"Serif\", which may have unexpected appearance or behavior. Re-enable the \"Times\" font to remove this warning.\n"
     ]
    },
    {
     "name": "stdout",
     "output_type": "stream",
     "text": [
      "Annotated RXN Image /Users/krv114/Documents/GitHub/incawrapper/mappedRxns/ECBLAST_H2Ot_AAM.png\n",
      "Output is presented in text format: /Users/krv114/Documents/GitHub/incawrapper/mappedRxns/ECBLAST_H2Ot_AAM.txt\n",
      "!--------------------------------------------------------\n",
      "Reaction Decoder Tool (RDT)\n",
      "\n",
      "Author: Syed Asad Rahman\n",
      "e-mail: asad@ebi.ac.uk|s9asad@gmail.com\n",
      "c/o EMBL-European BioInformatics Institute (EBI)\n",
      "WTGC, CB10 1SD Hinxton\n",
      "UK\n",
      "\n",
      "Note: The copyright of this software belongs to the author\n",
      "and EMBL-European BioInformatics Institute (EBI).\n",
      "\n",
      "Reference\n",
      "Rahman, S.A. et.al.(2016) Reaction Decoder Tool (RDT):\n",
      "Extracting Features from Chemical Reactions, Bioinformatics (2016)\n",
      "doi: 10.1093/bioinformatics/btw096\n",
      "!--------------------------------------------------------\n",
      "\n",
      "-- AAM --\n",
      "!--------------------------------------------------------\n",
      "Reaction Decoder Tool (RDT)\n",
      "\n",
      "Author: Syed Asad Rahman\n",
      "e-mail: asad@ebi.ac.uk|s9asad@gmail.com\n",
      "c/o EMBL-European BioInformatics Institute (EBI)\n",
      "WTGC, CB10 1SD Hinxton\n",
      "UK\n",
      "\n",
      "Note: The copyright of this software belongs to the author\n",
      "and EMBL-European BioInformatics Institute (EBI).\n",
      "\n",
      "Reference\n",
      "Rahman, S.A. et.al.(2016) Reaction Decoder Tool (RDT):\n",
      "Extracting Features from Chemical Reactions, Bioinformatics (2016)\n",
      "doi: 10.1093/bioinformatics/btw096\n",
      "!--------------------------------------------------------\n",
      "\n",
      "-- AAM --\n",
      "0    [main] INFO  net.sf.jnati.deploy.artefact.ConfigManager  - Loading global configuration\n",
      "9    [main] DEBUG net.sf.jnati.deploy.artefact.ConfigManager  - Loading defaults: jar:file:/Users/krv114/Documents/GitHub/incawrapper/RDT.jar!/META-INF/jnati/jnati.default-properties\n",
      "11   [main] INFO  net.sf.jnati.deploy.artefact.ConfigManager  - Loading artefact configuration: jniinchi-1.03_1\n",
      "13   [main] DEBUG net.sf.jnati.deploy.artefact.ConfigManager  - Loading instance defaults: jar:file:/Users/krv114/Documents/GitHub/incawrapper/RDT.jar!/META-INF/jnati/jnati.instance.default-properties\n",
      "17   [main] INFO  net.sf.jnati.deploy.repository.ClasspathRepository  - Searching classpath for: jniinchi-1.03_1-MAC-X86_64\n",
      "18   [main] INFO  net.sf.jnati.deploy.repository.LocalRepository  - Searching local repository for: jniinchi-1.03_1-MAC-X86_64\n",
      "18   [main] DEBUG net.sf.jnati.deploy.repository.LocalRepository  - Artefact path: /Users/krv114/.jnati/repo/jniinchi/1.03_1/MAC-X86_64\n",
      "18   [main] INFO  net.sf.jnati.deploy.artefact.ManifestReader  - Reading manifest\n",
      "50   [main] INFO  net.sf.jnati.deploy.NativeArtefactLocator  - Artefact (jniinchi-1.03_1-MAC-X86_64) location: /Users/krv114/.jnati/repo/jniinchi/1.03_1/MAC-X86_64\n",
      "50   [main] DEBUG net.sf.jnati.deploy.NativeLibraryLoader  - Loading library: /Users/krv114/.jnati/repo/jniinchi/1.03_1/MAC-X86_64/JniInchi-1.03_1-MAC-X86_64\n",
      "Mapped RXN File /Users/krv114/Documents/GitHub/incawrapper/mappedRxns/ECBLAST_FRUpts2_AAM.rxn\n"
     ]
    },
    {
     "name": "stderr",
     "output_type": "stream",
     "text": [
      "Warning: the fonts \"Times\" and \"Times\" are not available for the Java logical font \"Serif\", which may have unexpected appearance or behavior. Re-enable the \"Times\" font to remove this warning.\n"
     ]
    },
    {
     "name": "stdout",
     "output_type": "stream",
     "text": [
      "Annotated RXN Image /Users/krv114/Documents/GitHub/incawrapper/mappedRxns/ECBLAST_FRUpts2_AAM.png\n",
      "Output is presented in text format: /Users/krv114/Documents/GitHub/incawrapper/mappedRxns/ECBLAST_FRUpts2_AAM.txt\n",
      "!--------------------------------------------------------\n",
      "Reaction Decoder Tool (RDT)\n",
      "\n",
      "Author: Syed Asad Rahman\n",
      "e-mail: asad@ebi.ac.uk|s9asad@gmail.com\n",
      "c/o EMBL-European BioInformatics Institute (EBI)\n",
      "WTGC, CB10 1SD Hinxton\n",
      "UK\n",
      "\n",
      "Note: The copyright of this software belongs to the author\n",
      "and EMBL-European BioInformatics Institute (EBI).\n",
      "\n",
      "Reference\n",
      "Rahman, S.A. et.al.(2016) Reaction Decoder Tool (RDT):\n",
      "Extracting Features from Chemical Reactions, Bioinformatics (2016)\n",
      "doi: 10.1093/bioinformatics/btw096\n",
      "!--------------------------------------------------------\n",
      "\n",
      "-- AAM --\n",
      "Mapped RXN File /Users/krv114/Documents/GitHub/incawrapper/mappedRxns/ECBLAST_FUMt2_2_AAM.rxn\n"
     ]
    },
    {
     "name": "stderr",
     "output_type": "stream",
     "text": [
      "Warning: the fonts \"Times\" and \"Times\" are not available for the Java logical font \"Serif\", which may have unexpected appearance or behavior. Re-enable the \"Times\" font to remove this warning.\n"
     ]
    },
    {
     "name": "stdout",
     "output_type": "stream",
     "text": [
      "Annotated RXN Image /Users/krv114/Documents/GitHub/incawrapper/mappedRxns/ECBLAST_FUMt2_2_AAM.png\n",
      "Output is presented in text format: /Users/krv114/Documents/GitHub/incawrapper/mappedRxns/ECBLAST_FUMt2_2_AAM.txt\n",
      "!--------------------------------------------------------\n",
      "Reaction Decoder Tool (RDT)\n",
      "\n",
      "Author: Syed Asad Rahman\n",
      "e-mail: asad@ebi.ac.uk|s9asad@gmail.com\n",
      "c/o EMBL-European BioInformatics Institute (EBI)\n",
      "WTGC, CB10 1SD Hinxton\n",
      "UK\n",
      "\n",
      "Note: The copyright of this software belongs to the author\n",
      "and EMBL-European BioInformatics Institute (EBI).\n",
      "\n",
      "Reference\n",
      "Rahman, S.A. et.al.(2016) Reaction Decoder Tool (RDT):\n",
      "Extracting Features from Chemical Reactions, Bioinformatics (2016)\n",
      "doi: 10.1093/bioinformatics/btw096\n",
      "!--------------------------------------------------------\n",
      "\n",
      "-- AAM --\n"
     ]
    },
    {
     "name": "stderr",
     "output_type": "stream",
     "text": [
      "uk.ac.ebi.reactionblast.mechanism.ReactionMechanismTool WARN: Number of atom(s) on the Left side 65 =/= Number of atom(s) on the Right side 59\n",
      "uk.ac.ebi.reactionblast.mechanism.ReactionMechanismTool WARN: {C=24, Ca=1, N=7, O=28, P=5} =/= {C=24, N=7, O=24, P=4}\n"
     ]
    },
    {
     "name": "stdout",
     "output_type": "stream",
     "text": [
      "!--------------------------------------------------------\n",
      "Reaction Decoder Tool (RDT)\n",
      "\n",
      "Author: Syed Asad Rahman\n",
      "e-mail: asad@ebi.ac.uk|s9asad@gmail.com\n",
      "c/o EMBL-European BioInformatics Institute (EBI)\n",
      "WTGC, CB10 1SD Hinxton\n",
      "UK\n",
      "\n",
      "Note: The copyright of this software belongs to the author\n",
      "and EMBL-European BioInformatics Institute (EBI).\n",
      "\n",
      "Reference\n",
      "Rahman, S.A. et.al.(2016) Reaction Decoder Tool (RDT):\n",
      "Extracting Features from Chemical Reactions, Bioinformatics (2016)\n",
      "doi: 10.1093/bioinformatics/btw096\n",
      "!--------------------------------------------------------\n",
      "\n",
      "-- AAM --\n",
      "0    [main] INFO  net.sf.jnati.deploy.artefact.ConfigManager  - Loading global configuration\n",
      "10   [main] DEBUG net.sf.jnati.deploy.artefact.ConfigManager  - Loading defaults: jar:file:/Users/krv114/Documents/GitHub/incawrapper/RDT.jar!/META-INF/jnati/jnati.default-properties\n",
      "12   [main] INFO  net.sf.jnati.deploy.artefact.ConfigManager  - Loading artefact configuration: jniinchi-1.03_1\n",
      "14   [main] DEBUG net.sf.jnati.deploy.artefact.ConfigManager  - Loading instance defaults: jar:file:/Users/krv114/Documents/GitHub/incawrapper/RDT.jar!/META-INF/jnati/jnati.instance.default-properties\n",
      "17   [main] INFO  net.sf.jnati.deploy.repository.ClasspathRepository  - Searching classpath for: jniinchi-1.03_1-MAC-X86_64\n",
      "18   [main] INFO  net.sf.jnati.deploy.repository.LocalRepository  - Searching local repository for: jniinchi-1.03_1-MAC-X86_64\n",
      "18   [main] DEBUG net.sf.jnati.deploy.repository.LocalRepository  - Artefact path: /Users/krv114/.jnati/repo/jniinchi/1.03_1/MAC-X86_64\n",
      "18   [main] INFO  net.sf.jnati.deploy.artefact.ManifestReader  - Reading manifest\n",
      "51   [main] INFO  net.sf.jnati.deploy.NativeArtefactLocator  - Artefact (jniinchi-1.03_1-MAC-X86_64) location: /Users/krv114/.jnati/repo/jniinchi/1.03_1/MAC-X86_64\n",
      "52   [main] DEBUG net.sf.jnati.deploy.NativeLibraryLoader  - Loading library: /Users/krv114/.jnati/repo/jniinchi/1.03_1/MAC-X86_64/JniInchi-1.03_1-MAC-X86_64\n",
      "Mapped RXN File /Users/krv114/Documents/GitHub/incawrapper/mappedRxns/ECBLAST_ENO_AAM.rxn\n"
     ]
    },
    {
     "name": "stderr",
     "output_type": "stream",
     "text": [
      "Warning: the fonts \"Times\" and \"Times\" are not available for the Java logical font \"Serif\", which may have unexpected appearance or behavior. Re-enable the \"Times\" font to remove this warning.\n"
     ]
    },
    {
     "name": "stdout",
     "output_type": "stream",
     "text": [
      "Annotated RXN Image /Users/krv114/Documents/GitHub/incawrapper/mappedRxns/ECBLAST_ENO_AAM.png\n",
      "Output is presented in text format: /Users/krv114/Documents/GitHub/incawrapper/mappedRxns/ECBLAST_ENO_AAM.txt\n",
      "!--------------------------------------------------------\n",
      "Reaction Decoder Tool (RDT)\n",
      "\n",
      "Author: Syed Asad Rahman\n",
      "e-mail: asad@ebi.ac.uk|s9asad@gmail.com\n",
      "c/o EMBL-European BioInformatics Institute (EBI)\n",
      "WTGC, CB10 1SD Hinxton\n",
      "UK\n",
      "\n",
      "Note: The copyright of this software belongs to the author\n",
      "and EMBL-European BioInformatics Institute (EBI).\n",
      "\n",
      "Reference\n",
      "Rahman, S.A. et.al.(2016) Reaction Decoder Tool (RDT):\n",
      "Extracting Features from Chemical Reactions, Bioinformatics (2016)\n",
      "doi: 10.1093/bioinformatics/btw096\n",
      "!--------------------------------------------------------\n",
      "\n",
      "-- AAM --\n",
      "Mapped RXN File /Users/krv114/Documents/GitHub/incawrapper/mappedRxns/ECBLAST_NH4t_AAM.rxn\n"
     ]
    },
    {
     "name": "stderr",
     "output_type": "stream",
     "text": [
      "Warning: the fonts \"Times\" and \"Times\" are not available for the Java logical font \"Serif\", which may have unexpected appearance or behavior. Re-enable the \"Times\" font to remove this warning.\n"
     ]
    },
    {
     "name": "stdout",
     "output_type": "stream",
     "text": [
      "Annotated RXN Image /Users/krv114/Documents/GitHub/incawrapper/mappedRxns/ECBLAST_NH4t_AAM.png\n",
      "Output is presented in text format: /Users/krv114/Documents/GitHub/incawrapper/mappedRxns/ECBLAST_NH4t_AAM.txt\n",
      "!--------------------------------------------------------\n",
      "Reaction Decoder Tool (RDT)\n",
      "\n",
      "Author: Syed Asad Rahman\n",
      "e-mail: asad@ebi.ac.uk|s9asad@gmail.com\n",
      "c/o EMBL-European BioInformatics Institute (EBI)\n",
      "WTGC, CB10 1SD Hinxton\n",
      "UK\n",
      "\n",
      "Note: The copyright of this software belongs to the author\n",
      "and EMBL-European BioInformatics Institute (EBI).\n",
      "\n",
      "Reference\n",
      "Rahman, S.A. et.al.(2016) Reaction Decoder Tool (RDT):\n",
      "Extracting Features from Chemical Reactions, Bioinformatics (2016)\n",
      "doi: 10.1093/bioinformatics/btw096\n",
      "!--------------------------------------------------------\n",
      "\n",
      "-- AAM --\n",
      "!--------------------------------------------------------\n",
      "Reaction Decoder Tool (RDT)\n",
      "\n",
      "Author: Syed Asad Rahman\n",
      "e-mail: asad@ebi.ac.uk|s9asad@gmail.com\n",
      "c/o EMBL-European BioInformatics Institute (EBI)\n",
      "WTGC, CB10 1SD Hinxton\n",
      "UK\n",
      "\n",
      "Note: The copyright of this software belongs to the author\n",
      "and EMBL-European BioInformatics Institute (EBI).\n",
      "\n",
      "Reference\n",
      "Rahman, S.A. et.al.(2016) Reaction Decoder Tool (RDT):\n",
      "Extracting Features from Chemical Reactions, Bioinformatics (2016)\n",
      "doi: 10.1093/bioinformatics/btw096\n",
      "!--------------------------------------------------------\n",
      "\n",
      "-- AAM --\n"
     ]
    },
    {
     "name": "stderr",
     "output_type": "stream",
     "text": [
      "uk.ac.ebi.reactionblast.mechanism.ReactionMechanismTool WARN: Number of atom(s) on the Left side 87 =/= Number of atom(s) on the Right side 93\n",
      "uk.ac.ebi.reactionblast.mechanism.ReactionMechanismTool WARN: {C=35, N=12, O=33, P=6, S=1} =/= {C=35, Ca=1, N=12, O=37, P=7, S=1}\n",
      "uk.ac.ebi.reactionblast.mechanism.ReactionMechanismTool WARN: Unmapped atoms present in this reaction(MIN) algorithm.\n"
     ]
    },
    {
     "name": "stdout",
     "output_type": "stream",
     "text": [
      "0    [main] INFO  net.sf.jnati.deploy.artefact.ConfigManager  - Loading global configuration\n",
      "8    [main] DEBUG net.sf.jnati.deploy.artefact.ConfigManager  - Loading defaults: jar:file:/Users/krv114/Documents/GitHub/incawrapper/RDT.jar!/META-INF/jnati/jnati.default-properties\n",
      "12   [main] INFO  net.sf.jnati.deploy.artefact.ConfigManager  - Loading artefact configuration: jniinchi-1.03_1\n",
      "14   [main] DEBUG net.sf.jnati.deploy.artefact.ConfigManager  - Loading instance defaults: jar:file:/Users/krv114/Documents/GitHub/incawrapper/RDT.jar!/META-INF/jnati/jnati.instance.default-properties\n",
      "17   [main] INFO  net.sf.jnati.deploy.repository.ClasspathRepository  - Searching classpath for: jniinchi-1.03_1-MAC-X86_64\n",
      "18   [main] INFO  net.sf.jnati.deploy.repository.LocalRepository  - Searching local repository for: jniinchi-1.03_1-MAC-X86_64\n",
      "18   [main] DEBUG net.sf.jnati.deploy.repository.LocalRepository  - Artefact path: /Users/krv114/.jnati/repo/jniinchi/1.03_1/MAC-X86_64\n",
      "18   [main] INFO  net.sf.jnati.deploy.artefact.ManifestReader  - Reading manifest\n",
      "49   [main] INFO  net.sf.jnati.deploy.NativeArtefactLocator  - Artefact (jniinchi-1.03_1-MAC-X86_64) location: /Users/krv114/.jnati/repo/jniinchi/1.03_1/MAC-X86_64\n",
      "49   [main] DEBUG net.sf.jnati.deploy.NativeLibraryLoader  - Loading library: /Users/krv114/.jnati/repo/jniinchi/1.03_1/MAC-X86_64/JniInchi-1.03_1-MAC-X86_64\n"
     ]
    },
    {
     "name": "stderr",
     "output_type": "stream",
     "text": [
      "uk.ac.ebi.reactionblast.mechanism.ReactionMechanismTool WARN: Unmapped atoms present in this reaction(MAX) algorithm.\n",
      "uk.ac.ebi.reactionblast.mechanism.ReactionMechanismTool WARN: Unmapped atoms present in this reaction(MIXTURE) algorithm.\n"
     ]
    },
    {
     "name": "stdout",
     "output_type": "stream",
     "text": [
      "Mapped RXN File /Users/krv114/Documents/GitHub/incawrapper/mappedRxns/ECBLAST_SUCOAS_AAM.rxn\n"
     ]
    },
    {
     "name": "stderr",
     "output_type": "stream",
     "text": [
      "Warning: the fonts \"Times\" and \"Times\" are not available for the Java logical font \"Serif\", which may have unexpected appearance or behavior. Re-enable the \"Times\" font to remove this warning.\n"
     ]
    },
    {
     "name": "stdout",
     "output_type": "stream",
     "text": [
      "Annotated RXN Image /Users/krv114/Documents/GitHub/incawrapper/mappedRxns/ECBLAST_SUCOAS_AAM.png\n",
      "Output is presented in text format: /Users/krv114/Documents/GitHub/incawrapper/mappedRxns/ECBLAST_SUCOAS_AAM.txt\n",
      "!--------------------------------------------------------\n",
      "Reaction Decoder Tool (RDT)\n",
      "\n",
      "Author: Syed Asad Rahman\n",
      "e-mail: asad@ebi.ac.uk|s9asad@gmail.com\n",
      "c/o EMBL-European BioInformatics Institute (EBI)\n",
      "WTGC, CB10 1SD Hinxton\n",
      "UK\n",
      "\n",
      "Note: The copyright of this software belongs to the author\n",
      "and EMBL-European BioInformatics Institute (EBI).\n",
      "\n",
      "Reference\n",
      "Rahman, S.A. et.al.(2016) Reaction Decoder Tool (RDT):\n",
      "Extracting Features from Chemical Reactions, Bioinformatics (2016)\n",
      "doi: 10.1093/bioinformatics/btw096\n",
      "!--------------------------------------------------------\n",
      "\n",
      "-- AAM --\n",
      "0    [main] INFO  net.sf.jnati.deploy.artefact.ConfigManager  - Loading global configuration\n",
      "9    [main] DEBUG net.sf.jnati.deploy.artefact.ConfigManager  - Loading defaults: jar:file:/Users/krv114/Documents/GitHub/incawrapper/RDT.jar!/META-INF/jnati/jnati.default-properties\n",
      "11   [main] INFO  net.sf.jnati.deploy.artefact.ConfigManager  - Loading artefact configuration: jniinchi-1.03_1\n",
      "15   [main] DEBUG net.sf.jnati.deploy.artefact.ConfigManager  - Loading instance defaults: jar:file:/Users/krv114/Documents/GitHub/incawrapper/RDT.jar!/META-INF/jnati/jnati.instance.default-properties\n",
      "17   [main] INFO  net.sf.jnati.deploy.repository.ClasspathRepository  - Searching classpath for: jniinchi-1.03_1-MAC-X86_64\n",
      "17   [main] INFO  net.sf.jnati.deploy.repository.LocalRepository  - Searching local repository for: jniinchi-1.03_1-MAC-X86_64\n",
      "18   [main] DEBUG net.sf.jnati.deploy.repository.LocalRepository  - Artefact path: /Users/krv114/.jnati/repo/jniinchi/1.03_1/MAC-X86_64\n",
      "18   [main] INFO  net.sf.jnati.deploy.artefact.ManifestReader  - Reading manifest\n",
      "49   [main] INFO  net.sf.jnati.deploy.NativeArtefactLocator  - Artefact (jniinchi-1.03_1-MAC-X86_64) location: /Users/krv114/.jnati/repo/jniinchi/1.03_1/MAC-X86_64\n",
      "49   [main] DEBUG net.sf.jnati.deploy.NativeLibraryLoader  - Loading library: /Users/krv114/.jnati/repo/jniinchi/1.03_1/MAC-X86_64/JniInchi-1.03_1-MAC-X86_64\n",
      "Mapped RXN File /Users/krv114/Documents/GitHub/incawrapper/mappedRxns/ECBLAST_PYK_AAM.rxn\n"
     ]
    },
    {
     "name": "stderr",
     "output_type": "stream",
     "text": [
      "Warning: the fonts \"Times\" and \"Times\" are not available for the Java logical font \"Serif\", which may have unexpected appearance or behavior. Re-enable the \"Times\" font to remove this warning.\n"
     ]
    },
    {
     "name": "stdout",
     "output_type": "stream",
     "text": [
      "Annotated RXN Image /Users/krv114/Documents/GitHub/incawrapper/mappedRxns/ECBLAST_PYK_AAM.png\n",
      "Output is presented in text format: /Users/krv114/Documents/GitHub/incawrapper/mappedRxns/ECBLAST_PYK_AAM.txt\n",
      "!--------------------------------------------------------\n",
      "Reaction Decoder Tool (RDT)\n",
      "\n",
      "Author: Syed Asad Rahman\n",
      "e-mail: asad@ebi.ac.uk|s9asad@gmail.com\n",
      "c/o EMBL-European BioInformatics Institute (EBI)\n",
      "WTGC, CB10 1SD Hinxton\n",
      "UK\n",
      "\n",
      "Note: The copyright of this software belongs to the author\n",
      "and EMBL-European BioInformatics Institute (EBI).\n",
      "\n",
      "Reference\n",
      "Rahman, S.A. et.al.(2016) Reaction Decoder Tool (RDT):\n",
      "Extracting Features from Chemical Reactions, Bioinformatics (2016)\n",
      "doi: 10.1093/bioinformatics/btw096\n",
      "!--------------------------------------------------------\n",
      "\n",
      "-- AAM --\n"
     ]
    },
    {
     "name": "stderr",
     "output_type": "stream",
     "text": [
      "uk.ac.ebi.reactionblast.mechanism.ReactionMechanismTool WARN: Number of atom(s) on the Left side 38 =/= Number of atom(s) on the Right side 32\n",
      "uk.ac.ebi.reactionblast.mechanism.ReactionMechanismTool WARN: {C=10, Ca=1, N=5, O=18, P=4} =/= {C=10, N=5, O=14, P=3}\n",
      "uk.ac.ebi.reactionblast.mechanism.ReactionMechanismTool WARN: Unmapped atoms present in this reaction(MIN) algorithm.\n"
     ]
    },
    {
     "name": "stdout",
     "output_type": "stream",
     "text": [
      "0    [main] INFO  net.sf.jnati.deploy.artefact.ConfigManager  - Loading global configuration\n",
      "9    [main] DEBUG net.sf.jnati.deploy.artefact.ConfigManager  - Loading defaults: jar:file:/Users/krv114/Documents/GitHub/incawrapper/RDT.jar!/META-INF/jnati/jnati.default-properties\n",
      "11   [main] INFO  net.sf.jnati.deploy.artefact.ConfigManager  - Loading artefact configuration: jniinchi-1.03_1\n",
      "13   [main] DEBUG net.sf.jnati.deploy.artefact.ConfigManager  - Loading instance defaults: jar:file:/Users/krv114/Documents/GitHub/incawrapper/RDT.jar!/META-INF/jnati/jnati.instance.default-properties\n",
      "15   [main] INFO  net.sf.jnati.deploy.repository.ClasspathRepository  - Searching classpath for: jniinchi-1.03_1-MAC-X86_64\n",
      "16   [main] INFO  net.sf.jnati.deploy.repository.LocalRepository  - Searching local repository for: jniinchi-1.03_1-MAC-X86_64\n",
      "16   [main] DEBUG net.sf.jnati.deploy.repository.LocalRepository  - Artefact path: /Users/krv114/.jnati/repo/jniinchi/1.03_1/MAC-X86_64\n",
      "16   [main] INFO  net.sf.jnati.deploy.artefact.ManifestReader  - Reading manifest\n",
      "46   [main] INFO  net.sf.jnati.deploy.NativeArtefactLocator  - Artefact (jniinchi-1.03_1-MAC-X86_64) location: /Users/krv114/.jnati/repo/jniinchi/1.03_1/MAC-X86_64\n",
      "47   [main] DEBUG net.sf.jnati.deploy.NativeLibraryLoader  - Loading library: /Users/krv114/.jnati/repo/jniinchi/1.03_1/MAC-X86_64/JniInchi-1.03_1-MAC-X86_64\n"
     ]
    },
    {
     "name": "stderr",
     "output_type": "stream",
     "text": [
      "uk.ac.ebi.reactionblast.mechanism.ReactionMechanismTool WARN: Unmapped atoms present in this reaction(MAX) algorithm.\n",
      "uk.ac.ebi.reactionblast.mechanism.ReactionMechanismTool WARN: Unmapped atoms present in this reaction(MIXTURE) algorithm.\n"
     ]
    },
    {
     "name": "stdout",
     "output_type": "stream",
     "text": [
      "Mapped RXN File /Users/krv114/Documents/GitHub/incawrapper/mappedRxns/ECBLAST_ATPS4r_AAM.rxn\n"
     ]
    },
    {
     "name": "stderr",
     "output_type": "stream",
     "text": [
      "Warning: the fonts \"Times\" and \"Times\" are not available for the Java logical font \"Serif\", which may have unexpected appearance or behavior. Re-enable the \"Times\" font to remove this warning.\n"
     ]
    },
    {
     "name": "stdout",
     "output_type": "stream",
     "text": [
      "Annotated RXN Image /Users/krv114/Documents/GitHub/incawrapper/mappedRxns/ECBLAST_ATPS4r_AAM.png\n",
      "Output is presented in text format: /Users/krv114/Documents/GitHub/incawrapper/mappedRxns/ECBLAST_ATPS4r_AAM.txt\n",
      "!--------------------------------------------------------\n",
      "Reaction Decoder Tool (RDT)\n",
      "\n",
      "Author: Syed Asad Rahman\n",
      "e-mail: asad@ebi.ac.uk|s9asad@gmail.com\n",
      "c/o EMBL-European BioInformatics Institute (EBI)\n",
      "WTGC, CB10 1SD Hinxton\n",
      "UK\n",
      "\n",
      "Note: The copyright of this software belongs to the author\n",
      "and EMBL-European BioInformatics Institute (EBI).\n",
      "\n",
      "Reference\n",
      "Rahman, S.A. et.al.(2016) Reaction Decoder Tool (RDT):\n",
      "Extracting Features from Chemical Reactions, Bioinformatics (2016)\n",
      "doi: 10.1093/bioinformatics/btw096\n",
      "!--------------------------------------------------------\n",
      "\n",
      "-- AAM --\n",
      "Mapped RXN File /Users/krv114/Documents/GitHub/incawrapper/mappedRxns/ECBLAST_EX_pyr_e_AAM.rxn\n"
     ]
    },
    {
     "name": "stderr",
     "output_type": "stream",
     "text": [
      "Warning: the fonts \"Times\" and \"Times\" are not available for the Java logical font \"Serif\", which may have unexpected appearance or behavior. Re-enable the \"Times\" font to remove this warning.\n"
     ]
    },
    {
     "name": "stdout",
     "output_type": "stream",
     "text": [
      "Annotated RXN Image /Users/krv114/Documents/GitHub/incawrapper/mappedRxns/ECBLAST_EX_pyr_e_AAM.png\n",
      "Output is presented in text format: /Users/krv114/Documents/GitHub/incawrapper/mappedRxns/ECBLAST_EX_pyr_e_AAM.txt\n",
      "!--------------------------------------------------------\n",
      "Reaction Decoder Tool (RDT)\n",
      "\n",
      "Author: Syed Asad Rahman\n",
      "e-mail: asad@ebi.ac.uk|s9asad@gmail.com\n",
      "c/o EMBL-European BioInformatics Institute (EBI)\n",
      "WTGC, CB10 1SD Hinxton\n",
      "UK\n",
      "\n",
      "Note: The copyright of this software belongs to the author\n",
      "and EMBL-European BioInformatics Institute (EBI).\n",
      "\n",
      "Reference\n",
      "Rahman, S.A. et.al.(2016) Reaction Decoder Tool (RDT):\n",
      "Extracting Features from Chemical Reactions, Bioinformatics (2016)\n",
      "doi: 10.1093/bioinformatics/btw096\n",
      "!--------------------------------------------------------\n",
      "\n",
      "-- AAM --\n",
      "Mapped RXN File /Users/krv114/Documents/GitHub/incawrapper/mappedRxns/ECBLAST_SUCCt2_2_AAM.rxn\n"
     ]
    },
    {
     "name": "stderr",
     "output_type": "stream",
     "text": [
      "Warning: the fonts \"Times\" and \"Times\" are not available for the Java logical font \"Serif\", which may have unexpected appearance or behavior. Re-enable the \"Times\" font to remove this warning.\n"
     ]
    },
    {
     "name": "stdout",
     "output_type": "stream",
     "text": [
      "Annotated RXN Image /Users/krv114/Documents/GitHub/incawrapper/mappedRxns/ECBLAST_SUCCt2_2_AAM.png\n",
      "Output is presented in text format: /Users/krv114/Documents/GitHub/incawrapper/mappedRxns/ECBLAST_SUCCt2_2_AAM.txt\n",
      "!--------------------------------------------------------\n",
      "Reaction Decoder Tool (RDT)\n",
      "\n",
      "Author: Syed Asad Rahman\n",
      "e-mail: asad@ebi.ac.uk|s9asad@gmail.com\n",
      "c/o EMBL-European BioInformatics Institute (EBI)\n",
      "WTGC, CB10 1SD Hinxton\n",
      "UK\n",
      "\n",
      "Note: The copyright of this software belongs to the author\n",
      "and EMBL-European BioInformatics Institute (EBI).\n",
      "\n",
      "Reference\n",
      "Rahman, S.A. et.al.(2016) Reaction Decoder Tool (RDT):\n",
      "Extracting Features from Chemical Reactions, Bioinformatics (2016)\n",
      "doi: 10.1093/bioinformatics/btw096\n",
      "!--------------------------------------------------------\n",
      "\n",
      "-- AAM --\n"
     ]
    },
    {
     "name": "stderr",
     "output_type": "stream",
     "text": [
      "uk.ac.ebi.reactionblast.mechanism.ReactionMechanismTool WARN: Unmapped atoms present in this reaction(MIN) algorithm.\n"
     ]
    },
    {
     "name": "stdout",
     "output_type": "stream",
     "text": [
      "0    [main] INFO  net.sf.jnati.deploy.artefact.ConfigManager  - Loading global configuration\n",
      "13   [main] DEBUG net.sf.jnati.deploy.artefact.ConfigManager  - Loading defaults: jar:file:/Users/krv114/Documents/GitHub/incawrapper/RDT.jar!/META-INF/jnati/jnati.default-properties\n",
      "14   [main] INFO  net.sf.jnati.deploy.artefact.ConfigManager  - Loading artefact configuration: jniinchi-1.03_1\n",
      "17   [main] DEBUG net.sf.jnati.deploy.artefact.ConfigManager  - Loading instance defaults: jar:file:/Users/krv114/Documents/GitHub/incawrapper/RDT.jar!/META-INF/jnati/jnati.instance.default-properties\n",
      "19   [main] INFO  net.sf.jnati.deploy.repository.ClasspathRepository  - Searching classpath for: jniinchi-1.03_1-MAC-X86_64\n",
      "19   [main] INFO  net.sf.jnati.deploy.repository.LocalRepository  - Searching local repository for: jniinchi-1.03_1-MAC-X86_64\n",
      "20   [main] DEBUG net.sf.jnati.deploy.repository.LocalRepository  - Artefact path: /Users/krv114/.jnati/repo/jniinchi/1.03_1/MAC-X86_64\n",
      "20   [main] INFO  net.sf.jnati.deploy.artefact.ManifestReader  - Reading manifest\n",
      "50   [main] INFO  net.sf.jnati.deploy.NativeArtefactLocator  - Artefact (jniinchi-1.03_1-MAC-X86_64) location: /Users/krv114/.jnati/repo/jniinchi/1.03_1/MAC-X86_64\n",
      "50   [main] DEBUG net.sf.jnati.deploy.NativeLibraryLoader  - Loading library: /Users/krv114/.jnati/repo/jniinchi/1.03_1/MAC-X86_64/JniInchi-1.03_1-MAC-X86_64\n"
     ]
    },
    {
     "name": "stderr",
     "output_type": "stream",
     "text": [
      "uk.ac.ebi.reactionblast.mechanism.ReactionMechanismTool WARN: Unmapped atoms present in this reaction(MAX) algorithm.\n",
      "uk.ac.ebi.reactionblast.mechanism.ReactionMechanismTool WARN: Unmapped atoms present in this reaction(MIXTURE) algorithm.\n"
     ]
    },
    {
     "name": "stdout",
     "output_type": "stream",
     "text": [
      "Mapped RXN File /Users/krv114/Documents/GitHub/incawrapper/mappedRxns/ECBLAST_G6PDH2r_AAM.rxn\n"
     ]
    },
    {
     "name": "stderr",
     "output_type": "stream",
     "text": [
      "Warning: the fonts \"Times\" and \"Times\" are not available for the Java logical font \"Serif\", which may have unexpected appearance or behavior. Re-enable the \"Times\" font to remove this warning.\n"
     ]
    },
    {
     "name": "stdout",
     "output_type": "stream",
     "text": [
      "Annotated RXN Image /Users/krv114/Documents/GitHub/incawrapper/mappedRxns/ECBLAST_G6PDH2r_AAM.png\n",
      "Output is presented in text format: /Users/krv114/Documents/GitHub/incawrapper/mappedRxns/ECBLAST_G6PDH2r_AAM.txt\n",
      "!--------------------------------------------------------\n",
      "Reaction Decoder Tool (RDT)\n",
      "\n",
      "Author: Syed Asad Rahman\n",
      "e-mail: asad@ebi.ac.uk|s9asad@gmail.com\n",
      "c/o EMBL-European BioInformatics Institute (EBI)\n",
      "WTGC, CB10 1SD Hinxton\n",
      "UK\n",
      "\n",
      "Note: The copyright of this software belongs to the author\n",
      "and EMBL-European BioInformatics Institute (EBI).\n",
      "\n",
      "Reference\n",
      "Rahman, S.A. et.al.(2016) Reaction Decoder Tool (RDT):\n",
      "Extracting Features from Chemical Reactions, Bioinformatics (2016)\n",
      "doi: 10.1093/bioinformatics/btw096\n",
      "!--------------------------------------------------------\n",
      "\n",
      "-- AAM --\n",
      "Mapped RXN File /Users/krv114/Documents/GitHub/incawrapper/mappedRxns/ECBLAST_ACALDt_AAM.rxn\n"
     ]
    },
    {
     "name": "stderr",
     "output_type": "stream",
     "text": [
      "Warning: the fonts \"Times\" and \"Times\" are not available for the Java logical font \"Serif\", which may have unexpected appearance or behavior. Re-enable the \"Times\" font to remove this warning.\n"
     ]
    },
    {
     "name": "stdout",
     "output_type": "stream",
     "text": [
      "Annotated RXN Image /Users/krv114/Documents/GitHub/incawrapper/mappedRxns/ECBLAST_ACALDt_AAM.png\n",
      "Output is presented in text format: /Users/krv114/Documents/GitHub/incawrapper/mappedRxns/ECBLAST_ACALDt_AAM.txt\n",
      "!--------------------------------------------------------\n",
      "Reaction Decoder Tool (RDT)\n",
      "\n",
      "Author: Syed Asad Rahman\n",
      "e-mail: asad@ebi.ac.uk|s9asad@gmail.com\n",
      "c/o EMBL-European BioInformatics Institute (EBI)\n",
      "WTGC, CB10 1SD Hinxton\n",
      "UK\n",
      "\n",
      "Note: The copyright of this software belongs to the author\n",
      "and EMBL-European BioInformatics Institute (EBI).\n",
      "\n",
      "Reference\n",
      "Rahman, S.A. et.al.(2016) Reaction Decoder Tool (RDT):\n",
      "Extracting Features from Chemical Reactions, Bioinformatics (2016)\n",
      "doi: 10.1093/bioinformatics/btw096\n",
      "!--------------------------------------------------------\n",
      "\n",
      "-- AAM --\n",
      "Mapped RXN File /Users/krv114/Documents/GitHub/incawrapper/mappedRxns/ECBLAST_PIt2r_AAM.rxn\n"
     ]
    },
    {
     "name": "stderr",
     "output_type": "stream",
     "text": [
      "Warning: the fonts \"Times\" and \"Times\" are not available for the Java logical font \"Serif\", which may have unexpected appearance or behavior. Re-enable the \"Times\" font to remove this warning.\n"
     ]
    },
    {
     "name": "stdout",
     "output_type": "stream",
     "text": [
      "Annotated RXN Image /Users/krv114/Documents/GitHub/incawrapper/mappedRxns/ECBLAST_PIt2r_AAM.png\n",
      "Output is presented in text format: /Users/krv114/Documents/GitHub/incawrapper/mappedRxns/ECBLAST_PIt2r_AAM.txt\n",
      "!--------------------------------------------------------\n",
      "Reaction Decoder Tool (RDT)\n",
      "\n",
      "Author: Syed Asad Rahman\n",
      "e-mail: asad@ebi.ac.uk|s9asad@gmail.com\n",
      "c/o EMBL-European BioInformatics Institute (EBI)\n",
      "WTGC, CB10 1SD Hinxton\n",
      "UK\n",
      "\n",
      "Note: The copyright of this software belongs to the author\n",
      "and EMBL-European BioInformatics Institute (EBI).\n",
      "\n",
      "Reference\n",
      "Rahman, S.A. et.al.(2016) Reaction Decoder Tool (RDT):\n",
      "Extracting Features from Chemical Reactions, Bioinformatics (2016)\n",
      "doi: 10.1093/bioinformatics/btw096\n",
      "!--------------------------------------------------------\n",
      "\n",
      "-- AAM --\n",
      "Mapped RXN File /Users/krv114/Documents/GitHub/incawrapper/mappedRxns/ECBLAST_SUCCt3_AAM.rxn\n"
     ]
    },
    {
     "name": "stderr",
     "output_type": "stream",
     "text": [
      "Warning: the fonts \"Times\" and \"Times\" are not available for the Java logical font \"Serif\", which may have unexpected appearance or behavior. Re-enable the \"Times\" font to remove this warning.\n"
     ]
    },
    {
     "name": "stdout",
     "output_type": "stream",
     "text": [
      "Annotated RXN Image /Users/krv114/Documents/GitHub/incawrapper/mappedRxns/ECBLAST_SUCCt3_AAM.png\n",
      "Output is presented in text format: /Users/krv114/Documents/GitHub/incawrapper/mappedRxns/ECBLAST_SUCCt3_AAM.txt\n",
      "!--------------------------------------------------------\n",
      "Reaction Decoder Tool (RDT)\n",
      "\n",
      "Author: Syed Asad Rahman\n",
      "e-mail: asad@ebi.ac.uk|s9asad@gmail.com\n",
      "c/o EMBL-European BioInformatics Institute (EBI)\n",
      "WTGC, CB10 1SD Hinxton\n",
      "UK\n",
      "\n",
      "Note: The copyright of this software belongs to the author\n",
      "and EMBL-European BioInformatics Institute (EBI).\n",
      "\n",
      "Reference\n",
      "Rahman, S.A. et.al.(2016) Reaction Decoder Tool (RDT):\n",
      "Extracting Features from Chemical Reactions, Bioinformatics (2016)\n",
      "doi: 10.1093/bioinformatics/btw096\n",
      "!--------------------------------------------------------\n",
      "\n",
      "-- AAM --\n",
      "0    [main] INFO  net.sf.jnati.deploy.artefact.ConfigManager  - Loading global configuration\n",
      "8    [main] DEBUG net.sf.jnati.deploy.artefact.ConfigManager  - Loading defaults: jar:file:/Users/krv114/Documents/GitHub/incawrapper/RDT.jar!/META-INF/jnati/jnati.default-properties\n",
      "9    [main] INFO  net.sf.jnati.deploy.artefact.ConfigManager  - Loading artefact configuration: jniinchi-1.03_1\n",
      "10   [main] DEBUG net.sf.jnati.deploy.artefact.ConfigManager  - Loading instance defaults: jar:file:/Users/krv114/Documents/GitHub/incawrapper/RDT.jar!/META-INF/jnati/jnati.instance.default-properties\n",
      "12   [main] INFO  net.sf.jnati.deploy.repository.ClasspathRepository  - Searching classpath for: jniinchi-1.03_1-MAC-X86_64\n",
      "14   [main] INFO  net.sf.jnati.deploy.repository.LocalRepository  - Searching local repository for: jniinchi-1.03_1-MAC-X86_64\n",
      "14   [main] DEBUG net.sf.jnati.deploy.repository.LocalRepository  - Artefact path: /Users/krv114/.jnati/repo/jniinchi/1.03_1/MAC-X86_64\n",
      "14   [main] INFO  net.sf.jnati.deploy.artefact.ManifestReader  - Reading manifest\n",
      "44   [main] INFO  net.sf.jnati.deploy.NativeArtefactLocator  - Artefact (jniinchi-1.03_1-MAC-X86_64) location: /Users/krv114/.jnati/repo/jniinchi/1.03_1/MAC-X86_64\n",
      "44   [main] DEBUG net.sf.jnati.deploy.NativeLibraryLoader  - Loading library: /Users/krv114/.jnati/repo/jniinchi/1.03_1/MAC-X86_64/JniInchi-1.03_1-MAC-X86_64\n",
      "Mapped RXN File /Users/krv114/Documents/GitHub/incawrapper/mappedRxns/ECBLAST_ADK1_AAM.rxn\n"
     ]
    },
    {
     "name": "stderr",
     "output_type": "stream",
     "text": [
      "Warning: the fonts \"Times\" and \"Times\" are not available for the Java logical font \"Serif\", which may have unexpected appearance or behavior. Re-enable the \"Times\" font to remove this warning.\n"
     ]
    },
    {
     "name": "stdout",
     "output_type": "stream",
     "text": [
      "Annotated RXN Image /Users/krv114/Documents/GitHub/incawrapper/mappedRxns/ECBLAST_ADK1_AAM.png\n",
      "Output is presented in text format: /Users/krv114/Documents/GitHub/incawrapper/mappedRxns/ECBLAST_ADK1_AAM.txt\n",
      "!--------------------------------------------------------\n",
      "Reaction Decoder Tool (RDT)\n",
      "\n",
      "Author: Syed Asad Rahman\n",
      "e-mail: asad@ebi.ac.uk|s9asad@gmail.com\n",
      "c/o EMBL-European BioInformatics Institute (EBI)\n",
      "WTGC, CB10 1SD Hinxton\n",
      "UK\n",
      "\n",
      "Note: The copyright of this software belongs to the author\n",
      "and EMBL-European BioInformatics Institute (EBI).\n",
      "\n",
      "Reference\n",
      "Rahman, S.A. et.al.(2016) Reaction Decoder Tool (RDT):\n",
      "Extracting Features from Chemical Reactions, Bioinformatics (2016)\n",
      "doi: 10.1093/bioinformatics/btw096\n",
      "!--------------------------------------------------------\n",
      "\n",
      "-- AAM --\n",
      "Mapped RXN File /Users/krv114/Documents/GitHub/incawrapper/mappedRxns/ECBLAST_EX_fru_e_AAM.rxn\n"
     ]
    },
    {
     "name": "stderr",
     "output_type": "stream",
     "text": [
      "Warning: the fonts \"Times\" and \"Times\" are not available for the Java logical font \"Serif\", which may have unexpected appearance or behavior. Re-enable the \"Times\" font to remove this warning.\n"
     ]
    },
    {
     "name": "stdout",
     "output_type": "stream",
     "text": [
      "Annotated RXN Image /Users/krv114/Documents/GitHub/incawrapper/mappedRxns/ECBLAST_EX_fru_e_AAM.png\n",
      "Output is presented in text format: /Users/krv114/Documents/GitHub/incawrapper/mappedRxns/ECBLAST_EX_fru_e_AAM.txt\n",
      "!--------------------------------------------------------\n",
      "Reaction Decoder Tool (RDT)\n",
      "\n",
      "Author: Syed Asad Rahman\n",
      "e-mail: asad@ebi.ac.uk|s9asad@gmail.com\n",
      "c/o EMBL-European BioInformatics Institute (EBI)\n",
      "WTGC, CB10 1SD Hinxton\n",
      "UK\n",
      "\n",
      "Note: The copyright of this software belongs to the author\n",
      "and EMBL-European BioInformatics Institute (EBI).\n",
      "\n",
      "Reference\n",
      "Rahman, S.A. et.al.(2016) Reaction Decoder Tool (RDT):\n",
      "Extracting Features from Chemical Reactions, Bioinformatics (2016)\n",
      "doi: 10.1093/bioinformatics/btw096\n",
      "!--------------------------------------------------------\n",
      "\n",
      "-- AAM --\n"
     ]
    },
    {
     "name": "stderr",
     "output_type": "stream",
     "text": [
      "uk.ac.ebi.reactionblast.mechanism.ReactionMechanismTool WARN: Number of atom(s) on the Left side 61 =/= Number of atom(s) on the Right side 24\n",
      "uk.ac.ebi.reactionblast.mechanism.ReactionMechanismTool WARN: {C=53, O=8} =/= {C=19, O=5}\n",
      "uk.ac.ebi.reactionblast.mechanism.ReactionMechanismTool WARN: Unmapped atoms present in this reaction(MIN) algorithm.\n"
     ]
    },
    {
     "name": "stdout",
     "output_type": "stream",
     "text": [
      "0    [main] INFO  net.sf.jnati.deploy.artefact.ConfigManager  - Loading global configuration\n",
      "7    [main] DEBUG net.sf.jnati.deploy.artefact.ConfigManager  - Loading defaults: jar:file:/Users/krv114/Documents/GitHub/incawrapper/RDT.jar!/META-INF/jnati/jnati.default-properties\n",
      "9    [main] INFO  net.sf.jnati.deploy.artefact.ConfigManager  - Loading artefact configuration: jniinchi-1.03_1\n",
      "11   [main] DEBUG net.sf.jnati.deploy.artefact.ConfigManager  - Loading instance defaults: jar:file:/Users/krv114/Documents/GitHub/incawrapper/RDT.jar!/META-INF/jnati/jnati.instance.default-properties\n",
      "13   [main] INFO  net.sf.jnati.deploy.repository.ClasspathRepository  - Searching classpath for: jniinchi-1.03_1-MAC-X86_64\n",
      "14   [main] INFO  net.sf.jnati.deploy.repository.LocalRepository  - Searching local repository for: jniinchi-1.03_1-MAC-X86_64\n",
      "14   [main] DEBUG net.sf.jnati.deploy.repository.LocalRepository  - Artefact path: /Users/krv114/.jnati/repo/jniinchi/1.03_1/MAC-X86_64\n",
      "14   [main] INFO  net.sf.jnati.deploy.artefact.ManifestReader  - Reading manifest\n",
      "43   [main] INFO  net.sf.jnati.deploy.NativeArtefactLocator  - Artefact (jniinchi-1.03_1-MAC-X86_64) location: /Users/krv114/.jnati/repo/jniinchi/1.03_1/MAC-X86_64\n",
      "43   [main] DEBUG net.sf.jnati.deploy.NativeLibraryLoader  - Loading library: /Users/krv114/.jnati/repo/jniinchi/1.03_1/MAC-X86_64/JniInchi-1.03_1-MAC-X86_64\n"
     ]
    },
    {
     "name": "stderr",
     "output_type": "stream",
     "text": [
      "uk.ac.ebi.reactionblast.mechanism.ReactionMechanismTool WARN: Unmapped atoms present in this reaction(MAX) algorithm.\n",
      "uk.ac.ebi.reactionblast.mechanism.ReactionMechanismTool WARN: Unmapped atoms present in this reaction(MIXTURE) algorithm.\n"
     ]
    },
    {
     "name": "stdout",
     "output_type": "stream",
     "text": [
      "!--------------------------------------------------------\n",
      "Reaction Decoder Tool (RDT)\n",
      "\n",
      "Author: Syed Asad Rahman\n",
      "e-mail: asad@ebi.ac.uk|s9asad@gmail.com\n",
      "c/o EMBL-European BioInformatics Institute (EBI)\n",
      "WTGC, CB10 1SD Hinxton\n",
      "UK\n",
      "\n",
      "Note: The copyright of this software belongs to the author\n",
      "and EMBL-European BioInformatics Institute (EBI).\n",
      "\n",
      "Reference\n",
      "Rahman, S.A. et.al.(2016) Reaction Decoder Tool (RDT):\n",
      "Extracting Features from Chemical Reactions, Bioinformatics (2016)\n",
      "doi: 10.1093/bioinformatics/btw096\n",
      "!--------------------------------------------------------\n",
      "\n",
      "-- AAM --\n",
      "0    [main] INFO  net.sf.jnati.deploy.artefact.ConfigManager  - Loading global configuration\n",
      "10   [main] DEBUG net.sf.jnati.deploy.artefact.ConfigManager  - Loading defaults: jar:file:/Users/krv114/Documents/GitHub/incawrapper/RDT.jar!/META-INF/jnati/jnati.default-properties\n",
      "11   [main] INFO  net.sf.jnati.deploy.artefact.ConfigManager  - Loading artefact configuration: jniinchi-1.03_1\n",
      "14   [main] DEBUG net.sf.jnati.deploy.artefact.ConfigManager  - Loading instance defaults: jar:file:/Users/krv114/Documents/GitHub/incawrapper/RDT.jar!/META-INF/jnati/jnati.instance.default-properties\n",
      "17   [main] INFO  net.sf.jnati.deploy.repository.ClasspathRepository  - Searching classpath for: jniinchi-1.03_1-MAC-X86_64\n",
      "18   [main] INFO  net.sf.jnati.deploy.repository.LocalRepository  - Searching local repository for: jniinchi-1.03_1-MAC-X86_64\n",
      "18   [main] DEBUG net.sf.jnati.deploy.repository.LocalRepository  - Artefact path: /Users/krv114/.jnati/repo/jniinchi/1.03_1/MAC-X86_64\n",
      "18   [main] INFO  net.sf.jnati.deploy.artefact.ManifestReader  - Reading manifest\n",
      "48   [main] INFO  net.sf.jnati.deploy.NativeArtefactLocator  - Artefact (jniinchi-1.03_1-MAC-X86_64) location: /Users/krv114/.jnati/repo/jniinchi/1.03_1/MAC-X86_64\n",
      "48   [main] DEBUG net.sf.jnati.deploy.NativeLibraryLoader  - Loading library: /Users/krv114/.jnati/repo/jniinchi/1.03_1/MAC-X86_64/JniInchi-1.03_1-MAC-X86_64\n",
      "Mapped RXN File /Users/krv114/Documents/GitHub/incawrapper/mappedRxns/ECBLAST_ICL_AAM.rxn\n"
     ]
    },
    {
     "name": "stderr",
     "output_type": "stream",
     "text": [
      "Warning: the fonts \"Times\" and \"Times\" are not available for the Java logical font \"Serif\", which may have unexpected appearance or behavior. Re-enable the \"Times\" font to remove this warning.\n"
     ]
    },
    {
     "name": "stdout",
     "output_type": "stream",
     "text": [
      "Annotated RXN Image /Users/krv114/Documents/GitHub/incawrapper/mappedRxns/ECBLAST_ICL_AAM.png\n",
      "Output is presented in text format: /Users/krv114/Documents/GitHub/incawrapper/mappedRxns/ECBLAST_ICL_AAM.txt\n",
      "!--------------------------------------------------------\n",
      "Reaction Decoder Tool (RDT)\n",
      "\n",
      "Author: Syed Asad Rahman\n",
      "e-mail: asad@ebi.ac.uk|s9asad@gmail.com\n",
      "c/o EMBL-European BioInformatics Institute (EBI)\n",
      "WTGC, CB10 1SD Hinxton\n",
      "UK\n",
      "\n",
      "Note: The copyright of this software belongs to the author\n",
      "and EMBL-European BioInformatics Institute (EBI).\n",
      "\n",
      "Reference\n",
      "Rahman, S.A. et.al.(2016) Reaction Decoder Tool (RDT):\n",
      "Extracting Features from Chemical Reactions, Bioinformatics (2016)\n",
      "doi: 10.1093/bioinformatics/btw096\n",
      "!--------------------------------------------------------\n",
      "\n",
      "-- AAM --\n",
      "0    [main] INFO  net.sf.jnati.deploy.artefact.ConfigManager  - Loading global configuration\n",
      "11   [main] DEBUG net.sf.jnati.deploy.artefact.ConfigManager  - Loading defaults: jar:file:/Users/krv114/Documents/GitHub/incawrapper/RDT.jar!/META-INF/jnati/jnati.default-properties\n",
      "12   [main] INFO  net.sf.jnati.deploy.artefact.ConfigManager  - Loading artefact configuration: jniinchi-1.03_1\n",
      "14   [main] DEBUG net.sf.jnati.deploy.artefact.ConfigManager  - Loading instance defaults: jar:file:/Users/krv114/Documents/GitHub/incawrapper/RDT.jar!/META-INF/jnati/jnati.instance.default-properties\n",
      "16   [main] INFO  net.sf.jnati.deploy.repository.ClasspathRepository  - Searching classpath for: jniinchi-1.03_1-MAC-X86_64\n",
      "17   [main] INFO  net.sf.jnati.deploy.repository.LocalRepository  - Searching local repository for: jniinchi-1.03_1-MAC-X86_64\n",
      "17   [main] DEBUG net.sf.jnati.deploy.repository.LocalRepository  - Artefact path: /Users/krv114/.jnati/repo/jniinchi/1.03_1/MAC-X86_64\n",
      "17   [main] INFO  net.sf.jnati.deploy.artefact.ManifestReader  - Reading manifest\n",
      "59   [main] INFO  net.sf.jnati.deploy.NativeArtefactLocator  - Artefact (jniinchi-1.03_1-MAC-X86_64) location: /Users/krv114/.jnati/repo/jniinchi/1.03_1/MAC-X86_64\n",
      "59   [main] DEBUG net.sf.jnati.deploy.NativeLibraryLoader  - Loading library: /Users/krv114/.jnati/repo/jniinchi/1.03_1/MAC-X86_64/JniInchi-1.03_1-MAC-X86_64\n",
      "Mapped RXN File /Users/krv114/Documents/GitHub/incawrapper/mappedRxns/ECBLAST_PPCK_AAM.rxn\n"
     ]
    },
    {
     "name": "stderr",
     "output_type": "stream",
     "text": [
      "Warning: the fonts \"Times\" and \"Times\" are not available for the Java logical font \"Serif\", which may have unexpected appearance or behavior. Re-enable the \"Times\" font to remove this warning.\n"
     ]
    },
    {
     "name": "stdout",
     "output_type": "stream",
     "text": [
      "Annotated RXN Image /Users/krv114/Documents/GitHub/incawrapper/mappedRxns/ECBLAST_PPCK_AAM.png\n",
      "Output is presented in text format: /Users/krv114/Documents/GitHub/incawrapper/mappedRxns/ECBLAST_PPCK_AAM.txt\n",
      "!--------------------------------------------------------\n",
      "Reaction Decoder Tool (RDT)\n",
      "\n",
      "Author: Syed Asad Rahman\n",
      "e-mail: asad@ebi.ac.uk|s9asad@gmail.com\n",
      "c/o EMBL-European BioInformatics Institute (EBI)\n",
      "WTGC, CB10 1SD Hinxton\n",
      "UK\n",
      "\n",
      "Note: The copyright of this software belongs to the author\n",
      "and EMBL-European BioInformatics Institute (EBI).\n",
      "\n",
      "Reference\n",
      "Rahman, S.A. et.al.(2016) Reaction Decoder Tool (RDT):\n",
      "Extracting Features from Chemical Reactions, Bioinformatics (2016)\n",
      "doi: 10.1093/bioinformatics/btw096\n",
      "!--------------------------------------------------------\n",
      "\n",
      "-- AAM --\n",
      "Mapped RXN File /Users/krv114/Documents/GitHub/incawrapper/mappedRxns/ECBLAST_ETOHt2r_AAM.rxn\n"
     ]
    },
    {
     "name": "stderr",
     "output_type": "stream",
     "text": [
      "Warning: the fonts \"Times\" and \"Times\" are not available for the Java logical font \"Serif\", which may have unexpected appearance or behavior. Re-enable the \"Times\" font to remove this warning.\n"
     ]
    },
    {
     "name": "stdout",
     "output_type": "stream",
     "text": [
      "Annotated RXN Image /Users/krv114/Documents/GitHub/incawrapper/mappedRxns/ECBLAST_ETOHt2r_AAM.png\n",
      "Output is presented in text format: /Users/krv114/Documents/GitHub/incawrapper/mappedRxns/ECBLAST_ETOHt2r_AAM.txt\n",
      "!--------------------------------------------------------\n",
      "Reaction Decoder Tool (RDT)\n",
      "\n",
      "Author: Syed Asad Rahman\n",
      "e-mail: asad@ebi.ac.uk|s9asad@gmail.com\n",
      "c/o EMBL-European BioInformatics Institute (EBI)\n",
      "WTGC, CB10 1SD Hinxton\n",
      "UK\n",
      "\n",
      "Note: The copyright of this software belongs to the author\n",
      "and EMBL-European BioInformatics Institute (EBI).\n",
      "\n",
      "Reference\n",
      "Rahman, S.A. et.al.(2016) Reaction Decoder Tool (RDT):\n",
      "Extracting Features from Chemical Reactions, Bioinformatics (2016)\n",
      "doi: 10.1093/bioinformatics/btw096\n",
      "!--------------------------------------------------------\n",
      "\n",
      "-- AAM --\n"
     ]
    },
    {
     "name": "stderr",
     "output_type": "stream",
     "text": [
      "uk.ac.ebi.reactionblast.mechanism.ReactionMechanismTool WARN: Number of atom(s) on the Left side 62 =/= Number of atom(s) on the Right side 56\n",
      "uk.ac.ebi.reactionblast.mechanism.ReactionMechanismTool WARN: {C=23, Ca=1, N=7, O=25, P=5, S=1} =/= {C=23, N=7, O=21, P=4, S=1}\n",
      "uk.ac.ebi.reactionblast.mechanism.ReactionMechanismTool WARN: Unmapped atoms present in this reaction(MIN) algorithm.\n"
     ]
    },
    {
     "name": "stdout",
     "output_type": "stream",
     "text": [
      "0    [main] INFO  net.sf.jnati.deploy.artefact.ConfigManager  - Loading global configuration\n",
      "13   [main] DEBUG net.sf.jnati.deploy.artefact.ConfigManager  - Loading defaults: jar:file:/Users/krv114/Documents/GitHub/incawrapper/RDT.jar!/META-INF/jnati/jnati.default-properties\n",
      "14   [main] INFO  net.sf.jnati.deploy.artefact.ConfigManager  - Loading artefact configuration: jniinchi-1.03_1\n",
      "16   [main] DEBUG net.sf.jnati.deploy.artefact.ConfigManager  - Loading instance defaults: jar:file:/Users/krv114/Documents/GitHub/incawrapper/RDT.jar!/META-INF/jnati/jnati.instance.default-properties\n",
      "19   [main] INFO  net.sf.jnati.deploy.repository.ClasspathRepository  - Searching classpath for: jniinchi-1.03_1-MAC-X86_64\n",
      "20   [main] INFO  net.sf.jnati.deploy.repository.LocalRepository  - Searching local repository for: jniinchi-1.03_1-MAC-X86_64\n",
      "20   [main] DEBUG net.sf.jnati.deploy.repository.LocalRepository  - Artefact path: /Users/krv114/.jnati/repo/jniinchi/1.03_1/MAC-X86_64\n",
      "21   [main] INFO  net.sf.jnati.deploy.artefact.ManifestReader  - Reading manifest\n",
      "51   [main] INFO  net.sf.jnati.deploy.NativeArtefactLocator  - Artefact (jniinchi-1.03_1-MAC-X86_64) location: /Users/krv114/.jnati/repo/jniinchi/1.03_1/MAC-X86_64\n",
      "51   [main] DEBUG net.sf.jnati.deploy.NativeLibraryLoader  - Loading library: /Users/krv114/.jnati/repo/jniinchi/1.03_1/MAC-X86_64/JniInchi-1.03_1-MAC-X86_64\n"
     ]
    },
    {
     "name": "stderr",
     "output_type": "stream",
     "text": [
      "uk.ac.ebi.reactionblast.mechanism.ReactionMechanismTool WARN: Unmapped atoms present in this reaction(MAX) algorithm.\n",
      "uk.ac.ebi.reactionblast.mechanism.ReactionMechanismTool WARN: Unmapped atoms present in this reaction(MIXTURE) algorithm.\n"
     ]
    },
    {
     "name": "stdout",
     "output_type": "stream",
     "text": [
      "Mapped RXN File /Users/krv114/Documents/GitHub/incawrapper/mappedRxns/ECBLAST_PTAr_AAM.rxn\n"
     ]
    },
    {
     "name": "stderr",
     "output_type": "stream",
     "text": [
      "Warning: the fonts \"Times\" and \"Times\" are not available for the Java logical font \"Serif\", which may have unexpected appearance or behavior. Re-enable the \"Times\" font to remove this warning.\n"
     ]
    },
    {
     "name": "stdout",
     "output_type": "stream",
     "text": [
      "Annotated RXN Image /Users/krv114/Documents/GitHub/incawrapper/mappedRxns/ECBLAST_PTAr_AAM.png\n",
      "Output is presented in text format: /Users/krv114/Documents/GitHub/incawrapper/mappedRxns/ECBLAST_PTAr_AAM.txt\n",
      "!--------------------------------------------------------\n",
      "Reaction Decoder Tool (RDT)\n",
      "\n",
      "Author: Syed Asad Rahman\n",
      "e-mail: asad@ebi.ac.uk|s9asad@gmail.com\n",
      "c/o EMBL-European BioInformatics Institute (EBI)\n",
      "WTGC, CB10 1SD Hinxton\n",
      "UK\n",
      "\n",
      "Note: The copyright of this software belongs to the author\n",
      "and EMBL-European BioInformatics Institute (EBI).\n",
      "\n",
      "Reference\n",
      "Rahman, S.A. et.al.(2016) Reaction Decoder Tool (RDT):\n",
      "Extracting Features from Chemical Reactions, Bioinformatics (2016)\n",
      "doi: 10.1093/bioinformatics/btw096\n",
      "!--------------------------------------------------------\n",
      "\n",
      "-- AAM --\n",
      "!--------------------------------------------------------\n",
      "Reaction Decoder Tool (RDT)\n",
      "\n",
      "Author: Syed Asad Rahman\n",
      "e-mail: asad@ebi.ac.uk|s9asad@gmail.com\n",
      "c/o EMBL-European BioInformatics Institute (EBI)\n",
      "WTGC, CB10 1SD Hinxton\n",
      "UK\n",
      "\n",
      "Note: The copyright of this software belongs to the author\n",
      "and EMBL-European BioInformatics Institute (EBI).\n",
      "\n",
      "Reference\n",
      "Rahman, S.A. et.al.(2016) Reaction Decoder Tool (RDT):\n",
      "Extracting Features from Chemical Reactions, Bioinformatics (2016)\n",
      "doi: 10.1093/bioinformatics/btw096\n",
      "!--------------------------------------------------------\n",
      "\n",
      "-- AAM --\n",
      "Mapped RXN File /Users/krv114/Documents/GitHub/incawrapper/mappedRxns/ECBLAST_AKGt2r_AAM.rxn\n"
     ]
    },
    {
     "name": "stderr",
     "output_type": "stream",
     "text": [
      "Warning: the fonts \"Times\" and \"Times\" are not available for the Java logical font \"Serif\", which may have unexpected appearance or behavior. Re-enable the \"Times\" font to remove this warning.\n"
     ]
    },
    {
     "name": "stdout",
     "output_type": "stream",
     "text": [
      "Annotated RXN Image /Users/krv114/Documents/GitHub/incawrapper/mappedRxns/ECBLAST_AKGt2r_AAM.png\n",
      "Output is presented in text format: /Users/krv114/Documents/GitHub/incawrapper/mappedRxns/ECBLAST_AKGt2r_AAM.txt\n",
      "!--------------------------------------------------------\n",
      "Reaction Decoder Tool (RDT)\n",
      "\n",
      "Author: Syed Asad Rahman\n",
      "e-mail: asad@ebi.ac.uk|s9asad@gmail.com\n",
      "c/o EMBL-European BioInformatics Institute (EBI)\n",
      "WTGC, CB10 1SD Hinxton\n",
      "UK\n",
      "\n",
      "Note: The copyright of this software belongs to the author\n",
      "and EMBL-European BioInformatics Institute (EBI).\n",
      "\n",
      "Reference\n",
      "Rahman, S.A. et.al.(2016) Reaction Decoder Tool (RDT):\n",
      "Extracting Features from Chemical Reactions, Bioinformatics (2016)\n",
      "doi: 10.1093/bioinformatics/btw096\n",
      "!--------------------------------------------------------\n",
      "\n",
      "-- AAM --\n",
      "Mapped RXN File /Users/krv114/Documents/GitHub/incawrapper/mappedRxns/ECBLAST_EX_ac_e_AAM.rxn\n"
     ]
    },
    {
     "name": "stderr",
     "output_type": "stream",
     "text": [
      "Warning: the fonts \"Times\" and \"Times\" are not available for the Java logical font \"Serif\", which may have unexpected appearance or behavior. Re-enable the \"Times\" font to remove this warning.\n"
     ]
    },
    {
     "name": "stdout",
     "output_type": "stream",
     "text": [
      "Annotated RXN Image /Users/krv114/Documents/GitHub/incawrapper/mappedRxns/ECBLAST_EX_ac_e_AAM.png\n",
      "Output is presented in text format: /Users/krv114/Documents/GitHub/incawrapper/mappedRxns/ECBLAST_EX_ac_e_AAM.txt\n",
      "!--------------------------------------------------------\n",
      "Reaction Decoder Tool (RDT)\n",
      "\n",
      "Author: Syed Asad Rahman\n",
      "e-mail: asad@ebi.ac.uk|s9asad@gmail.com\n",
      "c/o EMBL-European BioInformatics Institute (EBI)\n",
      "WTGC, CB10 1SD Hinxton\n",
      "UK\n",
      "\n",
      "Note: The copyright of this software belongs to the author\n",
      "and EMBL-European BioInformatics Institute (EBI).\n",
      "\n",
      "Reference\n",
      "Rahman, S.A. et.al.(2016) Reaction Decoder Tool (RDT):\n",
      "Extracting Features from Chemical Reactions, Bioinformatics (2016)\n",
      "doi: 10.1093/bioinformatics/btw096\n",
      "!--------------------------------------------------------\n",
      "\n",
      "-- AAM --\n",
      "Mapped RXN File /Users/krv114/Documents/GitHub/incawrapper/mappedRxns/ECBLAST_EX_succ_e_AAM.rxn\n"
     ]
    },
    {
     "name": "stderr",
     "output_type": "stream",
     "text": [
      "Warning: the fonts \"Times\" and \"Times\" are not available for the Java logical font \"Serif\", which may have unexpected appearance or behavior. Re-enable the \"Times\" font to remove this warning.\n"
     ]
    },
    {
     "name": "stdout",
     "output_type": "stream",
     "text": [
      "Annotated RXN Image /Users/krv114/Documents/GitHub/incawrapper/mappedRxns/ECBLAST_EX_succ_e_AAM.png\n",
      "Output is presented in text format: /Users/krv114/Documents/GitHub/incawrapper/mappedRxns/ECBLAST_EX_succ_e_AAM.txt\n",
      "!--------------------------------------------------------\n",
      "Reaction Decoder Tool (RDT)\n",
      "\n",
      "Author: Syed Asad Rahman\n",
      "e-mail: asad@ebi.ac.uk|s9asad@gmail.com\n",
      "c/o EMBL-European BioInformatics Institute (EBI)\n",
      "WTGC, CB10 1SD Hinxton\n",
      "UK\n",
      "\n",
      "Note: The copyright of this software belongs to the author\n",
      "and EMBL-European BioInformatics Institute (EBI).\n",
      "\n",
      "Reference\n",
      "Rahman, S.A. et.al.(2016) Reaction Decoder Tool (RDT):\n",
      "Extracting Features from Chemical Reactions, Bioinformatics (2016)\n",
      "doi: 10.1093/bioinformatics/btw096\n",
      "!--------------------------------------------------------\n",
      "\n",
      "-- AAM --\n",
      "!--------------------------------------------------------\n",
      "Reaction Decoder Tool (RDT)\n",
      "\n",
      "Author: Syed Asad Rahman\n",
      "e-mail: asad@ebi.ac.uk|s9asad@gmail.com\n",
      "c/o EMBL-European BioInformatics Institute (EBI)\n",
      "WTGC, CB10 1SD Hinxton\n",
      "UK\n",
      "\n",
      "Note: The copyright of this software belongs to the author\n",
      "and EMBL-European BioInformatics Institute (EBI).\n",
      "\n",
      "Reference\n",
      "Rahman, S.A. et.al.(2016) Reaction Decoder Tool (RDT):\n",
      "Extracting Features from Chemical Reactions, Bioinformatics (2016)\n",
      "doi: 10.1093/bioinformatics/btw096\n",
      "!--------------------------------------------------------\n",
      "\n",
      "-- AAM --\n",
      "Mapped RXN File /Users/krv114/Documents/GitHub/incawrapper/mappedRxns/ECBLAST_EX_co2_e_AAM.rxn\n"
     ]
    },
    {
     "name": "stderr",
     "output_type": "stream",
     "text": [
      "Warning: the fonts \"Times\" and \"Times\" are not available for the Java logical font \"Serif\", which may have unexpected appearance or behavior. Re-enable the \"Times\" font to remove this warning.\n"
     ]
    },
    {
     "name": "stdout",
     "output_type": "stream",
     "text": [
      "Annotated RXN Image /Users/krv114/Documents/GitHub/incawrapper/mappedRxns/ECBLAST_EX_co2_e_AAM.png\n",
      "Output is presented in text format: /Users/krv114/Documents/GitHub/incawrapper/mappedRxns/ECBLAST_EX_co2_e_AAM.txt\n",
      "!--------------------------------------------------------\n",
      "Reaction Decoder Tool (RDT)\n",
      "\n",
      "Author: Syed Asad Rahman\n",
      "e-mail: asad@ebi.ac.uk|s9asad@gmail.com\n",
      "c/o EMBL-European BioInformatics Institute (EBI)\n",
      "WTGC, CB10 1SD Hinxton\n",
      "UK\n",
      "\n",
      "Note: The copyright of this software belongs to the author\n",
      "and EMBL-European BioInformatics Institute (EBI).\n",
      "\n",
      "Reference\n",
      "Rahman, S.A. et.al.(2016) Reaction Decoder Tool (RDT):\n",
      "Extracting Features from Chemical Reactions, Bioinformatics (2016)\n",
      "doi: 10.1093/bioinformatics/btw096\n",
      "!--------------------------------------------------------\n",
      "\n",
      "-- AAM --\n",
      "Mapped RXN File /Users/krv114/Documents/GitHub/incawrapper/mappedRxns/ECBLAST_FORti_AAM.rxn\n"
     ]
    },
    {
     "name": "stderr",
     "output_type": "stream",
     "text": [
      "Warning: the fonts \"Times\" and \"Times\" are not available for the Java logical font \"Serif\", which may have unexpected appearance or behavior. Re-enable the \"Times\" font to remove this warning.\n"
     ]
    },
    {
     "name": "stdout",
     "output_type": "stream",
     "text": [
      "Annotated RXN Image /Users/krv114/Documents/GitHub/incawrapper/mappedRxns/ECBLAST_FORti_AAM.png\n",
      "Output is presented in text format: /Users/krv114/Documents/GitHub/incawrapper/mappedRxns/ECBLAST_FORti_AAM.txt\n",
      "!--------------------------------------------------------\n",
      "Reaction Decoder Tool (RDT)\n",
      "\n",
      "Author: Syed Asad Rahman\n",
      "e-mail: asad@ebi.ac.uk|s9asad@gmail.com\n",
      "c/o EMBL-European BioInformatics Institute (EBI)\n",
      "WTGC, CB10 1SD Hinxton\n",
      "UK\n",
      "\n",
      "Note: The copyright of this software belongs to the author\n",
      "and EMBL-European BioInformatics Institute (EBI).\n",
      "\n",
      "Reference\n",
      "Rahman, S.A. et.al.(2016) Reaction Decoder Tool (RDT):\n",
      "Extracting Features from Chemical Reactions, Bioinformatics (2016)\n",
      "doi: 10.1093/bioinformatics/btw096\n",
      "!--------------------------------------------------------\n",
      "\n",
      "-- AAM --\n",
      "0    [main] INFO  net.sf.jnati.deploy.artefact.ConfigManager  - Loading global configuration\n",
      "8    [main] DEBUG net.sf.jnati.deploy.artefact.ConfigManager  - Loading defaults: jar:file:/Users/krv114/Documents/GitHub/incawrapper/RDT.jar!/META-INF/jnati/jnati.default-properties\n",
      "9    [main] INFO  net.sf.jnati.deploy.artefact.ConfigManager  - Loading artefact configuration: jniinchi-1.03_1\n",
      "12   [main] DEBUG net.sf.jnati.deploy.artefact.ConfigManager  - Loading instance defaults: jar:file:/Users/krv114/Documents/GitHub/incawrapper/RDT.jar!/META-INF/jnati/jnati.instance.default-properties\n",
      "13   [main] INFO  net.sf.jnati.deploy.repository.ClasspathRepository  - Searching classpath for: jniinchi-1.03_1-MAC-X86_64\n",
      "14   [main] INFO  net.sf.jnati.deploy.repository.LocalRepository  - Searching local repository for: jniinchi-1.03_1-MAC-X86_64\n",
      "14   [main] DEBUG net.sf.jnati.deploy.repository.LocalRepository  - Artefact path: /Users/krv114/.jnati/repo/jniinchi/1.03_1/MAC-X86_64\n",
      "15   [main] INFO  net.sf.jnati.deploy.artefact.ManifestReader  - Reading manifest\n",
      "44   [main] INFO  net.sf.jnati.deploy.NativeArtefactLocator  - Artefact (jniinchi-1.03_1-MAC-X86_64) location: /Users/krv114/.jnati/repo/jniinchi/1.03_1/MAC-X86_64\n",
      "44   [main] DEBUG net.sf.jnati.deploy.NativeLibraryLoader  - Loading library: /Users/krv114/.jnati/repo/jniinchi/1.03_1/MAC-X86_64/JniInchi-1.03_1-MAC-X86_64\n",
      "Mapped RXN File /Users/krv114/Documents/GitHub/incawrapper/mappedRxns/ECBLAST_FBA_AAM.rxn\n"
     ]
    },
    {
     "name": "stderr",
     "output_type": "stream",
     "text": [
      "Warning: the fonts \"Times\" and \"Times\" are not available for the Java logical font \"Serif\", which may have unexpected appearance or behavior. Re-enable the \"Times\" font to remove this warning.\n"
     ]
    },
    {
     "name": "stdout",
     "output_type": "stream",
     "text": [
      "Annotated RXN Image /Users/krv114/Documents/GitHub/incawrapper/mappedRxns/ECBLAST_FBA_AAM.png\n",
      "Output is presented in text format: /Users/krv114/Documents/GitHub/incawrapper/mappedRxns/ECBLAST_FBA_AAM.txt\n",
      "!--------------------------------------------------------\n",
      "Reaction Decoder Tool (RDT)\n",
      "\n",
      "Author: Syed Asad Rahman\n",
      "e-mail: asad@ebi.ac.uk|s9asad@gmail.com\n",
      "c/o EMBL-European BioInformatics Institute (EBI)\n",
      "WTGC, CB10 1SD Hinxton\n",
      "UK\n",
      "\n",
      "Note: The copyright of this software belongs to the author\n",
      "and EMBL-European BioInformatics Institute (EBI).\n",
      "\n",
      "Reference\n",
      "Rahman, S.A. et.al.(2016) Reaction Decoder Tool (RDT):\n",
      "Extracting Features from Chemical Reactions, Bioinformatics (2016)\n",
      "doi: 10.1093/bioinformatics/btw096\n",
      "!--------------------------------------------------------\n",
      "\n",
      "-- AAM --\n",
      "Mapped RXN File /Users/krv114/Documents/GitHub/incawrapper/mappedRxns/ECBLAST_CO2t_AAM.rxn\n"
     ]
    },
    {
     "name": "stderr",
     "output_type": "stream",
     "text": [
      "Warning: the fonts \"Times\" and \"Times\" are not available for the Java logical font \"Serif\", which may have unexpected appearance or behavior. Re-enable the \"Times\" font to remove this warning.\n"
     ]
    },
    {
     "name": "stdout",
     "output_type": "stream",
     "text": [
      "Annotated RXN Image /Users/krv114/Documents/GitHub/incawrapper/mappedRxns/ECBLAST_CO2t_AAM.png\n",
      "Output is presented in text format: /Users/krv114/Documents/GitHub/incawrapper/mappedRxns/ECBLAST_CO2t_AAM.txt\n",
      "!--------------------------------------------------------\n",
      "Reaction Decoder Tool (RDT)\n",
      "\n",
      "Author: Syed Asad Rahman\n",
      "e-mail: asad@ebi.ac.uk|s9asad@gmail.com\n",
      "c/o EMBL-European BioInformatics Institute (EBI)\n",
      "WTGC, CB10 1SD Hinxton\n",
      "UK\n",
      "\n",
      "Note: The copyright of this software belongs to the author\n",
      "and EMBL-European BioInformatics Institute (EBI).\n",
      "\n",
      "Reference\n",
      "Rahman, S.A. et.al.(2016) Reaction Decoder Tool (RDT):\n",
      "Extracting Features from Chemical Reactions, Bioinformatics (2016)\n",
      "doi: 10.1093/bioinformatics/btw096\n",
      "!--------------------------------------------------------\n",
      "\n",
      "-- AAM --\n",
      "Mapped RXN File /Users/krv114/Documents/GitHub/incawrapper/mappedRxns/ECBLAST_EX_etoh_e_AAM.rxn\n"
     ]
    },
    {
     "name": "stderr",
     "output_type": "stream",
     "text": [
      "Warning: the fonts \"Times\" and \"Times\" are not available for the Java logical font \"Serif\", which may have unexpected appearance or behavior. Re-enable the \"Times\" font to remove this warning.\n"
     ]
    },
    {
     "name": "stdout",
     "output_type": "stream",
     "text": [
      "Annotated RXN Image /Users/krv114/Documents/GitHub/incawrapper/mappedRxns/ECBLAST_EX_etoh_e_AAM.png\n",
      "Output is presented in text format: /Users/krv114/Documents/GitHub/incawrapper/mappedRxns/ECBLAST_EX_etoh_e_AAM.txt\n",
      "!--------------------------------------------------------\n",
      "Reaction Decoder Tool (RDT)\n",
      "\n",
      "Author: Syed Asad Rahman\n",
      "e-mail: asad@ebi.ac.uk|s9asad@gmail.com\n",
      "c/o EMBL-European BioInformatics Institute (EBI)\n",
      "WTGC, CB10 1SD Hinxton\n",
      "UK\n",
      "\n",
      "Note: The copyright of this software belongs to the author\n",
      "and EMBL-European BioInformatics Institute (EBI).\n",
      "\n",
      "Reference\n",
      "Rahman, S.A. et.al.(2016) Reaction Decoder Tool (RDT):\n",
      "Extracting Features from Chemical Reactions, Bioinformatics (2016)\n",
      "doi: 10.1093/bioinformatics/btw096\n",
      "!--------------------------------------------------------\n",
      "\n",
      "-- AAM --\n",
      "Mapped RXN File /Users/krv114/Documents/GitHub/incawrapper/mappedRxns/ECBLAST_EX_acald_e_AAM.rxn\n"
     ]
    },
    {
     "name": "stderr",
     "output_type": "stream",
     "text": [
      "Warning: the fonts \"Times\" and \"Times\" are not available for the Java logical font \"Serif\", which may have unexpected appearance or behavior. Re-enable the \"Times\" font to remove this warning.\n"
     ]
    },
    {
     "name": "stdout",
     "output_type": "stream",
     "text": [
      "Annotated RXN Image /Users/krv114/Documents/GitHub/incawrapper/mappedRxns/ECBLAST_EX_acald_e_AAM.png\n",
      "Output is presented in text format: /Users/krv114/Documents/GitHub/incawrapper/mappedRxns/ECBLAST_EX_acald_e_AAM.txt\n",
      "!--------------------------------------------------------\n",
      "Reaction Decoder Tool (RDT)\n",
      "\n",
      "Author: Syed Asad Rahman\n",
      "e-mail: asad@ebi.ac.uk|s9asad@gmail.com\n",
      "c/o EMBL-European BioInformatics Institute (EBI)\n",
      "WTGC, CB10 1SD Hinxton\n",
      "UK\n",
      "\n",
      "Note: The copyright of this software belongs to the author\n",
      "and EMBL-European BioInformatics Institute (EBI).\n",
      "\n",
      "Reference\n",
      "Rahman, S.A. et.al.(2016) Reaction Decoder Tool (RDT):\n",
      "Extracting Features from Chemical Reactions, Bioinformatics (2016)\n",
      "doi: 10.1093/bioinformatics/btw096\n",
      "!--------------------------------------------------------\n",
      "\n",
      "-- AAM --\n",
      "Mapped RXN File /Users/krv114/Documents/GitHub/incawrapper/mappedRxns/ECBLAST_EX_pi_e_AAM.rxn\n"
     ]
    },
    {
     "name": "stderr",
     "output_type": "stream",
     "text": [
      "Warning: the fonts \"Times\" and \"Times\" are not available for the Java logical font \"Serif\", which may have unexpected appearance or behavior. Re-enable the \"Times\" font to remove this warning.\n"
     ]
    },
    {
     "name": "stdout",
     "output_type": "stream",
     "text": [
      "Annotated RXN Image /Users/krv114/Documents/GitHub/incawrapper/mappedRxns/ECBLAST_EX_pi_e_AAM.png\n",
      "Output is presented in text format: /Users/krv114/Documents/GitHub/incawrapper/mappedRxns/ECBLAST_EX_pi_e_AAM.txt\n",
      "!--------------------------------------------------------\n",
      "Reaction Decoder Tool (RDT)\n",
      "\n",
      "Author: Syed Asad Rahman\n",
      "e-mail: asad@ebi.ac.uk|s9asad@gmail.com\n",
      "c/o EMBL-European BioInformatics Institute (EBI)\n",
      "WTGC, CB10 1SD Hinxton\n",
      "UK\n",
      "\n",
      "Note: The copyright of this software belongs to the author\n",
      "and EMBL-European BioInformatics Institute (EBI).\n",
      "\n",
      "Reference\n",
      "Rahman, S.A. et.al.(2016) Reaction Decoder Tool (RDT):\n",
      "Extracting Features from Chemical Reactions, Bioinformatics (2016)\n",
      "doi: 10.1093/bioinformatics/btw096\n",
      "!--------------------------------------------------------\n",
      "\n",
      "-- AAM --\n",
      "0    [main] INFO  net.sf.jnati.deploy.artefact.ConfigManager  - Loading global configuration\n",
      "10   [main] DEBUG net.sf.jnati.deploy.artefact.ConfigManager  - Loading defaults: jar:file:/Users/krv114/Documents/GitHub/incawrapper/RDT.jar!/META-INF/jnati/jnati.default-properties\n",
      "11   [main] INFO  net.sf.jnati.deploy.artefact.ConfigManager  - Loading artefact configuration: jniinchi-1.03_1\n",
      "13   [main] DEBUG net.sf.jnati.deploy.artefact.ConfigManager  - Loading instance defaults: jar:file:/Users/krv114/Documents/GitHub/incawrapper/RDT.jar!/META-INF/jnati/jnati.instance.default-properties\n",
      "15   [main] INFO  net.sf.jnati.deploy.repository.ClasspathRepository  - Searching classpath for: jniinchi-1.03_1-MAC-X86_64\n",
      "17   [main] INFO  net.sf.jnati.deploy.repository.LocalRepository  - Searching local repository for: jniinchi-1.03_1-MAC-X86_64\n",
      "17   [main] DEBUG net.sf.jnati.deploy.repository.LocalRepository  - Artefact path: /Users/krv114/.jnati/repo/jniinchi/1.03_1/MAC-X86_64\n",
      "18   [main] INFO  net.sf.jnati.deploy.artefact.ManifestReader  - Reading manifest\n",
      "47   [main] INFO  net.sf.jnati.deploy.NativeArtefactLocator  - Artefact (jniinchi-1.03_1-MAC-X86_64) location: /Users/krv114/.jnati/repo/jniinchi/1.03_1/MAC-X86_64\n",
      "47   [main] DEBUG net.sf.jnati.deploy.NativeLibraryLoader  - Loading library: /Users/krv114/.jnati/repo/jniinchi/1.03_1/MAC-X86_64/JniInchi-1.03_1-MAC-X86_64\n",
      "Mapped RXN File /Users/krv114/Documents/GitHub/incawrapper/mappedRxns/ECBLAST_TPI_AAM.rxn\n"
     ]
    },
    {
     "name": "stderr",
     "output_type": "stream",
     "text": [
      "Warning: the fonts \"Times\" and \"Times\" are not available for the Java logical font \"Serif\", which may have unexpected appearance or behavior. Re-enable the \"Times\" font to remove this warning.\n"
     ]
    },
    {
     "name": "stdout",
     "output_type": "stream",
     "text": [
      "Annotated RXN Image /Users/krv114/Documents/GitHub/incawrapper/mappedRxns/ECBLAST_TPI_AAM.png\n",
      "Output is presented in text format: /Users/krv114/Documents/GitHub/incawrapper/mappedRxns/ECBLAST_TPI_AAM.txt\n",
      "!--------------------------------------------------------\n",
      "Reaction Decoder Tool (RDT)\n",
      "\n",
      "Author: Syed Asad Rahman\n",
      "e-mail: asad@ebi.ac.uk|s9asad@gmail.com\n",
      "c/o EMBL-European BioInformatics Institute (EBI)\n",
      "WTGC, CB10 1SD Hinxton\n",
      "UK\n",
      "\n",
      "Note: The copyright of this software belongs to the author\n",
      "and EMBL-European BioInformatics Institute (EBI).\n",
      "\n",
      "Reference\n",
      "Rahman, S.A. et.al.(2016) Reaction Decoder Tool (RDT):\n",
      "Extracting Features from Chemical Reactions, Bioinformatics (2016)\n",
      "doi: 10.1093/bioinformatics/btw096\n",
      "!--------------------------------------------------------\n",
      "\n",
      "-- AAM --\n",
      "!--------------------------------------------------------\n",
      "Reaction Decoder Tool (RDT)\n",
      "\n",
      "Author: Syed Asad Rahman\n",
      "e-mail: asad@ebi.ac.uk|s9asad@gmail.com\n",
      "c/o EMBL-European BioInformatics Institute (EBI)\n",
      "WTGC, CB10 1SD Hinxton\n",
      "UK\n",
      "\n",
      "Note: The copyright of this software belongs to the author\n",
      "and EMBL-European BioInformatics Institute (EBI).\n",
      "\n",
      "Reference\n",
      "Rahman, S.A. et.al.(2016) Reaction Decoder Tool (RDT):\n",
      "Extracting Features from Chemical Reactions, Bioinformatics (2016)\n",
      "doi: 10.1093/bioinformatics/btw096\n",
      "!--------------------------------------------------------\n",
      "\n",
      "-- AAM --\n",
      "Mapped RXN File /Users/krv114/Documents/GitHub/incawrapper/mappedRxns/ECBLAST_EX_nh4_e_AAM.rxn\n"
     ]
    },
    {
     "name": "stderr",
     "output_type": "stream",
     "text": [
      "Warning: the fonts \"Times\" and \"Times\" are not available for the Java logical font \"Serif\", which may have unexpected appearance or behavior. Re-enable the \"Times\" font to remove this warning.\n"
     ]
    },
    {
     "name": "stdout",
     "output_type": "stream",
     "text": [
      "Annotated RXN Image /Users/krv114/Documents/GitHub/incawrapper/mappedRxns/ECBLAST_EX_nh4_e_AAM.png\n",
      "Output is presented in text format: /Users/krv114/Documents/GitHub/incawrapper/mappedRxns/ECBLAST_EX_nh4_e_AAM.txt\n",
      "!--------------------------------------------------------\n",
      "Reaction Decoder Tool (RDT)\n",
      "\n",
      "Author: Syed Asad Rahman\n",
      "e-mail: asad@ebi.ac.uk|s9asad@gmail.com\n",
      "c/o EMBL-European BioInformatics Institute (EBI)\n",
      "WTGC, CB10 1SD Hinxton\n",
      "UK\n",
      "\n",
      "Note: The copyright of this software belongs to the author\n",
      "and EMBL-European BioInformatics Institute (EBI).\n",
      "\n",
      "Reference\n",
      "Rahman, S.A. et.al.(2016) Reaction Decoder Tool (RDT):\n",
      "Extracting Features from Chemical Reactions, Bioinformatics (2016)\n",
      "doi: 10.1093/bioinformatics/btw096\n",
      "!--------------------------------------------------------\n",
      "\n",
      "-- AAM --\n"
     ]
    },
    {
     "name": "stderr",
     "output_type": "stream",
     "text": [
      "uk.ac.ebi.reactionblast.mechanism.ReactionMechanismTool WARN: Number of atom(s) on the Left side 21 =/= Number of atom(s) on the Right side 27\n",
      "uk.ac.ebi.reactionblast.mechanism.ReactionMechanismTool WARN: {C=6, O=13, P=2} =/= {C=6, Ca=1, O=17, P=3}\n",
      "uk.ac.ebi.reactionblast.mechanism.ReactionMechanismTool WARN: Unmapped atoms present in this reaction(MIN) algorithm.\n"
     ]
    },
    {
     "name": "stdout",
     "output_type": "stream",
     "text": [
      "0    [main] INFO  net.sf.jnati.deploy.artefact.ConfigManager  - Loading global configuration\n",
      "10   [main] DEBUG net.sf.jnati.deploy.artefact.ConfigManager  - Loading defaults: jar:file:/Users/krv114/Documents/GitHub/incawrapper/RDT.jar!/META-INF/jnati/jnati.default-properties\n",
      "11   [main] INFO  net.sf.jnati.deploy.artefact.ConfigManager  - Loading artefact configuration: jniinchi-1.03_1\n",
      "13   [main] DEBUG net.sf.jnati.deploy.artefact.ConfigManager  - Loading instance defaults: jar:file:/Users/krv114/Documents/GitHub/incawrapper/RDT.jar!/META-INF/jnati/jnati.instance.default-properties\n",
      "16   [main] INFO  net.sf.jnati.deploy.repository.ClasspathRepository  - Searching classpath for: jniinchi-1.03_1-MAC-X86_64\n",
      "16   [main] INFO  net.sf.jnati.deploy.repository.LocalRepository  - Searching local repository for: jniinchi-1.03_1-MAC-X86_64\n",
      "17   [main] DEBUG net.sf.jnati.deploy.repository.LocalRepository  - Artefact path: /Users/krv114/.jnati/repo/jniinchi/1.03_1/MAC-X86_64\n",
      "17   [main] INFO  net.sf.jnati.deploy.artefact.ManifestReader  - Reading manifest\n",
      "45   [main] INFO  net.sf.jnati.deploy.NativeArtefactLocator  - Artefact (jniinchi-1.03_1-MAC-X86_64) location: /Users/krv114/.jnati/repo/jniinchi/1.03_1/MAC-X86_64\n",
      "45   [main] DEBUG net.sf.jnati.deploy.NativeLibraryLoader  - Loading library: /Users/krv114/.jnati/repo/jniinchi/1.03_1/MAC-X86_64/JniInchi-1.03_1-MAC-X86_64\n"
     ]
    },
    {
     "name": "stderr",
     "output_type": "stream",
     "text": [
      "uk.ac.ebi.reactionblast.mechanism.ReactionMechanismTool WARN: Unmapped atoms present in this reaction(MAX) algorithm.\n",
      "uk.ac.ebi.reactionblast.mechanism.ReactionMechanismTool WARN: Unmapped atoms present in this reaction(MIXTURE) algorithm.\n"
     ]
    },
    {
     "name": "stdout",
     "output_type": "stream",
     "text": [
      "Mapped RXN File /Users/krv114/Documents/GitHub/incawrapper/mappedRxns/ECBLAST_FBP_AAM.rxn\n"
     ]
    },
    {
     "name": "stderr",
     "output_type": "stream",
     "text": [
      "Warning: the fonts \"Times\" and \"Times\" are not available for the Java logical font \"Serif\", which may have unexpected appearance or behavior. Re-enable the \"Times\" font to remove this warning.\n"
     ]
    },
    {
     "name": "stdout",
     "output_type": "stream",
     "text": [
      "Annotated RXN Image /Users/krv114/Documents/GitHub/incawrapper/mappedRxns/ECBLAST_FBP_AAM.png\n",
      "Output is presented in text format: /Users/krv114/Documents/GitHub/incawrapper/mappedRxns/ECBLAST_FBP_AAM.txt\n",
      "!--------------------------------------------------------\n",
      "Reaction Decoder Tool (RDT)\n",
      "\n",
      "Author: Syed Asad Rahman\n",
      "e-mail: asad@ebi.ac.uk|s9asad@gmail.com\n",
      "c/o EMBL-European BioInformatics Institute (EBI)\n",
      "WTGC, CB10 1SD Hinxton\n",
      "UK\n",
      "\n",
      "Note: The copyright of this software belongs to the author\n",
      "and EMBL-European BioInformatics Institute (EBI).\n",
      "\n",
      "Reference\n",
      "Rahman, S.A. et.al.(2016) Reaction Decoder Tool (RDT):\n",
      "Extracting Features from Chemical Reactions, Bioinformatics (2016)\n",
      "doi: 10.1093/bioinformatics/btw096\n",
      "!--------------------------------------------------------\n",
      "\n",
      "-- AAM --\n"
     ]
    },
    {
     "name": "stderr",
     "output_type": "stream",
     "text": [
      "uk.ac.ebi.reactionblast.mechanism.ReactionMechanismTool WARN: Number of atom(s) on the Left side 36 =/= Number of atom(s) on the Right side 35\n",
      "uk.ac.ebi.reactionblast.mechanism.ReactionMechanismTool WARN: {C=12, N=6, O=15, P=3} =/= {C=12, N=5, O=15, P=3}\n",
      "uk.ac.ebi.reactionblast.mechanism.ReactionMechanismTool WARN: Unmapped atoms present in this reaction(MIN) algorithm.\n"
     ]
    },
    {
     "name": "stdout",
     "output_type": "stream",
     "text": [
      "0    [main] INFO  net.sf.jnati.deploy.artefact.ConfigManager  - Loading global configuration\n",
      "9    [main] DEBUG net.sf.jnati.deploy.artefact.ConfigManager  - Loading defaults: jar:file:/Users/krv114/Documents/GitHub/incawrapper/RDT.jar!/META-INF/jnati/jnati.default-properties\n",
      "10   [main] INFO  net.sf.jnati.deploy.artefact.ConfigManager  - Loading artefact configuration: jniinchi-1.03_1\n",
      "13   [main] DEBUG net.sf.jnati.deploy.artefact.ConfigManager  - Loading instance defaults: jar:file:/Users/krv114/Documents/GitHub/incawrapper/RDT.jar!/META-INF/jnati/jnati.instance.default-properties\n",
      "15   [main] INFO  net.sf.jnati.deploy.repository.ClasspathRepository  - Searching classpath for: jniinchi-1.03_1-MAC-X86_64\n",
      "16   [main] INFO  net.sf.jnati.deploy.repository.LocalRepository  - Searching local repository for: jniinchi-1.03_1-MAC-X86_64\n",
      "16   [main] DEBUG net.sf.jnati.deploy.repository.LocalRepository  - Artefact path: /Users/krv114/.jnati/repo/jniinchi/1.03_1/MAC-X86_64\n",
      "17   [main] INFO  net.sf.jnati.deploy.artefact.ManifestReader  - Reading manifest\n",
      "45   [main] INFO  net.sf.jnati.deploy.NativeArtefactLocator  - Artefact (jniinchi-1.03_1-MAC-X86_64) location: /Users/krv114/.jnati/repo/jniinchi/1.03_1/MAC-X86_64\n",
      "45   [main] DEBUG net.sf.jnati.deploy.NativeLibraryLoader  - Loading library: /Users/krv114/.jnati/repo/jniinchi/1.03_1/MAC-X86_64/JniInchi-1.03_1-MAC-X86_64\n"
     ]
    },
    {
     "name": "stderr",
     "output_type": "stream",
     "text": [
      "uk.ac.ebi.reactionblast.mechanism.ReactionMechanismTool WARN: Unmapped atoms present in this reaction(MAX) algorithm.\n",
      "uk.ac.ebi.reactionblast.mechanism.ReactionMechanismTool WARN: Unmapped atoms present in this reaction(MIXTURE) algorithm.\n"
     ]
    },
    {
     "name": "stdout",
     "output_type": "stream",
     "text": [
      "Mapped RXN File /Users/krv114/Documents/GitHub/incawrapper/mappedRxns/ECBLAST_ACKr_AAM.rxn\n"
     ]
    },
    {
     "name": "stderr",
     "output_type": "stream",
     "text": [
      "Warning: the fonts \"Times\" and \"Times\" are not available for the Java logical font \"Serif\", which may have unexpected appearance or behavior. Re-enable the \"Times\" font to remove this warning.\n"
     ]
    },
    {
     "name": "stdout",
     "output_type": "stream",
     "text": [
      "Annotated RXN Image /Users/krv114/Documents/GitHub/incawrapper/mappedRxns/ECBLAST_ACKr_AAM.png\n",
      "Output is presented in text format: /Users/krv114/Documents/GitHub/incawrapper/mappedRxns/ECBLAST_ACKr_AAM.txt\n",
      "Reactions mapped in total: 57/67\n"
     ]
    }
   ],
   "source": [
    "atom_mapping.obtain_atom_mappings(max_time=20, base_path=base_path)"
   ]
  },
  {
   "cell_type": "markdown",
   "id": "02071e9a",
   "metadata": {},
   "source": [
    "#### 6. Write reactions file with atom mapping"
   ]
  },
  {
   "cell_type": "code",
   "execution_count": 10,
   "id": "ea8a27b6",
   "metadata": {},
   "outputs": [
    {
     "data": {
      "text/plain": [
       "'/Users/krv114/Documents/GitHub/incawrapper/mappedRxns/rxnFiles'"
      ]
     },
     "execution_count": 10,
     "metadata": {},
     "output_type": "execute_result"
    }
   ],
   "source": [
    "base_path + '/mappedRxns/rxnFiles'"
   ]
  },
  {
   "cell_type": "code",
   "execution_count": 12,
   "id": "87fcbe4d",
   "metadata": {},
   "outputs": [
    {
     "name": "stdout",
     "output_type": "stream",
     "text": [
      "ACALD not mapped\n",
      "ACONTa not mapped\n",
      "ACONTb not mapped\n",
      "AKGDH not mapped\n",
      "Biomass_Ecoli_core not mapped\n",
      "CYTBD not mapped\n",
      "D_LACt2 not mapped\n",
      "EX_glc__D_e not mapped\n",
      "EX_gln__L_e not mapped\n",
      "EX_glu__L_e not mapped\n",
      "EX_h_e not mapped\n",
      "EX_lac__D_e not mapped\n",
      "EX_mal__L_e not mapped\n",
      "FRD7 not mapped\n",
      "FUM not mapped\n",
      " has unmapped carbon(-s)\n",
      "GAPD not mapped\n",
      "GLCpts not mapped\n",
      "GLNS not mapped\n",
      "GLNabc not mapped\n",
      "GLUDy not mapped\n",
      "GLUN not mapped\n",
      "GLUSy not mapped\n",
      "GLUt2r not mapped\n",
      "GND not mapped\n",
      " has unmapped carbon(-s)\n",
      "LDH_D not mapped\n",
      "MALS not mapped\n",
      "MALt2_2 not mapped\n",
      "MDH not mapped\n",
      "ME1 not mapped\n",
      "ME2 not mapped\n",
      "NADH16 not mapped\n",
      "NADTRHD not mapped\n",
      "PDH not mapped\n",
      "RPE not mapped\n",
      "RPI not mapped\n",
      "THD2 not mapped\n",
      "TKT1 not mapped\n",
      "TKT2 not mapped\n"
     ]
    },
    {
     "data": {
      "text/html": [
       "<div>\n",
       "<style scoped>\n",
       "    .dataframe tbody tr th:only-of-type {\n",
       "        vertical-align: middle;\n",
       "    }\n",
       "\n",
       "    .dataframe tbody tr th {\n",
       "        vertical-align: top;\n",
       "    }\n",
       "\n",
       "    .dataframe thead th {\n",
       "        text-align: right;\n",
       "    }\n",
       "</style>\n",
       "<table border=\"1\" class=\"dataframe\">\n",
       "  <thead>\n",
       "    <tr style=\"text-align: right;\">\n",
       "      <th></th>\n",
       "      <th>rxn_id</th>\n",
       "      <th>equation</th>\n",
       "    </tr>\n",
       "  </thead>\n",
       "  <tbody>\n",
       "    <tr>\n",
       "      <th>0</th>\n",
       "      <td>ACALDt</td>\n",
       "      <td>1.0*acald_e (C1:a C2:b) &lt;-&gt; 1.0*acald_c (C1:a ...</td>\n",
       "    </tr>\n",
       "    <tr>\n",
       "      <th>1</th>\n",
       "      <td>ACKr</td>\n",
       "      <td>1.0*M00001 (C1:a C2:b C3:c C4:d C5:e C6:f C7:g...</td>\n",
       "    </tr>\n",
       "    <tr>\n",
       "      <th>2</th>\n",
       "      <td>ACt2r</td>\n",
       "      <td>1.0*M00001 (C1:a C2:b) &lt;-&gt; 1.0*M00001 (C1:a C2:b)</td>\n",
       "    </tr>\n",
       "    <tr>\n",
       "      <th>3</th>\n",
       "      <td>ADK1</td>\n",
       "      <td>1.0*atp_c (C1:a C2:b C3:c C4:d C5:e C6:f C7:g ...</td>\n",
       "    </tr>\n",
       "    <tr>\n",
       "      <th>4</th>\n",
       "      <td>AKGt2r</td>\n",
       "      <td>1.0*akg_e (C1:a C2:b C3:c C4:d C5:e) &lt;-&gt; 1.0*a...</td>\n",
       "    </tr>\n",
       "    <tr>\n",
       "      <th>5</th>\n",
       "      <td>ALCD2x</td>\n",
       "      <td>1.0*nad_c (C1:a C2:b C3:c C4:d C5:e C6:f C7:g ...</td>\n",
       "    </tr>\n",
       "    <tr>\n",
       "      <th>6</th>\n",
       "      <td>ATPM</td>\n",
       "      <td>1.0*atp_c (C1:a C2:b C3:c C4:d C5:e C6:f C7:g ...</td>\n",
       "    </tr>\n",
       "    <tr>\n",
       "      <th>7</th>\n",
       "      <td>ATPS4r</td>\n",
       "      <td>1.0*adp_c (C1:a C2:b C3:c C4:d C5:e C6:f C7:g ...</td>\n",
       "    </tr>\n",
       "    <tr>\n",
       "      <th>8</th>\n",
       "      <td>CO2t</td>\n",
       "      <td>1.0*co2_e (C1:a) &lt;-&gt; 1.0*co2_c (C1:a)</td>\n",
       "    </tr>\n",
       "    <tr>\n",
       "      <th>9</th>\n",
       "      <td>CS</td>\n",
       "      <td>1.0*accoa_c (C1:a C2:b C3:c C4:d C5:e C6:f C7:...</td>\n",
       "    </tr>\n",
       "    <tr>\n",
       "      <th>10</th>\n",
       "      <td>ENO</td>\n",
       "      <td>1.0*2pg_c (C1:a C2:b C3:c) &lt;-&gt; 1.0*pep_cChEBI ...</td>\n",
       "    </tr>\n",
       "    <tr>\n",
       "      <th>11</th>\n",
       "      <td>ETOHt2r</td>\n",
       "      <td>1.0*etoh_eChEBI (C1:a C2:b) &lt;-&gt; 1.0*etoh_cChEB...</td>\n",
       "    </tr>\n",
       "    <tr>\n",
       "      <th>12</th>\n",
       "      <td>EX_ac_e</td>\n",
       "      <td>1.0*M00001 (C1:a C2:b) -&gt; 1.0*M00001 (C1:a C2:b)</td>\n",
       "    </tr>\n",
       "    <tr>\n",
       "      <th>13</th>\n",
       "      <td>EX_acald_e</td>\n",
       "      <td>1.0*acald_e (C1:a C2:b) -&gt; 1.0*acald_e (C1:a C...</td>\n",
       "    </tr>\n",
       "    <tr>\n",
       "      <th>14</th>\n",
       "      <td>EX_akg_e</td>\n",
       "      <td>1.0*akg_e (C1:a C2:b C3:c C4:d C5:e) -&gt; 1.0*ak...</td>\n",
       "    </tr>\n",
       "    <tr>\n",
       "      <th>15</th>\n",
       "      <td>EX_co2_e</td>\n",
       "      <td>1.0*co2_e (C1:a) &lt;-&gt; 1.0*co2_e (C1:a)</td>\n",
       "    </tr>\n",
       "    <tr>\n",
       "      <th>16</th>\n",
       "      <td>EX_etoh_e</td>\n",
       "      <td>1.0*etoh_eChEBI (C1:a C2:b) -&gt; 1.0*etoh_eChEBI...</td>\n",
       "    </tr>\n",
       "    <tr>\n",
       "      <th>17</th>\n",
       "      <td>EX_for_e</td>\n",
       "      <td>1.0*M00001 (C1:a) -&gt; 1.0*M00001 (C1:a)</td>\n",
       "    </tr>\n",
       "    <tr>\n",
       "      <th>18</th>\n",
       "      <td>EX_fru_e</td>\n",
       "      <td>1.0*fru_e (C1:a C2:b C3:c C4:d C5:e C6:f) -&gt; 1...</td>\n",
       "    </tr>\n",
       "    <tr>\n",
       "      <th>19</th>\n",
       "      <td>EX_fum_e</td>\n",
       "      <td>1.0*fum_e (C1:a C2:b C3:c C4:d) -&gt; 1.0*fum_e (...</td>\n",
       "    </tr>\n",
       "    <tr>\n",
       "      <th>20</th>\n",
       "      <td>EX_pyr_e</td>\n",
       "      <td>1.0*pyr_e (C1:a C2:b C3:c) -&gt; 1.0*pyr_e (C1:a ...</td>\n",
       "    </tr>\n",
       "    <tr>\n",
       "      <th>21</th>\n",
       "      <td>EX_succ_e</td>\n",
       "      <td>1.0*succ_e (C1:a C2:b C3:c C4:d) -&gt; 1.0*succ_e...</td>\n",
       "    </tr>\n",
       "    <tr>\n",
       "      <th>22</th>\n",
       "      <td>FBA</td>\n",
       "      <td>1.0*fdp_c (C1:a C2:b C3:c C4:d C5:e C6:f) &lt;-&gt; ...</td>\n",
       "    </tr>\n",
       "    <tr>\n",
       "      <th>23</th>\n",
       "      <td>FBP</td>\n",
       "      <td>1.0*fdp_c (C1:a C2:b C3:c C4:d C5:e C6:f) -&gt; 1...</td>\n",
       "    </tr>\n",
       "    <tr>\n",
       "      <th>24</th>\n",
       "      <td>FORt2</td>\n",
       "      <td>1.0*M00001 (C1:a) -&gt; 1.0*M00001 (C1:a)</td>\n",
       "    </tr>\n",
       "    <tr>\n",
       "      <th>25</th>\n",
       "      <td>FORti</td>\n",
       "      <td>1.0*M00001 (C1:a) -&gt; 1.0*M00001 (C1:a)</td>\n",
       "    </tr>\n",
       "    <tr>\n",
       "      <th>26</th>\n",
       "      <td>FRUpts2</td>\n",
       "      <td>1.0*fru_e (C1:a C2:b C3:c C4:d C5:e C6:f) + 1....</td>\n",
       "    </tr>\n",
       "    <tr>\n",
       "      <th>27</th>\n",
       "      <td>FUMt2_2</td>\n",
       "      <td>1.0*fum_e (C1:a C2:b C3:c C4:d) -&gt; 1.0*fum_c (...</td>\n",
       "    </tr>\n",
       "    <tr>\n",
       "      <th>28</th>\n",
       "      <td>ICL</td>\n",
       "      <td>1.0*icit_c (C1:a C2:b C3:c C4:d C5:e C6:f) -&gt; ...</td>\n",
       "    </tr>\n",
       "    <tr>\n",
       "      <th>29</th>\n",
       "      <td>PFK</td>\n",
       "      <td>1.0*atp_c (C1:a C2:b C3:c C4:d C5:e C6:f C7:g ...</td>\n",
       "    </tr>\n",
       "    <tr>\n",
       "      <th>30</th>\n",
       "      <td>PFL</td>\n",
       "      <td>1.0*coa_c (C1:a C2:b C3:c C4:d C5:e C6:f C7:g ...</td>\n",
       "    </tr>\n",
       "    <tr>\n",
       "      <th>31</th>\n",
       "      <td>PGI</td>\n",
       "      <td>1.0*g6p_c (C1:a C2:b C3:c C4:d C5:e C6:f) &lt;-&gt; ...</td>\n",
       "    </tr>\n",
       "    <tr>\n",
       "      <th>32</th>\n",
       "      <td>PGK</td>\n",
       "      <td>1.0*atp_c (C1:a C2:b C3:c C4:d C5:e C6:f C7:g ...</td>\n",
       "    </tr>\n",
       "    <tr>\n",
       "      <th>33</th>\n",
       "      <td>PGL</td>\n",
       "      <td>1.0*6pgl_c (C1:a C2:b C3:c C4:d C5:e C6:f) -&gt; ...</td>\n",
       "    </tr>\n",
       "    <tr>\n",
       "      <th>34</th>\n",
       "      <td>PGM</td>\n",
       "      <td>1.0*2pg_c (C1:a C2:b C3:c) &lt;-&gt; 1.0*3pg_c (C1:a...</td>\n",
       "    </tr>\n",
       "    <tr>\n",
       "      <th>35</th>\n",
       "      <td>PPC</td>\n",
       "      <td>1.0*pep_cChEBI (C1:a C2:b C3:c) + 1.0*co2_c (C...</td>\n",
       "    </tr>\n",
       "    <tr>\n",
       "      <th>36</th>\n",
       "      <td>PPCK</td>\n",
       "      <td>1.0*atp_c (C1:a C2:b C3:c C4:d C5:e C6:f C7:g ...</td>\n",
       "    </tr>\n",
       "    <tr>\n",
       "      <th>37</th>\n",
       "      <td>PPS</td>\n",
       "      <td>1.0*atp_c (C1:a C2:b C3:c C4:d C5:e C6:f C7:g ...</td>\n",
       "    </tr>\n",
       "    <tr>\n",
       "      <th>38</th>\n",
       "      <td>PTAr</td>\n",
       "      <td>1.0*accoa_c (C1:a C2:b C3:c C4:d C5:e C6:f C7:...</td>\n",
       "    </tr>\n",
       "    <tr>\n",
       "      <th>39</th>\n",
       "      <td>PYK</td>\n",
       "      <td>1.0*adp_c (C1:a C2:b C3:c C4:d C5:e C6:f C7:g ...</td>\n",
       "    </tr>\n",
       "    <tr>\n",
       "      <th>40</th>\n",
       "      <td>PYRt2</td>\n",
       "      <td>1.0*pyr_e (C1:a C2:b C3:c) &lt;-&gt; 1.0*pyr_c (C1:a...</td>\n",
       "    </tr>\n",
       "    <tr>\n",
       "      <th>41</th>\n",
       "      <td>SUCCt2_2</td>\n",
       "      <td>1.0*succ_e (C1:a C2:b C3:c C4:d) -&gt; 1.0*succ_c...</td>\n",
       "    </tr>\n",
       "    <tr>\n",
       "      <th>42</th>\n",
       "      <td>SUCCt3</td>\n",
       "      <td>1.0*succ_c (C1:a C2:b C3:c C4:d) -&gt; 1.0*succ_e...</td>\n",
       "    </tr>\n",
       "    <tr>\n",
       "      <th>43</th>\n",
       "      <td>SUCOAS</td>\n",
       "      <td>1.0*coa_c (C1:a C2:b C3:c C4:d C5:e C6:f C7:g ...</td>\n",
       "    </tr>\n",
       "    <tr>\n",
       "      <th>44</th>\n",
       "      <td>TALA</td>\n",
       "      <td>1.0*s7p_c (C1:a C2:b C3:c C4:d C5:e C6:f C7:g)...</td>\n",
       "    </tr>\n",
       "    <tr>\n",
       "      <th>45</th>\n",
       "      <td>TPI</td>\n",
       "      <td>1.0*dhap_c (C1:a C2:b C3:c) &lt;-&gt; 1.0*g3p_c (C1:...</td>\n",
       "    </tr>\n",
       "  </tbody>\n",
       "</table>\n",
       "</div>"
      ],
      "text/plain": [
       "        rxn_id                                           equation\n",
       "0       ACALDt  1.0*acald_e (C1:a C2:b) <-> 1.0*acald_c (C1:a ...\n",
       "1         ACKr  1.0*M00001 (C1:a C2:b C3:c C4:d C5:e C6:f C7:g...\n",
       "2        ACt2r  1.0*M00001 (C1:a C2:b) <-> 1.0*M00001 (C1:a C2:b)\n",
       "3         ADK1  1.0*atp_c (C1:a C2:b C3:c C4:d C5:e C6:f C7:g ...\n",
       "4       AKGt2r  1.0*akg_e (C1:a C2:b C3:c C4:d C5:e) <-> 1.0*a...\n",
       "5       ALCD2x  1.0*nad_c (C1:a C2:b C3:c C4:d C5:e C6:f C7:g ...\n",
       "6         ATPM  1.0*atp_c (C1:a C2:b C3:c C4:d C5:e C6:f C7:g ...\n",
       "7       ATPS4r  1.0*adp_c (C1:a C2:b C3:c C4:d C5:e C6:f C7:g ...\n",
       "8         CO2t              1.0*co2_e (C1:a) <-> 1.0*co2_c (C1:a)\n",
       "9           CS  1.0*accoa_c (C1:a C2:b C3:c C4:d C5:e C6:f C7:...\n",
       "10         ENO  1.0*2pg_c (C1:a C2:b C3:c) <-> 1.0*pep_cChEBI ...\n",
       "11     ETOHt2r  1.0*etoh_eChEBI (C1:a C2:b) <-> 1.0*etoh_cChEB...\n",
       "12     EX_ac_e   1.0*M00001 (C1:a C2:b) -> 1.0*M00001 (C1:a C2:b)\n",
       "13  EX_acald_e  1.0*acald_e (C1:a C2:b) -> 1.0*acald_e (C1:a C...\n",
       "14    EX_akg_e  1.0*akg_e (C1:a C2:b C3:c C4:d C5:e) -> 1.0*ak...\n",
       "15    EX_co2_e              1.0*co2_e (C1:a) <-> 1.0*co2_e (C1:a)\n",
       "16   EX_etoh_e  1.0*etoh_eChEBI (C1:a C2:b) -> 1.0*etoh_eChEBI...\n",
       "17    EX_for_e             1.0*M00001 (C1:a) -> 1.0*M00001 (C1:a)\n",
       "18    EX_fru_e  1.0*fru_e (C1:a C2:b C3:c C4:d C5:e C6:f) -> 1...\n",
       "19    EX_fum_e  1.0*fum_e (C1:a C2:b C3:c C4:d) -> 1.0*fum_e (...\n",
       "20    EX_pyr_e  1.0*pyr_e (C1:a C2:b C3:c) -> 1.0*pyr_e (C1:a ...\n",
       "21   EX_succ_e  1.0*succ_e (C1:a C2:b C3:c C4:d) -> 1.0*succ_e...\n",
       "22         FBA  1.0*fdp_c (C1:a C2:b C3:c C4:d C5:e C6:f) <-> ...\n",
       "23         FBP  1.0*fdp_c (C1:a C2:b C3:c C4:d C5:e C6:f) -> 1...\n",
       "24       FORt2             1.0*M00001 (C1:a) -> 1.0*M00001 (C1:a)\n",
       "25       FORti             1.0*M00001 (C1:a) -> 1.0*M00001 (C1:a)\n",
       "26     FRUpts2  1.0*fru_e (C1:a C2:b C3:c C4:d C5:e C6:f) + 1....\n",
       "27     FUMt2_2  1.0*fum_e (C1:a C2:b C3:c C4:d) -> 1.0*fum_c (...\n",
       "28         ICL  1.0*icit_c (C1:a C2:b C3:c C4:d C5:e C6:f) -> ...\n",
       "29         PFK  1.0*atp_c (C1:a C2:b C3:c C4:d C5:e C6:f C7:g ...\n",
       "30         PFL  1.0*coa_c (C1:a C2:b C3:c C4:d C5:e C6:f C7:g ...\n",
       "31         PGI  1.0*g6p_c (C1:a C2:b C3:c C4:d C5:e C6:f) <-> ...\n",
       "32         PGK  1.0*atp_c (C1:a C2:b C3:c C4:d C5:e C6:f C7:g ...\n",
       "33         PGL  1.0*6pgl_c (C1:a C2:b C3:c C4:d C5:e C6:f) -> ...\n",
       "34         PGM  1.0*2pg_c (C1:a C2:b C3:c) <-> 1.0*3pg_c (C1:a...\n",
       "35         PPC  1.0*pep_cChEBI (C1:a C2:b C3:c) + 1.0*co2_c (C...\n",
       "36        PPCK  1.0*atp_c (C1:a C2:b C3:c C4:d C5:e C6:f C7:g ...\n",
       "37         PPS  1.0*atp_c (C1:a C2:b C3:c C4:d C5:e C6:f C7:g ...\n",
       "38        PTAr  1.0*accoa_c (C1:a C2:b C3:c C4:d C5:e C6:f C7:...\n",
       "39         PYK  1.0*adp_c (C1:a C2:b C3:c C4:d C5:e C6:f C7:g ...\n",
       "40       PYRt2  1.0*pyr_e (C1:a C2:b C3:c) <-> 1.0*pyr_c (C1:a...\n",
       "41    SUCCt2_2  1.0*succ_e (C1:a C2:b C3:c C4:d) -> 1.0*succ_c...\n",
       "42      SUCCt3  1.0*succ_c (C1:a C2:b C3:c C4:d) -> 1.0*succ_e...\n",
       "43      SUCOAS  1.0*coa_c (C1:a C2:b C3:c C4:d C5:e C6:f C7:g ...\n",
       "44        TALA  1.0*s7p_c (C1:a C2:b C3:c C4:d C5:e C6:f C7:g)...\n",
       "45         TPI  1.0*dhap_c (C1:a C2:b C3:c) <-> 1.0*g3p_c (C1:..."
      ]
     },
     "execution_count": 12,
     "metadata": {},
     "output_type": "execute_result"
    }
   ],
   "source": [
    "atom_mapping.parse_reaction_mappings(mapped_rxn_path=base_path + '/mappedRxns/rxnFiles', rxn_data=rxn_data)"
   ]
  },
  {
   "cell_type": "markdown",
   "id": "67a82b89",
   "metadata": {},
   "source": [
    "#### 7. When you're done, you can delete the downloaded files and directories to free up space"
   ]
  },
  {
   "cell_type": "code",
   "execution_count": 13,
   "id": "758b9d00",
   "metadata": {},
   "outputs": [],
   "source": [
    "atom_mapping.clean_output(base_path=base_path)"
   ]
  },
  {
   "cell_type": "code",
   "execution_count": null,
   "id": "dbaad8cc",
   "metadata": {},
   "outputs": [],
   "source": []
  }
 ],
 "metadata": {
  "kernelspec": {
   "display_name": "bfair",
   "language": "python",
   "name": "python3"
  },
  "language_info": {
   "codemirror_mode": {
    "name": "ipython",
    "version": 3
   },
   "file_extension": ".py",
   "mimetype": "text/x-python",
   "name": "python",
   "nbconvert_exporter": "python",
   "pygments_lexer": "ipython3",
   "version": "3.8.13"
  }
 },
 "nbformat": 4,
 "nbformat_minor": 5
}
