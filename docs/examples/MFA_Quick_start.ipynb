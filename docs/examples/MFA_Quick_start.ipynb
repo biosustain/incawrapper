{
 "cells": [
  {
   "attachments": {},
   "cell_type": "markdown",
   "metadata": {},
   "source": [
    "# INCA Parser - Quick start\n",
    "The INCA parser introduce a python wrapper to the Matlab application INCA. INCA is capable of conducting multiple different 13C-MFA algorithms, but it meant to be used through a GUI and there it is hard in incorporate into high throughput pipelines or just laborious to handle many samples and measurements. The INCA parser operates on both sides of INCA it helps input model and data into INCA, it can run INCA algorithms and finally provides a workflow to export data from INCA after execution of algorithms."
   ]
  },
  {
   "cell_type": "code",
   "execution_count": 11,
   "metadata": {},
   "outputs": [],
   "source": [
    "import pandas as pd\n",
    "import pathlib\n",
    "from BFAIR.mfa.INCA.INCA_script import INCA_script\n",
    "from BFAIR.mfa.INCA.INCA_script_writing import define_options, define_runner, create_inca_script_from_data\n",
    "import ast\n",
    "from BFAIR.mfa.INCA.run_inca import run_inca\n"
   ]
  },
  {
   "attachments": {},
   "cell_type": "markdown",
   "metadata": {},
   "source": [
    "The input data to the INCA parser is given as pandas dataframes, that has to comply to specified dataschemas (See XX for a thorough walk through of the requirements). The minimum inputs to run MFA in INCA is \n",
    "- Reaction data\n",
    "- Tracer data\n",
    "\n",
    "For stationary 13C-MFA least one of\n",
    "- Flux measurements\n",
    "- MS measurements\n",
    "\n",
    "For Isotopically Non-stationary 13C-MFA additionally measurements of the metabolite pool are required.\n",
    "\n",
    "Let's load the data"
   ]
  },
  {
   "cell_type": "code",
   "execution_count": 12,
   "metadata": {},
   "outputs": [],
   "source": [
    "data_folder = pathlib.Path(\"../../tests/test_data/MFA_modelInputsData/simple_model/\")\n",
    "tracers_data = pd.read_csv(data_folder / \"tracers.csv\", \n",
    "   converters={'atom_mdv':ast.literal_eval}\n",
    ")\n",
    "reactions_data = pd.read_csv(data_folder / \"reactions.csv\")\n",
    "flux_data = pd.read_csv(data_folder / \"measuredFluxes.csv\")\n",
    "ms_data = pd.read_csv(data_folder / \"experimentalMS_data_multiple_experiments.csv\", \n",
    "   converters={'atom_ids':ast.literal_eval, 'labelled_atom_ids': ast.literal_eval, 'idv': ast.literal_eval, 'idv_std_error': ast.literal_eval}\n",
    ")"
   ]
  },
  {
   "attachments": {},
   "cell_type": "markdown",
   "metadata": {},
   "source": [
    "We use a simple toy model with 5 reactions [1,2]. In this data set we have two experiments exp1 and exp2. They were conducted with different tracers. For exp1 we have both flux and MS measurements, while for exp2 the data set only contains MS measurements. We will quick view the input data, again for a detail description see XX."
   ]
  },
  {
   "cell_type": "code",
   "execution_count": 13,
   "metadata": {},
   "outputs": [
    {
     "data": {
      "text/html": [
       "<div>\n",
       "<style scoped>\n",
       "    .dataframe tbody tr th:only-of-type {\n",
       "        vertical-align: middle;\n",
       "    }\n",
       "\n",
       "    .dataframe tbody tr th {\n",
       "        vertical-align: top;\n",
       "    }\n",
       "\n",
       "    .dataframe thead th {\n",
       "        text-align: right;\n",
       "    }\n",
       "</style>\n",
       "<table border=\"1\" class=\"dataframe\">\n",
       "  <thead>\n",
       "    <tr style=\"text-align: right;\">\n",
       "      <th></th>\n",
       "      <th>model</th>\n",
       "      <th>rxn_id</th>\n",
       "      <th>rxn_eqn</th>\n",
       "    </tr>\n",
       "  </thead>\n",
       "  <tbody>\n",
       "    <tr>\n",
       "      <th>0</th>\n",
       "      <td>simple_model</td>\n",
       "      <td>R1</td>\n",
       "      <td>A (abc) -&gt; B (abc)</td>\n",
       "    </tr>\n",
       "    <tr>\n",
       "      <th>1</th>\n",
       "      <td>simple_model</td>\n",
       "      <td>R2</td>\n",
       "      <td>B (abc) &lt;-&gt; D (abc)</td>\n",
       "    </tr>\n",
       "    <tr>\n",
       "      <th>2</th>\n",
       "      <td>simple_model</td>\n",
       "      <td>R3</td>\n",
       "      <td>B (abc) -&gt; C (bc) + E (a)</td>\n",
       "    </tr>\n",
       "    <tr>\n",
       "      <th>3</th>\n",
       "      <td>simple_model</td>\n",
       "      <td>R4</td>\n",
       "      <td>B (abc) + C (de) -&gt; D (bcd) + E (a) + E (e)</td>\n",
       "    </tr>\n",
       "    <tr>\n",
       "      <th>4</th>\n",
       "      <td>simple_model</td>\n",
       "      <td>R5</td>\n",
       "      <td>D (abc) -&gt; F (abc)</td>\n",
       "    </tr>\n",
       "  </tbody>\n",
       "</table>\n",
       "</div>"
      ],
      "text/plain": [
       "          model rxn_id                                      rxn_eqn\n",
       "0  simple_model     R1                           A (abc) -> B (abc)\n",
       "1  simple_model     R2                          B (abc) <-> D (abc)\n",
       "2  simple_model     R3                    B (abc) -> C (bc) + E (a)\n",
       "3  simple_model     R4  B (abc) + C (de) -> D (bcd) + E (a) + E (e)\n",
       "4  simple_model     R5                           D (abc) -> F (abc)"
      ]
     },
     "execution_count": 13,
     "metadata": {},
     "output_type": "execute_result"
    }
   ],
   "source": [
    "reactions_data.head()"
   ]
  },
  {
   "cell_type": "code",
   "execution_count": 14,
   "metadata": {},
   "outputs": [
    {
     "data": {
      "text/html": [
       "<div>\n",
       "<style scoped>\n",
       "    .dataframe tbody tr th:only-of-type {\n",
       "        vertical-align: middle;\n",
       "    }\n",
       "\n",
       "    .dataframe tbody tr th {\n",
       "        vertical-align: top;\n",
       "    }\n",
       "\n",
       "    .dataframe thead th {\n",
       "        text-align: right;\n",
       "    }\n",
       "</style>\n",
       "<table border=\"1\" class=\"dataframe\">\n",
       "  <thead>\n",
       "    <tr style=\"text-align: right;\">\n",
       "      <th></th>\n",
       "      <th>experiment_id</th>\n",
       "      <th>met_id</th>\n",
       "      <th>tracer_id</th>\n",
       "      <th>atom_ids</th>\n",
       "      <th>ratio</th>\n",
       "      <th>atom_mdv</th>\n",
       "      <th>enrichment</th>\n",
       "    </tr>\n",
       "  </thead>\n",
       "  <tbody>\n",
       "    <tr>\n",
       "      <th>0</th>\n",
       "      <td>exp1</td>\n",
       "      <td>A</td>\n",
       "      <td>[1-13C]A</td>\n",
       "      <td>[1]</td>\n",
       "      <td>1.0</td>\n",
       "      <td>[0, 1]</td>\n",
       "      <td>1</td>\n",
       "    </tr>\n",
       "    <tr>\n",
       "      <th>1</th>\n",
       "      <td>exp2</td>\n",
       "      <td>A</td>\n",
       "      <td>[1,2-13C]A</td>\n",
       "      <td>[1,2]</td>\n",
       "      <td>0.5</td>\n",
       "      <td>[0.05, 0.95]</td>\n",
       "      <td>1</td>\n",
       "    </tr>\n",
       "  </tbody>\n",
       "</table>\n",
       "</div>"
      ],
      "text/plain": [
       "  experiment_id met_id   tracer_id atom_ids  ratio      atom_mdv  enrichment\n",
       "0          exp1      A    [1-13C]A      [1]    1.0        [0, 1]           1\n",
       "1          exp2      A  [1,2-13C]A    [1,2]    0.5  [0.05, 0.95]           1"
      ]
     },
     "execution_count": 14,
     "metadata": {},
     "output_type": "execute_result"
    }
   ],
   "source": [
    "tracers_data.head()"
   ]
  },
  {
   "cell_type": "code",
   "execution_count": 15,
   "metadata": {},
   "outputs": [
    {
     "data": {
      "text/html": [
       "<div>\n",
       "<style scoped>\n",
       "    .dataframe tbody tr th:only-of-type {\n",
       "        vertical-align: middle;\n",
       "    }\n",
       "\n",
       "    .dataframe tbody tr th {\n",
       "        vertical-align: top;\n",
       "    }\n",
       "\n",
       "    .dataframe thead th {\n",
       "        text-align: right;\n",
       "    }\n",
       "</style>\n",
       "<table border=\"1\" class=\"dataframe\">\n",
       "  <thead>\n",
       "    <tr style=\"text-align: right;\">\n",
       "      <th></th>\n",
       "      <th>experiment_id</th>\n",
       "      <th>rxn_id</th>\n",
       "      <th>flux</th>\n",
       "      <th>flux_std_error</th>\n",
       "    </tr>\n",
       "  </thead>\n",
       "  <tbody>\n",
       "    <tr>\n",
       "      <th>0</th>\n",
       "      <td>exp1</td>\n",
       "      <td>R1</td>\n",
       "      <td>10.0</td>\n",
       "      <td>0.00001</td>\n",
       "    </tr>\n",
       "  </tbody>\n",
       "</table>\n",
       "</div>"
      ],
      "text/plain": [
       "  experiment_id rxn_id  flux  flux_std_error\n",
       "0          exp1     R1  10.0         0.00001"
      ]
     },
     "execution_count": 15,
     "metadata": {},
     "output_type": "execute_result"
    }
   ],
   "source": [
    "flux_data.head()"
   ]
  },
  {
   "cell_type": "code",
   "execution_count": 16,
   "metadata": {},
   "outputs": [
    {
     "data": {
      "text/html": [
       "<div>\n",
       "<style scoped>\n",
       "    .dataframe tbody tr th:only-of-type {\n",
       "        vertical-align: middle;\n",
       "    }\n",
       "\n",
       "    .dataframe tbody tr th {\n",
       "        vertical-align: top;\n",
       "    }\n",
       "\n",
       "    .dataframe thead th {\n",
       "        text-align: right;\n",
       "    }\n",
       "</style>\n",
       "<table border=\"1\" class=\"dataframe\">\n",
       "  <thead>\n",
       "    <tr style=\"text-align: right;\">\n",
       "      <th></th>\n",
       "      <th>experiment_id</th>\n",
       "      <th>time</th>\n",
       "      <th>met_id</th>\n",
       "      <th>ms_id</th>\n",
       "      <th>unlabelled_atoms</th>\n",
       "      <th>labelled_atom_ids</th>\n",
       "      <th>idv</th>\n",
       "      <th>idv_std_error</th>\n",
       "    </tr>\n",
       "  </thead>\n",
       "  <tbody>\n",
       "    <tr>\n",
       "      <th>0</th>\n",
       "      <td>exp1</td>\n",
       "      <td>0</td>\n",
       "      <td>F</td>\n",
       "      <td>F1</td>\n",
       "      <td>C3H5O1</td>\n",
       "      <td>[1, 2, 3]</td>\n",
       "      <td>[0.01, 0.8, 0.1, 0.0009]</td>\n",
       "      <td>[0.0003, 0.003, 0.0008, 0.001]</td>\n",
       "    </tr>\n",
       "    <tr>\n",
       "      <th>1</th>\n",
       "      <td>exp2</td>\n",
       "      <td>0</td>\n",
       "      <td>F</td>\n",
       "      <td>F1</td>\n",
       "      <td>C3H5O1</td>\n",
       "      <td>[1, 2, 3]</td>\n",
       "      <td>[0.5, 0.45, 0.05, 0.0]</td>\n",
       "      <td>[3e-05, 0.0027, 0.03, 0.001]</td>\n",
       "    </tr>\n",
       "  </tbody>\n",
       "</table>\n",
       "</div>"
      ],
      "text/plain": [
       "  experiment_id  time met_id ms_id unlabelled_atoms labelled_atom_ids  \\\n",
       "0          exp1     0      F    F1           C3H5O1         [1, 2, 3]   \n",
       "1          exp2     0      F    F1           C3H5O1         [1, 2, 3]   \n",
       "\n",
       "                        idv                   idv_std_error  \n",
       "0  [0.01, 0.8, 0.1, 0.0009]  [0.0003, 0.003, 0.0008, 0.001]  \n",
       "1    [0.5, 0.45, 0.05, 0.0]    [3e-05, 0.0027, 0.03, 0.001]  "
      ]
     },
     "execution_count": 16,
     "metadata": {},
     "output_type": "execute_result"
    }
   ],
   "source": [
    "ms_data.head()"
   ]
  },
  {
   "attachments": {},
   "cell_type": "markdown",
   "metadata": {},
   "source": [
    "With the data loaded we are ready to create the INCA script that specifies the model, data and algorithms that we wish to apply. We will specify that estimation algorithm to do 5 restarts and that INCA should not do naturel abundance correction. Finally, specify that we wish to run the three of INCA's algorithms: estimate, simulate and continuate and that the model including the results should be saved in a file called simple_model_quickstart.mat in the current working directory."
   ]
  },
  {
   "cell_type": "code",
   "execution_count": 19,
   "metadata": {},
   "outputs": [],
   "source": [
    "output_file = \"simple_model_quikstart.mat\"\n",
    "script = create_inca_script_from_data(reactions_data, tracers_data, flux_data, ms_data)\n",
    "script.add_to_block(\"options\", define_options(fit_starts=5,sim_na=False))\n",
    "script.add_to_block(\"runner\", define_runner(output_file, run_estimate=True, run_simulation=True, run_continuation=True))"
   ]
  },
  {
   "attachments": {},
   "cell_type": "markdown",
   "metadata": {},
   "source": [
    "Now the script is ready to run in matlab."
   ]
  },
  {
   "cell_type": "code",
   "execution_count": 23,
   "metadata": {},
   "outputs": [
    {
     "name": "stdout",
     "output_type": "stream",
     "text": [
      "INCA script saved to /var/folders/z6/mxpxh4k56tv0h0ff41vmx7gdwtlpvp/T/tmpvzylx33u/inca_script.m.\n",
      "Starting MATLAB engine...\n"
     ]
    },
    {
     "name": "stderr",
     "output_type": "stream",
     "text": [
      "Error using regexp\n",
      "Invalid option for regexp: .\n",
      "\n",
      "Error in tracer>subparse\n",
      "\n",
      "Error in tracer>parse\n",
      "\n",
      "Error in tracer\n",
      "\n",
      "Error in inca_script (line 15)\n",
      "t_exp1 = tracer({...\n",
      "\n"
     ]
    },
    {
     "ename": "MatlabExecutionError",
     "evalue": "\n  File /Users/s143838/inca2.1/class/@tracer/tracer.p, line 0, in subparse\n\n  File /Users/s143838/inca2.1/class/@tracer/tracer.p, line 0, in parse\n\n  File /Users/s143838/inca2.1/class/@tracer/tracer.p, line 0, in tracer\n\n  File /private/var/folders/z6/mxpxh4k56tv0h0ff41vmx7gdwtlpvp/T/tmpvzylx33u/inca_script.m, line 15, in inca_script\nInvalid option for regexp: .\n",
     "output_type": "error",
     "traceback": [
      "\u001b[0;31m---------------------------------------------------------------------------\u001b[0m",
      "\u001b[0;31mMatlabExecutionError\u001b[0m                      Traceback (most recent call last)",
      "Cell \u001b[0;32mIn[23], line 3\u001b[0m\n\u001b[1;32m      1\u001b[0m \u001b[39mimport\u001b[39;00m \u001b[39mdotenv\u001b[39;00m\n\u001b[1;32m      2\u001b[0m inca_directory \u001b[39m=\u001b[39m pathlib\u001b[39m.\u001b[39mPath(dotenv\u001b[39m.\u001b[39mget_key(dotenv\u001b[39m.\u001b[39mfind_dotenv(), \u001b[39m\"\u001b[39m\u001b[39mINCA_base_directory\u001b[39m\u001b[39m\"\u001b[39m))\n\u001b[0;32m----> 3\u001b[0m run_inca(script, INCA_base_directory\u001b[39m=\u001b[39;49minca_directory)\n",
      "File \u001b[0;32m~/projects/AutoFlow-OmicsDataHandling/BFAIR/mfa/INCA/run_inca.py:36\u001b[0m, in \u001b[0;36mrun_inca\u001b[0;34m(inca_script, INCA_base_directory)\u001b[0m\n\u001b[1;32m     34\u001b[0m eng\u001b[39m.\u001b[39mcd(\u001b[39mstr\u001b[39m(temp_dir\u001b[39m.\u001b[39mresolve()), nargout\u001b[39m=\u001b[39m\u001b[39m0\u001b[39m)\n\u001b[1;32m     35\u001b[0m _f \u001b[39m=\u001b[39m \u001b[39mgetattr\u001b[39m(eng, \u001b[39mstr\u001b[39m(script_filename\u001b[39m.\u001b[39mreplace(\u001b[39m\"\u001b[39m\u001b[39m.m\u001b[39m\u001b[39m\"\u001b[39m, \u001b[39m\"\u001b[39m\u001b[39m\"\u001b[39m)))\n\u001b[0;32m---> 36\u001b[0m _f(nargout\u001b[39m=\u001b[39;49m\u001b[39m0\u001b[39;49m)\n\u001b[1;32m     37\u001b[0m eng\u001b[39m.\u001b[39mquit()\n\u001b[1;32m     38\u001b[0m \u001b[39mprint\u001b[39m(\u001b[39m\"\u001b[39m\u001b[39m--- \u001b[39m\u001b[39m%s\u001b[39;00m\u001b[39m seconds -\u001b[39m\u001b[39m\"\u001b[39m \u001b[39m%\u001b[39m (time\u001b[39m.\u001b[39mtime() \u001b[39m-\u001b[39m start_time))\n",
      "File \u001b[0;32m~/.virtualenvs/bfair-testing/lib/python3.10/site-packages/matlab/engine/matlabengine.py:71\u001b[0m, in \u001b[0;36mMatlabFunc.__call__\u001b[0;34m(self, *args, **kwargs)\u001b[0m\n\u001b[1;32m     68\u001b[0m     \u001b[39mreturn\u001b[39;00m FutureResult(\u001b[39mself\u001b[39m\u001b[39m.\u001b[39m_engine(), future, nargs, _stdout, _stderr, feval\u001b[39m=\u001b[39m\u001b[39mTrue\u001b[39;00m)\n\u001b[1;32m     69\u001b[0m \u001b[39melse\u001b[39;00m:\n\u001b[1;32m     70\u001b[0m     \u001b[39mreturn\u001b[39;00m FutureResult(\u001b[39mself\u001b[39;49m\u001b[39m.\u001b[39;49m_engine(), future, nargs, _stdout,\n\u001b[0;32m---> 71\u001b[0m                         _stderr, feval\u001b[39m=\u001b[39;49m\u001b[39mTrue\u001b[39;49;00m)\u001b[39m.\u001b[39;49mresult()\n",
      "File \u001b[0;32m~/.virtualenvs/bfair-testing/lib/python3.10/site-packages/matlab/engine/futureresult.py:67\u001b[0m, in \u001b[0;36mFutureResult.result\u001b[0;34m(self, timeout)\u001b[0m\n\u001b[1;32m     64\u001b[0m     \u001b[39mif\u001b[39;00m timeout \u001b[39m<\u001b[39m \u001b[39m0\u001b[39m:\n\u001b[1;32m     65\u001b[0m         \u001b[39mraise\u001b[39;00m \u001b[39mTypeError\u001b[39;00m(pythonengine\u001b[39m.\u001b[39mgetMessage(\u001b[39m'\u001b[39m\u001b[39mTimeoutCannotBeNegative\u001b[39m\u001b[39m'\u001b[39m))\n\u001b[0;32m---> 67\u001b[0m \u001b[39mreturn\u001b[39;00m \u001b[39mself\u001b[39;49m\u001b[39m.\u001b[39;49m__future\u001b[39m.\u001b[39;49mresult(timeout)\n",
      "File \u001b[0;32m~/.virtualenvs/bfair-testing/lib/python3.10/site-packages/matlab/engine/fevalfuture.py:82\u001b[0m, in \u001b[0;36mFevalFuture.result\u001b[0;34m(self, timeout)\u001b[0m\n\u001b[1;32m     79\u001b[0m \u001b[39mif\u001b[39;00m \u001b[39mnot\u001b[39;00m result_ready:\n\u001b[1;32m     80\u001b[0m     \u001b[39mraise\u001b[39;00m \u001b[39mTimeoutError\u001b[39;00m(pythonengine\u001b[39m.\u001b[39mgetMessage(\u001b[39m'\u001b[39m\u001b[39mMatlabFunctionTimeout\u001b[39m\u001b[39m'\u001b[39m))\n\u001b[0;32m---> 82\u001b[0m \u001b[39mself\u001b[39m\u001b[39m.\u001b[39m_result \u001b[39m=\u001b[39m pythonengine\u001b[39m.\u001b[39;49mgetFEvalResult(\u001b[39mself\u001b[39;49m\u001b[39m.\u001b[39;49m_future,\u001b[39mself\u001b[39;49m\u001b[39m.\u001b[39;49m_nargout, \u001b[39mNone\u001b[39;49;00m, out\u001b[39m=\u001b[39;49m\u001b[39mself\u001b[39;49m\u001b[39m.\u001b[39;49m_out, err\u001b[39m=\u001b[39;49m\u001b[39mself\u001b[39;49m\u001b[39m.\u001b[39;49m_err)\n\u001b[1;32m     83\u001b[0m \u001b[39mself\u001b[39m\u001b[39m.\u001b[39m_retrieved \u001b[39m=\u001b[39m \u001b[39mTrue\u001b[39;00m\n\u001b[1;32m     84\u001b[0m \u001b[39mreturn\u001b[39;00m \u001b[39mself\u001b[39m\u001b[39m.\u001b[39m_result\n",
      "\u001b[0;31mMatlabExecutionError\u001b[0m: \n  File /Users/s143838/inca2.1/class/@tracer/tracer.p, line 0, in subparse\n\n  File /Users/s143838/inca2.1/class/@tracer/tracer.p, line 0, in parse\n\n  File /Users/s143838/inca2.1/class/@tracer/tracer.p, line 0, in tracer\n\n  File /private/var/folders/z6/mxpxh4k56tv0h0ff41vmx7gdwtlpvp/T/tmpvzylx33u/inca_script.m, line 15, in inca_script\nInvalid option for regexp: .\n"
     ]
    }
   ],
   "source": [
    "import dotenv\n",
    "inca_directory = pathlib.Path(dotenv.get_key(dotenv.find_dotenv(), \"INCA_base_directory\"))\n",
    "run_inca(script, INCA_base_directory=inca_directory)"
   ]
  },
  {
   "cell_type": "code",
   "execution_count": 22,
   "metadata": {},
   "outputs": [
    {
     "name": "stderr",
     "output_type": "stream",
     "text": [
      "WARNING:dotenv.main:Key INCA_directory not found in /Users/s143838/projects/AutoFlow-OmicsDataHandling/.env.\n"
     ]
    }
   ],
   "source": [
    "dotenv.get_key(dotenv.find_dotenv(), \"INCA_directory\")"
   ]
  },
  {
   "cell_type": "code",
   "execution_count": null,
   "metadata": {},
   "outputs": [],
   "source": []
  }
 ],
 "metadata": {
  "kernelspec": {
   "display_name": "bfair-testing",
   "language": "python",
   "name": "python3"
  },
  "language_info": {
   "codemirror_mode": {
    "name": "ipython",
    "version": 3
   },
   "file_extension": ".py",
   "mimetype": "text/x-python",
   "name": "python",
   "nbconvert_exporter": "python",
   "pygments_lexer": "ipython3",
   "version": "3.10.8"
  },
  "orig_nbformat": 4,
  "vscode": {
   "interpreter": {
    "hash": "820c70ec08a0eb018d8ec3c5d089748cbb2d1e243fbedf0a7cbeb7c8948c3b84"
   }
  }
 },
 "nbformat": 4,
 "nbformat_minor": 2
}
