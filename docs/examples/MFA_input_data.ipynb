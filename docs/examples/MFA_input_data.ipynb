{
 "cells": [
  {
   "attachments": {},
   "cell_type": "markdown",
   "metadata": {},
   "source": [
    "# MFA input files\n",
    "Here we will describe the structure of the files required to create and run an INCA model."
   ]
  },
  {
   "cell_type": "code",
   "execution_count": 2,
   "metadata": {},
   "outputs": [],
   "source": [
    "import pandas as pd\n",
    "import pathlib\n",
    "import ast"
   ]
  },
  {
   "attachments": {},
   "cell_type": "markdown",
   "metadata": {},
   "source": [
    "The INCA parser does not directly read any files, but takes `pandas dataframes` as input. Thus, the user can make these dataframes using there preferred methods. In the end of this guide, we have a guide to write and read .csv or excel files to import them as correctly formatted dataframes.\n",
    "\n",
    "The data is validated using the Pandera python package. The validation covers both columns names and data types, thus column names must be specified exactly as shown in these examples. However the dataframes are allowed to contain more columns than the once required, though these extra columns are not parsed to INCA or to the INCA results object. To view the exact validation criteria for a specific data type inspect the data schema's found in the dataschema module.\n",
    "\n",
    "As an example we will show how to inspect the `model_reactions_schema`, which further described in the section **Model reactions data**"
   ]
  },
  {
   "cell_type": "code",
   "execution_count": 3,
   "metadata": {},
   "outputs": [
    {
     "data": {
      "text/plain": [
       "{'rxn_eqn': <Schema Column(name=rxn_eqn, type=DataType(str))>,\n",
       " 'rxn_id': <Schema Column(name=rxn_id, type=DataType(str))>}"
      ]
     },
     "execution_count": 3,
     "metadata": {},
     "output_type": "execute_result"
    }
   ],
   "source": [
    "from BFAIR.mfa.INCA.dataschemas import model_reactions_schema\n",
    "model_reactions_schema.columns"
   ]
  },
  {
   "attachments": {},
   "cell_type": "markdown",
   "metadata": {},
   "source": [
    "## Model reactions data\n",
    "This is were the reactions and the atom map in the model are defined. INCA requires the reactions to be defined with arrows `->` for irreversible reactions and `<->` for reversible reactions. There are two different syntaxes for the atom maps. First and simples is just to use letters, e.g. `abc`. If one requires more fine-grained control INCA also supports a syntax which specifies the individual atoms more explicit: `C1:a C2:b C3:c`.\n",
    "\n",
    "The reaction data requires two columns:\n",
    "- `rxn_id`: The unique id of the reaction\n",
    "- `rxn_eqn`: The reaction equation with atom map"
   ]
  },
  {
   "cell_type": "code",
   "execution_count": 4,
   "metadata": {},
   "outputs": [
    {
     "data": {
      "text/html": [
       "<div>\n",
       "<style scoped>\n",
       "    .dataframe tbody tr th:only-of-type {\n",
       "        vertical-align: middle;\n",
       "    }\n",
       "\n",
       "    .dataframe tbody tr th {\n",
       "        vertical-align: top;\n",
       "    }\n",
       "\n",
       "    .dataframe thead th {\n",
       "        text-align: right;\n",
       "    }\n",
       "</style>\n",
       "<table border=\"1\" class=\"dataframe\">\n",
       "  <thead>\n",
       "    <tr style=\"text-align: right;\">\n",
       "      <th></th>\n",
       "      <th>rxn_id</th>\n",
       "      <th>rxn_eqn</th>\n",
       "    </tr>\n",
       "  </thead>\n",
       "  <tbody>\n",
       "    <tr>\n",
       "      <th>0</th>\n",
       "      <td>R1</td>\n",
       "      <td>A (abc) -&gt; B (ab) + D (c)</td>\n",
       "    </tr>\n",
       "    <tr>\n",
       "      <th>1</th>\n",
       "      <td>R2</td>\n",
       "      <td>B (C1:a C1:b) &lt;-&gt; C (C1:b C2:a)</td>\n",
       "    </tr>\n",
       "    <tr>\n",
       "      <th>2</th>\n",
       "      <td>R3</td>\n",
       "      <td>C -&gt; D</td>\n",
       "    </tr>\n",
       "  </tbody>\n",
       "</table>\n",
       "</div>"
      ],
      "text/plain": [
       "  rxn_id                          rxn_eqn\n",
       "0     R1        A (abc) -> B (ab) + D (c)\n",
       "1     R2  B (C1:a C1:b) <-> C (C1:b C2:a)\n",
       "2     R3                           C -> D"
      ]
     },
     "execution_count": 4,
     "metadata": {},
     "output_type": "execute_result"
    }
   ],
   "source": [
    "model_reactions_example = pd.DataFrame(\n",
    "    {\n",
    "        \"rxn_id\": [\"R1\", \"R2\", \"R3\"],\n",
    "        \"rxn_eqn\": [\"A (abc) -> B (ab) + D (c)\", \"B (C1:a C1:b) <-> C (C1:b C2:a)\", \"C -> D\"],\n",
    "    }\n",
    ")\n",
    "model_reactions_example.head()"
   ]
  },
  {
   "attachments": {},
   "cell_type": "markdown",
   "metadata": {},
   "source": [
    "Notice that is is allowed to mix the atom mapping syntax and the model may contain reactions without an atom map."
   ]
  },
  {
   "attachments": {},
   "cell_type": "markdown",
   "metadata": {},
   "source": [
    "## Tracer data\n",
    "The tracer data specify the labelled compounds added to the experiment. The dataframe has a row for each experiment-tracer-labelling group combination, more on this later. For most users it will be sufficient to consider each row one experiment-tracer combination. The tracer dataframe has the following required columns:\n",
    "- `experiment_id`: The experiment in which the tracer was used.\n",
    "- `met_id`: the metabolite id for labelled compound.\n",
    "- `tracer_id`: name of the labelled metabolite.\n",
    "- `atom_ids`: ids of the labelled atoms in the labelled atom group (equivalent to columns of the same name in the INCA GUI)\n",
    "- `atom_mdv`: mass/isotopomer distribution vector of the labelled atom group (equivalent to columns of the same name in the INCA GUI). The simplest way to use this column is to specify the purity of the labelling group. This is done supplying a list two numbers, e.g. `[0.5, 0.95]` specifies 95% of the compound will be fully labelled in this labelling group. If different atom positions has different purity create a different labelling group for each position. For further description please refer to the INCA manual."
   ]
  },
  {
   "attachments": {},
   "cell_type": "markdown",
   "metadata": {},
   "source": [
    "Lets look at a simple and common example."
   ]
  },
  {
   "cell_type": "code",
   "execution_count": 5,
   "metadata": {},
   "outputs": [
    {
     "data": {
      "text/html": [
       "<div>\n",
       "<style scoped>\n",
       "    .dataframe tbody tr th:only-of-type {\n",
       "        vertical-align: middle;\n",
       "    }\n",
       "\n",
       "    .dataframe tbody tr th {\n",
       "        vertical-align: top;\n",
       "    }\n",
       "\n",
       "    .dataframe thead th {\n",
       "        text-align: right;\n",
       "    }\n",
       "</style>\n",
       "<table border=\"1\" class=\"dataframe\">\n",
       "  <thead>\n",
       "    <tr style=\"text-align: right;\">\n",
       "      <th></th>\n",
       "      <th>experiment_id</th>\n",
       "      <th>met_id</th>\n",
       "      <th>tracer_id</th>\n",
       "      <th>atom_ids</th>\n",
       "      <th>atom_mdv</th>\n",
       "      <th>enrichment</th>\n",
       "    </tr>\n",
       "  </thead>\n",
       "  <tbody>\n",
       "    <tr>\n",
       "      <th>0</th>\n",
       "      <td>exp1</td>\n",
       "      <td>glc</td>\n",
       "      <td>[1,2-13C]glucose</td>\n",
       "      <td>[1, 2]</td>\n",
       "      <td>[0.02, 0.98]</td>\n",
       "      <td>0.2</td>\n",
       "    </tr>\n",
       "    <tr>\n",
       "      <th>1</th>\n",
       "      <td>exp1</td>\n",
       "      <td>glc</td>\n",
       "      <td>[U-13C]glucose</td>\n",
       "      <td>[1, 2, 3, 4, 5, 6]</td>\n",
       "      <td>[0.001, 0.999]</td>\n",
       "      <td>0.8</td>\n",
       "    </tr>\n",
       "  </tbody>\n",
       "</table>\n",
       "</div>"
      ],
      "text/plain": [
       "  experiment_id met_id         tracer_id            atom_ids        atom_mdv  \\\n",
       "0          exp1    glc  [1,2-13C]glucose              [1, 2]    [0.02, 0.98]   \n",
       "1          exp1    glc    [U-13C]glucose  [1, 2, 3, 4, 5, 6]  [0.001, 0.999]   \n",
       "\n",
       "   enrichment  \n",
       "0         0.2  \n",
       "1         0.8  "
      ]
     },
     "execution_count": 5,
     "metadata": {},
     "output_type": "execute_result"
    }
   ],
   "source": [
    "simple_tracer = pd.DataFrame(\n",
    "    {\n",
    "        \"experiment_id\": [\"exp1\",\"exp1\"],\n",
    "        \"met_id\": [\"glc\", \"glc\"],\n",
    "        \"tracer_id\": [\"[1,2-13C]glucose\",\"[U-13C]glucose\"],\n",
    "        \"atom_ids\" : [[1,2], [1,2,3,4,5,6]],\n",
    "        \"atom_mdv\" : [[0.02, 0.98], [0.001, 0.999]],\n",
    "        \"enrichment\" : [0.2, 0.8],\n",
    "    }\n",
    ")\n",
    "simple_tracer.head()"
   ]
  },
  {
   "attachments": {},
   "cell_type": "markdown",
   "metadata": {},
   "source": [
    "The specification above specifies a single experiment were a mixture of two types of labelled glucose was used. The enrichment specifies that the labelled medium contained 20% of [1,2-13C]glucose and 80% [U-13C]glucose. The purity of the used tracers (`atom_mdv`) is [1,2-13C]glucose was 98% pure, i.e. 98% of the of the 20% glucose is labelled on the carbon 1 and 2, while 2% of the 20% glucose is has no labels (i.e. not considered the naturally abundant labelling).\n",
    "\n",
    "### Parallel isotopomer labelling experiment\n",
    "To specify the a set of parallel isotopomer labelling experiment, i.e. different experiments that which should fitted simultaneously. In the following example, specify the experiment from above in parallel with an experiment conducted with 100% [1-13C]glucose."
   ]
  },
  {
   "cell_type": "code",
   "execution_count": 6,
   "metadata": {},
   "outputs": [
    {
     "data": {
      "text/html": [
       "<div>\n",
       "<style scoped>\n",
       "    .dataframe tbody tr th:only-of-type {\n",
       "        vertical-align: middle;\n",
       "    }\n",
       "\n",
       "    .dataframe tbody tr th {\n",
       "        vertical-align: top;\n",
       "    }\n",
       "\n",
       "    .dataframe thead th {\n",
       "        text-align: right;\n",
       "    }\n",
       "</style>\n",
       "<table border=\"1\" class=\"dataframe\">\n",
       "  <thead>\n",
       "    <tr style=\"text-align: right;\">\n",
       "      <th></th>\n",
       "      <th>experiment_id</th>\n",
       "      <th>met_id</th>\n",
       "      <th>tracer_id</th>\n",
       "      <th>atom_ids</th>\n",
       "      <th>atom_mdv</th>\n",
       "      <th>enrichment</th>\n",
       "    </tr>\n",
       "  </thead>\n",
       "  <tbody>\n",
       "    <tr>\n",
       "      <th>0</th>\n",
       "      <td>exp1</td>\n",
       "      <td>glc</td>\n",
       "      <td>[1,2-13C]glucose</td>\n",
       "      <td>[1, 2]</td>\n",
       "      <td>[0.02, 0.98]</td>\n",
       "      <td>0.2</td>\n",
       "    </tr>\n",
       "    <tr>\n",
       "      <th>1</th>\n",
       "      <td>exp1</td>\n",
       "      <td>glc</td>\n",
       "      <td>[U-13C]glucose</td>\n",
       "      <td>[1, 2, 3, 4, 5, 6]</td>\n",
       "      <td>[0.001, 0.999]</td>\n",
       "      <td>0.8</td>\n",
       "    </tr>\n",
       "    <tr>\n",
       "      <th>2</th>\n",
       "      <td>exp2</td>\n",
       "      <td>glc</td>\n",
       "      <td>[1-13C]glucose</td>\n",
       "      <td>[1]</td>\n",
       "      <td>[0.05, 0.95]</td>\n",
       "      <td>1.0</td>\n",
       "    </tr>\n",
       "  </tbody>\n",
       "</table>\n",
       "</div>"
      ],
      "text/plain": [
       "  experiment_id met_id         tracer_id            atom_ids        atom_mdv  \\\n",
       "0          exp1    glc  [1,2-13C]glucose              [1, 2]    [0.02, 0.98]   \n",
       "1          exp1    glc    [U-13C]glucose  [1, 2, 3, 4, 5, 6]  [0.001, 0.999]   \n",
       "2          exp2    glc    [1-13C]glucose                 [1]    [0.05, 0.95]   \n",
       "\n",
       "   enrichment  \n",
       "0         0.2  \n",
       "1         0.8  \n",
       "2         1.0  "
      ]
     },
     "execution_count": 6,
     "metadata": {},
     "output_type": "execute_result"
    }
   ],
   "source": [
    "parallel_experiment_tracer = pd.DataFrame(\n",
    "    {\n",
    "        \"experiment_id\": [\"exp1\",\"exp1\",\"exp2\"],\n",
    "        \"met_id\": [\"glc\", \"glc\", \"glc\"],\n",
    "        \"tracer_id\": [\"[1,2-13C]glucose\",\"[U-13C]glucose\",\"[1-13C]glucose\"],\n",
    "        \"atom_ids\" : [[1,2], [1,2,3,4,5,6],[1]],\n",
    "        \"atom_mdv\" : [[0.02, 0.98], [0.001, 0.999],[0.05, 0.95]],\n",
    "        \"enrichment\" : [0.2, 0.8,1],\n",
    "    }\n",
    ")\n",
    "parallel_experiment_tracer.head()"
   ]
  },
  {
   "attachments": {},
   "cell_type": "markdown",
   "metadata": {},
   "source": [
    "### Using labelling groups\n",
    "The important part for different atom labelling groups is that the `tracer_id` is the same. In the following, we specify that we used a [1,2-13C]glucose tracer where 98% is labelled at carbon atom 1, and the 95% is labelled carbon atom 2. In this case the `enrichment` has to be the same for each labelling group."
   ]
  },
  {
   "cell_type": "code",
   "execution_count": 7,
   "metadata": {},
   "outputs": [
    {
     "data": {
      "text/html": [
       "<div>\n",
       "<style scoped>\n",
       "    .dataframe tbody tr th:only-of-type {\n",
       "        vertical-align: middle;\n",
       "    }\n",
       "\n",
       "    .dataframe tbody tr th {\n",
       "        vertical-align: top;\n",
       "    }\n",
       "\n",
       "    .dataframe thead th {\n",
       "        text-align: right;\n",
       "    }\n",
       "</style>\n",
       "<table border=\"1\" class=\"dataframe\">\n",
       "  <thead>\n",
       "    <tr style=\"text-align: right;\">\n",
       "      <th></th>\n",
       "      <th>experiment_id</th>\n",
       "      <th>met_id</th>\n",
       "      <th>tracer_id</th>\n",
       "      <th>atom_ids</th>\n",
       "      <th>atom_mdv</th>\n",
       "      <th>enrichment</th>\n",
       "    </tr>\n",
       "  </thead>\n",
       "  <tbody>\n",
       "    <tr>\n",
       "      <th>0</th>\n",
       "      <td>exp1</td>\n",
       "      <td>glc</td>\n",
       "      <td>[1,2-13C]glucose</td>\n",
       "      <td>[1]</td>\n",
       "      <td>[0.02, 0.98]</td>\n",
       "      <td>1</td>\n",
       "    </tr>\n",
       "    <tr>\n",
       "      <th>1</th>\n",
       "      <td>exp1</td>\n",
       "      <td>glc</td>\n",
       "      <td>[1,2-13C]glucose</td>\n",
       "      <td>[2]</td>\n",
       "      <td>[0.05, 0.95]</td>\n",
       "      <td>1</td>\n",
       "    </tr>\n",
       "  </tbody>\n",
       "</table>\n",
       "</div>"
      ],
      "text/plain": [
       "  experiment_id met_id         tracer_id atom_ids      atom_mdv  enrichment\n",
       "0          exp1    glc  [1,2-13C]glucose      [1]  [0.02, 0.98]           1\n",
       "1          exp1    glc  [1,2-13C]glucose      [2]  [0.05, 0.95]           1"
      ]
     },
     "execution_count": 7,
     "metadata": {},
     "output_type": "execute_result"
    }
   ],
   "source": [
    "two_labelling_groups_tracer = pd.DataFrame(\n",
    "    {\n",
    "        \"experiment_id\": [\"exp1\",\"exp1\"],\n",
    "        \"met_id\": [\"glc\", \"glc\"],\n",
    "        \"tracer_id\": [\"[1,2-13C]glucose\",\"[1,2-13C]glucose\"],\n",
    "        \"atom_ids\" : [[1], [2]],\n",
    "        \"atom_mdv\" : [[0.02, 0.98], [0.05, 0.95]],\n",
    "        \"enrichment\" : [1, 1],\n",
    "    }\n",
    ")\n",
    "two_labelling_groups_tracer.head()"
   ]
  },
  {
   "attachments": {},
   "cell_type": "markdown",
   "metadata": {},
   "source": [
    "## Flux measurement data\n",
    "Flux measurements are typically uptake or secretion rates which this does not require labelling. Therefore this data is also quite simple to define. The required columns are the following:\n",
    "- `experiment_id` experiment id in which the rate was measured\n",
    "- `rxn_id`: reaction id\n",
    "- `flux`: measured/estimated rate typically in mmol/gDW/h\n",
    "- `flux_std_error`: standard error of the measured/estimated rate\n",
    "\n",
    "The units has to be consistent for all measurements, because INCA assumes that all rates have the same units. Notice that it is not possible supply a time point for the rate estimates. This is because INCA supports steady state and isotopically non-stationary labelling analysis. Both of these methods assumes that all rates are constant over the time duration and only isotopomer distribution vector are allowed to change over time."
   ]
  },
  {
   "cell_type": "code",
   "execution_count": 8,
   "metadata": {},
   "outputs": [
    {
     "data": {
      "text/html": [
       "<div>\n",
       "<style scoped>\n",
       "    .dataframe tbody tr th:only-of-type {\n",
       "        vertical-align: middle;\n",
       "    }\n",
       "\n",
       "    .dataframe tbody tr th {\n",
       "        vertical-align: top;\n",
       "    }\n",
       "\n",
       "    .dataframe thead th {\n",
       "        text-align: right;\n",
       "    }\n",
       "</style>\n",
       "<table border=\"1\" class=\"dataframe\">\n",
       "  <thead>\n",
       "    <tr style=\"text-align: right;\">\n",
       "      <th></th>\n",
       "      <th>experiment_id</th>\n",
       "      <th>rxn_id</th>\n",
       "      <th>flux</th>\n",
       "      <th>flux_std_error</th>\n",
       "    </tr>\n",
       "  </thead>\n",
       "  <tbody>\n",
       "    <tr>\n",
       "      <th>0</th>\n",
       "      <td>exp1</td>\n",
       "      <td>R1</td>\n",
       "      <td>1.0</td>\n",
       "      <td>0.1</td>\n",
       "    </tr>\n",
       "    <tr>\n",
       "      <th>1</th>\n",
       "      <td>exp1</td>\n",
       "      <td>R2</td>\n",
       "      <td>2.0</td>\n",
       "      <td>0.5</td>\n",
       "    </tr>\n",
       "    <tr>\n",
       "      <th>2</th>\n",
       "      <td>exp1</td>\n",
       "      <td>R3</td>\n",
       "      <td>3.0</td>\n",
       "      <td>0.2</td>\n",
       "    </tr>\n",
       "    <tr>\n",
       "      <th>3</th>\n",
       "      <td>exp2</td>\n",
       "      <td>R1</td>\n",
       "      <td>1.2</td>\n",
       "      <td>0.1</td>\n",
       "    </tr>\n",
       "    <tr>\n",
       "      <th>4</th>\n",
       "      <td>exp2</td>\n",
       "      <td>R2</td>\n",
       "      <td>1.8</td>\n",
       "      <td>0.5</td>\n",
       "    </tr>\n",
       "  </tbody>\n",
       "</table>\n",
       "</div>"
      ],
      "text/plain": [
       "  experiment_id rxn_id  flux  flux_std_error\n",
       "0          exp1     R1   1.0             0.1\n",
       "1          exp1     R2   2.0             0.5\n",
       "2          exp1     R3   3.0             0.2\n",
       "3          exp2     R1   1.2             0.1\n",
       "4          exp2     R2   1.8             0.5"
      ]
     },
     "execution_count": 8,
     "metadata": {},
     "output_type": "execute_result"
    }
   ],
   "source": [
    "flux_measurements_example = pd.DataFrame(\n",
    "    {\n",
    "        \"experiment_id\": [\"exp1\", \"exp1\", \"exp1\", \"exp2\", \"exp2\", \"exp2\"],\n",
    "        \"rxn_id\": [\"R1\", \"R2\", \"R3\", \"R1\", \"R2\", \"R3\"],\n",
    "        \"flux\": [1.0, 2.0, 3.0, 1.2, 1.8, 2.8],\n",
    "        \"flux_std_error\": [0.1, 0.5, 0.2, 0.1, 0.5, 0.2],\n",
    "    }\n",
    ")\n",
    "flux_measurements_example.head()"
   ]
  },
  {
   "attachments": {},
   "cell_type": "markdown",
   "metadata": {},
   "source": [
    "## Mass spectrometry measurements\n",
    "Mass spectrometry measurements are given as isotopomer distribution vectors and the measurement standard error. These can be corrected for natural abundance or not, but by default INCA does the naturel abundance correction, thus this needs to be turned of in the options if it is not required (See XX). The required columns for ms measurements are:\n",
    "- `experiment_id` experiment id in which the rate was measured\n",
    "- `met_id`: metabolite id of metabolite which is directly measured or from which the fragment is derived through a derivatization method.\n",
    "- `ms_id`: id of the measured ms fragment - often multiple fragment can be measured from the same metabolite\n",
    "- `unlabelled_atoms`: the molecular_formula of the all atoms that cannot be labelled through the introduced labels in the tracers. This typically includes non-carbon elements of the fragment and all elements originating from derivatization agent. INCA uses the unlabelled atoms to correct for natural abundance.\n",
    "- `idv`: Isotopomer distribution vector in the order lightest to heaviest mass (M0, M1, M2, etc.)\n",
    "- `idv_std_error`: The standard errors of the idv also in order lightest to heaviest mass (M0, M1, M2, etc.)\n",
    "- `time`: Time point of measurement only relevant for isotopically non-stationary MFA analysis"
   ]
  },
  {
   "cell_type": "code",
   "execution_count": 9,
   "metadata": {},
   "outputs": [
    {
     "data": {
      "text/html": [
       "<div>\n",
       "<style scoped>\n",
       "    .dataframe tbody tr th:only-of-type {\n",
       "        vertical-align: middle;\n",
       "    }\n",
       "\n",
       "    .dataframe tbody tr th {\n",
       "        vertical-align: top;\n",
       "    }\n",
       "\n",
       "    .dataframe thead th {\n",
       "        text-align: right;\n",
       "    }\n",
       "</style>\n",
       "<table border=\"1\" class=\"dataframe\">\n",
       "  <thead>\n",
       "    <tr style=\"text-align: right;\">\n",
       "      <th></th>\n",
       "      <th>experiment_id</th>\n",
       "      <th>met_id</th>\n",
       "      <th>ms_id</th>\n",
       "      <th>labelled_atom_ids</th>\n",
       "      <th>unlabelled_atoms</th>\n",
       "      <th>idv</th>\n",
       "      <th>idv_std_error</th>\n",
       "      <th>time</th>\n",
       "    </tr>\n",
       "  </thead>\n",
       "  <tbody>\n",
       "    <tr>\n",
       "      <th>0</th>\n",
       "      <td>exp1</td>\n",
       "      <td>A</td>\n",
       "      <td>A_260</td>\n",
       "      <td>[1,2]</td>\n",
       "      <td>C7H19O</td>\n",
       "      <td>[1.0, 0.4, 0.4]</td>\n",
       "      <td>[0.1, 0.2, 0.4]</td>\n",
       "      <td>0</td>\n",
       "    </tr>\n",
       "    <tr>\n",
       "      <th>1</th>\n",
       "      <td>exp1</td>\n",
       "      <td>B</td>\n",
       "      <td>B_381</td>\n",
       "      <td>[C3,C4]</td>\n",
       "      <td>C2H4Si</td>\n",
       "      <td>[2.0, 0.2, 0.4]</td>\n",
       "      <td>[0.2, 0.0001, 0.003]</td>\n",
       "      <td>1</td>\n",
       "    </tr>\n",
       "    <tr>\n",
       "      <th>2</th>\n",
       "      <td>exp1</td>\n",
       "      <td>C</td>\n",
       "      <td>C_180</td>\n",
       "      <td>[3]</td>\n",
       "      <td>None</td>\n",
       "      <td>[3.0, 4.0]</td>\n",
       "      <td>[0.3, 0.4]</td>\n",
       "      <td>0</td>\n",
       "    </tr>\n",
       "    <tr>\n",
       "      <th>3</th>\n",
       "      <td>exp1</td>\n",
       "      <td>C</td>\n",
       "      <td>C_180</td>\n",
       "      <td>[3]</td>\n",
       "      <td>None</td>\n",
       "      <td>[1.0, 5.0]</td>\n",
       "      <td>[0.1, 0.5]</td>\n",
       "      <td>0</td>\n",
       "    </tr>\n",
       "  </tbody>\n",
       "</table>\n",
       "</div>"
      ],
      "text/plain": [
       "  experiment_id met_id  ms_id labelled_atom_ids unlabelled_atoms  \\\n",
       "0          exp1      A  A_260             [1,2]           C7H19O   \n",
       "1          exp1      B  B_381           [C3,C4]           C2H4Si   \n",
       "2          exp1      C  C_180               [3]             None   \n",
       "3          exp1      C  C_180               [3]             None   \n",
       "\n",
       "               idv         idv_std_error  time  \n",
       "0  [1.0, 0.4, 0.4]       [0.1, 0.2, 0.4]     0  \n",
       "1  [2.0, 0.2, 0.4]  [0.2, 0.0001, 0.003]     1  \n",
       "2       [3.0, 4.0]            [0.3, 0.4]     0  \n",
       "3       [1.0, 5.0]            [0.1, 0.5]     0  "
      ]
     },
     "execution_count": 9,
     "metadata": {},
     "output_type": "execute_result"
    }
   ],
   "source": [
    "ms_measurements_example = pd.DataFrame(\n",
    "    {\n",
    "        \"experiment_id\": [\"exp1\", \"exp1\", \"exp1\", \"exp1\"],\n",
    "        \"met_id\": [\"A\", \"B\", \"C\", \"C\"],\n",
    "        \"ms_id\": [\"A_260\", \"B_381\", \"C_180\", \"C_180\"],\n",
    "        \"labelled_atom_ids\": [\"[1,2]\", \"[C3,C4]\", \"[3]\", \"[3]\"],\n",
    "        \"unlabelled_atoms\": [\"C7H19O\", \"C2H4Si\", None, None],\n",
    "        \"idv\": [[1.0, 0.4, 0.4], [2.0, 0.2, 0.4], [3.0, 4.0], [1.0, 5.0]],\n",
    "        \"idv_std_error\": [[0.1, 0.2, 0.4], [0.2, 0.0001, 0.003], [0.3, 0.4], [0.1, 0.5]],\n",
    "        \"time\": [0, 1, 0, 0],\n",
    "    }\n",
    ")\n",
    "\n",
    "ms_measurements_example.head()"
   ]
  },
  {
   "attachments": {},
   "cell_type": "markdown",
   "metadata": {},
   "source": [
    "## Note about formatting when reading csv and and excel files\n",
    "Some of the data inputs requires the element of a cell to be a python list. This can cause issues when reading the data from .csv or excel files. To accommodate the issue simply write a list in python syntax as a string in the csv or excel file. When the file is read using pandas you will evaluate the columns the list strings, which will convert the strings in to python lists.\n",
    "\n",
    "#### CSV files\n",
    "For .csv files we can use the convert argument in the `pd.read_csv` functions. Lets use the ms data as an example. The csv file would look as follows"
   ]
  },
  {
   "cell_type": "code",
   "execution_count": 10,
   "metadata": {},
   "outputs": [
    {
     "name": "stdout",
     "output_type": "stream",
     "text": [
      "experiment_id,met_id,ms_id,labelled_atom_ids,unlabelled_atoms,idv,idv_std_error,time\n",
      "exp1,A,A_260,\"[1,2]\",C7H19O,\"[1.0, 0.4]\",\"[0.1, 0.2]\",0\n",
      "exp1,B,B_381,\"['C3','C4']\",C2H4Si,\"[2.0]\",\"[0.2]\",1\n"
     ]
    }
   ],
   "source": [
    "csv_illtration_file = pathlib.Path(\"../../docs/examples/data/MFA_modelInputsData/ms_measurement_csv_input_example.csv\")\n",
    "with open(csv_illtration_file, \"r\") as f:\n",
    "    print(f.read())"
   ]
  },
  {
   "attachments": {},
   "cell_type": "markdown",
   "metadata": {},
   "source": [
    "Notice that the list definitions ([]) are inclosed in double quotes, but importantly when the lists contains strings these strings should be also be inclosed in single quotes, e.g. `\"['C3','C4']\"`. When this csv file is read through `pd.read_csv` the string lists are correctly read."
   ]
  },
  {
   "cell_type": "code",
   "execution_count": 11,
   "metadata": {},
   "outputs": [
    {
     "data": {
      "text/html": [
       "<div>\n",
       "<style scoped>\n",
       "    .dataframe tbody tr th:only-of-type {\n",
       "        vertical-align: middle;\n",
       "    }\n",
       "\n",
       "    .dataframe tbody tr th {\n",
       "        vertical-align: top;\n",
       "    }\n",
       "\n",
       "    .dataframe thead th {\n",
       "        text-align: right;\n",
       "    }\n",
       "</style>\n",
       "<table border=\"1\" class=\"dataframe\">\n",
       "  <thead>\n",
       "    <tr style=\"text-align: right;\">\n",
       "      <th></th>\n",
       "      <th>experiment_id</th>\n",
       "      <th>met_id</th>\n",
       "      <th>ms_id</th>\n",
       "      <th>labelled_atom_ids</th>\n",
       "      <th>unlabelled_atoms</th>\n",
       "      <th>idv</th>\n",
       "      <th>idv_std_error</th>\n",
       "      <th>time</th>\n",
       "    </tr>\n",
       "  </thead>\n",
       "  <tbody>\n",
       "    <tr>\n",
       "      <th>0</th>\n",
       "      <td>exp1</td>\n",
       "      <td>A</td>\n",
       "      <td>A_260</td>\n",
       "      <td>[1, 2]</td>\n",
       "      <td>C7H19O</td>\n",
       "      <td>[1.0, 0.4]</td>\n",
       "      <td>[0.1, 0.2]</td>\n",
       "      <td>0</td>\n",
       "    </tr>\n",
       "    <tr>\n",
       "      <th>1</th>\n",
       "      <td>exp1</td>\n",
       "      <td>B</td>\n",
       "      <td>B_381</td>\n",
       "      <td>[C3, C4]</td>\n",
       "      <td>C2H4Si</td>\n",
       "      <td>[2.0]</td>\n",
       "      <td>[0.2]</td>\n",
       "      <td>1</td>\n",
       "    </tr>\n",
       "  </tbody>\n",
       "</table>\n",
       "</div>"
      ],
      "text/plain": [
       "  experiment_id met_id  ms_id labelled_atom_ids unlabelled_atoms         idv  \\\n",
       "0          exp1      A  A_260            [1, 2]           C7H19O  [1.0, 0.4]   \n",
       "1          exp1      B  B_381          [C3, C4]           C2H4Si       [2.0]   \n",
       "\n",
       "  idv_std_error  time  \n",
       "0    [0.1, 0.2]     0  \n",
       "1         [0.2]     1  "
      ]
     },
     "execution_count": 11,
     "metadata": {},
     "output_type": "execute_result"
    }
   ],
   "source": [
    "from_csv = pd.read_csv(csv_illtration_file, converters={\"labelled_atom_ids\": ast.literal_eval, \"idv\": ast.literal_eval, \"idv_std_error\": ast.literal_eval})\n",
    "from_csv.head()"
   ]
  },
  {
   "attachments": {},
   "cell_type": "markdown",
   "metadata": {},
   "source": [
    "We can verify that the data type of the idv is a list."
   ]
  },
  {
   "cell_type": "code",
   "execution_count": 12,
   "metadata": {},
   "outputs": [
    {
     "data": {
      "text/plain": [
       "list"
      ]
     },
     "execution_count": 12,
     "metadata": {},
     "output_type": "execute_result"
    }
   ],
   "source": [
    "type(from_csv[\"idv\"][0])"
   ]
  },
  {
   "attachments": {},
   "cell_type": "markdown",
   "metadata": {},
   "source": [
    "And check that the dataframe passes the schema validation"
   ]
  },
  {
   "cell_type": "code",
   "execution_count": 13,
   "metadata": {},
   "outputs": [
    {
     "data": {
      "text/html": [
       "<div>\n",
       "<style scoped>\n",
       "    .dataframe tbody tr th:only-of-type {\n",
       "        vertical-align: middle;\n",
       "    }\n",
       "\n",
       "    .dataframe tbody tr th {\n",
       "        vertical-align: top;\n",
       "    }\n",
       "\n",
       "    .dataframe thead th {\n",
       "        text-align: right;\n",
       "    }\n",
       "</style>\n",
       "<table border=\"1\" class=\"dataframe\">\n",
       "  <thead>\n",
       "    <tr style=\"text-align: right;\">\n",
       "      <th></th>\n",
       "      <th>experiment_id</th>\n",
       "      <th>met_id</th>\n",
       "      <th>ms_id</th>\n",
       "      <th>labelled_atom_ids</th>\n",
       "      <th>unlabelled_atoms</th>\n",
       "      <th>idv</th>\n",
       "      <th>idv_std_error</th>\n",
       "      <th>time</th>\n",
       "    </tr>\n",
       "  </thead>\n",
       "  <tbody>\n",
       "    <tr>\n",
       "      <th>0</th>\n",
       "      <td>exp1</td>\n",
       "      <td>A</td>\n",
       "      <td>A_260</td>\n",
       "      <td>[1, 2]</td>\n",
       "      <td>C7H19O</td>\n",
       "      <td>[1.0, 0.4]</td>\n",
       "      <td>[0.1, 0.2]</td>\n",
       "      <td>0.0</td>\n",
       "    </tr>\n",
       "    <tr>\n",
       "      <th>1</th>\n",
       "      <td>exp1</td>\n",
       "      <td>B</td>\n",
       "      <td>B_381</td>\n",
       "      <td>[C3, C4]</td>\n",
       "      <td>C2H4Si</td>\n",
       "      <td>[2.0]</td>\n",
       "      <td>[0.2]</td>\n",
       "      <td>1.0</td>\n",
       "    </tr>\n",
       "  </tbody>\n",
       "</table>\n",
       "</div>"
      ],
      "text/plain": [
       "  experiment_id met_id  ms_id labelled_atom_ids unlabelled_atoms         idv  \\\n",
       "0          exp1      A  A_260            [1, 2]           C7H19O  [1.0, 0.4]   \n",
       "1          exp1      B  B_381          [C3, C4]           C2H4Si       [2.0]   \n",
       "\n",
       "  idv_std_error  time  \n",
       "0    [0.1, 0.2]   0.0  \n",
       "1         [0.2]   1.0  "
      ]
     },
     "execution_count": 13,
     "metadata": {},
     "output_type": "execute_result"
    }
   ],
   "source": [
    "from BFAIR.mfa.INCA.dataschemas import ms_measurements_schema\n",
    "ms_measurements_schema.validate(from_csv)"
   ]
  },
  {
   "attachments": {},
   "cell_type": "markdown",
   "metadata": {},
   "source": [
    "#### Excel files\n",
    "The excel file can written more straight forward without double quotes around the lists. For example a cell in labelled_atom_ids can be `['C3','C4']`. Notice, that the atom ids are still wrapped in single quotes because they are defined using the C notation.\n",
    "\n",
    "Reading from an excel file is slightly more verbose. Here we first read the file and then use `ast.literal_eval()` to convert the strings to python-lists."
   ]
  },
  {
   "cell_type": "code",
   "execution_count": 62,
   "metadata": {},
   "outputs": [],
   "source": [
    "excel_illtration_file = pathlib.Path(\"../../docs/examples/data/MFA_modelInputsData/ms_measurement_csv_input_example.xlsx\")\n",
    "from_excel = pd.read_excel(excel_illtration_file)\n",
    "from_excel[['labelled_atom_ids', 'idv', 'idv_std_error']] = from_excel[['labelled_atom_ids', 'idv', 'idv_std_error']].applymap(lambda x: ast.literal_eval(x))"
   ]
  },
  {
   "attachments": {},
   "cell_type": "markdown",
   "metadata": {},
   "source": [
    "Again, we see that the data read from excel passes the schema validation."
   ]
  },
  {
   "cell_type": "code",
   "execution_count": 64,
   "metadata": {},
   "outputs": [
    {
     "data": {
      "text/html": [
       "<div>\n",
       "<style scoped>\n",
       "    .dataframe tbody tr th:only-of-type {\n",
       "        vertical-align: middle;\n",
       "    }\n",
       "\n",
       "    .dataframe tbody tr th {\n",
       "        vertical-align: top;\n",
       "    }\n",
       "\n",
       "    .dataframe thead th {\n",
       "        text-align: right;\n",
       "    }\n",
       "</style>\n",
       "<table border=\"1\" class=\"dataframe\">\n",
       "  <thead>\n",
       "    <tr style=\"text-align: right;\">\n",
       "      <th></th>\n",
       "      <th>experiment_id</th>\n",
       "      <th>met_id</th>\n",
       "      <th>ms_id</th>\n",
       "      <th>labelled_atom_ids</th>\n",
       "      <th>unlabelled_atoms</th>\n",
       "      <th>idv</th>\n",
       "      <th>idv_std_error</th>\n",
       "      <th>time</th>\n",
       "    </tr>\n",
       "  </thead>\n",
       "  <tbody>\n",
       "    <tr>\n",
       "      <th>0</th>\n",
       "      <td>exp1</td>\n",
       "      <td>A</td>\n",
       "      <td>A_260</td>\n",
       "      <td>[1, 2]</td>\n",
       "      <td>C7H19O</td>\n",
       "      <td>[1.0, 0.4]</td>\n",
       "      <td>[0.1, 0.2]</td>\n",
       "      <td>0.0</td>\n",
       "    </tr>\n",
       "    <tr>\n",
       "      <th>1</th>\n",
       "      <td>exp1</td>\n",
       "      <td>B</td>\n",
       "      <td>B_381</td>\n",
       "      <td>[C3, C4]</td>\n",
       "      <td>C2H4Si</td>\n",
       "      <td>[2.0]</td>\n",
       "      <td>[0.2]</td>\n",
       "      <td>1.0</td>\n",
       "    </tr>\n",
       "  </tbody>\n",
       "</table>\n",
       "</div>"
      ],
      "text/plain": [
       "  experiment_id met_id  ms_id labelled_atom_ids unlabelled_atoms         idv  \\\n",
       "0          exp1      A  A_260            [1, 2]           C7H19O  [1.0, 0.4]   \n",
       "1          exp1      B  B_381          [C3, C4]           C2H4Si       [2.0]   \n",
       "\n",
       "  idv_std_error  time  \n",
       "0    [0.1, 0.2]   0.0  \n",
       "1         [0.2]   1.0  "
      ]
     },
     "execution_count": 64,
     "metadata": {},
     "output_type": "execute_result"
    }
   ],
   "source": [
    "ms_measurements_schema.validate(from_excel)"
   ]
  },
  {
   "attachments": {},
   "cell_type": "markdown",
   "metadata": {},
   "source": [
    "Now we have showed the expected structure of the input data you can move on to the next section to read about the how to use the INCA parser."
   ]
  },
  {
   "cell_type": "markdown",
   "metadata": {},
   "source": []
  }
 ],
 "metadata": {
  "kernelspec": {
   "display_name": "bfair-testing",
   "language": "python",
   "name": "python3"
  },
  "language_info": {
   "codemirror_mode": {
    "name": "ipython",
    "version": 3
   },
   "file_extension": ".py",
   "mimetype": "text/x-python",
   "name": "python",
   "nbconvert_exporter": "python",
   "pygments_lexer": "ipython3",
   "version": "3.10.8"
  },
  "orig_nbformat": 4,
  "vscode": {
   "interpreter": {
    "hash": "820c70ec08a0eb018d8ec3c5d089748cbb2d1e243fbedf0a7cbeb7c8948c3b84"
   }
  }
 },
 "nbformat": 4,
 "nbformat_minor": 2
}
