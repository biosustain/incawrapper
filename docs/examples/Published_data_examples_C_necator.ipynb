{
 "cells": [
  {
   "attachments": {},
   "cell_type": "markdown",
   "metadata": {},
   "source": [
    "# Published data - Cupriavidus necator\n",
    "## License information\n",
    "The data and model used in this notebook comes from \n",
    "\n",
    "Alagesan, S., Minton, N.P. & Malys, N. 13C-assisted metabolic flux analysis to investigate heterotrophic and mixotrophic metabolism in Cupriavidus necator H16. Metabolomics 14, 9 (2018). https://doi.org/10.1007/s11306-017-1302-z \n",
    "\n",
    "and is licensed under a Creative Commons Attribution 4.0 International License.\n",
    "\n",
    "You should have received a copy of the license along with this\n",
    "work. If not, see <http://creativecommons.org/licenses/by/4.0/>.\n",
    "\n",
    "## Description of data\n",
    "Data collection\n",
    "- Batch culture samples from two time points during exponential phase"
   ]
  },
  {
   "cell_type": "code",
   "execution_count": 37,
   "metadata": {},
   "outputs": [],
   "source": [
    "import pandas as pd\n",
    "import numpy as np\n",
    "import time\n",
    "import ast\n",
    "import matlab.engine\n",
    "import sys\n",
    "#import escher\n",
    "import dotenv\n",
    "import pandera as pa\n",
    "import BFAIR.mfa.INCA.dataschemas as dataschemas\n",
    "import BFAIR.mfa.INCA.INCA_script_writing as INCA_script_writing\n",
    "from BFAIR.mfa.INCA.run_inca import run_inca"
   ]
  },
  {
   "cell_type": "code",
   "execution_count": 38,
   "metadata": {},
   "outputs": [],
   "source": [
    "# import environment variables\n",
    "INCA_base_directory = dotenv.get_key(dotenv.find_dotenv(), \"INCA_base_directory\")"
   ]
  },
  {
   "attachments": {},
   "cell_type": "markdown",
   "metadata": {},
   "source": [
    "#### Import using parsers\n",
    "We will try to make this tutorial as realistic as possible, therefore we will also include some data preprocessing to show case an example of how to get the data into the correct format. We have taken the data from the supplementary materials from the article described above. The actual supplementary materials is a word document, therefore we manually extracted the data into a series of csv and excel files. As a beginning we will have a look at the reactions and atom map from the article."
   ]
  },
  {
   "cell_type": "code",
   "execution_count": 39,
   "metadata": {},
   "outputs": [
    {
     "data": {
      "text/html": [
       "<div>\n",
       "<style scoped>\n",
       "    .dataframe tbody tr th:only-of-type {\n",
       "        vertical-align: middle;\n",
       "    }\n",
       "\n",
       "    .dataframe tbody tr th {\n",
       "        vertical-align: top;\n",
       "    }\n",
       "\n",
       "    .dataframe thead th {\n",
       "        text-align: right;\n",
       "    }\n",
       "</style>\n",
       "<table border=\"1\" class=\"dataframe\">\n",
       "  <thead>\n",
       "    <tr style=\"text-align: right;\">\n",
       "      <th></th>\n",
       "      <th>Reaction ID</th>\n",
       "      <th>Equations (Carbon atom transition)</th>\n",
       "    </tr>\n",
       "  </thead>\n",
       "  <tbody>\n",
       "    <tr>\n",
       "      <th>0</th>\n",
       "      <td>ex_1</td>\n",
       "      <td>FRU.ext (abcdef) -&gt; F6P (abcdef)</td>\n",
       "    </tr>\n",
       "    <tr>\n",
       "      <th>1</th>\n",
       "      <td>ex_2</td>\n",
       "      <td>GLY.ext (abc) -&gt; GLY (abc)</td>\n",
       "    </tr>\n",
       "    <tr>\n",
       "      <th>2</th>\n",
       "      <td>R1</td>\n",
       "      <td>GLY (abc) -&gt; DHAP (abc)</td>\n",
       "    </tr>\n",
       "    <tr>\n",
       "      <th>3</th>\n",
       "      <td>R2</td>\n",
       "      <td>F6P (abcdef) -&gt; G6P (abcdef)</td>\n",
       "    </tr>\n",
       "    <tr>\n",
       "      <th>4</th>\n",
       "      <td>R3</td>\n",
       "      <td>G6P (abcdef) -&gt; F6P (abcdef)</td>\n",
       "    </tr>\n",
       "    <tr>\n",
       "      <th>...</th>\n",
       "      <td>...</td>\n",
       "      <td>...</td>\n",
       "    </tr>\n",
       "    <tr>\n",
       "      <th>69</th>\n",
       "      <td>R68</td>\n",
       "      <td>ANTHR (abcdefg) + R5P (hijkl) -&gt; CPADR5P (abcd...</td>\n",
       "    </tr>\n",
       "    <tr>\n",
       "      <th>70</th>\n",
       "      <td>R69</td>\n",
       "      <td>CPADR5P (abcdefghijkl) -&gt; INDG (abcdfghijkl) +...</td>\n",
       "    </tr>\n",
       "    <tr>\n",
       "      <th>71</th>\n",
       "      <td>R70</td>\n",
       "      <td>INDG (abcdfghijkl) -&gt; TRP (abcdfghijkl)</td>\n",
       "    </tr>\n",
       "    <tr>\n",
       "      <th>72</th>\n",
       "      <td>R71</td>\n",
       "      <td>R5P (abcde) + MTHF (f)-&gt; HIS (edcbaf)</td>\n",
       "    </tr>\n",
       "    <tr>\n",
       "      <th>73</th>\n",
       "      <td>R72</td>\n",
       "      <td>ACCOA -&gt; PHB_B</td>\n",
       "    </tr>\n",
       "  </tbody>\n",
       "</table>\n",
       "<p>74 rows × 2 columns</p>\n",
       "</div>"
      ],
      "text/plain": [
       "   Reaction ID                 Equations (Carbon atom transition)\n",
       "0         ex_1                   FRU.ext (abcdef) -> F6P (abcdef)\n",
       "1         ex_2                         GLY.ext (abc) -> GLY (abc)\n",
       "2           R1                            GLY (abc) -> DHAP (abc)\n",
       "3           R2                       F6P (abcdef) -> G6P (abcdef)\n",
       "4           R3                       G6P (abcdef) -> F6P (abcdef)\n",
       "..         ...                                                ...\n",
       "69         R68  ANTHR (abcdefg) + R5P (hijkl) -> CPADR5P (abcd...\n",
       "70         R69  CPADR5P (abcdefghijkl) -> INDG (abcdfghijkl) +...\n",
       "71         R70           INDG (abcdfghijkl) -> TRP (abcdfghijkl) \n",
       "72         R71              R5P (abcde) + MTHF (f)-> HIS (edcbaf)\n",
       "73         R72                                     ACCOA -> PHB_B\n",
       "\n",
       "[74 rows x 2 columns]"
      ]
     },
     "execution_count": 39,
     "metadata": {},
     "output_type": "execute_result"
    }
   ],
   "source": [
    "reacts = pd.read_excel(\"./Literature data/Cupriavidus necator  Alagesan 2017/reactions.xlsx\")\n",
    "reacts"
   ]
  },
  {
   "attachments": {},
   "cell_type": "markdown",
   "metadata": {},
   "source": [
    "We see that the model contains 74 reaction. The INCA parser uses the package Pandera to validate the input data. We can check if the reaction data correctly formatted according to the `ReactionsSchema`. We will wrap it in a try-except clause to create an output that is easier to interpret."
   ]
  },
  {
   "cell_type": "code",
   "execution_count": 40,
   "metadata": {},
   "outputs": [
    {
     "name": "stdout",
     "output_type": "stream",
     "text": [
      "<class 'pandera.errors.SchemaError'>\n",
      "column 'rxn_eqn' not in dataframe\n",
      "  Reaction ID Equations (Carbon atom transition)\n",
      "0        ex_1   FRU.ext (abcdef) -> F6P (abcdef)\n",
      "1        ex_2         GLY.ext (abc) -> GLY (abc)\n",
      "2          R1            GLY (abc) -> DHAP (abc)\n",
      "3          R2       F6P (abcdef) -> G6P (abcdef)\n",
      "4          R3       G6P (abcdef) -> F6P (abcdef)\n"
     ]
    }
   ],
   "source": [
    "try:\n",
    "    dataschemas.ReactionsSchema.validate(reacts)\n",
    "except pa.schemas.errors.SchemaError as e:\n",
    "    print(type(e))\n",
    "    print(e)"
   ]
  },
  {
   "attachments": {},
   "cell_type": "markdown",
   "metadata": {},
   "source": [
    "We see that the schema does not pass the validation, raises a `SchemaError`, and tells that the schema expects a column named `rxn_eqn` which is not found. Let's have a look at what are actually requirements for the model_reaction_schema."
   ]
  },
  {
   "cell_type": "code",
   "execution_count": 41,
   "metadata": {},
   "outputs": [
    {
     "data": {
      "text/plain": [
       "{'rxn_eqn': <Schema Column(name=rxn_eqn, type=DataType(str))>,\n",
       " 'rxn_id': <Schema Column(name=rxn_id, type=DataType(str))>}"
      ]
     },
     "execution_count": 41,
     "metadata": {},
     "output_type": "execute_result"
    }
   ],
   "source": [
    "dataschemas.ReactionsSchema.columns"
   ]
  },
  {
   "attachments": {},
   "cell_type": "markdown",
   "metadata": {},
   "source": [
    "The model_reaction data input requires two columns `rxn_eqn` and `rxn_id`. Let's rename the columns of the reactions data and rerun the validation."
   ]
  },
  {
   "cell_type": "code",
   "execution_count": 42,
   "metadata": {},
   "outputs": [
    {
     "data": {
      "text/html": [
       "<div>\n",
       "<style scoped>\n",
       "    .dataframe tbody tr th:only-of-type {\n",
       "        vertical-align: middle;\n",
       "    }\n",
       "\n",
       "    .dataframe tbody tr th {\n",
       "        vertical-align: top;\n",
       "    }\n",
       "\n",
       "    .dataframe thead th {\n",
       "        text-align: right;\n",
       "    }\n",
       "</style>\n",
       "<table border=\"1\" class=\"dataframe\">\n",
       "  <thead>\n",
       "    <tr style=\"text-align: right;\">\n",
       "      <th></th>\n",
       "      <th>rxn_id</th>\n",
       "      <th>rxn_eqn</th>\n",
       "    </tr>\n",
       "  </thead>\n",
       "  <tbody>\n",
       "    <tr>\n",
       "      <th>0</th>\n",
       "      <td>ex_1</td>\n",
       "      <td>FRU.ext (abcdef) -&gt; F6P (abcdef)</td>\n",
       "    </tr>\n",
       "    <tr>\n",
       "      <th>1</th>\n",
       "      <td>ex_2</td>\n",
       "      <td>GLY.ext (abc) -&gt; GLY (abc)</td>\n",
       "    </tr>\n",
       "    <tr>\n",
       "      <th>2</th>\n",
       "      <td>R1</td>\n",
       "      <td>GLY (abc) -&gt; DHAP (abc)</td>\n",
       "    </tr>\n",
       "    <tr>\n",
       "      <th>3</th>\n",
       "      <td>R2</td>\n",
       "      <td>F6P (abcdef) -&gt; G6P (abcdef)</td>\n",
       "    </tr>\n",
       "    <tr>\n",
       "      <th>4</th>\n",
       "      <td>R3</td>\n",
       "      <td>G6P (abcdef) -&gt; F6P (abcdef)</td>\n",
       "    </tr>\n",
       "  </tbody>\n",
       "</table>\n",
       "</div>"
      ],
      "text/plain": [
       "  rxn_id                           rxn_eqn\n",
       "0   ex_1  FRU.ext (abcdef) -> F6P (abcdef)\n",
       "1   ex_2        GLY.ext (abc) -> GLY (abc)\n",
       "2     R1           GLY (abc) -> DHAP (abc)\n",
       "3     R2      F6P (abcdef) -> G6P (abcdef)\n",
       "4     R3      G6P (abcdef) -> F6P (abcdef)"
      ]
     },
     "execution_count": 42,
     "metadata": {},
     "output_type": "execute_result"
    }
   ],
   "source": [
    "reacts_processed = (reacts\n",
    "    .copy()\n",
    "    .rename(columns={\"Reaction ID\": \"rxn_id\", \"Equations (Carbon atom transition)\":\"rxn_eqn\"})\n",
    ")\n",
    "dataschemas.ReactionsSchema.validate(reacts_processed)\n",
    "reacts_processed.head()"
   ]
  },
  {
   "attachments": {},
   "cell_type": "markdown",
   "metadata": {},
   "source": [
    "The reactions data passed the validation and we are ready to move on to the tracer information. This information is lifted from the materials and methods. They used substrates with 99 atom% purity for both the D-[1-13C]fructose, and [1,2-13C]glycerol. For the mixotrophic growth experiment they use two substrate [1,2-13C]glycerol and CO2. We will assume that the CO2 in labelled following natural abundance. Therefore, we will not consider the CO2 in the tracer specification."
   ]
  },
  {
   "cell_type": "code",
   "execution_count": 43,
   "metadata": {},
   "outputs": [
    {
     "data": {
      "text/html": [
       "<div>\n",
       "<style scoped>\n",
       "    .dataframe tbody tr th:only-of-type {\n",
       "        vertical-align: middle;\n",
       "    }\n",
       "\n",
       "    .dataframe tbody tr th {\n",
       "        vertical-align: top;\n",
       "    }\n",
       "\n",
       "    .dataframe thead th {\n",
       "        text-align: right;\n",
       "    }\n",
       "</style>\n",
       "<table border=\"1\" class=\"dataframe\">\n",
       "  <thead>\n",
       "    <tr style=\"text-align: right;\">\n",
       "      <th></th>\n",
       "      <th>experiment_id</th>\n",
       "      <th>met_id</th>\n",
       "      <th>tracer_id</th>\n",
       "      <th>atom_ids</th>\n",
       "      <th>atom_mdv</th>\n",
       "      <th>enrichment</th>\n",
       "    </tr>\n",
       "  </thead>\n",
       "  <tbody>\n",
       "    <tr>\n",
       "      <th>0</th>\n",
       "      <td>fructose</td>\n",
       "      <td>FRU.ext</td>\n",
       "      <td>D-[1-13C]fructose</td>\n",
       "      <td>[1]</td>\n",
       "      <td>[0.01, 0.99]</td>\n",
       "      <td>1</td>\n",
       "    </tr>\n",
       "    <tr>\n",
       "      <th>1</th>\n",
       "      <td>glycerol</td>\n",
       "      <td>GLY.ext</td>\n",
       "      <td>[1,2-13C]glycerol</td>\n",
       "      <td>[1, 2]</td>\n",
       "      <td>[0.01, 0.99]</td>\n",
       "      <td>1</td>\n",
       "    </tr>\n",
       "    <tr>\n",
       "      <th>2</th>\n",
       "      <td>mixotroph</td>\n",
       "      <td>GLY.ext</td>\n",
       "      <td>[1,2-13C]glycerol</td>\n",
       "      <td>[1, 2]</td>\n",
       "      <td>[0.01, 0.99]</td>\n",
       "      <td>1</td>\n",
       "    </tr>\n",
       "  </tbody>\n",
       "</table>\n",
       "</div>"
      ],
      "text/plain": [
       "  experiment_id   met_id          tracer_id atom_ids      atom_mdv  enrichment\n",
       "0      fructose  FRU.ext  D-[1-13C]fructose      [1]  [0.01, 0.99]           1\n",
       "1      glycerol  GLY.ext  [1,2-13C]glycerol   [1, 2]  [0.01, 0.99]           1\n",
       "2     mixotroph  GLY.ext  [1,2-13C]glycerol   [1, 2]  [0.01, 0.99]           1"
      ]
     },
     "execution_count": 43,
     "metadata": {},
     "output_type": "execute_result"
    }
   ],
   "source": [
    "tracer_info = pd.DataFrame.from_dict({\n",
    "    'experiment_id': [\n",
    "        'fructose', 'glycerol', 'mixotroph',\n",
    "    ],\n",
    "    'met_id': ['FRU.ext', 'GLY.ext', 'GLY.ext'],\n",
    "    'tracer_id': [\n",
    "        'D-[1-13C]fructose', '[1,2-13C]glycerol', '[1,2-13C]glycerol',\n",
    "    ],\n",
    "    'atom_ids': [\n",
    "        [1], [1,2], [1,2],\n",
    "    ],\n",
    "    'atom_mdv': [\n",
    "        [0.01,0.99], [0.01,0.99],[0.01,0.99],\n",
    "    ],\n",
    "    'enrichment': [\n",
    "        1, 1, 1,\n",
    "    ]    \n",
    "}, orient='columns')\n",
    "tracer_info.head()"
   ]
  },
  {
   "cell_type": "code",
   "execution_count": 44,
   "metadata": {},
   "outputs": [],
   "source": [
    "try:\n",
    "    dataschemas.tracer_schema.validate(tracer_info)\n",
    "except Exception as e:\n",
    "    print(e)"
   ]
  },
  {
   "attachments": {},
   "cell_type": "markdown",
   "metadata": {},
   "source": [
    "Now lets prepare the isopomer distribution vectors (idvs) also called the mass distribution vectors (mdvs). We will first inspect the data schema to get a since of the required input data."
   ]
  },
  {
   "cell_type": "code",
   "execution_count": 45,
   "metadata": {},
   "outputs": [
    {
     "data": {
      "text/plain": [
       "{'experiment_id': <Schema Column(name=experiment_id, type=DataType(str))>,\n",
       " 'met_id': <Schema Column(name=met_id, type=DataType(str))>,\n",
       " 'ms_id': <Schema Column(name=ms_id, type=DataType(str))>,\n",
       " 'measurement_replicate': <Schema Column(name=measurement_replicate, type=DataType(int64))>,\n",
       " 'labelled_atom_ids': <Schema Column(name=labelled_atom_ids, type=DataType(object))>,\n",
       " 'unlabelled_atoms': <Schema Column(name=unlabelled_atoms, type=DataType(str))>,\n",
       " 'mass_isotope': <Schema Column(name=mass_isotope, type=DataType(int64))>,\n",
       " 'intensity': <Schema Column(name=intensity, type=DataType(float64))>,\n",
       " 'intensity_std_error': <Schema Column(name=intensity_std_error, type=DataType(float64))>,\n",
       " 'time': <Schema Column(name=time, type=DataType(float64))>}"
      ]
     },
     "execution_count": 45,
     "metadata": {},
     "output_type": "execute_result"
    }
   ],
   "source": [
    "dataschemas.MSMeasurementsSchema.columns"
   ]
  },
  {
   "attachments": {},
   "cell_type": "markdown",
   "metadata": {},
   "source": [
    "This provides a short overview of which columns are required. For a more elaborate description of the input data see XX. Next, we load the MS data set from the article. We have copied the tables from the word document into an excel-workbook with three sheets one for each experiment (Fructose, Glycerol, GlycerolAndCO2). Lets have a look at the content of one of the sheets:"
   ]
  },
  {
   "cell_type": "code",
   "execution_count": 46,
   "metadata": {},
   "outputs": [
    {
     "data": {
      "text/html": [
       "<div>\n",
       "<style scoped>\n",
       "    .dataframe tbody tr th:only-of-type {\n",
       "        vertical-align: middle;\n",
       "    }\n",
       "\n",
       "    .dataframe tbody tr th {\n",
       "        vertical-align: top;\n",
       "    }\n",
       "\n",
       "    .dataframe thead th {\n",
       "        text-align: right;\n",
       "    }\n",
       "</style>\n",
       "<table border=\"1\" class=\"dataframe\">\n",
       "  <thead>\n",
       "    <tr style=\"text-align: right;\">\n",
       "      <th></th>\n",
       "      <th>Amino Acid</th>\n",
       "      <th>Unnamed: 1</th>\n",
       "      <th>m/z</th>\n",
       "      <th>M</th>\n",
       "      <th>M+1</th>\n",
       "      <th>M+2</th>\n",
       "      <th>M+3</th>\n",
       "      <th>M+4</th>\n",
       "      <th>M+5</th>\n",
       "      <th>M+6</th>\n",
       "      <th>M+7</th>\n",
       "      <th>M+8</th>\n",
       "      <th>M+9</th>\n",
       "    </tr>\n",
       "  </thead>\n",
       "  <tbody>\n",
       "    <tr>\n",
       "      <th>0</th>\n",
       "      <td>Alanine</td>\n",
       "      <td>[M-85]</td>\n",
       "      <td>232</td>\n",
       "      <td>0.9759 ± 0.0027</td>\n",
       "      <td>0.0230 ± 0.0035</td>\n",
       "      <td>0.0011 ± 0.0009</td>\n",
       "      <td>0</td>\n",
       "      <td>0</td>\n",
       "      <td>0</td>\n",
       "      <td>0</td>\n",
       "      <td>0</td>\n",
       "      <td>0</td>\n",
       "      <td>0</td>\n",
       "    </tr>\n",
       "    <tr>\n",
       "      <th>1</th>\n",
       "      <td>NaN</td>\n",
       "      <td>[M-57]</td>\n",
       "      <td>260</td>\n",
       "      <td>0.3509 ± 0.0135</td>\n",
       "      <td>0.6407 ± 0.0138</td>\n",
       "      <td>0.0078 ± 0.0003</td>\n",
       "      <td>0.0006 ± 0.0006</td>\n",
       "      <td>0</td>\n",
       "      <td>0</td>\n",
       "      <td>0</td>\n",
       "      <td>0</td>\n",
       "      <td>0</td>\n",
       "      <td>0</td>\n",
       "    </tr>\n",
       "    <tr>\n",
       "      <th>2</th>\n",
       "      <td>Glycine</td>\n",
       "      <td>[M-85]</td>\n",
       "      <td>218</td>\n",
       "      <td>0.9950 ± 0.0021</td>\n",
       "      <td>0.0049 ± 0.0021</td>\n",
       "      <td>0</td>\n",
       "      <td>0</td>\n",
       "      <td>0</td>\n",
       "      <td>0</td>\n",
       "      <td>0</td>\n",
       "      <td>0</td>\n",
       "      <td>0</td>\n",
       "      <td>0</td>\n",
       "    </tr>\n",
       "    <tr>\n",
       "      <th>3</th>\n",
       "      <td>NaN</td>\n",
       "      <td>[M-57]</td>\n",
       "      <td>246</td>\n",
       "      <td>0.9357 ± 0.0068</td>\n",
       "      <td>0.0638 ± 0.0072</td>\n",
       "      <td>0.0005 ± 0</td>\n",
       "      <td>NaN</td>\n",
       "      <td>0</td>\n",
       "      <td>0</td>\n",
       "      <td>0</td>\n",
       "      <td>0</td>\n",
       "      <td>0</td>\n",
       "      <td>0</td>\n",
       "    </tr>\n",
       "    <tr>\n",
       "      <th>4</th>\n",
       "      <td>Valine</td>\n",
       "      <td>[M-85]</td>\n",
       "      <td>260</td>\n",
       "      <td>0.9513 ± 0.0058</td>\n",
       "      <td>0.0436 ± 0.0057</td>\n",
       "      <td>0.0049 ± 0.0005</td>\n",
       "      <td>0</td>\n",
       "      <td>0.00003 ± 0</td>\n",
       "      <td>0</td>\n",
       "      <td>0</td>\n",
       "      <td>0</td>\n",
       "      <td>0</td>\n",
       "      <td>0</td>\n",
       "    </tr>\n",
       "  </tbody>\n",
       "</table>\n",
       "</div>"
      ],
      "text/plain": [
       "  Amino Acid Unnamed: 1  m/z                M              M+1  \\\n",
       "0    Alanine     [M-85]  232  0.9759 ± 0.0027  0.0230 ± 0.0035   \n",
       "1        NaN     [M-57]  260  0.3509 ± 0.0135  0.6407 ± 0.0138   \n",
       "2    Glycine     [M-85]  218  0.9950 ± 0.0021  0.0049 ± 0.0021   \n",
       "3        NaN     [M-57]  246  0.9357 ± 0.0068  0.0638 ± 0.0072   \n",
       "4     Valine     [M-85]  260  0.9513 ± 0.0058  0.0436 ± 0.0057   \n",
       "\n",
       "               M+2              M+3          M+4 M+5  M+6  M+7  M+8  M+9  \n",
       "0  0.0011 ± 0.0009                0            0   0    0    0    0    0  \n",
       "1  0.0078 ± 0.0003  0.0006 ± 0.0006            0   0    0    0    0    0  \n",
       "2                0                0            0   0    0    0    0    0  \n",
       "3       0.0005 ± 0              NaN            0   0    0    0    0    0  \n",
       "4  0.0049 ± 0.0005                0  0.00003 ± 0   0    0    0    0    0  "
      ]
     },
     "execution_count": 46,
     "metadata": {},
     "output_type": "execute_result"
    }
   ],
   "source": [
    "pd.read_excel(\"Literature data/Cupriavidus necator  Alagesan 2017/MDV_raw.xlsx\", sheet_name='fructose').head()"
   ]
  },
  {
   "attachments": {},
   "cell_type": "markdown",
   "metadata": {},
   "source": [
    "This data does is not in the correct format for ms_measurement_schema. As a first step, we will process the data into long (tidy) format, because from tidy data we can easily produce a valid input format. We have written up a small function which parses a single sheet into long format. This function is obviously specific for this particular data set."
   ]
  },
  {
   "cell_type": "code",
   "execution_count": 47,
   "metadata": {},
   "outputs": [],
   "source": [
    "def parse_mdv_raw_to_long(df: pd.DataFrame, experiment_id: str)-> pd.DataFrame:\n",
    "    df['Amino Acid'] = df['Amino Acid'].ffill()\n",
    "    long = df.melt(id_vars=['Amino Acid', 'Unnamed: 1', 'm/z'], var_name='mass_isotope').drop(columns=['Unnamed: 1'])\n",
    "    long[['intensity', 'intensity_std_error']] = long['value'].str.split(r'±|\\+', regex=True, expand=True)\n",
    "    long.drop(columns=['value'], inplace=True)\n",
    "\n",
    "    # convert strings to floats\n",
    "    long['intensity'] = long['intensity'].str.strip().astype(float)\n",
    "    long['intensity_std_error'] = long['intensity_std_error'].str.strip().astype(float)\n",
    "\n",
    "    # some amino acids have trailing spaces\n",
    "    long['Amino Acid'] = long['Amino Acid'].str.strip()\n",
    "\n",
    "    # make ids\n",
    "    long['fragment_id'] = long['Amino Acid'].str.replace(\" \", '') + long['m/z'].astype(str)\n",
    "    long['experiment_id'] = experiment_id\n",
    "    return long.dropna()"
   ]
  },
  {
   "attachments": {},
   "cell_type": "markdown",
   "metadata": {},
   "source": [
    "Now we will simply loop over the sheets of the excel-workbook and parse each sheet with the parser written above and stack the dataframes to obtain one dataframe in long format with data from all three experiments."
   ]
  },
  {
   "cell_type": "code",
   "execution_count": 48,
   "metadata": {},
   "outputs": [
    {
     "data": {
      "text/html": [
       "<div>\n",
       "<style scoped>\n",
       "    .dataframe tbody tr th:only-of-type {\n",
       "        vertical-align: middle;\n",
       "    }\n",
       "\n",
       "    .dataframe tbody tr th {\n",
       "        vertical-align: top;\n",
       "    }\n",
       "\n",
       "    .dataframe thead th {\n",
       "        text-align: right;\n",
       "    }\n",
       "</style>\n",
       "<table border=\"1\" class=\"dataframe\">\n",
       "  <thead>\n",
       "    <tr style=\"text-align: right;\">\n",
       "      <th></th>\n",
       "      <th>Amino Acid</th>\n",
       "      <th>m/z</th>\n",
       "      <th>mass_isotope</th>\n",
       "      <th>intensity</th>\n",
       "      <th>intensity_std_error</th>\n",
       "      <th>fragment_id</th>\n",
       "      <th>experiment_id</th>\n",
       "    </tr>\n",
       "  </thead>\n",
       "  <tbody>\n",
       "    <tr>\n",
       "      <th>0</th>\n",
       "      <td>Alanine</td>\n",
       "      <td>232</td>\n",
       "      <td>M</td>\n",
       "      <td>0.9759</td>\n",
       "      <td>0.0027</td>\n",
       "      <td>Alanine232</td>\n",
       "      <td>fructose</td>\n",
       "    </tr>\n",
       "    <tr>\n",
       "      <th>1</th>\n",
       "      <td>Alanine</td>\n",
       "      <td>260</td>\n",
       "      <td>M</td>\n",
       "      <td>0.3509</td>\n",
       "      <td>0.0135</td>\n",
       "      <td>Alanine260</td>\n",
       "      <td>fructose</td>\n",
       "    </tr>\n",
       "    <tr>\n",
       "      <th>2</th>\n",
       "      <td>Glycine</td>\n",
       "      <td>218</td>\n",
       "      <td>M</td>\n",
       "      <td>0.9950</td>\n",
       "      <td>0.0021</td>\n",
       "      <td>Glycine218</td>\n",
       "      <td>fructose</td>\n",
       "    </tr>\n",
       "    <tr>\n",
       "      <th>3</th>\n",
       "      <td>Glycine</td>\n",
       "      <td>246</td>\n",
       "      <td>M</td>\n",
       "      <td>0.9357</td>\n",
       "      <td>0.0068</td>\n",
       "      <td>Glycine246</td>\n",
       "      <td>fructose</td>\n",
       "    </tr>\n",
       "    <tr>\n",
       "      <th>4</th>\n",
       "      <td>Valine</td>\n",
       "      <td>260</td>\n",
       "      <td>M</td>\n",
       "      <td>0.9513</td>\n",
       "      <td>0.0058</td>\n",
       "      <td>Valine260</td>\n",
       "      <td>fructose</td>\n",
       "    </tr>\n",
       "  </tbody>\n",
       "</table>\n",
       "</div>"
      ],
      "text/plain": [
       "  Amino Acid  m/z mass_isotope  intensity  intensity_std_error fragment_id  \\\n",
       "0    Alanine  232            M     0.9759               0.0027  Alanine232   \n",
       "1    Alanine  260            M     0.3509               0.0135  Alanine260   \n",
       "2    Glycine  218            M     0.9950               0.0021  Glycine218   \n",
       "3    Glycine  246            M     0.9357               0.0068  Glycine246   \n",
       "4     Valine  260            M     0.9513               0.0058   Valine260   \n",
       "\n",
       "  experiment_id  \n",
       "0      fructose  \n",
       "1      fructose  \n",
       "2      fructose  \n",
       "3      fructose  \n",
       "4      fructose  "
      ]
     },
     "execution_count": 48,
     "metadata": {},
     "output_type": "execute_result"
    }
   ],
   "source": [
    "xl_file = pd.ExcelFile(\"Literature data/Cupriavidus necator  Alagesan 2017/MDV_raw.xlsx\")\n",
    "mdvs_long = pd.DataFrame()\n",
    "for sheet in xl_file.sheet_names:\n",
    "    df = xl_file.parse(sheet)\n",
    "    df = parse_mdv_raw_to_long(df, experiment_id=sheet)\n",
    "    mdvs_long = pd.concat([mdvs_long, df])\n",
    "mdvs_long.reset_index(drop=True, inplace=True)\n",
    "\n",
    "mdvs_long.head()"
   ]
  },
  {
   "cell_type": "code",
   "execution_count": 49,
   "metadata": {},
   "outputs": [
    {
     "data": {
      "text/plain": [
       "count    333.000000\n",
       "mean       0.009974\n",
       "std        0.010750\n",
       "min        0.000000\n",
       "25%        0.001500\n",
       "50%        0.005200\n",
       "75%        0.015800\n",
       "max        0.054400\n",
       "Name: intensity_std_error, dtype: float64"
      ]
     },
     "execution_count": 49,
     "metadata": {},
     "output_type": "execute_result"
    }
   ],
   "source": [
    "mdvs_long['intensity_std_error'].describe()"
   ]
  },
  {
   "attachments": {},
   "cell_type": "markdown",
   "metadata": {},
   "source": [
    "INCA has troubles if the measurement errors are too small or 0. Therefore will will apply a minimum error of 1e-7."
   ]
  },
  {
   "cell_type": "code",
   "execution_count": 50,
   "metadata": {},
   "outputs": [],
   "source": [
    "# set minumum std_error to  \n",
    "minimum_std_error = 1e-4\n",
    "mdvs_long.loc[mdvs_long['intensity_std_error'] < minimum_std_error, 'intensity_std_error'] = minimum_std_error"
   ]
  },
  {
   "attachments": {},
   "cell_type": "markdown",
   "metadata": {},
   "source": [
    "We see that the Amino acid names does not match the metabolite IDs in used in the reactions of the model. To accommodate this, we manually created a map between the metabolite IDs in the model and the amino acid names used in the data."
   ]
  },
  {
   "cell_type": "code",
   "execution_count": 51,
   "metadata": {},
   "outputs": [
    {
     "data": {
      "text/html": [
       "<div>\n",
       "<style scoped>\n",
       "    .dataframe tbody tr th:only-of-type {\n",
       "        vertical-align: middle;\n",
       "    }\n",
       "\n",
       "    .dataframe tbody tr th {\n",
       "        vertical-align: top;\n",
       "    }\n",
       "\n",
       "    .dataframe thead th {\n",
       "        text-align: right;\n",
       "    }\n",
       "</style>\n",
       "<table border=\"1\" class=\"dataframe\">\n",
       "  <thead>\n",
       "    <tr style=\"text-align: right;\">\n",
       "      <th></th>\n",
       "      <th>met_id</th>\n",
       "      <th>Amino Acid</th>\n",
       "    </tr>\n",
       "  </thead>\n",
       "  <tbody>\n",
       "    <tr>\n",
       "      <th>0</th>\n",
       "      <td>ALA</td>\n",
       "      <td>Alanine</td>\n",
       "    </tr>\n",
       "    <tr>\n",
       "      <th>1</th>\n",
       "      <td>ASP</td>\n",
       "      <td>Aspartic acid</td>\n",
       "    </tr>\n",
       "    <tr>\n",
       "      <th>2</th>\n",
       "      <td>GL</td>\n",
       "      <td>Glycine</td>\n",
       "    </tr>\n",
       "    <tr>\n",
       "      <th>3</th>\n",
       "      <td>GLU</td>\n",
       "      <td>Glutamic acid</td>\n",
       "    </tr>\n",
       "    <tr>\n",
       "      <th>4</th>\n",
       "      <td>HIS</td>\n",
       "      <td>Histidine</td>\n",
       "    </tr>\n",
       "  </tbody>\n",
       "</table>\n",
       "</div>"
      ],
      "text/plain": [
       "  met_id     Amino Acid\n",
       "0    ALA        Alanine\n",
       "1    ASP  Aspartic acid\n",
       "2     GL        Glycine\n",
       "3    GLU  Glutamic acid\n",
       "4    HIS      Histidine"
      ]
     },
     "execution_count": 51,
     "metadata": {},
     "output_type": "execute_result"
    }
   ],
   "source": [
    "met_abbriviations = pd.DataFrame(\n",
    "    [\n",
    "        ('ALA', 'Alanine'), ('ASP', 'Aspartic acid'), ('GL', 'Glycine'), ('GLU', 'Glutamic acid'), \n",
    "        ('HIS', 'Histidine'), ('ILE', 'Isoleucine'), ('LEU', 'Leucine'), ('MET', 'Methionine'), \n",
    "        ('PHE', 'Phenylalanine'), ('SER', 'Serine'), ('THR', 'Threonine'), ('VAL', 'Valine')\n",
    "    ], columns=['met_id','Amino Acid']\n",
    ")\n",
    "met_abbriviations.head()"
   ]
  },
  {
   "attachments": {},
   "cell_type": "markdown",
   "metadata": {},
   "source": [
    "We can merge this map into the dataframe."
   ]
  },
  {
   "cell_type": "code",
   "execution_count": 52,
   "metadata": {},
   "outputs": [
    {
     "data": {
      "text/html": [
       "<div>\n",
       "<style scoped>\n",
       "    .dataframe tbody tr th:only-of-type {\n",
       "        vertical-align: middle;\n",
       "    }\n",
       "\n",
       "    .dataframe tbody tr th {\n",
       "        vertical-align: top;\n",
       "    }\n",
       "\n",
       "    .dataframe thead th {\n",
       "        text-align: right;\n",
       "    }\n",
       "</style>\n",
       "<table border=\"1\" class=\"dataframe\">\n",
       "  <thead>\n",
       "    <tr style=\"text-align: right;\">\n",
       "      <th></th>\n",
       "      <th>Amino Acid</th>\n",
       "      <th>m/z</th>\n",
       "      <th>mass_isotope</th>\n",
       "      <th>intensity</th>\n",
       "      <th>intensity_std_error</th>\n",
       "      <th>fragment_id</th>\n",
       "      <th>experiment_id</th>\n",
       "      <th>met_id</th>\n",
       "    </tr>\n",
       "  </thead>\n",
       "  <tbody>\n",
       "    <tr>\n",
       "      <th>0</th>\n",
       "      <td>Alanine</td>\n",
       "      <td>232</td>\n",
       "      <td>M</td>\n",
       "      <td>0.9759</td>\n",
       "      <td>0.0027</td>\n",
       "      <td>Alanine232</td>\n",
       "      <td>fructose</td>\n",
       "      <td>ALA</td>\n",
       "    </tr>\n",
       "    <tr>\n",
       "      <th>1</th>\n",
       "      <td>Alanine</td>\n",
       "      <td>260</td>\n",
       "      <td>M</td>\n",
       "      <td>0.3509</td>\n",
       "      <td>0.0135</td>\n",
       "      <td>Alanine260</td>\n",
       "      <td>fructose</td>\n",
       "      <td>ALA</td>\n",
       "    </tr>\n",
       "    <tr>\n",
       "      <th>2</th>\n",
       "      <td>Glycine</td>\n",
       "      <td>218</td>\n",
       "      <td>M</td>\n",
       "      <td>0.9950</td>\n",
       "      <td>0.0021</td>\n",
       "      <td>Glycine218</td>\n",
       "      <td>fructose</td>\n",
       "      <td>GL</td>\n",
       "    </tr>\n",
       "    <tr>\n",
       "      <th>3</th>\n",
       "      <td>Glycine</td>\n",
       "      <td>246</td>\n",
       "      <td>M</td>\n",
       "      <td>0.9357</td>\n",
       "      <td>0.0068</td>\n",
       "      <td>Glycine246</td>\n",
       "      <td>fructose</td>\n",
       "      <td>GL</td>\n",
       "    </tr>\n",
       "    <tr>\n",
       "      <th>4</th>\n",
       "      <td>Valine</td>\n",
       "      <td>260</td>\n",
       "      <td>M</td>\n",
       "      <td>0.9513</td>\n",
       "      <td>0.0058</td>\n",
       "      <td>Valine260</td>\n",
       "      <td>fructose</td>\n",
       "      <td>VAL</td>\n",
       "    </tr>\n",
       "  </tbody>\n",
       "</table>\n",
       "</div>"
      ],
      "text/plain": [
       "  Amino Acid  m/z mass_isotope  intensity  intensity_std_error fragment_id  \\\n",
       "0    Alanine  232            M     0.9759               0.0027  Alanine232   \n",
       "1    Alanine  260            M     0.3509               0.0135  Alanine260   \n",
       "2    Glycine  218            M     0.9950               0.0021  Glycine218   \n",
       "3    Glycine  246            M     0.9357               0.0068  Glycine246   \n",
       "4     Valine  260            M     0.9513               0.0058   Valine260   \n",
       "\n",
       "  experiment_id met_id  \n",
       "0      fructose    ALA  \n",
       "1      fructose    ALA  \n",
       "2      fructose     GL  \n",
       "3      fructose     GL  \n",
       "4      fructose    VAL  "
      ]
     },
     "execution_count": 52,
     "metadata": {},
     "output_type": "execute_result"
    }
   ],
   "source": [
    "mdvs_long_met_ids = mdvs_long.merge(met_abbriviations, on='Amino Acid', how='left')\n",
    "mdvs_long_met_ids.head()"
   ]
  },
  {
   "cell_type": "code",
   "execution_count": 53,
   "metadata": {},
   "outputs": [
    {
     "data": {
      "text/plain": [
       "array(['M', 'M+1', 'M+2', 'M+3', 'M+4', 'M+5', 'M+6', 'M+7', 'M+8', 'M+9'],\n",
       "      dtype=object)"
      ]
     },
     "execution_count": 53,
     "metadata": {},
     "output_type": "execute_result"
    }
   ],
   "source": [
    "mdvs_long_met_ids['mass_isotope'].unique()"
   ]
  },
  {
   "cell_type": "code",
   "execution_count": 54,
   "metadata": {},
   "outputs": [
    {
     "data": {
      "text/plain": [
       "1"
      ]
     },
     "execution_count": 54,
     "metadata": {},
     "output_type": "execute_result"
    }
   ],
   "source": [
    "def mass_isotope_to_int(mass_isotope: str)-> int:\n",
    "    if isinstance(mass_isotope, int): # avoids error when rerunning the cell\n",
    "        return mass_isotope\n",
    "    elif mass_isotope == \"M\":\n",
    "        return 0\n",
    "    else:\n",
    "        return int(mass_isotope.replace(\"M+\", \"\"))\n",
    "mass_isotope_to_int(\"M+1\")"
   ]
  },
  {
   "cell_type": "code",
   "execution_count": 55,
   "metadata": {},
   "outputs": [
    {
     "data": {
      "text/html": [
       "<div>\n",
       "<style scoped>\n",
       "    .dataframe tbody tr th:only-of-type {\n",
       "        vertical-align: middle;\n",
       "    }\n",
       "\n",
       "    .dataframe tbody tr th {\n",
       "        vertical-align: top;\n",
       "    }\n",
       "\n",
       "    .dataframe thead th {\n",
       "        text-align: right;\n",
       "    }\n",
       "</style>\n",
       "<table border=\"1\" class=\"dataframe\">\n",
       "  <thead>\n",
       "    <tr style=\"text-align: right;\">\n",
       "      <th></th>\n",
       "      <th>Amino Acid</th>\n",
       "      <th>m/z</th>\n",
       "      <th>mass_isotope</th>\n",
       "      <th>intensity</th>\n",
       "      <th>intensity_std_error</th>\n",
       "      <th>fragment_id</th>\n",
       "      <th>experiment_id</th>\n",
       "      <th>met_id</th>\n",
       "    </tr>\n",
       "  </thead>\n",
       "  <tbody>\n",
       "    <tr>\n",
       "      <th>0</th>\n",
       "      <td>Alanine</td>\n",
       "      <td>232</td>\n",
       "      <td>0</td>\n",
       "      <td>0.9759</td>\n",
       "      <td>0.0027</td>\n",
       "      <td>Alanine232</td>\n",
       "      <td>fructose</td>\n",
       "      <td>ALA</td>\n",
       "    </tr>\n",
       "    <tr>\n",
       "      <th>1</th>\n",
       "      <td>Alanine</td>\n",
       "      <td>260</td>\n",
       "      <td>0</td>\n",
       "      <td>0.3509</td>\n",
       "      <td>0.0135</td>\n",
       "      <td>Alanine260</td>\n",
       "      <td>fructose</td>\n",
       "      <td>ALA</td>\n",
       "    </tr>\n",
       "    <tr>\n",
       "      <th>2</th>\n",
       "      <td>Glycine</td>\n",
       "      <td>218</td>\n",
       "      <td>0</td>\n",
       "      <td>0.9950</td>\n",
       "      <td>0.0021</td>\n",
       "      <td>Glycine218</td>\n",
       "      <td>fructose</td>\n",
       "      <td>GL</td>\n",
       "    </tr>\n",
       "    <tr>\n",
       "      <th>3</th>\n",
       "      <td>Glycine</td>\n",
       "      <td>246</td>\n",
       "      <td>0</td>\n",
       "      <td>0.9357</td>\n",
       "      <td>0.0068</td>\n",
       "      <td>Glycine246</td>\n",
       "      <td>fructose</td>\n",
       "      <td>GL</td>\n",
       "    </tr>\n",
       "    <tr>\n",
       "      <th>4</th>\n",
       "      <td>Valine</td>\n",
       "      <td>260</td>\n",
       "      <td>0</td>\n",
       "      <td>0.9513</td>\n",
       "      <td>0.0058</td>\n",
       "      <td>Valine260</td>\n",
       "      <td>fructose</td>\n",
       "      <td>VAL</td>\n",
       "    </tr>\n",
       "  </tbody>\n",
       "</table>\n",
       "</div>"
      ],
      "text/plain": [
       "  Amino Acid  m/z  mass_isotope  intensity  intensity_std_error fragment_id  \\\n",
       "0    Alanine  232             0     0.9759               0.0027  Alanine232   \n",
       "1    Alanine  260             0     0.3509               0.0135  Alanine260   \n",
       "2    Glycine  218             0     0.9950               0.0021  Glycine218   \n",
       "3    Glycine  246             0     0.9357               0.0068  Glycine246   \n",
       "4     Valine  260             0     0.9513               0.0058   Valine260   \n",
       "\n",
       "  experiment_id met_id  \n",
       "0      fructose    ALA  \n",
       "1      fructose    ALA  \n",
       "2      fructose     GL  \n",
       "3      fructose     GL  \n",
       "4      fructose    VAL  "
      ]
     },
     "execution_count": 55,
     "metadata": {},
     "output_type": "execute_result"
    }
   ],
   "source": [
    "mdvs_long_met_ids['mass_isotope'] = mdvs_long_met_ids['mass_isotope'].apply(mass_isotope_to_int)\n",
    "mdvs_long_met_ids.head()"
   ]
  },
  {
   "attachments": {},
   "cell_type": "markdown",
   "metadata": {},
   "source": [
    "Now, we need to aggregate the MS values and the std. error into python lists and name the columns to match the expected names in the `ms_measurement_schema`."
   ]
  },
  {
   "cell_type": "code",
   "execution_count": 56,
   "metadata": {},
   "outputs": [],
   "source": [
    "# aggregated_idvs = (mdvs_long_met_ids\n",
    "#     .groupby(['experiment_id', 'met_id', 'fragment_id','Amino Acid', 'm/z'])\n",
    "#     .aggregate(lambda x: x.tolist())\n",
    "#     .reset_index()\n",
    "#     .rename(columns={'value':'idv', 'std_error':'idv_std_error'})\n",
    "# )\n",
    "# aggregated_idvs.head()"
   ]
  },
  {
   "attachments": {},
   "cell_type": "markdown",
   "metadata": {},
   "source": [
    "So far so good, but we are still missing information about which carbon atoms from the metabolite are found in each fragment (`labelled_atom_ids`). If we want to do natural abundance correction through INCA we should also supply the chemical formula of all the unlabelled atoms of the fragment. We have stored this information in a separate csv file. The labelled atoms column contains a list as a string therefore we will use the trick from section \"Note about formatting when reading csv and and excel files\" in the input data description."
   ]
  },
  {
   "cell_type": "code",
   "execution_count": 57,
   "metadata": {},
   "outputs": [
    {
     "data": {
      "text/html": [
       "<div>\n",
       "<style scoped>\n",
       "    .dataframe tbody tr th:only-of-type {\n",
       "        vertical-align: middle;\n",
       "    }\n",
       "\n",
       "    .dataframe tbody tr th {\n",
       "        vertical-align: top;\n",
       "    }\n",
       "\n",
       "    .dataframe thead th {\n",
       "        text-align: right;\n",
       "    }\n",
       "</style>\n",
       "<table border=\"1\" class=\"dataframe\">\n",
       "  <thead>\n",
       "    <tr style=\"text-align: right;\">\n",
       "      <th></th>\n",
       "      <th>selected</th>\n",
       "      <th>fragment_id</th>\n",
       "      <th>metabolite_id</th>\n",
       "      <th>labelled_atoms</th>\n",
       "      <th>unlabelled_atoms</th>\n",
       "      <th>active</th>\n",
       "      <th>formula</th>\n",
       "    </tr>\n",
       "  </thead>\n",
       "  <tbody>\n",
       "    <tr>\n",
       "      <th>0</th>\n",
       "      <td>True</td>\n",
       "      <td>Tyrosine302</td>\n",
       "      <td>tyr__L</td>\n",
       "      <td>[1, 2]</td>\n",
       "      <td>C12H32O2NSi2</td>\n",
       "      <td>True</td>\n",
       "      <td>C14H32O2NSi2</td>\n",
       "    </tr>\n",
       "    <tr>\n",
       "      <th>1</th>\n",
       "      <td>False</td>\n",
       "      <td>Lysine431</td>\n",
       "      <td>lys__L</td>\n",
       "      <td>[1, 2, 3, 4, 5, 6]</td>\n",
       "      <td>C14H47O2N2Si3</td>\n",
       "      <td>True</td>\n",
       "      <td>C20H47O2N2Si3</td>\n",
       "    </tr>\n",
       "    <tr>\n",
       "      <th>2</th>\n",
       "      <td>False</td>\n",
       "      <td>Lysine329</td>\n",
       "      <td>lys__L</td>\n",
       "      <td>[2, 3, 4, 5, 6]</td>\n",
       "      <td>C12H41N2Si2</td>\n",
       "      <td>True</td>\n",
       "      <td>C17H41N2Si2</td>\n",
       "    </tr>\n",
       "    <tr>\n",
       "      <th>3</th>\n",
       "      <td>False</td>\n",
       "      <td>Histidine338</td>\n",
       "      <td>his__L</td>\n",
       "      <td>[2, 3, 4, 5, 6]</td>\n",
       "      <td>C12H36N3Si2</td>\n",
       "      <td>False</td>\n",
       "      <td>C17H36N3Si2</td>\n",
       "    </tr>\n",
       "    <tr>\n",
       "      <th>4</th>\n",
       "      <td>False</td>\n",
       "      <td>Histidine440</td>\n",
       "      <td>his__L</td>\n",
       "      <td>[1, 2, 3, 4, 5, 6]</td>\n",
       "      <td>C14H42O2N3Si3</td>\n",
       "      <td>False</td>\n",
       "      <td>C20H42O2N3Si3</td>\n",
       "    </tr>\n",
       "  </tbody>\n",
       "</table>\n",
       "</div>"
      ],
      "text/plain": [
       "   selected   fragment_id metabolite_id      labelled_atoms unlabelled_atoms  \\\n",
       "0      True   Tyrosine302        tyr__L              [1, 2]     C12H32O2NSi2   \n",
       "1     False     Lysine431        lys__L  [1, 2, 3, 4, 5, 6]    C14H47O2N2Si3   \n",
       "2     False     Lysine329        lys__L     [2, 3, 4, 5, 6]      C12H41N2Si2   \n",
       "3     False  Histidine338        his__L     [2, 3, 4, 5, 6]      C12H36N3Si2   \n",
       "4     False  Histidine440        his__L  [1, 2, 3, 4, 5, 6]    C14H42O2N3Si3   \n",
       "\n",
       "   active        formula  \n",
       "0    True   C14H32O2NSi2  \n",
       "1    True  C20H47O2N2Si3  \n",
       "2    True    C17H41N2Si2  \n",
       "3   False    C17H36N3Si2  \n",
       "4   False  C20H42O2N3Si3  "
      ]
     },
     "execution_count": 57,
     "metadata": {},
     "output_type": "execute_result"
    }
   ],
   "source": [
    "# Create dictionary to look up the fomula of each fragment in the model\n",
    "fragments = pd.read_csv('Literature data/Cupriavidus necator  Alagesan 2017/fragments.csv', sep='\\t', converters={'labelled_atoms': ast.literal_eval})\n",
    "fragments.head()"
   ]
  },
  {
   "attachments": {},
   "cell_type": "markdown",
   "metadata": {},
   "source": [
    "We will need to merge this information into the measurement data (aggregated idvs) and for clarity we drop all the columns that are not required, even though it is allowed to have extra columns."
   ]
  },
  {
   "cell_type": "code",
   "execution_count": 58,
   "metadata": {},
   "outputs": [
    {
     "data": {
      "text/html": [
       "<div>\n",
       "<style scoped>\n",
       "    .dataframe tbody tr th:only-of-type {\n",
       "        vertical-align: middle;\n",
       "    }\n",
       "\n",
       "    .dataframe tbody tr th {\n",
       "        vertical-align: top;\n",
       "    }\n",
       "\n",
       "    .dataframe thead th {\n",
       "        text-align: right;\n",
       "    }\n",
       "</style>\n",
       "<table border=\"1\" class=\"dataframe\">\n",
       "  <thead>\n",
       "    <tr style=\"text-align: right;\">\n",
       "      <th></th>\n",
       "      <th>mass_isotope</th>\n",
       "      <th>intensity</th>\n",
       "      <th>intensity_std_error</th>\n",
       "      <th>ms_id</th>\n",
       "      <th>experiment_id</th>\n",
       "      <th>met_id</th>\n",
       "      <th>labelled_atom_ids</th>\n",
       "      <th>unlabelled_atoms</th>\n",
       "    </tr>\n",
       "  </thead>\n",
       "  <tbody>\n",
       "    <tr>\n",
       "      <th>0</th>\n",
       "      <td>0</td>\n",
       "      <td>0.9759</td>\n",
       "      <td>0.0027</td>\n",
       "      <td>Alanine232</td>\n",
       "      <td>fructose</td>\n",
       "      <td>ALA</td>\n",
       "      <td>[2, 3]</td>\n",
       "      <td>C8H26ONSi2</td>\n",
       "    </tr>\n",
       "    <tr>\n",
       "      <th>1</th>\n",
       "      <td>0</td>\n",
       "      <td>0.3509</td>\n",
       "      <td>0.0135</td>\n",
       "      <td>Alanine260</td>\n",
       "      <td>fructose</td>\n",
       "      <td>ALA</td>\n",
       "      <td>[1, 2, 3]</td>\n",
       "      <td>C8H26O2NSi2</td>\n",
       "    </tr>\n",
       "    <tr>\n",
       "      <th>2</th>\n",
       "      <td>0</td>\n",
       "      <td>0.9950</td>\n",
       "      <td>0.0021</td>\n",
       "      <td>Glycine218</td>\n",
       "      <td>fructose</td>\n",
       "      <td>GL</td>\n",
       "      <td>[2]</td>\n",
       "      <td>C8H24ONSi2</td>\n",
       "    </tr>\n",
       "    <tr>\n",
       "      <th>3</th>\n",
       "      <td>0</td>\n",
       "      <td>0.9357</td>\n",
       "      <td>0.0068</td>\n",
       "      <td>Glycine246</td>\n",
       "      <td>fructose</td>\n",
       "      <td>GL</td>\n",
       "      <td>[1, 2]</td>\n",
       "      <td>C8H24O2NSi2</td>\n",
       "    </tr>\n",
       "    <tr>\n",
       "      <th>4</th>\n",
       "      <td>0</td>\n",
       "      <td>0.9513</td>\n",
       "      <td>0.0058</td>\n",
       "      <td>Valine260</td>\n",
       "      <td>fructose</td>\n",
       "      <td>VAL</td>\n",
       "      <td>[2, 3, 4, 5]</td>\n",
       "      <td>C8H30ONSi2</td>\n",
       "    </tr>\n",
       "  </tbody>\n",
       "</table>\n",
       "</div>"
      ],
      "text/plain": [
       "   mass_isotope  intensity  intensity_std_error       ms_id experiment_id  \\\n",
       "0             0     0.9759               0.0027  Alanine232      fructose   \n",
       "1             0     0.3509               0.0135  Alanine260      fructose   \n",
       "2             0     0.9950               0.0021  Glycine218      fructose   \n",
       "3             0     0.9357               0.0068  Glycine246      fructose   \n",
       "4             0     0.9513               0.0058   Valine260      fructose   \n",
       "\n",
       "  met_id labelled_atom_ids unlabelled_atoms  \n",
       "0    ALA            [2, 3]       C8H26ONSi2  \n",
       "1    ALA         [1, 2, 3]      C8H26O2NSi2  \n",
       "2     GL               [2]       C8H24ONSi2  \n",
       "3     GL            [1, 2]      C8H24O2NSi2  \n",
       "4    VAL      [2, 3, 4, 5]       C8H30ONSi2  "
      ]
     },
     "execution_count": 58,
     "metadata": {},
     "output_type": "execute_result"
    }
   ],
   "source": [
    "ms_data = (mdvs_long_met_ids\n",
    "    .merge(\n",
    "        fragments[['fragment_id', 'labelled_atoms', 'unlabelled_atoms']], \n",
    "        on='fragment_id', how='left'\n",
    "    )\n",
    "    .rename(columns={ # rename columns to match the schema\n",
    "        'fragment_id': 'ms_id',\n",
    "        'labelled_atoms': 'labelled_atom_ids',\n",
    "    })\n",
    "    .drop(columns=['Amino Acid', 'm/z'])\n",
    ")\n",
    "ms_data.head()"
   ]
  },
  {
   "attachments": {},
   "cell_type": "markdown",
   "metadata": {},
   "source": [
    "One final thing is missing for the MS measurements and that is the time column. This this information is only used for Isotopically non-stationary MFA, but due to the way the INCA parser works it is a required input also for isotopically stationary MFA. In that case just fill the time column with zeros."
   ]
  },
  {
   "cell_type": "code",
   "execution_count": 59,
   "metadata": {},
   "outputs": [],
   "source": [
    "ms_data['time'] = 0\n",
    "ms_data['measurement_replicate'] = 1"
   ]
  },
  {
   "attachments": {},
   "cell_type": "markdown",
   "metadata": {},
   "source": [
    "The data contains measurements from a fragment called `Methionine292`, we don't immediately know the labelled atom ids for this fragment, which resulted in Nan's in the labelled atom ids columns. We will just remove these measurements from the data."
   ]
  },
  {
   "cell_type": "code",
   "execution_count": 60,
   "metadata": {},
   "outputs": [],
   "source": [
    "ms_data = ms_data.query('ms_id != \"Methionine292\"')\n"
   ]
  },
  {
   "cell_type": "code",
   "execution_count": 61,
   "metadata": {},
   "outputs": [
    {
     "data": {
      "text/html": [
       "<div>\n",
       "<style scoped>\n",
       "    .dataframe tbody tr th:only-of-type {\n",
       "        vertical-align: middle;\n",
       "    }\n",
       "\n",
       "    .dataframe tbody tr th {\n",
       "        vertical-align: top;\n",
       "    }\n",
       "\n",
       "    .dataframe thead th {\n",
       "        text-align: right;\n",
       "    }\n",
       "</style>\n",
       "<table border=\"1\" class=\"dataframe\">\n",
       "  <thead>\n",
       "    <tr style=\"text-align: right;\">\n",
       "      <th></th>\n",
       "      <th>experiment_id</th>\n",
       "      <th>ms_id</th>\n",
       "      <th>measurement_replicate</th>\n",
       "      <th>mass_isotope</th>\n",
       "      <th>intensity</th>\n",
       "      <th>intensity_std_error</th>\n",
       "      <th>met_id</th>\n",
       "      <th>labelled_atom_ids</th>\n",
       "      <th>unlabelled_atoms</th>\n",
       "      <th>time</th>\n",
       "    </tr>\n",
       "  </thead>\n",
       "  <tbody>\n",
       "    <tr>\n",
       "      <th>85</th>\n",
       "      <td>fructose</td>\n",
       "      <td>Valine260</td>\n",
       "      <td>1</td>\n",
       "      <td>3</td>\n",
       "      <td>NaN</td>\n",
       "      <td>NaN</td>\n",
       "      <td>VAL</td>\n",
       "      <td>[2, 3, 4, 5]</td>\n",
       "      <td>C8H30ONSi2</td>\n",
       "      <td>0.0</td>\n",
       "    </tr>\n",
       "    <tr>\n",
       "      <th>172</th>\n",
       "      <td>glycerol</td>\n",
       "      <td>Phenylalanine336</td>\n",
       "      <td>1</td>\n",
       "      <td>1</td>\n",
       "      <td>NaN</td>\n",
       "      <td>NaN</td>\n",
       "      <td>PHE</td>\n",
       "      <td>[1, 2, 3, 4, 5, 6, 7, 8, 9]</td>\n",
       "      <td>C8H30O2NSi2</td>\n",
       "      <td>0.0</td>\n",
       "    </tr>\n",
       "  </tbody>\n",
       "</table>\n",
       "</div>"
      ],
      "text/plain": [
       "    experiment_id             ms_id  measurement_replicate  mass_isotope  \\\n",
       "85       fructose         Valine260                      1             3   \n",
       "172      glycerol  Phenylalanine336                      1             1   \n",
       "\n",
       "     intensity  intensity_std_error met_id            labelled_atom_ids  \\\n",
       "85         NaN                  NaN    VAL                 [2, 3, 4, 5]   \n",
       "172        NaN                  NaN    PHE  [1, 2, 3, 4, 5, 6, 7, 8, 9]   \n",
       "\n",
       "    unlabelled_atoms  time  \n",
       "85        C8H30ONSi2   0.0  \n",
       "172      C8H30O2NSi2   0.0  "
      ]
     },
     "execution_count": 61,
     "metadata": {},
     "output_type": "execute_result"
    }
   ],
   "source": [
    "ms_data_filled = INCA_script_writing.fill_all_mass_isotope_gaps(ms_data)\n",
    "ms_data_filled[ms_data_filled.intensity.isna()]"
   ]
  },
  {
   "cell_type": "code",
   "execution_count": 63,
   "metadata": {},
   "outputs": [],
   "source": [
    "import warnings\n",
    "warnings.filterwarnings('error')\n",
    "try:\n",
    "    dataschemas.MSMeasurementsSchema.validate(ms_data)\n",
    "except UserWarning as e:\n",
    "    print(e)\n",
    "warnings.resetwarnings()"
   ]
  },
  {
   "attachments": {},
   "cell_type": "markdown",
   "metadata": {},
   "source": [
    "We see that the `ms_measurement_schema` raise a warning. We warning tells us that some of the idv's does not contain a measurement for all possible mass isotopes. "
   ]
  },
  {
   "cell_type": "code",
   "execution_count": 27,
   "metadata": {},
   "outputs": [],
   "source": [
    "# mask = ms_data['idv'].apply(len) < ms_data['labelled_atom_ids'].apply(len) + 1"
   ]
  },
  {
   "attachments": {},
   "cell_type": "markdown",
   "metadata": {},
   "source": [
    "We see that the MS measurements passes the validation and we can now create the INCA scripts. We will use the function `create_inca_script_from_data()`. This function automatically determines measurement/data types in each experiment and build an INCA script for all or only the desired experiments. All experiments in the same INCA script will be fitted together, thus should be under the exact same biological conditions only varying in tracer, e.g. parallel labelling experiments one with [1-13C]Glucose and another with [1,2-13C]Glucose. The three experiments, fructose, glycerol and mixotroph, deploys different substrates. Thus, they cannot be considered parallel labelling experiments and therefore we need to fit the data from each experiment individually. This means that we need to create an INCA script for each of them.\n",
    "\n",
    "We will start with just one of the three experiments, fructose."
   ]
  },
  {
   "cell_type": "code",
   "execution_count": 28,
   "metadata": {},
   "outputs": [],
   "source": [
    "script_fructose = INCA_script_writing.create_inca_script_from_data(\n",
    "    reactions_data=reacts_processed, \n",
    "    tracer_data=tracer_info, \n",
    "    ms_measurements=ms_data,\n",
    "    experiment_ids=['fructose']\n",
    ")"
   ]
  },
  {
   "attachments": {},
   "cell_type": "markdown",
   "metadata": {},
   "source": [
    "The INCA parser has now created most of the INCA script. But it has not specified any options other than the default once or instructions on which algorithms INCA should execute on the data. We discussed earlier that the data was all ready corrected for natural abundance, we will assume that this also include the unlabelled atoms. Therefore, we will specify two INCA settings: sim_na and sim_more. First, determines whether to simulate of the natural abundance of the labelled atoms, and the second of the unlabelled atoms."
   ]
  },
  {
   "cell_type": "code",
   "execution_count": 29,
   "metadata": {},
   "outputs": [],
   "source": [
    "script_fructose.add_to_block(\"options\", INCA_script_writing.define_options(sim_na=False, sim_more=False))"
   ]
  },
  {
   "attachments": {},
   "cell_type": "markdown",
   "metadata": {},
   "source": [
    "Next, we will specify which algorithms to run in this example we will use estimate, continuate and simulate (simulate is required for the results to be opened in the INCA GUI)."
   ]
  },
  {
   "cell_type": "code",
   "execution_count": 30,
   "metadata": {},
   "outputs": [],
   "source": [
    "script_fructose.add_to_block(\"runner\", INCA_script_writing.define_runner(\"Literature data/Cupriavidus necator  Alagesan 2017/c_necator_fructose.mat\", run_estimate=False, run_simulation=False, run_continuation=False))"
   ]
  },
  {
   "cell_type": "code",
   "execution_count": 31,
   "metadata": {},
   "outputs": [],
   "source": [
    "script_fructose.save_script(\"Literature data/Cupriavidus necator  Alagesan 2017/c_necator_fructose.m\")"
   ]
  },
  {
   "cell_type": "code",
   "execution_count": 32,
   "metadata": {},
   "outputs": [
    {
     "name": "stdout",
     "output_type": "stream",
     "text": [
      "INCA script saved to /var/folders/z6/mxpxh4k56tv0h0ff41vmx7gdwtlpvp/T/tmpssl7cic4/inca_script.m.\n",
      "Starting MATLAB engine...\n",
      " \n",
      "ms_fructose = 1x23 msdata object\n",
      " \n",
      "fields: atoms  id  [idvs]  more  on  state  \n",
      " \n",
      "Alanine232 Alanine260 Asparticacid302 Asparticacid390 Asparticacid418 Glutamicacid330 Glutamicacid432 Glycine218 Glycine246 Histidine338 Histidine440 Isoleucine274 Leucine274 Methionine320 Phenylalanine302 Phenylalanine308 Phenylalanine336 Serine362 Serine390 Threonine376 Threonine404 Valine260 Valine288\n",
      " \n",
      " \n",
      "ms_fructose = 1x23 msdata object\n",
      " \n",
      "fields: atoms  id  [idvs]  more  on  state  \n",
      " \n",
      "Alanine232 Alanine260 Asparticacid302 Asparticacid390 Asparticacid418 Glutamicacid330 Glutamicacid432 Glycine218 Glycine246 Histidine338 Histidine440 Isoleucine274 Leucine274 Methionine320 Phenylalanine302 Phenylalanine308 Phenylalanine336 Serine362 Serine390 Threonine376 Threonine404 Valine260 Valine288\n",
      " \n",
      " \n",
      "ms_fructose = 1x23 msdata object\n",
      " \n",
      "fields: atoms  id  [idvs]  more  on  state  \n",
      " \n",
      "Alanine232 Alanine260 Asparticacid302 Asparticacid390 Asparticacid418 Glutamicacid330 Glutamicacid432 Glycine218 Glycine246 Histidine338 Histidine440 Isoleucine274 Leucine274 Methionine320 Phenylalanine302 Phenylalanine308 Phenylalanine336 Serine362 Serine390 Threonine376 Threonine404 Valine260 Valine288\n",
      " \n",
      " \n",
      "ms_fructose = 1x23 msdata object\n",
      " \n",
      "fields: atoms  id  [idvs]  more  on  state  \n",
      " \n",
      "Alanine232 Alanine260 Asparticacid302 Asparticacid390 Asparticacid418 Glutamicacid330 Glutamicacid432 Glycine218 Glycine246 Histidine338 Histidine440 Isoleucine274 Leucine274 Methionine320 Phenylalanine302 Phenylalanine308 Phenylalanine336 Serine362 Serine390 Threonine376 Threonine404 Valine260 Valine288\n",
      " \n",
      " \n",
      "ms_fructose = 1x23 msdata object\n",
      " \n",
      "fields: atoms  id  [idvs]  more  on  state  \n",
      " \n",
      "Alanine232 Alanine260 Asparticacid302 Asparticacid390 Asparticacid418 Glutamicacid330 Glutamicacid432 Glycine218 Glycine246 Histidine338 Histidine440 Isoleucine274 Leucine274 Methionine320 Phenylalanine302 Phenylalanine308 Phenylalanine336 Serine362 Serine390 Threonine376 Threonine404 Valine260 Valine288\n",
      " \n",
      " \n",
      "ms_fructose = 1x23 msdata object\n",
      " \n",
      "fields: atoms  id  [idvs]  more  on  state  \n",
      " \n",
      "Alanine232 Alanine260 Asparticacid302 Asparticacid390 Asparticacid418 Glutamicacid330 Glutamicacid432 Glycine218 Glycine246 Histidine338 Histidine440 Isoleucine274 Leucine274 Methionine320 Phenylalanine302 Phenylalanine308 Phenylalanine336 Serine362 Serine390 Threonine376 Threonine404 Valine260 Valine288\n",
      " \n",
      " \n",
      "ms_fructose = 1x23 msdata object\n",
      " \n",
      "fields: atoms  id  [idvs]  more  on  state  \n",
      " \n",
      "Alanine232 Alanine260 Asparticacid302 Asparticacid390 Asparticacid418 Glutamicacid330 Glutamicacid432 Glycine218 Glycine246 Histidine338 Histidine440 Isoleucine274 Leucine274 Methionine320 Phenylalanine302 Phenylalanine308 Phenylalanine336 Serine362 Serine390 Threonine376 Threonine404 Valine260 Valine288\n",
      " \n",
      " \n",
      "ms_fructose = 1x23 msdata object\n",
      " \n",
      "fields: atoms  id  [idvs]  more  on  state  \n",
      " \n",
      "Alanine232 Alanine260 Asparticacid302 Asparticacid390 Asparticacid418 Glutamicacid330 Glutamicacid432 Glycine218 Glycine246 Histidine338 Histidine440 Isoleucine274 Leucine274 Methionine320 Phenylalanine302 Phenylalanine308 Phenylalanine336 Serine362 Serine390 Threonine376 Threonine404 Valine260 Valine288\n",
      " \n",
      " \n",
      "ms_fructose = 1x23 msdata object\n",
      " \n",
      "fields: atoms  id  [idvs]  more  on  state  \n",
      " \n",
      "Alanine232 Alanine260 Asparticacid302 Asparticacid390 Asparticacid418 Glutamicacid330 Glutamicacid432 Glycine218 Glycine246 Histidine338 Histidine440 Isoleucine274 Leucine274 Methionine320 Phenylalanine302 Phenylalanine308 Phenylalanine336 Serine362 Serine390 Threonine376 Threonine404 Valine260 Valine288\n",
      " \n",
      " \n",
      "ms_fructose = 1x23 msdata object\n",
      " \n",
      "fields: atoms  id  [idvs]  more  on  state  \n",
      " \n",
      "Alanine232 Alanine260 Asparticacid302 Asparticacid390 Asparticacid418 Glutamicacid330 Glutamicacid432 Glycine218 Glycine246 Histidine338 Histidine440 Isoleucine274 Leucine274 Methionine320 Phenylalanine302 Phenylalanine308 Phenylalanine336 Serine362 Serine390 Threonine376 Threonine404 Valine260 Valine288\n",
      " \n",
      " \n",
      "ms_fructose = 1x23 msdata object\n",
      " \n",
      "fields: atoms  id  [idvs]  more  on  state  \n",
      " \n",
      "Alanine232 Alanine260 Asparticacid302 Asparticacid390 Asparticacid418 Glutamicacid330 Glutamicacid432 Glycine218 Glycine246 Histidine338 Histidine440 Isoleucine274 Leucine274 Methionine320 Phenylalanine302 Phenylalanine308 Phenylalanine336 Serine362 Serine390 Threonine376 Threonine404 Valine260 Valine288\n",
      " \n",
      " \n",
      "ms_fructose = 1x23 msdata object\n",
      " \n",
      "fields: atoms  id  [idvs]  more  on  state  \n",
      " \n",
      "Alanine232 Alanine260 Asparticacid302 Asparticacid390 Asparticacid418 Glutamicacid330 Glutamicacid432 Glycine218 Glycine246 Histidine338 Histidine440 Isoleucine274 Leucine274 Methionine320 Phenylalanine302 Phenylalanine308 Phenylalanine336 Serine362 Serine390 Threonine376 Threonine404 Valine260 Valine288\n",
      " \n",
      " \n",
      "ms_fructose = 1x23 msdata object\n",
      " \n",
      "fields: atoms  id  [idvs]  more  on  state  \n",
      " \n",
      "Alanine232 Alanine260 Asparticacid302 Asparticacid390 Asparticacid418 Glutamicacid330 Glutamicacid432 Glycine218 Glycine246 Histidine338 Histidine440 Isoleucine274 Leucine274 Methionine320 Phenylalanine302 Phenylalanine308 Phenylalanine336 Serine362 Serine390 Threonine376 Threonine404 Valine260 Valine288\n",
      " \n",
      " \n",
      "ms_fructose = 1x23 msdata object\n",
      " \n",
      "fields: atoms  id  [idvs]  more  on  state  \n",
      " \n",
      "Alanine232 Alanine260 Asparticacid302 Asparticacid390 Asparticacid418 Glutamicacid330 Glutamicacid432 Glycine218 Glycine246 Histidine338 Histidine440 Isoleucine274 Leucine274 Methionine320 Phenylalanine302 Phenylalanine308 Phenylalanine336 Serine362 Serine390 Threonine376 Threonine404 Valine260 Valine288\n",
      " \n",
      " \n",
      "ms_fructose = 1x23 msdata object\n",
      " \n",
      "fields: atoms  id  [idvs]  more  on  state  \n",
      " \n",
      "Alanine232 Alanine260 Asparticacid302 Asparticacid390 Asparticacid418 Glutamicacid330 Glutamicacid432 Glycine218 Glycine246 Histidine338 Histidine440 Isoleucine274 Leucine274 Methionine320 Phenylalanine302 Phenylalanine308 Phenylalanine336 Serine362 Serine390 Threonine376 Threonine404 Valine260 Valine288\n",
      " \n",
      " \n",
      "ms_fructose = 1x23 msdata object\n",
      " \n",
      "fields: atoms  id  [idvs]  more  on  state  \n",
      " \n",
      "Alanine232 Alanine260 Asparticacid302 Asparticacid390 Asparticacid418 Glutamicacid330 Glutamicacid432 Glycine218 Glycine246 Histidine338 Histidine440 Isoleucine274 Leucine274 Methionine320 Phenylalanine302 Phenylalanine308 Phenylalanine336 Serine362 Serine390 Threonine376 Threonine404 Valine260 Valine288\n",
      " \n",
      " \n",
      "ms_fructose = 1x23 msdata object\n",
      " \n",
      "fields: atoms  id  [idvs]  more  on  state  \n",
      " \n",
      "Alanine232 Alanine260 Asparticacid302 Asparticacid390 Asparticacid418 Glutamicacid330 Glutamicacid432 Glycine218 Glycine246 Histidine338 Histidine440 Isoleucine274 Leucine274 Methionine320 Phenylalanine302 Phenylalanine308 Phenylalanine336 Serine362 Serine390 Threonine376 Threonine404 Valine260 Valine288\n",
      " \n",
      " \n",
      "ms_fructose = 1x23 msdata object\n",
      " \n",
      "fields: atoms  id  [idvs]  more  on  state  \n",
      " \n",
      "Alanine232 Alanine260 Asparticacid302 Asparticacid390 Asparticacid418 Glutamicacid330 Glutamicacid432 Glycine218 Glycine246 Histidine338 Histidine440 Isoleucine274 Leucine274 Methionine320 Phenylalanine302 Phenylalanine308 Phenylalanine336 Serine362 Serine390 Threonine376 Threonine404 Valine260 Valine288\n",
      " \n",
      " \n",
      "ms_fructose = 1x23 msdata object\n",
      " \n",
      "fields: atoms  id  [idvs]  more  on  state  \n",
      " \n",
      "Alanine232 Alanine260 Asparticacid302 Asparticacid390 Asparticacid418 Glutamicacid330 Glutamicacid432 Glycine218 Glycine246 Histidine338 Histidine440 Isoleucine274 Leucine274 Methionine320 Phenylalanine302 Phenylalanine308 Phenylalanine336 Serine362 Serine390 Threonine376 Threonine404 Valine260 Valine288\n",
      " \n",
      " \n",
      "ms_fructose = 1x23 msdata object\n",
      " \n",
      "fields: atoms  id  [idvs]  more  on  state  \n",
      " \n",
      "Alanine232 Alanine260 Asparticacid302 Asparticacid390 Asparticacid418 Glutamicacid330 Glutamicacid432 Glycine218 Glycine246 Histidine338 Histidine440 Isoleucine274 Leucine274 Methionine320 Phenylalanine302 Phenylalanine308 Phenylalanine336 Serine362 Serine390 Threonine376 Threonine404 Valine260 Valine288\n",
      " \n",
      " \n",
      "ms_fructose = 1x23 msdata object\n",
      " \n",
      "fields: atoms  id  [idvs]  more  on  state  \n",
      " \n",
      "Alanine232 Alanine260 Asparticacid302 Asparticacid390 Asparticacid418 Glutamicacid330 Glutamicacid432 Glycine218 Glycine246 Histidine338 Histidine440 Isoleucine274 Leucine274 Methionine320 Phenylalanine302 Phenylalanine308 Phenylalanine336 Serine362 Serine390 Threonine376 Threonine404 Valine260 Valine288\n",
      " \n",
      " \n",
      "ms_fructose = 1x23 msdata object\n",
      " \n",
      "fields: atoms  id  [idvs]  more  on  state  \n",
      " \n",
      "Alanine232 Alanine260 Asparticacid302 Asparticacid390 Asparticacid418 Glutamicacid330 Glutamicacid432 Glycine218 Glycine246 Histidine338 Histidine440 Isoleucine274 Leucine274 Methionine320 Phenylalanine302 Phenylalanine308 Phenylalanine336 Serine362 Serine390 Threonine376 Threonine404 Valine260 Valine288\n",
      " \n",
      " \n",
      "ms_fructose = 1x23 msdata object\n",
      " \n",
      "fields: atoms  id  [idvs]  more  on  state  \n",
      " \n",
      "Alanine232 Alanine260 Asparticacid302 Asparticacid390 Asparticacid418 Glutamicacid330 Glutamicacid432 Glycine218 Glycine246 Histidine338 Histidine440 Isoleucine274 Leucine274 Methionine320 Phenylalanine302 Phenylalanine308 Phenylalanine336 Serine362 Serine390 Threonine376 Threonine404 Valine260 Valine288\n",
      " \n",
      " \n",
      "m = 1x1 model object\n",
      " \n",
      "fields: [expts]  [mets]  notes  [options]  [rates]  [states]  \n",
      " \n",
      "\t74 reactions (74 fluxes)                                   \n",
      "\t54 states (33 balanced, 2 source, 19 sink and 0 unbalanced)\n",
      "\t53 metabolites                                             \n",
      "\t1 experiments                                              \n",
      " \n",
      "--- 12.663401126861572 seconds -\n"
     ]
    }
   ],
   "source": [
    "# it is the methionine idvs that are wrong, there are more measurements the labelled atoms in the model\n",
    "# But also the there is something wrong with the passing of the data some fragments are missing\n",
    "run_inca(script_fructose, INCA_base_directory)"
   ]
  },
  {
   "cell_type": "code",
   "execution_count": 29,
   "metadata": {},
   "outputs": [
    {
     "data": {
      "text/plain": [
       "array(['[1,2-13C]glycerolandCO2'], dtype=object)"
      ]
     },
     "execution_count": 29,
     "metadata": {},
     "output_type": "execute_result"
    }
   ],
   "source": [
    "experimentalMS_data_I.experiment_id.unique()"
   ]
  },
  {
   "cell_type": "code",
   "execution_count": 30,
   "metadata": {},
   "outputs": [],
   "source": [
    "from BFAIR.mfa.INCA.INCA_results import INCA_results"
   ]
  },
  {
   "cell_type": "code",
   "execution_count": 31,
   "metadata": {},
   "outputs": [],
   "source": [
    "res = INCA_results(\"C_necator.mat\")"
   ]
  },
  {
   "cell_type": "code",
   "execution_count": 37,
   "metadata": {},
   "outputs": [
    {
     "data": {
      "text/html": [
       "<div>\n",
       "<style scoped>\n",
       "    .dataframe tbody tr th:only-of-type {\n",
       "        vertical-align: middle;\n",
       "    }\n",
       "\n",
       "    .dataframe tbody tr th {\n",
       "        vertical-align: top;\n",
       "    }\n",
       "\n",
       "    .dataframe thead th {\n",
       "        text-align: right;\n",
       "    }\n",
       "</style>\n",
       "<table border=\"1\" class=\"dataframe\">\n",
       "  <thead>\n",
       "    <tr style=\"text-align: right;\">\n",
       "      <th></th>\n",
       "      <th>type</th>\n",
       "      <th>id</th>\n",
       "      <th>eqn</th>\n",
       "      <th>val</th>\n",
       "      <th>std</th>\n",
       "      <th>lb</th>\n",
       "      <th>ub</th>\n",
       "      <th>unit</th>\n",
       "      <th>free</th>\n",
       "      <th>alf</th>\n",
       "      <th>chi2s</th>\n",
       "      <th>cont</th>\n",
       "      <th>cor</th>\n",
       "      <th>cov</th>\n",
       "      <th>vals</th>\n",
       "      <th>base</th>\n",
       "    </tr>\n",
       "  </thead>\n",
       "  <tbody>\n",
       "    <tr>\n",
       "      <th>3</th>\n",
       "      <td>Net flux</td>\n",
       "      <td>R10</td>\n",
       "      <td>3PG -&gt; G3P</td>\n",
       "      <td>1.566367e+01</td>\n",
       "      <td>764.959548</td>\n",
       "      <td>[]</td>\n",
       "      <td>[]</td>\n",
       "      <td>[]</td>\n",
       "      <td>1</td>\n",
       "      <td>0.05</td>\n",
       "      <td>[]</td>\n",
       "      <td>1</td>\n",
       "      <td>[-0.8775680723982162, 0.00023667780352492045, ...</td>\n",
       "      <td>[-1522.620734422586, 0.001810722045440154, 0.0...</td>\n",
       "      <td>[]</td>\n",
       "      <td>{'id': []}</td>\n",
       "    </tr>\n",
       "    <tr>\n",
       "      <th>4</th>\n",
       "      <td>Net flux</td>\n",
       "      <td>R11</td>\n",
       "      <td>3PG -&gt; PEP</td>\n",
       "      <td>1.142262e+00</td>\n",
       "      <td>239.247937</td>\n",
       "      <td>[]</td>\n",
       "      <td>[]</td>\n",
       "      <td>[]</td>\n",
       "      <td>0</td>\n",
       "      <td>0.05</td>\n",
       "      <td>[]</td>\n",
       "      <td>1</td>\n",
       "      <td>[0.9977056078555188, 3.568390500707045e-06, 3....</td>\n",
       "      <td>[541.4060078812232, 8.538397432866773e-06, 8.5...</td>\n",
       "      <td>[]</td>\n",
       "      <td>{'id': []}</td>\n",
       "    </tr>\n",
       "    <tr>\n",
       "      <th>5</th>\n",
       "      <td>Net flux</td>\n",
       "      <td>R12</td>\n",
       "      <td>PEP -&gt; 3PG</td>\n",
       "      <td>6.909481e-01</td>\n",
       "      <td>28.692899</td>\n",
       "      <td>[]</td>\n",
       "      <td>[]</td>\n",
       "      <td>[]</td>\n",
       "      <td>1</td>\n",
       "      <td>0.05</td>\n",
       "      <td>[]</td>\n",
       "      <td>1</td>\n",
       "      <td>[-0.9435229471547154, 0.00027963130521239374, ...</td>\n",
       "      <td>[-61.404379620693064, 8.0244634750537e-05, 8.0...</td>\n",
       "      <td>[]</td>\n",
       "      <td>{'id': []}</td>\n",
       "    </tr>\n",
       "    <tr>\n",
       "      <th>42</th>\n",
       "      <td>Net flux</td>\n",
       "      <td>R46</td>\n",
       "      <td>RUBP + CO2 -&gt; 3PG + 3PG</td>\n",
       "      <td>7.618570e-01</td>\n",
       "      <td>28.305497</td>\n",
       "      <td>[]</td>\n",
       "      <td>[]</td>\n",
       "      <td>[]</td>\n",
       "      <td>1</td>\n",
       "      <td>0.05</td>\n",
       "      <td>[]</td>\n",
       "      <td>1</td>\n",
       "      <td>[-0.9964076021805945, 0.0003130007631041342, 0...</td>\n",
       "      <td>[-63.970578676181816, 8.860780476573071e-05, 8...</td>\n",
       "      <td>[]</td>\n",
       "      <td>{'id': []}</td>\n",
       "    </tr>\n",
       "    <tr>\n",
       "      <th>49</th>\n",
       "      <td>Net flux</td>\n",
       "      <td>R52</td>\n",
       "      <td>3PG -&gt; SER</td>\n",
       "      <td>9.999962e-08</td>\n",
       "      <td>9488.461664</td>\n",
       "      <td>[]</td>\n",
       "      <td>[]</td>\n",
       "      <td>[]</td>\n",
       "      <td>0</td>\n",
       "      <td>0.05</td>\n",
       "      <td>[]</td>\n",
       "      <td>1</td>\n",
       "      <td>[-0.02973593667895147, 0.00010209758630875627,...</td>\n",
       "      <td>[-639.9556619278513, 0.009688734862258226, 0.0...</td>\n",
       "      <td>[]</td>\n",
       "      <td>{'id': []}</td>\n",
       "    </tr>\n",
       "    <tr>\n",
       "      <th>50</th>\n",
       "      <td>Net flux</td>\n",
       "      <td>R53</td>\n",
       "      <td>3PG -&gt; CYS</td>\n",
       "      <td>1.000000e-07</td>\n",
       "      <td>9484.245773</td>\n",
       "      <td>[]</td>\n",
       "      <td>[]</td>\n",
       "      <td>[]</td>\n",
       "      <td>1</td>\n",
       "      <td>0.05</td>\n",
       "      <td>[]</td>\n",
       "      <td>1</td>\n",
       "      <td>[-0.00015403116004471162, -0.00010081785400171...</td>\n",
       "      <td>[-3.3134760904294303, -0.009563041436877917, -...</td>\n",
       "      <td>[]</td>\n",
       "      <td>{'id': []}</td>\n",
       "    </tr>\n",
       "    <tr>\n",
       "      <th>51</th>\n",
       "      <td>Net flux</td>\n",
       "      <td>R54</td>\n",
       "      <td>3PG -&gt; GL + MTHF</td>\n",
       "      <td>2.000009e-07</td>\n",
       "      <td>0.040067</td>\n",
       "      <td>[]</td>\n",
       "      <td>[]</td>\n",
       "      <td>[]</td>\n",
       "      <td>0</td>\n",
       "      <td>0.05</td>\n",
       "      <td>[]</td>\n",
       "      <td>1</td>\n",
       "      <td>[-0.06029186368099066, 2.2992937604176356e-05,...</td>\n",
       "      <td>[-0.005479213367024284, 9.213768553673063e-09,...</td>\n",
       "      <td>[]</td>\n",
       "      <td>{'id': []}</td>\n",
       "    </tr>\n",
       "    <tr>\n",
       "      <th>73</th>\n",
       "      <td>Net flux</td>\n",
       "      <td>R9</td>\n",
       "      <td>G3P -&gt; 3PG</td>\n",
       "      <td>1.459127e+01</td>\n",
       "      <td>728.514080</td>\n",
       "      <td>[]</td>\n",
       "      <td>[]</td>\n",
       "      <td>[]</td>\n",
       "      <td>1</td>\n",
       "      <td>0.05</td>\n",
       "      <td>[]</td>\n",
       "      <td>1</td>\n",
       "      <td>[-0.868530384236555, 0.0002316065156711028, 0....</td>\n",
       "      <td>[-1435.1438067999543, 0.0016875028377398849, 0...</td>\n",
       "      <td>[]</td>\n",
       "      <td>{'id': []}</td>\n",
       "    </tr>\n",
       "  </tbody>\n",
       "</table>\n",
       "</div>"
      ],
      "text/plain": [
       "        type   id                      eqn           val          std  lb  ub  \\\n",
       "3   Net flux  R10               3PG -> G3P  1.566367e+01   764.959548  []  []   \n",
       "4   Net flux  R11               3PG -> PEP  1.142262e+00   239.247937  []  []   \n",
       "5   Net flux  R12               PEP -> 3PG  6.909481e-01    28.692899  []  []   \n",
       "42  Net flux  R46  RUBP + CO2 -> 3PG + 3PG  7.618570e-01    28.305497  []  []   \n",
       "49  Net flux  R52               3PG -> SER  9.999962e-08  9488.461664  []  []   \n",
       "50  Net flux  R53               3PG -> CYS  1.000000e-07  9484.245773  []  []   \n",
       "51  Net flux  R54         3PG -> GL + MTHF  2.000009e-07     0.040067  []  []   \n",
       "73  Net flux   R9               G3P -> 3PG  1.459127e+01   728.514080  []  []   \n",
       "\n",
       "   unit  free   alf chi2s  cont  \\\n",
       "3    []     1  0.05    []     1   \n",
       "4    []     0  0.05    []     1   \n",
       "5    []     1  0.05    []     1   \n",
       "42   []     1  0.05    []     1   \n",
       "49   []     0  0.05    []     1   \n",
       "50   []     1  0.05    []     1   \n",
       "51   []     0  0.05    []     1   \n",
       "73   []     1  0.05    []     1   \n",
       "\n",
       "                                                  cor  \\\n",
       "3   [-0.8775680723982162, 0.00023667780352492045, ...   \n",
       "4   [0.9977056078555188, 3.568390500707045e-06, 3....   \n",
       "5   [-0.9435229471547154, 0.00027963130521239374, ...   \n",
       "42  [-0.9964076021805945, 0.0003130007631041342, 0...   \n",
       "49  [-0.02973593667895147, 0.00010209758630875627,...   \n",
       "50  [-0.00015403116004471162, -0.00010081785400171...   \n",
       "51  [-0.06029186368099066, 2.2992937604176356e-05,...   \n",
       "73  [-0.868530384236555, 0.0002316065156711028, 0....   \n",
       "\n",
       "                                                  cov vals        base  \n",
       "3   [-1522.620734422586, 0.001810722045440154, 0.0...   []  {'id': []}  \n",
       "4   [541.4060078812232, 8.538397432866773e-06, 8.5...   []  {'id': []}  \n",
       "5   [-61.404379620693064, 8.0244634750537e-05, 8.0...   []  {'id': []}  \n",
       "42  [-63.970578676181816, 8.860780476573071e-05, 8...   []  {'id': []}  \n",
       "49  [-639.9556619278513, 0.009688734862258226, 0.0...   []  {'id': []}  \n",
       "50  [-3.3134760904294303, -0.009563041436877917, -...   []  {'id': []}  \n",
       "51  [-0.005479213367024284, 9.213768553673063e-09,...   []  {'id': []}  \n",
       "73  [-1435.1438067999543, 0.0016875028377398849, 0...   []  {'id': []}  "
      ]
     },
     "execution_count": 37,
     "metadata": {},
     "output_type": "execute_result"
    }
   ],
   "source": [
    "res.fitdata.fitted_parameters.query(\"type == 'Net flux'\").query(\"eqn.str.contains('3PG')\")"
   ]
  },
  {
   "attachments": {},
   "cell_type": "markdown",
   "metadata": {},
   "source": [
    "Now that we have loaded the inca results, we can investigate how results. The first step is to investigate the diagnostics. Here we want to investigate a few factors:\n",
    "1. Did the fit pass the Goodness-of-fit test\n",
    "2. Are the residuals normally distributed\n",
    "3. Are the any measurements that appears to be outliers\n",
    "\n",
    " "
   ]
  },
  {
   "cell_type": "code",
   "execution_count": 34,
   "metadata": {},
   "outputs": [
    {
     "name": "stdout",
     "output_type": "stream",
     "text": [
      "Fit accepted: False\n",
      "Confidence level: 0.05\n",
      "Chi-square value (SSR): 478.4614348817875\n",
      "Expected chi-square range: [33.96812643 73.8098634 ]\n"
     ]
    }
   ],
   "source": [
    "res.fitdata.get_goodness_of_fit()"
   ]
  },
  {
   "cell_type": "code",
   "execution_count": 35,
   "metadata": {},
   "outputs": [
    {
     "name": "stdout",
     "output_type": "stream",
     "text": [
      "Residuals are normally distributed: False on a 0.05 significance level\n"
     ]
    }
   ],
   "source": [
    "res.fitdata.test_normality_of_residuals()"
   ]
  },
  {
   "cell_type": "code",
   "execution_count": 36,
   "metadata": {},
   "outputs": [
    {
     "name": "stderr",
     "output_type": "stream",
     "text": [
      "/Users/s143838/.virtualenvs/bfair-testing/lib/python3.10/site-packages/altair/utils/core.py:317: FutureWarning: iteritems is deprecated and will be removed in a future version. Use .items instead.\n",
      "  for col_name, dtype in df.dtypes.iteritems():\n"
     ]
    },
    {
     "data": {
      "text/html": [
       "\n",
       "<div id=\"altair-viz-cdceeec59a0d41c18bf64d70fdd2f400\"></div>\n",
       "<script type=\"text/javascript\">\n",
       "  var VEGA_DEBUG = (typeof VEGA_DEBUG == \"undefined\") ? {} : VEGA_DEBUG;\n",
       "  (function(spec, embedOpt){\n",
       "    let outputDiv = document.currentScript.previousElementSibling;\n",
       "    if (outputDiv.id !== \"altair-viz-cdceeec59a0d41c18bf64d70fdd2f400\") {\n",
       "      outputDiv = document.getElementById(\"altair-viz-cdceeec59a0d41c18bf64d70fdd2f400\");\n",
       "    }\n",
       "    const paths = {\n",
       "      \"vega\": \"https://cdn.jsdelivr.net/npm//vega@5?noext\",\n",
       "      \"vega-lib\": \"https://cdn.jsdelivr.net/npm//vega-lib?noext\",\n",
       "      \"vega-lite\": \"https://cdn.jsdelivr.net/npm//vega-lite@4.17.0?noext\",\n",
       "      \"vega-embed\": \"https://cdn.jsdelivr.net/npm//vega-embed@6?noext\",\n",
       "    };\n",
       "\n",
       "    function maybeLoadScript(lib, version) {\n",
       "      var key = `${lib.replace(\"-\", \"\")}_version`;\n",
       "      return (VEGA_DEBUG[key] == version) ?\n",
       "        Promise.resolve(paths[lib]) :\n",
       "        new Promise(function(resolve, reject) {\n",
       "          var s = document.createElement('script');\n",
       "          document.getElementsByTagName(\"head\")[0].appendChild(s);\n",
       "          s.async = true;\n",
       "          s.onload = () => {\n",
       "            VEGA_DEBUG[key] = version;\n",
       "            return resolve(paths[lib]);\n",
       "          };\n",
       "          s.onerror = () => reject(`Error loading script: ${paths[lib]}`);\n",
       "          s.src = paths[lib];\n",
       "        });\n",
       "    }\n",
       "\n",
       "    function showError(err) {\n",
       "      outputDiv.innerHTML = `<div class=\"error\" style=\"color:red;\">${err}</div>`;\n",
       "      throw err;\n",
       "    }\n",
       "\n",
       "    function displayChart(vegaEmbed) {\n",
       "      vegaEmbed(outputDiv, spec, embedOpt)\n",
       "        .catch(err => showError(`Javascript Error: ${err.message}<br>This usually means there's a typo in your chart specification. See the javascript console for the full traceback.`));\n",
       "    }\n",
       "\n",
       "    if(typeof define === \"function\" && define.amd) {\n",
       "      requirejs.config({paths});\n",
       "      require([\"vega-embed\"], displayChart, err => showError(`Error loading script: ${err.message}`));\n",
       "    } else {\n",
       "      maybeLoadScript(\"vega\", \"5\")\n",
       "        .then(() => maybeLoadScript(\"vega-lite\", \"4.17.0\"))\n",
       "        .then(() => maybeLoadScript(\"vega-embed\", \"6\"))\n",
       "        .catch(showError)\n",
       "        .then(() => displayChart(vegaEmbed));\n",
       "    }\n",
       "  })({\"config\": {\"view\": {\"continuousWidth\": 400, \"continuousHeight\": 300}}, \"layer\": [{\"data\": {\"name\": \"data-5814958488197c4a882c3f2e12db078e\"}, \"mark\": \"point\", \"encoding\": {\"tooltip\": [{\"field\": \"type\", \"type\": \"nominal\"}, {\"field\": \"id\", \"type\": \"nominal\"}, {\"field\": \"peak\", \"type\": \"nominal\"}, {\"field\": \"weighted residual\", \"type\": \"quantitative\"}], \"x\": {\"field\": \"Theoretical normal quantile\", \"type\": \"quantitative\"}, \"y\": {\"field\": \"weighted residual\", \"type\": \"quantitative\"}}}, {\"data\": {\"name\": \"data-7881272ba4b0b9432fdf6fa03ca64722\"}, \"mark\": \"line\", \"encoding\": {\"x\": {\"field\": \"x\", \"type\": \"quantitative\"}, \"y\": {\"field\": \"y\", \"type\": \"quantitative\"}}}], \"$schema\": \"https://vega.github.io/schema/vega-lite/v4.17.0.json\", \"datasets\": {\"data-5814958488197c4a882c3f2e12db078e\": [{\"type\": \"MS\", \"expt\": \"[1,2-13C]glycerolandCO2\", \"id\": \"Glycine218_0_0_[1,2-13C]glycerolandCO2\", \"peak\": \"M1\", \"time\": 0.0, \"data\": 0.6889, \"std\": 0.0365, \"fit\": 0.3968174488683443, \"weighted residual\": -8.00226167483988, \"cont\": null, \"Theoretical normal quantile\": -2.514646492705493}, {\"type\": \"MS\", \"expt\": \"[1,2-13C]glycerolandCO2\", \"id\": \"Alanine232_0_0_[1,2-13C]glycerolandCO2\", \"peak\": \"M2\", \"time\": 0.0, \"data\": 0.32753275327532755, \"std\": 0.023902390239023904, \"fit\": 0.17007815705552728, \"weighted residual\": -6.58739961339658, \"cont\": null, \"Theoretical normal quantile\": -2.1846076046618257}, {\"type\": \"MS\", \"expt\": \"[1,2-13C]glycerolandCO2\", \"id\": \"Glutamicacid330_0_0_[1,2-13C]glycerolandCO2\", \"peak\": \"M4\", \"time\": 0.0, \"data\": 0.09500950095009501, \"std\": 0.0112011201120112, \"fit\": 0.02820896660517436, \"weighted residual\": -5.963736990311265, \"cont\": null, \"Theoretical normal quantile\": -1.994431412888064}, {\"type\": \"MS\", \"expt\": \"[1,2-13C]glycerolandCO2\", \"id\": \"Valine260_0_0_[1,2-13C]glycerolandCO2\", \"peak\": \"M4\", \"time\": 0.0, \"data\": 0.10972194438887778, \"std\": 0.015603120624124825, \"fit\": 0.016697101486238278, \"weighted residual\": -5.961938329106345, \"cont\": null, \"Theoretical normal quantile\": -1.8571330507856398}, {\"type\": \"MS\", \"expt\": \"[1,2-13C]glycerolandCO2\", \"id\": \"Glutamicacid330_0_0_[1,2-13C]glycerolandCO2\", \"peak\": \"M3\", \"time\": 0.0, \"data\": 0.286028602860286, \"std\": 0.0248024802480248, \"fit\": 0.17056037440691862, \"weighted residual\": -4.655511356069437, \"cont\": null, \"Theoretical normal quantile\": -1.7479105043709637}, {\"type\": \"MS\", \"expt\": \"[1,2-13C]glycerolandCO2\", \"id\": \"Methionine320_0_0_[1,2-13C]glycerolandCO2\", \"peak\": \"M5\", \"time\": 0.0, \"data\": 0.010500000000000002, \"std\": 0.0010000000000000002, \"fit\": 0.006398049408294483, \"weighted residual\": -4.101950591705519, \"cont\": null, \"Theoretical normal quantile\": -1.656271624157681}, {\"type\": \"MS\", \"expt\": \"[1,2-13C]glycerolandCO2\", \"id\": \"Threonine404_0_0_[1,2-13C]glycerolandCO2\", \"peak\": \"M1\", \"time\": 0.0, \"data\": 0.3279655931186237, \"std\": 0.024504900980196035, \"fit\": 0.24162785887423682, \"weighted residual\": -3.5232843550015525, \"cont\": null, \"Theoretical normal quantile\": -1.5767453854097704}, {\"type\": \"MS\", \"expt\": \"[1,2-13C]glycerolandCO2\", \"id\": \"Threonine404_0_0_[1,2-13C]glycerolandCO2\", \"peak\": \"M0\", \"time\": 0.0, \"data\": 0.16953390678135627, \"std\": 0.024304860972194437, \"fit\": 0.0853481024836142, \"weighted residual\": -3.4637435035754125, \"cont\": null, \"Theoretical normal quantile\": -1.506100324305085}, {\"type\": \"MS\", \"expt\": \"[1,2-13C]glycerolandCO2\", \"id\": \"Histidine338_0_0_[1,2-13C]glycerolandCO2\", \"peak\": \"M5\", \"time\": 0.0, \"data\": 0.0319, \"std\": 0.0087, \"fit\": 0.005624798623214634, \"weighted residual\": -3.020138089285674, \"cont\": null, \"Theoretical normal quantile\": -1.4422611343813707}, {\"type\": \"MS\", \"expt\": \"[1,2-13C]glycerolandCO2\", \"id\": \"Glycine246_0_0_[1,2-13C]glycerolandCO2\", \"peak\": \"M1\", \"time\": 0.0, \"data\": 0.6202620262026203, \"std\": 0.03310331033103311, \"fit\": 0.5216193169942032, \"weighted residual\": -2.9798442579304005, \"cont\": null, \"Theoretical normal quantile\": -1.3838120297727452}, {\"type\": \"MS\", \"expt\": \"[1,2-13C]glycerolandCO2\", \"id\": \"Phenylalanine308_0_0_[1,2-13C]glycerolandCO2\", \"peak\": \"M0\", \"time\": 0.0, \"data\": 0.027908372511753526, \"std\": 0.006101830549164748, \"fit\": 0.010875900270258015, \"weighted residual\": -2.7913709016103385, \"cont\": null, \"Theoretical normal quantile\": -1.329741922420018}, {\"type\": \"MS\", \"expt\": \"[1,2-13C]glycerolandCO2\", \"id\": \"Phenylalanine336_0_0_[1,2-13C]glycerolandCO2\", \"peak\": \"M0\", \"time\": 0.0, \"data\": 0.026802680268026808, \"std\": 0.0062006200620062, \"fit\": 0.010450171141373806, \"weighted residual\": -2.637237721893603, \"cont\": null, \"Theoretical normal quantile\": -1.2793023206210041}, {\"type\": \"MS\", \"expt\": \"[1,2-13C]glycerolandCO2\", \"id\": \"Asparticacid418_0_0_[1,2-13C]glycerolandCO2\", \"peak\": \"M0\", \"time\": 0.0, \"data\": 0.1767176717671767, \"std\": 0.030303030303030304, \"fit\": 0.10238376522386677, \"weighted residual\": -2.4530189159292277, \"cont\": null, \"Theoretical normal quantile\": -1.2319228247126737}, {\"type\": \"MS\", \"expt\": \"[1,2-13C]glycerolandCO2\", \"id\": \"Leucine274_0_0_[1,2-13C]glycerolandCO2\", \"peak\": \"M0\", \"time\": 0.0, \"data\": 0.0467, \"std\": 0.0098, \"fit\": 0.023032238411970416, \"weighted residual\": -2.4150777130642433, \"cont\": null, \"Theoretical normal quantile\": -1.1871582311318407}, {\"type\": \"MS\", \"expt\": \"[1,2-13C]glycerolandCO2\", \"id\": \"Isoleucine274_0_0_[1,2-13C]glycerolandCO2\", \"peak\": \"M0\", \"time\": 0.0, \"data\": 0.063006300630063, \"std\": 0.0123012301230123, \"fit\": 0.03463243639625226, \"weighted residual\": -2.3065875485680785, \"cont\": null, \"Theoretical normal quantile\": -1.1446540052143712}, {\"type\": \"MS\", \"expt\": \"[1,2-13C]glycerolandCO2\", \"id\": \"Serine362_0_0_[1,2-13C]glycerolandCO2\", \"peak\": \"M2\", \"time\": 0.0, \"data\": 0.3252325232523252, \"std\": 0.0249024902490249, \"fit\": 0.2684332570572999, \"weighted residual\": -2.280866918409871, \"cont\": null, \"Theoretical normal quantile\": -1.1041229430715278}, {\"type\": \"MS\", \"expt\": \"[1,2-13C]glycerolandCO2\", \"id\": \"Threonine404_0_0_[1,2-13C]glycerolandCO2\", \"peak\": \"M2\", \"time\": 0.0, \"data\": 0.36617323464692936, \"std\": 0.026605321064212845, \"fit\": 0.3199294572431995, \"weighted residual\": -1.7381401747462075, \"cont\": null, \"Theoretical normal quantile\": -1.0653289230529686}, {\"type\": \"MS\", \"expt\": \"[1,2-13C]glycerolandCO2\", \"id\": \"Methionine320_0_0_[1,2-13C]glycerolandCO2\", \"peak\": \"M0\", \"time\": 0.0, \"data\": 0.11440000000000002, \"std\": 0.020300000000000002, \"fit\": 0.08149186382560558, \"weighted residual\": -1.6210904519406124, \"cont\": null, \"Theoretical normal quantile\": -1.0280753023272688}, {\"type\": \"MS\", \"expt\": \"[1,2-13C]glycerolandCO2\", \"id\": \"Histidine440_0_0_[1,2-13C]glycerolandCO2\", \"peak\": \"M5\", \"time\": 0.0, \"data\": 0.047304730473047306, \"std\": 0.011801180118011801, \"fit\": 0.029233988172676365, \"weighted residual\": -1.531265697130585, \"cont\": null, \"Theoretical normal quantile\": -0.992196446044146}, {\"type\": \"MS\", \"expt\": \"[1,2-13C]glycerolandCO2\", \"id\": \"Valine260_0_0_[1,2-13C]glycerolandCO2\", \"peak\": \"M3\", \"time\": 0.0, \"data\": 0.30456091218243647, \"std\": 0.029405881176235247, \"fit\": 0.26055817945041876, \"weighted residual\": -1.496392251206507, \"cont\": null, \"Theoretical normal quantile\": -0.9575514227876382}, {\"type\": \"MS\", \"expt\": \"[1,2-13C]glycerolandCO2\", \"id\": \"Phenylalanine302_0_0_[1,2-13C]glycerolandCO2\", \"peak\": \"M1\", \"time\": 0.0, \"data\": 0.6091609160916092, \"std\": 0.023602360236023603, \"fit\": 0.574106922324523, \"weighted residual\": -1.4851901850724352, \"cont\": null, \"Theoretical normal quantile\": -0.9240192315302217}, {\"type\": \"MS\", \"expt\": \"[1,2-13C]glycerolandCO2\", \"id\": \"Asparticacid418_0_0_[1,2-13C]glycerolandCO2\", \"peak\": \"M1\", \"time\": 0.0, \"data\": 0.3209320932093209, \"std\": 0.0211021102110211, \"fit\": 0.2898572933039141, \"weighted residual\": -1.4725920580766023, \"cont\": null, \"Theoretical normal quantile\": -0.8914951326910936}, {\"type\": \"MS\", \"expt\": \"[1,2-13C]glycerolandCO2\", \"id\": \"Valine288_0_0_[1,2-13C]glycerolandCO2\", \"peak\": \"M0\", \"time\": 0.0, \"data\": 0.0652065206520652, \"std\": 0.013201320132013201, \"fit\": 0.04706505044664089, \"weighted residual\": -1.3742163680608914, \"cont\": null, \"Theoretical normal quantile\": -0.8598877891843338}, {\"type\": \"MS\", \"expt\": \"[1,2-13C]glycerolandCO2\", \"id\": \"Leucine274_0_0_[1,2-13C]glycerolandCO2\", \"peak\": \"M5\", \"time\": 0.0, \"data\": 0.0501, \"std\": 0.0093, \"fit\": 0.03990547025886674, \"weighted residual\": -1.0961859936702432, \"cont\": null, \"Theoretical normal quantile\": -0.829117011070213}, {\"type\": \"MS\", \"expt\": \"[1,2-13C]glycerolandCO2\", \"id\": \"Valine288_0_0_[1,2-13C]glycerolandCO2\", \"peak\": \"M4\", \"time\": 0.0, \"data\": 0.15261526152615262, \"std\": 0.029902990299029902, \"fit\": 0.12473374485734766, \"weighted residual\": -0.9323989470614744, \"cont\": null, \"Theoretical normal quantile\": -0.7991119564161245}, {\"type\": \"MS\", \"expt\": \"[1,2-13C]glycerolandCO2\", \"id\": \"Valine288_0_0_[1,2-13C]glycerolandCO2\", \"peak\": \"M5\", \"time\": 0.0, \"data\": 0.0083008300830083, \"std\": 0.001000100010001, \"fit\": 0.007385564034699228, \"weighted residual\": -0.9151745217042416, \"cont\": null, \"Theoretical normal quantile\": -0.7698096814175577}, {\"type\": \"MS\", \"expt\": \"[1,2-13C]glycerolandCO2\", \"id\": \"Glutamicacid432_0_0_[1,2-13C]glycerolandCO2\", \"peak\": \"M0\", \"time\": 0.0, \"data\": 0.0644, \"std\": 0.0204, \"fit\": 0.04682209019525322, \"weighted residual\": -0.8616622453307244, \"cont\": null, \"Theoretical normal quantile\": -0.7411539610460136}, {\"type\": \"MS\", \"expt\": \"[1,2-13C]glycerolandCO2\", \"id\": \"Leucine274_0_0_[1,2-13C]glycerolandCO2\", \"peak\": \"M4\", \"time\": 0.0, \"data\": 0.1966, \"std\": 0.025299999999999996, \"fit\": 0.17494528684980656, \"weighted residual\": -0.8559175158179224, \"cont\": null, \"Theoretical normal quantile\": -0.7130943214925729}, {\"type\": \"MS\", \"expt\": \"[1,2-13C]glycerolandCO2\", \"id\": \"Asparticacid302_0_0_[1,2-13C]glycerolandCO2\", \"peak\": \"M0\", \"time\": 0.0, \"data\": 0.355, \"std\": 0.04100000000000001, \"fit\": 0.320238224691449, \"weighted residual\": -0.8478481782573403, \"cont\": null, \"Theoretical normal quantile\": -0.6855852400625317}, {\"type\": \"MS\", \"expt\": \"[1,2-13C]glycerolandCO2\", \"id\": \"Asparticacid390_0_0_[1,2-13C]glycerolandCO2\", \"peak\": \"M0\", \"time\": 0.0, \"data\": 0.1958, \"std\": 0.0287, \"fit\": 0.17336875357769527, \"weighted residual\": -0.7815765303938932, \"cont\": null, \"Theoretical normal quantile\": -0.6585854786637259}, {\"type\": \"MS\", \"expt\": \"[1,2-13C]glycerolandCO2\", \"id\": \"Histidine338_0_0_[1,2-13C]glycerolandCO2\", \"peak\": \"M2\", \"time\": 0.0, \"data\": 0.3013, \"std\": 0.0174, \"fit\": 0.28825696192392697, \"weighted residual\": -0.7495998894294853, \"cont\": null, \"Theoretical normal quantile\": -0.6320575247705346}, {\"type\": \"MS\", \"expt\": \"[1,2-13C]glycerolandCO2\", \"id\": \"Threonine376_0_0_[1,2-13C]glycerolandCO2\", \"peak\": \"M0\", \"time\": 0.0, \"data\": 0.19561956195619565, \"std\": 0.03180318031803181, \"fit\": 0.17282975654165236, \"weighted residual\": -0.7165888815723844, \"cont\": null, \"Theoretical normal quantile\": -0.6059671195224876}, {\"type\": \"MS\", \"expt\": \"[1,2-13C]glycerolandCO2\", \"id\": \"Glutamicacid432_0_0_[1,2-13C]glycerolandCO2\", \"peak\": \"M3\", \"time\": 0.0, \"data\": 0.3044, \"std\": 0.0255, \"fit\": 0.28667549960514377, \"weighted residual\": -0.6950784468571073, \"cont\": null, \"Theoretical normal quantile\": -0.5802828569741884}, {\"type\": \"MS\", \"expt\": \"[1,2-13C]glycerolandCO2\", \"id\": \"Serine390_0_0_[1,2-13C]glycerolandCO2\", \"peak\": \"M1\", \"time\": 0.0, \"data\": 0.39623962396239626, \"std\": 0.008500850085008501, \"fit\": 0.3903790343875343, \"weighted residual\": -0.6894121783417031, \"cont\": null, \"Theoretical normal quantile\": -0.5549758418329608}, {\"type\": \"MS\", \"expt\": \"[1,2-13C]glycerolandCO2\", \"id\": \"Histidine440_0_0_[1,2-13C]glycerolandCO2\", \"peak\": \"M0\", \"time\": 0.0, \"data\": 0.0634063406340634, \"std\": 0.014901490149014901, \"fit\": 0.05337271583937166, \"weighted residual\": -0.6733302974639114, \"cont\": null, \"Theoretical normal quantile\": -0.5300193955726834}, {\"type\": \"MS\", \"expt\": \"[1,2-13C]glycerolandCO2\", \"id\": \"Glutamicacid432_0_0_[1,2-13C]glycerolandCO2\", \"peak\": \"M4\", \"time\": 0.0, \"data\": 0.1451, \"std\": 0.037599999999999995, \"fit\": 0.1230929105241689, \"weighted residual\": -0.5852949328678486, \"cont\": null, \"Theoretical normal quantile\": -0.5053888027910046}, {\"type\": \"MS\", \"expt\": \"[1,2-13C]glycerolandCO2\", \"id\": \"Histidine338_0_0_[1,2-13C]glycerolandCO2\", \"peak\": \"M0\", \"time\": 0.0, \"data\": 0.0797, \"std\": 0.0183, \"fit\": 0.06906438434739955, \"weighted residual\": -0.5811811832022102, \"cont\": null, \"Theoretical normal quantile\": -0.48106109122361423}, {\"type\": \"MS\", \"expt\": \"[1,2-13C]glycerolandCO2\", \"id\": \"Valine288_0_0_[1,2-13C]glycerolandCO2\", \"peak\": \"M3\", \"time\": 0.0, \"data\": 0.31503150315031503, \"std\": 0.029202920292029203, \"fit\": 0.2984455496046704, \"weighted residual\": -0.5679553065167829, \"cont\": null, \"Theoretical normal quantile\": -0.45701484004693216}, {\"type\": \"MS\", \"expt\": \"[1,2-13C]glycerolandCO2\", \"id\": \"Glutamicacid432_0_0_[1,2-13C]glycerolandCO2\", \"peak\": \"M5\", \"time\": 0.0, \"data\": 0.0196, \"std\": 0.0011, \"fit\": 0.01901461155443178, \"weighted residual\": -0.5321713141529276, \"cont\": null, \"Theoretical normal quantile\": -0.4332300120661232}, {\"type\": \"MS\", \"expt\": \"[1,2-13C]glycerolandCO2\", \"id\": \"Phenylalanine336_0_0_[1,2-13C]glycerolandCO2\", \"peak\": \"M4\", \"time\": 0.0, \"data\": 0.24592459245924594, \"std\": 0.012001200120012, \"fit\": 0.23963177315293413, \"weighted residual\": -0.524349168698432, \"cont\": null, \"Theoretical normal quantile\": -0.4096878061559592}, {\"type\": \"MS\", \"expt\": \"[1,2-13C]glycerolandCO2\", \"id\": \"Histidine440_0_0_[1,2-13C]glycerolandCO2\", \"peak\": \"M4\", \"time\": 0.0, \"data\": 0.1752175217521752, \"std\": 0.03330333033303331, \"fit\": 0.15796630926139849, \"weighted residual\": -0.5180026237095385, \"cont\": null, \"Theoretical normal quantile\": -0.3863705269409089}, {\"type\": \"MS\", \"expt\": \"[1,2-13C]glycerolandCO2\", \"id\": \"Valine260_0_0_[1,2-13C]glycerolandCO2\", \"peak\": \"M0\", \"time\": 0.0, \"data\": 0.06801360272054412, \"std\": 0.014102820564112823, \"fit\": 0.06087420797420169, \"weighted residual\": -0.5062387849215005, \"cont\": null, \"Theoretical normal quantile\": -0.36326146920065067}, {\"type\": \"MS\", \"expt\": \"[1,2-13C]glycerolandCO2\", \"id\": \"Histidine440_0_0_[1,2-13C]glycerolandCO2\", \"peak\": \"M6\", \"time\": 0.0, \"data\": 0.0027002700270027003, \"std\": 0.0032003200320032004, \"fit\": 0.0010802793269638054, \"weighted residual\": -0.5061964690527784, \"cont\": null, \"Theoretical normal quantile\": -0.34034481489306373}, {\"type\": \"MS\", \"expt\": \"[1,2-13C]glycerolandCO2\", \"id\": \"Phenylalanine302_0_0_[1,2-13C]glycerolandCO2\", \"peak\": \"M0\", \"time\": 0.0, \"data\": 0.29432943294329433, \"std\": 0.033803380338033796, \"fit\": 0.28000972271959235, \"weighted residual\": -0.4236176997834207, \"cont\": null, \"Theoretical normal quantile\": -0.3176055410179511}, {\"type\": \"MS\", \"expt\": \"[1,2-13C]glycerolandCO2\", \"id\": \"Isoleucine274_0_0_[1,2-13C]glycerolandCO2\", \"peak\": \"M4\", \"time\": 0.0, \"data\": 0.1426142614261426, \"std\": 0.0239023902390239, \"fit\": 0.13276650210987795, \"weighted residual\": -0.4119989347419682, \"cont\": null, \"Theoretical normal quantile\": -0.29502933681626586}, {\"type\": \"MS\", \"expt\": \"[1,2-13C]glycerolandCO2\", \"id\": \"Alanine260_0_0_[1,2-13C]glycerolandCO2\", \"peak\": \"M1\", \"time\": 0.0, \"data\": 0.3592, \"std\": 0.0214, \"fit\": 0.35277241704995166, \"weighted residual\": -0.3003543434602038, \"cont\": null, \"Theoretical normal quantile\": -0.27260252902312426}, {\"type\": \"MS\", \"expt\": \"[1,2-13C]glycerolandCO2\", \"id\": \"Phenylalanine308_0_0_[1,2-13C]glycerolandCO2\", \"peak\": \"M4\", \"time\": 0.0, \"data\": 0.2584775432629789, \"std\": 0.00850255076522957, \"fit\": 0.2559279085189106, \"weighted residual\": -0.2998670416053004, \"cont\": null, \"Theoretical normal quantile\": -0.25031201407758447}, {\"type\": \"MS\", \"expt\": \"[1,2-13C]glycerolandCO2\", \"id\": \"Phenylalanine308_0_0_[1,2-13C]glycerolandCO2\", \"peak\": \"M5\", \"time\": 0.0, \"data\": 0.21216364909472843, \"std\": 0.030309092727818347, \"fit\": 0.20387116780729608, \"weighted residual\": -0.27359714663518536, \"cont\": null, \"Theoretical normal quantile\": -0.22814519634526773}, {\"type\": \"MS\", \"expt\": \"[1,2-13C]glycerolandCO2\", \"id\": \"Glutamicacid330_0_0_[1,2-13C]glycerolandCO2\", \"peak\": \"M2\", \"time\": 0.0, \"data\": 0.34113411341134114, \"std\": 0.0046004600460046, \"fit\": 0.33988522637866375, \"weighted residual\": -0.2714700312987228, \"cont\": null, \"Theoretical normal quantile\": -0.2060899315371516}, {\"type\": \"MS\", \"expt\": \"[1,2-13C]glycerolandCO2\", \"id\": \"Asparticacid390_0_0_[1,2-13C]glycerolandCO2\", \"peak\": \"M2\", \"time\": 0.0, \"data\": 0.3582, \"std\": 0.0218, \"fit\": 0.3524523585705504, \"weighted residual\": -0.26365327658025745, \"cont\": null, \"Theoretical normal quantile\": -0.18413447461384053}, {\"type\": \"MS\", \"expt\": \"[1,2-13C]glycerolandCO2\", \"id\": \"Isoleucine274_0_0_[1,2-13C]glycerolandCO2\", \"peak\": \"M1\", \"time\": 0.0, \"data\": 0.1669166916691669, \"std\": 0.0247024702470247, \"fit\": 0.16191386341324657, \"weighted residual\": -0.20252339972043465, \"cont\": null, \"Theoretical normal quantile\": -0.16226743155296977}, {\"type\": \"MS\", \"expt\": \"[1,2-13C]glycerolandCO2\", \"id\": \"Phenylalanine336_0_0_[1,2-13C]glycerolandCO2\", \"peak\": \"M5\", \"time\": 0.0, \"data\": 0.21682168216821684, \"std\": 0.028202820282028206, \"fit\": 0.2114237819030709, \"weighted residual\": -0.19139576152905777, \"cont\": null, \"Theoretical normal quantile\": -0.14047771443106408}, {\"type\": \"MS\", \"expt\": \"[1,2-13C]glycerolandCO2\", \"id\": \"Asparticacid302_0_0_[1,2-13C]glycerolandCO2\", \"peak\": \"M1\", \"time\": 0.0, \"data\": 0.5093, \"std\": 0.013099999999999999, \"fit\": 0.5069024883962823, \"weighted residual\": -0.18301615295555007, \"cont\": null, \"Theoretical normal quantile\": -0.11875449933250096}, {\"type\": \"MS\", \"expt\": \"[1,2-13C]glycerolandCO2\", \"id\": \"Threonine376_0_0_[1,2-13C]glycerolandCO2\", \"peak\": \"M1\", \"time\": 0.0, \"data\": 0.3937393739373938, \"std\": 0.0144014401440144, \"fit\": 0.39147955939775086, \"weighted residual\": -0.15691587209645474, \"cont\": null, \"Theoretical normal quantile\": -0.09708718664912236}, {\"type\": \"MS\", \"expt\": \"[1,2-13C]glycerolandCO2\", \"id\": \"Phenylalanine336_0_0_[1,2-13C]glycerolandCO2\", \"peak\": \"M9\", \"time\": 0.0, \"data\": 0.00020002000200020005, \"std\": 0.0010001000100010003, \"fit\": 9.314958541714712e-05, \"weighted residual\": -0.10685972954139461, \"cont\": null, \"Theoretical normal quantile\": -0.07546536337601599}, {\"type\": \"MS\", \"expt\": \"[1,2-13C]glycerolandCO2\", \"id\": \"Threonine376_0_0_[1,2-13C]glycerolandCO2\", \"peak\": \"M2\", \"time\": 0.0, \"data\": 0.35303530353035306, \"std\": 0.028702870287028708, \"fit\": 0.3513565972370024, \"weighted residual\": -0.05848565932826885, \"cont\": null, \"Theoretical normal quantile\": -0.053878767043279055}, {\"type\": \"MS\", \"expt\": \"[1,2-13C]glycerolandCO2\", \"id\": \"Methionine320_0_0_[1,2-13C]glycerolandCO2\", \"peak\": \"M1\", \"time\": 0.0, \"data\": 0.25220000000000004, \"std\": 0.025900000000000003, \"fit\": 0.2509629922607061, \"weighted residual\": -0.04776091657505467, \"cont\": null, \"Theoretical normal quantile\": -0.032317250951138826}, {\"type\": \"MS\", \"expt\": \"[1,2-13C]glycerolandCO2\", \"id\": \"Leucine274_0_0_[1,2-13C]glycerolandCO2\", \"peak\": \"M3\", \"time\": 0.0, \"data\": 0.3132, \"std\": 0.014299999999999998, \"fit\": 0.3126497964056435, \"weighted residual\": -0.03847577582912447, \"cont\": null, \"Theoretical normal quantile\": -0.010770750397419324}, {\"type\": \"MS\", \"expt\": \"[1,2-13C]glycerolandCO2\", \"id\": \"Alanine260_0_0_[1,2-13C]glycerolandCO2\", \"peak\": \"M0\", \"time\": 0.0, \"data\": 0.1996, \"std\": 0.0337, \"fit\": 0.1983930665196512, \"weighted residual\": -0.03581404986198248, \"cont\": null, \"Theoretical normal quantile\": 0.010770750397419463}, {\"type\": \"MS\", \"expt\": \"[1,2-13C]glycerolandCO2\", \"id\": \"Histidine440_0_0_[1,2-13C]glycerolandCO2\", \"peak\": \"M3\", \"time\": 0.0, \"data\": 0.28822882288228824, \"std\": 0.0203020302030203, \"fit\": 0.28803936485929094, \"weighted residual\": -0.009331974246059225, \"cont\": null, \"Theoretical normal quantile\": 0.032317250951138826}, {\"type\": \"MS\", \"expt\": \"[1,2-13C]glycerolandCO2\", \"id\": \"Leucine274_0_0_[1,2-13C]glycerolandCO2\", \"peak\": \"M1\", \"time\": 0.0, \"data\": 0.1282, \"std\": 0.0227, \"fit\": 0.1281897893076037, \"weighted residual\": -0.0004498102377232354, \"cont\": null, \"Theoretical normal quantile\": 0.053878767043279194}, {\"type\": \"Flux\", \"expt\": \"[1,2-13C]glycerolandCO2\", \"id\": \"ex_2\", \"peak\": [], \"time\": null, \"data\": 1.0, \"std\": 0.01, \"fit\": 0.9999987825847096, \"weighted residual\": -0.00012174152903554614, \"cont\": null, \"Theoretical normal quantile\": 0.07546536337601599}, {\"type\": \"MS\", \"expt\": \"[1,2-13C]glycerolandCO2\", \"id\": \"Phenylalanine308_0_0_[1,2-13C]glycerolandCO2\", \"peak\": \"M6\", \"time\": 0.0, \"data\": 0.10383114934480345, \"std\": 0.024207262178653596, \"fit\": 0.10425993825828239, \"weighted residual\": 0.017713234578714918, \"cont\": null, \"Theoretical normal quantile\": 0.09708718664912222}, {\"type\": \"MS\", \"expt\": \"[1,2-13C]glycerolandCO2\", \"id\": \"Phenylalanine336_0_0_[1,2-13C]glycerolandCO2\", \"peak\": \"M1\", \"time\": 0.0, \"data\": 0.04800480048004801, \"std\": 0.013001300130013002, \"fit\": 0.048755919728022824, \"weighted residual\": 0.057772625850001404, \"cont\": null, \"Theoretical normal quantile\": 0.1187544993325011}, {\"type\": \"MS\", \"expt\": \"[1,2-13C]glycerolandCO2\", \"id\": \"Methionine320_0_0_[1,2-13C]glycerolandCO2\", \"peak\": \"M4\", \"time\": 0.0, \"data\": 0.06340000000000001, \"std\": 0.014700000000000001, \"fit\": 0.06437617601858817, \"weighted residual\": 0.06640653187674517, \"cont\": null, \"Theoretical normal quantile\": 0.14047771443106435}, {\"type\": \"MS\", \"expt\": \"[1,2-13C]glycerolandCO2\", \"id\": \"Asparticacid390_0_0_[1,2-13C]glycerolandCO2\", \"peak\": \"M1\", \"time\": 0.0, \"data\": 0.3921, \"std\": 0.0086, \"fit\": 0.3927004505591402, \"weighted residual\": 0.06981983245816381, \"cont\": null, \"Theoretical normal quantile\": 0.1622674315529699}, {\"type\": \"MS\", \"expt\": \"[1,2-13C]glycerolandCO2\", \"id\": \"Histidine338_0_0_[1,2-13C]glycerolandCO2\", \"peak\": \"M1\", \"time\": 0.0, \"data\": 0.2241, \"std\": 0.0347, \"fit\": 0.2280125007466221, \"weighted residual\": 0.11275218289977264, \"cont\": null, \"Theoretical normal quantile\": 0.1841344746138408}, {\"type\": \"MS\", \"expt\": \"[1,2-13C]glycerolandCO2\", \"id\": \"Histidine440_0_0_[1,2-13C]glycerolandCO2\", \"peak\": \"M2\", \"time\": 0.0, \"data\": 0.2636263626362636, \"std\": 0.0223022302230223, \"fit\": 0.2665552674317762, \"weighted residual\": 0.1313278881180744, \"cont\": null, \"Theoretical normal quantile\": 0.20608993153715174}, {\"type\": \"MS\", \"expt\": \"[1,2-13C]glycerolandCO2\", \"id\": \"Isoleucine274_0_0_[1,2-13C]glycerolandCO2\", \"peak\": \"M3\", \"time\": 0.0, \"data\": 0.3023302330233023, \"std\": 0.0226022602260226, \"fit\": 0.3054665008772919, \"weighted residual\": 0.13875903660195457, \"cont\": null, \"Theoretical normal quantile\": 0.22814519634526773}, {\"type\": \"MS\", \"expt\": \"[1,2-13C]glycerolandCO2\", \"id\": \"Valine260_0_0_[1,2-13C]glycerolandCO2\", \"peak\": \"M2\", \"time\": 0.0, \"data\": 0.33526705341068214, \"std\": 0.005001000200040008, \"fit\": 0.3359954579312217, \"weighted residual\": 0.14565176792709275, \"cont\": null, \"Theoretical normal quantile\": 0.25031201407758474}, {\"type\": \"MS\", \"expt\": \"[1,2-13C]glycerolandCO2\", \"id\": \"Isoleucine274_0_0_[1,2-13C]glycerolandCO2\", \"peak\": \"M5\", \"time\": 0.0, \"data\": 0.0194019401940194, \"std\": 0.0052005200520052, \"fit\": 0.020176327804729235, \"weighted residual\": 0.1489058022978392, \"cont\": null, \"Theoretical normal quantile\": 0.2726025290231244}, {\"type\": \"MS\", \"expt\": \"[1,2-13C]glycerolandCO2\", \"id\": \"Phenylalanine336_0_0_[1,2-13C]glycerolandCO2\", \"peak\": \"M3\", \"time\": 0.0, \"data\": 0.19651965196519655, \"std\": 0.024402440244024406, \"fit\": 0.20168979722497646, \"weighted residual\": 0.2118700100513905, \"cont\": null, \"Theoretical normal quantile\": 0.29502933681626614}, {\"type\": \"MS\", \"expt\": \"[1,2-13C]glycerolandCO2\", \"id\": \"Phenylalanine336_0_0_[1,2-13C]glycerolandCO2\", \"peak\": \"M6\", \"time\": 0.0, \"data\": 0.12021202120212023, \"std\": 0.030703070307030712, \"fit\": 0.12678551652887862, \"weighted residual\": 0.21409895691288985, \"cont\": null, \"Theoretical normal quantile\": 0.31760554101795124}, {\"type\": \"MS\", \"expt\": \"[1,2-13C]glycerolandCO2\", \"id\": \"Phenylalanine308_0_0_[1,2-13C]glycerolandCO2\", \"peak\": \"M1\", \"time\": 0.0, \"data\": 0.049114734420326094, \"std\": 0.013003901170351105, \"fit\": 0.052536415122731044, \"weighted residual\": 0.2631272460149407, \"cont\": null, \"Theoretical normal quantile\": 0.34034481489306373}, {\"type\": \"MS\", \"expt\": \"[1,2-13C]glycerolandCO2\", \"id\": \"Serine362_0_0_[1,2-13C]glycerolandCO2\", \"peak\": \"M1\", \"time\": 0.0, \"data\": 0.46644664466446645, \"std\": 0.009100910091009102, \"fit\": 0.468988883137162, \"weighted residual\": 0.2793389284448692, \"cont\": null, \"Theoretical normal quantile\": 0.36326146920065094}, {\"type\": \"MS\", \"expt\": \"[1,2-13C]glycerolandCO2\", \"id\": \"Isoleucine274_0_0_[1,2-13C]glycerolandCO2\", \"peak\": \"M2\", \"time\": 0.0, \"data\": 0.3057305730573057, \"std\": 0.014101410141014101, \"fit\": 0.3106319555700556, \"weighted residual\": 0.3475810194679842, \"cont\": null, \"Theoretical normal quantile\": 0.386370526940909}, {\"type\": \"MS\", \"expt\": \"[1,2-13C]glycerolandCO2\", \"id\": \"Phenylalanine336_0_0_[1,2-13C]glycerolandCO2\", \"peak\": \"M2\", \"time\": 0.0, \"data\": 0.11331133113311333, \"std\": 0.023302330233023305, \"fit\": 0.12228438524236417, \"weighted residual\": 0.3850711074609405, \"cont\": null, \"Theoretical normal quantile\": 0.40968780615595946}, {\"type\": \"MS\", \"expt\": \"[1,2-13C]glycerolandCO2\", \"id\": \"Valine288_0_0_[1,2-13C]glycerolandCO2\", \"peak\": \"M1\", \"time\": 0.0, \"data\": 0.16201620162016203, \"std\": 0.0281028102810281, \"fit\": 0.174365552637476, \"weighted residual\": 0.43943473602178773, \"cont\": null, \"Theoretical normal quantile\": 0.4332300120661233}, {\"type\": \"MS\", \"expt\": \"[1,2-13C]glycerolandCO2\", \"id\": \"Alanine260_0_0_[1,2-13C]glycerolandCO2\", \"peak\": \"M3\", \"time\": 0.0, \"data\": 0.0238, \"std\": 0.012400000000000001, \"fit\": 0.029508326696581537, \"weighted residual\": 0.46034892714367215, \"cont\": null, \"Theoretical normal quantile\": 0.45701484004693216}, {\"type\": \"MS\", \"expt\": \"[1,2-13C]glycerolandCO2\", \"id\": \"Alanine232_0_0_[1,2-13C]glycerolandCO2\", \"peak\": \"M0\", \"time\": 0.0, \"data\": 0.2128212821282128, \"std\": 0.034103410341034104, \"fit\": 0.2289761373869551, \"weighted residual\": 0.4737020461353791, \"cont\": null, \"Theoretical normal quantile\": 0.4810610912236144}, {\"type\": \"MS\", \"expt\": \"[1,2-13C]glycerolandCO2\", \"id\": \"Alanine260_0_0_[1,2-13C]glycerolandCO2\", \"peak\": \"M2\", \"time\": 0.0, \"data\": 0.4174, \"std\": 0.0544, \"fit\": 0.44447599346406363, \"weighted residual\": 0.4977204680894052, \"cont\": null, \"Theoretical normal quantile\": 0.5053888027910048}, {\"type\": \"MS\", \"expt\": \"[1,2-13C]glycerolandCO2\", \"id\": \"Asparticacid418_0_0_[1,2-13C]glycerolandCO2\", \"peak\": \"M4\", \"time\": 0.0, \"data\": 0.0286028602860286, \"std\": 0.0075007500750075, \"fit\": 0.0323445048103833, \"weighted residual\": 0.4988360479869683, \"cont\": null, \"Theoretical normal quantile\": 0.5300193955726836}, {\"type\": \"MS\", \"expt\": \"[1,2-13C]glycerolandCO2\", \"id\": \"Asparticacid418_0_0_[1,2-13C]glycerolandCO2\", \"peak\": \"M2\", \"time\": 0.0, \"data\": 0.3703370337033703, \"std\": 0.025702570257025704, \"fit\": 0.38378805720813225, \"weighted residual\": 0.5233337899771006, \"cont\": null, \"Theoretical normal quantile\": 0.5549758418329609}, {\"type\": \"MS\", \"expt\": \"[1,2-13C]glycerolandCO2\", \"id\": \"Methionine320_0_0_[1,2-13C]glycerolandCO2\", \"peak\": \"M3\", \"time\": 0.0, \"data\": 0.21370000000000003, \"std\": 0.030600000000000002, \"fit\": 0.23136312897958905, \"weighted residual\": 0.5772264372414713, \"cont\": null, \"Theoretical normal quantile\": 0.5802828569741884}, {\"type\": \"MS\", \"expt\": \"[1,2-13C]glycerolandCO2\", \"id\": \"Phenylalanine308_0_0_[1,2-13C]glycerolandCO2\", \"peak\": \"M3\", \"time\": 0.0, \"data\": 0.2083625087526258, \"std\": 0.02370711213364009, \"fit\": 0.22436966356273605, \"weighted residual\": 0.6752047537412329, \"cont\": null, \"Theoretical normal quantile\": 0.6059671195224879}, {\"type\": \"MS\", \"expt\": \"[1,2-13C]glycerolandCO2\", \"id\": \"Phenylalanine308_0_0_[1,2-13C]glycerolandCO2\", \"peak\": \"M2\", \"time\": 0.0, \"data\": 0.11843553065919776, \"std\": 0.0245073522056617, \"fit\": 0.13578824025780364, \"weighted residual\": 0.7080613790092367, \"cont\": null, \"Theoretical normal quantile\": 0.6320575247705349}, {\"type\": \"MS\", \"expt\": \"[1,2-13C]glycerolandCO2\", \"id\": \"Phenylalanine308_0_0_[1,2-13C]glycerolandCO2\", \"peak\": \"M7\", \"time\": 0.0, \"data\": 0.02130639191757527, \"std\": 0.006601980594178254, \"fit\": 0.026284551757511772, \"weighted residual\": 0.7540403624218971, \"cont\": null, \"Theoretical normal quantile\": 0.6585854786637262}, {\"type\": \"MS\", \"expt\": \"[1,2-13C]glycerolandCO2\", \"id\": \"Serine390_0_0_[1,2-13C]glycerolandCO2\", \"peak\": \"M0\", \"time\": 0.0, \"data\": 0.20442044204420443, \"std\": 0.030103010301030096, \"fit\": 0.22888737907215512, \"weighted residual\": 0.8127737652574054, \"cont\": null, \"Theoretical normal quantile\": 0.685585240062532}, {\"type\": \"MS\", \"expt\": \"[1,2-13C]glycerolandCO2\", \"id\": \"Glycine246_0_0_[1,2-13C]glycerolandCO2\", \"peak\": \"M0\", \"time\": 0.0, \"data\": 0.30193019301930196, \"std\": 0.032203220322032204, \"fit\": 0.32953559349132966, \"weighted residual\": 0.8572248426080898, \"cont\": null, \"Theoretical normal quantile\": 0.7130943214925729}, {\"type\": \"MS\", \"expt\": \"[1,2-13C]glycerolandCO2\", \"id\": \"Glutamicacid432_0_0_[1,2-13C]glycerolandCO2\", \"peak\": \"M1\", \"time\": 0.0, \"data\": 0.1618, \"std\": 0.030200000000000005, \"fit\": 0.19012287880987466, \"weighted residual\": 0.9378436692011476, \"cont\": null, \"Theoretical normal quantile\": 0.7411539610460138}, {\"type\": \"MS\", \"expt\": \"[1,2-13C]glycerolandCO2\", \"id\": \"Histidine338_0_0_[1,2-13C]glycerolandCO2\", \"peak\": \"M3\", \"time\": 0.0, \"data\": 0.2613, \"std\": 0.042, \"fit\": 0.3010853776625467, \"weighted residual\": 0.9472708967273035, \"cont\": null, \"Theoretical normal quantile\": 0.7698096814175579}, {\"type\": \"MS\", \"expt\": \"[1,2-13C]glycerolandCO2\", \"id\": \"Alanine232_0_0_[1,2-13C]glycerolandCO2\", \"peak\": \"M1\", \"time\": 0.0, \"data\": 0.4596459645964596, \"std\": 0.010301030103010301, \"fit\": 0.46952021261414306, \"weighted residual\": 0.9585689896001623, \"cont\": null, \"Theoretical normal quantile\": 0.799111956416125}, {\"type\": \"MS\", \"expt\": \"[1,2-13C]glycerolandCO2\", \"id\": \"Phenylalanine336_0_0_[1,2-13C]glycerolandCO2\", \"peak\": \"M7\", \"time\": 0.0, \"data\": 0.03070307030703071, \"std\": 0.009900990099009903, \"fit\": 0.04029211177354388, \"weighted residual\": 0.9684931881178301, \"cont\": null, \"Theoretical normal quantile\": 0.8291170110702134}, {\"type\": \"MS\", \"expt\": \"[1,2-13C]glycerolandCO2\", \"id\": \"Serine390_0_0_[1,2-13C]glycerolandCO2\", \"peak\": \"M2\", \"time\": 0.0, \"data\": 0.38133813381338133, \"std\": 0.035903590359035904, \"fit\": 0.41691267104888, \"weighted residual\": 0.9908350914143493, \"cont\": null, \"Theoretical normal quantile\": 0.8598877891843343}, {\"type\": \"MS\", \"expt\": \"[1,2-13C]glycerolandCO2\", \"id\": \"Phenylalanine308_0_0_[1,2-13C]glycerolandCO2\", \"peak\": \"M8\", \"time\": 0.0, \"data\": 0.00040012003601080324, \"std\": 0.0010003000900270082, \"fit\": 0.001394889143128579, \"weighted residual\": 0.9944706763856404, \"cont\": null, \"Theoretical normal quantile\": 0.8914951326910941}, {\"type\": \"MS\", \"expt\": \"[1,2-13C]glycerolandCO2\", \"id\": \"Glutamicacid432_0_0_[1,2-13C]glycerolandCO2\", \"peak\": \"M2\", \"time\": 0.0, \"data\": 0.3047, \"std\": 0.0222, \"fit\": 0.32729153395466126, \"weighted residual\": 1.01763666462438, \"cont\": null, \"Theoretical normal quantile\": 0.9240192315302219}, {\"type\": \"MS\", \"expt\": \"[1,2-13C]glycerolandCO2\", \"id\": \"Leucine274_0_0_[1,2-13C]glycerolandCO2\", \"peak\": \"M2\", \"time\": 0.0, \"data\": 0.2652, \"std\": 0.0169, \"fit\": 0.28252888024880485, \"weighted residual\": 1.0253775295150804, \"cont\": null, \"Theoretical normal quantile\": 0.9575514227876386}, {\"type\": \"MS\", \"expt\": \"[1,2-13C]glycerolandCO2\", \"id\": \"Valine288_0_0_[1,2-13C]glycerolandCO2\", \"peak\": \"M2\", \"time\": 0.0, \"data\": 0.2968296829682968, \"std\": 0.018201820182018203, \"fit\": 0.31633592916140124, \"weighted residual\": 1.0716645916750063, \"cont\": null, \"Theoretical normal quantile\": 0.9921964460441467}, {\"type\": \"MS\", \"expt\": \"[1,2-13C]glycerolandCO2\", \"id\": \"Histidine440_0_0_[1,2-13C]glycerolandCO2\", \"peak\": \"M1\", \"time\": 0.0, \"data\": 0.15951595159515952, \"std\": 0.0277027702770277, \"fit\": 0.189471533228238, \"weighted residual\": 1.0813207969283458, \"cont\": null, \"Theoretical normal quantile\": 1.0280753023272695}, {\"type\": \"MS\", \"expt\": \"[1,2-13C]glycerolandCO2\", \"id\": \"Serine390_0_0_[1,2-13C]glycerolandCO2\", \"peak\": \"M3\", \"time\": 0.0, \"data\": 0.018001800180018, \"std\": 0.0016001600160016002, \"fit\": 0.019808146801623794, \"weighted residual\": 1.1288537418397715, \"cont\": null, \"Theoretical normal quantile\": 1.065328923052969}, {\"type\": \"MS\", \"expt\": \"[1,2-13C]glycerolandCO2\", \"id\": \"Methionine320_0_0_[1,2-13C]glycerolandCO2\", \"peak\": \"M2\", \"time\": 0.0, \"data\": 0.34580000000000005, \"std\": 0.014700000000000001, \"fit\": 0.36281077002365253, \"weighted residual\": 1.15719523970425, \"cont\": null, \"Theoretical normal quantile\": 1.1041229430715278}, {\"type\": \"MS\", \"expt\": \"[1,2-13C]glycerolandCO2\", \"id\": \"Serine362_0_0_[1,2-13C]glycerolandCO2\", \"peak\": \"M0\", \"time\": 0.0, \"data\": 0.20832083208320834, \"std\": 0.0329032903290329, \"fit\": 0.2520869001242422, \"weighted residual\": 1.3301425967850984, \"cont\": null, \"Theoretical normal quantile\": 1.1446540052143719}, {\"type\": \"MS\", \"expt\": \"[1,2-13C]glycerolandCO2\", \"id\": \"Asparticacid390_0_0_[1,2-13C]glycerolandCO2\", \"peak\": \"M3\", \"time\": 0.0, \"data\": 0.0539, \"std\": 0.0185, \"fit\": 0.07900645056872324, \"weighted residual\": 1.3571054361472021, \"cont\": null, \"Theoretical normal quantile\": 1.1871582311318414}, {\"type\": \"MS\", \"expt\": \"[1,2-13C]glycerolandCO2\", \"id\": \"Histidine338_0_0_[1,2-13C]glycerolandCO2\", \"peak\": \"M4\", \"time\": 0.0, \"data\": 0.1017, \"std\": 0.02, \"fit\": 0.12958248740771444, \"weighted residual\": 1.394124370385722, \"cont\": null, \"Theoretical normal quantile\": 1.2319228247126741}, {\"type\": \"MS\", \"expt\": \"[1,2-13C]glycerolandCO2\", \"id\": \"Glutamicacid330_0_0_[1,2-13C]glycerolandCO2\", \"peak\": \"M0\", \"time\": 0.0, \"data\": 0.0769076907690769, \"std\": 0.014901490149014901, \"fit\": 0.09824922875354633, \"weighted residual\": 1.4321747537363076, \"cont\": null, \"Theoretical normal quantile\": 1.2793023206210048}, {\"type\": \"MS\", \"expt\": \"[1,2-13C]glycerolandCO2\", \"id\": \"Valine260_0_0_[1,2-13C]glycerolandCO2\", \"peak\": \"M1\", \"time\": 0.0, \"data\": 0.18243648729745948, \"std\": 0.026405281056211243, \"fit\": 0.22050287889509826, \"weighted residual\": 1.4416203908833047, \"cont\": null, \"Theoretical normal quantile\": 1.3297419224200187}, {\"type\": \"MS\", \"expt\": \"[1,2-13C]glycerolandCO2\", \"id\": \"Threonine376_0_0_[1,2-13C]glycerolandCO2\", \"peak\": \"M3\", \"time\": 0.0, \"data\": 0.05760576057605761, \"std\": 0.013701370137013703, \"fit\": 0.07876082243905147, \"weighted residual\": 1.5440106829786537, \"cont\": null, \"Theoretical normal quantile\": 1.3838120297727452}, {\"type\": \"MS\", \"expt\": \"[1,2-13C]glycerolandCO2\", \"id\": \"Threonine404_0_0_[1,2-13C]glycerolandCO2\", \"peak\": \"M4\", \"time\": 0.0, \"data\": 0.02500500100020004, \"std\": 0.0010002000400080016, \"fit\": 0.026962693795274037, \"weighted residual\": 1.9573012565149819, \"cont\": null, \"Theoretical normal quantile\": 1.4422611343813714}, {\"type\": \"MS\", \"expt\": \"[1,2-13C]glycerolandCO2\", \"id\": \"Phenylalanine336_0_0_[1,2-13C]glycerolandCO2\", \"peak\": \"M8\", \"time\": 0.0, \"data\": 0.0015001500150015003, \"std\": 0.0010001000100010003, \"fit\": 0.0035977496789444904, \"weighted residual\": 2.0973899039765955, \"cont\": null, \"Theoretical normal quantile\": 1.506100324305086}, {\"type\": \"MS\", \"expt\": \"[1,2-13C]glycerolandCO2\", \"id\": \"Asparticacid302_0_0_[1,2-13C]glycerolandCO2\", \"peak\": \"M2\", \"time\": 0.0, \"data\": 0.1357, \"std\": 0.030699999999999998, \"fit\": 0.20021169305140019, \"weighted residual\": 2.1013580798501694, \"cont\": null, \"Theoretical normal quantile\": 1.576745385409771}, {\"type\": \"MS\", \"expt\": \"[1,2-13C]glycerolandCO2\", \"id\": \"Threonine404_0_0_[1,2-13C]glycerolandCO2\", \"peak\": \"M3\", \"time\": 0.0, \"data\": 0.11132226445289058, \"std\": 0.023604720944188837, \"fit\": 0.16280201437928163, \"weighted residual\": 2.180909066796855, \"cont\": null, \"Theoretical normal quantile\": 1.6562716241576816}, {\"type\": \"MS\", \"expt\": \"[1,2-13C]glycerolandCO2\", \"id\": \"Asparticacid418_0_0_[1,2-13C]glycerolandCO2\", \"peak\": \"M3\", \"time\": 0.0, \"data\": 0.1034103410341034, \"std\": 0.0311031103110311, \"fit\": 0.19529764263219632, \"weighted residual\": 2.9542801565251806, \"cont\": null, \"Theoretical normal quantile\": 1.747910504370965}, {\"type\": \"MS\", \"expt\": \"[1,2-13C]glycerolandCO2\", \"id\": \"Glutamicacid330_0_0_[1,2-13C]glycerolandCO2\", \"peak\": \"M1\", \"time\": 0.0, \"data\": 0.2009200920092009, \"std\": 0.0203020302030203, \"fit\": 0.28445270312187704, \"weighted residual\": 4.11449546066822, \"cont\": null, \"Theoretical normal quantile\": 1.8571330507856412}, {\"type\": \"MS\", \"expt\": \"[1,2-13C]glycerolandCO2\", \"id\": \"Phenylalanine302_0_0_[1,2-13C]glycerolandCO2\", \"peak\": \"M2\", \"time\": 0.0, \"data\": 0.0965096509650965, \"std\": 0.0242024202420242, \"fit\": 0.20808415734616814, \"weighted residual\": 4.610055740927005, \"cont\": null, \"Theoretical normal quantile\": 1.9944314128880665}, {\"type\": \"MS\", \"expt\": \"[1,2-13C]glycerolandCO2\", \"id\": \"Glycine246_0_0_[1,2-13C]glycerolandCO2\", \"peak\": \"M2\", \"time\": 0.0, \"data\": 0.0778077807780778, \"std\": 0.026302630263026306, \"fit\": 0.2060245286057284, \"weighted residual\": 4.874673998207901, \"cont\": null, \"Theoretical normal quantile\": 2.1846076046618275}, {\"type\": \"MS\", \"expt\": \"[1,2-13C]glycerolandCO2\", \"id\": \"Glycine218_0_0_[1,2-13C]glycerolandCO2\", \"peak\": \"M0\", \"time\": 0.0, \"data\": 0.3111, \"std\": 0.0365, \"fit\": 0.5298467374121651, \"weighted residual\": 5.993061298963429, \"cont\": null, \"Theoretical normal quantile\": 2.514646492705493}], \"data-7881272ba4b0b9432fdf6fa03ca64722\": [{\"x\": -2.514646492705493, \"y\": -5.135448380939859}, {\"x\": -1.9558361609931612, \"y\": -4.0512192204203386}, {\"x\": -1.3970258292808293, \"y\": -2.966990059900818}, {\"x\": -0.8382154975684974, \"y\": -1.8827608993812976}, {\"x\": -0.2794051658561658, \"y\": -0.7985317388617776}, {\"x\": 0.2794051658561658, \"y\": 0.28569742165774237}, {\"x\": 0.8382154975684979, \"y\": 1.3699265821772633}, {\"x\": 1.3970258292808295, \"y\": 2.4541557426967833}, {\"x\": 1.9558361609931612, \"y\": 3.5383849032163033}, {\"x\": 2.514646492705493, \"y\": 4.622614063735823}]}}, {\"mode\": \"vega-lite\"});\n",
       "</script>"
      ],
      "text/plain": [
       "alt.LayerChart(...)"
      ]
     },
     "execution_count": 36,
     "metadata": {},
     "output_type": "execute_result"
    }
   ],
   "source": [
    "import BFAIR.mfa.visualization.diagnositics as diagnostics\n",
    "\n",
    "diagnostics.plot_norm_probplot(res, interactive=True)"
   ]
  },
  {
   "cell_type": "code",
   "execution_count": 27,
   "metadata": {},
   "outputs": [
    {
     "ename": "AttributeError",
     "evalue": "'INCA_results' object has no attribute 'measurements_and_fit_detailed'",
     "output_type": "error",
     "traceback": [
      "\u001b[0;31m---------------------------------------------------------------------------\u001b[0m",
      "\u001b[0;31mAttributeError\u001b[0m                            Traceback (most recent call last)",
      "Cell \u001b[0;32mIn[27], line 1\u001b[0m\n\u001b[0;32m----> 1\u001b[0m res\u001b[39m.\u001b[39;49mmeasurements_and_fit_detailed[\u001b[39m'\u001b[39m\u001b[39mweighted residual\u001b[39m\u001b[39m'\u001b[39m]\u001b[39m.\u001b[39mtransform(\u001b[39mlambda\u001b[39;00m x: x\u001b[39m*\u001b[39m\u001b[39m*\u001b[39m\u001b[39m2\u001b[39m)\u001b[39m.\u001b[39msum()\n",
      "\u001b[0;31mAttributeError\u001b[0m: 'INCA_results' object has no attribute 'measurements_and_fit_detailed'"
     ]
    }
   ],
   "source": [
    "res.measurements_and_fit_detailed['weighted residual'].transform(lambda x: x**2).sum()"
   ]
  },
  {
   "cell_type": "code",
   "execution_count": null,
   "metadata": {},
   "outputs": [
    {
     "name": "stdout",
     "output_type": "stream",
     "text": [
      "0     FRU.ext -> F6P\n",
      "1     GLY.ext -> GLY\n",
      "2        GLY -> DHAP\n",
      "3         3PG -> G3P\n",
      "4         3PG -> PEP\n",
      "           ...      \n",
      "92                []\n",
      "93                []\n",
      "94                []\n",
      "95                []\n",
      "96                []\n",
      "Name: eqn, Length: 97, dtype: object\n"
     ]
    }
   ],
   "source": [
    "res.fitdata.fitted_parameters['eqn']"
   ]
  },
  {
   "attachments": {},
   "cell_type": "markdown",
   "metadata": {},
   "source": [
    "The issue is that the parser for the parameter info relies on very specific naming of the fragments, i.e. it relies on the id being split and hardcoded indexing to select different features. \n",
    "\n",
    "I happens because the `len(fragment_list)` parameter is < 5. But in general this data does not contain the compound equation for the fragments. The best solution would probably to remake the data model for how the information, which is currently stored in the rxn_id, could be more properly handled.\n",
    "\n",
    "The `rxn_id` is parsed directly from the matlab object in `get_fitted_parameters()`. Thus, its is matlab/INCA which creates these strange ids.\n",
    "\n",
    "The fragment data does not contain fragment formular, I think this is the reason why it fails.\n",
    "\n",
    "The msdata() has the .more attribute, this appears to contain the atoms of all non-labelled atoms, this could for example be all non carbon atoms in the molecule or the fomular for the derivatized compound minus the carbon atoms that originate from the amino acid.\n"
   ]
  },
  {
   "attachments": {},
   "cell_type": "markdown",
   "metadata": {},
   "source": [
    "## Refactoring sort_... functions\n",
    "These functions are hard to understand because they do many thing at the same time. Their main purpose seems to be converting a dictionary into a pd.Dataframe(). This can be done much simpler using pd.DataFrame.from_dict(). Then it only remain to add a bit of extra information, such as simulation_id and simulation_dateAndTime."
   ]
  },
  {
   "attachments": {},
   "cell_type": "markdown",
   "metadata": {},
   "source": [
    "We see that it is only the 'simulation_id', 'simulation_dateAndTime' that are missing."
   ]
  },
  {
   "attachments": {},
   "cell_type": "markdown",
   "metadata": {},
   "source": [
    "Expected output columns fittedMeasuredFragmentsResiduals (Found in the MFA_INCA_data_reimport.ipynb):\n",
    "\n",
    "['simulation_id', MISSING\n",
    "'simulation_dateAndTime', MISSING\n",
    "'experiment_id',\n",
    "'sample_name_abbreviation', MISSING\n",
    "'time_point', \n",
    "'fragment_id',MISSING\n",
    "'fragment_mass', MISSING\n",
    "'res_data', \n",
    "'res_fit', \n",
    "'res_peak', \n",
    "'res_stdev',\n",
    "'res_val',\n",
    "'res_msens', MISSING - but hardcoded to None\n",
    "'res_esens', MISSING - but hardcoded to None\n",
    "'used_', MISSING - but hardcoded to True\n",
    "'comment_']MISSING - but hardcoded to None\n",
    "\n",
    "The reaction ID contain the fragment id, this is due to the specific id schema for the fragments. Thus it should be safe to take the fragment ID from the reation ID."
   ]
  }
 ],
 "metadata": {
  "kernelspec": {
   "display_name": "bfair-testing",
   "language": "python",
   "name": "python3"
  },
  "language_info": {
   "codemirror_mode": {
    "name": "ipython",
    "version": 3
   },
   "file_extension": ".py",
   "mimetype": "text/x-python",
   "name": "python",
   "nbconvert_exporter": "python",
   "pygments_lexer": "ipython3",
   "version": "3.10.8"
  },
  "orig_nbformat": 4,
  "vscode": {
   "interpreter": {
    "hash": "820c70ec08a0eb018d8ec3c5d089748cbb2d1e243fbedf0a7cbeb7c8948c3b84"
   }
  }
 },
 "nbformat": 4,
 "nbformat_minor": 2
}
