{
 "cells": [
  {
   "attachments": {},
   "cell_type": "markdown",
   "metadata": {},
   "source": [
    "# Use case of the INCA Parser: Isotopically non-stationary 13C-MFA\n"
   ]
  },
  {
   "cell_type": "code",
   "execution_count": 2,
   "metadata": {},
   "outputs": [],
   "source": [
    "import pandas as pd\n",
    "import numpy as np\n",
    "import dotenv\n",
    "import ast\n",
    "import pandera as pa\n",
    "import BFAIR.mfa.INCA.dataschemas as dataschemas\n",
    "import BFAIR.mfa.INCA.INCAScript_writing as INCAScript_writing\n",
    "from BFAIR.mfa.INCA.run_inca import run_inca\n",
    "from BFAIR.mfa.visualization.schema_overview import present_schema_overview\n",
    "import BFAIR.mfa.utils.merge_reversible_reactions as mrr\n",
    "import pathlib"
   ]
  },
  {
   "cell_type": "code",
   "execution_count": 3,
   "metadata": {},
   "outputs": [
    {
     "data": {
      "text/plain": [
       "True"
      ]
     },
     "execution_count": 3,
     "metadata": {},
     "output_type": "execute_result"
    }
   ],
   "source": [
    "# import environment variables\n",
    "INCA_base_directory = dotenv.get_key(dotenv.find_dotenv(), \"INCA_base_directory\")\n",
    "data_dir = pathlib.Path('./Literature data/Astrocytes and neural stem cells/')\n",
    "data_dir.exists()"
   ]
  },
  {
   "attachments": {},
   "cell_type": "markdown",
   "metadata": {},
   "source": [
    "First, we will load and process the reactions data. We will start by refreshing the requirements for the dataframe. "
   ]
  },
  {
   "cell_type": "code",
   "execution_count": 10,
   "metadata": {},
   "outputs": [
    {
     "data": {
      "text/html": [
       "<table border=\"1\" class=\"dataframe\">\n",
       "  <thead>\n",
       "    <tr style=\"text-align: right;\">\n",
       "      <th></th>\n",
       "      <th>column name</th>\n",
       "      <th>dtype</th>\n",
       "      <th>required</th>\n",
       "      <th>nullable</th>\n",
       "      <th>description</th>\n",
       "    </tr>\n",
       "  </thead>\n",
       "  <tbody>\n",
       "    <tr>\n",
       "      <th>0</th>\n",
       "      <td>rxn_id</td>\n",
       "      <td>str</td>\n",
       "      <td>True</td>\n",
       "      <td>False</td>\n",
       "      <td>The unique id of the reaction</td>\n",
       "    </tr>\n",
       "    <tr>\n",
       "      <th>1</th>\n",
       "      <td>rxn_eqn</td>\n",
       "      <td>str</td>\n",
       "      <td>True</td>\n",
       "      <td>False</td>\n",
       "      <td>The reaction equation with atom map. Allowed reaction arrows: -&gt;, &lt;-&gt;.</td>\n",
       "    </tr>\n",
       "  </tbody>\n",
       "</table>"
      ],
      "text/plain": [
       "<IPython.core.display.HTML object>"
      ]
     },
     "metadata": {},
     "output_type": "display_data"
    }
   ],
   "source": [
    "present_schema_overview(dataschemas.ReactionsSchema)"
   ]
  },
  {
   "attachments": {},
   "cell_type": "markdown",
   "metadata": {},
   "source": [
    "We will now read in the data and rename the column to fit the requirements from `ReactionsSchema`."
   ]
  },
  {
   "cell_type": "code",
   "execution_count": 14,
   "metadata": {},
   "outputs": [
    {
     "data": {
      "text/html": [
       "<div>\n",
       "<style scoped>\n",
       "    .dataframe tbody tr th:only-of-type {\n",
       "        vertical-align: middle;\n",
       "    }\n",
       "\n",
       "    .dataframe tbody tr th {\n",
       "        vertical-align: top;\n",
       "    }\n",
       "\n",
       "    .dataframe thead th {\n",
       "        text-align: right;\n",
       "    }\n",
       "</style>\n",
       "<table border=\"1\" class=\"dataframe\">\n",
       "  <thead>\n",
       "    <tr style=\"text-align: right;\">\n",
       "      <th></th>\n",
       "      <th>rxn_id</th>\n",
       "      <th>rxn_eqn</th>\n",
       "    </tr>\n",
       "  </thead>\n",
       "  <tbody>\n",
       "    <tr>\n",
       "      <th>0</th>\n",
       "      <td>R1</td>\n",
       "      <td>G6P (abcdef) &lt;-&gt; F6P (abcdef)</td>\n",
       "    </tr>\n",
       "    <tr>\n",
       "      <th>1</th>\n",
       "      <td>R2</td>\n",
       "      <td>F6P (abcdef) -&gt; FBP (abcdef)</td>\n",
       "    </tr>\n",
       "    <tr>\n",
       "      <th>2</th>\n",
       "      <td>R3</td>\n",
       "      <td>FBP (abcdef) &lt;-&gt; DHAP (cba) + GAP (def)</td>\n",
       "    </tr>\n",
       "    <tr>\n",
       "      <th>3</th>\n",
       "      <td>R4</td>\n",
       "      <td>DHAP (abc) &lt;-&gt; GAP (abc)</td>\n",
       "    </tr>\n",
       "    <tr>\n",
       "      <th>4</th>\n",
       "      <td>R5</td>\n",
       "      <td>GAP (abc) &lt;-&gt; 3PG (abc)</td>\n",
       "    </tr>\n",
       "  </tbody>\n",
       "</table>\n",
       "</div>"
      ],
      "text/plain": [
       "  rxn_id                                  rxn_eqn\n",
       "0     R1            G6P (abcdef) <-> F6P (abcdef)\n",
       "1     R2             F6P (abcdef) -> FBP (abcdef)\n",
       "2     R3  FBP (abcdef) <-> DHAP (cba) + GAP (def)\n",
       "3     R4                 DHAP (abc) <-> GAP (abc)\n",
       "4     R5                  GAP (abc) <-> 3PG (abc)"
      ]
     },
     "execution_count": 14,
     "metadata": {},
     "output_type": "execute_result"
    }
   ],
   "source": [
    "xl = pd.ExcelFile(data_dir / 'Model.xlsx')\n",
    "reactions = (xl.parse('Sheet1')\n",
    "    .rename(columns={'Reaction ID': 'rxn_id', 'Equations (Carbon atom transition)': 'rxn_eqn'})\n",
    ")\n",
    "reactions.head()"
   ]
  },
  {
   "attachments": {},
   "cell_type": "markdown",
   "metadata": {},
   "source": [
    "We are now ready to validate the data. This is easiest done if the validation is wrapped in the try-except statement, because will produce a much nicer output in case the validation does not pass."
   ]
  },
  {
   "cell_type": "code",
   "execution_count": 16,
   "metadata": {},
   "outputs": [],
   "source": [
    "try:\n",
    "    dataschemas.ReactionsSchema.validate(reactions)\n",
    "except pa.schemas.errors.SchemaError as e:\n",
    "    print(type(e))\n",
    "    print(e)"
   ]
  },
  {
   "attachments": {},
   "cell_type": "markdown",
   "metadata": {},
   "source": [
    "The data passes the validation and we can move on to measurements of the exchange fluxes."
   ]
  },
  {
   "cell_type": "code",
   "execution_count": 37,
   "metadata": {},
   "outputs": [
    {
     "data": {
      "text/html": [
       "<table border=\"1\" class=\"dataframe\">\n",
       "  <thead>\n",
       "    <tr style=\"text-align: right;\">\n",
       "      <th></th>\n",
       "      <th>column name</th>\n",
       "      <th>dtype</th>\n",
       "      <th>required</th>\n",
       "      <th>nullable</th>\n",
       "      <th>description</th>\n",
       "    </tr>\n",
       "  </thead>\n",
       "  <tbody>\n",
       "    <tr>\n",
       "      <th>0</th>\n",
       "      <td>experiment_id</td>\n",
       "      <td>str</td>\n",
       "      <td>True</td>\n",
       "      <td>False</td>\n",
       "      <td>ID of the experiment. Must be a valid MATLAB variable name, legal characters are a-z, A-Z, 0-9, and the underscore character.</td>\n",
       "    </tr>\n",
       "    <tr>\n",
       "      <th>1</th>\n",
       "      <td>rxn_id</td>\n",
       "      <td>str</td>\n",
       "      <td>True</td>\n",
       "      <td>False</td>\n",
       "      <td>The unique id of the reaction</td>\n",
       "    </tr>\n",
       "    <tr>\n",
       "      <th>2</th>\n",
       "      <td>flux</td>\n",
       "      <td>float64</td>\n",
       "      <td>True</td>\n",
       "      <td>False</td>\n",
       "      <td>Measured/estimated rate typically in mmol/gDW/h</td>\n",
       "    </tr>\n",
       "    <tr>\n",
       "      <th>3</th>\n",
       "      <td>flux_std_error</td>\n",
       "      <td>float64</td>\n",
       "      <td>True</td>\n",
       "      <td>False</td>\n",
       "      <td>Standard error of the measured/estimated rate</td>\n",
       "    </tr>\n",
       "  </tbody>\n",
       "</table>"
      ],
      "text/plain": [
       "<IPython.core.display.HTML object>"
      ]
     },
     "metadata": {},
     "output_type": "display_data"
    }
   ],
   "source": [
    "present_schema_overview(dataschemas.FluxMeasurementsSchema)"
   ]
  },
  {
   "cell_type": "code",
   "execution_count": 30,
   "metadata": {},
   "outputs": [
    {
     "data": {
      "text/html": [
       "<div>\n",
       "<style scoped>\n",
       "    .dataframe tbody tr th:only-of-type {\n",
       "        vertical-align: middle;\n",
       "    }\n",
       "\n",
       "    .dataframe tbody tr th {\n",
       "        vertical-align: top;\n",
       "    }\n",
       "\n",
       "    .dataframe thead th {\n",
       "        text-align: right;\n",
       "    }\n",
       "</style>\n",
       "<table border=\"1\" class=\"dataframe\">\n",
       "  <thead>\n",
       "    <tr style=\"text-align: right;\">\n",
       "      <th></th>\n",
       "      <th>Metabolite</th>\n",
       "      <th>Neural Stem Cells</th>\n",
       "      <th>Astrocytes</th>\n",
       "    </tr>\n",
       "  </thead>\n",
       "  <tbody>\n",
       "    <tr>\n",
       "      <th>0</th>\n",
       "      <td>Glucose</td>\n",
       "      <td>-256.3 ± 1.3</td>\n",
       "      <td>-175.7 ± 17.9</td>\n",
       "    </tr>\n",
       "    <tr>\n",
       "      <th>1</th>\n",
       "      <td>Lactate</td>\n",
       "      <td>237.8 ± 10.1</td>\n",
       "      <td>348.6 ± 9.6</td>\n",
       "    </tr>\n",
       "    <tr>\n",
       "      <th>2</th>\n",
       "      <td>Aspartate</td>\n",
       "      <td>-2.6 ± 0.7</td>\n",
       "      <td>-11.9 ± 5.8</td>\n",
       "    </tr>\n",
       "    <tr>\n",
       "      <th>3</th>\n",
       "      <td>Glutamate</td>\n",
       "      <td>-1.8 ± 0.4</td>\n",
       "      <td>-10.5 ± 3.4</td>\n",
       "    </tr>\n",
       "    <tr>\n",
       "      <th>4</th>\n",
       "      <td>Serine</td>\n",
       "      <td>-2.8 ± 1.4</td>\n",
       "      <td>-4.1 ± 1.7</td>\n",
       "    </tr>\n",
       "  </tbody>\n",
       "</table>\n",
       "</div>"
      ],
      "text/plain": [
       "  Metabolite Neural Stem Cells     Astrocytes\n",
       "0    Glucose      -256.3 ± 1.3  -175.7 ± 17.9\n",
       "1    Lactate      237.8 ± 10.1    348.6 ± 9.6\n",
       "2  Aspartate        -2.6 ± 0.7    -11.9 ± 5.8\n",
       "3  Glutamate        -1.8 ± 0.4    -10.5 ± 3.4\n",
       "4     Serine        -2.8 ± 1.4     -4.1 ± 1.7"
      ]
     },
     "execution_count": 30,
     "metadata": {},
     "output_type": "execute_result"
    }
   ],
   "source": [
    "flux_measurements_raw = pd.read_csv(data_dir / 'exchange_fluxes.csv')\n",
    "flux_measurements_raw.head()"
   ]
  },
  {
   "cell_type": "code",
   "execution_count": 56,
   "metadata": {},
   "outputs": [
    {
     "data": {
      "text/html": [
       "<div>\n",
       "<style scoped>\n",
       "    .dataframe tbody tr th:only-of-type {\n",
       "        vertical-align: middle;\n",
       "    }\n",
       "\n",
       "    .dataframe tbody tr th {\n",
       "        vertical-align: top;\n",
       "    }\n",
       "\n",
       "    .dataframe thead th {\n",
       "        text-align: right;\n",
       "    }\n",
       "</style>\n",
       "<table border=\"1\" class=\"dataframe\">\n",
       "  <thead>\n",
       "    <tr style=\"text-align: right;\">\n",
       "      <th></th>\n",
       "      <th>Metabolite</th>\n",
       "      <th>Cell type</th>\n",
       "      <th>flux</th>\n",
       "      <th>flux_std_error</th>\n",
       "      <th>experiment_id</th>\n",
       "    </tr>\n",
       "  </thead>\n",
       "  <tbody>\n",
       "    <tr>\n",
       "      <th>0</th>\n",
       "      <td>Glucose</td>\n",
       "      <td>Astrocytes</td>\n",
       "      <td>-175.7</td>\n",
       "      <td>17.9</td>\n",
       "      <td>Astrocytes</td>\n",
       "    </tr>\n",
       "    <tr>\n",
       "      <th>1</th>\n",
       "      <td>Lactate</td>\n",
       "      <td>Astrocytes</td>\n",
       "      <td>348.6</td>\n",
       "      <td>9.6</td>\n",
       "      <td>Astrocytes</td>\n",
       "    </tr>\n",
       "    <tr>\n",
       "      <th>2</th>\n",
       "      <td>Aspartate</td>\n",
       "      <td>Astrocytes</td>\n",
       "      <td>-11.9</td>\n",
       "      <td>5.8</td>\n",
       "      <td>Astrocytes</td>\n",
       "    </tr>\n",
       "    <tr>\n",
       "      <th>3</th>\n",
       "      <td>Glutamate</td>\n",
       "      <td>Astrocytes</td>\n",
       "      <td>-10.5</td>\n",
       "      <td>3.4</td>\n",
       "      <td>Astrocytes</td>\n",
       "    </tr>\n",
       "    <tr>\n",
       "      <th>4</th>\n",
       "      <td>Serine</td>\n",
       "      <td>Astrocytes</td>\n",
       "      <td>-4.1</td>\n",
       "      <td>1.7</td>\n",
       "      <td>Astrocytes</td>\n",
       "    </tr>\n",
       "  </tbody>\n",
       "</table>\n",
       "</div>"
      ],
      "text/plain": [
       "  Metabolite   Cell type   flux  flux_std_error experiment_id\n",
       "0    Glucose  Astrocytes -175.7            17.9    Astrocytes\n",
       "1    Lactate  Astrocytes  348.6             9.6    Astrocytes\n",
       "2  Aspartate  Astrocytes  -11.9             5.8    Astrocytes\n",
       "3  Glutamate  Astrocytes  -10.5             3.4    Astrocytes\n",
       "4     Serine  Astrocytes   -4.1             1.7    Astrocytes"
      ]
     },
     "execution_count": 56,
     "metadata": {},
     "output_type": "execute_result"
    }
   ],
   "source": [
    "flux_measurements = (flux_measurements_raw\n",
    "    .melt(id_vars=['Metabolite'], value_vars=['Astrocytes', 'Neural Stem Cells'], var_name='Cell type', value_name='flux')\n",
    "    .replace({'flux': {'nan': np.nan}})\n",
    ")\n",
    "\n",
    "flux_measurements[['flux', 'flux_std_error']] = flux_measurements['flux'].str.split('±', expand=True).astype(float)\n",
    "flux_measurements['experiment_id'] = flux_measurements['Cell type'].str.replace(' ', '_')\n",
    "flux_measurements.head()"
   ]
  },
  {
   "attachments": {},
   "cell_type": "markdown",
   "metadata": {},
   "source": [
    "The raw data uses the metabolite to reference which the exchange reactions. The INCA Parse require the reaction id (`rxn_id`) to attach a flux measurement to a reaction. Next, we make a map from metabolite to `rxn_id`."
   ]
  },
  {
   "cell_type": "code",
   "execution_count": 57,
   "metadata": {},
   "outputs": [],
   "source": [
    "exchange_reactions_metabolite_map = {\n",
    "    'CO2': 'R44',\n",
    "    'Glucose': 'R45',\n",
    "    'Lactate': 'R46',\n",
    "    'Alanine': 'R47',\n",
    "    'Pyruvate': 'R48',\n",
    "    'Citrate': 'R49',\n",
    "    'Glutamine': 'R50',\n",
    "    'Glutamate': 'R51',\n",
    "    'Aspartate': 'R52',\n",
    "    'Asparagine': 'R53',\n",
    "    'Serine': 'R54',\n",
    "    'Glycine': 'R55',\n",
    "    'Proline': 'R56',\n",
    "    'Valine': 'R57',\n",
    "    'Isoleucine': 'R58',\n",
    "    'Leucine': 'R59',\n",
    "    'Threonine': 'R60',\n",
    "    'Phenylalanine': 'R61',\n",
    "    'Tyrosine': 'R62',\n",
    "    'Methionine': 'R63',\n",
    "    'Lysine': 'R64',\n",
    "    'Histidine': 'R65',\n",
    "    'Arginine': 'R66',\n",
    "}"
   ]
  },
  {
   "attachments": {},
   "cell_type": "markdown",
   "metadata": {},
   "source": [
    "We can use this map to create a new colum with the reaction ids."
   ]
  },
  {
   "cell_type": "code",
   "execution_count": 58,
   "metadata": {},
   "outputs": [
    {
     "data": {
      "text/html": [
       "<div>\n",
       "<style scoped>\n",
       "    .dataframe tbody tr th:only-of-type {\n",
       "        vertical-align: middle;\n",
       "    }\n",
       "\n",
       "    .dataframe tbody tr th {\n",
       "        vertical-align: top;\n",
       "    }\n",
       "\n",
       "    .dataframe thead th {\n",
       "        text-align: right;\n",
       "    }\n",
       "</style>\n",
       "<table border=\"1\" class=\"dataframe\">\n",
       "  <thead>\n",
       "    <tr style=\"text-align: right;\">\n",
       "      <th></th>\n",
       "      <th>Metabolite</th>\n",
       "      <th>Cell type</th>\n",
       "      <th>flux</th>\n",
       "      <th>flux_std_error</th>\n",
       "      <th>experiment_id</th>\n",
       "      <th>rxn_id</th>\n",
       "    </tr>\n",
       "  </thead>\n",
       "  <tbody>\n",
       "    <tr>\n",
       "      <th>0</th>\n",
       "      <td>Glucose</td>\n",
       "      <td>Astrocytes</td>\n",
       "      <td>-175.7</td>\n",
       "      <td>17.9</td>\n",
       "      <td>Astrocytes</td>\n",
       "      <td>R45</td>\n",
       "    </tr>\n",
       "    <tr>\n",
       "      <th>1</th>\n",
       "      <td>Lactate</td>\n",
       "      <td>Astrocytes</td>\n",
       "      <td>348.6</td>\n",
       "      <td>9.6</td>\n",
       "      <td>Astrocytes</td>\n",
       "      <td>R46</td>\n",
       "    </tr>\n",
       "    <tr>\n",
       "      <th>2</th>\n",
       "      <td>Aspartate</td>\n",
       "      <td>Astrocytes</td>\n",
       "      <td>-11.9</td>\n",
       "      <td>5.8</td>\n",
       "      <td>Astrocytes</td>\n",
       "      <td>R52</td>\n",
       "    </tr>\n",
       "    <tr>\n",
       "      <th>3</th>\n",
       "      <td>Glutamate</td>\n",
       "      <td>Astrocytes</td>\n",
       "      <td>-10.5</td>\n",
       "      <td>3.4</td>\n",
       "      <td>Astrocytes</td>\n",
       "      <td>R51</td>\n",
       "    </tr>\n",
       "    <tr>\n",
       "      <th>4</th>\n",
       "      <td>Serine</td>\n",
       "      <td>Astrocytes</td>\n",
       "      <td>-4.1</td>\n",
       "      <td>1.7</td>\n",
       "      <td>Astrocytes</td>\n",
       "      <td>R54</td>\n",
       "    </tr>\n",
       "  </tbody>\n",
       "</table>\n",
       "</div>"
      ],
      "text/plain": [
       "  Metabolite   Cell type   flux  flux_std_error experiment_id rxn_id\n",
       "0    Glucose  Astrocytes -175.7            17.9    Astrocytes    R45\n",
       "1    Lactate  Astrocytes  348.6             9.6    Astrocytes    R46\n",
       "2  Aspartate  Astrocytes  -11.9             5.8    Astrocytes    R52\n",
       "3  Glutamate  Astrocytes  -10.5             3.4    Astrocytes    R51\n",
       "4     Serine  Astrocytes   -4.1             1.7    Astrocytes    R54"
      ]
     },
     "execution_count": 58,
     "metadata": {},
     "output_type": "execute_result"
    }
   ],
   "source": [
    "flux_measurements['rxn_id'] = flux_measurements['Metabolite'].map(exchange_reactions_metabolite_map)\n",
    "flux_measurements.head()"
   ]
  },
  {
   "cell_type": "code",
   "execution_count": 59,
   "metadata": {},
   "outputs": [
    {
     "name": "stdout",
     "output_type": "stream",
     "text": [
      "<class 'pandera.errors.SchemaError'>\n",
      "non-nullable series 'flux' contains null values:\n",
      "6    NaN\n",
      "12   NaN\n",
      "13   NaN\n",
      "14   NaN\n",
      "17   NaN\n",
      "29   NaN\n",
      "30   NaN\n",
      "31   NaN\n",
      "39   NaN\n",
      "40   NaN\n",
      "Name: flux, dtype: float64\n"
     ]
    }
   ],
   "source": [
    "try:\n",
    "    dataschemas.FluxMeasurementsSchema.validate(flux_measurements)\n",
    "except pa.schemas.errors.SchemaError as e:\n",
    "    print(type(e))\n",
    "    print(e)"
   ]
  },
  {
   "attachments": {},
   "cell_type": "markdown",
   "metadata": {},
   "source": [
    "Ups, the validation failed because the INCA Parser does not allow null values in the measured fluxes. In the supplementary documentation the authors write: \"NaN represents undetermined transport rates\". We interpret as these rate were not measured, thus we don't know anything about the rate and it could take any value. Therefore, we will simply remove the measurements with NaN. \n",
    "\n",
    "An alternative interpretation is that the rate were measured but below detection limits. In that case the NaNs should be replaced by small numbers. "
   ]
  },
  {
   "cell_type": "code",
   "execution_count": 61,
   "metadata": {},
   "outputs": [],
   "source": [
    "flux_measurements.dropna(subset=['flux'], inplace=True)\n",
    "\n",
    "try:\n",
    "    dataschemas.FluxMeasurementsSchema.validate(flux_measurements)\n",
    "except pa.schemas.errors.SchemaError as e:\n",
    "    print(type(e))\n",
    "    print(e)"
   ]
  },
  {
   "attachments": {},
   "cell_type": "markdown",
   "metadata": {},
   "source": [
    "Now, the flux measurements dataframe passes the validation."
   ]
  },
  {
   "cell_type": "markdown",
   "metadata": {},
   "source": []
  }
 ],
 "metadata": {
  "kernelspec": {
   "display_name": "bfair-testing",
   "language": "python",
   "name": "python3"
  },
  "language_info": {
   "codemirror_mode": {
    "name": "ipython",
    "version": 3
   },
   "file_extension": ".py",
   "mimetype": "text/x-python",
   "name": "python",
   "nbconvert_exporter": "python",
   "pygments_lexer": "ipython3",
   "version": "3.10.8"
  },
  "orig_nbformat": 4
 },
 "nbformat": 4,
 "nbformat_minor": 2
}
