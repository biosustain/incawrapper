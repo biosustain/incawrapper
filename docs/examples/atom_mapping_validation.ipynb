{
 "cells": [
  {
   "cell_type": "markdown",
   "id": "8ed0c5fa",
   "metadata": {},
   "source": [
    "# Automatic atom mapping - example"
   ]
  },
  {
   "cell_type": "markdown",
   "id": "5aefa4d6",
   "metadata": {},
   "source": [
    "This notebook demonstrates how the `atom_mapping` module works in practice. It's purpose is to reduce the workload when preparing input data for MFA analysis on INCA. "
   ]
  },
  {
   "cell_type": "markdown",
   "id": "5b362b76",
   "metadata": {},
   "source": [
    "The only input required is the COBRA model that contains all reaction data, and, most importantly, references for metabolite structures in KEGG Compound, HMDB, CHEBI databases, or an InChI key."
   ]
  },
  {
   "cell_type": "markdown",
   "id": "a8a04fc6",
   "metadata": {},
   "source": [
    "This module uses RDKit to generate the input for RDT (Reaction Decoder Tool), a tool to estimate the atom mapping of a reaction. The output of RDT is then parsed and used to generate a dictionary of atom mappings for each reaction in the model."
   ]
  },
  {
   "cell_type": "markdown",
   "id": "21edabd6",
   "metadata": {},
   "source": [
    "#### First, import required modules:"
   ]
  },
  {
   "cell_type": "code",
   "execution_count": 1,
   "id": "75aa4c2e",
   "metadata": {},
   "outputs": [],
   "source": [
    "import pandas as pd\n",
    "from incawrapper.atommapping import atom_mapping\n",
    "from cobra.io import load_model\n",
    "import re"
   ]
  },
  {
   "cell_type": "markdown",
   "id": "4297da9f",
   "metadata": {},
   "source": [
    "## Overview\n",
    "#### 1. create a dataframe with the metabolites\n",
    "- df that has met_id and annoations as columns"
   ]
  },
  {
   "cell_type": "code",
   "execution_count": 2,
   "id": "b01de985",
   "metadata": {},
   "outputs": [
    {
     "name": "stdout",
     "output_type": "stream",
     "text": [
      "Set parameter Username\n",
      "Academic license - for non-commercial use only - expires 2024-03-05\n",
      "    met_id                                        annotations\n",
      "0  13dpg_c  {'bigg.metabolite': '13dpg', 'biocyc': 'DPG', ...\n",
      "1    2pg_c  {'bigg.metabolite': '2pg', 'biocyc': '2-PG', '...\n",
      "2    3pg_c  {'bigg.metabolite': '3pg', 'biocyc': 'G3P', 'c...\n",
      "3   6pgc_c  {'bigg.metabolite': '6pgc', 'biocyc': 'CPD-296...\n",
      "4   6pgl_c  {'bigg.metabolite': '6pgl', 'biocyc': 'D-6-P-G...\n"
     ]
    }
   ],
   "source": [
    "model = load_model(\"textbook\")\n",
    " \n",
    "met_df = pd.DataFrame(\n",
    "    {\n",
    "        \"met_id\": [met.id for met in model.metabolites],\n",
    "        \"annotations\": [met.annotation for met in model.metabolites],\n",
    "    }\n",
    ")\n",
    "print(met_df.head())"
   ]
  },
  {
   "cell_type": "markdown",
   "id": "30eb7bff",
   "metadata": {},
   "source": [
    "#### 2. create a dataframe with the reactions\n",
    "- df that has rxn_id and annotations as columns\n",
    "- the information is taken from the model"
   ]
  },
  {
   "cell_type": "code",
   "execution_count": 3,
   "id": "86daa726",
   "metadata": {},
   "outputs": [
    {
     "data": {
      "text/html": [
       "<div>\n",
       "<style scoped>\n",
       "    .dataframe tbody tr th:only-of-type {\n",
       "        vertical-align: middle;\n",
       "    }\n",
       "\n",
       "    .dataframe tbody tr th {\n",
       "        vertical-align: top;\n",
       "    }\n",
       "\n",
       "    .dataframe thead th {\n",
       "        text-align: right;\n",
       "    }\n",
       "</style>\n",
       "<table border=\"1\" class=\"dataframe\">\n",
       "  <thead>\n",
       "    <tr style=\"text-align: right;\">\n",
       "      <th></th>\n",
       "      <th>rxn_id</th>\n",
       "      <th>equation</th>\n",
       "      <th>reactants_stoichiometry</th>\n",
       "      <th>reactants_ids</th>\n",
       "      <th>products_stoichiometry</th>\n",
       "      <th>products_ids</th>\n",
       "    </tr>\n",
       "  </thead>\n",
       "  <tbody>\n",
       "    <tr>\n",
       "      <th>0</th>\n",
       "      <td>ACALD</td>\n",
       "      <td>acald_c + coa_c + nad_c &lt;=&gt; accoa_c + h_c + na...</td>\n",
       "      <td>[-1.0, -1.0, -1.0]</td>\n",
       "      <td>[acald_c, coa_c, nad_c]</td>\n",
       "      <td>[1.0, 1.0, 1.0]</td>\n",
       "      <td>[accoa_c, h_c, nadh_c]</td>\n",
       "    </tr>\n",
       "    <tr>\n",
       "      <th>1</th>\n",
       "      <td>ACALDt</td>\n",
       "      <td>acald_e &lt;=&gt; acald_c</td>\n",
       "      <td>[-1.0]</td>\n",
       "      <td>[acald_e]</td>\n",
       "      <td>[1.0]</td>\n",
       "      <td>[acald_c]</td>\n",
       "    </tr>\n",
       "    <tr>\n",
       "      <th>2</th>\n",
       "      <td>ACKr</td>\n",
       "      <td>ac_c + atp_c &lt;=&gt; actp_c + adp_c</td>\n",
       "      <td>[-1.0, -1.0]</td>\n",
       "      <td>[ac_c, atp_c]</td>\n",
       "      <td>[1.0, 1.0]</td>\n",
       "      <td>[actp_c, adp_c]</td>\n",
       "    </tr>\n",
       "    <tr>\n",
       "      <th>3</th>\n",
       "      <td>ACONTa</td>\n",
       "      <td>cit_c &lt;=&gt; acon_C_c + h2o_c</td>\n",
       "      <td>[-1.0]</td>\n",
       "      <td>[cit_c]</td>\n",
       "      <td>[1.0, 1.0]</td>\n",
       "      <td>[acon_C_c, h2o_c]</td>\n",
       "    </tr>\n",
       "    <tr>\n",
       "      <th>4</th>\n",
       "      <td>ACONTb</td>\n",
       "      <td>acon_C_c + h2o_c &lt;=&gt; icit_c</td>\n",
       "      <td>[-1.0, -1.0]</td>\n",
       "      <td>[acon_C_c, h2o_c]</td>\n",
       "      <td>[1.0]</td>\n",
       "      <td>[icit_c]</td>\n",
       "    </tr>\n",
       "  </tbody>\n",
       "</table>\n",
       "</div>"
      ],
      "text/plain": [
       "   rxn_id                                           equation  \\\n",
       "0   ACALD  acald_c + coa_c + nad_c <=> accoa_c + h_c + na...   \n",
       "1  ACALDt                                acald_e <=> acald_c   \n",
       "2    ACKr                    ac_c + atp_c <=> actp_c + adp_c   \n",
       "3  ACONTa                         cit_c <=> acon_C_c + h2o_c   \n",
       "4  ACONTb                        acon_C_c + h2o_c <=> icit_c   \n",
       "\n",
       "  reactants_stoichiometry            reactants_ids products_stoichiometry  \\\n",
       "0      [-1.0, -1.0, -1.0]  [acald_c, coa_c, nad_c]        [1.0, 1.0, 1.0]   \n",
       "1                  [-1.0]                [acald_e]                  [1.0]   \n",
       "2            [-1.0, -1.0]            [ac_c, atp_c]             [1.0, 1.0]   \n",
       "3                  [-1.0]                  [cit_c]             [1.0, 1.0]   \n",
       "4            [-1.0, -1.0]        [acon_C_c, h2o_c]                  [1.0]   \n",
       "\n",
       "             products_ids  \n",
       "0  [accoa_c, h_c, nadh_c]  \n",
       "1               [acald_c]  \n",
       "2         [actp_c, adp_c]  \n",
       "3       [acon_C_c, h2o_c]  \n",
       "4                [icit_c]  "
      ]
     },
     "execution_count": 3,
     "metadata": {},
     "output_type": "execute_result"
    }
   ],
   "source": [
    "# Examples\n",
    "reaction_data_temp = {}\n",
    "for cnt, r in enumerate(model.reactions):\n",
    "    reaction_data_dict = {\n",
    "        \"rxn_id\": r.id,\n",
    "        \"equation\": r.build_reaction_string(),\n",
    "        \"reactants_stoichiometry\": [\n",
    "            r.get_coefficient(react.id) for react in r.reactants\n",
    "        ],\n",
    "        \"reactants_ids\": [react.id for react in r.reactants],\n",
    "        \"products_stoichiometry\": [\n",
    "            r.get_coefficient(prod.id) for prod in r.products\n",
    "        ],\n",
    "        \"products_ids\": [prod.id for prod in r.products],\n",
    "    }\n",
    "    reaction_data_temp[cnt] = reaction_data_dict\n",
    " \n",
    "rxn_data = pd.DataFrame.from_dict(reaction_data_temp, orient='index')\n",
    "rxn_data.head()"
   ]
  },
  {
   "cell_type": "code",
   "execution_count": 4,
   "id": "dfc23791",
   "metadata": {},
   "outputs": [
    {
     "data": {
      "text/html": [
       "<div>\n",
       "<style scoped>\n",
       "    .dataframe tbody tr th:only-of-type {\n",
       "        vertical-align: middle;\n",
       "    }\n",
       "\n",
       "    .dataframe tbody tr th {\n",
       "        vertical-align: top;\n",
       "    }\n",
       "\n",
       "    .dataframe thead th {\n",
       "        text-align: right;\n",
       "    }\n",
       "</style>\n",
       "<table border=\"1\" class=\"dataframe\">\n",
       "  <thead>\n",
       "    <tr style=\"text-align: right;\">\n",
       "      <th></th>\n",
       "      <th>0</th>\n",
       "    </tr>\n",
       "  </thead>\n",
       "  <tbody>\n",
       "    <tr>\n",
       "      <th>0</th>\n",
       "      <td>C00031.ext (abcdef) -&gt; C00092 (abcdef)</td>\n",
       "    </tr>\n",
       "    <tr>\n",
       "      <th>1</th>\n",
       "      <td>C01510.ext (abcde) -&gt; C00231 (abcde)</td>\n",
       "    </tr>\n",
       "    <tr>\n",
       "      <th>2</th>\n",
       "      <td>C00469 (ab) -&gt; C00469.ext (ab)</td>\n",
       "    </tr>\n",
       "    <tr>\n",
       "      <th>3</th>\n",
       "      <td>C00033 (ab) -&gt; C00033.ext (ab)</td>\n",
       "    </tr>\n",
       "    <tr>\n",
       "      <th>4</th>\n",
       "      <td>C00116 (abc) -&gt; C00116.ext (abc)</td>\n",
       "    </tr>\n",
       "    <tr>\n",
       "      <th>...</th>\n",
       "      <td>...</td>\n",
       "    </tr>\n",
       "    <tr>\n",
       "      <th>90</th>\n",
       "      <td>C00092 (abcdef) -&gt; C00182 (abcdef)</td>\n",
       "    </tr>\n",
       "    <tr>\n",
       "      <th>91</th>\n",
       "      <td>C00092 (abcdef) -&gt; C00965 (abcdef)</td>\n",
       "    </tr>\n",
       "    <tr>\n",
       "      <th>92</th>\n",
       "      <td>C05345 (abcdef) -&gt; C00464 (abcdef)</td>\n",
       "    </tr>\n",
       "    <tr>\n",
       "      <th>93</th>\n",
       "      <td>C00011.ext (a) -&gt; C00011 (a)</td>\n",
       "    </tr>\n",
       "    <tr>\n",
       "      <th>94</th>\n",
       "      <td>C00011 (a) -&gt; C00011.out (a)</td>\n",
       "    </tr>\n",
       "  </tbody>\n",
       "</table>\n",
       "<p>95 rows × 1 columns</p>\n",
       "</div>"
      ],
      "text/plain": [
       "                                         0\n",
       "0   C00031.ext (abcdef) -> C00092 (abcdef)\n",
       "1     C01510.ext (abcde) -> C00231 (abcde)\n",
       "2           C00469 (ab) -> C00469.ext (ab)\n",
       "3           C00033 (ab) -> C00033.ext (ab)\n",
       "4         C00116 (abc) -> C00116.ext (abc)\n",
       "..                                     ...\n",
       "90      C00092 (abcdef) -> C00182 (abcdef)\n",
       "91      C00092 (abcdef) -> C00965 (abcdef)\n",
       "92      C05345 (abcdef) -> C00464 (abcdef)\n",
       "93            C00011.ext (a) -> C00011 (a)\n",
       "94            C00011 (a) -> C00011.out (a)\n",
       "\n",
       "[95 rows x 1 columns]"
      ]
     },
     "execution_count": 4,
     "metadata": {},
     "output_type": "execute_result"
    }
   ],
   "source": [
    "file = \"./Literature data/wasylenko/wasylenko_model_KEGG.csv\"\n",
    "\n",
    "wasylenko_kegg = pd.read_csv(file, index_col=0)\n",
    "wasylenko_kegg"
   ]
  },
  {
   "cell_type": "code",
   "execution_count": 5,
   "id": "81887b5b",
   "metadata": {},
   "outputs": [
    {
     "data": {
      "text/plain": [
       "'0.459 C00041 + 0.161 C00062 + 0.102 C00152 + 0.297 C00049 + 0.007 C00097 + 0.105 C00064 + 0.302 C00025 + 0.29 C00037 + 0.066 C00135 + 0.193 C00407 + 0.296 C00123 + 0.286 C00047 + 0.051 C00073 + 0.134 C00079 + 0.165 C00148 + 0.185 C00065 + 0.191 C00188 + 0.028 C00078 + 0.102 C00082 + 0.265 C00183 + 0.519 C00182 + 0.023 Trehalose + 0.808 C00464 + 1.135 C00965 + 0.051 C00020 + 0.05 C00055 + 0.051 C00144 + 0.067 C00105 + 0.0036 C00360 + 0.0024 C00239 + 0.0024 C00362 + 0.0036 C00364 + 0.0066 C00422 + 0.0007 C01694 + 0.0015 C05437 + 0.0006 PA + 0.0062 PC + 0.0046 PE + 0.0055 PI + 0.0017 PS + 0.4623 C00024.c -> Biomass'"
      ]
     },
     "execution_count": 5,
     "metadata": {},
     "output_type": "execute_result"
    }
   ],
   "source": [
    "rxn = wasylenko_kegg.iloc[5, 0]\n",
    "rxn"
   ]
  },
  {
   "cell_type": "markdown",
   "id": "c9edffbb",
   "metadata": {},
   "source": [
    "Remove atom mapping"
   ]
  },
  {
   "cell_type": "code",
   "execution_count": 6,
   "id": "9670358d",
   "metadata": {},
   "outputs": [
    {
     "data": {
      "text/plain": [
       "'0.459 C00041 + 0.161 C00062 + 0.102 C00152 + 0.297 C00049 + 0.007 C00097 + 0.105 C00064 + 0.302 C00025 + 0.29 C00037 + 0.066 C00135 + 0.193 C00407 + 0.296 C00123 + 0.286 C00047 + 0.051 C00073 + 0.134 C00079 + 0.165 C00148 + 0.185 C00065 + 0.191 C00188 + 0.028 C00078 + 0.102 C00082 + 0.265 C00183 + 0.519 C00182 + 0.023 Trehalose + 0.808 C00464 + 1.135 C00965 + 0.051 C00020 + 0.05 C00055 + 0.051 C00144 + 0.067 C00105 + 0.0036 C00360 + 0.0024 C00239 + 0.0024 C00362 + 0.0036 C00364 + 0.0066 C00422 + 0.0007 C01694 + 0.0015 C05437 + 0.0006 PA + 0.0062 PC + 0.0046 PE + 0.0055 PI + 0.0017 PS + 0.4623 C00024.c -> Biomass'"
      ]
     },
     "execution_count": 6,
     "metadata": {},
     "output_type": "execute_result"
    }
   ],
   "source": [
    "def remove_atommapping(rxn):\n",
    "    rxn_wo_am = re.sub(r'\\([^)]*\\)', '', rxn)\n",
    "    return rxn_wo_am\n",
    "\n",
    "rxn_wo_am = remove_atommapping(rxn)\n",
    "rxn_wo_am"
   ]
  },
  {
   "cell_type": "markdown",
   "id": "7d6259a4",
   "metadata": {},
   "source": [
    "Split substrate and product side"
   ]
  },
  {
   "cell_type": "code",
   "execution_count": 7,
   "id": "a946e8e7",
   "metadata": {},
   "outputs": [
    {
     "name": "stdout",
     "output_type": "stream",
     "text": [
      "0.459 C00041 + 0.161 C00062 + 0.102 C00152 + 0.297 C00049 + 0.007 C00097 + 0.105 C00064 + 0.302 C00025 + 0.29 C00037 + 0.066 C00135 + 0.193 C00407 + 0.296 C00123 + 0.286 C00047 + 0.051 C00073 + 0.134 C00079 + 0.165 C00148 + 0.185 C00065 + 0.191 C00188 + 0.028 C00078 + 0.102 C00082 + 0.265 C00183 + 0.519 C00182 + 0.023 Trehalose + 0.808 C00464 + 1.135 C00965 + 0.051 C00020 + 0.05 C00055 + 0.051 C00144 + 0.067 C00105 + 0.0036 C00360 + 0.0024 C00239 + 0.0024 C00362 + 0.0036 C00364 + 0.0066 C00422 + 0.0007 C01694 + 0.0015 C05437 + 0.0006 PA + 0.0062 PC + 0.0046 PE + 0.0055 PI + 0.0017 PS + 0.4623 C00024.c Biomass\n"
     ]
    }
   ],
   "source": [
    "def split_rxn(rxn_wo_am):\n",
    "    if \" <-> \" in rxn_wo_am:\n",
    "        rxn_sub, rxn_prod = rxn_wo_am.split(\" <-> \")\n",
    "    elif \" -> \" in rxn_wo_am:\n",
    "        rxn_sub, rxn_prod = rxn_wo_am.split(\" -> \")\n",
    "    return rxn_sub, rxn_prod\n",
    "\n",
    "rxn_sub, rxn_prod = split_rxn(rxn_wo_am)\n",
    "\n",
    "print(rxn_sub, rxn_prod)"
   ]
  },
  {
   "cell_type": "markdown",
   "id": "aa2fb818",
   "metadata": {},
   "source": [
    "Split reactants"
   ]
  },
  {
   "cell_type": "code",
   "execution_count": 8,
   "id": "df4e1257",
   "metadata": {},
   "outputs": [
    {
     "name": "stdout",
     "output_type": "stream",
     "text": [
      "['0.459 C00041', '0.161 C00062', '0.102 C00152', '0.297 C00049', '0.007 C00097', '0.105 C00064', '0.302 C00025', '0.29 C00037', '0.066 C00135', '0.193 C00407', '0.296 C00123', '0.286 C00047', '0.051 C00073', '0.134 C00079', '0.165 C00148', '0.185 C00065', '0.191 C00188', '0.028 C00078', '0.102 C00082', '0.265 C00183', '0.519 C00182', '0.023 Trehalose', '0.808 C00464', '1.135 C00965', '0.051 C00020', '0.05 C00055', '0.051 C00144', '0.067 C00105', '0.0036 C00360', '0.0024 C00239', '0.0024 C00362', '0.0036 C00364', '0.0066 C00422', '0.0007 C01694', '0.0015 C05437', '0.0006 PA', '0.0062 PC', '0.0046 PE', '0.0055 PI', '0.0017 PS', '0.4623 C00024.c'] ['Biomass']\n"
     ]
    }
   ],
   "source": [
    "def split_reactants_products(rxn_side):\n",
    "    if \" + \" in rxn_side:\n",
    "        rxn_side_split = rxn_side.split(\" + \")\n",
    "    else:\n",
    "        rxn_side_split = [rxn_side]\n",
    "    return rxn_side_split\n",
    "\n",
    "rxn_sub_split = split_reactants_products(rxn_sub)\n",
    "rxn_prod_split = split_reactants_products(rxn_prod)\n",
    "\n",
    "print(rxn_sub_split, rxn_prod_split)"
   ]
  },
  {
   "cell_type": "code",
   "execution_count": 9,
   "id": "5bf94aba",
   "metadata": {},
   "outputs": [
    {
     "name": "stdout",
     "output_type": "stream",
     "text": [
      "['0.459 C00041', '0.161 C00062', '0.102 C00152', '0.297 C00049', '0.007 C00097', '0.105 C00064', '0.302 C00025', '0.29 C00037', '0.066 C00135', '0.193 C00407', '0.296 C00123', '0.286 C00047', '0.051 C00073', '0.134 C00079', '0.165 C00148', '0.185 C00065', '0.191 C00188', '0.028 C00078', '0.102 C00082', '0.265 C00183', '0.519 C00182', '0.023 Trehalose', '0.808 C00464', '1.135 C00965', '0.051 C00020', '0.05 C00055', '0.051 C00144', '0.067 C00105', '0.0036 C00360', '0.0024 C00239', '0.0024 C00362', '0.0036 C00364', '0.0066 C00422', '0.0007 C01694', '0.0015 C05437', '0.0006 PA', '0.0062 PC', '0.0046 PE', '0.0055 PI', '0.0017 PS', '0.4623 C00024.c'] ['Biomass']\n"
     ]
    }
   ],
   "source": [
    "def clear_white_spaces(compound_list: list):\n",
    "    new_list = []\n",
    "    for compound in compound_list:\n",
    "        new_compound = re.sub(r'[ ]+', ' ', compound)\n",
    "        new_compound = new_compound.strip()\n",
    "        new_list.append(new_compound)\n",
    "    return new_list\n",
    "\n",
    "rxn_sub_split = clear_white_spaces(rxn_sub_split)\n",
    "rxn_prod_split = clear_white_spaces(rxn_prod_split)\n",
    "\n",
    "print(rxn_sub_split, rxn_prod_split)"
   ]
  },
  {
   "cell_type": "markdown",
   "id": "23d55d22",
   "metadata": {},
   "source": [
    "Extract stoichiometry"
   ]
  },
  {
   "cell_type": "code",
   "execution_count": 10,
   "id": "1821b047",
   "metadata": {},
   "outputs": [
    {
     "name": "stdout",
     "output_type": "stream",
     "text": [
      "['0.459', '0.161', '0.102', '0.297', '0.007', '0.105', '0.302', '0.29', '0.066', '0.193', '0.296', '0.286', '0.051', '0.134', '0.165', '0.185', '0.191', '0.028', '0.102', '0.265', '0.519', '0.023', '0.808', '1.135', '0.051', '0.05', '0.051', '0.067', '0.0036', '0.0024', '0.0024', '0.0036', '0.0066', '0.0007', '0.0015', '0.0006', '0.0062', '0.0046', '0.0055', '0.0017', '0.4623'] ['C00041', 'C00062', 'C00152', 'C00049', 'C00097', 'C00064', 'C00025', 'C00037', 'C00135', 'C00407', 'C00123', 'C00047', 'C00073', 'C00079', 'C00148', 'C00065', 'C00188', 'C00078', 'C00082', 'C00183', 'C00182', 'Trehalose', 'C00464', 'C00965', 'C00020', 'C00055', 'C00144', 'C00105', 'C00360', 'C00239', 'C00362', 'C00364', 'C00422', 'C01694', 'C05437', 'PA', 'PC', 'PE', 'PI', 'PS', 'C00024.c']\n",
      "['1'] ['Biomass']\n"
     ]
    }
   ],
   "source": [
    "def extract_stoichiometry_and_compound(rxn_side_split):\n",
    "    rxn_side_stoich = []\n",
    "    rxn_side_compound = []\n",
    "    for reactant in rxn_side_split:\n",
    "        if \" \" in reactant:\n",
    "            stoich, compound = reactant.split(\" \")\n",
    "            rxn_side_stoich.append(stoich)\n",
    "            #if \".\" in compound:\n",
    "            #    compound = compound.split(\".\")[0]\n",
    "            rxn_side_compound.append(compound)\n",
    "        else:\n",
    "            rxn_side_stoich.append(\"1\")\n",
    "            #if \".\" in reactant:\n",
    "            #    reactant = reactant.split(\".\")[0]\n",
    "            rxn_side_compound.append(reactant)\n",
    "    return rxn_side_stoich, rxn_side_compound\n",
    "\n",
    "rxn_sub_stoich, rxn_sub_compound = extract_stoichiometry_and_compound(rxn_sub_split)\n",
    "rxn_prod_stoich, rxn_prod_compound = extract_stoichiometry_and_compound(rxn_prod_split)\n",
    "\n",
    "print(rxn_sub_stoich, rxn_sub_compound)\n",
    "print(rxn_prod_stoich, rxn_prod_compound)"
   ]
  },
  {
   "cell_type": "markdown",
   "id": "7e515e58",
   "metadata": {},
   "source": [
    "Run on all reactions"
   ]
  },
  {
   "cell_type": "code",
   "execution_count": 11,
   "id": "ec577be0",
   "metadata": {},
   "outputs": [
    {
     "data": {
      "text/html": [
       "<div>\n",
       "<style scoped>\n",
       "    .dataframe tbody tr th:only-of-type {\n",
       "        vertical-align: middle;\n",
       "    }\n",
       "\n",
       "    .dataframe tbody tr th {\n",
       "        vertical-align: top;\n",
       "    }\n",
       "\n",
       "    .dataframe thead th {\n",
       "        text-align: right;\n",
       "    }\n",
       "</style>\n",
       "<table border=\"1\" class=\"dataframe\">\n",
       "  <thead>\n",
       "    <tr style=\"text-align: right;\">\n",
       "      <th></th>\n",
       "      <th>rxn_id</th>\n",
       "      <th>equation</th>\n",
       "      <th>reactants_stoichiometry</th>\n",
       "      <th>reactants_ids</th>\n",
       "      <th>products_stoichiometry</th>\n",
       "      <th>products_ids</th>\n",
       "    </tr>\n",
       "  </thead>\n",
       "  <tbody>\n",
       "    <tr>\n",
       "      <th>0</th>\n",
       "      <td>0</td>\n",
       "      <td>C00031.ext  -&gt; C00092</td>\n",
       "      <td>[-1.0]</td>\n",
       "      <td>[C00031.ext]</td>\n",
       "      <td>[1.0]</td>\n",
       "      <td>[C00092]</td>\n",
       "    </tr>\n",
       "    <tr>\n",
       "      <th>1</th>\n",
       "      <td>1</td>\n",
       "      <td>C01510.ext  -&gt; C00231</td>\n",
       "      <td>[-1.0]</td>\n",
       "      <td>[C01510.ext]</td>\n",
       "      <td>[1.0]</td>\n",
       "      <td>[C00231]</td>\n",
       "    </tr>\n",
       "    <tr>\n",
       "      <th>2</th>\n",
       "      <td>2</td>\n",
       "      <td>C00469  -&gt; C00469.ext</td>\n",
       "      <td>[-1.0]</td>\n",
       "      <td>[C00469]</td>\n",
       "      <td>[1.0]</td>\n",
       "      <td>[C00469.ext]</td>\n",
       "    </tr>\n",
       "    <tr>\n",
       "      <th>3</th>\n",
       "      <td>3</td>\n",
       "      <td>C00033  -&gt; C00033.ext</td>\n",
       "      <td>[-1.0]</td>\n",
       "      <td>[C00033]</td>\n",
       "      <td>[1.0]</td>\n",
       "      <td>[C00033.ext]</td>\n",
       "    </tr>\n",
       "    <tr>\n",
       "      <th>4</th>\n",
       "      <td>4</td>\n",
       "      <td>C00116  -&gt; C00116.ext</td>\n",
       "      <td>[-1.0]</td>\n",
       "      <td>[C00116]</td>\n",
       "      <td>[1.0]</td>\n",
       "      <td>[C00116.ext]</td>\n",
       "    </tr>\n",
       "    <tr>\n",
       "      <th>5</th>\n",
       "      <td>5</td>\n",
       "      <td>0.459 C00041 + 0.161 C00062 + 0.102 C00152 + 0...</td>\n",
       "      <td>[-0.459, -0.161, -0.102, -0.297, -0.007, -0.10...</td>\n",
       "      <td>[C00041, C00062, C00152, C00049, C00097, C0006...</td>\n",
       "      <td>[1.0]</td>\n",
       "      <td>[Biomass]</td>\n",
       "    </tr>\n",
       "    <tr>\n",
       "      <th>6</th>\n",
       "      <td>6</td>\n",
       "      <td>C00022.c  -&gt; C00022.mnt</td>\n",
       "      <td>[-1.0]</td>\n",
       "      <td>[C00022.c]</td>\n",
       "      <td>[1.0]</td>\n",
       "      <td>[C00022.mnt]</td>\n",
       "    </tr>\n",
       "    <tr>\n",
       "      <th>7</th>\n",
       "      <td>7</td>\n",
       "      <td>C00022.m  -&gt; C00022.mnt</td>\n",
       "      <td>[-1.0]</td>\n",
       "      <td>[C00022.m]</td>\n",
       "      <td>[1.0]</td>\n",
       "      <td>[C00022.mnt]</td>\n",
       "    </tr>\n",
       "    <tr>\n",
       "      <th>8</th>\n",
       "      <td>8</td>\n",
       "      <td>C00022.mnt  -&gt; C00022.fix</td>\n",
       "      <td>[-1.0]</td>\n",
       "      <td>[C00022.mnt]</td>\n",
       "      <td>[1.0]</td>\n",
       "      <td>[C00022.fix]</td>\n",
       "    </tr>\n",
       "    <tr>\n",
       "      <th>9</th>\n",
       "      <td>9</td>\n",
       "      <td>C00092  &lt;-&gt; C05345</td>\n",
       "      <td>[-1.0]</td>\n",
       "      <td>[C00092]</td>\n",
       "      <td>[1.0]</td>\n",
       "      <td>[C05345]</td>\n",
       "    </tr>\n",
       "  </tbody>\n",
       "</table>\n",
       "</div>"
      ],
      "text/plain": [
       "   rxn_id                                           equation  \\\n",
       "0       0                             C00031.ext  -> C00092    \n",
       "1       1                             C01510.ext  -> C00231    \n",
       "2       2                             C00469  -> C00469.ext    \n",
       "3       3                             C00033  -> C00033.ext    \n",
       "4       4                             C00116  -> C00116.ext    \n",
       "5       5  0.459 C00041 + 0.161 C00062 + 0.102 C00152 + 0...   \n",
       "6       6                           C00022.c  -> C00022.mnt    \n",
       "7       7                           C00022.m  -> C00022.mnt    \n",
       "8       8                         C00022.mnt  -> C00022.fix    \n",
       "9       9                                C00092  <-> C05345    \n",
       "\n",
       "                             reactants_stoichiometry  \\\n",
       "0                                             [-1.0]   \n",
       "1                                             [-1.0]   \n",
       "2                                             [-1.0]   \n",
       "3                                             [-1.0]   \n",
       "4                                             [-1.0]   \n",
       "5  [-0.459, -0.161, -0.102, -0.297, -0.007, -0.10...   \n",
       "6                                             [-1.0]   \n",
       "7                                             [-1.0]   \n",
       "8                                             [-1.0]   \n",
       "9                                             [-1.0]   \n",
       "\n",
       "                                       reactants_ids products_stoichiometry  \\\n",
       "0                                       [C00031.ext]                  [1.0]   \n",
       "1                                       [C01510.ext]                  [1.0]   \n",
       "2                                           [C00469]                  [1.0]   \n",
       "3                                           [C00033]                  [1.0]   \n",
       "4                                           [C00116]                  [1.0]   \n",
       "5  [C00041, C00062, C00152, C00049, C00097, C0006...                  [1.0]   \n",
       "6                                         [C00022.c]                  [1.0]   \n",
       "7                                         [C00022.m]                  [1.0]   \n",
       "8                                       [C00022.mnt]                  [1.0]   \n",
       "9                                           [C00092]                  [1.0]   \n",
       "\n",
       "   products_ids  \n",
       "0      [C00092]  \n",
       "1      [C00231]  \n",
       "2  [C00469.ext]  \n",
       "3  [C00033.ext]  \n",
       "4  [C00116.ext]  \n",
       "5     [Biomass]  \n",
       "6  [C00022.mnt]  \n",
       "7  [C00022.mnt]  \n",
       "8  [C00022.fix]  \n",
       "9      [C05345]  "
      ]
     },
     "execution_count": 11,
     "metadata": {},
     "output_type": "execute_result"
    }
   ],
   "source": [
    "model_dict = {}\n",
    "\n",
    "for i, row in wasylenko_kegg.iterrows():\n",
    "    rxn = row[0]\n",
    "    rxn_wo_am = remove_atommapping(rxn)\n",
    "    rxn_sub, rxn_prod = split_rxn(rxn_wo_am)\n",
    "    rxn_sub_split = split_reactants_products(rxn_sub)\n",
    "    rxn_prod_split = split_reactants_products(rxn_prod)\n",
    "    rxn_sub_split_cleared = clear_white_spaces(rxn_sub_split)\n",
    "    rxn_prod_split_cleared = clear_white_spaces(rxn_prod_split)\n",
    "    rxn_sub_stoich, rxn_sub_compound = extract_stoichiometry_and_compound(rxn_sub_split_cleared)\n",
    "    rxn_prod_stoich, rxn_prod_compound = extract_stoichiometry_and_compound(rxn_prod_split_cleared)\n",
    "    model_dict[i] = {\n",
    "        \"rxn_id\": i,\n",
    "        \"equation\": rxn_wo_am,\n",
    "        \"reactants_stoichiometry\": [float(stoich) * -1 for stoich in rxn_sub_stoich],\n",
    "        \"reactants_ids\": rxn_sub_compound,\n",
    "        \"products_stoichiometry\": [float(stoich) for stoich in rxn_prod_stoich],\n",
    "        \"products_ids\": rxn_prod_compound,\n",
    "    }\n",
    "\n",
    "rxn_data = pd.DataFrame.from_dict(model_dict, orient='index')\n",
    "rxn_data.head(10)"
   ]
  },
  {
   "cell_type": "code",
   "execution_count": 12,
   "id": "0cf88705",
   "metadata": {},
   "outputs": [
    {
     "data": {
      "text/html": [
       "<div>\n",
       "<style scoped>\n",
       "    .dataframe tbody tr th:only-of-type {\n",
       "        vertical-align: middle;\n",
       "    }\n",
       "\n",
       "    .dataframe tbody tr th {\n",
       "        vertical-align: top;\n",
       "    }\n",
       "\n",
       "    .dataframe thead th {\n",
       "        text-align: right;\n",
       "    }\n",
       "</style>\n",
       "<table border=\"1\" class=\"dataframe\">\n",
       "  <thead>\n",
       "    <tr style=\"text-align: right;\">\n",
       "      <th></th>\n",
       "      <th>met_id</th>\n",
       "      <th>annotations</th>\n",
       "    </tr>\n",
       "  </thead>\n",
       "  <tbody>\n",
       "    <tr>\n",
       "      <th>C00082</th>\n",
       "      <td>C00082</td>\n",
       "      <td>{'kegg.compound': 'C00082'}</td>\n",
       "    </tr>\n",
       "    <tr>\n",
       "      <th>C00036</th>\n",
       "      <td>C00036.m</td>\n",
       "      <td>{'kegg.compound': 'C00036'}</td>\n",
       "    </tr>\n",
       "    <tr>\n",
       "      <th>C00011</th>\n",
       "      <td>C00011.out</td>\n",
       "      <td>{'kegg.compound': 'C00011'}</td>\n",
       "    </tr>\n",
       "    <tr>\n",
       "      <th>C00149</th>\n",
       "      <td>C00149</td>\n",
       "      <td>{'kegg.compound': 'C00149'}</td>\n",
       "    </tr>\n",
       "    <tr>\n",
       "      <th>C00062</th>\n",
       "      <td>C00062</td>\n",
       "      <td>{'kegg.compound': 'C00062'}</td>\n",
       "    </tr>\n",
       "    <tr>\n",
       "      <th>...</th>\n",
       "      <td>...</td>\n",
       "      <td>...</td>\n",
       "    </tr>\n",
       "    <tr>\n",
       "      <th>C05382</th>\n",
       "      <td>C05382</td>\n",
       "      <td>{'kegg.compound': 'C05382'}</td>\n",
       "    </tr>\n",
       "    <tr>\n",
       "      <th>C00152</th>\n",
       "      <td>C00152</td>\n",
       "      <td>{'kegg.compound': 'C00152'}</td>\n",
       "    </tr>\n",
       "    <tr>\n",
       "      <th>C00073</th>\n",
       "      <td>C00073</td>\n",
       "      <td>{'kegg.compound': 'C00073'}</td>\n",
       "    </tr>\n",
       "    <tr>\n",
       "      <th>C01694</th>\n",
       "      <td>C01694</td>\n",
       "      <td>{'kegg.compound': 'C01694'}</td>\n",
       "    </tr>\n",
       "    <tr>\n",
       "      <th>C00025</th>\n",
       "      <td>C00025</td>\n",
       "      <td>{'kegg.compound': 'C00025'}</td>\n",
       "    </tr>\n",
       "  </tbody>\n",
       "</table>\n",
       "<p>71 rows × 2 columns</p>\n",
       "</div>"
      ],
      "text/plain": [
       "            met_id                  annotations\n",
       "C00082      C00082  {'kegg.compound': 'C00082'}\n",
       "C00036    C00036.m  {'kegg.compound': 'C00036'}\n",
       "C00011  C00011.out  {'kegg.compound': 'C00011'}\n",
       "C00149      C00149  {'kegg.compound': 'C00149'}\n",
       "C00062      C00062  {'kegg.compound': 'C00062'}\n",
       "...            ...                          ...\n",
       "C05382      C05382  {'kegg.compound': 'C05382'}\n",
       "C00152      C00152  {'kegg.compound': 'C00152'}\n",
       "C00073      C00073  {'kegg.compound': 'C00073'}\n",
       "C01694      C01694  {'kegg.compound': 'C01694'}\n",
       "C00025      C00025  {'kegg.compound': 'C00025'}\n",
       "\n",
       "[71 rows x 2 columns]"
      ]
     },
     "execution_count": 12,
     "metadata": {},
     "output_type": "execute_result"
    }
   ],
   "source": [
    "metabolites = []\n",
    "for i, row in rxn_data.iterrows():\n",
    "    metabolites.extend(row[\"reactants_ids\"])\n",
    "    metabolites.extend(row[\"products_ids\"])\n",
    "metabolites = list(set(metabolites))\n",
    "metabolites\n",
    "\n",
    "met_df = {}\n",
    "for met in metabolites:\n",
    "    if met.startswith(\"C\"):\n",
    "        if \".\" in met:\n",
    "            temp_met = met.split(\".\")[0]\n",
    "        else:\n",
    "            temp_met = met\n",
    "        met_df[temp_met] = {\n",
    "            \"met_id\": met,\n",
    "            \"annotations\": {\"kegg.compound\": temp_met},\n",
    "        }\n",
    "\n",
    "met_df = pd.DataFrame.from_dict(met_df, orient='index')\n",
    "met_df"
   ]
  },
  {
   "cell_type": "code",
   "execution_count": 13,
   "id": "2303d6f1",
   "metadata": {},
   "outputs": [
    {
     "data": {
      "text/plain": [
       "{'kegg.compound': 'C00082'}"
      ]
     },
     "execution_count": 13,
     "metadata": {},
     "output_type": "execute_result"
    }
   ],
   "source": [
    "met_df.iloc[0].annotations"
   ]
  },
  {
   "cell_type": "markdown",
   "id": "b8c252c5",
   "metadata": {},
   "source": [
    "#### 3. create a MolfileDownloader object\n",
    "- calling the generate_molfile_database method triggers the download of the molfiles for the metabolites in the dataframe"
   ]
  },
  {
   "cell_type": "code",
   "execution_count": 17,
   "id": "194952f4",
   "metadata": {},
   "outputs": [
    {
     "name": "stdout",
     "output_type": "stream",
     "text": [
      "Fetching metabolite structures...\n",
      "Successfully fetched 0/2 metabolites\n"
     ]
    }
   ],
   "source": [
    "base_path = \"./\"\n",
    "downloader = atom_mapping.MolfileDownloader(met_df.iloc[0:2], base_path=base_path)\n",
    "downloader.generate_molfile_database()"
   ]
  },
  {
   "cell_type": "markdown",
   "id": "a1165970",
   "metadata": {},
   "source": [
    "#### 4. Write reactions in the correct format for RDT (write_rxn_file)"
   ]
  },
  {
   "cell_type": "code",
   "execution_count": null,
   "id": "c961dc42",
   "metadata": {},
   "outputs": [],
   "source": [
    "atom_mapping.write_rxn_files(rxn_data, base_path=base_path)"
   ]
  },
  {
   "cell_type": "markdown",
   "id": "95213bef",
   "metadata": {},
   "source": [
    "#### 5. Query RDT for the atom mapping (obtain_atom_mappings)\n",
    "- This might take a while\n",
    "- Can be skipped if you already have the atom mappings"
   ]
  },
  {
   "cell_type": "code",
   "execution_count": null,
   "id": "0a542e17",
   "metadata": {},
   "outputs": [],
   "source": [
    "atom_mapping.obtain_atom_mappings(max_time=20, base_path=base_path)"
   ]
  },
  {
   "cell_type": "markdown",
   "id": "02071e9a",
   "metadata": {},
   "source": [
    "#### 6. Write reactions file with atom mapping"
   ]
  },
  {
   "cell_type": "code",
   "execution_count": null,
   "id": "ea8a27b6",
   "metadata": {},
   "outputs": [],
   "source": [
    "base_path + '/mappedRxns/rxnFiles'"
   ]
  },
  {
   "cell_type": "code",
   "execution_count": null,
   "id": "87fcbe4d",
   "metadata": {},
   "outputs": [],
   "source": [
    "atom_mapping.parse_reaction_mappings(mapped_rxn_path=base_path + '/mappedRxns/rxnFiles', rxn_data=rxn_data)"
   ]
  },
  {
   "cell_type": "markdown",
   "id": "67a82b89",
   "metadata": {},
   "source": [
    "#### 7. When you're done, you can delete the downloaded files and directories to free up space"
   ]
  },
  {
   "cell_type": "code",
   "execution_count": null,
   "id": "758b9d00",
   "metadata": {},
   "outputs": [],
   "source": [
    "atom_mapping.clean_output(base_path=base_path)"
   ]
  },
  {
   "cell_type": "code",
   "execution_count": null,
   "id": "dbaad8cc",
   "metadata": {},
   "outputs": [],
   "source": []
  }
 ],
 "metadata": {
  "kernelspec": {
   "display_name": "bfair",
   "language": "python",
   "name": "python3"
  },
  "language_info": {
   "codemirror_mode": {
    "name": "ipython",
    "version": 3
   },
   "file_extension": ".py",
   "mimetype": "text/x-python",
   "name": "python",
   "nbconvert_exporter": "python",
   "pygments_lexer": "ipython3",
   "version": "3.8.13"
  }
 },
 "nbformat": 4,
 "nbformat_minor": 5
}
