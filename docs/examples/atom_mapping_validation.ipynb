{
 "cells": [
  {
   "cell_type": "markdown",
   "id": "8ed0c5fa",
   "metadata": {},
   "source": [
    "# Automatic atom mapping - example"
   ]
  },
  {
   "cell_type": "markdown",
   "id": "5aefa4d6",
   "metadata": {},
   "source": [
    "This notebook demonstrates how the `atom_mapping` module works in practice. It's purpose is to reduce the workload when preparing input data for MFA analysis on INCA. "
   ]
  },
  {
   "cell_type": "markdown",
   "id": "5b362b76",
   "metadata": {},
   "source": [
    "The only input required is the COBRA model that contains all reaction data, and, most importantly, references for metabolite structures in KEGG Compound, HMDB, CHEBI databases, or an InChI key."
   ]
  },
  {
   "cell_type": "markdown",
   "id": "a8a04fc6",
   "metadata": {},
   "source": [
    "This module uses RDKit to generate the input for RDT (Reaction Decoder Tool), a tool to estimate the atom mapping of a reaction. The output of RDT is then parsed and used to generate a dictionary of atom mappings for each reaction in the model."
   ]
  },
  {
   "cell_type": "markdown",
   "id": "21edabd6",
   "metadata": {},
   "source": [
    "#### First, import required modules:"
   ]
  },
  {
   "cell_type": "code",
   "execution_count": 2,
   "id": "75aa4c2e",
   "metadata": {},
   "outputs": [],
   "source": [
    "import pandas as pd\n",
    "from incawrapper.atommapping import atom_mapping\n",
    "import re"
   ]
  },
  {
   "cell_type": "markdown",
   "id": "4297da9f",
   "metadata": {},
   "source": [
    "## Overview"
   ]
  },
  {
   "cell_type": "markdown",
   "id": "30eb7bff",
   "metadata": {},
   "source": [
    "#### 1. create a dataframe with the reactions\n",
    "- df that has rxn_id and annotations as columns\n",
    "- the information is taken from the model"
   ]
  },
  {
   "cell_type": "code",
   "execution_count": 5,
   "id": "dfc23791",
   "metadata": {},
   "outputs": [
    {
     "data": {
      "text/html": [
       "<div>\n",
       "<style scoped>\n",
       "    .dataframe tbody tr th:only-of-type {\n",
       "        vertical-align: middle;\n",
       "    }\n",
       "\n",
       "    .dataframe tbody tr th {\n",
       "        vertical-align: top;\n",
       "    }\n",
       "\n",
       "    .dataframe thead th {\n",
       "        text-align: right;\n",
       "    }\n",
       "</style>\n",
       "<table border=\"1\" class=\"dataframe\">\n",
       "  <thead>\n",
       "    <tr style=\"text-align: right;\">\n",
       "      <th></th>\n",
       "      <th>0</th>\n",
       "    </tr>\n",
       "  </thead>\n",
       "  <tbody>\n",
       "    <tr>\n",
       "      <th>0</th>\n",
       "      <td>C00031.ext (abcdef) -&gt; C00092 (abcdef)</td>\n",
       "    </tr>\n",
       "    <tr>\n",
       "      <th>1</th>\n",
       "      <td>C01510.ext (abcde) -&gt; C00231 (abcde)</td>\n",
       "    </tr>\n",
       "    <tr>\n",
       "      <th>2</th>\n",
       "      <td>C00469 (ab) -&gt; C00469.ext (ab)</td>\n",
       "    </tr>\n",
       "    <tr>\n",
       "      <th>3</th>\n",
       "      <td>C00033 (ab) -&gt; C00033.ext (ab)</td>\n",
       "    </tr>\n",
       "    <tr>\n",
       "      <th>4</th>\n",
       "      <td>C00116 (abc) -&gt; C00116.ext (abc)</td>\n",
       "    </tr>\n",
       "    <tr>\n",
       "      <th>...</th>\n",
       "      <td>...</td>\n",
       "    </tr>\n",
       "    <tr>\n",
       "      <th>90</th>\n",
       "      <td>C00092 (abcdef) -&gt; C00182 (abcdef)</td>\n",
       "    </tr>\n",
       "    <tr>\n",
       "      <th>91</th>\n",
       "      <td>C00092 (abcdef) -&gt; C00965 (abcdef)</td>\n",
       "    </tr>\n",
       "    <tr>\n",
       "      <th>92</th>\n",
       "      <td>C05345 (abcdef) -&gt; C00464 (abcdef)</td>\n",
       "    </tr>\n",
       "    <tr>\n",
       "      <th>93</th>\n",
       "      <td>C00011.ext (a) -&gt; C00011 (a)</td>\n",
       "    </tr>\n",
       "    <tr>\n",
       "      <th>94</th>\n",
       "      <td>C00011 (a) -&gt; C00011.out (a)</td>\n",
       "    </tr>\n",
       "  </tbody>\n",
       "</table>\n",
       "<p>95 rows × 1 columns</p>\n",
       "</div>"
      ],
      "text/plain": [
       "                                         0\n",
       "0   C00031.ext (abcdef) -> C00092 (abcdef)\n",
       "1     C01510.ext (abcde) -> C00231 (abcde)\n",
       "2           C00469 (ab) -> C00469.ext (ab)\n",
       "3           C00033 (ab) -> C00033.ext (ab)\n",
       "4         C00116 (abc) -> C00116.ext (abc)\n",
       "..                                     ...\n",
       "90      C00092 (abcdef) -> C00182 (abcdef)\n",
       "91      C00092 (abcdef) -> C00965 (abcdef)\n",
       "92      C05345 (abcdef) -> C00464 (abcdef)\n",
       "93            C00011.ext (a) -> C00011 (a)\n",
       "94            C00011 (a) -> C00011.out (a)\n",
       "\n",
       "[95 rows x 1 columns]"
      ]
     },
     "execution_count": 5,
     "metadata": {},
     "output_type": "execute_result"
    }
   ],
   "source": [
    "file = \"./Literature data/wasylenko/wasylenko_model_KEGG.csv\"\n",
    "\n",
    "wasylenko_kegg = pd.read_csv(file, index_col=0)\n",
    "wasylenko_kegg"
   ]
  },
  {
   "cell_type": "code",
   "execution_count": 6,
   "id": "81887b5b",
   "metadata": {},
   "outputs": [
    {
     "data": {
      "text/plain": [
       "'0.459 C00041 + 0.161 C00062 + 0.102 C00152 + 0.297 C00049 + 0.007 C00097 + 0.105 C00064 + 0.302 C00025 + 0.29 C00037 + 0.066 C00135 + 0.193 C00407 + 0.296 C00123 + 0.286 C00047 + 0.051 C00073 + 0.134 C00079 + 0.165 C00148 + 0.185 C00065 + 0.191 C00188 + 0.028 C00078 + 0.102 C00082 + 0.265 C00183 + 0.519 C00182 + 0.023 Trehalose + 0.808 C00464 + 1.135 C00965 + 0.051 C00020 + 0.05 C00055 + 0.051 C00144 + 0.067 C00105 + 0.0036 C00360 + 0.0024 C00239 + 0.0024 C00362 + 0.0036 C00364 + 0.0066 C00422 + 0.0007 C01694 + 0.0015 C05437 + 0.0006 PA + 0.0062 PC + 0.0046 PE + 0.0055 PI + 0.0017 PS + 0.4623 C00024.c -> Biomass'"
      ]
     },
     "execution_count": 6,
     "metadata": {},
     "output_type": "execute_result"
    }
   ],
   "source": [
    "rxn = wasylenko_kegg.iloc[5, 0]\n",
    "rxn"
   ]
  },
  {
   "cell_type": "markdown",
   "id": "c9edffbb",
   "metadata": {},
   "source": [
    "Remove atom mapping"
   ]
  },
  {
   "cell_type": "code",
   "execution_count": 7,
   "id": "9670358d",
   "metadata": {},
   "outputs": [
    {
     "data": {
      "text/plain": [
       "'0.459 C00041 + 0.161 C00062 + 0.102 C00152 + 0.297 C00049 + 0.007 C00097 + 0.105 C00064 + 0.302 C00025 + 0.29 C00037 + 0.066 C00135 + 0.193 C00407 + 0.296 C00123 + 0.286 C00047 + 0.051 C00073 + 0.134 C00079 + 0.165 C00148 + 0.185 C00065 + 0.191 C00188 + 0.028 C00078 + 0.102 C00082 + 0.265 C00183 + 0.519 C00182 + 0.023 Trehalose + 0.808 C00464 + 1.135 C00965 + 0.051 C00020 + 0.05 C00055 + 0.051 C00144 + 0.067 C00105 + 0.0036 C00360 + 0.0024 C00239 + 0.0024 C00362 + 0.0036 C00364 + 0.0066 C00422 + 0.0007 C01694 + 0.0015 C05437 + 0.0006 PA + 0.0062 PC + 0.0046 PE + 0.0055 PI + 0.0017 PS + 0.4623 C00024.c -> Biomass'"
      ]
     },
     "execution_count": 7,
     "metadata": {},
     "output_type": "execute_result"
    }
   ],
   "source": [
    "def remove_atommapping(rxn):\n",
    "    rxn_wo_am = re.sub(r'\\([^)]*\\)', '', rxn)\n",
    "    return rxn_wo_am\n",
    "\n",
    "rxn_wo_am = remove_atommapping(rxn)\n",
    "rxn_wo_am"
   ]
  },
  {
   "cell_type": "markdown",
   "id": "7d6259a4",
   "metadata": {},
   "source": [
    "Split substrate and product side"
   ]
  },
  {
   "cell_type": "code",
   "execution_count": 8,
   "id": "a946e8e7",
   "metadata": {},
   "outputs": [
    {
     "name": "stdout",
     "output_type": "stream",
     "text": [
      "0.459 C00041 + 0.161 C00062 + 0.102 C00152 + 0.297 C00049 + 0.007 C00097 + 0.105 C00064 + 0.302 C00025 + 0.29 C00037 + 0.066 C00135 + 0.193 C00407 + 0.296 C00123 + 0.286 C00047 + 0.051 C00073 + 0.134 C00079 + 0.165 C00148 + 0.185 C00065 + 0.191 C00188 + 0.028 C00078 + 0.102 C00082 + 0.265 C00183 + 0.519 C00182 + 0.023 Trehalose + 0.808 C00464 + 1.135 C00965 + 0.051 C00020 + 0.05 C00055 + 0.051 C00144 + 0.067 C00105 + 0.0036 C00360 + 0.0024 C00239 + 0.0024 C00362 + 0.0036 C00364 + 0.0066 C00422 + 0.0007 C01694 + 0.0015 C05437 + 0.0006 PA + 0.0062 PC + 0.0046 PE + 0.0055 PI + 0.0017 PS + 0.4623 C00024.c Biomass\n"
     ]
    }
   ],
   "source": [
    "def split_rxn(rxn_wo_am):\n",
    "    if \" <-> \" in rxn_wo_am:\n",
    "        rxn_sub, rxn_prod = rxn_wo_am.split(\" <-> \")\n",
    "    elif \" -> \" in rxn_wo_am:\n",
    "        rxn_sub, rxn_prod = rxn_wo_am.split(\" -> \")\n",
    "    return rxn_sub, rxn_prod\n",
    "\n",
    "rxn_sub, rxn_prod = split_rxn(rxn_wo_am)\n",
    "\n",
    "print(rxn_sub, rxn_prod)"
   ]
  },
  {
   "cell_type": "markdown",
   "id": "aa2fb818",
   "metadata": {},
   "source": [
    "Split reactants"
   ]
  },
  {
   "cell_type": "code",
   "execution_count": 9,
   "id": "df4e1257",
   "metadata": {},
   "outputs": [
    {
     "name": "stdout",
     "output_type": "stream",
     "text": [
      "['0.459 C00041', '0.161 C00062', '0.102 C00152', '0.297 C00049', '0.007 C00097', '0.105 C00064', '0.302 C00025', '0.29 C00037', '0.066 C00135', '0.193 C00407', '0.296 C00123', '0.286 C00047', '0.051 C00073', '0.134 C00079', '0.165 C00148', '0.185 C00065', '0.191 C00188', '0.028 C00078', '0.102 C00082', '0.265 C00183', '0.519 C00182', '0.023 Trehalose', '0.808 C00464', '1.135 C00965', '0.051 C00020', '0.05 C00055', '0.051 C00144', '0.067 C00105', '0.0036 C00360', '0.0024 C00239', '0.0024 C00362', '0.0036 C00364', '0.0066 C00422', '0.0007 C01694', '0.0015 C05437', '0.0006 PA', '0.0062 PC', '0.0046 PE', '0.0055 PI', '0.0017 PS', '0.4623 C00024.c'] ['Biomass']\n"
     ]
    }
   ],
   "source": [
    "def split_reactants_products(rxn_side):\n",
    "    if \" + \" in rxn_side:\n",
    "        rxn_side_split = rxn_side.split(\" + \")\n",
    "    else:\n",
    "        rxn_side_split = [rxn_side]\n",
    "    return rxn_side_split\n",
    "\n",
    "rxn_sub_split = split_reactants_products(rxn_sub)\n",
    "rxn_prod_split = split_reactants_products(rxn_prod)\n",
    "\n",
    "print(rxn_sub_split, rxn_prod_split)"
   ]
  },
  {
   "cell_type": "code",
   "execution_count": 10,
   "id": "5bf94aba",
   "metadata": {},
   "outputs": [
    {
     "name": "stdout",
     "output_type": "stream",
     "text": [
      "['0.459 C00041', '0.161 C00062', '0.102 C00152', '0.297 C00049', '0.007 C00097', '0.105 C00064', '0.302 C00025', '0.29 C00037', '0.066 C00135', '0.193 C00407', '0.296 C00123', '0.286 C00047', '0.051 C00073', '0.134 C00079', '0.165 C00148', '0.185 C00065', '0.191 C00188', '0.028 C00078', '0.102 C00082', '0.265 C00183', '0.519 C00182', '0.023 Trehalose', '0.808 C00464', '1.135 C00965', '0.051 C00020', '0.05 C00055', '0.051 C00144', '0.067 C00105', '0.0036 C00360', '0.0024 C00239', '0.0024 C00362', '0.0036 C00364', '0.0066 C00422', '0.0007 C01694', '0.0015 C05437', '0.0006 PA', '0.0062 PC', '0.0046 PE', '0.0055 PI', '0.0017 PS', '0.4623 C00024.c'] ['Biomass']\n"
     ]
    }
   ],
   "source": [
    "def clear_white_spaces(compound_list: list):\n",
    "    new_list = []\n",
    "    for compound in compound_list:\n",
    "        new_compound = re.sub(r'[ ]+', ' ', compound)\n",
    "        new_compound = new_compound.strip()\n",
    "        new_list.append(new_compound)\n",
    "    return new_list\n",
    "\n",
    "rxn_sub_split = clear_white_spaces(rxn_sub_split)\n",
    "rxn_prod_split = clear_white_spaces(rxn_prod_split)\n",
    "\n",
    "print(rxn_sub_split, rxn_prod_split)"
   ]
  },
  {
   "cell_type": "markdown",
   "id": "23d55d22",
   "metadata": {},
   "source": [
    "Extract stoichiometry"
   ]
  },
  {
   "cell_type": "code",
   "execution_count": 11,
   "id": "1821b047",
   "metadata": {},
   "outputs": [
    {
     "name": "stdout",
     "output_type": "stream",
     "text": [
      "['0.459', '0.161', '0.102', '0.297', '0.007', '0.105', '0.302', '0.29', '0.066', '0.193', '0.296', '0.286', '0.051', '0.134', '0.165', '0.185', '0.191', '0.028', '0.102', '0.265', '0.519', '0.023', '0.808', '1.135', '0.051', '0.05', '0.051', '0.067', '0.0036', '0.0024', '0.0024', '0.0036', '0.0066', '0.0007', '0.0015', '0.0006', '0.0062', '0.0046', '0.0055', '0.0017', '0.4623'] ['C00041', 'C00062', 'C00152', 'C00049', 'C00097', 'C00064', 'C00025', 'C00037', 'C00135', 'C00407', 'C00123', 'C00047', 'C00073', 'C00079', 'C00148', 'C00065', 'C00188', 'C00078', 'C00082', 'C00183', 'C00182', 'Trehalose', 'C00464', 'C00965', 'C00020', 'C00055', 'C00144', 'C00105', 'C00360', 'C00239', 'C00362', 'C00364', 'C00422', 'C01694', 'C05437', 'PA', 'PC', 'PE', 'PI', 'PS', 'C00024.c']\n",
      "['1'] ['Biomass']\n"
     ]
    }
   ],
   "source": [
    "def extract_stoichiometry_and_compound(rxn_side_split):\n",
    "    rxn_side_stoich = []\n",
    "    rxn_side_compound = []\n",
    "    for reactant in rxn_side_split:\n",
    "        if \" \" in reactant:\n",
    "            stoich, compound = reactant.split(\" \")\n",
    "            rxn_side_stoich.append(stoich)\n",
    "            #if \".\" in compound:\n",
    "            #    compound = compound.split(\".\")[0]\n",
    "            rxn_side_compound.append(compound)\n",
    "        else:\n",
    "            rxn_side_stoich.append(\"1\")\n",
    "            #if \".\" in reactant:\n",
    "            #    reactant = reactant.split(\".\")[0]\n",
    "            rxn_side_compound.append(reactant)\n",
    "    return rxn_side_stoich, rxn_side_compound\n",
    "\n",
    "rxn_sub_stoich, rxn_sub_compound = extract_stoichiometry_and_compound(rxn_sub_split)\n",
    "rxn_prod_stoich, rxn_prod_compound = extract_stoichiometry_and_compound(rxn_prod_split)\n",
    "\n",
    "print(rxn_sub_stoich, rxn_sub_compound)\n",
    "print(rxn_prod_stoich, rxn_prod_compound)"
   ]
  },
  {
   "cell_type": "markdown",
   "id": "7e515e58",
   "metadata": {},
   "source": [
    "Run on all reactions"
   ]
  },
  {
   "cell_type": "code",
   "execution_count": 12,
   "id": "ec577be0",
   "metadata": {},
   "outputs": [
    {
     "data": {
      "text/html": [
       "<div>\n",
       "<style scoped>\n",
       "    .dataframe tbody tr th:only-of-type {\n",
       "        vertical-align: middle;\n",
       "    }\n",
       "\n",
       "    .dataframe tbody tr th {\n",
       "        vertical-align: top;\n",
       "    }\n",
       "\n",
       "    .dataframe thead th {\n",
       "        text-align: right;\n",
       "    }\n",
       "</style>\n",
       "<table border=\"1\" class=\"dataframe\">\n",
       "  <thead>\n",
       "    <tr style=\"text-align: right;\">\n",
       "      <th></th>\n",
       "      <th>rxn_id</th>\n",
       "      <th>equation</th>\n",
       "      <th>reactants_stoichiometry</th>\n",
       "      <th>reactants_ids</th>\n",
       "      <th>products_stoichiometry</th>\n",
       "      <th>products_ids</th>\n",
       "    </tr>\n",
       "  </thead>\n",
       "  <tbody>\n",
       "    <tr>\n",
       "      <th>0</th>\n",
       "      <td>0</td>\n",
       "      <td>C00031.ext  -&gt; C00092</td>\n",
       "      <td>[-1.0]</td>\n",
       "      <td>[C00031.ext]</td>\n",
       "      <td>[1.0]</td>\n",
       "      <td>[C00092]</td>\n",
       "    </tr>\n",
       "    <tr>\n",
       "      <th>1</th>\n",
       "      <td>1</td>\n",
       "      <td>C01510.ext  -&gt; C00231</td>\n",
       "      <td>[-1.0]</td>\n",
       "      <td>[C01510.ext]</td>\n",
       "      <td>[1.0]</td>\n",
       "      <td>[C00231]</td>\n",
       "    </tr>\n",
       "    <tr>\n",
       "      <th>2</th>\n",
       "      <td>2</td>\n",
       "      <td>C00469  -&gt; C00469.ext</td>\n",
       "      <td>[-1.0]</td>\n",
       "      <td>[C00469]</td>\n",
       "      <td>[1.0]</td>\n",
       "      <td>[C00469.ext]</td>\n",
       "    </tr>\n",
       "    <tr>\n",
       "      <th>3</th>\n",
       "      <td>3</td>\n",
       "      <td>C00033  -&gt; C00033.ext</td>\n",
       "      <td>[-1.0]</td>\n",
       "      <td>[C00033]</td>\n",
       "      <td>[1.0]</td>\n",
       "      <td>[C00033.ext]</td>\n",
       "    </tr>\n",
       "    <tr>\n",
       "      <th>4</th>\n",
       "      <td>4</td>\n",
       "      <td>C00116  -&gt; C00116.ext</td>\n",
       "      <td>[-1.0]</td>\n",
       "      <td>[C00116]</td>\n",
       "      <td>[1.0]</td>\n",
       "      <td>[C00116.ext]</td>\n",
       "    </tr>\n",
       "    <tr>\n",
       "      <th>5</th>\n",
       "      <td>5</td>\n",
       "      <td>0.459 C00041 + 0.161 C00062 + 0.102 C00152 + 0...</td>\n",
       "      <td>[-0.459, -0.161, -0.102, -0.297, -0.007, -0.10...</td>\n",
       "      <td>[C00041, C00062, C00152, C00049, C00097, C0006...</td>\n",
       "      <td>[1.0]</td>\n",
       "      <td>[Biomass]</td>\n",
       "    </tr>\n",
       "    <tr>\n",
       "      <th>6</th>\n",
       "      <td>6</td>\n",
       "      <td>C00022.c  -&gt; C00022.mnt</td>\n",
       "      <td>[-1.0]</td>\n",
       "      <td>[C00022.c]</td>\n",
       "      <td>[1.0]</td>\n",
       "      <td>[C00022.mnt]</td>\n",
       "    </tr>\n",
       "    <tr>\n",
       "      <th>7</th>\n",
       "      <td>7</td>\n",
       "      <td>C00022.m  -&gt; C00022.mnt</td>\n",
       "      <td>[-1.0]</td>\n",
       "      <td>[C00022.m]</td>\n",
       "      <td>[1.0]</td>\n",
       "      <td>[C00022.mnt]</td>\n",
       "    </tr>\n",
       "    <tr>\n",
       "      <th>8</th>\n",
       "      <td>8</td>\n",
       "      <td>C00022.mnt  -&gt; C00022.fix</td>\n",
       "      <td>[-1.0]</td>\n",
       "      <td>[C00022.mnt]</td>\n",
       "      <td>[1.0]</td>\n",
       "      <td>[C00022.fix]</td>\n",
       "    </tr>\n",
       "    <tr>\n",
       "      <th>9</th>\n",
       "      <td>9</td>\n",
       "      <td>C00092  &lt;-&gt; C05345</td>\n",
       "      <td>[-1.0]</td>\n",
       "      <td>[C00092]</td>\n",
       "      <td>[1.0]</td>\n",
       "      <td>[C05345]</td>\n",
       "    </tr>\n",
       "  </tbody>\n",
       "</table>\n",
       "</div>"
      ],
      "text/plain": [
       "   rxn_id                                           equation  \\\n",
       "0       0                             C00031.ext  -> C00092    \n",
       "1       1                             C01510.ext  -> C00231    \n",
       "2       2                             C00469  -> C00469.ext    \n",
       "3       3                             C00033  -> C00033.ext    \n",
       "4       4                             C00116  -> C00116.ext    \n",
       "5       5  0.459 C00041 + 0.161 C00062 + 0.102 C00152 + 0...   \n",
       "6       6                           C00022.c  -> C00022.mnt    \n",
       "7       7                           C00022.m  -> C00022.mnt    \n",
       "8       8                         C00022.mnt  -> C00022.fix    \n",
       "9       9                                C00092  <-> C05345    \n",
       "\n",
       "                             reactants_stoichiometry  \\\n",
       "0                                             [-1.0]   \n",
       "1                                             [-1.0]   \n",
       "2                                             [-1.0]   \n",
       "3                                             [-1.0]   \n",
       "4                                             [-1.0]   \n",
       "5  [-0.459, -0.161, -0.102, -0.297, -0.007, -0.10...   \n",
       "6                                             [-1.0]   \n",
       "7                                             [-1.0]   \n",
       "8                                             [-1.0]   \n",
       "9                                             [-1.0]   \n",
       "\n",
       "                                       reactants_ids products_stoichiometry  \\\n",
       "0                                       [C00031.ext]                  [1.0]   \n",
       "1                                       [C01510.ext]                  [1.0]   \n",
       "2                                           [C00469]                  [1.0]   \n",
       "3                                           [C00033]                  [1.0]   \n",
       "4                                           [C00116]                  [1.0]   \n",
       "5  [C00041, C00062, C00152, C00049, C00097, C0006...                  [1.0]   \n",
       "6                                         [C00022.c]                  [1.0]   \n",
       "7                                         [C00022.m]                  [1.0]   \n",
       "8                                       [C00022.mnt]                  [1.0]   \n",
       "9                                           [C00092]                  [1.0]   \n",
       "\n",
       "   products_ids  \n",
       "0      [C00092]  \n",
       "1      [C00231]  \n",
       "2  [C00469.ext]  \n",
       "3  [C00033.ext]  \n",
       "4  [C00116.ext]  \n",
       "5     [Biomass]  \n",
       "6  [C00022.mnt]  \n",
       "7  [C00022.mnt]  \n",
       "8  [C00022.fix]  \n",
       "9      [C05345]  "
      ]
     },
     "execution_count": 12,
     "metadata": {},
     "output_type": "execute_result"
    }
   ],
   "source": [
    "model_dict = {}\n",
    "\n",
    "for i, row in wasylenko_kegg.iterrows():\n",
    "    rxn = row[0]\n",
    "    rxn_wo_am = remove_atommapping(rxn)\n",
    "    rxn_sub, rxn_prod = split_rxn(rxn_wo_am)\n",
    "    rxn_sub_split = split_reactants_products(rxn_sub)\n",
    "    rxn_prod_split = split_reactants_products(rxn_prod)\n",
    "    rxn_sub_split_cleared = clear_white_spaces(rxn_sub_split)\n",
    "    rxn_prod_split_cleared = clear_white_spaces(rxn_prod_split)\n",
    "    rxn_sub_stoich, rxn_sub_compound = extract_stoichiometry_and_compound(rxn_sub_split_cleared)\n",
    "    rxn_prod_stoich, rxn_prod_compound = extract_stoichiometry_and_compound(rxn_prod_split_cleared)\n",
    "    model_dict[i] = {\n",
    "        \"rxn_id\": i,\n",
    "        \"equation\": rxn_wo_am,\n",
    "        \"reactants_stoichiometry\": [float(stoich) * -1 for stoich in rxn_sub_stoich],\n",
    "        \"reactants_ids\": rxn_sub_compound,\n",
    "        \"products_stoichiometry\": [float(stoich) for stoich in rxn_prod_stoich],\n",
    "        \"products_ids\": rxn_prod_compound,\n",
    "    }\n",
    "\n",
    "rxn_data = pd.DataFrame.from_dict(model_dict, orient='index')\n",
    "rxn_data.head(10)"
   ]
  },
  {
   "cell_type": "markdown",
   "id": "3bb71d23",
   "metadata": {},
   "source": [
    "#### 2. create a dataframe with the metabolites\n",
    "- df that has met_id and annoations as columns"
   ]
  },
  {
   "cell_type": "code",
   "execution_count": 14,
   "id": "0cf88705",
   "metadata": {},
   "outputs": [
    {
     "data": {
      "text/html": [
       "<div>\n",
       "<style scoped>\n",
       "    .dataframe tbody tr th:only-of-type {\n",
       "        vertical-align: middle;\n",
       "    }\n",
       "\n",
       "    .dataframe tbody tr th {\n",
       "        vertical-align: top;\n",
       "    }\n",
       "\n",
       "    .dataframe thead th {\n",
       "        text-align: right;\n",
       "    }\n",
       "</style>\n",
       "<table border=\"1\" class=\"dataframe\">\n",
       "  <thead>\n",
       "    <tr style=\"text-align: right;\">\n",
       "      <th></th>\n",
       "      <th>met_id</th>\n",
       "      <th>annotations</th>\n",
       "    </tr>\n",
       "  </thead>\n",
       "  <tbody>\n",
       "    <tr>\n",
       "      <th>C00111</th>\n",
       "      <td>C00111</td>\n",
       "      <td>{'kegg.compound': 'C00111'}</td>\n",
       "    </tr>\n",
       "    <tr>\n",
       "      <th>C00037</th>\n",
       "      <td>C00037</td>\n",
       "      <td>{'kegg.compound': 'C00037'}</td>\n",
       "    </tr>\n",
       "    <tr>\n",
       "      <th>C00073</th>\n",
       "      <td>C00073</td>\n",
       "      <td>{'kegg.compound': 'C00073'}</td>\n",
       "    </tr>\n",
       "    <tr>\n",
       "      <th>C00011.out</th>\n",
       "      <td>C00011.out</td>\n",
       "      <td>{'kegg.compound': 'C00011'}</td>\n",
       "    </tr>\n",
       "    <tr>\n",
       "      <th>C00122</th>\n",
       "      <td>C00122</td>\n",
       "      <td>{'kegg.compound': 'C00122'}</td>\n",
       "    </tr>\n",
       "    <tr>\n",
       "      <th>...</th>\n",
       "      <td>...</td>\n",
       "      <td>...</td>\n",
       "    </tr>\n",
       "    <tr>\n",
       "      <th>C00279</th>\n",
       "      <td>C00279</td>\n",
       "      <td>{'kegg.compound': 'C00279'}</td>\n",
       "    </tr>\n",
       "    <tr>\n",
       "      <th>C00078</th>\n",
       "      <td>C00078</td>\n",
       "      <td>{'kegg.compound': 'C00078'}</td>\n",
       "    </tr>\n",
       "    <tr>\n",
       "      <th>C00451</th>\n",
       "      <td>C00451</td>\n",
       "      <td>{'kegg.compound': 'C00451'}</td>\n",
       "    </tr>\n",
       "    <tr>\n",
       "      <th>C00356</th>\n",
       "      <td>C00356</td>\n",
       "      <td>{'kegg.compound': 'C00356'}</td>\n",
       "    </tr>\n",
       "    <tr>\n",
       "      <th>C01694</th>\n",
       "      <td>C01694</td>\n",
       "      <td>{'kegg.compound': 'C01694'}</td>\n",
       "    </tr>\n",
       "  </tbody>\n",
       "</table>\n",
       "<p>81 rows × 2 columns</p>\n",
       "</div>"
      ],
      "text/plain": [
       "                met_id                  annotations\n",
       "C00111          C00111  {'kegg.compound': 'C00111'}\n",
       "C00037          C00037  {'kegg.compound': 'C00037'}\n",
       "C00073          C00073  {'kegg.compound': 'C00073'}\n",
       "C00011.out  C00011.out  {'kegg.compound': 'C00011'}\n",
       "C00122          C00122  {'kegg.compound': 'C00122'}\n",
       "...                ...                          ...\n",
       "C00279          C00279  {'kegg.compound': 'C00279'}\n",
       "C00078          C00078  {'kegg.compound': 'C00078'}\n",
       "C00451          C00451  {'kegg.compound': 'C00451'}\n",
       "C00356          C00356  {'kegg.compound': 'C00356'}\n",
       "C01694          C01694  {'kegg.compound': 'C01694'}\n",
       "\n",
       "[81 rows x 2 columns]"
      ]
     },
     "execution_count": 14,
     "metadata": {},
     "output_type": "execute_result"
    }
   ],
   "source": [
    "metabolites = []\n",
    "for i, row in rxn_data.iterrows():\n",
    "    metabolites.extend(row[\"reactants_ids\"])\n",
    "    metabolites.extend(row[\"products_ids\"])\n",
    "metabolites = list(set(metabolites))\n",
    "metabolites\n",
    "\n",
    "met_df = {}\n",
    "for met in metabolites:\n",
    "    if met.startswith(\"C\"):\n",
    "        if \".\" in met:\n",
    "            temp_met = met.split(\".\")[0]\n",
    "        else:\n",
    "            temp_met = met\n",
    "        met_df[met] = {\n",
    "            \"met_id\": met,\n",
    "            \"annotations\": {\"kegg.compound\": temp_met},\n",
    "        }\n",
    "\n",
    "met_df = pd.DataFrame.from_dict(met_df, orient='index')\n",
    "met_df"
   ]
  },
  {
   "cell_type": "markdown",
   "id": "b8c252c5",
   "metadata": {},
   "source": [
    "#### 3. create a MolfileDownloader object\n",
    "- calling the generate_molfile_database method triggers the download of the molfiles for the metabolites in the dataframe"
   ]
  },
  {
   "cell_type": "code",
   "execution_count": 15,
   "id": "194952f4",
   "metadata": {},
   "outputs": [
    {
     "name": "stdout",
     "output_type": "stream",
     "text": [
      "Fetching metabolite structures...\n"
     ]
    },
    {
     "name": "stdout",
     "output_type": "stream",
     "text": [
      "Successfully fetched 79/81 metabolites\n"
     ]
    }
   ],
   "source": [
    "base_path = \"/Users/krv114/Documents/GitHub/incawrapper/docs/examples/Literature data/wasylenko\"\n",
    "downloader = atom_mapping.MolfileDownloader(met_df, base_path=base_path)\n",
    "downloader.generate_molfile_database()"
   ]
  },
  {
   "cell_type": "markdown",
   "id": "a1165970",
   "metadata": {},
   "source": [
    "#### 4. Write reactions in the correct format for RDT (write_rxn_file)"
   ]
  },
  {
   "cell_type": "code",
   "execution_count": 16,
   "id": "05d65be2",
   "metadata": {},
   "outputs": [
    {
     "data": {
      "text/html": [
       "<div>\n",
       "<style scoped>\n",
       "    .dataframe tbody tr th:only-of-type {\n",
       "        vertical-align: middle;\n",
       "    }\n",
       "\n",
       "    .dataframe tbody tr th {\n",
       "        vertical-align: top;\n",
       "    }\n",
       "\n",
       "    .dataframe thead th {\n",
       "        text-align: right;\n",
       "    }\n",
       "</style>\n",
       "<table border=\"1\" class=\"dataframe\">\n",
       "  <thead>\n",
       "    <tr style=\"text-align: right;\">\n",
       "      <th></th>\n",
       "      <th>met_id</th>\n",
       "      <th>annotations</th>\n",
       "    </tr>\n",
       "  </thead>\n",
       "  <tbody>\n",
       "    <tr>\n",
       "      <th>C00469.ext</th>\n",
       "      <td>C00469.ext</td>\n",
       "      <td>{'kegg.compound': 'C00469'}</td>\n",
       "    </tr>\n",
       "    <tr>\n",
       "      <th>C00469</th>\n",
       "      <td>C00469</td>\n",
       "      <td>{'kegg.compound': 'C00469'}</td>\n",
       "    </tr>\n",
       "  </tbody>\n",
       "</table>\n",
       "</div>"
      ],
      "text/plain": [
       "                met_id                  annotations\n",
       "C00469.ext  C00469.ext  {'kegg.compound': 'C00469'}\n",
       "C00469          C00469  {'kegg.compound': 'C00469'}"
      ]
     },
     "execution_count": 16,
     "metadata": {},
     "output_type": "execute_result"
    }
   ],
   "source": [
    "met_df.query(\"met_id.str.contains('C00469')\")"
   ]
  },
  {
   "cell_type": "code",
   "execution_count": 17,
   "id": "c961dc42",
   "metadata": {},
   "outputs": [
    {
     "name": "stdout",
     "output_type": "stream",
     "text": [
      "Metabolite structures missing for reaction 5\n",
      "Metabolite structures missing for reaction 21\n",
      "Metabolite structures missing for reaction 22\n",
      "Metabolite structures missing for reaction 23\n",
      "Metabolite structures missing for reaction 24\n",
      "Metabolite structures missing for reaction 25\n",
      "Metabolite structures missing for reaction 41\n",
      "Metabolite structures missing for reaction 42\n",
      "Metabolite structures missing for reaction 57\n",
      "Metabolite structures missing for reaction 65\n",
      "Metabolite structures missing for reaction 68\n",
      "Metabolite structures missing for reaction 75\n",
      "Metabolite structures missing for reaction 76\n",
      "Metabolite structures missing for reaction 77\n",
      "Metabolite structures missing for reaction 78\n",
      "Metabolite structures missing for reaction 79\n",
      "Metabolite structures missing for reaction 80\n",
      "Metabolite structures missing for reaction 88\n",
      "Metabolite structures missing for reaction 89\n",
      "Metabolite structures missing for reaction 92\n",
      "Generated 75/95\n"
     ]
    }
   ],
   "source": [
    "atom_mapping.write_rxn_files(rxn_data, base_path=base_path)"
   ]
  },
  {
   "cell_type": "markdown",
   "id": "95213bef",
   "metadata": {},
   "source": [
    "#### 5. Query RDT for the atom mapping (obtain_atom_mappings)\n",
    "- This might take a while\n",
    "- Can be skipped if you already have the atom mappings"
   ]
  },
  {
   "cell_type": "code",
   "execution_count": 18,
   "id": "0a542e17",
   "metadata": {},
   "outputs": [
    {
     "name": "stderr",
     "output_type": "stream",
     "text": [
      "openjdk version \"11.0.9.1\" 2020-11-04 LTS\n",
      "OpenJDK Runtime Environment Zulu11.43+55-CA (build 11.0.9.1+1-LTS)\n",
      "OpenJDK 64-Bit Server VM Zulu11.43+55-CA (build 11.0.9.1+1-LTS, mixed mode)\n"
     ]
    },
    {
     "name": "stdout",
     "output_type": "stream",
     "text": [
      "Mapping reactions...\n",
      "['81.rxn', '4.rxn', '56.rxn', '43.rxn', '94.rxn', '82.rxn', '55.rxn', '7.rxn', '69.rxn', '40.rxn', '54.rxn', '6.rxn', '83.rxn', '93.rxn', '87.rxn', '2.rxn', '50.rxn', '44.rxn', '45.rxn', '3.rxn', '51.rxn', '86.rxn', '84.rxn', '90.rxn', '47.rxn', '53.rxn', '1.rxn', '52.rxn', '0.rxn', '46.rxn', '91.rxn', '85.rxn', '35.rxn', '34.rxn', '20.rxn', '36.rxn', '37.rxn', '33.rxn', '27.rxn', '26.rxn', '32.rxn', '18.rxn', '30.rxn', '31.rxn', '19.rxn', '14.rxn', '28.rxn', '29.rxn', '15.rxn', '17.rxn', '16.rxn', '12.rxn', '13.rxn', '39.rxn', '11.rxn', '10.rxn', '38.rxn', '63.rxn', '62.rxn', '74.rxn', '60.rxn', '48.rxn', '49.rxn', '61.rxn', '59.rxn', '71.rxn', '64.rxn', '70.rxn', '58.rxn', '8.rxn', '66.rxn', '72.rxn', '73.rxn', '67.rxn', '9.rxn']\n",
      "!--------------------------------------------------------\n",
      "Reaction Decoder Tool (RDT)\n",
      "\n",
      "Author: Syed Asad Rahman\n",
      "e-mail: asad@ebi.ac.uk|s9asad@gmail.com\n",
      "c/o EMBL-European BioInformatics Institute (EBI)\n",
      "WTGC, CB10 1SD Hinxton\n",
      "UK\n",
      "\n",
      "Note: The copyright of this software belongs to the author\n",
      "and EMBL-European BioInformatics Institute (EBI).\n",
      "\n",
      "Reference\n",
      "Rahman, S.A. et.al.(2016) Reaction Decoder Tool (RDT):\n",
      "Extracting Features from Chemical Reactions, Bioinformatics (2016)\n",
      "doi: 10.1093/bioinformatics/btw096\n",
      "!--------------------------------------------------------\n",
      "\n",
      "-- AAM --\n"
     ]
    },
    {
     "name": "stderr",
     "output_type": "stream",
     "text": [
      "uk.ac.ebi.reactionblast.mechanism.ReactionMechanismTool WARN: Number of atom(s) on the Left side 10 =/= Number of atom(s) on the Right side 15\n",
      "uk.ac.ebi.reactionblast.mechanism.ReactionMechanismTool WARN: {C=3, O=6, P=1} =/= {C=6, O=6, R=3}\n",
      "uk.ac.ebi.reactionblast.mechanism.ReactionMechanismTool WARN: Unmapped atoms present in this reaction(MIN) algorithm.\n"
     ]
    },
    {
     "name": "stdout",
     "output_type": "stream",
     "text": [
      "0    [main] INFO  net.sf.jnati.deploy.artefact.ConfigManager  - Loading global configuration\n",
      "8    [main] DEBUG net.sf.jnati.deploy.artefact.ConfigManager  - Loading defaults: jar:file:/Users/krv114/Documents/GitHub/incawrapper/docs/examples/Literature%20data/wasylenko/RDT.jar!/META-INF/jnati/jnati.default-properties\n",
      "10   [main] INFO  net.sf.jnati.deploy.artefact.ConfigManager  - Loading artefact configuration: jniinchi-1.03_1\n",
      "11   [main] DEBUG net.sf.jnati.deploy.artefact.ConfigManager  - Loading instance defaults: jar:file:/Users/krv114/Documents/GitHub/incawrapper/docs/examples/Literature%20data/wasylenko/RDT.jar!/META-INF/jnati/jnati.instance.default-properties\n",
      "13   [main] INFO  net.sf.jnati.deploy.repository.ClasspathRepository  - Searching classpath for: jniinchi-1.03_1-MAC-X86_64\n",
      "14   [main] INFO  net.sf.jnati.deploy.repository.LocalRepository  - Searching local repository for: jniinchi-1.03_1-MAC-X86_64\n",
      "14   [main] DEBUG net.sf.jnati.deploy.repository.LocalRepository  - Artefact path: /Users/krv114/.jnati/repo/jniinchi/1.03_1/MAC-X86_64\n",
      "15   [main] INFO  net.sf.jnati.deploy.artefact.ManifestReader  - Reading manifest\n",
      "46   [main] INFO  net.sf.jnati.deploy.NativeArtefactLocator  - Artefact (jniinchi-1.03_1-MAC-X86_64) location: /Users/krv114/.jnati/repo/jniinchi/1.03_1/MAC-X86_64\n",
      "46   [main] DEBUG net.sf.jnati.deploy.NativeLibraryLoader  - Loading library: /Users/krv114/.jnati/repo/jniinchi/1.03_1/MAC-X86_64/JniInchi-1.03_1-MAC-X86_64\n"
     ]
    },
    {
     "name": "stderr",
     "output_type": "stream",
     "text": [
      "uk.ac.ebi.reactionblast.mechanism.ReactionMechanismTool WARN: Unmapped atoms present in this reaction(MAX) algorithm.\n",
      "uk.ac.ebi.reactionblast.mechanism.ReactionMechanismTool WARN: Unmapped atoms present in this reaction(MIXTURE) algorithm.\n"
     ]
    },
    {
     "name": "stdout",
     "output_type": "stream",
     "text": [
      "Mapped RXN File /Users/krv114/Documents/GitHub/incawrapper/docs/examples/Literature data/wasylenko/mappedRxns/ECBLAST_81_AAM.rxn\n"
     ]
    },
    {
     "name": "stderr",
     "output_type": "stream",
     "text": [
      "Warning: the fonts \"Times\" and \"Times\" are not available for the Java logical font \"Serif\", which may have unexpected appearance or behavior. Re-enable the \"Times\" font to remove this warning.\n"
     ]
    },
    {
     "name": "stdout",
     "output_type": "stream",
     "text": [
      "Annotated RXN Image /Users/krv114/Documents/GitHub/incawrapper/docs/examples/Literature data/wasylenko/mappedRxns/ECBLAST_81_AAM.png\n",
      "Output is presented in text format: /Users/krv114/Documents/GitHub/incawrapper/docs/examples/Literature data/wasylenko/mappedRxns/ECBLAST_81_AAM.txt\n",
      "!--------------------------------------------------------\n",
      "Reaction Decoder Tool (RDT)\n",
      "\n",
      "Author: Syed Asad Rahman\n",
      "e-mail: asad@ebi.ac.uk|s9asad@gmail.com\n",
      "c/o EMBL-European BioInformatics Institute (EBI)\n",
      "WTGC, CB10 1SD Hinxton\n",
      "UK\n",
      "\n",
      "Note: The copyright of this software belongs to the author\n",
      "and EMBL-European BioInformatics Institute (EBI).\n",
      "\n",
      "Reference\n",
      "Rahman, S.A. et.al.(2016) Reaction Decoder Tool (RDT):\n",
      "Extracting Features from Chemical Reactions, Bioinformatics (2016)\n",
      "doi: 10.1093/bioinformatics/btw096\n",
      "!--------------------------------------------------------\n",
      "\n",
      "-- AAM --\n",
      "Mapped RXN File /Users/krv114/Documents/GitHub/incawrapper/docs/examples/Literature data/wasylenko/mappedRxns/ECBLAST_4_AAM.rxn\n"
     ]
    },
    {
     "name": "stderr",
     "output_type": "stream",
     "text": [
      "Warning: the fonts \"Times\" and \"Times\" are not available for the Java logical font \"Serif\", which may have unexpected appearance or behavior. Re-enable the \"Times\" font to remove this warning.\n"
     ]
    },
    {
     "name": "stdout",
     "output_type": "stream",
     "text": [
      "Annotated RXN Image /Users/krv114/Documents/GitHub/incawrapper/docs/examples/Literature data/wasylenko/mappedRxns/ECBLAST_4_AAM.png\n",
      "Output is presented in text format: /Users/krv114/Documents/GitHub/incawrapper/docs/examples/Literature data/wasylenko/mappedRxns/ECBLAST_4_AAM.txt\n",
      "!--------------------------------------------------------\n",
      "Reaction Decoder Tool (RDT)\n",
      "\n",
      "Author: Syed Asad Rahman\n",
      "e-mail: asad@ebi.ac.uk|s9asad@gmail.com\n",
      "c/o EMBL-European BioInformatics Institute (EBI)\n",
      "WTGC, CB10 1SD Hinxton\n",
      "UK\n",
      "\n",
      "Note: The copyright of this software belongs to the author\n",
      "and EMBL-European BioInformatics Institute (EBI).\n",
      "\n",
      "Reference\n",
      "Rahman, S.A. et.al.(2016) Reaction Decoder Tool (RDT):\n",
      "Extracting Features from Chemical Reactions, Bioinformatics (2016)\n",
      "doi: 10.1093/bioinformatics/btw096\n",
      "!--------------------------------------------------------\n",
      "\n",
      "-- AAM --\n"
     ]
    },
    {
     "name": "stderr",
     "output_type": "stream",
     "text": [
      "uk.ac.ebi.reactionblast.mechanism.ReactionMechanismTool WARN: Number of atom(s) on the Left side 70 =/= Number of atom(s) on the Right side 22\n",
      "uk.ac.ebi.reactionblast.mechanism.ReactionMechanismTool WARN: {C=31, N=9, O=26, P=3, S=1} =/= {C=10, N=1, O=10, S=1}\n",
      "uk.ac.ebi.reactionblast.mechanism.ReactionMechanismTool WARN: Unmapped atoms present in this reaction(MIN) algorithm.\n"
     ]
    },
    {
     "name": "stdout",
     "output_type": "stream",
     "text": [
      "0    [main] INFO  net.sf.jnati.deploy.artefact.ConfigManager  - Loading global configuration\n",
      "11   [main] DEBUG net.sf.jnati.deploy.artefact.ConfigManager  - Loading defaults: jar:file:/Users/krv114/Documents/GitHub/incawrapper/docs/examples/Literature%20data/wasylenko/RDT.jar!/META-INF/jnati/jnati.default-properties\n",
      "12   [main] INFO  net.sf.jnati.deploy.artefact.ConfigManager  - Loading artefact configuration: jniinchi-1.03_1\n",
      "14   [main] DEBUG net.sf.jnati.deploy.artefact.ConfigManager  - Loading instance defaults: jar:file:/Users/krv114/Documents/GitHub/incawrapper/docs/examples/Literature%20data/wasylenko/RDT.jar!/META-INF/jnati/jnati.instance.default-properties\n",
      "18   [main] INFO  net.sf.jnati.deploy.repository.ClasspathRepository  - Searching classpath for: jniinchi-1.03_1-MAC-X86_64\n",
      "19   [main] INFO  net.sf.jnati.deploy.repository.LocalRepository  - Searching local repository for: jniinchi-1.03_1-MAC-X86_64\n",
      "19   [main] DEBUG net.sf.jnati.deploy.repository.LocalRepository  - Artefact path: /Users/krv114/.jnati/repo/jniinchi/1.03_1/MAC-X86_64\n",
      "20   [main] INFO  net.sf.jnati.deploy.artefact.ManifestReader  - Reading manifest\n",
      "51   [main] INFO  net.sf.jnati.deploy.NativeArtefactLocator  - Artefact (jniinchi-1.03_1-MAC-X86_64) location: /Users/krv114/.jnati/repo/jniinchi/1.03_1/MAC-X86_64\n",
      "51   [main] DEBUG net.sf.jnati.deploy.NativeLibraryLoader  - Loading library: /Users/krv114/.jnati/repo/jniinchi/1.03_1/MAC-X86_64/JniInchi-1.03_1-MAC-X86_64\n"
     ]
    },
    {
     "name": "stderr",
     "output_type": "stream",
     "text": [
      "uk.ac.ebi.reactionblast.mechanism.ReactionMechanismTool WARN: Unmapped atoms present in this reaction(MAX) algorithm.\n",
      "uk.ac.ebi.reactionblast.mechanism.ReactionMechanismTool WARN: Unmapped atoms present in this reaction(MIXTURE) algorithm.\n"
     ]
    },
    {
     "name": "stdout",
     "output_type": "stream",
     "text": [
      "Mapped RXN File /Users/krv114/Documents/GitHub/incawrapper/docs/examples/Literature data/wasylenko/mappedRxns/ECBLAST_56_AAM.rxn\n"
     ]
    },
    {
     "name": "stderr",
     "output_type": "stream",
     "text": [
      "Warning: the fonts \"Times\" and \"Times\" are not available for the Java logical font \"Serif\", which may have unexpected appearance or behavior. Re-enable the \"Times\" font to remove this warning.\n"
     ]
    },
    {
     "name": "stdout",
     "output_type": "stream",
     "text": [
      "Annotated RXN Image /Users/krv114/Documents/GitHub/incawrapper/docs/examples/Literature data/wasylenko/mappedRxns/ECBLAST_56_AAM.png\n",
      "Output is presented in text format: /Users/krv114/Documents/GitHub/incawrapper/docs/examples/Literature data/wasylenko/mappedRxns/ECBLAST_56_AAM.txt\n",
      "!--------------------------------------------------------\n",
      "Reaction Decoder Tool (RDT)\n",
      "\n",
      "Author: Syed Asad Rahman\n",
      "e-mail: asad@ebi.ac.uk|s9asad@gmail.com\n",
      "c/o EMBL-European BioInformatics Institute (EBI)\n",
      "WTGC, CB10 1SD Hinxton\n",
      "UK\n",
      "\n",
      "Note: The copyright of this software belongs to the author\n",
      "and EMBL-European BioInformatics Institute (EBI).\n",
      "\n",
      "Reference\n",
      "Rahman, S.A. et.al.(2016) Reaction Decoder Tool (RDT):\n",
      "Extracting Features from Chemical Reactions, Bioinformatics (2016)\n",
      "doi: 10.1093/bioinformatics/btw096\n",
      "!--------------------------------------------------------\n",
      "\n",
      "-- AAM --\n",
      "Mapped RXN File /Users/krv114/Documents/GitHub/incawrapper/docs/examples/Literature data/wasylenko/mappedRxns/ECBLAST_43_AAM.rxn\n"
     ]
    },
    {
     "name": "stderr",
     "output_type": "stream",
     "text": [
      "Warning: the fonts \"Times\" and \"Times\" are not available for the Java logical font \"Serif\", which may have unexpected appearance or behavior. Re-enable the \"Times\" font to remove this warning.\n"
     ]
    },
    {
     "name": "stdout",
     "output_type": "stream",
     "text": [
      "Annotated RXN Image /Users/krv114/Documents/GitHub/incawrapper/docs/examples/Literature data/wasylenko/mappedRxns/ECBLAST_43_AAM.png\n",
      "Output is presented in text format: /Users/krv114/Documents/GitHub/incawrapper/docs/examples/Literature data/wasylenko/mappedRxns/ECBLAST_43_AAM.txt\n",
      "!--------------------------------------------------------\n",
      "Reaction Decoder Tool (RDT)\n",
      "\n",
      "Author: Syed Asad Rahman\n",
      "e-mail: asad@ebi.ac.uk|s9asad@gmail.com\n",
      "c/o EMBL-European BioInformatics Institute (EBI)\n",
      "WTGC, CB10 1SD Hinxton\n",
      "UK\n",
      "\n",
      "Note: The copyright of this software belongs to the author\n",
      "and EMBL-European BioInformatics Institute (EBI).\n",
      "\n",
      "Reference\n",
      "Rahman, S.A. et.al.(2016) Reaction Decoder Tool (RDT):\n",
      "Extracting Features from Chemical Reactions, Bioinformatics (2016)\n",
      "doi: 10.1093/bioinformatics/btw096\n",
      "!--------------------------------------------------------\n",
      "\n",
      "-- AAM --\n",
      "Mapped RXN File /Users/krv114/Documents/GitHub/incawrapper/docs/examples/Literature data/wasylenko/mappedRxns/ECBLAST_94_AAM.rxn\n"
     ]
    },
    {
     "name": "stderr",
     "output_type": "stream",
     "text": [
      "Warning: the fonts \"Times\" and \"Times\" are not available for the Java logical font \"Serif\", which may have unexpected appearance or behavior. Re-enable the \"Times\" font to remove this warning.\n"
     ]
    },
    {
     "name": "stdout",
     "output_type": "stream",
     "text": [
      "Annotated RXN Image /Users/krv114/Documents/GitHub/incawrapper/docs/examples/Literature data/wasylenko/mappedRxns/ECBLAST_94_AAM.png\n",
      "Output is presented in text format: /Users/krv114/Documents/GitHub/incawrapper/docs/examples/Literature data/wasylenko/mappedRxns/ECBLAST_94_AAM.txt\n",
      "!--------------------------------------------------------\n",
      "Reaction Decoder Tool (RDT)\n",
      "\n",
      "Author: Syed Asad Rahman\n",
      "e-mail: asad@ebi.ac.uk|s9asad@gmail.com\n",
      "c/o EMBL-European BioInformatics Institute (EBI)\n",
      "WTGC, CB10 1SD Hinxton\n",
      "UK\n",
      "\n",
      "Note: The copyright of this software belongs to the author\n",
      "and EMBL-European BioInformatics Institute (EBI).\n",
      "\n",
      "Reference\n",
      "Rahman, S.A. et.al.(2016) Reaction Decoder Tool (RDT):\n",
      "Extracting Features from Chemical Reactions, Bioinformatics (2016)\n",
      "doi: 10.1093/bioinformatics/btw096\n",
      "!--------------------------------------------------------\n",
      "\n",
      "-- AAM --\n"
     ]
    },
    {
     "name": "stderr",
     "output_type": "stream",
     "text": [
      "uk.ac.ebi.reactionblast.mechanism.ReactionMechanismTool WARN: Number of atom(s) on the Left side 102 =/= Number of atom(s) on the Right side 54\n",
      "uk.ac.ebi.reactionblast.mechanism.ReactionMechanismTool WARN: {C=46, N=14, O=34, P=6, S=2} =/= {C=25, N=7, O=18, P=3, S=1}\n",
      "uk.ac.ebi.reactionblast.mechanism.ReactionMechanismTool WARN: Unmapped atoms present in this reaction(MIN) algorithm.\n"
     ]
    },
    {
     "name": "stdout",
     "output_type": "stream",
     "text": [
      "0    [main] INFO  net.sf.jnati.deploy.artefact.ConfigManager  - Loading global configuration\n",
      "11   [main] DEBUG net.sf.jnati.deploy.artefact.ConfigManager  - Loading defaults: jar:file:/Users/krv114/Documents/GitHub/incawrapper/docs/examples/Literature%20data/wasylenko/RDT.jar!/META-INF/jnati/jnati.default-properties\n",
      "12   [main] INFO  net.sf.jnati.deploy.artefact.ConfigManager  - Loading artefact configuration: jniinchi-1.03_1\n",
      "17   [main] DEBUG net.sf.jnati.deploy.artefact.ConfigManager  - Loading instance defaults: jar:file:/Users/krv114/Documents/GitHub/incawrapper/docs/examples/Literature%20data/wasylenko/RDT.jar!/META-INF/jnati/jnati.instance.default-properties\n",
      "19   [main] INFO  net.sf.jnati.deploy.repository.ClasspathRepository  - Searching classpath for: jniinchi-1.03_1-MAC-X86_64\n",
      "20   [main] INFO  net.sf.jnati.deploy.repository.LocalRepository  - Searching local repository for: jniinchi-1.03_1-MAC-X86_64\n",
      "20   [main] DEBUG net.sf.jnati.deploy.repository.LocalRepository  - Artefact path: /Users/krv114/.jnati/repo/jniinchi/1.03_1/MAC-X86_64\n",
      "21   [main] INFO  net.sf.jnati.deploy.artefact.ManifestReader  - Reading manifest\n",
      "53   [main] INFO  net.sf.jnati.deploy.NativeArtefactLocator  - Artefact (jniinchi-1.03_1-MAC-X86_64) location: /Users/krv114/.jnati/repo/jniinchi/1.03_1/MAC-X86_64\n",
      "54   [main] DEBUG net.sf.jnati.deploy.NativeLibraryLoader  - Loading library: /Users/krv114/.jnati/repo/jniinchi/1.03_1/MAC-X86_64/JniInchi-1.03_1-MAC-X86_64\n"
     ]
    },
    {
     "name": "stderr",
     "output_type": "stream",
     "text": [
      "uk.ac.ebi.reactionblast.mechanism.ReactionMechanismTool WARN: Unmapped atoms present in this reaction(MAX) algorithm.\n",
      "uk.ac.ebi.reactionblast.mechanism.ReactionMechanismTool WARN: Unmapped atoms present in this reaction(MIXTURE) algorithm.\n"
     ]
    },
    {
     "name": "stdout",
     "output_type": "stream",
     "text": [
      "Mapped RXN File /Users/krv114/Documents/GitHub/incawrapper/docs/examples/Literature data/wasylenko/mappedRxns/ECBLAST_82_AAM.rxn\n"
     ]
    },
    {
     "name": "stderr",
     "output_type": "stream",
     "text": [
      "Warning: the fonts \"Times\" and \"Times\" are not available for the Java logical font \"Serif\", which may have unexpected appearance or behavior. Re-enable the \"Times\" font to remove this warning.\n"
     ]
    },
    {
     "name": "stdout",
     "output_type": "stream",
     "text": [
      "Annotated RXN Image /Users/krv114/Documents/GitHub/incawrapper/docs/examples/Literature data/wasylenko/mappedRxns/ECBLAST_82_AAM.png\n",
      "Output is presented in text format: /Users/krv114/Documents/GitHub/incawrapper/docs/examples/Literature data/wasylenko/mappedRxns/ECBLAST_82_AAM.txt\n",
      "!--------------------------------------------------------\n",
      "Reaction Decoder Tool (RDT)\n",
      "\n",
      "Author: Syed Asad Rahman\n",
      "e-mail: asad@ebi.ac.uk|s9asad@gmail.com\n",
      "c/o EMBL-European BioInformatics Institute (EBI)\n",
      "WTGC, CB10 1SD Hinxton\n",
      "UK\n",
      "\n",
      "Note: The copyright of this software belongs to the author\n",
      "and EMBL-European BioInformatics Institute (EBI).\n",
      "\n",
      "Reference\n",
      "Rahman, S.A. et.al.(2016) Reaction Decoder Tool (RDT):\n",
      "Extracting Features from Chemical Reactions, Bioinformatics (2016)\n",
      "doi: 10.1093/bioinformatics/btw096\n",
      "!--------------------------------------------------------\n",
      "\n",
      "-- AAM --\n",
      "0    [main] INFO  net.sf.jnati.deploy.artefact.ConfigManager  - Loading global configuration\n",
      "10   [main] DEBUG net.sf.jnati.deploy.artefact.ConfigManager  - Loading defaults: jar:file:/Users/krv114/Documents/GitHub/incawrapper/docs/examples/Literature%20data/wasylenko/RDT.jar!/META-INF/jnati/jnati.default-properties\n",
      "11   [main] INFO  net.sf.jnati.deploy.artefact.ConfigManager  - Loading artefact configuration: jniinchi-1.03_1\n",
      "14   [main] DEBUG net.sf.jnati.deploy.artefact.ConfigManager  - Loading instance defaults: jar:file:/Users/krv114/Documents/GitHub/incawrapper/docs/examples/Literature%20data/wasylenko/RDT.jar!/META-INF/jnati/jnati.instance.default-properties\n",
      "16   [main] INFO  net.sf.jnati.deploy.repository.ClasspathRepository  - Searching classpath for: jniinchi-1.03_1-MAC-X86_64\n",
      "17   [main] INFO  net.sf.jnati.deploy.repository.LocalRepository  - Searching local repository for: jniinchi-1.03_1-MAC-X86_64\n",
      "17   [main] DEBUG net.sf.jnati.deploy.repository.LocalRepository  - Artefact path: /Users/krv114/.jnati/repo/jniinchi/1.03_1/MAC-X86_64\n",
      "18   [main] INFO  net.sf.jnati.deploy.artefact.ManifestReader  - Reading manifest\n",
      "47   [main] INFO  net.sf.jnati.deploy.NativeArtefactLocator  - Artefact (jniinchi-1.03_1-MAC-X86_64) location: /Users/krv114/.jnati/repo/jniinchi/1.03_1/MAC-X86_64\n",
      "47   [main] DEBUG net.sf.jnati.deploy.NativeLibraryLoader  - Loading library: /Users/krv114/.jnati/repo/jniinchi/1.03_1/MAC-X86_64/JniInchi-1.03_1-MAC-X86_64\n",
      "Mapped RXN File /Users/krv114/Documents/GitHub/incawrapper/docs/examples/Literature data/wasylenko/mappedRxns/ECBLAST_55_AAM.rxn\n"
     ]
    },
    {
     "name": "stderr",
     "output_type": "stream",
     "text": [
      "Warning: the fonts \"Times\" and \"Times\" are not available for the Java logical font \"Serif\", which may have unexpected appearance or behavior. Re-enable the \"Times\" font to remove this warning.\n"
     ]
    },
    {
     "name": "stdout",
     "output_type": "stream",
     "text": [
      "Annotated RXN Image /Users/krv114/Documents/GitHub/incawrapper/docs/examples/Literature data/wasylenko/mappedRxns/ECBLAST_55_AAM.png\n",
      "Output is presented in text format: /Users/krv114/Documents/GitHub/incawrapper/docs/examples/Literature data/wasylenko/mappedRxns/ECBLAST_55_AAM.txt\n",
      "!--------------------------------------------------------\n",
      "Reaction Decoder Tool (RDT)\n",
      "\n",
      "Author: Syed Asad Rahman\n",
      "e-mail: asad@ebi.ac.uk|s9asad@gmail.com\n",
      "c/o EMBL-European BioInformatics Institute (EBI)\n",
      "WTGC, CB10 1SD Hinxton\n",
      "UK\n",
      "\n",
      "Note: The copyright of this software belongs to the author\n",
      "and EMBL-European BioInformatics Institute (EBI).\n",
      "\n",
      "Reference\n",
      "Rahman, S.A. et.al.(2016) Reaction Decoder Tool (RDT):\n",
      "Extracting Features from Chemical Reactions, Bioinformatics (2016)\n",
      "doi: 10.1093/bioinformatics/btw096\n",
      "!--------------------------------------------------------\n",
      "\n",
      "-- AAM --\n",
      "Mapped RXN File /Users/krv114/Documents/GitHub/incawrapper/docs/examples/Literature data/wasylenko/mappedRxns/ECBLAST_7_AAM.rxn\n"
     ]
    },
    {
     "name": "stderr",
     "output_type": "stream",
     "text": [
      "Warning: the fonts \"Times\" and \"Times\" are not available for the Java logical font \"Serif\", which may have unexpected appearance or behavior. Re-enable the \"Times\" font to remove this warning.\n"
     ]
    },
    {
     "name": "stdout",
     "output_type": "stream",
     "text": [
      "Annotated RXN Image /Users/krv114/Documents/GitHub/incawrapper/docs/examples/Literature data/wasylenko/mappedRxns/ECBLAST_7_AAM.png\n",
      "Output is presented in text format: /Users/krv114/Documents/GitHub/incawrapper/docs/examples/Literature data/wasylenko/mappedRxns/ECBLAST_7_AAM.txt\n",
      "!--------------------------------------------------------\n",
      "Reaction Decoder Tool (RDT)\n",
      "\n",
      "Author: Syed Asad Rahman\n",
      "e-mail: asad@ebi.ac.uk|s9asad@gmail.com\n",
      "c/o EMBL-European BioInformatics Institute (EBI)\n",
      "WTGC, CB10 1SD Hinxton\n",
      "UK\n",
      "\n",
      "Note: The copyright of this software belongs to the author\n",
      "and EMBL-European BioInformatics Institute (EBI).\n",
      "\n",
      "Reference\n",
      "Rahman, S.A. et.al.(2016) Reaction Decoder Tool (RDT):\n",
      "Extracting Features from Chemical Reactions, Bioinformatics (2016)\n",
      "doi: 10.1093/bioinformatics/btw096\n",
      "!--------------------------------------------------------\n",
      "\n",
      "-- AAM --\n"
     ]
    },
    {
     "name": "stderr",
     "output_type": "stream",
     "text": [
      "uk.ac.ebi.reactionblast.mechanism.ReactionMechanismTool WARN: Number of atom(s) on the Left side 32 =/= Number of atom(s) on the Right side 31\n",
      "uk.ac.ebi.reactionblast.mechanism.ReactionMechanismTool WARN: {C=14, N=5, O=12, P=1} =/= {C=14, N=5, O=11, P=1}\n",
      "uk.ac.ebi.reactionblast.mechanism.ReactionMechanismTool WARN: Unmapped atoms present in this reaction(MIN) algorithm.\n"
     ]
    },
    {
     "name": "stdout",
     "output_type": "stream",
     "text": [
      "0    [main] INFO  net.sf.jnati.deploy.artefact.ConfigManager  - Loading global configuration\n",
      "9    [main] DEBUG net.sf.jnati.deploy.artefact.ConfigManager  - Loading defaults: jar:file:/Users/krv114/Documents/GitHub/incawrapper/docs/examples/Literature%20data/wasylenko/RDT.jar!/META-INF/jnati/jnati.default-properties\n",
      "10   [main] INFO  net.sf.jnati.deploy.artefact.ConfigManager  - Loading artefact configuration: jniinchi-1.03_1\n",
      "11   [main] DEBUG net.sf.jnati.deploy.artefact.ConfigManager  - Loading instance defaults: jar:file:/Users/krv114/Documents/GitHub/incawrapper/docs/examples/Literature%20data/wasylenko/RDT.jar!/META-INF/jnati/jnati.instance.default-properties\n",
      "13   [main] INFO  net.sf.jnati.deploy.repository.ClasspathRepository  - Searching classpath for: jniinchi-1.03_1-MAC-X86_64\n",
      "15   [main] INFO  net.sf.jnati.deploy.repository.LocalRepository  - Searching local repository for: jniinchi-1.03_1-MAC-X86_64\n",
      "15   [main] DEBUG net.sf.jnati.deploy.repository.LocalRepository  - Artefact path: /Users/krv114/.jnati/repo/jniinchi/1.03_1/MAC-X86_64\n",
      "15   [main] INFO  net.sf.jnati.deploy.artefact.ManifestReader  - Reading manifest\n",
      "47   [main] INFO  net.sf.jnati.deploy.NativeArtefactLocator  - Artefact (jniinchi-1.03_1-MAC-X86_64) location: /Users/krv114/.jnati/repo/jniinchi/1.03_1/MAC-X86_64\n",
      "48   [main] DEBUG net.sf.jnati.deploy.NativeLibraryLoader  - Loading library: /Users/krv114/.jnati/repo/jniinchi/1.03_1/MAC-X86_64/JniInchi-1.03_1-MAC-X86_64\n"
     ]
    },
    {
     "name": "stderr",
     "output_type": "stream",
     "text": [
      "uk.ac.ebi.reactionblast.mechanism.ReactionMechanismTool WARN: Unmapped atoms present in this reaction(MAX) algorithm.\n",
      "uk.ac.ebi.reactionblast.mechanism.ReactionMechanismTool WARN: Unmapped atoms present in this reaction(MIXTURE) algorithm.\n"
     ]
    },
    {
     "name": "stdout",
     "output_type": "stream",
     "text": [
      "Mapped RXN File /Users/krv114/Documents/GitHub/incawrapper/docs/examples/Literature data/wasylenko/mappedRxns/ECBLAST_69_AAM.rxn\n"
     ]
    },
    {
     "name": "stderr",
     "output_type": "stream",
     "text": [
      "Warning: the fonts \"Times\" and \"Times\" are not available for the Java logical font \"Serif\", which may have unexpected appearance or behavior. Re-enable the \"Times\" font to remove this warning.\n"
     ]
    },
    {
     "name": "stdout",
     "output_type": "stream",
     "text": [
      "Annotated RXN Image /Users/krv114/Documents/GitHub/incawrapper/docs/examples/Literature data/wasylenko/mappedRxns/ECBLAST_69_AAM.png\n",
      "Output is presented in text format: /Users/krv114/Documents/GitHub/incawrapper/docs/examples/Literature data/wasylenko/mappedRxns/ECBLAST_69_AAM.txt\n",
      "!--------------------------------------------------------\n",
      "Reaction Decoder Tool (RDT)\n",
      "\n",
      "Author: Syed Asad Rahman\n",
      "e-mail: asad@ebi.ac.uk|s9asad@gmail.com\n",
      "c/o EMBL-European BioInformatics Institute (EBI)\n",
      "WTGC, CB10 1SD Hinxton\n",
      "UK\n",
      "\n",
      "Note: The copyright of this software belongs to the author\n",
      "and EMBL-European BioInformatics Institute (EBI).\n",
      "\n",
      "Reference\n",
      "Rahman, S.A. et.al.(2016) Reaction Decoder Tool (RDT):\n",
      "Extracting Features from Chemical Reactions, Bioinformatics (2016)\n",
      "doi: 10.1093/bioinformatics/btw096\n",
      "!--------------------------------------------------------\n",
      "\n",
      "-- AAM --\n"
     ]
    },
    {
     "name": "stderr",
     "output_type": "stream",
     "text": [
      "uk.ac.ebi.reactionblast.mechanism.ReactionMechanismTool WARN: Number of atom(s) on the Left side 21 =/= Number of atom(s) on the Right side 17\n",
      "uk.ac.ebi.reactionblast.mechanism.ReactionMechanismTool WARN: {C=8, N=1, O=11, P=1} =/= {C=8, N=1, O=8}\n",
      "uk.ac.ebi.reactionblast.mechanism.ReactionMechanismTool WARN: Unmapped atoms present in this reaction(MIN) algorithm.\n"
     ]
    },
    {
     "name": "stdout",
     "output_type": "stream",
     "text": [
      "0    [main] INFO  net.sf.jnati.deploy.artefact.ConfigManager  - Loading global configuration\n",
      "9    [main] DEBUG net.sf.jnati.deploy.artefact.ConfigManager  - Loading defaults: jar:file:/Users/krv114/Documents/GitHub/incawrapper/docs/examples/Literature%20data/wasylenko/RDT.jar!/META-INF/jnati/jnati.default-properties\n",
      "10   [main] INFO  net.sf.jnati.deploy.artefact.ConfigManager  - Loading artefact configuration: jniinchi-1.03_1\n",
      "11   [main] DEBUG net.sf.jnati.deploy.artefact.ConfigManager  - Loading instance defaults: jar:file:/Users/krv114/Documents/GitHub/incawrapper/docs/examples/Literature%20data/wasylenko/RDT.jar!/META-INF/jnati/jnati.instance.default-properties\n",
      "13   [main] INFO  net.sf.jnati.deploy.repository.ClasspathRepository  - Searching classpath for: jniinchi-1.03_1-MAC-X86_64\n",
      "14   [main] INFO  net.sf.jnati.deploy.repository.LocalRepository  - Searching local repository for: jniinchi-1.03_1-MAC-X86_64\n",
      "14   [main] DEBUG net.sf.jnati.deploy.repository.LocalRepository  - Artefact path: /Users/krv114/.jnati/repo/jniinchi/1.03_1/MAC-X86_64\n",
      "14   [main] INFO  net.sf.jnati.deploy.artefact.ManifestReader  - Reading manifest\n",
      "43   [main] INFO  net.sf.jnati.deploy.NativeArtefactLocator  - Artefact (jniinchi-1.03_1-MAC-X86_64) location: /Users/krv114/.jnati/repo/jniinchi/1.03_1/MAC-X86_64\n",
      "43   [main] DEBUG net.sf.jnati.deploy.NativeLibraryLoader  - Loading library: /Users/krv114/.jnati/repo/jniinchi/1.03_1/MAC-X86_64/JniInchi-1.03_1-MAC-X86_64\n"
     ]
    },
    {
     "name": "stderr",
     "output_type": "stream",
     "text": [
      "uk.ac.ebi.reactionblast.mechanism.ReactionMechanismTool WARN: Unmapped atoms present in this reaction(MAX) algorithm.\n",
      "uk.ac.ebi.reactionblast.mechanism.ReactionMechanismTool WARN: Unmapped atoms present in this reaction(MIXTURE) algorithm.\n"
     ]
    },
    {
     "name": "stdout",
     "output_type": "stream",
     "text": [
      "Mapped RXN File /Users/krv114/Documents/GitHub/incawrapper/docs/examples/Literature data/wasylenko/mappedRxns/ECBLAST_40_AAM.rxn\n"
     ]
    },
    {
     "name": "stderr",
     "output_type": "stream",
     "text": [
      "Warning: the fonts \"Times\" and \"Times\" are not available for the Java logical font \"Serif\", which may have unexpected appearance or behavior. Re-enable the \"Times\" font to remove this warning.\n"
     ]
    },
    {
     "name": "stdout",
     "output_type": "stream",
     "text": [
      "Annotated RXN Image /Users/krv114/Documents/GitHub/incawrapper/docs/examples/Literature data/wasylenko/mappedRxns/ECBLAST_40_AAM.png\n",
      "Output is presented in text format: /Users/krv114/Documents/GitHub/incawrapper/docs/examples/Literature data/wasylenko/mappedRxns/ECBLAST_40_AAM.txt\n",
      "!--------------------------------------------------------\n",
      "Reaction Decoder Tool (RDT)\n",
      "\n",
      "Author: Syed Asad Rahman\n",
      "e-mail: asad@ebi.ac.uk|s9asad@gmail.com\n",
      "c/o EMBL-European BioInformatics Institute (EBI)\n",
      "WTGC, CB10 1SD Hinxton\n",
      "UK\n",
      "\n",
      "Note: The copyright of this software belongs to the author\n",
      "and EMBL-European BioInformatics Institute (EBI).\n",
      "\n",
      "Reference\n",
      "Rahman, S.A. et.al.(2016) Reaction Decoder Tool (RDT):\n",
      "Extracting Features from Chemical Reactions, Bioinformatics (2016)\n",
      "doi: 10.1093/bioinformatics/btw096\n",
      "!--------------------------------------------------------\n",
      "\n",
      "-- AAM --\n"
     ]
    },
    {
     "name": "stderr",
     "output_type": "stream",
     "text": [
      "uk.ac.ebi.reactionblast.mechanism.ReactionMechanismTool WARN: Number of atom(s) on the Left side 9 =/= Number of atom(s) on the Right side 8\n",
      "uk.ac.ebi.reactionblast.mechanism.ReactionMechanismTool WARN: {C=4, N=1, O=4} =/= {C=4, N=1, O=3}\n",
      "uk.ac.ebi.reactionblast.mechanism.ReactionMechanismTool WARN: Unmapped atoms present in this reaction(MIN) algorithm.\n"
     ]
    },
    {
     "name": "stdout",
     "output_type": "stream",
     "text": [
      "0    [main] INFO  net.sf.jnati.deploy.artefact.ConfigManager  - Loading global configuration\n",
      "8    [main] DEBUG net.sf.jnati.deploy.artefact.ConfigManager  - Loading defaults: jar:file:/Users/krv114/Documents/GitHub/incawrapper/docs/examples/Literature%20data/wasylenko/RDT.jar!/META-INF/jnati/jnati.default-properties\n",
      "9    [main] INFO  net.sf.jnati.deploy.artefact.ConfigManager  - Loading artefact configuration: jniinchi-1.03_1\n",
      "12   [main] DEBUG net.sf.jnati.deploy.artefact.ConfigManager  - Loading instance defaults: jar:file:/Users/krv114/Documents/GitHub/incawrapper/docs/examples/Literature%20data/wasylenko/RDT.jar!/META-INF/jnati/jnati.instance.default-properties\n",
      "14   [main] INFO  net.sf.jnati.deploy.repository.ClasspathRepository  - Searching classpath for: jniinchi-1.03_1-MAC-X86_64\n",
      "15   [main] INFO  net.sf.jnati.deploy.repository.LocalRepository  - Searching local repository for: jniinchi-1.03_1-MAC-X86_64\n",
      "15   [main] DEBUG net.sf.jnati.deploy.repository.LocalRepository  - Artefact path: /Users/krv114/.jnati/repo/jniinchi/1.03_1/MAC-X86_64\n",
      "16   [main] INFO  net.sf.jnati.deploy.artefact.ManifestReader  - Reading manifest\n",
      "46   [main] INFO  net.sf.jnati.deploy.NativeArtefactLocator  - Artefact (jniinchi-1.03_1-MAC-X86_64) location: /Users/krv114/.jnati/repo/jniinchi/1.03_1/MAC-X86_64\n",
      "46   [main] DEBUG net.sf.jnati.deploy.NativeLibraryLoader  - Loading library: /Users/krv114/.jnati/repo/jniinchi/1.03_1/MAC-X86_64/JniInchi-1.03_1-MAC-X86_64\n"
     ]
    },
    {
     "name": "stderr",
     "output_type": "stream",
     "text": [
      "uk.ac.ebi.reactionblast.mechanism.ReactionMechanismTool WARN: Unmapped atoms present in this reaction(MAX) algorithm.\n",
      "uk.ac.ebi.reactionblast.mechanism.ReactionMechanismTool WARN: Unmapped atoms present in this reaction(MIXTURE) algorithm.\n"
     ]
    },
    {
     "name": "stdout",
     "output_type": "stream",
     "text": [
      "Mapped RXN File /Users/krv114/Documents/GitHub/incawrapper/docs/examples/Literature data/wasylenko/mappedRxns/ECBLAST_54_AAM.rxn\n"
     ]
    },
    {
     "name": "stderr",
     "output_type": "stream",
     "text": [
      "Warning: the fonts \"Times\" and \"Times\" are not available for the Java logical font \"Serif\", which may have unexpected appearance or behavior. Re-enable the \"Times\" font to remove this warning.\n"
     ]
    },
    {
     "name": "stdout",
     "output_type": "stream",
     "text": [
      "Annotated RXN Image /Users/krv114/Documents/GitHub/incawrapper/docs/examples/Literature data/wasylenko/mappedRxns/ECBLAST_54_AAM.png\n",
      "Output is presented in text format: /Users/krv114/Documents/GitHub/incawrapper/docs/examples/Literature data/wasylenko/mappedRxns/ECBLAST_54_AAM.txt\n",
      "!--------------------------------------------------------\n",
      "Reaction Decoder Tool (RDT)\n",
      "\n",
      "Author: Syed Asad Rahman\n",
      "e-mail: asad@ebi.ac.uk|s9asad@gmail.com\n",
      "c/o EMBL-European BioInformatics Institute (EBI)\n",
      "WTGC, CB10 1SD Hinxton\n",
      "UK\n",
      "\n",
      "Note: The copyright of this software belongs to the author\n",
      "and EMBL-European BioInformatics Institute (EBI).\n",
      "\n",
      "Reference\n",
      "Rahman, S.A. et.al.(2016) Reaction Decoder Tool (RDT):\n",
      "Extracting Features from Chemical Reactions, Bioinformatics (2016)\n",
      "doi: 10.1093/bioinformatics/btw096\n",
      "!--------------------------------------------------------\n",
      "\n",
      "-- AAM --\n",
      "Mapped RXN File /Users/krv114/Documents/GitHub/incawrapper/docs/examples/Literature data/wasylenko/mappedRxns/ECBLAST_6_AAM.rxn\n"
     ]
    },
    {
     "name": "stderr",
     "output_type": "stream",
     "text": [
      "Warning: the fonts \"Times\" and \"Times\" are not available for the Java logical font \"Serif\", which may have unexpected appearance or behavior. Re-enable the \"Times\" font to remove this warning.\n"
     ]
    },
    {
     "name": "stdout",
     "output_type": "stream",
     "text": [
      "Annotated RXN Image /Users/krv114/Documents/GitHub/incawrapper/docs/examples/Literature data/wasylenko/mappedRxns/ECBLAST_6_AAM.png\n",
      "Output is presented in text format: /Users/krv114/Documents/GitHub/incawrapper/docs/examples/Literature data/wasylenko/mappedRxns/ECBLAST_6_AAM.txt\n",
      "!--------------------------------------------------------\n",
      "Reaction Decoder Tool (RDT)\n",
      "\n",
      "Author: Syed Asad Rahman\n",
      "e-mail: asad@ebi.ac.uk|s9asad@gmail.com\n",
      "c/o EMBL-European BioInformatics Institute (EBI)\n",
      "WTGC, CB10 1SD Hinxton\n",
      "UK\n",
      "\n",
      "Note: The copyright of this software belongs to the author\n",
      "and EMBL-European BioInformatics Institute (EBI).\n",
      "\n",
      "Reference\n",
      "Rahman, S.A. et.al.(2016) Reaction Decoder Tool (RDT):\n",
      "Extracting Features from Chemical Reactions, Bioinformatics (2016)\n",
      "doi: 10.1093/bioinformatics/btw096\n",
      "!--------------------------------------------------------\n",
      "\n",
      "-- AAM --\n"
     ]
    },
    {
     "name": "stderr",
     "output_type": "stream",
     "text": [
      "uk.ac.ebi.reactionblast.mechanism.ReactionMechanismTool WARN: Number of atom(s) on the Left side 105 =/= Number of atom(s) on the Right side 58\n",
      "uk.ac.ebi.reactionblast.mechanism.ReactionMechanismTool WARN: {C=48, N=14, O=35, P=6, S=2} =/= {C=27, N=7, O=20, P=3, S=1}\n",
      "uk.ac.ebi.reactionblast.mechanism.ReactionMechanismTool WARN: Unmapped atoms present in this reaction(MIN) algorithm.\n"
     ]
    },
    {
     "name": "stdout",
     "output_type": "stream",
     "text": [
      "0    [main] INFO  net.sf.jnati.deploy.artefact.ConfigManager  - Loading global configuration\n",
      "13   [main] DEBUG net.sf.jnati.deploy.artefact.ConfigManager  - Loading defaults: jar:file:/Users/krv114/Documents/GitHub/incawrapper/docs/examples/Literature%20data/wasylenko/RDT.jar!/META-INF/jnati/jnati.default-properties\n",
      "15   [main] INFO  net.sf.jnati.deploy.artefact.ConfigManager  - Loading artefact configuration: jniinchi-1.03_1\n",
      "20   [main] DEBUG net.sf.jnati.deploy.artefact.ConfigManager  - Loading instance defaults: jar:file:/Users/krv114/Documents/GitHub/incawrapper/docs/examples/Literature%20data/wasylenko/RDT.jar!/META-INF/jnati/jnati.instance.default-properties\n",
      "22   [main] INFO  net.sf.jnati.deploy.repository.ClasspathRepository  - Searching classpath for: jniinchi-1.03_1-MAC-X86_64\n",
      "24   [main] INFO  net.sf.jnati.deploy.repository.LocalRepository  - Searching local repository for: jniinchi-1.03_1-MAC-X86_64\n",
      "24   [main] DEBUG net.sf.jnati.deploy.repository.LocalRepository  - Artefact path: /Users/krv114/.jnati/repo/jniinchi/1.03_1/MAC-X86_64\n",
      "24   [main] INFO  net.sf.jnati.deploy.artefact.ManifestReader  - Reading manifest\n",
      "54   [main] INFO  net.sf.jnati.deploy.NativeArtefactLocator  - Artefact (jniinchi-1.03_1-MAC-X86_64) location: /Users/krv114/.jnati/repo/jniinchi/1.03_1/MAC-X86_64\n",
      "55   [main] DEBUG net.sf.jnati.deploy.NativeLibraryLoader  - Loading library: /Users/krv114/.jnati/repo/jniinchi/1.03_1/MAC-X86_64/JniInchi-1.03_1-MAC-X86_64\n"
     ]
    },
    {
     "name": "stderr",
     "output_type": "stream",
     "text": [
      "uk.ac.ebi.reactionblast.mechanism.ReactionMechanismTool WARN: Unmapped atoms present in this reaction(MAX) algorithm.\n",
      "uk.ac.ebi.reactionblast.mechanism.ReactionMechanismTool WARN: Unmapped atoms present in this reaction(MIXTURE) algorithm.\n"
     ]
    },
    {
     "name": "stdout",
     "output_type": "stream",
     "text": [
      "Mapped RXN File /Users/krv114/Documents/GitHub/incawrapper/docs/examples/Literature data/wasylenko/mappedRxns/ECBLAST_83_AAM.rxn\n"
     ]
    },
    {
     "name": "stderr",
     "output_type": "stream",
     "text": [
      "Warning: the fonts \"Times\" and \"Times\" are not available for the Java logical font \"Serif\", which may have unexpected appearance or behavior. Re-enable the \"Times\" font to remove this warning.\n"
     ]
    },
    {
     "name": "stdout",
     "output_type": "stream",
     "text": [
      "Annotated RXN Image /Users/krv114/Documents/GitHub/incawrapper/docs/examples/Literature data/wasylenko/mappedRxns/ECBLAST_83_AAM.png\n",
      "Output is presented in text format: /Users/krv114/Documents/GitHub/incawrapper/docs/examples/Literature data/wasylenko/mappedRxns/ECBLAST_83_AAM.txt\n",
      "!--------------------------------------------------------\n",
      "Reaction Decoder Tool (RDT)\n",
      "\n",
      "Author: Syed Asad Rahman\n",
      "e-mail: asad@ebi.ac.uk|s9asad@gmail.com\n",
      "c/o EMBL-European BioInformatics Institute (EBI)\n",
      "WTGC, CB10 1SD Hinxton\n",
      "UK\n",
      "\n",
      "Note: The copyright of this software belongs to the author\n",
      "and EMBL-European BioInformatics Institute (EBI).\n",
      "\n",
      "Reference\n",
      "Rahman, S.A. et.al.(2016) Reaction Decoder Tool (RDT):\n",
      "Extracting Features from Chemical Reactions, Bioinformatics (2016)\n",
      "doi: 10.1093/bioinformatics/btw096\n",
      "!--------------------------------------------------------\n",
      "\n",
      "-- AAM --\n",
      "Mapped RXN File /Users/krv114/Documents/GitHub/incawrapper/docs/examples/Literature data/wasylenko/mappedRxns/ECBLAST_93_AAM.rxn\n"
     ]
    },
    {
     "name": "stderr",
     "output_type": "stream",
     "text": [
      "Warning: the fonts \"Times\" and \"Times\" are not available for the Java logical font \"Serif\", which may have unexpected appearance or behavior. Re-enable the \"Times\" font to remove this warning.\n"
     ]
    },
    {
     "name": "stdout",
     "output_type": "stream",
     "text": [
      "Annotated RXN Image /Users/krv114/Documents/GitHub/incawrapper/docs/examples/Literature data/wasylenko/mappedRxns/ECBLAST_93_AAM.png\n",
      "Output is presented in text format: /Users/krv114/Documents/GitHub/incawrapper/docs/examples/Literature data/wasylenko/mappedRxns/ECBLAST_93_AAM.txt\n",
      "!--------------------------------------------------------\n",
      "Reaction Decoder Tool (RDT)\n",
      "\n",
      "Author: Syed Asad Rahman\n",
      "e-mail: asad@ebi.ac.uk|s9asad@gmail.com\n",
      "c/o EMBL-European BioInformatics Institute (EBI)\n",
      "WTGC, CB10 1SD Hinxton\n",
      "UK\n",
      "\n",
      "Note: The copyright of this software belongs to the author\n",
      "and EMBL-European BioInformatics Institute (EBI).\n",
      "\n",
      "Reference\n",
      "Rahman, S.A. et.al.(2016) Reaction Decoder Tool (RDT):\n",
      "Extracting Features from Chemical Reactions, Bioinformatics (2016)\n",
      "doi: 10.1093/bioinformatics/btw096\n",
      "!--------------------------------------------------------\n",
      "\n",
      "-- AAM --\n"
     ]
    },
    {
     "name": "stderr",
     "output_type": "stream",
     "text": [
      "uk.ac.ebi.reactionblast.mechanism.ReactionMechanismTool WARN: Number of atom(s) on the Left side 84 =/= Number of atom(s) on the Right side 37\n",
      "uk.ac.ebi.reactionblast.mechanism.ReactionMechanismTool WARN: {C=30, O=42, P=12} =/= {C=30, O=7}\n",
      "uk.ac.ebi.reactionblast.mechanism.ReactionMechanismTool WARN: Unmapped atoms present in this reaction(MIN) algorithm.\n"
     ]
    },
    {
     "name": "stdout",
     "output_type": "stream",
     "text": [
      "0    [main] INFO  net.sf.jnati.deploy.artefact.ConfigManager  - Loading global configuration\n",
      "10   [main] DEBUG net.sf.jnati.deploy.artefact.ConfigManager  - Loading defaults: jar:file:/Users/krv114/Documents/GitHub/incawrapper/docs/examples/Literature%20data/wasylenko/RDT.jar!/META-INF/jnati/jnati.default-properties\n",
      "12   [main] INFO  net.sf.jnati.deploy.artefact.ConfigManager  - Loading artefact configuration: jniinchi-1.03_1\n",
      "15   [main] DEBUG net.sf.jnati.deploy.artefact.ConfigManager  - Loading instance defaults: jar:file:/Users/krv114/Documents/GitHub/incawrapper/docs/examples/Literature%20data/wasylenko/RDT.jar!/META-INF/jnati/jnati.instance.default-properties\n",
      "17   [main] INFO  net.sf.jnati.deploy.repository.ClasspathRepository  - Searching classpath for: jniinchi-1.03_1-MAC-X86_64\n",
      "18   [main] INFO  net.sf.jnati.deploy.repository.LocalRepository  - Searching local repository for: jniinchi-1.03_1-MAC-X86_64\n",
      "18   [main] DEBUG net.sf.jnati.deploy.repository.LocalRepository  - Artefact path: /Users/krv114/.jnati/repo/jniinchi/1.03_1/MAC-X86_64\n",
      "18   [main] INFO  net.sf.jnati.deploy.artefact.ManifestReader  - Reading manifest\n",
      "49   [main] INFO  net.sf.jnati.deploy.NativeArtefactLocator  - Artefact (jniinchi-1.03_1-MAC-X86_64) location: /Users/krv114/.jnati/repo/jniinchi/1.03_1/MAC-X86_64\n",
      "49   [main] DEBUG net.sf.jnati.deploy.NativeLibraryLoader  - Loading library: /Users/krv114/.jnati/repo/jniinchi/1.03_1/MAC-X86_64/JniInchi-1.03_1-MAC-X86_64\n"
     ]
    },
    {
     "name": "stderr",
     "output_type": "stream",
     "text": [
      "uk.ac.ebi.reactionblast.mechanism.ReactionMechanismTool WARN: Unmapped atoms present in this reaction(MAX) algorithm.\n",
      "uk.ac.ebi.reactionblast.mechanism.ReactionMechanismTool WARN: Unmapped atoms present in this reaction(MIXTURE) algorithm.\n"
     ]
    },
    {
     "name": "stdout",
     "output_type": "stream",
     "text": [
      "Mapped RXN File /Users/krv114/Documents/GitHub/incawrapper/docs/examples/Literature data/wasylenko/mappedRxns/ECBLAST_87_AAM.rxn\n"
     ]
    },
    {
     "name": "stderr",
     "output_type": "stream",
     "text": [
      "Warning: the fonts \"Times\" and \"Times\" are not available for the Java logical font \"Serif\", which may have unexpected appearance or behavior. Re-enable the \"Times\" font to remove this warning.\n"
     ]
    },
    {
     "name": "stdout",
     "output_type": "stream",
     "text": [
      "Annotated RXN Image /Users/krv114/Documents/GitHub/incawrapper/docs/examples/Literature data/wasylenko/mappedRxns/ECBLAST_87_AAM.png\n",
      "Output is presented in text format: /Users/krv114/Documents/GitHub/incawrapper/docs/examples/Literature data/wasylenko/mappedRxns/ECBLAST_87_AAM.txt\n",
      "!--------------------------------------------------------\n",
      "Reaction Decoder Tool (RDT)\n",
      "\n",
      "Author: Syed Asad Rahman\n",
      "e-mail: asad@ebi.ac.uk|s9asad@gmail.com\n",
      "c/o EMBL-European BioInformatics Institute (EBI)\n",
      "WTGC, CB10 1SD Hinxton\n",
      "UK\n",
      "\n",
      "Note: The copyright of this software belongs to the author\n",
      "and EMBL-European BioInformatics Institute (EBI).\n",
      "\n",
      "Reference\n",
      "Rahman, S.A. et.al.(2016) Reaction Decoder Tool (RDT):\n",
      "Extracting Features from Chemical Reactions, Bioinformatics (2016)\n",
      "doi: 10.1093/bioinformatics/btw096\n",
      "!--------------------------------------------------------\n",
      "\n",
      "-- AAM --\n",
      "Mapped RXN File /Users/krv114/Documents/GitHub/incawrapper/docs/examples/Literature data/wasylenko/mappedRxns/ECBLAST_2_AAM.rxn\n"
     ]
    },
    {
     "name": "stderr",
     "output_type": "stream",
     "text": [
      "Warning: the fonts \"Times\" and \"Times\" are not available for the Java logical font \"Serif\", which may have unexpected appearance or behavior. Re-enable the \"Times\" font to remove this warning.\n"
     ]
    },
    {
     "name": "stdout",
     "output_type": "stream",
     "text": [
      "Annotated RXN Image /Users/krv114/Documents/GitHub/incawrapper/docs/examples/Literature data/wasylenko/mappedRxns/ECBLAST_2_AAM.png\n",
      "Output is presented in text format: /Users/krv114/Documents/GitHub/incawrapper/docs/examples/Literature data/wasylenko/mappedRxns/ECBLAST_2_AAM.txt\n",
      "!--------------------------------------------------------\n",
      "Reaction Decoder Tool (RDT)\n",
      "\n",
      "Author: Syed Asad Rahman\n",
      "e-mail: asad@ebi.ac.uk|s9asad@gmail.com\n",
      "c/o EMBL-European BioInformatics Institute (EBI)\n",
      "WTGC, CB10 1SD Hinxton\n",
      "UK\n",
      "\n",
      "Note: The copyright of this software belongs to the author\n",
      "and EMBL-European BioInformatics Institute (EBI).\n",
      "\n",
      "Reference\n",
      "Rahman, S.A. et.al.(2016) Reaction Decoder Tool (RDT):\n",
      "Extracting Features from Chemical Reactions, Bioinformatics (2016)\n",
      "doi: 10.1093/bioinformatics/btw096\n",
      "!--------------------------------------------------------\n",
      "\n",
      "-- AAM --\n",
      "0    [main] INFO  net.sf.jnati.deploy.artefact.ConfigManager  - Loading global configuration\n",
      "8    [main] DEBUG net.sf.jnati.deploy.artefact.ConfigManager  - Loading defaults: jar:file:/Users/krv114/Documents/GitHub/incawrapper/docs/examples/Literature%20data/wasylenko/RDT.jar!/META-INF/jnati/jnati.default-properties\n",
      "9    [main] INFO  net.sf.jnati.deploy.artefact.ConfigManager  - Loading artefact configuration: jniinchi-1.03_1\n",
      "11   [main] DEBUG net.sf.jnati.deploy.artefact.ConfigManager  - Loading instance defaults: jar:file:/Users/krv114/Documents/GitHub/incawrapper/docs/examples/Literature%20data/wasylenko/RDT.jar!/META-INF/jnati/jnati.instance.default-properties\n",
      "13   [main] INFO  net.sf.jnati.deploy.repository.ClasspathRepository  - Searching classpath for: jniinchi-1.03_1-MAC-X86_64\n",
      "14   [main] INFO  net.sf.jnati.deploy.repository.LocalRepository  - Searching local repository for: jniinchi-1.03_1-MAC-X86_64\n",
      "14   [main] DEBUG net.sf.jnati.deploy.repository.LocalRepository  - Artefact path: /Users/krv114/.jnati/repo/jniinchi/1.03_1/MAC-X86_64\n",
      "14   [main] INFO  net.sf.jnati.deploy.artefact.ManifestReader  - Reading manifest\n",
      "43   [main] INFO  net.sf.jnati.deploy.NativeArtefactLocator  - Artefact (jniinchi-1.03_1-MAC-X86_64) location: /Users/krv114/.jnati/repo/jniinchi/1.03_1/MAC-X86_64\n",
      "43   [main] DEBUG net.sf.jnati.deploy.NativeLibraryLoader  - Loading library: /Users/krv114/.jnati/repo/jniinchi/1.03_1/MAC-X86_64/JniInchi-1.03_1-MAC-X86_64\n",
      "Mapped RXN File /Users/krv114/Documents/GitHub/incawrapper/docs/examples/Literature data/wasylenko/mappedRxns/ECBLAST_50_AAM.rxn\n"
     ]
    },
    {
     "name": "stderr",
     "output_type": "stream",
     "text": [
      "Warning: the fonts \"Times\" and \"Times\" are not available for the Java logical font \"Serif\", which may have unexpected appearance or behavior. Re-enable the \"Times\" font to remove this warning.\n"
     ]
    },
    {
     "name": "stdout",
     "output_type": "stream",
     "text": [
      "Annotated RXN Image /Users/krv114/Documents/GitHub/incawrapper/docs/examples/Literature data/wasylenko/mappedRxns/ECBLAST_50_AAM.png\n",
      "Output is presented in text format: /Users/krv114/Documents/GitHub/incawrapper/docs/examples/Literature data/wasylenko/mappedRxns/ECBLAST_50_AAM.txt\n",
      "!--------------------------------------------------------\n",
      "Reaction Decoder Tool (RDT)\n",
      "\n",
      "Author: Syed Asad Rahman\n",
      "e-mail: asad@ebi.ac.uk|s9asad@gmail.com\n",
      "c/o EMBL-European BioInformatics Institute (EBI)\n",
      "WTGC, CB10 1SD Hinxton\n",
      "UK\n",
      "\n",
      "Note: The copyright of this software belongs to the author\n",
      "and EMBL-European BioInformatics Institute (EBI).\n",
      "\n",
      "Reference\n",
      "Rahman, S.A. et.al.(2016) Reaction Decoder Tool (RDT):\n",
      "Extracting Features from Chemical Reactions, Bioinformatics (2016)\n",
      "doi: 10.1093/bioinformatics/btw096\n",
      "!--------------------------------------------------------\n",
      "\n",
      "-- AAM --\n",
      "Mapped RXN File /Users/krv114/Documents/GitHub/incawrapper/docs/examples/Literature data/wasylenko/mappedRxns/ECBLAST_44_AAM.rxn\n"
     ]
    },
    {
     "name": "stderr",
     "output_type": "stream",
     "text": [
      "Warning: the fonts \"Times\" and \"Times\" are not available for the Java logical font \"Serif\", which may have unexpected appearance or behavior. Re-enable the \"Times\" font to remove this warning.\n"
     ]
    },
    {
     "name": "stdout",
     "output_type": "stream",
     "text": [
      "Annotated RXN Image /Users/krv114/Documents/GitHub/incawrapper/docs/examples/Literature data/wasylenko/mappedRxns/ECBLAST_44_AAM.png\n",
      "Output is presented in text format: /Users/krv114/Documents/GitHub/incawrapper/docs/examples/Literature data/wasylenko/mappedRxns/ECBLAST_44_AAM.txt\n",
      "!--------------------------------------------------------\n",
      "Reaction Decoder Tool (RDT)\n",
      "\n",
      "Author: Syed Asad Rahman\n",
      "e-mail: asad@ebi.ac.uk|s9asad@gmail.com\n",
      "c/o EMBL-European BioInformatics Institute (EBI)\n",
      "WTGC, CB10 1SD Hinxton\n",
      "UK\n",
      "\n",
      "Note: The copyright of this software belongs to the author\n",
      "and EMBL-European BioInformatics Institute (EBI).\n",
      "\n",
      "Reference\n",
      "Rahman, S.A. et.al.(2016) Reaction Decoder Tool (RDT):\n",
      "Extracting Features from Chemical Reactions, Bioinformatics (2016)\n",
      "doi: 10.1093/bioinformatics/btw096\n",
      "!--------------------------------------------------------\n",
      "\n",
      "-- AAM --\n",
      "Mapped RXN File /Users/krv114/Documents/GitHub/incawrapper/docs/examples/Literature data/wasylenko/mappedRxns/ECBLAST_45_AAM.rxn\n"
     ]
    },
    {
     "name": "stderr",
     "output_type": "stream",
     "text": [
      "Warning: the fonts \"Times\" and \"Times\" are not available for the Java logical font \"Serif\", which may have unexpected appearance or behavior. Re-enable the \"Times\" font to remove this warning.\n"
     ]
    },
    {
     "name": "stdout",
     "output_type": "stream",
     "text": [
      "Annotated RXN Image /Users/krv114/Documents/GitHub/incawrapper/docs/examples/Literature data/wasylenko/mappedRxns/ECBLAST_45_AAM.png\n",
      "Output is presented in text format: /Users/krv114/Documents/GitHub/incawrapper/docs/examples/Literature data/wasylenko/mappedRxns/ECBLAST_45_AAM.txt\n",
      "!--------------------------------------------------------\n",
      "Reaction Decoder Tool (RDT)\n",
      "\n",
      "Author: Syed Asad Rahman\n",
      "e-mail: asad@ebi.ac.uk|s9asad@gmail.com\n",
      "c/o EMBL-European BioInformatics Institute (EBI)\n",
      "WTGC, CB10 1SD Hinxton\n",
      "UK\n",
      "\n",
      "Note: The copyright of this software belongs to the author\n",
      "and EMBL-European BioInformatics Institute (EBI).\n",
      "\n",
      "Reference\n",
      "Rahman, S.A. et.al.(2016) Reaction Decoder Tool (RDT):\n",
      "Extracting Features from Chemical Reactions, Bioinformatics (2016)\n",
      "doi: 10.1093/bioinformatics/btw096\n",
      "!--------------------------------------------------------\n",
      "\n",
      "-- AAM --\n",
      "Mapped RXN File /Users/krv114/Documents/GitHub/incawrapper/docs/examples/Literature data/wasylenko/mappedRxns/ECBLAST_3_AAM.rxn\n"
     ]
    },
    {
     "name": "stderr",
     "output_type": "stream",
     "text": [
      "Warning: the fonts \"Times\" and \"Times\" are not available for the Java logical font \"Serif\", which may have unexpected appearance or behavior. Re-enable the \"Times\" font to remove this warning.\n"
     ]
    },
    {
     "name": "stdout",
     "output_type": "stream",
     "text": [
      "Annotated RXN Image /Users/krv114/Documents/GitHub/incawrapper/docs/examples/Literature data/wasylenko/mappedRxns/ECBLAST_3_AAM.png\n",
      "Output is presented in text format: /Users/krv114/Documents/GitHub/incawrapper/docs/examples/Literature data/wasylenko/mappedRxns/ECBLAST_3_AAM.txt\n",
      "!--------------------------------------------------------\n",
      "Reaction Decoder Tool (RDT)\n",
      "\n",
      "Author: Syed Asad Rahman\n",
      "e-mail: asad@ebi.ac.uk|s9asad@gmail.com\n",
      "c/o EMBL-European BioInformatics Institute (EBI)\n",
      "WTGC, CB10 1SD Hinxton\n",
      "UK\n",
      "\n",
      "Note: The copyright of this software belongs to the author\n",
      "and EMBL-European BioInformatics Institute (EBI).\n",
      "\n",
      "Reference\n",
      "Rahman, S.A. et.al.(2016) Reaction Decoder Tool (RDT):\n",
      "Extracting Features from Chemical Reactions, Bioinformatics (2016)\n",
      "doi: 10.1093/bioinformatics/btw096\n",
      "!--------------------------------------------------------\n",
      "\n",
      "-- AAM --\n",
      "0    [main] INFO  net.sf.jnati.deploy.artefact.ConfigManager  - Loading global configuration\n",
      "10   [main] DEBUG net.sf.jnati.deploy.artefact.ConfigManager  - Loading defaults: jar:file:/Users/krv114/Documents/GitHub/incawrapper/docs/examples/Literature%20data/wasylenko/RDT.jar!/META-INF/jnati/jnati.default-properties\n",
      "11   [main] INFO  net.sf.jnati.deploy.artefact.ConfigManager  - Loading artefact configuration: jniinchi-1.03_1\n",
      "13   [main] DEBUG net.sf.jnati.deploy.artefact.ConfigManager  - Loading instance defaults: jar:file:/Users/krv114/Documents/GitHub/incawrapper/docs/examples/Literature%20data/wasylenko/RDT.jar!/META-INF/jnati/jnati.instance.default-properties\n",
      "14   [main] INFO  net.sf.jnati.deploy.repository.ClasspathRepository  - Searching classpath for: jniinchi-1.03_1-MAC-X86_64\n",
      "15   [main] INFO  net.sf.jnati.deploy.repository.LocalRepository  - Searching local repository for: jniinchi-1.03_1-MAC-X86_64\n",
      "16   [main] DEBUG net.sf.jnati.deploy.repository.LocalRepository  - Artefact path: /Users/krv114/.jnati/repo/jniinchi/1.03_1/MAC-X86_64\n",
      "16   [main] INFO  net.sf.jnati.deploy.artefact.ManifestReader  - Reading manifest\n",
      "46   [main] INFO  net.sf.jnati.deploy.NativeArtefactLocator  - Artefact (jniinchi-1.03_1-MAC-X86_64) location: /Users/krv114/.jnati/repo/jniinchi/1.03_1/MAC-X86_64\n",
      "47   [main] DEBUG net.sf.jnati.deploy.NativeLibraryLoader  - Loading library: /Users/krv114/.jnati/repo/jniinchi/1.03_1/MAC-X86_64/JniInchi-1.03_1-MAC-X86_64\n",
      "Mapped RXN File /Users/krv114/Documents/GitHub/incawrapper/docs/examples/Literature data/wasylenko/mappedRxns/ECBLAST_51_AAM.rxn\n"
     ]
    },
    {
     "name": "stderr",
     "output_type": "stream",
     "text": [
      "Warning: the fonts \"Times\" and \"Times\" are not available for the Java logical font \"Serif\", which may have unexpected appearance or behavior. Re-enable the \"Times\" font to remove this warning.\n"
     ]
    },
    {
     "name": "stdout",
     "output_type": "stream",
     "text": [
      "Annotated RXN Image /Users/krv114/Documents/GitHub/incawrapper/docs/examples/Literature data/wasylenko/mappedRxns/ECBLAST_51_AAM.png\n",
      "Output is presented in text format: /Users/krv114/Documents/GitHub/incawrapper/docs/examples/Literature data/wasylenko/mappedRxns/ECBLAST_51_AAM.txt\n",
      "!--------------------------------------------------------\n",
      "Reaction Decoder Tool (RDT)\n",
      "\n",
      "Author: Syed Asad Rahman\n",
      "e-mail: asad@ebi.ac.uk|s9asad@gmail.com\n",
      "c/o EMBL-European BioInformatics Institute (EBI)\n",
      "WTGC, CB10 1SD Hinxton\n",
      "UK\n",
      "\n",
      "Note: The copyright of this software belongs to the author\n",
      "and EMBL-European BioInformatics Institute (EBI).\n",
      "\n",
      "Reference\n",
      "Rahman, S.A. et.al.(2016) Reaction Decoder Tool (RDT):\n",
      "Extracting Features from Chemical Reactions, Bioinformatics (2016)\n",
      "doi: 10.1093/bioinformatics/btw096\n",
      "!--------------------------------------------------------\n",
      "\n",
      "-- AAM --\n",
      "0    [main] INFO  net.sf.jnati.deploy.artefact.ConfigManager  - Loading global configuration\n",
      "7    [main] DEBUG net.sf.jnati.deploy.artefact.ConfigManager  - Loading defaults: jar:file:/Users/krv114/Documents/GitHub/incawrapper/docs/examples/Literature%20data/wasylenko/RDT.jar!/META-INF/jnati/jnati.default-properties\n",
      "9    [main] INFO  net.sf.jnati.deploy.artefact.ConfigManager  - Loading artefact configuration: jniinchi-1.03_1\n",
      "11   [main] DEBUG net.sf.jnati.deploy.artefact.ConfigManager  - Loading instance defaults: jar:file:/Users/krv114/Documents/GitHub/incawrapper/docs/examples/Literature%20data/wasylenko/RDT.jar!/META-INF/jnati/jnati.instance.default-properties\n",
      "13   [main] INFO  net.sf.jnati.deploy.repository.ClasspathRepository  - Searching classpath for: jniinchi-1.03_1-MAC-X86_64\n",
      "14   [main] INFO  net.sf.jnati.deploy.repository.LocalRepository  - Searching local repository for: jniinchi-1.03_1-MAC-X86_64\n",
      "15   [main] DEBUG net.sf.jnati.deploy.repository.LocalRepository  - Artefact path: /Users/krv114/.jnati/repo/jniinchi/1.03_1/MAC-X86_64\n",
      "16   [main] INFO  net.sf.jnati.deploy.artefact.ManifestReader  - Reading manifest\n",
      "50   [main] INFO  net.sf.jnati.deploy.NativeArtefactLocator  - Artefact (jniinchi-1.03_1-MAC-X86_64) location: /Users/krv114/.jnati/repo/jniinchi/1.03_1/MAC-X86_64\n",
      "51   [main] DEBUG net.sf.jnati.deploy.NativeLibraryLoader  - Loading library: /Users/krv114/.jnati/repo/jniinchi/1.03_1/MAC-X86_64/JniInchi-1.03_1-MAC-X86_64\n",
      "Mapped RXN File /Users/krv114/Documents/GitHub/incawrapper/docs/examples/Literature data/wasylenko/mappedRxns/ECBLAST_86_AAM.rxn\n"
     ]
    },
    {
     "name": "stderr",
     "output_type": "stream",
     "text": [
      "Warning: the fonts \"Times\" and \"Times\" are not available for the Java logical font \"Serif\", which may have unexpected appearance or behavior. Re-enable the \"Times\" font to remove this warning.\n"
     ]
    },
    {
     "name": "stdout",
     "output_type": "stream",
     "text": [
      "Annotated RXN Image /Users/krv114/Documents/GitHub/incawrapper/docs/examples/Literature data/wasylenko/mappedRxns/ECBLAST_86_AAM.png\n",
      "Output is presented in text format: /Users/krv114/Documents/GitHub/incawrapper/docs/examples/Literature data/wasylenko/mappedRxns/ECBLAST_86_AAM.txt\n",
      "!--------------------------------------------------------\n",
      "Reaction Decoder Tool (RDT)\n",
      "\n",
      "Author: Syed Asad Rahman\n",
      "e-mail: asad@ebi.ac.uk|s9asad@gmail.com\n",
      "c/o EMBL-European BioInformatics Institute (EBI)\n",
      "WTGC, CB10 1SD Hinxton\n",
      "UK\n",
      "\n",
      "Note: The copyright of this software belongs to the author\n",
      "and EMBL-European BioInformatics Institute (EBI).\n",
      "\n",
      "Reference\n",
      "Rahman, S.A. et.al.(2016) Reaction Decoder Tool (RDT):\n",
      "Extracting Features from Chemical Reactions, Bioinformatics (2016)\n",
      "doi: 10.1093/bioinformatics/btw096\n",
      "!--------------------------------------------------------\n",
      "\n",
      "-- AAM --\n"
     ]
    },
    {
     "name": "stderr",
     "output_type": "stream",
     "text": [
      "uk.ac.ebi.reactionblast.mechanism.ReactionMechanismTool WARN: Number of atom(s) on the Left side 58 =/= Number of atom(s) on the Right side 10\n",
      "uk.ac.ebi.reactionblast.mechanism.ReactionMechanismTool WARN: {C=27, N=7, O=20, P=3, S=1} =/= {C=6, O=4}\n",
      "uk.ac.ebi.reactionblast.mechanism.ReactionMechanismTool WARN: Unmapped atoms present in this reaction(MIN) algorithm.\n"
     ]
    },
    {
     "name": "stdout",
     "output_type": "stream",
     "text": [
      "0    [main] INFO  net.sf.jnati.deploy.artefact.ConfigManager  - Loading global configuration\n",
      "12   [main] DEBUG net.sf.jnati.deploy.artefact.ConfigManager  - Loading defaults: jar:file:/Users/krv114/Documents/GitHub/incawrapper/docs/examples/Literature%20data/wasylenko/RDT.jar!/META-INF/jnati/jnati.default-properties\n",
      "15   [main] INFO  net.sf.jnati.deploy.artefact.ConfigManager  - Loading artefact configuration: jniinchi-1.03_1\n",
      "18   [main] DEBUG net.sf.jnati.deploy.artefact.ConfigManager  - Loading instance defaults: jar:file:/Users/krv114/Documents/GitHub/incawrapper/docs/examples/Literature%20data/wasylenko/RDT.jar!/META-INF/jnati/jnati.instance.default-properties\n",
      "20   [main] INFO  net.sf.jnati.deploy.repository.ClasspathRepository  - Searching classpath for: jniinchi-1.03_1-MAC-X86_64\n",
      "21   [main] INFO  net.sf.jnati.deploy.repository.LocalRepository  - Searching local repository for: jniinchi-1.03_1-MAC-X86_64\n",
      "21   [main] DEBUG net.sf.jnati.deploy.repository.LocalRepository  - Artefact path: /Users/krv114/.jnati/repo/jniinchi/1.03_1/MAC-X86_64\n",
      "21   [main] INFO  net.sf.jnati.deploy.artefact.ManifestReader  - Reading manifest\n",
      "51   [main] INFO  net.sf.jnati.deploy.NativeArtefactLocator  - Artefact (jniinchi-1.03_1-MAC-X86_64) location: /Users/krv114/.jnati/repo/jniinchi/1.03_1/MAC-X86_64\n",
      "51   [main] DEBUG net.sf.jnati.deploy.NativeLibraryLoader  - Loading library: /Users/krv114/.jnati/repo/jniinchi/1.03_1/MAC-X86_64/JniInchi-1.03_1-MAC-X86_64\n"
     ]
    },
    {
     "name": "stderr",
     "output_type": "stream",
     "text": [
      "uk.ac.ebi.reactionblast.mechanism.ReactionMechanismTool WARN: Unmapped atoms present in this reaction(MAX) algorithm.\n",
      "uk.ac.ebi.reactionblast.mechanism.ReactionMechanismTool WARN: Unmapped atoms present in this reaction(MIXTURE) algorithm.\n"
     ]
    },
    {
     "name": "stdout",
     "output_type": "stream",
     "text": [
      "Mapped RXN File /Users/krv114/Documents/GitHub/incawrapper/docs/examples/Literature data/wasylenko/mappedRxns/ECBLAST_84_AAM.rxn\n"
     ]
    },
    {
     "name": "stderr",
     "output_type": "stream",
     "text": [
      "Warning: the fonts \"Times\" and \"Times\" are not available for the Java logical font \"Serif\", which may have unexpected appearance or behavior. Re-enable the \"Times\" font to remove this warning.\n"
     ]
    },
    {
     "name": "stdout",
     "output_type": "stream",
     "text": [
      "Annotated RXN Image /Users/krv114/Documents/GitHub/incawrapper/docs/examples/Literature data/wasylenko/mappedRxns/ECBLAST_84_AAM.png\n",
      "Output is presented in text format: /Users/krv114/Documents/GitHub/incawrapper/docs/examples/Literature data/wasylenko/mappedRxns/ECBLAST_84_AAM.txt\n",
      "!--------------------------------------------------------\n",
      "Reaction Decoder Tool (RDT)\n",
      "\n",
      "Author: Syed Asad Rahman\n",
      "e-mail: asad@ebi.ac.uk|s9asad@gmail.com\n",
      "c/o EMBL-European BioInformatics Institute (EBI)\n",
      "WTGC, CB10 1SD Hinxton\n",
      "UK\n",
      "\n",
      "Note: The copyright of this software belongs to the author\n",
      "and EMBL-European BioInformatics Institute (EBI).\n",
      "\n",
      "Reference\n",
      "Rahman, S.A. et.al.(2016) Reaction Decoder Tool (RDT):\n",
      "Extracting Features from Chemical Reactions, Bioinformatics (2016)\n",
      "doi: 10.1093/bioinformatics/btw096\n",
      "!--------------------------------------------------------\n",
      "\n",
      "-- AAM --\n"
     ]
    },
    {
     "name": "stderr",
     "output_type": "stream",
     "text": [
      "uk.ac.ebi.reactionblast.mechanism.ReactionMechanismTool WARN: Number of atom(s) on the Left side 16 =/= Number of atom(s) on the Right side 45\n",
      "uk.ac.ebi.reactionblast.mechanism.ReactionMechanismTool WARN: {C=6, O=9, P=1} =/= {C=24, O=21}\n",
      "uk.ac.ebi.reactionblast.mechanism.ReactionMechanismTool WARN: Unmapped atoms present in this reaction(MIN) algorithm.\n"
     ]
    },
    {
     "name": "stdout",
     "output_type": "stream",
     "text": [
      "0    [main] INFO  net.sf.jnati.deploy.artefact.ConfigManager  - Loading global configuration\n",
      "9    [main] DEBUG net.sf.jnati.deploy.artefact.ConfigManager  - Loading defaults: jar:file:/Users/krv114/Documents/GitHub/incawrapper/docs/examples/Literature%20data/wasylenko/RDT.jar!/META-INF/jnati/jnati.default-properties\n",
      "9    [main] INFO  net.sf.jnati.deploy.artefact.ConfigManager  - Loading artefact configuration: jniinchi-1.03_1\n",
      "12   [main] DEBUG net.sf.jnati.deploy.artefact.ConfigManager  - Loading instance defaults: jar:file:/Users/krv114/Documents/GitHub/incawrapper/docs/examples/Literature%20data/wasylenko/RDT.jar!/META-INF/jnati/jnati.instance.default-properties\n",
      "14   [main] INFO  net.sf.jnati.deploy.repository.ClasspathRepository  - Searching classpath for: jniinchi-1.03_1-MAC-X86_64\n",
      "16   [main] INFO  net.sf.jnati.deploy.repository.LocalRepository  - Searching local repository for: jniinchi-1.03_1-MAC-X86_64\n",
      "16   [main] DEBUG net.sf.jnati.deploy.repository.LocalRepository  - Artefact path: /Users/krv114/.jnati/repo/jniinchi/1.03_1/MAC-X86_64\n",
      "17   [main] INFO  net.sf.jnati.deploy.artefact.ManifestReader  - Reading manifest\n",
      "47   [main] INFO  net.sf.jnati.deploy.NativeArtefactLocator  - Artefact (jniinchi-1.03_1-MAC-X86_64) location: /Users/krv114/.jnati/repo/jniinchi/1.03_1/MAC-X86_64\n",
      "47   [main] DEBUG net.sf.jnati.deploy.NativeLibraryLoader  - Loading library: /Users/krv114/.jnati/repo/jniinchi/1.03_1/MAC-X86_64/JniInchi-1.03_1-MAC-X86_64\n"
     ]
    },
    {
     "name": "stderr",
     "output_type": "stream",
     "text": [
      "uk.ac.ebi.reactionblast.mechanism.ReactionMechanismTool WARN: Unmapped atoms present in this reaction(MAX) algorithm.\n",
      "uk.ac.ebi.reactionblast.mechanism.ReactionMechanismTool WARN: Unmapped atoms present in this reaction(MIXTURE) algorithm.\n"
     ]
    },
    {
     "name": "stdout",
     "output_type": "stream",
     "text": [
      "Mapped RXN File /Users/krv114/Documents/GitHub/incawrapper/docs/examples/Literature data/wasylenko/mappedRxns/ECBLAST_90_AAM.rxn\n"
     ]
    },
    {
     "name": "stderr",
     "output_type": "stream",
     "text": [
      "Warning: the fonts \"Times\" and \"Times\" are not available for the Java logical font \"Serif\", which may have unexpected appearance or behavior. Re-enable the \"Times\" font to remove this warning.\n"
     ]
    },
    {
     "name": "stdout",
     "output_type": "stream",
     "text": [
      "Annotated RXN Image /Users/krv114/Documents/GitHub/incawrapper/docs/examples/Literature data/wasylenko/mappedRxns/ECBLAST_90_AAM.png\n",
      "Output is presented in text format: /Users/krv114/Documents/GitHub/incawrapper/docs/examples/Literature data/wasylenko/mappedRxns/ECBLAST_90_AAM.txt\n",
      "!--------------------------------------------------------\n",
      "Reaction Decoder Tool (RDT)\n",
      "\n",
      "Author: Syed Asad Rahman\n",
      "e-mail: asad@ebi.ac.uk|s9asad@gmail.com\n",
      "c/o EMBL-European BioInformatics Institute (EBI)\n",
      "WTGC, CB10 1SD Hinxton\n",
      "UK\n",
      "\n",
      "Note: The copyright of this software belongs to the author\n",
      "and EMBL-European BioInformatics Institute (EBI).\n",
      "\n",
      "Reference\n",
      "Rahman, S.A. et.al.(2016) Reaction Decoder Tool (RDT):\n",
      "Extracting Features from Chemical Reactions, Bioinformatics (2016)\n",
      "doi: 10.1093/bioinformatics/btw096\n",
      "!--------------------------------------------------------\n",
      "\n",
      "-- AAM --\n"
     ]
    },
    {
     "name": "stderr",
     "output_type": "stream",
     "text": [
      "uk.ac.ebi.reactionblast.mechanism.ReactionMechanismTool WARN: Unmapped atoms present in this reaction(MIN) algorithm.\n"
     ]
    },
    {
     "name": "stdout",
     "output_type": "stream",
     "text": [
      "0    [main] INFO  net.sf.jnati.deploy.artefact.ConfigManager  - Loading global configuration\n",
      "11   [main] DEBUG net.sf.jnati.deploy.artefact.ConfigManager  - Loading defaults: jar:file:/Users/krv114/Documents/GitHub/incawrapper/docs/examples/Literature%20data/wasylenko/RDT.jar!/META-INF/jnati/jnati.default-properties\n",
      "12   [main] INFO  net.sf.jnati.deploy.artefact.ConfigManager  - Loading artefact configuration: jniinchi-1.03_1\n",
      "14   [main] DEBUG net.sf.jnati.deploy.artefact.ConfigManager  - Loading instance defaults: jar:file:/Users/krv114/Documents/GitHub/incawrapper/docs/examples/Literature%20data/wasylenko/RDT.jar!/META-INF/jnati/jnati.instance.default-properties\n",
      "16   [main] INFO  net.sf.jnati.deploy.repository.ClasspathRepository  - Searching classpath for: jniinchi-1.03_1-MAC-X86_64\n",
      "17   [main] INFO  net.sf.jnati.deploy.repository.LocalRepository  - Searching local repository for: jniinchi-1.03_1-MAC-X86_64\n",
      "17   [main] DEBUG net.sf.jnati.deploy.repository.LocalRepository  - Artefact path: /Users/krv114/.jnati/repo/jniinchi/1.03_1/MAC-X86_64\n",
      "17   [main] INFO  net.sf.jnati.deploy.artefact.ManifestReader  - Reading manifest\n",
      "49   [main] INFO  net.sf.jnati.deploy.NativeArtefactLocator  - Artefact (jniinchi-1.03_1-MAC-X86_64) location: /Users/krv114/.jnati/repo/jniinchi/1.03_1/MAC-X86_64\n",
      "49   [main] DEBUG net.sf.jnati.deploy.NativeLibraryLoader  - Loading library: /Users/krv114/.jnati/repo/jniinchi/1.03_1/MAC-X86_64/JniInchi-1.03_1-MAC-X86_64\n"
     ]
    },
    {
     "name": "stderr",
     "output_type": "stream",
     "text": [
      "uk.ac.ebi.reactionblast.mechanism.ReactionMechanismTool WARN: Unmapped atoms present in this reaction(MAX) algorithm.\n",
      "uk.ac.ebi.reactionblast.mechanism.ReactionMechanismTool WARN: Unmapped atoms present in this reaction(MIXTURE) algorithm.\n"
     ]
    },
    {
     "name": "stdout",
     "output_type": "stream",
     "text": [
      "Mapped RXN File /Users/krv114/Documents/GitHub/incawrapper/docs/examples/Literature data/wasylenko/mappedRxns/ECBLAST_47_AAM.rxn\n"
     ]
    },
    {
     "name": "stderr",
     "output_type": "stream",
     "text": [
      "Warning: the fonts \"Times\" and \"Times\" are not available for the Java logical font \"Serif\", which may have unexpected appearance or behavior. Re-enable the \"Times\" font to remove this warning.\n"
     ]
    },
    {
     "name": "stdout",
     "output_type": "stream",
     "text": [
      "Annotated RXN Image /Users/krv114/Documents/GitHub/incawrapper/docs/examples/Literature data/wasylenko/mappedRxns/ECBLAST_47_AAM.png\n",
      "Output is presented in text format: /Users/krv114/Documents/GitHub/incawrapper/docs/examples/Literature data/wasylenko/mappedRxns/ECBLAST_47_AAM.txt\n",
      "!--------------------------------------------------------\n",
      "Reaction Decoder Tool (RDT)\n",
      "\n",
      "Author: Syed Asad Rahman\n",
      "e-mail: asad@ebi.ac.uk|s9asad@gmail.com\n",
      "c/o EMBL-European BioInformatics Institute (EBI)\n",
      "WTGC, CB10 1SD Hinxton\n",
      "UK\n",
      "\n",
      "Note: The copyright of this software belongs to the author\n",
      "and EMBL-European BioInformatics Institute (EBI).\n",
      "\n",
      "Reference\n",
      "Rahman, S.A. et.al.(2016) Reaction Decoder Tool (RDT):\n",
      "Extracting Features from Chemical Reactions, Bioinformatics (2016)\n",
      "doi: 10.1093/bioinformatics/btw096\n",
      "!--------------------------------------------------------\n",
      "\n",
      "-- AAM --\n",
      "0    [main] INFO  net.sf.jnati.deploy.artefact.ConfigManager  - Loading global configuration\n",
      "7    [main] DEBUG net.sf.jnati.deploy.artefact.ConfigManager  - Loading defaults: jar:file:/Users/krv114/Documents/GitHub/incawrapper/docs/examples/Literature%20data/wasylenko/RDT.jar!/META-INF/jnati/jnati.default-properties\n",
      "9    [main] INFO  net.sf.jnati.deploy.artefact.ConfigManager  - Loading artefact configuration: jniinchi-1.03_1\n",
      "11   [main] DEBUG net.sf.jnati.deploy.artefact.ConfigManager  - Loading instance defaults: jar:file:/Users/krv114/Documents/GitHub/incawrapper/docs/examples/Literature%20data/wasylenko/RDT.jar!/META-INF/jnati/jnati.instance.default-properties\n",
      "13   [main] INFO  net.sf.jnati.deploy.repository.ClasspathRepository  - Searching classpath for: jniinchi-1.03_1-MAC-X86_64\n",
      "15   [main] INFO  net.sf.jnati.deploy.repository.LocalRepository  - Searching local repository for: jniinchi-1.03_1-MAC-X86_64\n",
      "15   [main] DEBUG net.sf.jnati.deploy.repository.LocalRepository  - Artefact path: /Users/krv114/.jnati/repo/jniinchi/1.03_1/MAC-X86_64\n",
      "16   [main] INFO  net.sf.jnati.deploy.artefact.ManifestReader  - Reading manifest\n",
      "46   [main] INFO  net.sf.jnati.deploy.NativeArtefactLocator  - Artefact (jniinchi-1.03_1-MAC-X86_64) location: /Users/krv114/.jnati/repo/jniinchi/1.03_1/MAC-X86_64\n",
      "46   [main] DEBUG net.sf.jnati.deploy.NativeLibraryLoader  - Loading library: /Users/krv114/.jnati/repo/jniinchi/1.03_1/MAC-X86_64/JniInchi-1.03_1-MAC-X86_64\n",
      "Mapped RXN File /Users/krv114/Documents/GitHub/incawrapper/docs/examples/Literature data/wasylenko/mappedRxns/ECBLAST_53_AAM.rxn\n"
     ]
    },
    {
     "name": "stderr",
     "output_type": "stream",
     "text": [
      "Warning: the fonts \"Times\" and \"Times\" are not available for the Java logical font \"Serif\", which may have unexpected appearance or behavior. Re-enable the \"Times\" font to remove this warning.\n"
     ]
    },
    {
     "name": "stdout",
     "output_type": "stream",
     "text": [
      "Annotated RXN Image /Users/krv114/Documents/GitHub/incawrapper/docs/examples/Literature data/wasylenko/mappedRxns/ECBLAST_53_AAM.png\n",
      "Output is presented in text format: /Users/krv114/Documents/GitHub/incawrapper/docs/examples/Literature data/wasylenko/mappedRxns/ECBLAST_53_AAM.txt\n",
      "!--------------------------------------------------------\n",
      "Reaction Decoder Tool (RDT)\n",
      "\n",
      "Author: Syed Asad Rahman\n",
      "e-mail: asad@ebi.ac.uk|s9asad@gmail.com\n",
      "c/o EMBL-European BioInformatics Institute (EBI)\n",
      "WTGC, CB10 1SD Hinxton\n",
      "UK\n",
      "\n",
      "Note: The copyright of this software belongs to the author\n",
      "and EMBL-European BioInformatics Institute (EBI).\n",
      "\n",
      "Reference\n",
      "Rahman, S.A. et.al.(2016) Reaction Decoder Tool (RDT):\n",
      "Extracting Features from Chemical Reactions, Bioinformatics (2016)\n",
      "doi: 10.1093/bioinformatics/btw096\n",
      "!--------------------------------------------------------\n",
      "\n",
      "-- AAM --\n"
     ]
    },
    {
     "name": "stderr",
     "output_type": "stream",
     "text": [
      "uk.ac.ebi.reactionblast.mechanism.ReactionMechanismTool WARN: Number of atom(s) on the Left side 10 =/= Number of atom(s) on the Right side 14\n",
      "uk.ac.ebi.reactionblast.mechanism.ReactionMechanismTool WARN: {C=5, O=5} =/= {C=5, O=8, P=1}\n",
      "uk.ac.ebi.reactionblast.mechanism.ReactionMechanismTool WARN: Unmapped atoms present in this reaction(MIN) algorithm.\n"
     ]
    },
    {
     "name": "stdout",
     "output_type": "stream",
     "text": [
      "0    [main] INFO  net.sf.jnati.deploy.artefact.ConfigManager  - Loading global configuration\n",
      "13   [main] DEBUG net.sf.jnati.deploy.artefact.ConfigManager  - Loading defaults: jar:file:/Users/krv114/Documents/GitHub/incawrapper/docs/examples/Literature%20data/wasylenko/RDT.jar!/META-INF/jnati/jnati.default-properties\n",
      "15   [main] INFO  net.sf.jnati.deploy.artefact.ConfigManager  - Loading artefact configuration: jniinchi-1.03_1\n",
      "18   [main] DEBUG net.sf.jnati.deploy.artefact.ConfigManager  - Loading instance defaults: jar:file:/Users/krv114/Documents/GitHub/incawrapper/docs/examples/Literature%20data/wasylenko/RDT.jar!/META-INF/jnati/jnati.instance.default-properties\n",
      "20   [main] INFO  net.sf.jnati.deploy.repository.ClasspathRepository  - Searching classpath for: jniinchi-1.03_1-MAC-X86_64\n",
      "21   [main] INFO  net.sf.jnati.deploy.repository.LocalRepository  - Searching local repository for: jniinchi-1.03_1-MAC-X86_64\n",
      "21   [main] DEBUG net.sf.jnati.deploy.repository.LocalRepository  - Artefact path: /Users/krv114/.jnati/repo/jniinchi/1.03_1/MAC-X86_64\n",
      "22   [main] INFO  net.sf.jnati.deploy.artefact.ManifestReader  - Reading manifest\n",
      "59   [main] INFO  net.sf.jnati.deploy.NativeArtefactLocator  - Artefact (jniinchi-1.03_1-MAC-X86_64) location: /Users/krv114/.jnati/repo/jniinchi/1.03_1/MAC-X86_64\n",
      "59   [main] DEBUG net.sf.jnati.deploy.NativeLibraryLoader  - Loading library: /Users/krv114/.jnati/repo/jniinchi/1.03_1/MAC-X86_64/JniInchi-1.03_1-MAC-X86_64\n"
     ]
    },
    {
     "name": "stderr",
     "output_type": "stream",
     "text": [
      "uk.ac.ebi.reactionblast.mechanism.ReactionMechanismTool WARN: Unmapped atoms present in this reaction(MAX) algorithm.\n",
      "uk.ac.ebi.reactionblast.mechanism.ReactionMechanismTool WARN: Unmapped atoms present in this reaction(MIXTURE) algorithm.\n"
     ]
    },
    {
     "name": "stdout",
     "output_type": "stream",
     "text": [
      "Mapped RXN File /Users/krv114/Documents/GitHub/incawrapper/docs/examples/Literature data/wasylenko/mappedRxns/ECBLAST_1_AAM.rxn\n"
     ]
    },
    {
     "name": "stderr",
     "output_type": "stream",
     "text": [
      "Warning: the fonts \"Times\" and \"Times\" are not available for the Java logical font \"Serif\", which may have unexpected appearance or behavior. Re-enable the \"Times\" font to remove this warning.\n"
     ]
    },
    {
     "name": "stdout",
     "output_type": "stream",
     "text": [
      "Annotated RXN Image /Users/krv114/Documents/GitHub/incawrapper/docs/examples/Literature data/wasylenko/mappedRxns/ECBLAST_1_AAM.png\n",
      "Output is presented in text format: /Users/krv114/Documents/GitHub/incawrapper/docs/examples/Literature data/wasylenko/mappedRxns/ECBLAST_1_AAM.txt\n",
      "!--------------------------------------------------------\n",
      "Reaction Decoder Tool (RDT)\n",
      "\n",
      "Author: Syed Asad Rahman\n",
      "e-mail: asad@ebi.ac.uk|s9asad@gmail.com\n",
      "c/o EMBL-European BioInformatics Institute (EBI)\n",
      "WTGC, CB10 1SD Hinxton\n",
      "UK\n",
      "\n",
      "Note: The copyright of this software belongs to the author\n",
      "and EMBL-European BioInformatics Institute (EBI).\n",
      "\n",
      "Reference\n",
      "Rahman, S.A. et.al.(2016) Reaction Decoder Tool (RDT):\n",
      "Extracting Features from Chemical Reactions, Bioinformatics (2016)\n",
      "doi: 10.1093/bioinformatics/btw096\n",
      "!--------------------------------------------------------\n",
      "\n",
      "-- AAM --\n",
      "0    [main] INFO  net.sf.jnati.deploy.artefact.ConfigManager  - Loading global configuration\n",
      "10   [main] DEBUG net.sf.jnati.deploy.artefact.ConfigManager  - Loading defaults: jar:file:/Users/krv114/Documents/GitHub/incawrapper/docs/examples/Literature%20data/wasylenko/RDT.jar!/META-INF/jnati/jnati.default-properties\n",
      "12   [main] INFO  net.sf.jnati.deploy.artefact.ConfigManager  - Loading artefact configuration: jniinchi-1.03_1\n",
      "15   [main] DEBUG net.sf.jnati.deploy.artefact.ConfigManager  - Loading instance defaults: jar:file:/Users/krv114/Documents/GitHub/incawrapper/docs/examples/Literature%20data/wasylenko/RDT.jar!/META-INF/jnati/jnati.instance.default-properties\n",
      "18   [main] INFO  net.sf.jnati.deploy.repository.ClasspathRepository  - Searching classpath for: jniinchi-1.03_1-MAC-X86_64\n",
      "19   [main] INFO  net.sf.jnati.deploy.repository.LocalRepository  - Searching local repository for: jniinchi-1.03_1-MAC-X86_64\n",
      "19   [main] DEBUG net.sf.jnati.deploy.repository.LocalRepository  - Artefact path: /Users/krv114/.jnati/repo/jniinchi/1.03_1/MAC-X86_64\n",
      "20   [main] INFO  net.sf.jnati.deploy.artefact.ManifestReader  - Reading manifest\n",
      "52   [main] INFO  net.sf.jnati.deploy.NativeArtefactLocator  - Artefact (jniinchi-1.03_1-MAC-X86_64) location: /Users/krv114/.jnati/repo/jniinchi/1.03_1/MAC-X86_64\n",
      "52   [main] DEBUG net.sf.jnati.deploy.NativeLibraryLoader  - Loading library: /Users/krv114/.jnati/repo/jniinchi/1.03_1/MAC-X86_64/JniInchi-1.03_1-MAC-X86_64\n",
      "Mapped RXN File /Users/krv114/Documents/GitHub/incawrapper/docs/examples/Literature data/wasylenko/mappedRxns/ECBLAST_52_AAM.rxn\n"
     ]
    },
    {
     "name": "stderr",
     "output_type": "stream",
     "text": [
      "Warning: the fonts \"Times\" and \"Times\" are not available for the Java logical font \"Serif\", which may have unexpected appearance or behavior. Re-enable the \"Times\" font to remove this warning.\n"
     ]
    },
    {
     "name": "stdout",
     "output_type": "stream",
     "text": [
      "Annotated RXN Image /Users/krv114/Documents/GitHub/incawrapper/docs/examples/Literature data/wasylenko/mappedRxns/ECBLAST_52_AAM.png\n",
      "Output is presented in text format: /Users/krv114/Documents/GitHub/incawrapper/docs/examples/Literature data/wasylenko/mappedRxns/ECBLAST_52_AAM.txt\n",
      "!--------------------------------------------------------\n",
      "Reaction Decoder Tool (RDT)\n",
      "\n",
      "Author: Syed Asad Rahman\n",
      "e-mail: asad@ebi.ac.uk|s9asad@gmail.com\n",
      "c/o EMBL-European BioInformatics Institute (EBI)\n",
      "WTGC, CB10 1SD Hinxton\n",
      "UK\n",
      "\n",
      "Note: The copyright of this software belongs to the author\n",
      "and EMBL-European BioInformatics Institute (EBI).\n",
      "\n",
      "Reference\n",
      "Rahman, S.A. et.al.(2016) Reaction Decoder Tool (RDT):\n",
      "Extracting Features from Chemical Reactions, Bioinformatics (2016)\n",
      "doi: 10.1093/bioinformatics/btw096\n",
      "!--------------------------------------------------------\n",
      "\n",
      "-- AAM --\n"
     ]
    },
    {
     "name": "stderr",
     "output_type": "stream",
     "text": [
      "uk.ac.ebi.reactionblast.mechanism.ReactionMechanismTool WARN: Number of atom(s) on the Left side 12 =/= Number of atom(s) on the Right side 16\n",
      "uk.ac.ebi.reactionblast.mechanism.ReactionMechanismTool WARN: {C=6, O=6} =/= {C=6, O=9, P=1}\n",
      "uk.ac.ebi.reactionblast.mechanism.ReactionMechanismTool WARN: Unmapped atoms present in this reaction(MIN) algorithm.\n"
     ]
    },
    {
     "name": "stdout",
     "output_type": "stream",
     "text": [
      "0    [main] INFO  net.sf.jnati.deploy.artefact.ConfigManager  - Loading global configuration\n",
      "8    [main] DEBUG net.sf.jnati.deploy.artefact.ConfigManager  - Loading defaults: jar:file:/Users/krv114/Documents/GitHub/incawrapper/docs/examples/Literature%20data/wasylenko/RDT.jar!/META-INF/jnati/jnati.default-properties\n",
      "10   [main] INFO  net.sf.jnati.deploy.artefact.ConfigManager  - Loading artefact configuration: jniinchi-1.03_1\n",
      "11   [main] DEBUG net.sf.jnati.deploy.artefact.ConfigManager  - Loading instance defaults: jar:file:/Users/krv114/Documents/GitHub/incawrapper/docs/examples/Literature%20data/wasylenko/RDT.jar!/META-INF/jnati/jnati.instance.default-properties\n",
      "13   [main] INFO  net.sf.jnati.deploy.repository.ClasspathRepository  - Searching classpath for: jniinchi-1.03_1-MAC-X86_64\n",
      "14   [main] INFO  net.sf.jnati.deploy.repository.LocalRepository  - Searching local repository for: jniinchi-1.03_1-MAC-X86_64\n",
      "15   [main] DEBUG net.sf.jnati.deploy.repository.LocalRepository  - Artefact path: /Users/krv114/.jnati/repo/jniinchi/1.03_1/MAC-X86_64\n",
      "16   [main] INFO  net.sf.jnati.deploy.artefact.ManifestReader  - Reading manifest\n",
      "46   [main] INFO  net.sf.jnati.deploy.NativeArtefactLocator  - Artefact (jniinchi-1.03_1-MAC-X86_64) location: /Users/krv114/.jnati/repo/jniinchi/1.03_1/MAC-X86_64\n",
      "47   [main] DEBUG net.sf.jnati.deploy.NativeLibraryLoader  - Loading library: /Users/krv114/.jnati/repo/jniinchi/1.03_1/MAC-X86_64/JniInchi-1.03_1-MAC-X86_64\n"
     ]
    },
    {
     "name": "stderr",
     "output_type": "stream",
     "text": [
      "uk.ac.ebi.reactionblast.mechanism.ReactionMechanismTool WARN: Unmapped atoms present in this reaction(MAX) algorithm.\n",
      "uk.ac.ebi.reactionblast.mechanism.ReactionMechanismTool WARN: Unmapped atoms present in this reaction(MIXTURE) algorithm.\n"
     ]
    },
    {
     "name": "stdout",
     "output_type": "stream",
     "text": [
      "Mapped RXN File /Users/krv114/Documents/GitHub/incawrapper/docs/examples/Literature data/wasylenko/mappedRxns/ECBLAST_0_AAM.rxn\n"
     ]
    },
    {
     "name": "stderr",
     "output_type": "stream",
     "text": [
      "Warning: the fonts \"Times\" and \"Times\" are not available for the Java logical font \"Serif\", which may have unexpected appearance or behavior. Re-enable the \"Times\" font to remove this warning.\n"
     ]
    },
    {
     "name": "stdout",
     "output_type": "stream",
     "text": [
      "Annotated RXN Image /Users/krv114/Documents/GitHub/incawrapper/docs/examples/Literature data/wasylenko/mappedRxns/ECBLAST_0_AAM.png\n",
      "Output is presented in text format: /Users/krv114/Documents/GitHub/incawrapper/docs/examples/Literature data/wasylenko/mappedRxns/ECBLAST_0_AAM.txt\n",
      "!--------------------------------------------------------\n",
      "Reaction Decoder Tool (RDT)\n",
      "\n",
      "Author: Syed Asad Rahman\n",
      "e-mail: asad@ebi.ac.uk|s9asad@gmail.com\n",
      "c/o EMBL-European BioInformatics Institute (EBI)\n",
      "WTGC, CB10 1SD Hinxton\n",
      "UK\n",
      "\n",
      "Note: The copyright of this software belongs to the author\n",
      "and EMBL-European BioInformatics Institute (EBI).\n",
      "\n",
      "Reference\n",
      "Rahman, S.A. et.al.(2016) Reaction Decoder Tool (RDT):\n",
      "Extracting Features from Chemical Reactions, Bioinformatics (2016)\n",
      "doi: 10.1093/bioinformatics/btw096\n",
      "!--------------------------------------------------------\n",
      "\n",
      "-- AAM --\n"
     ]
    },
    {
     "name": "stderr",
     "output_type": "stream",
     "text": [
      "uk.ac.ebi.reactionblast.mechanism.ReactionMechanismTool WARN: Number of atom(s) on the Left side 10 =/= Number of atom(s) on the Right side 10\n",
      "uk.ac.ebi.reactionblast.mechanism.ReactionMechanismTool WARN: {C=5, O=5} =/= {C=5, N=1, O=4}\n",
      "uk.ac.ebi.reactionblast.mechanism.ReactionMechanismTool WARN: Unmapped atoms present in this reaction(MIN) algorithm.\n"
     ]
    },
    {
     "name": "stdout",
     "output_type": "stream",
     "text": [
      "0    [main] INFO  net.sf.jnati.deploy.artefact.ConfigManager  - Loading global configuration\n",
      "12   [main] DEBUG net.sf.jnati.deploy.artefact.ConfigManager  - Loading defaults: jar:file:/Users/krv114/Documents/GitHub/incawrapper/docs/examples/Literature%20data/wasylenko/RDT.jar!/META-INF/jnati/jnati.default-properties\n",
      "14   [main] INFO  net.sf.jnati.deploy.artefact.ConfigManager  - Loading artefact configuration: jniinchi-1.03_1\n",
      "16   [main] DEBUG net.sf.jnati.deploy.artefact.ConfigManager  - Loading instance defaults: jar:file:/Users/krv114/Documents/GitHub/incawrapper/docs/examples/Literature%20data/wasylenko/RDT.jar!/META-INF/jnati/jnati.instance.default-properties\n",
      "18   [main] INFO  net.sf.jnati.deploy.repository.ClasspathRepository  - Searching classpath for: jniinchi-1.03_1-MAC-X86_64\n",
      "20   [main] INFO  net.sf.jnati.deploy.repository.LocalRepository  - Searching local repository for: jniinchi-1.03_1-MAC-X86_64\n",
      "20   [main] DEBUG net.sf.jnati.deploy.repository.LocalRepository  - Artefact path: /Users/krv114/.jnati/repo/jniinchi/1.03_1/MAC-X86_64\n",
      "21   [main] INFO  net.sf.jnati.deploy.artefact.ManifestReader  - Reading manifest\n",
      "52   [main] INFO  net.sf.jnati.deploy.NativeArtefactLocator  - Artefact (jniinchi-1.03_1-MAC-X86_64) location: /Users/krv114/.jnati/repo/jniinchi/1.03_1/MAC-X86_64\n",
      "52   [main] DEBUG net.sf.jnati.deploy.NativeLibraryLoader  - Loading library: /Users/krv114/.jnati/repo/jniinchi/1.03_1/MAC-X86_64/JniInchi-1.03_1-MAC-X86_64\n"
     ]
    },
    {
     "name": "stderr",
     "output_type": "stream",
     "text": [
      "uk.ac.ebi.reactionblast.mechanism.ReactionMechanismTool WARN: Unmapped atoms present in this reaction(MAX) algorithm.\n",
      "uk.ac.ebi.reactionblast.mechanism.ReactionMechanismTool WARN: Unmapped atoms present in this reaction(MIXTURE) algorithm.\n"
     ]
    },
    {
     "name": "stdout",
     "output_type": "stream",
     "text": [
      "Mapped RXN File /Users/krv114/Documents/GitHub/incawrapper/docs/examples/Literature data/wasylenko/mappedRxns/ECBLAST_46_AAM.rxn\n"
     ]
    },
    {
     "name": "stderr",
     "output_type": "stream",
     "text": [
      "Warning: the fonts \"Times\" and \"Times\" are not available for the Java logical font \"Serif\", which may have unexpected appearance or behavior. Re-enable the \"Times\" font to remove this warning.\n"
     ]
    },
    {
     "name": "stdout",
     "output_type": "stream",
     "text": [
      "Annotated RXN Image /Users/krv114/Documents/GitHub/incawrapper/docs/examples/Literature data/wasylenko/mappedRxns/ECBLAST_46_AAM.png\n",
      "Output is presented in text format: /Users/krv114/Documents/GitHub/incawrapper/docs/examples/Literature data/wasylenko/mappedRxns/ECBLAST_46_AAM.txt\n",
      "!--------------------------------------------------------\n",
      "Reaction Decoder Tool (RDT)\n",
      "\n",
      "Author: Syed Asad Rahman\n",
      "e-mail: asad@ebi.ac.uk|s9asad@gmail.com\n",
      "c/o EMBL-European BioInformatics Institute (EBI)\n",
      "WTGC, CB10 1SD Hinxton\n",
      "UK\n",
      "\n",
      "Note: The copyright of this software belongs to the author\n",
      "and EMBL-European BioInformatics Institute (EBI).\n",
      "\n",
      "Reference\n",
      "Rahman, S.A. et.al.(2016) Reaction Decoder Tool (RDT):\n",
      "Extracting Features from Chemical Reactions, Bioinformatics (2016)\n",
      "doi: 10.1093/bioinformatics/btw096\n",
      "!--------------------------------------------------------\n",
      "\n",
      "-- AAM --\n"
     ]
    },
    {
     "name": "stderr",
     "output_type": "stream",
     "text": [
      "uk.ac.ebi.reactionblast.mechanism.ReactionMechanismTool WARN: Number of atom(s) on the Left side 16 =/= Number of atom(s) on the Right side 13\n",
      "uk.ac.ebi.reactionblast.mechanism.ReactionMechanismTool WARN: {C=6, O=9, P=1} =/= {C=6, O=5, R=2}\n",
      "uk.ac.ebi.reactionblast.mechanism.ReactionMechanismTool WARN: Unmapped atoms present in this reaction(MIN) algorithm.\n"
     ]
    },
    {
     "name": "stdout",
     "output_type": "stream",
     "text": [
      "0    [main] INFO  net.sf.jnati.deploy.artefact.ConfigManager  - Loading global configuration\n",
      "8    [main] DEBUG net.sf.jnati.deploy.artefact.ConfigManager  - Loading defaults: jar:file:/Users/krv114/Documents/GitHub/incawrapper/docs/examples/Literature%20data/wasylenko/RDT.jar!/META-INF/jnati/jnati.default-properties\n",
      "9    [main] INFO  net.sf.jnati.deploy.artefact.ConfigManager  - Loading artefact configuration: jniinchi-1.03_1\n",
      "10   [main] DEBUG net.sf.jnati.deploy.artefact.ConfigManager  - Loading instance defaults: jar:file:/Users/krv114/Documents/GitHub/incawrapper/docs/examples/Literature%20data/wasylenko/RDT.jar!/META-INF/jnati/jnati.instance.default-properties\n",
      "12   [main] INFO  net.sf.jnati.deploy.repository.ClasspathRepository  - Searching classpath for: jniinchi-1.03_1-MAC-X86_64\n",
      "13   [main] INFO  net.sf.jnati.deploy.repository.LocalRepository  - Searching local repository for: jniinchi-1.03_1-MAC-X86_64\n",
      "14   [main] DEBUG net.sf.jnati.deploy.repository.LocalRepository  - Artefact path: /Users/krv114/.jnati/repo/jniinchi/1.03_1/MAC-X86_64\n",
      "15   [main] INFO  net.sf.jnati.deploy.artefact.ManifestReader  - Reading manifest\n",
      "43   [main] INFO  net.sf.jnati.deploy.NativeArtefactLocator  - Artefact (jniinchi-1.03_1-MAC-X86_64) location: /Users/krv114/.jnati/repo/jniinchi/1.03_1/MAC-X86_64\n",
      "43   [main] DEBUG net.sf.jnati.deploy.NativeLibraryLoader  - Loading library: /Users/krv114/.jnati/repo/jniinchi/1.03_1/MAC-X86_64/JniInchi-1.03_1-MAC-X86_64\n"
     ]
    },
    {
     "name": "stderr",
     "output_type": "stream",
     "text": [
      "uk.ac.ebi.reactionblast.mechanism.ReactionMechanismTool WARN: Unmapped atoms present in this reaction(MAX) algorithm.\n",
      "uk.ac.ebi.reactionblast.mechanism.ReactionMechanismTool WARN: Unmapped atoms present in this reaction(MIXTURE) algorithm.\n"
     ]
    },
    {
     "name": "stdout",
     "output_type": "stream",
     "text": [
      "Mapped RXN File /Users/krv114/Documents/GitHub/incawrapper/docs/examples/Literature data/wasylenko/mappedRxns/ECBLAST_91_AAM.rxn\n"
     ]
    },
    {
     "name": "stderr",
     "output_type": "stream",
     "text": [
      "Warning: the fonts \"Times\" and \"Times\" are not available for the Java logical font \"Serif\", which may have unexpected appearance or behavior. Re-enable the \"Times\" font to remove this warning.\n"
     ]
    },
    {
     "name": "stdout",
     "output_type": "stream",
     "text": [
      "Annotated RXN Image /Users/krv114/Documents/GitHub/incawrapper/docs/examples/Literature data/wasylenko/mappedRxns/ECBLAST_91_AAM.png\n",
      "Output is presented in text format: /Users/krv114/Documents/GitHub/incawrapper/docs/examples/Literature data/wasylenko/mappedRxns/ECBLAST_91_AAM.txt\n",
      "!--------------------------------------------------------\n",
      "Reaction Decoder Tool (RDT)\n",
      "\n",
      "Author: Syed Asad Rahman\n",
      "e-mail: asad@ebi.ac.uk|s9asad@gmail.com\n",
      "c/o EMBL-European BioInformatics Institute (EBI)\n",
      "WTGC, CB10 1SD Hinxton\n",
      "UK\n",
      "\n",
      "Note: The copyright of this software belongs to the author\n",
      "and EMBL-European BioInformatics Institute (EBI).\n",
      "\n",
      "Reference\n",
      "Rahman, S.A. et.al.(2016) Reaction Decoder Tool (RDT):\n",
      "Extracting Features from Chemical Reactions, Bioinformatics (2016)\n",
      "doi: 10.1093/bioinformatics/btw096\n",
      "!--------------------------------------------------------\n",
      "\n",
      "-- AAM --\n"
     ]
    },
    {
     "name": "stderr",
     "output_type": "stream",
     "text": [
      "uk.ac.ebi.reactionblast.mechanism.ReactionMechanismTool WARN: Number of atom(s) on the Left side 10 =/= Number of atom(s) on the Right side 17\n",
      "uk.ac.ebi.reactionblast.mechanism.ReactionMechanismTool WARN: {C=6, O=4} =/= {C=6, O=9, P=2}\n",
      "uk.ac.ebi.reactionblast.mechanism.ReactionMechanismTool WARN: Unmapped atoms present in this reaction(MIN) algorithm.\n"
     ]
    },
    {
     "name": "stdout",
     "output_type": "stream",
     "text": [
      "0    [main] INFO  net.sf.jnati.deploy.artefact.ConfigManager  - Loading global configuration\n",
      "8    [main] DEBUG net.sf.jnati.deploy.artefact.ConfigManager  - Loading defaults: jar:file:/Users/krv114/Documents/GitHub/incawrapper/docs/examples/Literature%20data/wasylenko/RDT.jar!/META-INF/jnati/jnati.default-properties\n",
      "9    [main] INFO  net.sf.jnati.deploy.artefact.ConfigManager  - Loading artefact configuration: jniinchi-1.03_1\n",
      "12   [main] DEBUG net.sf.jnati.deploy.artefact.ConfigManager  - Loading instance defaults: jar:file:/Users/krv114/Documents/GitHub/incawrapper/docs/examples/Literature%20data/wasylenko/RDT.jar!/META-INF/jnati/jnati.instance.default-properties\n",
      "14   [main] INFO  net.sf.jnati.deploy.repository.ClasspathRepository  - Searching classpath for: jniinchi-1.03_1-MAC-X86_64\n",
      "15   [main] INFO  net.sf.jnati.deploy.repository.LocalRepository  - Searching local repository for: jniinchi-1.03_1-MAC-X86_64\n",
      "15   [main] DEBUG net.sf.jnati.deploy.repository.LocalRepository  - Artefact path: /Users/krv114/.jnati/repo/jniinchi/1.03_1/MAC-X86_64\n",
      "16   [main] INFO  net.sf.jnati.deploy.artefact.ManifestReader  - Reading manifest\n",
      "47   [main] INFO  net.sf.jnati.deploy.NativeArtefactLocator  - Artefact (jniinchi-1.03_1-MAC-X86_64) location: /Users/krv114/.jnati/repo/jniinchi/1.03_1/MAC-X86_64\n",
      "47   [main] DEBUG net.sf.jnati.deploy.NativeLibraryLoader  - Loading library: /Users/krv114/.jnati/repo/jniinchi/1.03_1/MAC-X86_64/JniInchi-1.03_1-MAC-X86_64\n"
     ]
    },
    {
     "name": "stderr",
     "output_type": "stream",
     "text": [
      "uk.ac.ebi.reactionblast.mechanism.ReactionMechanismTool WARN: Unmapped atoms present in this reaction(MAX) algorithm.\n",
      "uk.ac.ebi.reactionblast.mechanism.ReactionMechanismTool WARN: Unmapped atoms present in this reaction(MIXTURE) algorithm.\n"
     ]
    },
    {
     "name": "stdout",
     "output_type": "stream",
     "text": [
      "Mapped RXN File /Users/krv114/Documents/GitHub/incawrapper/docs/examples/Literature data/wasylenko/mappedRxns/ECBLAST_85_AAM.rxn\n"
     ]
    },
    {
     "name": "stderr",
     "output_type": "stream",
     "text": [
      "Warning: the fonts \"Times\" and \"Times\" are not available for the Java logical font \"Serif\", which may have unexpected appearance or behavior. Re-enable the \"Times\" font to remove this warning.\n"
     ]
    },
    {
     "name": "stdout",
     "output_type": "stream",
     "text": [
      "Annotated RXN Image /Users/krv114/Documents/GitHub/incawrapper/docs/examples/Literature data/wasylenko/mappedRxns/ECBLAST_85_AAM.png\n",
      "Output is presented in text format: /Users/krv114/Documents/GitHub/incawrapper/docs/examples/Literature data/wasylenko/mappedRxns/ECBLAST_85_AAM.txt\n",
      "!--------------------------------------------------------\n",
      "Reaction Decoder Tool (RDT)\n",
      "\n",
      "Author: Syed Asad Rahman\n",
      "e-mail: asad@ebi.ac.uk|s9asad@gmail.com\n",
      "c/o EMBL-European BioInformatics Institute (EBI)\n",
      "WTGC, CB10 1SD Hinxton\n",
      "UK\n",
      "\n",
      "Note: The copyright of this software belongs to the author\n",
      "and EMBL-European BioInformatics Institute (EBI).\n",
      "\n",
      "Reference\n",
      "Rahman, S.A. et.al.(2016) Reaction Decoder Tool (RDT):\n",
      "Extracting Features from Chemical Reactions, Bioinformatics (2016)\n",
      "doi: 10.1093/bioinformatics/btw096\n",
      "!--------------------------------------------------------\n",
      "\n",
      "-- AAM --\n",
      "0    [main] INFO  net.sf.jnati.deploy.artefact.ConfigManager  - Loading global configuration\n",
      "9    [main] DEBUG net.sf.jnati.deploy.artefact.ConfigManager  - Loading defaults: jar:file:/Users/krv114/Documents/GitHub/incawrapper/docs/examples/Literature%20data/wasylenko/RDT.jar!/META-INF/jnati/jnati.default-properties\n",
      "10   [main] INFO  net.sf.jnati.deploy.artefact.ConfigManager  - Loading artefact configuration: jniinchi-1.03_1\n",
      "12   [main] DEBUG net.sf.jnati.deploy.artefact.ConfigManager  - Loading instance defaults: jar:file:/Users/krv114/Documents/GitHub/incawrapper/docs/examples/Literature%20data/wasylenko/RDT.jar!/META-INF/jnati/jnati.instance.default-properties\n",
      "14   [main] INFO  net.sf.jnati.deploy.repository.ClasspathRepository  - Searching classpath for: jniinchi-1.03_1-MAC-X86_64\n",
      "15   [main] INFO  net.sf.jnati.deploy.repository.LocalRepository  - Searching local repository for: jniinchi-1.03_1-MAC-X86_64\n",
      "15   [main] DEBUG net.sf.jnati.deploy.repository.LocalRepository  - Artefact path: /Users/krv114/.jnati/repo/jniinchi/1.03_1/MAC-X86_64\n",
      "15   [main] INFO  net.sf.jnati.deploy.artefact.ManifestReader  - Reading manifest\n",
      "46   [main] INFO  net.sf.jnati.deploy.NativeArtefactLocator  - Artefact (jniinchi-1.03_1-MAC-X86_64) location: /Users/krv114/.jnati/repo/jniinchi/1.03_1/MAC-X86_64\n",
      "46   [main] DEBUG net.sf.jnati.deploy.NativeLibraryLoader  - Loading library: /Users/krv114/.jnati/repo/jniinchi/1.03_1/MAC-X86_64/JniInchi-1.03_1-MAC-X86_64\n",
      "Mapped RXN File /Users/krv114/Documents/GitHub/incawrapper/docs/examples/Literature data/wasylenko/mappedRxns/ECBLAST_35_AAM.rxn\n"
     ]
    },
    {
     "name": "stderr",
     "output_type": "stream",
     "text": [
      "Warning: the fonts \"Times\" and \"Times\" are not available for the Java logical font \"Serif\", which may have unexpected appearance or behavior. Re-enable the \"Times\" font to remove this warning.\n"
     ]
    },
    {
     "name": "stdout",
     "output_type": "stream",
     "text": [
      "Annotated RXN Image /Users/krv114/Documents/GitHub/incawrapper/docs/examples/Literature data/wasylenko/mappedRxns/ECBLAST_35_AAM.png\n",
      "Output is presented in text format: /Users/krv114/Documents/GitHub/incawrapper/docs/examples/Literature data/wasylenko/mappedRxns/ECBLAST_35_AAM.txt\n",
      "!--------------------------------------------------------\n",
      "Reaction Decoder Tool (RDT)\n",
      "\n",
      "Author: Syed Asad Rahman\n",
      "e-mail: asad@ebi.ac.uk|s9asad@gmail.com\n",
      "c/o EMBL-European BioInformatics Institute (EBI)\n",
      "WTGC, CB10 1SD Hinxton\n",
      "UK\n",
      "\n",
      "Note: The copyright of this software belongs to the author\n",
      "and EMBL-European BioInformatics Institute (EBI).\n",
      "\n",
      "Reference\n",
      "Rahman, S.A. et.al.(2016) Reaction Decoder Tool (RDT):\n",
      "Extracting Features from Chemical Reactions, Bioinformatics (2016)\n",
      "doi: 10.1093/bioinformatics/btw096\n",
      "!--------------------------------------------------------\n",
      "\n",
      "-- AAM --\n",
      "0    [main] INFO  net.sf.jnati.deploy.artefact.ConfigManager  - Loading global configuration\n",
      "11   [main] DEBUG net.sf.jnati.deploy.artefact.ConfigManager  - Loading defaults: jar:file:/Users/krv114/Documents/GitHub/incawrapper/docs/examples/Literature%20data/wasylenko/RDT.jar!/META-INF/jnati/jnati.default-properties\n",
      "12   [main] INFO  net.sf.jnati.deploy.artefact.ConfigManager  - Loading artefact configuration: jniinchi-1.03_1\n",
      "14   [main] DEBUG net.sf.jnati.deploy.artefact.ConfigManager  - Loading instance defaults: jar:file:/Users/krv114/Documents/GitHub/incawrapper/docs/examples/Literature%20data/wasylenko/RDT.jar!/META-INF/jnati/jnati.instance.default-properties\n",
      "15   [main] INFO  net.sf.jnati.deploy.repository.ClasspathRepository  - Searching classpath for: jniinchi-1.03_1-MAC-X86_64\n",
      "16   [main] INFO  net.sf.jnati.deploy.repository.LocalRepository  - Searching local repository for: jniinchi-1.03_1-MAC-X86_64\n",
      "17   [main] DEBUG net.sf.jnati.deploy.repository.LocalRepository  - Artefact path: /Users/krv114/.jnati/repo/jniinchi/1.03_1/MAC-X86_64\n",
      "17   [main] INFO  net.sf.jnati.deploy.artefact.ManifestReader  - Reading manifest\n",
      "47   [main] INFO  net.sf.jnati.deploy.NativeArtefactLocator  - Artefact (jniinchi-1.03_1-MAC-X86_64) location: /Users/krv114/.jnati/repo/jniinchi/1.03_1/MAC-X86_64\n",
      "48   [main] DEBUG net.sf.jnati.deploy.NativeLibraryLoader  - Loading library: /Users/krv114/.jnati/repo/jniinchi/1.03_1/MAC-X86_64/JniInchi-1.03_1-MAC-X86_64\n",
      "Mapped RXN File /Users/krv114/Documents/GitHub/incawrapper/docs/examples/Literature data/wasylenko/mappedRxns/ECBLAST_34_AAM.rxn\n"
     ]
    },
    {
     "name": "stderr",
     "output_type": "stream",
     "text": [
      "Warning: the fonts \"Times\" and \"Times\" are not available for the Java logical font \"Serif\", which may have unexpected appearance or behavior. Re-enable the \"Times\" font to remove this warning.\n"
     ]
    },
    {
     "name": "stdout",
     "output_type": "stream",
     "text": [
      "Annotated RXN Image /Users/krv114/Documents/GitHub/incawrapper/docs/examples/Literature data/wasylenko/mappedRxns/ECBLAST_34_AAM.png\n",
      "Output is presented in text format: /Users/krv114/Documents/GitHub/incawrapper/docs/examples/Literature data/wasylenko/mappedRxns/ECBLAST_34_AAM.txt\n",
      "!--------------------------------------------------------\n",
      "Reaction Decoder Tool (RDT)\n",
      "\n",
      "Author: Syed Asad Rahman\n",
      "e-mail: asad@ebi.ac.uk|s9asad@gmail.com\n",
      "c/o EMBL-European BioInformatics Institute (EBI)\n",
      "WTGC, CB10 1SD Hinxton\n",
      "UK\n",
      "\n",
      "Note: The copyright of this software belongs to the author\n",
      "and EMBL-European BioInformatics Institute (EBI).\n",
      "\n",
      "Reference\n",
      "Rahman, S.A. et.al.(2016) Reaction Decoder Tool (RDT):\n",
      "Extracting Features from Chemical Reactions, Bioinformatics (2016)\n",
      "doi: 10.1093/bioinformatics/btw096\n",
      "!--------------------------------------------------------\n",
      "\n",
      "-- AAM --\n",
      "0    [main] INFO  net.sf.jnati.deploy.artefact.ConfigManager  - Loading global configuration\n",
      "10   [main] DEBUG net.sf.jnati.deploy.artefact.ConfigManager  - Loading defaults: jar:file:/Users/krv114/Documents/GitHub/incawrapper/docs/examples/Literature%20data/wasylenko/RDT.jar!/META-INF/jnati/jnati.default-properties\n",
      "12   [main] INFO  net.sf.jnati.deploy.artefact.ConfigManager  - Loading artefact configuration: jniinchi-1.03_1\n",
      "14   [main] DEBUG net.sf.jnati.deploy.artefact.ConfigManager  - Loading instance defaults: jar:file:/Users/krv114/Documents/GitHub/incawrapper/docs/examples/Literature%20data/wasylenko/RDT.jar!/META-INF/jnati/jnati.instance.default-properties\n",
      "16   [main] INFO  net.sf.jnati.deploy.repository.ClasspathRepository  - Searching classpath for: jniinchi-1.03_1-MAC-X86_64\n",
      "17   [main] INFO  net.sf.jnati.deploy.repository.LocalRepository  - Searching local repository for: jniinchi-1.03_1-MAC-X86_64\n",
      "17   [main] DEBUG net.sf.jnati.deploy.repository.LocalRepository  - Artefact path: /Users/krv114/.jnati/repo/jniinchi/1.03_1/MAC-X86_64\n",
      "17   [main] INFO  net.sf.jnati.deploy.artefact.ManifestReader  - Reading manifest\n",
      "48   [main] INFO  net.sf.jnati.deploy.NativeArtefactLocator  - Artefact (jniinchi-1.03_1-MAC-X86_64) location: /Users/krv114/.jnati/repo/jniinchi/1.03_1/MAC-X86_64\n",
      "48   [main] DEBUG net.sf.jnati.deploy.NativeLibraryLoader  - Loading library: /Users/krv114/.jnati/repo/jniinchi/1.03_1/MAC-X86_64/JniInchi-1.03_1-MAC-X86_64\n",
      "Mapped RXN File /Users/krv114/Documents/GitHub/incawrapper/docs/examples/Literature data/wasylenko/mappedRxns/ECBLAST_20_AAM.rxn\n"
     ]
    },
    {
     "name": "stderr",
     "output_type": "stream",
     "text": [
      "Warning: the fonts \"Times\" and \"Times\" are not available for the Java logical font \"Serif\", which may have unexpected appearance or behavior. Re-enable the \"Times\" font to remove this warning.\n"
     ]
    },
    {
     "name": "stdout",
     "output_type": "stream",
     "text": [
      "Annotated RXN Image /Users/krv114/Documents/GitHub/incawrapper/docs/examples/Literature data/wasylenko/mappedRxns/ECBLAST_20_AAM.png\n",
      "Output is presented in text format: /Users/krv114/Documents/GitHub/incawrapper/docs/examples/Literature data/wasylenko/mappedRxns/ECBLAST_20_AAM.txt\n",
      "!--------------------------------------------------------\n",
      "Reaction Decoder Tool (RDT)\n",
      "\n",
      "Author: Syed Asad Rahman\n",
      "e-mail: asad@ebi.ac.uk|s9asad@gmail.com\n",
      "c/o EMBL-European BioInformatics Institute (EBI)\n",
      "WTGC, CB10 1SD Hinxton\n",
      "UK\n",
      "\n",
      "Note: The copyright of this software belongs to the author\n",
      "and EMBL-European BioInformatics Institute (EBI).\n",
      "\n",
      "Reference\n",
      "Rahman, S.A. et.al.(2016) Reaction Decoder Tool (RDT):\n",
      "Extracting Features from Chemical Reactions, Bioinformatics (2016)\n",
      "doi: 10.1093/bioinformatics/btw096\n",
      "!--------------------------------------------------------\n",
      "\n",
      "-- AAM --\n"
     ]
    },
    {
     "name": "stderr",
     "output_type": "stream",
     "text": [
      "uk.ac.ebi.reactionblast.mechanism.ReactionMechanismTool WARN: Number of atom(s) on the Left side 10 =/= Number of atom(s) on the Right side 11\n",
      "uk.ac.ebi.reactionblast.mechanism.ReactionMechanismTool WARN: {C=5, O=5} =/= {C=5, O=6}\n",
      "uk.ac.ebi.reactionblast.mechanism.ReactionMechanismTool WARN: Unmapped atoms present in this reaction(MIN) algorithm.\n"
     ]
    },
    {
     "name": "stdout",
     "output_type": "stream",
     "text": [
      "0    [main] INFO  net.sf.jnati.deploy.artefact.ConfigManager  - Loading global configuration\n",
      "9    [main] DEBUG net.sf.jnati.deploy.artefact.ConfigManager  - Loading defaults: jar:file:/Users/krv114/Documents/GitHub/incawrapper/docs/examples/Literature%20data/wasylenko/RDT.jar!/META-INF/jnati/jnati.default-properties\n",
      "10   [main] INFO  net.sf.jnati.deploy.artefact.ConfigManager  - Loading artefact configuration: jniinchi-1.03_1\n",
      "13   [main] DEBUG net.sf.jnati.deploy.artefact.ConfigManager  - Loading instance defaults: jar:file:/Users/krv114/Documents/GitHub/incawrapper/docs/examples/Literature%20data/wasylenko/RDT.jar!/META-INF/jnati/jnati.instance.default-properties\n",
      "14   [main] INFO  net.sf.jnati.deploy.repository.ClasspathRepository  - Searching classpath for: jniinchi-1.03_1-MAC-X86_64\n",
      "15   [main] INFO  net.sf.jnati.deploy.repository.LocalRepository  - Searching local repository for: jniinchi-1.03_1-MAC-X86_64\n",
      "16   [main] DEBUG net.sf.jnati.deploy.repository.LocalRepository  - Artefact path: /Users/krv114/.jnati/repo/jniinchi/1.03_1/MAC-X86_64\n",
      "16   [main] INFO  net.sf.jnati.deploy.artefact.ManifestReader  - Reading manifest\n",
      "45   [main] INFO  net.sf.jnati.deploy.NativeArtefactLocator  - Artefact (jniinchi-1.03_1-MAC-X86_64) location: /Users/krv114/.jnati/repo/jniinchi/1.03_1/MAC-X86_64\n",
      "46   [main] DEBUG net.sf.jnati.deploy.NativeLibraryLoader  - Loading library: /Users/krv114/.jnati/repo/jniinchi/1.03_1/MAC-X86_64/JniInchi-1.03_1-MAC-X86_64\n"
     ]
    },
    {
     "name": "stderr",
     "output_type": "stream",
     "text": [
      "uk.ac.ebi.reactionblast.mechanism.ReactionMechanismTool WARN: Unmapped atoms present in this reaction(MAX) algorithm.\n",
      "uk.ac.ebi.reactionblast.mechanism.ReactionMechanismTool WARN: Unmapped atoms present in this reaction(MIXTURE) algorithm.\n"
     ]
    },
    {
     "name": "stdout",
     "output_type": "stream",
     "text": [
      "Mapped RXN File /Users/krv114/Documents/GitHub/incawrapper/docs/examples/Literature data/wasylenko/mappedRxns/ECBLAST_36_AAM.rxn\n"
     ]
    },
    {
     "name": "stderr",
     "output_type": "stream",
     "text": [
      "Warning: the fonts \"Times\" and \"Times\" are not available for the Java logical font \"Serif\", which may have unexpected appearance or behavior. Re-enable the \"Times\" font to remove this warning.\n"
     ]
    },
    {
     "name": "stdout",
     "output_type": "stream",
     "text": [
      "Annotated RXN Image /Users/krv114/Documents/GitHub/incawrapper/docs/examples/Literature data/wasylenko/mappedRxns/ECBLAST_36_AAM.png\n",
      "Output is presented in text format: /Users/krv114/Documents/GitHub/incawrapper/docs/examples/Literature data/wasylenko/mappedRxns/ECBLAST_36_AAM.txt\n",
      "!--------------------------------------------------------\n",
      "Reaction Decoder Tool (RDT)\n",
      "\n",
      "Author: Syed Asad Rahman\n",
      "e-mail: asad@ebi.ac.uk|s9asad@gmail.com\n",
      "c/o EMBL-European BioInformatics Institute (EBI)\n",
      "WTGC, CB10 1SD Hinxton\n",
      "UK\n",
      "\n",
      "Note: The copyright of this software belongs to the author\n",
      "and EMBL-European BioInformatics Institute (EBI).\n",
      "\n",
      "Reference\n",
      "Rahman, S.A. et.al.(2016) Reaction Decoder Tool (RDT):\n",
      "Extracting Features from Chemical Reactions, Bioinformatics (2016)\n",
      "doi: 10.1093/bioinformatics/btw096\n",
      "!--------------------------------------------------------\n",
      "\n",
      "-- AAM --\n",
      "0    [main] INFO  net.sf.jnati.deploy.artefact.ConfigManager  - Loading global configuration\n",
      "8    [main] DEBUG net.sf.jnati.deploy.artefact.ConfigManager  - Loading defaults: jar:file:/Users/krv114/Documents/GitHub/incawrapper/docs/examples/Literature%20data/wasylenko/RDT.jar!/META-INF/jnati/jnati.default-properties\n",
      "9    [main] INFO  net.sf.jnati.deploy.artefact.ConfigManager  - Loading artefact configuration: jniinchi-1.03_1\n",
      "12   [main] DEBUG net.sf.jnati.deploy.artefact.ConfigManager  - Loading instance defaults: jar:file:/Users/krv114/Documents/GitHub/incawrapper/docs/examples/Literature%20data/wasylenko/RDT.jar!/META-INF/jnati/jnati.instance.default-properties\n",
      "14   [main] INFO  net.sf.jnati.deploy.repository.ClasspathRepository  - Searching classpath for: jniinchi-1.03_1-MAC-X86_64\n",
      "15   [main] INFO  net.sf.jnati.deploy.repository.LocalRepository  - Searching local repository for: jniinchi-1.03_1-MAC-X86_64\n",
      "15   [main] DEBUG net.sf.jnati.deploy.repository.LocalRepository  - Artefact path: /Users/krv114/.jnati/repo/jniinchi/1.03_1/MAC-X86_64\n",
      "15   [main] INFO  net.sf.jnati.deploy.artefact.ManifestReader  - Reading manifest\n",
      "45   [main] INFO  net.sf.jnati.deploy.NativeArtefactLocator  - Artefact (jniinchi-1.03_1-MAC-X86_64) location: /Users/krv114/.jnati/repo/jniinchi/1.03_1/MAC-X86_64\n",
      "45   [main] DEBUG net.sf.jnati.deploy.NativeLibraryLoader  - Loading library: /Users/krv114/.jnati/repo/jniinchi/1.03_1/MAC-X86_64/JniInchi-1.03_1-MAC-X86_64\n",
      "Mapped RXN File /Users/krv114/Documents/GitHub/incawrapper/docs/examples/Literature data/wasylenko/mappedRxns/ECBLAST_37_AAM.rxn\n"
     ]
    },
    {
     "name": "stderr",
     "output_type": "stream",
     "text": [
      "Warning: the fonts \"Times\" and \"Times\" are not available for the Java logical font \"Serif\", which may have unexpected appearance or behavior. Re-enable the \"Times\" font to remove this warning.\n"
     ]
    },
    {
     "name": "stdout",
     "output_type": "stream",
     "text": [
      "Annotated RXN Image /Users/krv114/Documents/GitHub/incawrapper/docs/examples/Literature data/wasylenko/mappedRxns/ECBLAST_37_AAM.png\n",
      "Output is presented in text format: /Users/krv114/Documents/GitHub/incawrapper/docs/examples/Literature data/wasylenko/mappedRxns/ECBLAST_37_AAM.txt\n",
      "!--------------------------------------------------------\n",
      "Reaction Decoder Tool (RDT)\n",
      "\n",
      "Author: Syed Asad Rahman\n",
      "e-mail: asad@ebi.ac.uk|s9asad@gmail.com\n",
      "c/o EMBL-European BioInformatics Institute (EBI)\n",
      "WTGC, CB10 1SD Hinxton\n",
      "UK\n",
      "\n",
      "Note: The copyright of this software belongs to the author\n",
      "and EMBL-European BioInformatics Institute (EBI).\n",
      "\n",
      "Reference\n",
      "Rahman, S.A. et.al.(2016) Reaction Decoder Tool (RDT):\n",
      "Extracting Features from Chemical Reactions, Bioinformatics (2016)\n",
      "doi: 10.1093/bioinformatics/btw096\n",
      "!--------------------------------------------------------\n",
      "\n",
      "-- AAM --\n"
     ]
    },
    {
     "name": "stderr",
     "output_type": "stream",
     "text": [
      "uk.ac.ebi.reactionblast.mechanism.ReactionMechanismTool WARN: Number of atom(s) on the Left side 60 =/= Number of atom(s) on the Right side 13\n",
      "uk.ac.ebi.reactionblast.mechanism.ReactionMechanismTool WARN: {C=27, N=7, O=22, P=3, S=1} =/= {C=6, O=7}\n",
      "uk.ac.ebi.reactionblast.mechanism.ReactionMechanismTool WARN: Unmapped atoms present in this reaction(MIN) algorithm.\n"
     ]
    },
    {
     "name": "stdout",
     "output_type": "stream",
     "text": [
      "0    [main] INFO  net.sf.jnati.deploy.artefact.ConfigManager  - Loading global configuration\n",
      "9    [main] DEBUG net.sf.jnati.deploy.artefact.ConfigManager  - Loading defaults: jar:file:/Users/krv114/Documents/GitHub/incawrapper/docs/examples/Literature%20data/wasylenko/RDT.jar!/META-INF/jnati/jnati.default-properties\n",
      "10   [main] INFO  net.sf.jnati.deploy.artefact.ConfigManager  - Loading artefact configuration: jniinchi-1.03_1\n",
      "12   [main] DEBUG net.sf.jnati.deploy.artefact.ConfigManager  - Loading instance defaults: jar:file:/Users/krv114/Documents/GitHub/incawrapper/docs/examples/Literature%20data/wasylenko/RDT.jar!/META-INF/jnati/jnati.instance.default-properties\n",
      "14   [main] INFO  net.sf.jnati.deploy.repository.ClasspathRepository  - Searching classpath for: jniinchi-1.03_1-MAC-X86_64\n",
      "15   [main] INFO  net.sf.jnati.deploy.repository.LocalRepository  - Searching local repository for: jniinchi-1.03_1-MAC-X86_64\n",
      "15   [main] DEBUG net.sf.jnati.deploy.repository.LocalRepository  - Artefact path: /Users/krv114/.jnati/repo/jniinchi/1.03_1/MAC-X86_64\n",
      "15   [main] INFO  net.sf.jnati.deploy.artefact.ManifestReader  - Reading manifest\n",
      "44   [main] INFO  net.sf.jnati.deploy.NativeArtefactLocator  - Artefact (jniinchi-1.03_1-MAC-X86_64) location: /Users/krv114/.jnati/repo/jniinchi/1.03_1/MAC-X86_64\n",
      "44   [main] DEBUG net.sf.jnati.deploy.NativeLibraryLoader  - Loading library: /Users/krv114/.jnati/repo/jniinchi/1.03_1/MAC-X86_64/JniInchi-1.03_1-MAC-X86_64\n"
     ]
    },
    {
     "name": "stderr",
     "output_type": "stream",
     "text": [
      "uk.ac.ebi.reactionblast.mechanism.ReactionMechanismTool WARN: Unmapped atoms present in this reaction(MAX) algorithm.\n",
      "uk.ac.ebi.reactionblast.mechanism.ReactionMechanismTool WARN: Unmapped atoms present in this reaction(MIXTURE) algorithm.\n"
     ]
    },
    {
     "name": "stdout",
     "output_type": "stream",
     "text": [
      "Mapped RXN File /Users/krv114/Documents/GitHub/incawrapper/docs/examples/Literature data/wasylenko/mappedRxns/ECBLAST_33_AAM.rxn\n"
     ]
    },
    {
     "name": "stderr",
     "output_type": "stream",
     "text": [
      "Warning: the fonts \"Times\" and \"Times\" are not available for the Java logical font \"Serif\", which may have unexpected appearance or behavior. Re-enable the \"Times\" font to remove this warning.\n"
     ]
    },
    {
     "name": "stdout",
     "output_type": "stream",
     "text": [
      "Annotated RXN Image /Users/krv114/Documents/GitHub/incawrapper/docs/examples/Literature data/wasylenko/mappedRxns/ECBLAST_33_AAM.png\n",
      "Output is presented in text format: /Users/krv114/Documents/GitHub/incawrapper/docs/examples/Literature data/wasylenko/mappedRxns/ECBLAST_33_AAM.txt\n",
      "!--------------------------------------------------------\n",
      "Reaction Decoder Tool (RDT)\n",
      "\n",
      "Author: Syed Asad Rahman\n",
      "e-mail: asad@ebi.ac.uk|s9asad@gmail.com\n",
      "c/o EMBL-European BioInformatics Institute (EBI)\n",
      "WTGC, CB10 1SD Hinxton\n",
      "UK\n",
      "\n",
      "Note: The copyright of this software belongs to the author\n",
      "and EMBL-European BioInformatics Institute (EBI).\n",
      "\n",
      "Reference\n",
      "Rahman, S.A. et.al.(2016) Reaction Decoder Tool (RDT):\n",
      "Extracting Features from Chemical Reactions, Bioinformatics (2016)\n",
      "doi: 10.1093/bioinformatics/btw096\n",
      "!--------------------------------------------------------\n",
      "\n",
      "-- AAM --\n",
      "0    [main] INFO  net.sf.jnati.deploy.artefact.ConfigManager  - Loading global configuration\n",
      "8    [main] DEBUG net.sf.jnati.deploy.artefact.ConfigManager  - Loading defaults: jar:file:/Users/krv114/Documents/GitHub/incawrapper/docs/examples/Literature%20data/wasylenko/RDT.jar!/META-INF/jnati/jnati.default-properties\n",
      "9    [main] INFO  net.sf.jnati.deploy.artefact.ConfigManager  - Loading artefact configuration: jniinchi-1.03_1\n",
      "12   [main] DEBUG net.sf.jnati.deploy.artefact.ConfigManager  - Loading instance defaults: jar:file:/Users/krv114/Documents/GitHub/incawrapper/docs/examples/Literature%20data/wasylenko/RDT.jar!/META-INF/jnati/jnati.instance.default-properties\n",
      "14   [main] INFO  net.sf.jnati.deploy.repository.ClasspathRepository  - Searching classpath for: jniinchi-1.03_1-MAC-X86_64\n",
      "15   [main] INFO  net.sf.jnati.deploy.repository.LocalRepository  - Searching local repository for: jniinchi-1.03_1-MAC-X86_64\n",
      "15   [main] DEBUG net.sf.jnati.deploy.repository.LocalRepository  - Artefact path: /Users/krv114/.jnati/repo/jniinchi/1.03_1/MAC-X86_64\n",
      "15   [main] INFO  net.sf.jnati.deploy.artefact.ManifestReader  - Reading manifest\n",
      "45   [main] INFO  net.sf.jnati.deploy.NativeArtefactLocator  - Artefact (jniinchi-1.03_1-MAC-X86_64) location: /Users/krv114/.jnati/repo/jniinchi/1.03_1/MAC-X86_64\n",
      "45   [main] DEBUG net.sf.jnati.deploy.NativeLibraryLoader  - Loading library: /Users/krv114/.jnati/repo/jniinchi/1.03_1/MAC-X86_64/JniInchi-1.03_1-MAC-X86_64\n",
      "Mapped RXN File /Users/krv114/Documents/GitHub/incawrapper/docs/examples/Literature data/wasylenko/mappedRxns/ECBLAST_27_AAM.rxn\n"
     ]
    },
    {
     "name": "stderr",
     "output_type": "stream",
     "text": [
      "Warning: the fonts \"Times\" and \"Times\" are not available for the Java logical font \"Serif\", which may have unexpected appearance or behavior. Re-enable the \"Times\" font to remove this warning.\n"
     ]
    },
    {
     "name": "stdout",
     "output_type": "stream",
     "text": [
      "Annotated RXN Image /Users/krv114/Documents/GitHub/incawrapper/docs/examples/Literature data/wasylenko/mappedRxns/ECBLAST_27_AAM.png\n",
      "Output is presented in text format: /Users/krv114/Documents/GitHub/incawrapper/docs/examples/Literature data/wasylenko/mappedRxns/ECBLAST_27_AAM.txt\n",
      "!--------------------------------------------------------\n",
      "Reaction Decoder Tool (RDT)\n",
      "\n",
      "Author: Syed Asad Rahman\n",
      "e-mail: asad@ebi.ac.uk|s9asad@gmail.com\n",
      "c/o EMBL-European BioInformatics Institute (EBI)\n",
      "WTGC, CB10 1SD Hinxton\n",
      "UK\n",
      "\n",
      "Note: The copyright of this software belongs to the author\n",
      "and EMBL-European BioInformatics Institute (EBI).\n",
      "\n",
      "Reference\n",
      "Rahman, S.A. et.al.(2016) Reaction Decoder Tool (RDT):\n",
      "Extracting Features from Chemical Reactions, Bioinformatics (2016)\n",
      "doi: 10.1093/bioinformatics/btw096\n",
      "!--------------------------------------------------------\n",
      "\n",
      "-- AAM --\n",
      "0    [main] INFO  net.sf.jnati.deploy.artefact.ConfigManager  - Loading global configuration\n",
      "10   [main] DEBUG net.sf.jnati.deploy.artefact.ConfigManager  - Loading defaults: jar:file:/Users/krv114/Documents/GitHub/incawrapper/docs/examples/Literature%20data/wasylenko/RDT.jar!/META-INF/jnati/jnati.default-properties\n",
      "12   [main] INFO  net.sf.jnati.deploy.artefact.ConfigManager  - Loading artefact configuration: jniinchi-1.03_1\n",
      "13   [main] DEBUG net.sf.jnati.deploy.artefact.ConfigManager  - Loading instance defaults: jar:file:/Users/krv114/Documents/GitHub/incawrapper/docs/examples/Literature%20data/wasylenko/RDT.jar!/META-INF/jnati/jnati.instance.default-properties\n",
      "15   [main] INFO  net.sf.jnati.deploy.repository.ClasspathRepository  - Searching classpath for: jniinchi-1.03_1-MAC-X86_64\n",
      "16   [main] INFO  net.sf.jnati.deploy.repository.LocalRepository  - Searching local repository for: jniinchi-1.03_1-MAC-X86_64\n",
      "16   [main] DEBUG net.sf.jnati.deploy.repository.LocalRepository  - Artefact path: /Users/krv114/.jnati/repo/jniinchi/1.03_1/MAC-X86_64\n",
      "17   [main] INFO  net.sf.jnati.deploy.artefact.ManifestReader  - Reading manifest\n",
      "48   [main] INFO  net.sf.jnati.deploy.NativeArtefactLocator  - Artefact (jniinchi-1.03_1-MAC-X86_64) location: /Users/krv114/.jnati/repo/jniinchi/1.03_1/MAC-X86_64\n",
      "48   [main] DEBUG net.sf.jnati.deploy.NativeLibraryLoader  - Loading library: /Users/krv114/.jnati/repo/jniinchi/1.03_1/MAC-X86_64/JniInchi-1.03_1-MAC-X86_64\n",
      "Mapped RXN File /Users/krv114/Documents/GitHub/incawrapper/docs/examples/Literature data/wasylenko/mappedRxns/ECBLAST_26_AAM.rxn\n"
     ]
    },
    {
     "name": "stderr",
     "output_type": "stream",
     "text": [
      "Warning: the fonts \"Times\" and \"Times\" are not available for the Java logical font \"Serif\", which may have unexpected appearance or behavior. Re-enable the \"Times\" font to remove this warning.\n"
     ]
    },
    {
     "name": "stdout",
     "output_type": "stream",
     "text": [
      "Annotated RXN Image /Users/krv114/Documents/GitHub/incawrapper/docs/examples/Literature data/wasylenko/mappedRxns/ECBLAST_26_AAM.png\n",
      "Output is presented in text format: /Users/krv114/Documents/GitHub/incawrapper/docs/examples/Literature data/wasylenko/mappedRxns/ECBLAST_26_AAM.txt\n",
      "!--------------------------------------------------------\n",
      "Reaction Decoder Tool (RDT)\n",
      "\n",
      "Author: Syed Asad Rahman\n",
      "e-mail: asad@ebi.ac.uk|s9asad@gmail.com\n",
      "c/o EMBL-European BioInformatics Institute (EBI)\n",
      "WTGC, CB10 1SD Hinxton\n",
      "UK\n",
      "\n",
      "Note: The copyright of this software belongs to the author\n",
      "and EMBL-European BioInformatics Institute (EBI).\n",
      "\n",
      "Reference\n",
      "Rahman, S.A. et.al.(2016) Reaction Decoder Tool (RDT):\n",
      "Extracting Features from Chemical Reactions, Bioinformatics (2016)\n",
      "doi: 10.1093/bioinformatics/btw096\n",
      "!--------------------------------------------------------\n",
      "\n",
      "-- AAM --\n"
     ]
    },
    {
     "name": "stderr",
     "output_type": "stream",
     "text": [
      "uk.ac.ebi.reactionblast.mechanism.ReactionMechanismTool WARN: Number of atom(s) on the Left side 6 =/= Number of atom(s) on the Right side 54\n",
      "uk.ac.ebi.reactionblast.mechanism.ReactionMechanismTool WARN: {C=3, O=3} =/= {C=24, N=7, O=19, P=3, S=1}\n",
      "uk.ac.ebi.reactionblast.mechanism.ReactionMechanismTool WARN: Unmapped atoms present in this reaction(MIN) algorithm.\n"
     ]
    },
    {
     "name": "stdout",
     "output_type": "stream",
     "text": [
      "0    [main] INFO  net.sf.jnati.deploy.artefact.ConfigManager  - Loading global configuration\n",
      "12   [main] DEBUG net.sf.jnati.deploy.artefact.ConfigManager  - Loading defaults: jar:file:/Users/krv114/Documents/GitHub/incawrapper/docs/examples/Literature%20data/wasylenko/RDT.jar!/META-INF/jnati/jnati.default-properties\n",
      "14   [main] INFO  net.sf.jnati.deploy.artefact.ConfigManager  - Loading artefact configuration: jniinchi-1.03_1\n",
      "17   [main] DEBUG net.sf.jnati.deploy.artefact.ConfigManager  - Loading instance defaults: jar:file:/Users/krv114/Documents/GitHub/incawrapper/docs/examples/Literature%20data/wasylenko/RDT.jar!/META-INF/jnati/jnati.instance.default-properties\n",
      "21   [main] INFO  net.sf.jnati.deploy.repository.ClasspathRepository  - Searching classpath for: jniinchi-1.03_1-MAC-X86_64\n",
      "22   [main] INFO  net.sf.jnati.deploy.repository.LocalRepository  - Searching local repository for: jniinchi-1.03_1-MAC-X86_64\n",
      "22   [main] DEBUG net.sf.jnati.deploy.repository.LocalRepository  - Artefact path: /Users/krv114/.jnati/repo/jniinchi/1.03_1/MAC-X86_64\n",
      "23   [main] INFO  net.sf.jnati.deploy.artefact.ManifestReader  - Reading manifest\n",
      "54   [main] INFO  net.sf.jnati.deploy.NativeArtefactLocator  - Artefact (jniinchi-1.03_1-MAC-X86_64) location: /Users/krv114/.jnati/repo/jniinchi/1.03_1/MAC-X86_64\n",
      "54   [main] DEBUG net.sf.jnati.deploy.NativeLibraryLoader  - Loading library: /Users/krv114/.jnati/repo/jniinchi/1.03_1/MAC-X86_64/JniInchi-1.03_1-MAC-X86_64\n"
     ]
    },
    {
     "name": "stderr",
     "output_type": "stream",
     "text": [
      "uk.ac.ebi.reactionblast.mechanism.ReactionMechanismTool WARN: Unmapped atoms present in this reaction(MAX) algorithm.\n",
      "uk.ac.ebi.reactionblast.mechanism.ReactionMechanismTool WARN: Unmapped atoms present in this reaction(MIXTURE) algorithm.\n"
     ]
    },
    {
     "name": "stdout",
     "output_type": "stream",
     "text": [
      "Mapped RXN File /Users/krv114/Documents/GitHub/incawrapper/docs/examples/Literature data/wasylenko/mappedRxns/ECBLAST_32_AAM.rxn\n"
     ]
    },
    {
     "name": "stderr",
     "output_type": "stream",
     "text": [
      "Warning: the fonts \"Times\" and \"Times\" are not available for the Java logical font \"Serif\", which may have unexpected appearance or behavior. Re-enable the \"Times\" font to remove this warning.\n"
     ]
    },
    {
     "name": "stdout",
     "output_type": "stream",
     "text": [
      "Annotated RXN Image /Users/krv114/Documents/GitHub/incawrapper/docs/examples/Literature data/wasylenko/mappedRxns/ECBLAST_32_AAM.png\n",
      "Output is presented in text format: /Users/krv114/Documents/GitHub/incawrapper/docs/examples/Literature data/wasylenko/mappedRxns/ECBLAST_32_AAM.txt\n",
      "!--------------------------------------------------------\n",
      "Reaction Decoder Tool (RDT)\n",
      "\n",
      "Author: Syed Asad Rahman\n",
      "e-mail: asad@ebi.ac.uk|s9asad@gmail.com\n",
      "c/o EMBL-European BioInformatics Institute (EBI)\n",
      "WTGC, CB10 1SD Hinxton\n",
      "UK\n",
      "\n",
      "Note: The copyright of this software belongs to the author\n",
      "and EMBL-European BioInformatics Institute (EBI).\n",
      "\n",
      "Reference\n",
      "Rahman, S.A. et.al.(2016) Reaction Decoder Tool (RDT):\n",
      "Extracting Features from Chemical Reactions, Bioinformatics (2016)\n",
      "doi: 10.1093/bioinformatics/btw096\n",
      "!--------------------------------------------------------\n",
      "\n",
      "-- AAM --\n"
     ]
    },
    {
     "name": "stderr",
     "output_type": "stream",
     "text": [
      "uk.ac.ebi.reactionblast.mechanism.ReactionMechanismTool WARN: Number of atom(s) on the Left side 16 =/= Number of atom(s) on the Right side 17\n",
      "uk.ac.ebi.reactionblast.mechanism.ReactionMechanismTool WARN: {C=6, O=9, P=1} =/= {C=6, O=10, P=1}\n",
      "uk.ac.ebi.reactionblast.mechanism.ReactionMechanismTool WARN: Unmapped atoms present in this reaction(MIN) algorithm.\n"
     ]
    },
    {
     "name": "stdout",
     "output_type": "stream",
     "text": [
      "0    [main] INFO  net.sf.jnati.deploy.artefact.ConfigManager  - Loading global configuration\n",
      "9    [main] DEBUG net.sf.jnati.deploy.artefact.ConfigManager  - Loading defaults: jar:file:/Users/krv114/Documents/GitHub/incawrapper/docs/examples/Literature%20data/wasylenko/RDT.jar!/META-INF/jnati/jnati.default-properties\n",
      "10   [main] INFO  net.sf.jnati.deploy.artefact.ConfigManager  - Loading artefact configuration: jniinchi-1.03_1\n",
      "12   [main] DEBUG net.sf.jnati.deploy.artefact.ConfigManager  - Loading instance defaults: jar:file:/Users/krv114/Documents/GitHub/incawrapper/docs/examples/Literature%20data/wasylenko/RDT.jar!/META-INF/jnati/jnati.instance.default-properties\n",
      "14   [main] INFO  net.sf.jnati.deploy.repository.ClasspathRepository  - Searching classpath for: jniinchi-1.03_1-MAC-X86_64\n",
      "15   [main] INFO  net.sf.jnati.deploy.repository.LocalRepository  - Searching local repository for: jniinchi-1.03_1-MAC-X86_64\n",
      "15   [main] DEBUG net.sf.jnati.deploy.repository.LocalRepository  - Artefact path: /Users/krv114/.jnati/repo/jniinchi/1.03_1/MAC-X86_64\n",
      "16   [main] INFO  net.sf.jnati.deploy.artefact.ManifestReader  - Reading manifest\n",
      "49   [main] INFO  net.sf.jnati.deploy.NativeArtefactLocator  - Artefact (jniinchi-1.03_1-MAC-X86_64) location: /Users/krv114/.jnati/repo/jniinchi/1.03_1/MAC-X86_64\n",
      "49   [main] DEBUG net.sf.jnati.deploy.NativeLibraryLoader  - Loading library: /Users/krv114/.jnati/repo/jniinchi/1.03_1/MAC-X86_64/JniInchi-1.03_1-MAC-X86_64\n"
     ]
    },
    {
     "name": "stderr",
     "output_type": "stream",
     "text": [
      "uk.ac.ebi.reactionblast.mechanism.ReactionMechanismTool WARN: Unmapped atoms present in this reaction(MAX) algorithm.\n",
      "uk.ac.ebi.reactionblast.mechanism.ReactionMechanismTool WARN: Unmapped atoms present in this reaction(MIXTURE) algorithm.\n"
     ]
    },
    {
     "name": "stdout",
     "output_type": "stream",
     "text": [
      "Mapped RXN File /Users/krv114/Documents/GitHub/incawrapper/docs/examples/Literature data/wasylenko/mappedRxns/ECBLAST_18_AAM.rxn\n"
     ]
    },
    {
     "name": "stderr",
     "output_type": "stream",
     "text": [
      "Warning: the fonts \"Times\" and \"Times\" are not available for the Java logical font \"Serif\", which may have unexpected appearance or behavior. Re-enable the \"Times\" font to remove this warning.\n"
     ]
    },
    {
     "name": "stdout",
     "output_type": "stream",
     "text": [
      "Annotated RXN Image /Users/krv114/Documents/GitHub/incawrapper/docs/examples/Literature data/wasylenko/mappedRxns/ECBLAST_18_AAM.png\n",
      "Output is presented in text format: /Users/krv114/Documents/GitHub/incawrapper/docs/examples/Literature data/wasylenko/mappedRxns/ECBLAST_18_AAM.txt\n",
      "!--------------------------------------------------------\n",
      "Reaction Decoder Tool (RDT)\n",
      "\n",
      "Author: Syed Asad Rahman\n",
      "e-mail: asad@ebi.ac.uk|s9asad@gmail.com\n",
      "c/o EMBL-European BioInformatics Institute (EBI)\n",
      "WTGC, CB10 1SD Hinxton\n",
      "UK\n",
      "\n",
      "Note: The copyright of this software belongs to the author\n",
      "and EMBL-European BioInformatics Institute (EBI).\n",
      "\n",
      "Reference\n",
      "Rahman, S.A. et.al.(2016) Reaction Decoder Tool (RDT):\n",
      "Extracting Features from Chemical Reactions, Bioinformatics (2016)\n",
      "doi: 10.1093/bioinformatics/btw096\n",
      "!--------------------------------------------------------\n",
      "\n",
      "-- AAM --\n"
     ]
    },
    {
     "name": "stderr",
     "output_type": "stream",
     "text": [
      "uk.ac.ebi.reactionblast.mechanism.ReactionMechanismTool WARN: Number of atom(s) on the Left side 3 =/= Number of atom(s) on the Right side 4\n",
      "uk.ac.ebi.reactionblast.mechanism.ReactionMechanismTool WARN: {C=2, O=1} =/= {C=2, O=2}\n",
      "uk.ac.ebi.reactionblast.mechanism.ReactionMechanismTool WARN: Unmapped atoms present in this reaction(MIN) algorithm.\n"
     ]
    },
    {
     "name": "stdout",
     "output_type": "stream",
     "text": [
      "0    [main] INFO  net.sf.jnati.deploy.artefact.ConfigManager  - Loading global configuration\n",
      "10   [main] DEBUG net.sf.jnati.deploy.artefact.ConfigManager  - Loading defaults: jar:file:/Users/krv114/Documents/GitHub/incawrapper/docs/examples/Literature%20data/wasylenko/RDT.jar!/META-INF/jnati/jnati.default-properties\n",
      "12   [main] INFO  net.sf.jnati.deploy.artefact.ConfigManager  - Loading artefact configuration: jniinchi-1.03_1\n",
      "13   [main] DEBUG net.sf.jnati.deploy.artefact.ConfigManager  - Loading instance defaults: jar:file:/Users/krv114/Documents/GitHub/incawrapper/docs/examples/Literature%20data/wasylenko/RDT.jar!/META-INF/jnati/jnati.instance.default-properties\n",
      "15   [main] INFO  net.sf.jnati.deploy.repository.ClasspathRepository  - Searching classpath for: jniinchi-1.03_1-MAC-X86_64\n",
      "16   [main] INFO  net.sf.jnati.deploy.repository.LocalRepository  - Searching local repository for: jniinchi-1.03_1-MAC-X86_64\n",
      "16   [main] DEBUG net.sf.jnati.deploy.repository.LocalRepository  - Artefact path: /Users/krv114/.jnati/repo/jniinchi/1.03_1/MAC-X86_64\n",
      "16   [main] INFO  net.sf.jnati.deploy.artefact.ManifestReader  - Reading manifest\n",
      "45   [main] INFO  net.sf.jnati.deploy.NativeArtefactLocator  - Artefact (jniinchi-1.03_1-MAC-X86_64) location: /Users/krv114/.jnati/repo/jniinchi/1.03_1/MAC-X86_64\n",
      "45   [main] DEBUG net.sf.jnati.deploy.NativeLibraryLoader  - Loading library: /Users/krv114/.jnati/repo/jniinchi/1.03_1/MAC-X86_64/JniInchi-1.03_1-MAC-X86_64\n"
     ]
    },
    {
     "name": "stderr",
     "output_type": "stream",
     "text": [
      "uk.ac.ebi.reactionblast.mechanism.ReactionMechanismTool WARN: Unmapped atoms present in this reaction(MAX) algorithm.\n",
      "uk.ac.ebi.reactionblast.mechanism.ReactionMechanismTool WARN: Unmapped atoms present in this reaction(MIXTURE) algorithm.\n"
     ]
    },
    {
     "name": "stdout",
     "output_type": "stream",
     "text": [
      "Mapped RXN File /Users/krv114/Documents/GitHub/incawrapper/docs/examples/Literature data/wasylenko/mappedRxns/ECBLAST_30_AAM.rxn\n"
     ]
    },
    {
     "name": "stderr",
     "output_type": "stream",
     "text": [
      "Warning: the fonts \"Times\" and \"Times\" are not available for the Java logical font \"Serif\", which may have unexpected appearance or behavior. Re-enable the \"Times\" font to remove this warning.\n"
     ]
    },
    {
     "name": "stdout",
     "output_type": "stream",
     "text": [
      "Annotated RXN Image /Users/krv114/Documents/GitHub/incawrapper/docs/examples/Literature data/wasylenko/mappedRxns/ECBLAST_30_AAM.png\n",
      "Output is presented in text format: /Users/krv114/Documents/GitHub/incawrapper/docs/examples/Literature data/wasylenko/mappedRxns/ECBLAST_30_AAM.txt\n",
      "!--------------------------------------------------------\n",
      "Reaction Decoder Tool (RDT)\n",
      "\n",
      "Author: Syed Asad Rahman\n",
      "e-mail: asad@ebi.ac.uk|s9asad@gmail.com\n",
      "c/o EMBL-European BioInformatics Institute (EBI)\n",
      "WTGC, CB10 1SD Hinxton\n",
      "UK\n",
      "\n",
      "Note: The copyright of this software belongs to the author\n",
      "and EMBL-European BioInformatics Institute (EBI).\n",
      "\n",
      "Reference\n",
      "Rahman, S.A. et.al.(2016) Reaction Decoder Tool (RDT):\n",
      "Extracting Features from Chemical Reactions, Bioinformatics (2016)\n",
      "doi: 10.1093/bioinformatics/btw096\n",
      "!--------------------------------------------------------\n",
      "\n",
      "-- AAM --\n"
     ]
    },
    {
     "name": "stderr",
     "output_type": "stream",
     "text": [
      "uk.ac.ebi.reactionblast.mechanism.ReactionMechanismTool WARN: Number of atom(s) on the Left side 3 =/= Number of atom(s) on the Right side 51\n",
      "uk.ac.ebi.reactionblast.mechanism.ReactionMechanismTool WARN: {C=2, O=1} =/= {C=23, N=7, O=17, P=3, S=1}\n",
      "uk.ac.ebi.reactionblast.mechanism.ReactionMechanismTool WARN: Unmapped atoms present in this reaction(MIN) algorithm.\n"
     ]
    },
    {
     "name": "stdout",
     "output_type": "stream",
     "text": [
      "0    [main] INFO  net.sf.jnati.deploy.artefact.ConfigManager  - Loading global configuration\n",
      "10   [main] DEBUG net.sf.jnati.deploy.artefact.ConfigManager  - Loading defaults: jar:file:/Users/krv114/Documents/GitHub/incawrapper/docs/examples/Literature%20data/wasylenko/RDT.jar!/META-INF/jnati/jnati.default-properties\n",
      "11   [main] INFO  net.sf.jnati.deploy.artefact.ConfigManager  - Loading artefact configuration: jniinchi-1.03_1\n",
      "13   [main] DEBUG net.sf.jnati.deploy.artefact.ConfigManager  - Loading instance defaults: jar:file:/Users/krv114/Documents/GitHub/incawrapper/docs/examples/Literature%20data/wasylenko/RDT.jar!/META-INF/jnati/jnati.instance.default-properties\n",
      "15   [main] INFO  net.sf.jnati.deploy.repository.ClasspathRepository  - Searching classpath for: jniinchi-1.03_1-MAC-X86_64\n",
      "16   [main] INFO  net.sf.jnati.deploy.repository.LocalRepository  - Searching local repository for: jniinchi-1.03_1-MAC-X86_64\n",
      "17   [main] DEBUG net.sf.jnati.deploy.repository.LocalRepository  - Artefact path: /Users/krv114/.jnati/repo/jniinchi/1.03_1/MAC-X86_64\n",
      "17   [main] INFO  net.sf.jnati.deploy.artefact.ManifestReader  - Reading manifest\n",
      "45   [main] INFO  net.sf.jnati.deploy.NativeArtefactLocator  - Artefact (jniinchi-1.03_1-MAC-X86_64) location: /Users/krv114/.jnati/repo/jniinchi/1.03_1/MAC-X86_64\n",
      "46   [main] DEBUG net.sf.jnati.deploy.NativeLibraryLoader  - Loading library: /Users/krv114/.jnati/repo/jniinchi/1.03_1/MAC-X86_64/JniInchi-1.03_1-MAC-X86_64\n"
     ]
    },
    {
     "name": "stderr",
     "output_type": "stream",
     "text": [
      "uk.ac.ebi.reactionblast.mechanism.ReactionMechanismTool WARN: Unmapped atoms present in this reaction(MAX) algorithm.\n",
      "uk.ac.ebi.reactionblast.mechanism.ReactionMechanismTool WARN: Unmapped atoms present in this reaction(MIXTURE) algorithm.\n"
     ]
    },
    {
     "name": "stdout",
     "output_type": "stream",
     "text": [
      "Mapped RXN File /Users/krv114/Documents/GitHub/incawrapper/docs/examples/Literature data/wasylenko/mappedRxns/ECBLAST_31_AAM.rxn\n"
     ]
    },
    {
     "name": "stderr",
     "output_type": "stream",
     "text": [
      "Warning: the fonts \"Times\" and \"Times\" are not available for the Java logical font \"Serif\", which may have unexpected appearance or behavior. Re-enable the \"Times\" font to remove this warning.\n"
     ]
    },
    {
     "name": "stdout",
     "output_type": "stream",
     "text": [
      "Annotated RXN Image /Users/krv114/Documents/GitHub/incawrapper/docs/examples/Literature data/wasylenko/mappedRxns/ECBLAST_31_AAM.png\n",
      "Output is presented in text format: /Users/krv114/Documents/GitHub/incawrapper/docs/examples/Literature data/wasylenko/mappedRxns/ECBLAST_31_AAM.txt\n",
      "!--------------------------------------------------------\n",
      "Reaction Decoder Tool (RDT)\n",
      "\n",
      "Author: Syed Asad Rahman\n",
      "e-mail: asad@ebi.ac.uk|s9asad@gmail.com\n",
      "c/o EMBL-European BioInformatics Institute (EBI)\n",
      "WTGC, CB10 1SD Hinxton\n",
      "UK\n",
      "\n",
      "Note: The copyright of this software belongs to the author\n",
      "and EMBL-European BioInformatics Institute (EBI).\n",
      "\n",
      "Reference\n",
      "Rahman, S.A. et.al.(2016) Reaction Decoder Tool (RDT):\n",
      "Extracting Features from Chemical Reactions, Bioinformatics (2016)\n",
      "doi: 10.1093/bioinformatics/btw096\n",
      "!--------------------------------------------------------\n",
      "\n",
      "-- AAM --\n",
      "0    [main] INFO  net.sf.jnati.deploy.artefact.ConfigManager  - Loading global configuration\n",
      "9    [main] DEBUG net.sf.jnati.deploy.artefact.ConfigManager  - Loading defaults: jar:file:/Users/krv114/Documents/GitHub/incawrapper/docs/examples/Literature%20data/wasylenko/RDT.jar!/META-INF/jnati/jnati.default-properties\n",
      "10   [main] INFO  net.sf.jnati.deploy.artefact.ConfigManager  - Loading artefact configuration: jniinchi-1.03_1\n",
      "12   [main] DEBUG net.sf.jnati.deploy.artefact.ConfigManager  - Loading instance defaults: jar:file:/Users/krv114/Documents/GitHub/incawrapper/docs/examples/Literature%20data/wasylenko/RDT.jar!/META-INF/jnati/jnati.instance.default-properties\n",
      "14   [main] INFO  net.sf.jnati.deploy.repository.ClasspathRepository  - Searching classpath for: jniinchi-1.03_1-MAC-X86_64\n",
      "15   [main] INFO  net.sf.jnati.deploy.repository.LocalRepository  - Searching local repository for: jniinchi-1.03_1-MAC-X86_64\n",
      "15   [main] DEBUG net.sf.jnati.deploy.repository.LocalRepository  - Artefact path: /Users/krv114/.jnati/repo/jniinchi/1.03_1/MAC-X86_64\n",
      "16   [main] INFO  net.sf.jnati.deploy.artefact.ManifestReader  - Reading manifest\n",
      "48   [main] INFO  net.sf.jnati.deploy.NativeArtefactLocator  - Artefact (jniinchi-1.03_1-MAC-X86_64) location: /Users/krv114/.jnati/repo/jniinchi/1.03_1/MAC-X86_64\n",
      "48   [main] DEBUG net.sf.jnati.deploy.NativeLibraryLoader  - Loading library: /Users/krv114/.jnati/repo/jniinchi/1.03_1/MAC-X86_64/JniInchi-1.03_1-MAC-X86_64\n",
      "Mapped RXN File /Users/krv114/Documents/GitHub/incawrapper/docs/examples/Literature data/wasylenko/mappedRxns/ECBLAST_19_AAM.rxn\n"
     ]
    },
    {
     "name": "stderr",
     "output_type": "stream",
     "text": [
      "Warning: the fonts \"Times\" and \"Times\" are not available for the Java logical font \"Serif\", which may have unexpected appearance or behavior. Re-enable the \"Times\" font to remove this warning.\n"
     ]
    },
    {
     "name": "stdout",
     "output_type": "stream",
     "text": [
      "Annotated RXN Image /Users/krv114/Documents/GitHub/incawrapper/docs/examples/Literature data/wasylenko/mappedRxns/ECBLAST_19_AAM.png\n",
      "Output is presented in text format: /Users/krv114/Documents/GitHub/incawrapper/docs/examples/Literature data/wasylenko/mappedRxns/ECBLAST_19_AAM.txt\n",
      "!--------------------------------------------------------\n",
      "Reaction Decoder Tool (RDT)\n",
      "\n",
      "Author: Syed Asad Rahman\n",
      "e-mail: asad@ebi.ac.uk|s9asad@gmail.com\n",
      "c/o EMBL-European BioInformatics Institute (EBI)\n",
      "WTGC, CB10 1SD Hinxton\n",
      "UK\n",
      "\n",
      "Note: The copyright of this software belongs to the author\n",
      "and EMBL-European BioInformatics Institute (EBI).\n",
      "\n",
      "Reference\n",
      "Rahman, S.A. et.al.(2016) Reaction Decoder Tool (RDT):\n",
      "Extracting Features from Chemical Reactions, Bioinformatics (2016)\n",
      "doi: 10.1093/bioinformatics/btw096\n",
      "!--------------------------------------------------------\n",
      "\n",
      "-- AAM --\n"
     ]
    },
    {
     "name": "stderr",
     "output_type": "stream",
     "text": [
      "uk.ac.ebi.reactionblast.mechanism.ReactionMechanismTool WARN: Number of atom(s) on the Left side 11 =/= Number of atom(s) on the Right side 10\n",
      "uk.ac.ebi.reactionblast.mechanism.ReactionMechanismTool WARN: {C=3, O=7, P=1} =/= {C=3, O=6, P=1}\n",
      "uk.ac.ebi.reactionblast.mechanism.ReactionMechanismTool WARN: Unmapped atoms present in this reaction(MIN) algorithm.\n"
     ]
    },
    {
     "name": "stdout",
     "output_type": "stream",
     "text": [
      "0    [main] INFO  net.sf.jnati.deploy.artefact.ConfigManager  - Loading global configuration\n",
      "8    [main] DEBUG net.sf.jnati.deploy.artefact.ConfigManager  - Loading defaults: jar:file:/Users/krv114/Documents/GitHub/incawrapper/docs/examples/Literature%20data/wasylenko/RDT.jar!/META-INF/jnati/jnati.default-properties\n",
      "9    [main] INFO  net.sf.jnati.deploy.artefact.ConfigManager  - Loading artefact configuration: jniinchi-1.03_1\n",
      "10   [main] DEBUG net.sf.jnati.deploy.artefact.ConfigManager  - Loading instance defaults: jar:file:/Users/krv114/Documents/GitHub/incawrapper/docs/examples/Literature%20data/wasylenko/RDT.jar!/META-INF/jnati/jnati.instance.default-properties\n",
      "12   [main] INFO  net.sf.jnati.deploy.repository.ClasspathRepository  - Searching classpath for: jniinchi-1.03_1-MAC-X86_64\n",
      "13   [main] INFO  net.sf.jnati.deploy.repository.LocalRepository  - Searching local repository for: jniinchi-1.03_1-MAC-X86_64\n",
      "13   [main] DEBUG net.sf.jnati.deploy.repository.LocalRepository  - Artefact path: /Users/krv114/.jnati/repo/jniinchi/1.03_1/MAC-X86_64\n",
      "14   [main] INFO  net.sf.jnati.deploy.artefact.ManifestReader  - Reading manifest\n",
      "43   [main] INFO  net.sf.jnati.deploy.NativeArtefactLocator  - Artefact (jniinchi-1.03_1-MAC-X86_64) location: /Users/krv114/.jnati/repo/jniinchi/1.03_1/MAC-X86_64\n",
      "44   [main] DEBUG net.sf.jnati.deploy.NativeLibraryLoader  - Loading library: /Users/krv114/.jnati/repo/jniinchi/1.03_1/MAC-X86_64/JniInchi-1.03_1-MAC-X86_64\n"
     ]
    },
    {
     "name": "stderr",
     "output_type": "stream",
     "text": [
      "uk.ac.ebi.reactionblast.mechanism.ReactionMechanismTool WARN: Unmapped atoms present in this reaction(MAX) algorithm.\n",
      "uk.ac.ebi.reactionblast.mechanism.ReactionMechanismTool WARN: Unmapped atoms present in this reaction(MIXTURE) algorithm.\n"
     ]
    },
    {
     "name": "stdout",
     "output_type": "stream",
     "text": [
      "Mapped RXN File /Users/krv114/Documents/GitHub/incawrapper/docs/examples/Literature data/wasylenko/mappedRxns/ECBLAST_14_AAM.rxn\n"
     ]
    },
    {
     "name": "stderr",
     "output_type": "stream",
     "text": [
      "Warning: the fonts \"Times\" and \"Times\" are not available for the Java logical font \"Serif\", which may have unexpected appearance or behavior. Re-enable the \"Times\" font to remove this warning.\n"
     ]
    },
    {
     "name": "stdout",
     "output_type": "stream",
     "text": [
      "Annotated RXN Image /Users/krv114/Documents/GitHub/incawrapper/docs/examples/Literature data/wasylenko/mappedRxns/ECBLAST_14_AAM.png\n",
      "Output is presented in text format: /Users/krv114/Documents/GitHub/incawrapper/docs/examples/Literature data/wasylenko/mappedRxns/ECBLAST_14_AAM.txt\n",
      "!--------------------------------------------------------\n",
      "Reaction Decoder Tool (RDT)\n",
      "\n",
      "Author: Syed Asad Rahman\n",
      "e-mail: asad@ebi.ac.uk|s9asad@gmail.com\n",
      "c/o EMBL-European BioInformatics Institute (EBI)\n",
      "WTGC, CB10 1SD Hinxton\n",
      "UK\n",
      "\n",
      "Note: The copyright of this software belongs to the author\n",
      "and EMBL-European BioInformatics Institute (EBI).\n",
      "\n",
      "Reference\n",
      "Rahman, S.A. et.al.(2016) Reaction Decoder Tool (RDT):\n",
      "Extracting Features from Chemical Reactions, Bioinformatics (2016)\n",
      "doi: 10.1093/bioinformatics/btw096\n",
      "!--------------------------------------------------------\n",
      "\n",
      "-- AAM --\n",
      "0    [main] INFO  net.sf.jnati.deploy.artefact.ConfigManager  - Loading global configuration\n",
      "11   [main] DEBUG net.sf.jnati.deploy.artefact.ConfigManager  - Loading defaults: jar:file:/Users/krv114/Documents/GitHub/incawrapper/docs/examples/Literature%20data/wasylenko/RDT.jar!/META-INF/jnati/jnati.default-properties\n",
      "12   [main] INFO  net.sf.jnati.deploy.artefact.ConfigManager  - Loading artefact configuration: jniinchi-1.03_1\n",
      "14   [main] DEBUG net.sf.jnati.deploy.artefact.ConfigManager  - Loading instance defaults: jar:file:/Users/krv114/Documents/GitHub/incawrapper/docs/examples/Literature%20data/wasylenko/RDT.jar!/META-INF/jnati/jnati.instance.default-properties\n",
      "16   [main] INFO  net.sf.jnati.deploy.repository.ClasspathRepository  - Searching classpath for: jniinchi-1.03_1-MAC-X86_64\n",
      "17   [main] INFO  net.sf.jnati.deploy.repository.LocalRepository  - Searching local repository for: jniinchi-1.03_1-MAC-X86_64\n",
      "17   [main] DEBUG net.sf.jnati.deploy.repository.LocalRepository  - Artefact path: /Users/krv114/.jnati/repo/jniinchi/1.03_1/MAC-X86_64\n",
      "18   [main] INFO  net.sf.jnati.deploy.artefact.ManifestReader  - Reading manifest\n",
      "48   [main] INFO  net.sf.jnati.deploy.NativeArtefactLocator  - Artefact (jniinchi-1.03_1-MAC-X86_64) location: /Users/krv114/.jnati/repo/jniinchi/1.03_1/MAC-X86_64\n",
      "48   [main] DEBUG net.sf.jnati.deploy.NativeLibraryLoader  - Loading library: /Users/krv114/.jnati/repo/jniinchi/1.03_1/MAC-X86_64/JniInchi-1.03_1-MAC-X86_64\n",
      "Mapped RXN File /Users/krv114/Documents/GitHub/incawrapper/docs/examples/Literature data/wasylenko/mappedRxns/ECBLAST_28_AAM.rxn\n"
     ]
    },
    {
     "name": "stderr",
     "output_type": "stream",
     "text": [
      "Warning: the fonts \"Times\" and \"Times\" are not available for the Java logical font \"Serif\", which may have unexpected appearance or behavior. Re-enable the \"Times\" font to remove this warning.\n"
     ]
    },
    {
     "name": "stdout",
     "output_type": "stream",
     "text": [
      "Annotated RXN Image /Users/krv114/Documents/GitHub/incawrapper/docs/examples/Literature data/wasylenko/mappedRxns/ECBLAST_28_AAM.png\n",
      "Output is presented in text format: /Users/krv114/Documents/GitHub/incawrapper/docs/examples/Literature data/wasylenko/mappedRxns/ECBLAST_28_AAM.txt\n",
      "!--------------------------------------------------------\n",
      "Reaction Decoder Tool (RDT)\n",
      "\n",
      "Author: Syed Asad Rahman\n",
      "e-mail: asad@ebi.ac.uk|s9asad@gmail.com\n",
      "c/o EMBL-European BioInformatics Institute (EBI)\n",
      "WTGC, CB10 1SD Hinxton\n",
      "UK\n",
      "\n",
      "Note: The copyright of this software belongs to the author\n",
      "and EMBL-European BioInformatics Institute (EBI).\n",
      "\n",
      "Reference\n",
      "Rahman, S.A. et.al.(2016) Reaction Decoder Tool (RDT):\n",
      "Extracting Features from Chemical Reactions, Bioinformatics (2016)\n",
      "doi: 10.1093/bioinformatics/btw096\n",
      "!--------------------------------------------------------\n",
      "\n",
      "-- AAM --\n",
      "0    [main] INFO  net.sf.jnati.deploy.artefact.ConfigManager  - Loading global configuration\n",
      "11   [main] DEBUG net.sf.jnati.deploy.artefact.ConfigManager  - Loading defaults: jar:file:/Users/krv114/Documents/GitHub/incawrapper/docs/examples/Literature%20data/wasylenko/RDT.jar!/META-INF/jnati/jnati.default-properties\n",
      "12   [main] INFO  net.sf.jnati.deploy.artefact.ConfigManager  - Loading artefact configuration: jniinchi-1.03_1\n",
      "15   [main] DEBUG net.sf.jnati.deploy.artefact.ConfigManager  - Loading instance defaults: jar:file:/Users/krv114/Documents/GitHub/incawrapper/docs/examples/Literature%20data/wasylenko/RDT.jar!/META-INF/jnati/jnati.instance.default-properties\n",
      "17   [main] INFO  net.sf.jnati.deploy.repository.ClasspathRepository  - Searching classpath for: jniinchi-1.03_1-MAC-X86_64\n",
      "18   [main] INFO  net.sf.jnati.deploy.repository.LocalRepository  - Searching local repository for: jniinchi-1.03_1-MAC-X86_64\n",
      "18   [main] DEBUG net.sf.jnati.deploy.repository.LocalRepository  - Artefact path: /Users/krv114/.jnati/repo/jniinchi/1.03_1/MAC-X86_64\n",
      "19   [main] INFO  net.sf.jnati.deploy.artefact.ManifestReader  - Reading manifest\n",
      "50   [main] INFO  net.sf.jnati.deploy.NativeArtefactLocator  - Artefact (jniinchi-1.03_1-MAC-X86_64) location: /Users/krv114/.jnati/repo/jniinchi/1.03_1/MAC-X86_64\n",
      "50   [main] DEBUG net.sf.jnati.deploy.NativeLibraryLoader  - Loading library: /Users/krv114/.jnati/repo/jniinchi/1.03_1/MAC-X86_64/JniInchi-1.03_1-MAC-X86_64\n",
      "Mapped RXN File /Users/krv114/Documents/GitHub/incawrapper/docs/examples/Literature data/wasylenko/mappedRxns/ECBLAST_29_AAM.rxn\n"
     ]
    },
    {
     "name": "stderr",
     "output_type": "stream",
     "text": [
      "Warning: the fonts \"Times\" and \"Times\" are not available for the Java logical font \"Serif\", which may have unexpected appearance or behavior. Re-enable the \"Times\" font to remove this warning.\n"
     ]
    },
    {
     "name": "stdout",
     "output_type": "stream",
     "text": [
      "Annotated RXN Image /Users/krv114/Documents/GitHub/incawrapper/docs/examples/Literature data/wasylenko/mappedRxns/ECBLAST_29_AAM.png\n",
      "Output is presented in text format: /Users/krv114/Documents/GitHub/incawrapper/docs/examples/Literature data/wasylenko/mappedRxns/ECBLAST_29_AAM.txt\n",
      "!--------------------------------------------------------\n",
      "Reaction Decoder Tool (RDT)\n",
      "\n",
      "Author: Syed Asad Rahman\n",
      "e-mail: asad@ebi.ac.uk|s9asad@gmail.com\n",
      "c/o EMBL-European BioInformatics Institute (EBI)\n",
      "WTGC, CB10 1SD Hinxton\n",
      "UK\n",
      "\n",
      "Note: The copyright of this software belongs to the author\n",
      "and EMBL-European BioInformatics Institute (EBI).\n",
      "\n",
      "Reference\n",
      "Rahman, S.A. et.al.(2016) Reaction Decoder Tool (RDT):\n",
      "Extracting Features from Chemical Reactions, Bioinformatics (2016)\n",
      "doi: 10.1093/bioinformatics/btw096\n",
      "!--------------------------------------------------------\n",
      "\n",
      "-- AAM --\n"
     ]
    },
    {
     "name": "stderr",
     "output_type": "stream",
     "text": [
      "uk.ac.ebi.reactionblast.mechanism.ReactionMechanismTool WARN: Number of atom(s) on the Left side 10 =/= Number of atom(s) on the Right side 6\n",
      "uk.ac.ebi.reactionblast.mechanism.ReactionMechanismTool WARN: {C=3, O=6, P=1} =/= {C=3, O=3}\n",
      "uk.ac.ebi.reactionblast.mechanism.ReactionMechanismTool WARN: Unmapped atoms present in this reaction(MIN) algorithm.\n"
     ]
    },
    {
     "name": "stdout",
     "output_type": "stream",
     "text": [
      "0    [main] INFO  net.sf.jnati.deploy.artefact.ConfigManager  - Loading global configuration\n",
      "9    [main] DEBUG net.sf.jnati.deploy.artefact.ConfigManager  - Loading defaults: jar:file:/Users/krv114/Documents/GitHub/incawrapper/docs/examples/Literature%20data/wasylenko/RDT.jar!/META-INF/jnati/jnati.default-properties\n",
      "10   [main] INFO  net.sf.jnati.deploy.artefact.ConfigManager  - Loading artefact configuration: jniinchi-1.03_1\n",
      "12   [main] DEBUG net.sf.jnati.deploy.artefact.ConfigManager  - Loading instance defaults: jar:file:/Users/krv114/Documents/GitHub/incawrapper/docs/examples/Literature%20data/wasylenko/RDT.jar!/META-INF/jnati/jnati.instance.default-properties\n",
      "13   [main] INFO  net.sf.jnati.deploy.repository.ClasspathRepository  - Searching classpath for: jniinchi-1.03_1-MAC-X86_64\n",
      "15   [main] INFO  net.sf.jnati.deploy.repository.LocalRepository  - Searching local repository for: jniinchi-1.03_1-MAC-X86_64\n",
      "16   [main] DEBUG net.sf.jnati.deploy.repository.LocalRepository  - Artefact path: /Users/krv114/.jnati/repo/jniinchi/1.03_1/MAC-X86_64\n",
      "16   [main] INFO  net.sf.jnati.deploy.artefact.ManifestReader  - Reading manifest\n",
      "44   [main] INFO  net.sf.jnati.deploy.NativeArtefactLocator  - Artefact (jniinchi-1.03_1-MAC-X86_64) location: /Users/krv114/.jnati/repo/jniinchi/1.03_1/MAC-X86_64\n",
      "44   [main] DEBUG net.sf.jnati.deploy.NativeLibraryLoader  - Loading library: /Users/krv114/.jnati/repo/jniinchi/1.03_1/MAC-X86_64/JniInchi-1.03_1-MAC-X86_64\n"
     ]
    },
    {
     "name": "stderr",
     "output_type": "stream",
     "text": [
      "uk.ac.ebi.reactionblast.mechanism.ReactionMechanismTool WARN: Unmapped atoms present in this reaction(MAX) algorithm.\n",
      "uk.ac.ebi.reactionblast.mechanism.ReactionMechanismTool WARN: Unmapped atoms present in this reaction(MIXTURE) algorithm.\n"
     ]
    },
    {
     "name": "stdout",
     "output_type": "stream",
     "text": [
      "Mapped RXN File /Users/krv114/Documents/GitHub/incawrapper/docs/examples/Literature data/wasylenko/mappedRxns/ECBLAST_15_AAM.rxn\n"
     ]
    },
    {
     "name": "stderr",
     "output_type": "stream",
     "text": [
      "Warning: the fonts \"Times\" and \"Times\" are not available for the Java logical font \"Serif\", which may have unexpected appearance or behavior. Re-enable the \"Times\" font to remove this warning.\n"
     ]
    },
    {
     "name": "stdout",
     "output_type": "stream",
     "text": [
      "Annotated RXN Image /Users/krv114/Documents/GitHub/incawrapper/docs/examples/Literature data/wasylenko/mappedRxns/ECBLAST_15_AAM.png\n",
      "Output is presented in text format: /Users/krv114/Documents/GitHub/incawrapper/docs/examples/Literature data/wasylenko/mappedRxns/ECBLAST_15_AAM.txt\n",
      "!--------------------------------------------------------\n",
      "Reaction Decoder Tool (RDT)\n",
      "\n",
      "Author: Syed Asad Rahman\n",
      "e-mail: asad@ebi.ac.uk|s9asad@gmail.com\n",
      "c/o EMBL-European BioInformatics Institute (EBI)\n",
      "WTGC, CB10 1SD Hinxton\n",
      "UK\n",
      "\n",
      "Note: The copyright of this software belongs to the author\n",
      "and EMBL-European BioInformatics Institute (EBI).\n",
      "\n",
      "Reference\n",
      "Rahman, S.A. et.al.(2016) Reaction Decoder Tool (RDT):\n",
      "Extracting Features from Chemical Reactions, Bioinformatics (2016)\n",
      "doi: 10.1093/bioinformatics/btw096\n",
      "!--------------------------------------------------------\n",
      "\n",
      "-- AAM --\n"
     ]
    },
    {
     "name": "stderr",
     "output_type": "stream",
     "text": [
      "uk.ac.ebi.reactionblast.mechanism.ReactionMechanismTool WARN: Number of atom(s) on the Left side 10 =/= Number of atom(s) on the Right side 6\n",
      "uk.ac.ebi.reactionblast.mechanism.ReactionMechanismTool WARN: {C=3, O=6, P=1} =/= {C=3, O=3}\n",
      "uk.ac.ebi.reactionblast.mechanism.ReactionMechanismTool WARN: Unmapped atoms present in this reaction(MIN) algorithm.\n"
     ]
    },
    {
     "name": "stdout",
     "output_type": "stream",
     "text": [
      "0    [main] INFO  net.sf.jnati.deploy.artefact.ConfigManager  - Loading global configuration\n",
      "10   [main] DEBUG net.sf.jnati.deploy.artefact.ConfigManager  - Loading defaults: jar:file:/Users/krv114/Documents/GitHub/incawrapper/docs/examples/Literature%20data/wasylenko/RDT.jar!/META-INF/jnati/jnati.default-properties\n",
      "11   [main] INFO  net.sf.jnati.deploy.artefact.ConfigManager  - Loading artefact configuration: jniinchi-1.03_1\n",
      "13   [main] DEBUG net.sf.jnati.deploy.artefact.ConfigManager  - Loading instance defaults: jar:file:/Users/krv114/Documents/GitHub/incawrapper/docs/examples/Literature%20data/wasylenko/RDT.jar!/META-INF/jnati/jnati.instance.default-properties\n",
      "15   [main] INFO  net.sf.jnati.deploy.repository.ClasspathRepository  - Searching classpath for: jniinchi-1.03_1-MAC-X86_64\n",
      "16   [main] INFO  net.sf.jnati.deploy.repository.LocalRepository  - Searching local repository for: jniinchi-1.03_1-MAC-X86_64\n",
      "16   [main] DEBUG net.sf.jnati.deploy.repository.LocalRepository  - Artefact path: /Users/krv114/.jnati/repo/jniinchi/1.03_1/MAC-X86_64\n",
      "17   [main] INFO  net.sf.jnati.deploy.artefact.ManifestReader  - Reading manifest\n",
      "45   [main] INFO  net.sf.jnati.deploy.NativeArtefactLocator  - Artefact (jniinchi-1.03_1-MAC-X86_64) location: /Users/krv114/.jnati/repo/jniinchi/1.03_1/MAC-X86_64\n",
      "45   [main] DEBUG net.sf.jnati.deploy.NativeLibraryLoader  - Loading library: /Users/krv114/.jnati/repo/jniinchi/1.03_1/MAC-X86_64/JniInchi-1.03_1-MAC-X86_64\n"
     ]
    },
    {
     "name": "stderr",
     "output_type": "stream",
     "text": [
      "uk.ac.ebi.reactionblast.mechanism.ReactionMechanismTool WARN: Unmapped atoms present in this reaction(MAX) algorithm.\n",
      "uk.ac.ebi.reactionblast.mechanism.ReactionMechanismTool WARN: Unmapped atoms present in this reaction(MIXTURE) algorithm.\n"
     ]
    },
    {
     "name": "stdout",
     "output_type": "stream",
     "text": [
      "Mapped RXN File /Users/krv114/Documents/GitHub/incawrapper/docs/examples/Literature data/wasylenko/mappedRxns/ECBLAST_17_AAM.rxn\n"
     ]
    },
    {
     "name": "stderr",
     "output_type": "stream",
     "text": [
      "Warning: the fonts \"Times\" and \"Times\" are not available for the Java logical font \"Serif\", which may have unexpected appearance or behavior. Re-enable the \"Times\" font to remove this warning.\n"
     ]
    },
    {
     "name": "stdout",
     "output_type": "stream",
     "text": [
      "Annotated RXN Image /Users/krv114/Documents/GitHub/incawrapper/docs/examples/Literature data/wasylenko/mappedRxns/ECBLAST_17_AAM.png\n",
      "Output is presented in text format: /Users/krv114/Documents/GitHub/incawrapper/docs/examples/Literature data/wasylenko/mappedRxns/ECBLAST_17_AAM.txt\n",
      "!--------------------------------------------------------\n",
      "Reaction Decoder Tool (RDT)\n",
      "\n",
      "Author: Syed Asad Rahman\n",
      "e-mail: asad@ebi.ac.uk|s9asad@gmail.com\n",
      "c/o EMBL-European BioInformatics Institute (EBI)\n",
      "WTGC, CB10 1SD Hinxton\n",
      "UK\n",
      "\n",
      "Note: The copyright of this software belongs to the author\n",
      "and EMBL-European BioInformatics Institute (EBI).\n",
      "\n",
      "Reference\n",
      "Rahman, S.A. et.al.(2016) Reaction Decoder Tool (RDT):\n",
      "Extracting Features from Chemical Reactions, Bioinformatics (2016)\n",
      "doi: 10.1093/bioinformatics/btw096\n",
      "!--------------------------------------------------------\n",
      "\n",
      "-- AAM --\n",
      "0    [main] INFO  net.sf.jnati.deploy.artefact.ConfigManager  - Loading global configuration\n",
      "10   [main] DEBUG net.sf.jnati.deploy.artefact.ConfigManager  - Loading defaults: jar:file:/Users/krv114/Documents/GitHub/incawrapper/docs/examples/Literature%20data/wasylenko/RDT.jar!/META-INF/jnati/jnati.default-properties\n",
      "11   [main] INFO  net.sf.jnati.deploy.artefact.ConfigManager  - Loading artefact configuration: jniinchi-1.03_1\n",
      "13   [main] DEBUG net.sf.jnati.deploy.artefact.ConfigManager  - Loading instance defaults: jar:file:/Users/krv114/Documents/GitHub/incawrapper/docs/examples/Literature%20data/wasylenko/RDT.jar!/META-INF/jnati/jnati.instance.default-properties\n",
      "15   [main] INFO  net.sf.jnati.deploy.repository.ClasspathRepository  - Searching classpath for: jniinchi-1.03_1-MAC-X86_64\n",
      "17   [main] INFO  net.sf.jnati.deploy.repository.LocalRepository  - Searching local repository for: jniinchi-1.03_1-MAC-X86_64\n",
      "17   [main] DEBUG net.sf.jnati.deploy.repository.LocalRepository  - Artefact path: /Users/krv114/.jnati/repo/jniinchi/1.03_1/MAC-X86_64\n",
      "17   [main] INFO  net.sf.jnati.deploy.artefact.ManifestReader  - Reading manifest\n",
      "51   [main] INFO  net.sf.jnati.deploy.NativeArtefactLocator  - Artefact (jniinchi-1.03_1-MAC-X86_64) location: /Users/krv114/.jnati/repo/jniinchi/1.03_1/MAC-X86_64\n",
      "51   [main] DEBUG net.sf.jnati.deploy.NativeLibraryLoader  - Loading library: /Users/krv114/.jnati/repo/jniinchi/1.03_1/MAC-X86_64/JniInchi-1.03_1-MAC-X86_64\n",
      "Mapped RXN File /Users/krv114/Documents/GitHub/incawrapper/docs/examples/Literature data/wasylenko/mappedRxns/ECBLAST_16_AAM.rxn\n"
     ]
    },
    {
     "name": "stderr",
     "output_type": "stream",
     "text": [
      "Warning: the fonts \"Times\" and \"Times\" are not available for the Java logical font \"Serif\", which may have unexpected appearance or behavior. Re-enable the \"Times\" font to remove this warning.\n"
     ]
    },
    {
     "name": "stdout",
     "output_type": "stream",
     "text": [
      "Annotated RXN Image /Users/krv114/Documents/GitHub/incawrapper/docs/examples/Literature data/wasylenko/mappedRxns/ECBLAST_16_AAM.png\n",
      "Output is presented in text format: /Users/krv114/Documents/GitHub/incawrapper/docs/examples/Literature data/wasylenko/mappedRxns/ECBLAST_16_AAM.txt\n",
      "!--------------------------------------------------------\n",
      "Reaction Decoder Tool (RDT)\n",
      "\n",
      "Author: Syed Asad Rahman\n",
      "e-mail: asad@ebi.ac.uk|s9asad@gmail.com\n",
      "c/o EMBL-European BioInformatics Institute (EBI)\n",
      "WTGC, CB10 1SD Hinxton\n",
      "UK\n",
      "\n",
      "Note: The copyright of this software belongs to the author\n",
      "and EMBL-European BioInformatics Institute (EBI).\n",
      "\n",
      "Reference\n",
      "Rahman, S.A. et.al.(2016) Reaction Decoder Tool (RDT):\n",
      "Extracting Features from Chemical Reactions, Bioinformatics (2016)\n",
      "doi: 10.1093/bioinformatics/btw096\n",
      "!--------------------------------------------------------\n",
      "\n",
      "-- AAM --\n",
      "0    [main] INFO  net.sf.jnati.deploy.artefact.ConfigManager  - Loading global configuration\n",
      "8    [main] DEBUG net.sf.jnati.deploy.artefact.ConfigManager  - Loading defaults: jar:file:/Users/krv114/Documents/GitHub/incawrapper/docs/examples/Literature%20data/wasylenko/RDT.jar!/META-INF/jnati/jnati.default-properties\n",
      "9    [main] INFO  net.sf.jnati.deploy.artefact.ConfigManager  - Loading artefact configuration: jniinchi-1.03_1\n",
      "13   [main] DEBUG net.sf.jnati.deploy.artefact.ConfigManager  - Loading instance defaults: jar:file:/Users/krv114/Documents/GitHub/incawrapper/docs/examples/Literature%20data/wasylenko/RDT.jar!/META-INF/jnati/jnati.instance.default-properties\n",
      "16   [main] INFO  net.sf.jnati.deploy.repository.ClasspathRepository  - Searching classpath for: jniinchi-1.03_1-MAC-X86_64\n",
      "17   [main] INFO  net.sf.jnati.deploy.repository.LocalRepository  - Searching local repository for: jniinchi-1.03_1-MAC-X86_64\n",
      "17   [main] DEBUG net.sf.jnati.deploy.repository.LocalRepository  - Artefact path: /Users/krv114/.jnati/repo/jniinchi/1.03_1/MAC-X86_64\n",
      "17   [main] INFO  net.sf.jnati.deploy.artefact.ManifestReader  - Reading manifest\n",
      "48   [main] INFO  net.sf.jnati.deploy.NativeArtefactLocator  - Artefact (jniinchi-1.03_1-MAC-X86_64) location: /Users/krv114/.jnati/repo/jniinchi/1.03_1/MAC-X86_64\n",
      "48   [main] DEBUG net.sf.jnati.deploy.NativeLibraryLoader  - Loading library: /Users/krv114/.jnati/repo/jniinchi/1.03_1/MAC-X86_64/JniInchi-1.03_1-MAC-X86_64\n",
      "Mapped RXN File /Users/krv114/Documents/GitHub/incawrapper/docs/examples/Literature data/wasylenko/mappedRxns/ECBLAST_12_AAM.rxn\n"
     ]
    },
    {
     "name": "stderr",
     "output_type": "stream",
     "text": [
      "Warning: the fonts \"Times\" and \"Times\" are not available for the Java logical font \"Serif\", which may have unexpected appearance or behavior. Re-enable the \"Times\" font to remove this warning.\n"
     ]
    },
    {
     "name": "stdout",
     "output_type": "stream",
     "text": [
      "Annotated RXN Image /Users/krv114/Documents/GitHub/incawrapper/docs/examples/Literature data/wasylenko/mappedRxns/ECBLAST_12_AAM.png\n",
      "Output is presented in text format: /Users/krv114/Documents/GitHub/incawrapper/docs/examples/Literature data/wasylenko/mappedRxns/ECBLAST_12_AAM.txt\n",
      "!--------------------------------------------------------\n",
      "Reaction Decoder Tool (RDT)\n",
      "\n",
      "Author: Syed Asad Rahman\n",
      "e-mail: asad@ebi.ac.uk|s9asad@gmail.com\n",
      "c/o EMBL-European BioInformatics Institute (EBI)\n",
      "WTGC, CB10 1SD Hinxton\n",
      "UK\n",
      "\n",
      "Note: The copyright of this software belongs to the author\n",
      "and EMBL-European BioInformatics Institute (EBI).\n",
      "\n",
      "Reference\n",
      "Rahman, S.A. et.al.(2016) Reaction Decoder Tool (RDT):\n",
      "Extracting Features from Chemical Reactions, Bioinformatics (2016)\n",
      "doi: 10.1093/bioinformatics/btw096\n",
      "!--------------------------------------------------------\n",
      "\n",
      "-- AAM --\n"
     ]
    },
    {
     "name": "stderr",
     "output_type": "stream",
     "text": [
      "uk.ac.ebi.reactionblast.mechanism.ReactionMechanismTool WARN: Number of atom(s) on the Left side 10 =/= Number of atom(s) on the Right side 11\n",
      "uk.ac.ebi.reactionblast.mechanism.ReactionMechanismTool WARN: {C=3, O=6, P=1} =/= {C=3, O=7, P=1}\n",
      "uk.ac.ebi.reactionblast.mechanism.ReactionMechanismTool WARN: Unmapped atoms present in this reaction(MIN) algorithm.\n"
     ]
    },
    {
     "name": "stdout",
     "output_type": "stream",
     "text": [
      "0    [main] INFO  net.sf.jnati.deploy.artefact.ConfigManager  - Loading global configuration\n",
      "9    [main] DEBUG net.sf.jnati.deploy.artefact.ConfigManager  - Loading defaults: jar:file:/Users/krv114/Documents/GitHub/incawrapper/docs/examples/Literature%20data/wasylenko/RDT.jar!/META-INF/jnati/jnati.default-properties\n",
      "10   [main] INFO  net.sf.jnati.deploy.artefact.ConfigManager  - Loading artefact configuration: jniinchi-1.03_1\n",
      "12   [main] DEBUG net.sf.jnati.deploy.artefact.ConfigManager  - Loading instance defaults: jar:file:/Users/krv114/Documents/GitHub/incawrapper/docs/examples/Literature%20data/wasylenko/RDT.jar!/META-INF/jnati/jnati.instance.default-properties\n",
      "15   [main] INFO  net.sf.jnati.deploy.repository.ClasspathRepository  - Searching classpath for: jniinchi-1.03_1-MAC-X86_64\n",
      "16   [main] INFO  net.sf.jnati.deploy.repository.LocalRepository  - Searching local repository for: jniinchi-1.03_1-MAC-X86_64\n",
      "17   [main] DEBUG net.sf.jnati.deploy.repository.LocalRepository  - Artefact path: /Users/krv114/.jnati/repo/jniinchi/1.03_1/MAC-X86_64\n",
      "17   [main] INFO  net.sf.jnati.deploy.artefact.ManifestReader  - Reading manifest\n",
      "48   [main] INFO  net.sf.jnati.deploy.NativeArtefactLocator  - Artefact (jniinchi-1.03_1-MAC-X86_64) location: /Users/krv114/.jnati/repo/jniinchi/1.03_1/MAC-X86_64\n",
      "48   [main] DEBUG net.sf.jnati.deploy.NativeLibraryLoader  - Loading library: /Users/krv114/.jnati/repo/jniinchi/1.03_1/MAC-X86_64/JniInchi-1.03_1-MAC-X86_64\n"
     ]
    },
    {
     "name": "stderr",
     "output_type": "stream",
     "text": [
      "uk.ac.ebi.reactionblast.mechanism.ReactionMechanismTool WARN: Unmapped atoms present in this reaction(MAX) algorithm.\n",
      "uk.ac.ebi.reactionblast.mechanism.ReactionMechanismTool WARN: Unmapped atoms present in this reaction(MIXTURE) algorithm.\n"
     ]
    },
    {
     "name": "stdout",
     "output_type": "stream",
     "text": [
      "Mapped RXN File /Users/krv114/Documents/GitHub/incawrapper/docs/examples/Literature data/wasylenko/mappedRxns/ECBLAST_13_AAM.rxn\n"
     ]
    },
    {
     "name": "stderr",
     "output_type": "stream",
     "text": [
      "Warning: the fonts \"Times\" and \"Times\" are not available for the Java logical font \"Serif\", which may have unexpected appearance or behavior. Re-enable the \"Times\" font to remove this warning.\n"
     ]
    },
    {
     "name": "stdout",
     "output_type": "stream",
     "text": [
      "Annotated RXN Image /Users/krv114/Documents/GitHub/incawrapper/docs/examples/Literature data/wasylenko/mappedRxns/ECBLAST_13_AAM.png\n",
      "Output is presented in text format: /Users/krv114/Documents/GitHub/incawrapper/docs/examples/Literature data/wasylenko/mappedRxns/ECBLAST_13_AAM.txt\n",
      "!--------------------------------------------------------\n",
      "Reaction Decoder Tool (RDT)\n",
      "\n",
      "Author: Syed Asad Rahman\n",
      "e-mail: asad@ebi.ac.uk|s9asad@gmail.com\n",
      "c/o EMBL-European BioInformatics Institute (EBI)\n",
      "WTGC, CB10 1SD Hinxton\n",
      "UK\n",
      "\n",
      "Note: The copyright of this software belongs to the author\n",
      "and EMBL-European BioInformatics Institute (EBI).\n",
      "\n",
      "Reference\n",
      "Rahman, S.A. et.al.(2016) Reaction Decoder Tool (RDT):\n",
      "Extracting Features from Chemical Reactions, Bioinformatics (2016)\n",
      "doi: 10.1093/bioinformatics/btw096\n",
      "!--------------------------------------------------------\n",
      "\n",
      "-- AAM --\n",
      "0    [main] INFO  net.sf.jnati.deploy.artefact.ConfigManager  - Loading global configuration\n",
      "10   [main] DEBUG net.sf.jnati.deploy.artefact.ConfigManager  - Loading defaults: jar:file:/Users/krv114/Documents/GitHub/incawrapper/docs/examples/Literature%20data/wasylenko/RDT.jar!/META-INF/jnati/jnati.default-properties\n",
      "12   [main] INFO  net.sf.jnati.deploy.artefact.ConfigManager  - Loading artefact configuration: jniinchi-1.03_1\n",
      "14   [main] DEBUG net.sf.jnati.deploy.artefact.ConfigManager  - Loading instance defaults: jar:file:/Users/krv114/Documents/GitHub/incawrapper/docs/examples/Literature%20data/wasylenko/RDT.jar!/META-INF/jnati/jnati.instance.default-properties\n",
      "16   [main] INFO  net.sf.jnati.deploy.repository.ClasspathRepository  - Searching classpath for: jniinchi-1.03_1-MAC-X86_64\n",
      "17   [main] INFO  net.sf.jnati.deploy.repository.LocalRepository  - Searching local repository for: jniinchi-1.03_1-MAC-X86_64\n",
      "17   [main] DEBUG net.sf.jnati.deploy.repository.LocalRepository  - Artefact path: /Users/krv114/.jnati/repo/jniinchi/1.03_1/MAC-X86_64\n",
      "18   [main] INFO  net.sf.jnati.deploy.artefact.ManifestReader  - Reading manifest\n",
      "46   [main] INFO  net.sf.jnati.deploy.NativeArtefactLocator  - Artefact (jniinchi-1.03_1-MAC-X86_64) location: /Users/krv114/.jnati/repo/jniinchi/1.03_1/MAC-X86_64\n",
      "47   [main] DEBUG net.sf.jnati.deploy.NativeLibraryLoader  - Loading library: /Users/krv114/.jnati/repo/jniinchi/1.03_1/MAC-X86_64/JniInchi-1.03_1-MAC-X86_64\n",
      "Mapped RXN File /Users/krv114/Documents/GitHub/incawrapper/docs/examples/Literature data/wasylenko/mappedRxns/ECBLAST_39_AAM.rxn\n"
     ]
    },
    {
     "name": "stderr",
     "output_type": "stream",
     "text": [
      "Warning: the fonts \"Times\" and \"Times\" are not available for the Java logical font \"Serif\", which may have unexpected appearance or behavior. Re-enable the \"Times\" font to remove this warning.\n"
     ]
    },
    {
     "name": "stdout",
     "output_type": "stream",
     "text": [
      "Annotated RXN Image /Users/krv114/Documents/GitHub/incawrapper/docs/examples/Literature data/wasylenko/mappedRxns/ECBLAST_39_AAM.png\n",
      "Output is presented in text format: /Users/krv114/Documents/GitHub/incawrapper/docs/examples/Literature data/wasylenko/mappedRxns/ECBLAST_39_AAM.txt\n",
      "!--------------------------------------------------------\n",
      "Reaction Decoder Tool (RDT)\n",
      "\n",
      "Author: Syed Asad Rahman\n",
      "e-mail: asad@ebi.ac.uk|s9asad@gmail.com\n",
      "c/o EMBL-European BioInformatics Institute (EBI)\n",
      "WTGC, CB10 1SD Hinxton\n",
      "UK\n",
      "\n",
      "Note: The copyright of this software belongs to the author\n",
      "and EMBL-European BioInformatics Institute (EBI).\n",
      "\n",
      "Reference\n",
      "Rahman, S.A. et.al.(2016) Reaction Decoder Tool (RDT):\n",
      "Extracting Features from Chemical Reactions, Bioinformatics (2016)\n",
      "doi: 10.1093/bioinformatics/btw096\n",
      "!--------------------------------------------------------\n",
      "\n",
      "-- AAM --\n"
     ]
    },
    {
     "name": "stderr",
     "output_type": "stream",
     "text": [
      "uk.ac.ebi.reactionblast.mechanism.ReactionMechanismTool WARN: Number of atom(s) on the Left side 12 =/= Number of atom(s) on the Right side 20\n",
      "uk.ac.ebi.reactionblast.mechanism.ReactionMechanismTool WARN: {C=6, O=6} =/= {C=6, O=12, P=2}\n",
      "uk.ac.ebi.reactionblast.mechanism.ReactionMechanismTool WARN: Unmapped atoms present in this reaction(MIN) algorithm.\n"
     ]
    },
    {
     "name": "stdout",
     "output_type": "stream",
     "text": [
      "0    [main] INFO  net.sf.jnati.deploy.artefact.ConfigManager  - Loading global configuration\n",
      "9    [main] DEBUG net.sf.jnati.deploy.artefact.ConfigManager  - Loading defaults: jar:file:/Users/krv114/Documents/GitHub/incawrapper/docs/examples/Literature%20data/wasylenko/RDT.jar!/META-INF/jnati/jnati.default-properties\n",
      "12   [main] INFO  net.sf.jnati.deploy.artefact.ConfigManager  - Loading artefact configuration: jniinchi-1.03_1\n",
      "15   [main] DEBUG net.sf.jnati.deploy.artefact.ConfigManager  - Loading instance defaults: jar:file:/Users/krv114/Documents/GitHub/incawrapper/docs/examples/Literature%20data/wasylenko/RDT.jar!/META-INF/jnati/jnati.instance.default-properties\n",
      "17   [main] INFO  net.sf.jnati.deploy.repository.ClasspathRepository  - Searching classpath for: jniinchi-1.03_1-MAC-X86_64\n",
      "18   [main] INFO  net.sf.jnati.deploy.repository.LocalRepository  - Searching local repository for: jniinchi-1.03_1-MAC-X86_64\n",
      "18   [main] DEBUG net.sf.jnati.deploy.repository.LocalRepository  - Artefact path: /Users/krv114/.jnati/repo/jniinchi/1.03_1/MAC-X86_64\n",
      "19   [main] INFO  net.sf.jnati.deploy.artefact.ManifestReader  - Reading manifest\n",
      "48   [main] INFO  net.sf.jnati.deploy.NativeArtefactLocator  - Artefact (jniinchi-1.03_1-MAC-X86_64) location: /Users/krv114/.jnati/repo/jniinchi/1.03_1/MAC-X86_64\n",
      "49   [main] DEBUG net.sf.jnati.deploy.NativeLibraryLoader  - Loading library: /Users/krv114/.jnati/repo/jniinchi/1.03_1/MAC-X86_64/JniInchi-1.03_1-MAC-X86_64\n"
     ]
    },
    {
     "name": "stderr",
     "output_type": "stream",
     "text": [
      "uk.ac.ebi.reactionblast.mechanism.ReactionMechanismTool WARN: Unmapped atoms present in this reaction(MAX) algorithm.\n",
      "uk.ac.ebi.reactionblast.mechanism.ReactionMechanismTool WARN: Unmapped atoms present in this reaction(MIXTURE) algorithm.\n"
     ]
    },
    {
     "name": "stdout",
     "output_type": "stream",
     "text": [
      "Mapped RXN File /Users/krv114/Documents/GitHub/incawrapper/docs/examples/Literature data/wasylenko/mappedRxns/ECBLAST_11_AAM.rxn\n"
     ]
    },
    {
     "name": "stderr",
     "output_type": "stream",
     "text": [
      "Warning: the fonts \"Times\" and \"Times\" are not available for the Java logical font \"Serif\", which may have unexpected appearance or behavior. Re-enable the \"Times\" font to remove this warning.\n"
     ]
    },
    {
     "name": "stdout",
     "output_type": "stream",
     "text": [
      "Annotated RXN Image /Users/krv114/Documents/GitHub/incawrapper/docs/examples/Literature data/wasylenko/mappedRxns/ECBLAST_11_AAM.png\n",
      "Output is presented in text format: /Users/krv114/Documents/GitHub/incawrapper/docs/examples/Literature data/wasylenko/mappedRxns/ECBLAST_11_AAM.txt\n",
      "!--------------------------------------------------------\n",
      "Reaction Decoder Tool (RDT)\n",
      "\n",
      "Author: Syed Asad Rahman\n",
      "e-mail: asad@ebi.ac.uk|s9asad@gmail.com\n",
      "c/o EMBL-European BioInformatics Institute (EBI)\n",
      "WTGC, CB10 1SD Hinxton\n",
      "UK\n",
      "\n",
      "Note: The copyright of this software belongs to the author\n",
      "and EMBL-European BioInformatics Institute (EBI).\n",
      "\n",
      "Reference\n",
      "Rahman, S.A. et.al.(2016) Reaction Decoder Tool (RDT):\n",
      "Extracting Features from Chemical Reactions, Bioinformatics (2016)\n",
      "doi: 10.1093/bioinformatics/btw096\n",
      "!--------------------------------------------------------\n",
      "\n",
      "-- AAM --\n"
     ]
    },
    {
     "name": "stderr",
     "output_type": "stream",
     "text": [
      "uk.ac.ebi.reactionblast.mechanism.ReactionMechanismTool WARN: Number of atom(s) on the Left side 16 =/= Number of atom(s) on the Right side 12\n",
      "uk.ac.ebi.reactionblast.mechanism.ReactionMechanismTool WARN: {C=6, O=9, P=1} =/= {C=6, O=6}\n",
      "uk.ac.ebi.reactionblast.mechanism.ReactionMechanismTool WARN: Unmapped atoms present in this reaction(MIN) algorithm.\n"
     ]
    },
    {
     "name": "stdout",
     "output_type": "stream",
     "text": [
      "1    [main] INFO  net.sf.jnati.deploy.artefact.ConfigManager  - Loading global configuration\n",
      "9    [main] DEBUG net.sf.jnati.deploy.artefact.ConfigManager  - Loading defaults: jar:file:/Users/krv114/Documents/GitHub/incawrapper/docs/examples/Literature%20data/wasylenko/RDT.jar!/META-INF/jnati/jnati.default-properties\n",
      "11   [main] INFO  net.sf.jnati.deploy.artefact.ConfigManager  - Loading artefact configuration: jniinchi-1.03_1\n",
      "13   [main] DEBUG net.sf.jnati.deploy.artefact.ConfigManager  - Loading instance defaults: jar:file:/Users/krv114/Documents/GitHub/incawrapper/docs/examples/Literature%20data/wasylenko/RDT.jar!/META-INF/jnati/jnati.instance.default-properties\n",
      "14   [main] INFO  net.sf.jnati.deploy.repository.ClasspathRepository  - Searching classpath for: jniinchi-1.03_1-MAC-X86_64\n",
      "15   [main] INFO  net.sf.jnati.deploy.repository.LocalRepository  - Searching local repository for: jniinchi-1.03_1-MAC-X86_64\n",
      "16   [main] DEBUG net.sf.jnati.deploy.repository.LocalRepository  - Artefact path: /Users/krv114/.jnati/repo/jniinchi/1.03_1/MAC-X86_64\n",
      "16   [main] INFO  net.sf.jnati.deploy.artefact.ManifestReader  - Reading manifest\n",
      "45   [main] INFO  net.sf.jnati.deploy.NativeArtefactLocator  - Artefact (jniinchi-1.03_1-MAC-X86_64) location: /Users/krv114/.jnati/repo/jniinchi/1.03_1/MAC-X86_64\n",
      "45   [main] DEBUG net.sf.jnati.deploy.NativeLibraryLoader  - Loading library: /Users/krv114/.jnati/repo/jniinchi/1.03_1/MAC-X86_64/JniInchi-1.03_1-MAC-X86_64\n"
     ]
    },
    {
     "name": "stderr",
     "output_type": "stream",
     "text": [
      "uk.ac.ebi.reactionblast.mechanism.ReactionMechanismTool WARN: Unmapped atoms present in this reaction(MAX) algorithm.\n",
      "uk.ac.ebi.reactionblast.mechanism.ReactionMechanismTool WARN: Unmapped atoms present in this reaction(MIXTURE) algorithm.\n"
     ]
    },
    {
     "name": "stdout",
     "output_type": "stream",
     "text": [
      "Mapped RXN File /Users/krv114/Documents/GitHub/incawrapper/docs/examples/Literature data/wasylenko/mappedRxns/ECBLAST_10_AAM.rxn\n"
     ]
    },
    {
     "name": "stderr",
     "output_type": "stream",
     "text": [
      "Warning: the fonts \"Times\" and \"Times\" are not available for the Java logical font \"Serif\", which may have unexpected appearance or behavior. Re-enable the \"Times\" font to remove this warning.\n"
     ]
    },
    {
     "name": "stdout",
     "output_type": "stream",
     "text": [
      "Annotated RXN Image /Users/krv114/Documents/GitHub/incawrapper/docs/examples/Literature data/wasylenko/mappedRxns/ECBLAST_10_AAM.png\n",
      "Output is presented in text format: /Users/krv114/Documents/GitHub/incawrapper/docs/examples/Literature data/wasylenko/mappedRxns/ECBLAST_10_AAM.txt\n",
      "!--------------------------------------------------------\n",
      "Reaction Decoder Tool (RDT)\n",
      "\n",
      "Author: Syed Asad Rahman\n",
      "e-mail: asad@ebi.ac.uk|s9asad@gmail.com\n",
      "c/o EMBL-European BioInformatics Institute (EBI)\n",
      "WTGC, CB10 1SD Hinxton\n",
      "UK\n",
      "\n",
      "Note: The copyright of this software belongs to the author\n",
      "and EMBL-European BioInformatics Institute (EBI).\n",
      "\n",
      "Reference\n",
      "Rahman, S.A. et.al.(2016) Reaction Decoder Tool (RDT):\n",
      "Extracting Features from Chemical Reactions, Bioinformatics (2016)\n",
      "doi: 10.1093/bioinformatics/btw096\n",
      "!--------------------------------------------------------\n",
      "\n",
      "-- AAM --\n"
     ]
    },
    {
     "name": "stderr",
     "output_type": "stream",
     "text": [
      "uk.ac.ebi.reactionblast.mechanism.ReactionMechanismTool WARN: Number of atom(s) on the Left side 8 =/= Number of atom(s) on the Right side 9\n",
      "uk.ac.ebi.reactionblast.mechanism.ReactionMechanismTool WARN: {C=4, O=4} =/= {C=4, O=5}\n",
      "uk.ac.ebi.reactionblast.mechanism.ReactionMechanismTool WARN: Unmapped atoms present in this reaction(MIN) algorithm.\n"
     ]
    },
    {
     "name": "stdout",
     "output_type": "stream",
     "text": [
      "0    [main] INFO  net.sf.jnati.deploy.artefact.ConfigManager  - Loading global configuration\n",
      "9    [main] DEBUG net.sf.jnati.deploy.artefact.ConfigManager  - Loading defaults: jar:file:/Users/krv114/Documents/GitHub/incawrapper/docs/examples/Literature%20data/wasylenko/RDT.jar!/META-INF/jnati/jnati.default-properties\n",
      "11   [main] INFO  net.sf.jnati.deploy.artefact.ConfigManager  - Loading artefact configuration: jniinchi-1.03_1\n",
      "15   [main] DEBUG net.sf.jnati.deploy.artefact.ConfigManager  - Loading instance defaults: jar:file:/Users/krv114/Documents/GitHub/incawrapper/docs/examples/Literature%20data/wasylenko/RDT.jar!/META-INF/jnati/jnati.instance.default-properties\n",
      "19   [main] INFO  net.sf.jnati.deploy.repository.ClasspathRepository  - Searching classpath for: jniinchi-1.03_1-MAC-X86_64\n",
      "20   [main] INFO  net.sf.jnati.deploy.repository.LocalRepository  - Searching local repository for: jniinchi-1.03_1-MAC-X86_64\n",
      "20   [main] DEBUG net.sf.jnati.deploy.repository.LocalRepository  - Artefact path: /Users/krv114/.jnati/repo/jniinchi/1.03_1/MAC-X86_64\n",
      "21   [main] INFO  net.sf.jnati.deploy.artefact.ManifestReader  - Reading manifest\n",
      "50   [main] INFO  net.sf.jnati.deploy.NativeArtefactLocator  - Artefact (jniinchi-1.03_1-MAC-X86_64) location: /Users/krv114/.jnati/repo/jniinchi/1.03_1/MAC-X86_64\n",
      "50   [main] DEBUG net.sf.jnati.deploy.NativeLibraryLoader  - Loading library: /Users/krv114/.jnati/repo/jniinchi/1.03_1/MAC-X86_64/JniInchi-1.03_1-MAC-X86_64\n"
     ]
    },
    {
     "name": "stderr",
     "output_type": "stream",
     "text": [
      "uk.ac.ebi.reactionblast.mechanism.ReactionMechanismTool WARN: Unmapped atoms present in this reaction(MAX) algorithm.\n",
      "uk.ac.ebi.reactionblast.mechanism.ReactionMechanismTool WARN: Unmapped atoms present in this reaction(MIXTURE) algorithm.\n"
     ]
    },
    {
     "name": "stdout",
     "output_type": "stream",
     "text": [
      "Mapped RXN File /Users/krv114/Documents/GitHub/incawrapper/docs/examples/Literature data/wasylenko/mappedRxns/ECBLAST_38_AAM.rxn\n"
     ]
    },
    {
     "name": "stderr",
     "output_type": "stream",
     "text": [
      "Warning: the fonts \"Times\" and \"Times\" are not available for the Java logical font \"Serif\", which may have unexpected appearance or behavior. Re-enable the \"Times\" font to remove this warning.\n"
     ]
    },
    {
     "name": "stdout",
     "output_type": "stream",
     "text": [
      "Annotated RXN Image /Users/krv114/Documents/GitHub/incawrapper/docs/examples/Literature data/wasylenko/mappedRxns/ECBLAST_38_AAM.png\n",
      "Output is presented in text format: /Users/krv114/Documents/GitHub/incawrapper/docs/examples/Literature data/wasylenko/mappedRxns/ECBLAST_38_AAM.txt\n",
      "!--------------------------------------------------------\n",
      "Reaction Decoder Tool (RDT)\n",
      "\n",
      "Author: Syed Asad Rahman\n",
      "e-mail: asad@ebi.ac.uk|s9asad@gmail.com\n",
      "c/o EMBL-European BioInformatics Institute (EBI)\n",
      "WTGC, CB10 1SD Hinxton\n",
      "UK\n",
      "\n",
      "Note: The copyright of this software belongs to the author\n",
      "and EMBL-European BioInformatics Institute (EBI).\n",
      "\n",
      "Reference\n",
      "Rahman, S.A. et.al.(2016) Reaction Decoder Tool (RDT):\n",
      "Extracting Features from Chemical Reactions, Bioinformatics (2016)\n",
      "doi: 10.1093/bioinformatics/btw096\n",
      "!--------------------------------------------------------\n",
      "\n",
      "-- AAM --\n"
     ]
    },
    {
     "name": "stderr",
     "output_type": "stream",
     "text": [
      "uk.ac.ebi.reactionblast.mechanism.ReactionMechanismTool WARN: Number of atom(s) on the Left side 42 =/= Number of atom(s) on the Right side 26\n",
      "uk.ac.ebi.reactionblast.mechanism.ReactionMechanismTool WARN: {C=15, N=1, O=23, P=3} =/= {C=15, N=1, O=10}\n",
      "uk.ac.ebi.reactionblast.mechanism.ReactionMechanismTool WARN: Unmapped atoms present in this reaction(MIN) algorithm.\n"
     ]
    },
    {
     "name": "stdout",
     "output_type": "stream",
     "text": [
      "0    [main] INFO  net.sf.jnati.deploy.artefact.ConfigManager  - Loading global configuration\n",
      "7    [main] DEBUG net.sf.jnati.deploy.artefact.ConfigManager  - Loading defaults: jar:file:/Users/krv114/Documents/GitHub/incawrapper/docs/examples/Literature%20data/wasylenko/RDT.jar!/META-INF/jnati/jnati.default-properties\n",
      "10   [main] INFO  net.sf.jnati.deploy.artefact.ConfigManager  - Loading artefact configuration: jniinchi-1.03_1\n",
      "13   [main] DEBUG net.sf.jnati.deploy.artefact.ConfigManager  - Loading instance defaults: jar:file:/Users/krv114/Documents/GitHub/incawrapper/docs/examples/Literature%20data/wasylenko/RDT.jar!/META-INF/jnati/jnati.instance.default-properties\n",
      "15   [main] INFO  net.sf.jnati.deploy.repository.ClasspathRepository  - Searching classpath for: jniinchi-1.03_1-MAC-X86_64\n",
      "17   [main] INFO  net.sf.jnati.deploy.repository.LocalRepository  - Searching local repository for: jniinchi-1.03_1-MAC-X86_64\n",
      "17   [main] DEBUG net.sf.jnati.deploy.repository.LocalRepository  - Artefact path: /Users/krv114/.jnati/repo/jniinchi/1.03_1/MAC-X86_64\n",
      "17   [main] INFO  net.sf.jnati.deploy.artefact.ManifestReader  - Reading manifest\n",
      "45   [main] INFO  net.sf.jnati.deploy.NativeArtefactLocator  - Artefact (jniinchi-1.03_1-MAC-X86_64) location: /Users/krv114/.jnati/repo/jniinchi/1.03_1/MAC-X86_64\n",
      "45   [main] DEBUG net.sf.jnati.deploy.NativeLibraryLoader  - Loading library: /Users/krv114/.jnati/repo/jniinchi/1.03_1/MAC-X86_64/JniInchi-1.03_1-MAC-X86_64\n"
     ]
    },
    {
     "name": "stderr",
     "output_type": "stream",
     "text": [
      "uk.ac.ebi.reactionblast.mechanism.ReactionMechanismTool WARN: Unmapped atoms present in this reaction(MAX) algorithm.\n",
      "uk.ac.ebi.reactionblast.mechanism.ReactionMechanismTool WARN: Unmapped atoms present in this reaction(MIXTURE) algorithm.\n"
     ]
    },
    {
     "name": "stdout",
     "output_type": "stream",
     "text": [
      "Mapped RXN File /Users/krv114/Documents/GitHub/incawrapper/docs/examples/Literature data/wasylenko/mappedRxns/ECBLAST_63_AAM.rxn\n"
     ]
    },
    {
     "name": "stderr",
     "output_type": "stream",
     "text": [
      "Warning: the fonts \"Times\" and \"Times\" are not available for the Java logical font \"Serif\", which may have unexpected appearance or behavior. Re-enable the \"Times\" font to remove this warning.\n"
     ]
    },
    {
     "name": "stdout",
     "output_type": "stream",
     "text": [
      "Annotated RXN Image /Users/krv114/Documents/GitHub/incawrapper/docs/examples/Literature data/wasylenko/mappedRxns/ECBLAST_63_AAM.png\n",
      "Output is presented in text format: /Users/krv114/Documents/GitHub/incawrapper/docs/examples/Literature data/wasylenko/mappedRxns/ECBLAST_63_AAM.txt\n",
      "!--------------------------------------------------------\n",
      "Reaction Decoder Tool (RDT)\n",
      "\n",
      "Author: Syed Asad Rahman\n",
      "e-mail: asad@ebi.ac.uk|s9asad@gmail.com\n",
      "c/o EMBL-European BioInformatics Institute (EBI)\n",
      "WTGC, CB10 1SD Hinxton\n",
      "UK\n",
      "\n",
      "Note: The copyright of this software belongs to the author\n",
      "and EMBL-European BioInformatics Institute (EBI).\n",
      "\n",
      "Reference\n",
      "Rahman, S.A. et.al.(2016) Reaction Decoder Tool (RDT):\n",
      "Extracting Features from Chemical Reactions, Bioinformatics (2016)\n",
      "doi: 10.1093/bioinformatics/btw096\n",
      "!--------------------------------------------------------\n",
      "\n",
      "-- AAM --\n"
     ]
    },
    {
     "name": "stderr",
     "output_type": "stream",
     "text": [
      "uk.ac.ebi.reactionblast.mechanism.ReactionMechanismTool WARN: Number of atom(s) on the Left side 42 =/= Number of atom(s) on the Right side 25\n",
      "uk.ac.ebi.reactionblast.mechanism.ReactionMechanismTool WARN: {C=15, N=1, O=23, P=3} =/= {C=15, N=1, O=9}\n",
      "uk.ac.ebi.reactionblast.mechanism.ReactionMechanismTool WARN: Unmapped atoms present in this reaction(MIN) algorithm.\n"
     ]
    },
    {
     "name": "stdout",
     "output_type": "stream",
     "text": [
      "0    [main] INFO  net.sf.jnati.deploy.artefact.ConfigManager  - Loading global configuration\n",
      "10   [main] DEBUG net.sf.jnati.deploy.artefact.ConfigManager  - Loading defaults: jar:file:/Users/krv114/Documents/GitHub/incawrapper/docs/examples/Literature%20data/wasylenko/RDT.jar!/META-INF/jnati/jnati.default-properties\n",
      "13   [main] INFO  net.sf.jnati.deploy.artefact.ConfigManager  - Loading artefact configuration: jniinchi-1.03_1\n",
      "15   [main] DEBUG net.sf.jnati.deploy.artefact.ConfigManager  - Loading instance defaults: jar:file:/Users/krv114/Documents/GitHub/incawrapper/docs/examples/Literature%20data/wasylenko/RDT.jar!/META-INF/jnati/jnati.instance.default-properties\n",
      "18   [main] INFO  net.sf.jnati.deploy.repository.ClasspathRepository  - Searching classpath for: jniinchi-1.03_1-MAC-X86_64\n",
      "20   [main] INFO  net.sf.jnati.deploy.repository.LocalRepository  - Searching local repository for: jniinchi-1.03_1-MAC-X86_64\n",
      "20   [main] DEBUG net.sf.jnati.deploy.repository.LocalRepository  - Artefact path: /Users/krv114/.jnati/repo/jniinchi/1.03_1/MAC-X86_64\n",
      "20   [main] INFO  net.sf.jnati.deploy.artefact.ManifestReader  - Reading manifest\n",
      "51   [main] INFO  net.sf.jnati.deploy.NativeArtefactLocator  - Artefact (jniinchi-1.03_1-MAC-X86_64) location: /Users/krv114/.jnati/repo/jniinchi/1.03_1/MAC-X86_64\n",
      "51   [main] DEBUG net.sf.jnati.deploy.NativeLibraryLoader  - Loading library: /Users/krv114/.jnati/repo/jniinchi/1.03_1/MAC-X86_64/JniInchi-1.03_1-MAC-X86_64\n"
     ]
    },
    {
     "name": "stderr",
     "output_type": "stream",
     "text": [
      "uk.ac.ebi.reactionblast.mechanism.ReactionMechanismTool WARN: Unmapped atoms present in this reaction(MAX) algorithm.\n",
      "uk.ac.ebi.reactionblast.mechanism.ReactionMechanismTool WARN: Unmapped atoms present in this reaction(MIXTURE) algorithm.\n"
     ]
    },
    {
     "name": "stdout",
     "output_type": "stream",
     "text": [
      "Mapped RXN File /Users/krv114/Documents/GitHub/incawrapper/docs/examples/Literature data/wasylenko/mappedRxns/ECBLAST_62_AAM.rxn\n"
     ]
    },
    {
     "name": "stderr",
     "output_type": "stream",
     "text": [
      "Warning: the fonts \"Times\" and \"Times\" are not available for the Java logical font \"Serif\", which may have unexpected appearance or behavior. Re-enable the \"Times\" font to remove this warning.\n"
     ]
    },
    {
     "name": "stdout",
     "output_type": "stream",
     "text": [
      "Annotated RXN Image /Users/krv114/Documents/GitHub/incawrapper/docs/examples/Literature data/wasylenko/mappedRxns/ECBLAST_62_AAM.png\n",
      "Output is presented in text format: /Users/krv114/Documents/GitHub/incawrapper/docs/examples/Literature data/wasylenko/mappedRxns/ECBLAST_62_AAM.txt\n",
      "!--------------------------------------------------------\n",
      "Reaction Decoder Tool (RDT)\n",
      "\n",
      "Author: Syed Asad Rahman\n",
      "e-mail: asad@ebi.ac.uk|s9asad@gmail.com\n",
      "c/o EMBL-European BioInformatics Institute (EBI)\n",
      "WTGC, CB10 1SD Hinxton\n",
      "UK\n",
      "\n",
      "Note: The copyright of this software belongs to the author\n",
      "and EMBL-European BioInformatics Institute (EBI).\n",
      "\n",
      "Reference\n",
      "Rahman, S.A. et.al.(2016) Reaction Decoder Tool (RDT):\n",
      "Extracting Features from Chemical Reactions, Bioinformatics (2016)\n",
      "doi: 10.1093/bioinformatics/btw096\n",
      "!--------------------------------------------------------\n",
      "\n",
      "-- AAM --\n"
     ]
    },
    {
     "name": "stderr",
     "output_type": "stream",
     "text": [
      "uk.ac.ebi.reactionblast.mechanism.ReactionMechanismTool WARN: Number of atom(s) on the Left side 21 =/= Number of atom(s) on the Right side 20\n",
      "uk.ac.ebi.reactionblast.mechanism.ReactionMechanismTool WARN: {C=9, N=2, O=9, P=1} =/= {C=9, N=2, O=8, P=1}\n",
      "uk.ac.ebi.reactionblast.mechanism.ReactionMechanismTool WARN: Unmapped atoms present in this reaction(MIN) algorithm.\n"
     ]
    },
    {
     "name": "stdout",
     "output_type": "stream",
     "text": [
      "0    [main] INFO  net.sf.jnati.deploy.artefact.ConfigManager  - Loading global configuration\n",
      "13   [main] DEBUG net.sf.jnati.deploy.artefact.ConfigManager  - Loading defaults: jar:file:/Users/krv114/Documents/GitHub/incawrapper/docs/examples/Literature%20data/wasylenko/RDT.jar!/META-INF/jnati/jnati.default-properties\n",
      "14   [main] INFO  net.sf.jnati.deploy.artefact.ConfigManager  - Loading artefact configuration: jniinchi-1.03_1\n",
      "17   [main] DEBUG net.sf.jnati.deploy.artefact.ConfigManager  - Loading instance defaults: jar:file:/Users/krv114/Documents/GitHub/incawrapper/docs/examples/Literature%20data/wasylenko/RDT.jar!/META-INF/jnati/jnati.instance.default-properties\n",
      "21   [main] INFO  net.sf.jnati.deploy.repository.ClasspathRepository  - Searching classpath for: jniinchi-1.03_1-MAC-X86_64\n",
      "23   [main] INFO  net.sf.jnati.deploy.repository.LocalRepository  - Searching local repository for: jniinchi-1.03_1-MAC-X86_64\n",
      "23   [main] DEBUG net.sf.jnati.deploy.repository.LocalRepository  - Artefact path: /Users/krv114/.jnati/repo/jniinchi/1.03_1/MAC-X86_64\n",
      "24   [main] INFO  net.sf.jnati.deploy.artefact.ManifestReader  - Reading manifest\n",
      "54   [main] INFO  net.sf.jnati.deploy.NativeArtefactLocator  - Artefact (jniinchi-1.03_1-MAC-X86_64) location: /Users/krv114/.jnati/repo/jniinchi/1.03_1/MAC-X86_64\n",
      "54   [main] DEBUG net.sf.jnati.deploy.NativeLibraryLoader  - Loading library: /Users/krv114/.jnati/repo/jniinchi/1.03_1/MAC-X86_64/JniInchi-1.03_1-MAC-X86_64\n"
     ]
    },
    {
     "name": "stderr",
     "output_type": "stream",
     "text": [
      "uk.ac.ebi.reactionblast.mechanism.ReactionMechanismTool WARN: Unmapped atoms present in this reaction(MAX) algorithm.\n",
      "uk.ac.ebi.reactionblast.mechanism.ReactionMechanismTool WARN: Unmapped atoms present in this reaction(MIXTURE) algorithm.\n"
     ]
    },
    {
     "name": "stdout",
     "output_type": "stream",
     "text": [
      "Mapped RXN File /Users/krv114/Documents/GitHub/incawrapper/docs/examples/Literature data/wasylenko/mappedRxns/ECBLAST_74_AAM.rxn\n"
     ]
    },
    {
     "name": "stderr",
     "output_type": "stream",
     "text": [
      "Warning: the fonts \"Times\" and \"Times\" are not available for the Java logical font \"Serif\", which may have unexpected appearance or behavior. Re-enable the \"Times\" font to remove this warning.\n"
     ]
    },
    {
     "name": "stdout",
     "output_type": "stream",
     "text": [
      "Annotated RXN Image /Users/krv114/Documents/GitHub/incawrapper/docs/examples/Literature data/wasylenko/mappedRxns/ECBLAST_74_AAM.png\n",
      "Output is presented in text format: /Users/krv114/Documents/GitHub/incawrapper/docs/examples/Literature data/wasylenko/mappedRxns/ECBLAST_74_AAM.txt\n",
      "!--------------------------------------------------------\n",
      "Reaction Decoder Tool (RDT)\n",
      "\n",
      "Author: Syed Asad Rahman\n",
      "e-mail: asad@ebi.ac.uk|s9asad@gmail.com\n",
      "c/o EMBL-European BioInformatics Institute (EBI)\n",
      "WTGC, CB10 1SD Hinxton\n",
      "UK\n",
      "\n",
      "Note: The copyright of this software belongs to the author\n",
      "and EMBL-European BioInformatics Institute (EBI).\n",
      "\n",
      "Reference\n",
      "Rahman, S.A. et.al.(2016) Reaction Decoder Tool (RDT):\n",
      "Extracting Features from Chemical Reactions, Bioinformatics (2016)\n",
      "doi: 10.1093/bioinformatics/btw096\n",
      "!--------------------------------------------------------\n",
      "\n",
      "-- AAM --\n"
     ]
    },
    {
     "name": "stderr",
     "output_type": "stream",
     "text": [
      "uk.ac.ebi.reactionblast.mechanism.ReactionMechanismTool WARN: Number of atom(s) on the Left side 24 =/= Number of atom(s) on the Right side 22\n",
      "uk.ac.ebi.reactionblast.mechanism.ReactionMechanismTool WARN: {C=12, N=2, O=10} =/= {C=12, N=1, O=9}\n",
      "uk.ac.ebi.reactionblast.mechanism.ReactionMechanismTool WARN: Unmapped atoms present in this reaction(MIN) algorithm.\n"
     ]
    },
    {
     "name": "stdout",
     "output_type": "stream",
     "text": [
      "0    [main] INFO  net.sf.jnati.deploy.artefact.ConfigManager  - Loading global configuration\n",
      "8    [main] DEBUG net.sf.jnati.deploy.artefact.ConfigManager  - Loading defaults: jar:file:/Users/krv114/Documents/GitHub/incawrapper/docs/examples/Literature%20data/wasylenko/RDT.jar!/META-INF/jnati/jnati.default-properties\n",
      "9    [main] INFO  net.sf.jnati.deploy.artefact.ConfigManager  - Loading artefact configuration: jniinchi-1.03_1\n",
      "10   [main] DEBUG net.sf.jnati.deploy.artefact.ConfigManager  - Loading instance defaults: jar:file:/Users/krv114/Documents/GitHub/incawrapper/docs/examples/Literature%20data/wasylenko/RDT.jar!/META-INF/jnati/jnati.instance.default-properties\n",
      "12   [main] INFO  net.sf.jnati.deploy.repository.ClasspathRepository  - Searching classpath for: jniinchi-1.03_1-MAC-X86_64\n",
      "14   [main] INFO  net.sf.jnati.deploy.repository.LocalRepository  - Searching local repository for: jniinchi-1.03_1-MAC-X86_64\n",
      "14   [main] DEBUG net.sf.jnati.deploy.repository.LocalRepository  - Artefact path: /Users/krv114/.jnati/repo/jniinchi/1.03_1/MAC-X86_64\n",
      "14   [main] INFO  net.sf.jnati.deploy.artefact.ManifestReader  - Reading manifest\n",
      "44   [main] INFO  net.sf.jnati.deploy.NativeArtefactLocator  - Artefact (jniinchi-1.03_1-MAC-X86_64) location: /Users/krv114/.jnati/repo/jniinchi/1.03_1/MAC-X86_64\n",
      "45   [main] DEBUG net.sf.jnati.deploy.NativeLibraryLoader  - Loading library: /Users/krv114/.jnati/repo/jniinchi/1.03_1/MAC-X86_64/JniInchi-1.03_1-MAC-X86_64\n"
     ]
    },
    {
     "name": "stderr",
     "output_type": "stream",
     "text": [
      "uk.ac.ebi.reactionblast.mechanism.ReactionMechanismTool WARN: Unmapped atoms present in this reaction(MAX) algorithm.\n",
      "uk.ac.ebi.reactionblast.mechanism.ReactionMechanismTool WARN: Unmapped atoms present in this reaction(MIXTURE) algorithm.\n"
     ]
    },
    {
     "name": "stdout",
     "output_type": "stream",
     "text": [
      "Mapped RXN File /Users/krv114/Documents/GitHub/incawrapper/docs/examples/Literature data/wasylenko/mappedRxns/ECBLAST_60_AAM.rxn\n"
     ]
    },
    {
     "name": "stderr",
     "output_type": "stream",
     "text": [
      "Warning: the fonts \"Times\" and \"Times\" are not available for the Java logical font \"Serif\", which may have unexpected appearance or behavior. Re-enable the \"Times\" font to remove this warning.\n"
     ]
    },
    {
     "name": "stdout",
     "output_type": "stream",
     "text": [
      "Annotated RXN Image /Users/krv114/Documents/GitHub/incawrapper/docs/examples/Literature data/wasylenko/mappedRxns/ECBLAST_60_AAM.png\n",
      "Output is presented in text format: /Users/krv114/Documents/GitHub/incawrapper/docs/examples/Literature data/wasylenko/mappedRxns/ECBLAST_60_AAM.txt\n",
      "!--------------------------------------------------------\n",
      "Reaction Decoder Tool (RDT)\n",
      "\n",
      "Author: Syed Asad Rahman\n",
      "e-mail: asad@ebi.ac.uk|s9asad@gmail.com\n",
      "c/o EMBL-European BioInformatics Institute (EBI)\n",
      "WTGC, CB10 1SD Hinxton\n",
      "UK\n",
      "\n",
      "Note: The copyright of this software belongs to the author\n",
      "and EMBL-European BioInformatics Institute (EBI).\n",
      "\n",
      "Reference\n",
      "Rahman, S.A. et.al.(2016) Reaction Decoder Tool (RDT):\n",
      "Extracting Features from Chemical Reactions, Bioinformatics (2016)\n",
      "doi: 10.1093/bioinformatics/btw096\n",
      "!--------------------------------------------------------\n",
      "\n",
      "-- AAM --\n"
     ]
    },
    {
     "name": "stderr",
     "output_type": "stream",
     "text": [
      "uk.ac.ebi.reactionblast.mechanism.ReactionMechanismTool WARN: Number of atom(s) on the Left side 10 =/= Number of atom(s) on the Right side 8\n",
      "uk.ac.ebi.reactionblast.mechanism.ReactionMechanismTool WARN: {C=5, N=1, O=4} =/= {C=5, N=1, O=2}\n",
      "uk.ac.ebi.reactionblast.mechanism.ReactionMechanismTool WARN: Unmapped atoms present in this reaction(MIN) algorithm.\n"
     ]
    },
    {
     "name": "stdout",
     "output_type": "stream",
     "text": [
      "0    [main] INFO  net.sf.jnati.deploy.artefact.ConfigManager  - Loading global configuration\n",
      "9    [main] DEBUG net.sf.jnati.deploy.artefact.ConfigManager  - Loading defaults: jar:file:/Users/krv114/Documents/GitHub/incawrapper/docs/examples/Literature%20data/wasylenko/RDT.jar!/META-INF/jnati/jnati.default-properties\n",
      "10   [main] INFO  net.sf.jnati.deploy.artefact.ConfigManager  - Loading artefact configuration: jniinchi-1.03_1\n",
      "12   [main] DEBUG net.sf.jnati.deploy.artefact.ConfigManager  - Loading instance defaults: jar:file:/Users/krv114/Documents/GitHub/incawrapper/docs/examples/Literature%20data/wasylenko/RDT.jar!/META-INF/jnati/jnati.instance.default-properties\n",
      "14   [main] INFO  net.sf.jnati.deploy.repository.ClasspathRepository  - Searching classpath for: jniinchi-1.03_1-MAC-X86_64\n",
      "15   [main] INFO  net.sf.jnati.deploy.repository.LocalRepository  - Searching local repository for: jniinchi-1.03_1-MAC-X86_64\n",
      "15   [main] DEBUG net.sf.jnati.deploy.repository.LocalRepository  - Artefact path: /Users/krv114/.jnati/repo/jniinchi/1.03_1/MAC-X86_64\n",
      "16   [main] INFO  net.sf.jnati.deploy.artefact.ManifestReader  - Reading manifest\n",
      "44   [main] INFO  net.sf.jnati.deploy.NativeArtefactLocator  - Artefact (jniinchi-1.03_1-MAC-X86_64) location: /Users/krv114/.jnati/repo/jniinchi/1.03_1/MAC-X86_64\n",
      "44   [main] DEBUG net.sf.jnati.deploy.NativeLibraryLoader  - Loading library: /Users/krv114/.jnati/repo/jniinchi/1.03_1/MAC-X86_64/JniInchi-1.03_1-MAC-X86_64\n"
     ]
    },
    {
     "name": "stderr",
     "output_type": "stream",
     "text": [
      "uk.ac.ebi.reactionblast.mechanism.ReactionMechanismTool WARN: Unmapped atoms present in this reaction(MAX) algorithm.\n",
      "uk.ac.ebi.reactionblast.mechanism.ReactionMechanismTool WARN: Unmapped atoms present in this reaction(MIXTURE) algorithm.\n"
     ]
    },
    {
     "name": "stdout",
     "output_type": "stream",
     "text": [
      "Mapped RXN File /Users/krv114/Documents/GitHub/incawrapper/docs/examples/Literature data/wasylenko/mappedRxns/ECBLAST_48_AAM.rxn\n"
     ]
    },
    {
     "name": "stderr",
     "output_type": "stream",
     "text": [
      "Warning: the fonts \"Times\" and \"Times\" are not available for the Java logical font \"Serif\", which may have unexpected appearance or behavior. Re-enable the \"Times\" font to remove this warning.\n"
     ]
    },
    {
     "name": "stdout",
     "output_type": "stream",
     "text": [
      "Annotated RXN Image /Users/krv114/Documents/GitHub/incawrapper/docs/examples/Literature data/wasylenko/mappedRxns/ECBLAST_48_AAM.png\n",
      "Output is presented in text format: /Users/krv114/Documents/GitHub/incawrapper/docs/examples/Literature data/wasylenko/mappedRxns/ECBLAST_48_AAM.txt\n",
      "!--------------------------------------------------------\n",
      "Reaction Decoder Tool (RDT)\n",
      "\n",
      "Author: Syed Asad Rahman\n",
      "e-mail: asad@ebi.ac.uk|s9asad@gmail.com\n",
      "c/o EMBL-European BioInformatics Institute (EBI)\n",
      "WTGC, CB10 1SD Hinxton\n",
      "UK\n",
      "\n",
      "Note: The copyright of this software belongs to the author\n",
      "and EMBL-European BioInformatics Institute (EBI).\n",
      "\n",
      "Reference\n",
      "Rahman, S.A. et.al.(2016) Reaction Decoder Tool (RDT):\n",
      "Extracting Features from Chemical Reactions, Bioinformatics (2016)\n",
      "doi: 10.1093/bioinformatics/btw096\n",
      "!--------------------------------------------------------\n",
      "\n",
      "-- AAM --\n"
     ]
    },
    {
     "name": "stderr",
     "output_type": "stream",
     "text": [
      "uk.ac.ebi.reactionblast.mechanism.ReactionMechanismTool WARN: Number of atom(s) on the Left side 42 =/= Number of atom(s) on the Right side 40\n",
      "uk.ac.ebi.reactionblast.mechanism.ReactionMechanismTool WARN: {C=20, N=5, O=17} =/= {C=20, N=5, O=15}\n",
      "uk.ac.ebi.reactionblast.mechanism.ReactionMechanismTool WARN: Unmapped atoms present in this reaction(MIN) algorithm.\n"
     ]
    },
    {
     "name": "stdout",
     "output_type": "stream",
     "text": [
      "0    [main] INFO  net.sf.jnati.deploy.artefact.ConfigManager  - Loading global configuration\n",
      "8    [main] DEBUG net.sf.jnati.deploy.artefact.ConfigManager  - Loading defaults: jar:file:/Users/krv114/Documents/GitHub/incawrapper/docs/examples/Literature%20data/wasylenko/RDT.jar!/META-INF/jnati/jnati.default-properties\n",
      "9    [main] INFO  net.sf.jnati.deploy.artefact.ConfigManager  - Loading artefact configuration: jniinchi-1.03_1\n",
      "11   [main] DEBUG net.sf.jnati.deploy.artefact.ConfigManager  - Loading instance defaults: jar:file:/Users/krv114/Documents/GitHub/incawrapper/docs/examples/Literature%20data/wasylenko/RDT.jar!/META-INF/jnati/jnati.instance.default-properties\n",
      "12   [main] INFO  net.sf.jnati.deploy.repository.ClasspathRepository  - Searching classpath for: jniinchi-1.03_1-MAC-X86_64\n",
      "14   [main] INFO  net.sf.jnati.deploy.repository.LocalRepository  - Searching local repository for: jniinchi-1.03_1-MAC-X86_64\n",
      "14   [main] DEBUG net.sf.jnati.deploy.repository.LocalRepository  - Artefact path: /Users/krv114/.jnati/repo/jniinchi/1.03_1/MAC-X86_64\n",
      "14   [main] INFO  net.sf.jnati.deploy.artefact.ManifestReader  - Reading manifest\n",
      "43   [main] INFO  net.sf.jnati.deploy.NativeArtefactLocator  - Artefact (jniinchi-1.03_1-MAC-X86_64) location: /Users/krv114/.jnati/repo/jniinchi/1.03_1/MAC-X86_64\n",
      "43   [main] DEBUG net.sf.jnati.deploy.NativeLibraryLoader  - Loading library: /Users/krv114/.jnati/repo/jniinchi/1.03_1/MAC-X86_64/JniInchi-1.03_1-MAC-X86_64\n"
     ]
    },
    {
     "name": "stderr",
     "output_type": "stream",
     "text": [
      "uk.ac.ebi.reactionblast.mechanism.ReactionMechanismTool WARN: Unmapped atoms present in this reaction(MAX) algorithm.\n",
      "uk.ac.ebi.reactionblast.mechanism.ReactionMechanismTool WARN: Unmapped atoms present in this reaction(MIXTURE) algorithm.\n"
     ]
    },
    {
     "name": "stdout",
     "output_type": "stream",
     "text": [
      "Mapped RXN File /Users/krv114/Documents/GitHub/incawrapper/docs/examples/Literature data/wasylenko/mappedRxns/ECBLAST_49_AAM.rxn\n"
     ]
    },
    {
     "name": "stderr",
     "output_type": "stream",
     "text": [
      "Warning: the fonts \"Times\" and \"Times\" are not available for the Java logical font \"Serif\", which may have unexpected appearance or behavior. Re-enable the \"Times\" font to remove this warning.\n"
     ]
    },
    {
     "name": "stdout",
     "output_type": "stream",
     "text": [
      "Annotated RXN Image /Users/krv114/Documents/GitHub/incawrapper/docs/examples/Literature data/wasylenko/mappedRxns/ECBLAST_49_AAM.png\n",
      "Output is presented in text format: /Users/krv114/Documents/GitHub/incawrapper/docs/examples/Literature data/wasylenko/mappedRxns/ECBLAST_49_AAM.txt\n",
      "!--------------------------------------------------------\n",
      "Reaction Decoder Tool (RDT)\n",
      "\n",
      "Author: Syed Asad Rahman\n",
      "e-mail: asad@ebi.ac.uk|s9asad@gmail.com\n",
      "c/o EMBL-European BioInformatics Institute (EBI)\n",
      "WTGC, CB10 1SD Hinxton\n",
      "UK\n",
      "\n",
      "Note: The copyright of this software belongs to the author\n",
      "and EMBL-European BioInformatics Institute (EBI).\n",
      "\n",
      "Reference\n",
      "Rahman, S.A. et.al.(2016) Reaction Decoder Tool (RDT):\n",
      "Extracting Features from Chemical Reactions, Bioinformatics (2016)\n",
      "doi: 10.1093/bioinformatics/btw096\n",
      "!--------------------------------------------------------\n",
      "\n",
      "-- AAM --\n"
     ]
    },
    {
     "name": "stderr",
     "output_type": "stream",
     "text": [
      "uk.ac.ebi.reactionblast.mechanism.ReactionMechanismTool WARN: Number of atom(s) on the Left side 22 =/= Number of atom(s) on the Right side 21\n",
      "uk.ac.ebi.reactionblast.mechanism.ReactionMechanismTool WARN: {C=11, N=1, O=10} =/= {C=11, N=1, O=9}\n",
      "uk.ac.ebi.reactionblast.mechanism.ReactionMechanismTool WARN: Unmapped atoms present in this reaction(MIN) algorithm.\n"
     ]
    },
    {
     "name": "stdout",
     "output_type": "stream",
     "text": [
      "0    [main] INFO  net.sf.jnati.deploy.artefact.ConfigManager  - Loading global configuration\n",
      "8    [main] DEBUG net.sf.jnati.deploy.artefact.ConfigManager  - Loading defaults: jar:file:/Users/krv114/Documents/GitHub/incawrapper/docs/examples/Literature%20data/wasylenko/RDT.jar!/META-INF/jnati/jnati.default-properties\n",
      "9    [main] INFO  net.sf.jnati.deploy.artefact.ConfigManager  - Loading artefact configuration: jniinchi-1.03_1\n",
      "13   [main] DEBUG net.sf.jnati.deploy.artefact.ConfigManager  - Loading instance defaults: jar:file:/Users/krv114/Documents/GitHub/incawrapper/docs/examples/Literature%20data/wasylenko/RDT.jar!/META-INF/jnati/jnati.instance.default-properties\n",
      "15   [main] INFO  net.sf.jnati.deploy.repository.ClasspathRepository  - Searching classpath for: jniinchi-1.03_1-MAC-X86_64\n",
      "16   [main] INFO  net.sf.jnati.deploy.repository.LocalRepository  - Searching local repository for: jniinchi-1.03_1-MAC-X86_64\n",
      "16   [main] DEBUG net.sf.jnati.deploy.repository.LocalRepository  - Artefact path: /Users/krv114/.jnati/repo/jniinchi/1.03_1/MAC-X86_64\n",
      "16   [main] INFO  net.sf.jnati.deploy.artefact.ManifestReader  - Reading manifest\n",
      "46   [main] INFO  net.sf.jnati.deploy.NativeArtefactLocator  - Artefact (jniinchi-1.03_1-MAC-X86_64) location: /Users/krv114/.jnati/repo/jniinchi/1.03_1/MAC-X86_64\n",
      "46   [main] DEBUG net.sf.jnati.deploy.NativeLibraryLoader  - Loading library: /Users/krv114/.jnati/repo/jniinchi/1.03_1/MAC-X86_64/JniInchi-1.03_1-MAC-X86_64\n"
     ]
    },
    {
     "name": "stderr",
     "output_type": "stream",
     "text": [
      "uk.ac.ebi.reactionblast.mechanism.ReactionMechanismTool WARN: Unmapped atoms present in this reaction(MAX) algorithm.\n",
      "uk.ac.ebi.reactionblast.mechanism.ReactionMechanismTool WARN: Unmapped atoms present in this reaction(MIXTURE) algorithm.\n"
     ]
    },
    {
     "name": "stdout",
     "output_type": "stream",
     "text": [
      "Mapped RXN File /Users/krv114/Documents/GitHub/incawrapper/docs/examples/Literature data/wasylenko/mappedRxns/ECBLAST_61_AAM.rxn\n"
     ]
    },
    {
     "name": "stderr",
     "output_type": "stream",
     "text": [
      "Warning: the fonts \"Times\" and \"Times\" are not available for the Java logical font \"Serif\", which may have unexpected appearance or behavior. Re-enable the \"Times\" font to remove this warning.\n"
     ]
    },
    {
     "name": "stdout",
     "output_type": "stream",
     "text": [
      "Annotated RXN Image /Users/krv114/Documents/GitHub/incawrapper/docs/examples/Literature data/wasylenko/mappedRxns/ECBLAST_61_AAM.png\n",
      "Output is presented in text format: /Users/krv114/Documents/GitHub/incawrapper/docs/examples/Literature data/wasylenko/mappedRxns/ECBLAST_61_AAM.txt\n",
      "!--------------------------------------------------------\n",
      "Reaction Decoder Tool (RDT)\n",
      "\n",
      "Author: Syed Asad Rahman\n",
      "e-mail: asad@ebi.ac.uk|s9asad@gmail.com\n",
      "c/o EMBL-European BioInformatics Institute (EBI)\n",
      "WTGC, CB10 1SD Hinxton\n",
      "UK\n",
      "\n",
      "Note: The copyright of this software belongs to the author\n",
      "and EMBL-European BioInformatics Institute (EBI).\n",
      "\n",
      "Reference\n",
      "Rahman, S.A. et.al.(2016) Reaction Decoder Tool (RDT):\n",
      "Extracting Features from Chemical Reactions, Bioinformatics (2016)\n",
      "doi: 10.1093/bioinformatics/btw096\n",
      "!--------------------------------------------------------\n",
      "\n",
      "-- AAM --\n"
     ]
    },
    {
     "name": "stderr",
     "output_type": "stream",
     "text": [
      "uk.ac.ebi.reactionblast.mechanism.ReactionMechanismTool WARN: Number of atom(s) on the Left side 73 =/= Number of atom(s) on the Right side 25\n",
      "uk.ac.ebi.reactionblast.mechanism.ReactionMechanismTool WARN: {C=34, N=8, O=27, P=3, S=1} =/= {C=13, N=1, O=11}\n",
      "uk.ac.ebi.reactionblast.mechanism.ReactionMechanismTool WARN: Unmapped atoms present in this reaction(MIN) algorithm.\n"
     ]
    },
    {
     "name": "stdout",
     "output_type": "stream",
     "text": [
      "0    [main] INFO  net.sf.jnati.deploy.artefact.ConfigManager  - Loading global configuration\n",
      "10   [main] DEBUG net.sf.jnati.deploy.artefact.ConfigManager  - Loading defaults: jar:file:/Users/krv114/Documents/GitHub/incawrapper/docs/examples/Literature%20data/wasylenko/RDT.jar!/META-INF/jnati/jnati.default-properties\n",
      "12   [main] INFO  net.sf.jnati.deploy.artefact.ConfigManager  - Loading artefact configuration: jniinchi-1.03_1\n",
      "15   [main] DEBUG net.sf.jnati.deploy.artefact.ConfigManager  - Loading instance defaults: jar:file:/Users/krv114/Documents/GitHub/incawrapper/docs/examples/Literature%20data/wasylenko/RDT.jar!/META-INF/jnati/jnati.instance.default-properties\n",
      "17   [main] INFO  net.sf.jnati.deploy.repository.ClasspathRepository  - Searching classpath for: jniinchi-1.03_1-MAC-X86_64\n",
      "18   [main] INFO  net.sf.jnati.deploy.repository.LocalRepository  - Searching local repository for: jniinchi-1.03_1-MAC-X86_64\n",
      "18   [main] DEBUG net.sf.jnati.deploy.repository.LocalRepository  - Artefact path: /Users/krv114/.jnati/repo/jniinchi/1.03_1/MAC-X86_64\n",
      "18   [main] INFO  net.sf.jnati.deploy.artefact.ManifestReader  - Reading manifest\n",
      "47   [main] INFO  net.sf.jnati.deploy.NativeArtefactLocator  - Artefact (jniinchi-1.03_1-MAC-X86_64) location: /Users/krv114/.jnati/repo/jniinchi/1.03_1/MAC-X86_64\n",
      "47   [main] DEBUG net.sf.jnati.deploy.NativeLibraryLoader  - Loading library: /Users/krv114/.jnati/repo/jniinchi/1.03_1/MAC-X86_64/JniInchi-1.03_1-MAC-X86_64\n"
     ]
    },
    {
     "name": "stderr",
     "output_type": "stream",
     "text": [
      "uk.ac.ebi.reactionblast.mechanism.ReactionMechanismTool WARN: Unmapped atoms present in this reaction(MAX) algorithm.\n",
      "uk.ac.ebi.reactionblast.mechanism.ReactionMechanismTool WARN: Unmapped atoms present in this reaction(MIXTURE) algorithm.\n"
     ]
    },
    {
     "name": "stdout",
     "output_type": "stream",
     "text": [
      "Mapped RXN File /Users/krv114/Documents/GitHub/incawrapper/docs/examples/Literature data/wasylenko/mappedRxns/ECBLAST_59_AAM.rxn\n"
     ]
    },
    {
     "name": "stderr",
     "output_type": "stream",
     "text": [
      "Warning: the fonts \"Times\" and \"Times\" are not available for the Java logical font \"Serif\", which may have unexpected appearance or behavior. Re-enable the \"Times\" font to remove this warning.\n"
     ]
    },
    {
     "name": "stdout",
     "output_type": "stream",
     "text": [
      "Annotated RXN Image /Users/krv114/Documents/GitHub/incawrapper/docs/examples/Literature data/wasylenko/mappedRxns/ECBLAST_59_AAM.png\n",
      "Output is presented in text format: /Users/krv114/Documents/GitHub/incawrapper/docs/examples/Literature data/wasylenko/mappedRxns/ECBLAST_59_AAM.txt\n",
      "!--------------------------------------------------------\n",
      "Reaction Decoder Tool (RDT)\n",
      "\n",
      "Author: Syed Asad Rahman\n",
      "e-mail: asad@ebi.ac.uk|s9asad@gmail.com\n",
      "c/o EMBL-European BioInformatics Institute (EBI)\n",
      "WTGC, CB10 1SD Hinxton\n",
      "UK\n",
      "\n",
      "Note: The copyright of this software belongs to the author\n",
      "and EMBL-European BioInformatics Institute (EBI).\n",
      "\n",
      "Reference\n",
      "Rahman, S.A. et.al.(2016) Reaction Decoder Tool (RDT):\n",
      "Extracting Features from Chemical Reactions, Bioinformatics (2016)\n",
      "doi: 10.1093/bioinformatics/btw096\n",
      "!--------------------------------------------------------\n",
      "\n",
      "-- AAM --\n"
     ]
    },
    {
     "name": "stderr",
     "output_type": "stream",
     "text": [
      "uk.ac.ebi.reactionblast.mechanism.ReactionMechanismTool WARN: Number of atom(s) on the Left side 23 =/= Number of atom(s) on the Right side 22\n",
      "uk.ac.ebi.reactionblast.mechanism.ReactionMechanismTool WARN: {C=10, N=5, O=7, P=1} =/= {C=10, N=5, O=6, P=1}\n",
      "uk.ac.ebi.reactionblast.mechanism.ReactionMechanismTool WARN: Unmapped atoms present in this reaction(MIN) algorithm.\n"
     ]
    },
    {
     "name": "stdout",
     "output_type": "stream",
     "text": [
      "0    [main] INFO  net.sf.jnati.deploy.artefact.ConfigManager  - Loading global configuration\n",
      "8    [main] DEBUG net.sf.jnati.deploy.artefact.ConfigManager  - Loading defaults: jar:file:/Users/krv114/Documents/GitHub/incawrapper/docs/examples/Literature%20data/wasylenko/RDT.jar!/META-INF/jnati/jnati.default-properties\n",
      "10   [main] INFO  net.sf.jnati.deploy.artefact.ConfigManager  - Loading artefact configuration: jniinchi-1.03_1\n",
      "13   [main] DEBUG net.sf.jnati.deploy.artefact.ConfigManager  - Loading instance defaults: jar:file:/Users/krv114/Documents/GitHub/incawrapper/docs/examples/Literature%20data/wasylenko/RDT.jar!/META-INF/jnati/jnati.instance.default-properties\n",
      "15   [main] INFO  net.sf.jnati.deploy.repository.ClasspathRepository  - Searching classpath for: jniinchi-1.03_1-MAC-X86_64\n",
      "16   [main] INFO  net.sf.jnati.deploy.repository.LocalRepository  - Searching local repository for: jniinchi-1.03_1-MAC-X86_64\n",
      "16   [main] DEBUG net.sf.jnati.deploy.repository.LocalRepository  - Artefact path: /Users/krv114/.jnati/repo/jniinchi/1.03_1/MAC-X86_64\n",
      "17   [main] INFO  net.sf.jnati.deploy.artefact.ManifestReader  - Reading manifest\n",
      "50   [main] INFO  net.sf.jnati.deploy.NativeArtefactLocator  - Artefact (jniinchi-1.03_1-MAC-X86_64) location: /Users/krv114/.jnati/repo/jniinchi/1.03_1/MAC-X86_64\n",
      "50   [main] DEBUG net.sf.jnati.deploy.NativeLibraryLoader  - Loading library: /Users/krv114/.jnati/repo/jniinchi/1.03_1/MAC-X86_64/JniInchi-1.03_1-MAC-X86_64\n"
     ]
    },
    {
     "name": "stderr",
     "output_type": "stream",
     "text": [
      "uk.ac.ebi.reactionblast.mechanism.ReactionMechanismTool WARN: Unmapped atoms present in this reaction(MAX) algorithm.\n",
      "uk.ac.ebi.reactionblast.mechanism.ReactionMechanismTool WARN: Unmapped atoms present in this reaction(MIXTURE) algorithm.\n"
     ]
    },
    {
     "name": "stdout",
     "output_type": "stream",
     "text": [
      "Mapped RXN File /Users/krv114/Documents/GitHub/incawrapper/docs/examples/Literature data/wasylenko/mappedRxns/ECBLAST_71_AAM.rxn\n"
     ]
    },
    {
     "name": "stderr",
     "output_type": "stream",
     "text": [
      "Warning: the fonts \"Times\" and \"Times\" are not available for the Java logical font \"Serif\", which may have unexpected appearance or behavior. Re-enable the \"Times\" font to remove this warning.\n"
     ]
    },
    {
     "name": "stdout",
     "output_type": "stream",
     "text": [
      "Annotated RXN Image /Users/krv114/Documents/GitHub/incawrapper/docs/examples/Literature data/wasylenko/mappedRxns/ECBLAST_71_AAM.png\n",
      "Output is presented in text format: /Users/krv114/Documents/GitHub/incawrapper/docs/examples/Literature data/wasylenko/mappedRxns/ECBLAST_71_AAM.txt\n",
      "!--------------------------------------------------------\n",
      "Reaction Decoder Tool (RDT)\n",
      "\n",
      "Author: Syed Asad Rahman\n",
      "e-mail: asad@ebi.ac.uk|s9asad@gmail.com\n",
      "c/o EMBL-European BioInformatics Institute (EBI)\n",
      "WTGC, CB10 1SD Hinxton\n",
      "UK\n",
      "\n",
      "Note: The copyright of this software belongs to the author\n",
      "and EMBL-European BioInformatics Institute (EBI).\n",
      "\n",
      "Reference\n",
      "Rahman, S.A. et.al.(2016) Reaction Decoder Tool (RDT):\n",
      "Extracting Features from Chemical Reactions, Bioinformatics (2016)\n",
      "doi: 10.1093/bioinformatics/btw096\n",
      "!--------------------------------------------------------\n",
      "\n",
      "-- AAM --\n"
     ]
    },
    {
     "name": "stderr",
     "output_type": "stream",
     "text": [
      "uk.ac.ebi.reactionblast.mechanism.ReactionMechanismTool WARN: Number of atom(s) on the Left side 63 =/= Number of atom(s) on the Right side 44\n",
      "uk.ac.ebi.reactionblast.mechanism.ReactionMechanismTool WARN: {C=23, N=3, O=33, P=4} =/= {C=23, N=3, O=17, P=1}\n",
      "uk.ac.ebi.reactionblast.mechanism.ReactionMechanismTool WARN: Unmapped atoms present in this reaction(MIN) algorithm.\n"
     ]
    },
    {
     "name": "stdout",
     "output_type": "stream",
     "text": [
      "0    [main] INFO  net.sf.jnati.deploy.artefact.ConfigManager  - Loading global configuration\n",
      "8    [main] DEBUG net.sf.jnati.deploy.artefact.ConfigManager  - Loading defaults: jar:file:/Users/krv114/Documents/GitHub/incawrapper/docs/examples/Literature%20data/wasylenko/RDT.jar!/META-INF/jnati/jnati.default-properties\n",
      "9    [main] INFO  net.sf.jnati.deploy.artefact.ConfigManager  - Loading artefact configuration: jniinchi-1.03_1\n",
      "12   [main] DEBUG net.sf.jnati.deploy.artefact.ConfigManager  - Loading instance defaults: jar:file:/Users/krv114/Documents/GitHub/incawrapper/docs/examples/Literature%20data/wasylenko/RDT.jar!/META-INF/jnati/jnati.instance.default-properties\n",
      "14   [main] INFO  net.sf.jnati.deploy.repository.ClasspathRepository  - Searching classpath for: jniinchi-1.03_1-MAC-X86_64\n",
      "15   [main] INFO  net.sf.jnati.deploy.repository.LocalRepository  - Searching local repository for: jniinchi-1.03_1-MAC-X86_64\n",
      "15   [main] DEBUG net.sf.jnati.deploy.repository.LocalRepository  - Artefact path: /Users/krv114/.jnati/repo/jniinchi/1.03_1/MAC-X86_64\n",
      "16   [main] INFO  net.sf.jnati.deploy.artefact.ManifestReader  - Reading manifest\n",
      "46   [main] INFO  net.sf.jnati.deploy.NativeArtefactLocator  - Artefact (jniinchi-1.03_1-MAC-X86_64) location: /Users/krv114/.jnati/repo/jniinchi/1.03_1/MAC-X86_64\n",
      "46   [main] DEBUG net.sf.jnati.deploy.NativeLibraryLoader  - Loading library: /Users/krv114/.jnati/repo/jniinchi/1.03_1/MAC-X86_64/JniInchi-1.03_1-MAC-X86_64\n"
     ]
    },
    {
     "name": "stderr",
     "output_type": "stream",
     "text": [
      "uk.ac.ebi.reactionblast.mechanism.ReactionMechanismTool WARN: Unmapped atoms present in this reaction(MAX) algorithm.\n",
      "uk.ac.ebi.reactionblast.mechanism.ReactionMechanismTool WARN: Unmapped atoms present in this reaction(MIXTURE) algorithm.\n"
     ]
    },
    {
     "name": "stdout",
     "output_type": "stream",
     "text": [
      "Mapped RXN File /Users/krv114/Documents/GitHub/incawrapper/docs/examples/Literature data/wasylenko/mappedRxns/ECBLAST_64_AAM.rxn\n"
     ]
    },
    {
     "name": "stderr",
     "output_type": "stream",
     "text": [
      "Warning: the fonts \"Times\" and \"Times\" are not available for the Java logical font \"Serif\", which may have unexpected appearance or behavior. Re-enable the \"Times\" font to remove this warning.\n"
     ]
    },
    {
     "name": "stdout",
     "output_type": "stream",
     "text": [
      "Annotated RXN Image /Users/krv114/Documents/GitHub/incawrapper/docs/examples/Literature data/wasylenko/mappedRxns/ECBLAST_64_AAM.png\n",
      "Output is presented in text format: /Users/krv114/Documents/GitHub/incawrapper/docs/examples/Literature data/wasylenko/mappedRxns/ECBLAST_64_AAM.txt\n",
      "!--------------------------------------------------------\n",
      "Reaction Decoder Tool (RDT)\n",
      "\n",
      "Author: Syed Asad Rahman\n",
      "e-mail: asad@ebi.ac.uk|s9asad@gmail.com\n",
      "c/o EMBL-European BioInformatics Institute (EBI)\n",
      "WTGC, CB10 1SD Hinxton\n",
      "UK\n",
      "\n",
      "Note: The copyright of this software belongs to the author\n",
      "and EMBL-European BioInformatics Institute (EBI).\n",
      "\n",
      "Reference\n",
      "Rahman, S.A. et.al.(2016) Reaction Decoder Tool (RDT):\n",
      "Extracting Features from Chemical Reactions, Bioinformatics (2016)\n",
      "doi: 10.1093/bioinformatics/btw096\n",
      "!--------------------------------------------------------\n",
      "\n",
      "-- AAM --\n"
     ]
    },
    {
     "name": "stderr",
     "output_type": "stream",
     "text": [
      "uk.ac.ebi.reactionblast.mechanism.ReactionMechanismTool WARN: Number of atom(s) on the Left side 33 =/= Number of atom(s) on the Right side 34\n",
      "uk.ac.ebi.reactionblast.mechanism.ReactionMechanismTool WARN: {C=15, N=6, O=11, P=1} =/= {C=15, N=6, O=12, P=1}\n",
      "uk.ac.ebi.reactionblast.mechanism.ReactionMechanismTool WARN: Unmapped atoms present in this reaction(MIN) algorithm.\n"
     ]
    },
    {
     "name": "stdout",
     "output_type": "stream",
     "text": [
      "0    [main] INFO  net.sf.jnati.deploy.artefact.ConfigManager  - Loading global configuration\n",
      "11   [main] DEBUG net.sf.jnati.deploy.artefact.ConfigManager  - Loading defaults: jar:file:/Users/krv114/Documents/GitHub/incawrapper/docs/examples/Literature%20data/wasylenko/RDT.jar!/META-INF/jnati/jnati.default-properties\n",
      "12   [main] INFO  net.sf.jnati.deploy.artefact.ConfigManager  - Loading artefact configuration: jniinchi-1.03_1\n",
      "14   [main] DEBUG net.sf.jnati.deploy.artefact.ConfigManager  - Loading instance defaults: jar:file:/Users/krv114/Documents/GitHub/incawrapper/docs/examples/Literature%20data/wasylenko/RDT.jar!/META-INF/jnati/jnati.instance.default-properties\n",
      "16   [main] INFO  net.sf.jnati.deploy.repository.ClasspathRepository  - Searching classpath for: jniinchi-1.03_1-MAC-X86_64\n",
      "17   [main] INFO  net.sf.jnati.deploy.repository.LocalRepository  - Searching local repository for: jniinchi-1.03_1-MAC-X86_64\n",
      "17   [main] DEBUG net.sf.jnati.deploy.repository.LocalRepository  - Artefact path: /Users/krv114/.jnati/repo/jniinchi/1.03_1/MAC-X86_64\n",
      "18   [main] INFO  net.sf.jnati.deploy.artefact.ManifestReader  - Reading manifest\n",
      "46   [main] INFO  net.sf.jnati.deploy.NativeArtefactLocator  - Artefact (jniinchi-1.03_1-MAC-X86_64) location: /Users/krv114/.jnati/repo/jniinchi/1.03_1/MAC-X86_64\n",
      "46   [main] DEBUG net.sf.jnati.deploy.NativeLibraryLoader  - Loading library: /Users/krv114/.jnati/repo/jniinchi/1.03_1/MAC-X86_64/JniInchi-1.03_1-MAC-X86_64\n"
     ]
    },
    {
     "name": "stderr",
     "output_type": "stream",
     "text": [
      "uk.ac.ebi.reactionblast.mechanism.ReactionMechanismTool WARN: Unmapped atoms present in this reaction(MAX) algorithm.\n",
      "uk.ac.ebi.reactionblast.mechanism.ReactionMechanismTool WARN: Unmapped atoms present in this reaction(MIXTURE) algorithm.\n"
     ]
    },
    {
     "name": "stdout",
     "output_type": "stream",
     "text": [
      "Mapped RXN File /Users/krv114/Documents/GitHub/incawrapper/docs/examples/Literature data/wasylenko/mappedRxns/ECBLAST_70_AAM.rxn\n"
     ]
    },
    {
     "name": "stderr",
     "output_type": "stream",
     "text": [
      "Warning: the fonts \"Times\" and \"Times\" are not available for the Java logical font \"Serif\", which may have unexpected appearance or behavior. Re-enable the \"Times\" font to remove this warning.\n"
     ]
    },
    {
     "name": "stdout",
     "output_type": "stream",
     "text": [
      "Annotated RXN Image /Users/krv114/Documents/GitHub/incawrapper/docs/examples/Literature data/wasylenko/mappedRxns/ECBLAST_70_AAM.png\n",
      "Output is presented in text format: /Users/krv114/Documents/GitHub/incawrapper/docs/examples/Literature data/wasylenko/mappedRxns/ECBLAST_70_AAM.txt\n",
      "!--------------------------------------------------------\n",
      "Reaction Decoder Tool (RDT)\n",
      "\n",
      "Author: Syed Asad Rahman\n",
      "e-mail: asad@ebi.ac.uk|s9asad@gmail.com\n",
      "c/o EMBL-European BioInformatics Institute (EBI)\n",
      "WTGC, CB10 1SD Hinxton\n",
      "UK\n",
      "\n",
      "Note: The copyright of this software belongs to the author\n",
      "and EMBL-European BioInformatics Institute (EBI).\n",
      "\n",
      "Reference\n",
      "Rahman, S.A. et.al.(2016) Reaction Decoder Tool (RDT):\n",
      "Extracting Features from Chemical Reactions, Bioinformatics (2016)\n",
      "doi: 10.1093/bioinformatics/btw096\n",
      "!--------------------------------------------------------\n",
      "\n",
      "-- AAM --\n"
     ]
    },
    {
     "name": "stderr",
     "output_type": "stream",
     "text": [
      "uk.ac.ebi.reactionblast.mechanism.ReactionMechanismTool WARN: Number of atom(s) on the Left side 81 =/= Number of atom(s) on the Right side 33\n",
      "uk.ac.ebi.reactionblast.mechanism.ReactionMechanismTool WARN: {C=38, N=9, O=30, P=3, S=1} =/= {C=17, N=2, O=14}\n",
      "uk.ac.ebi.reactionblast.mechanism.ReactionMechanismTool WARN: Unmapped atoms present in this reaction(MIN) algorithm.\n"
     ]
    },
    {
     "name": "stdout",
     "output_type": "stream",
     "text": [
      "0    [main] INFO  net.sf.jnati.deploy.artefact.ConfigManager  - Loading global configuration\n",
      "10   [main] DEBUG net.sf.jnati.deploy.artefact.ConfigManager  - Loading defaults: jar:file:/Users/krv114/Documents/GitHub/incawrapper/docs/examples/Literature%20data/wasylenko/RDT.jar!/META-INF/jnati/jnati.default-properties\n",
      "11   [main] INFO  net.sf.jnati.deploy.artefact.ConfigManager  - Loading artefact configuration: jniinchi-1.03_1\n",
      "12   [main] DEBUG net.sf.jnati.deploy.artefact.ConfigManager  - Loading instance defaults: jar:file:/Users/krv114/Documents/GitHub/incawrapper/docs/examples/Literature%20data/wasylenko/RDT.jar!/META-INF/jnati/jnati.instance.default-properties\n",
      "14   [main] INFO  net.sf.jnati.deploy.repository.ClasspathRepository  - Searching classpath for: jniinchi-1.03_1-MAC-X86_64\n",
      "15   [main] INFO  net.sf.jnati.deploy.repository.LocalRepository  - Searching local repository for: jniinchi-1.03_1-MAC-X86_64\n",
      "15   [main] DEBUG net.sf.jnati.deploy.repository.LocalRepository  - Artefact path: /Users/krv114/.jnati/repo/jniinchi/1.03_1/MAC-X86_64\n",
      "16   [main] INFO  net.sf.jnati.deploy.artefact.ManifestReader  - Reading manifest\n",
      "47   [main] INFO  net.sf.jnati.deploy.NativeArtefactLocator  - Artefact (jniinchi-1.03_1-MAC-X86_64) location: /Users/krv114/.jnati/repo/jniinchi/1.03_1/MAC-X86_64\n",
      "47   [main] DEBUG net.sf.jnati.deploy.NativeLibraryLoader  - Loading library: /Users/krv114/.jnati/repo/jniinchi/1.03_1/MAC-X86_64/JniInchi-1.03_1-MAC-X86_64\n"
     ]
    },
    {
     "name": "stderr",
     "output_type": "stream",
     "text": [
      "uk.ac.ebi.reactionblast.mechanism.ReactionMechanismTool WARN: Unmapped atoms present in this reaction(MAX) algorithm.\n",
      "uk.ac.ebi.reactionblast.mechanism.ReactionMechanismTool WARN: Unmapped atoms present in this reaction(MIXTURE) algorithm.\n"
     ]
    },
    {
     "name": "stdout",
     "output_type": "stream",
     "text": [
      "Mapped RXN File /Users/krv114/Documents/GitHub/incawrapper/docs/examples/Literature data/wasylenko/mappedRxns/ECBLAST_58_AAM.rxn\n"
     ]
    },
    {
     "name": "stderr",
     "output_type": "stream",
     "text": [
      "Warning: the fonts \"Times\" and \"Times\" are not available for the Java logical font \"Serif\", which may have unexpected appearance or behavior. Re-enable the \"Times\" font to remove this warning.\n"
     ]
    },
    {
     "name": "stdout",
     "output_type": "stream",
     "text": [
      "Annotated RXN Image /Users/krv114/Documents/GitHub/incawrapper/docs/examples/Literature data/wasylenko/mappedRxns/ECBLAST_58_AAM.png\n",
      "Output is presented in text format: /Users/krv114/Documents/GitHub/incawrapper/docs/examples/Literature data/wasylenko/mappedRxns/ECBLAST_58_AAM.txt\n",
      "!--------------------------------------------------------\n",
      "Reaction Decoder Tool (RDT)\n",
      "\n",
      "Author: Syed Asad Rahman\n",
      "e-mail: asad@ebi.ac.uk|s9asad@gmail.com\n",
      "c/o EMBL-European BioInformatics Institute (EBI)\n",
      "WTGC, CB10 1SD Hinxton\n",
      "UK\n",
      "\n",
      "Note: The copyright of this software belongs to the author\n",
      "and EMBL-European BioInformatics Institute (EBI).\n",
      "\n",
      "Reference\n",
      "Rahman, S.A. et.al.(2016) Reaction Decoder Tool (RDT):\n",
      "Extracting Features from Chemical Reactions, Bioinformatics (2016)\n",
      "doi: 10.1093/bioinformatics/btw096\n",
      "!--------------------------------------------------------\n",
      "\n",
      "-- AAM --\n",
      "Mapped RXN File /Users/krv114/Documents/GitHub/incawrapper/docs/examples/Literature data/wasylenko/mappedRxns/ECBLAST_8_AAM.rxn\n"
     ]
    },
    {
     "name": "stderr",
     "output_type": "stream",
     "text": [
      "Warning: the fonts \"Times\" and \"Times\" are not available for the Java logical font \"Serif\", which may have unexpected appearance or behavior. Re-enable the \"Times\" font to remove this warning.\n"
     ]
    },
    {
     "name": "stdout",
     "output_type": "stream",
     "text": [
      "Annotated RXN Image /Users/krv114/Documents/GitHub/incawrapper/docs/examples/Literature data/wasylenko/mappedRxns/ECBLAST_8_AAM.png\n",
      "Output is presented in text format: /Users/krv114/Documents/GitHub/incawrapper/docs/examples/Literature data/wasylenko/mappedRxns/ECBLAST_8_AAM.txt\n",
      "!--------------------------------------------------------\n",
      "Reaction Decoder Tool (RDT)\n",
      "\n",
      "Author: Syed Asad Rahman\n",
      "e-mail: asad@ebi.ac.uk|s9asad@gmail.com\n",
      "c/o EMBL-European BioInformatics Institute (EBI)\n",
      "WTGC, CB10 1SD Hinxton\n",
      "UK\n",
      "\n",
      "Note: The copyright of this software belongs to the author\n",
      "and EMBL-European BioInformatics Institute (EBI).\n",
      "\n",
      "Reference\n",
      "Rahman, S.A. et.al.(2016) Reaction Decoder Tool (RDT):\n",
      "Extracting Features from Chemical Reactions, Bioinformatics (2016)\n",
      "doi: 10.1093/bioinformatics/btw096\n",
      "!--------------------------------------------------------\n",
      "\n",
      "-- AAM --\n"
     ]
    },
    {
     "name": "stderr",
     "output_type": "stream",
     "text": [
      "uk.ac.ebi.reactionblast.mechanism.ReactionMechanismTool WARN: Number of atom(s) on the Left side 36 =/= Number of atom(s) on the Right side 34\n",
      "uk.ac.ebi.reactionblast.mechanism.ReactionMechanismTool WARN: {C=15, N=3, O=17, P=1} =/= {C=15, N=3, O=15, P=1}\n",
      "uk.ac.ebi.reactionblast.mechanism.ReactionMechanismTool WARN: Unmapped atoms present in this reaction(MIN) algorithm.\n"
     ]
    },
    {
     "name": "stdout",
     "output_type": "stream",
     "text": [
      "0    [main] INFO  net.sf.jnati.deploy.artefact.ConfigManager  - Loading global configuration\n",
      "10   [main] DEBUG net.sf.jnati.deploy.artefact.ConfigManager  - Loading defaults: jar:file:/Users/krv114/Documents/GitHub/incawrapper/docs/examples/Literature%20data/wasylenko/RDT.jar!/META-INF/jnati/jnati.default-properties\n",
      "11   [main] INFO  net.sf.jnati.deploy.artefact.ConfigManager  - Loading artefact configuration: jniinchi-1.03_1\n",
      "15   [main] DEBUG net.sf.jnati.deploy.artefact.ConfigManager  - Loading instance defaults: jar:file:/Users/krv114/Documents/GitHub/incawrapper/docs/examples/Literature%20data/wasylenko/RDT.jar!/META-INF/jnati/jnati.instance.default-properties\n",
      "18   [main] INFO  net.sf.jnati.deploy.repository.ClasspathRepository  - Searching classpath for: jniinchi-1.03_1-MAC-X86_64\n",
      "19   [main] INFO  net.sf.jnati.deploy.repository.LocalRepository  - Searching local repository for: jniinchi-1.03_1-MAC-X86_64\n",
      "19   [main] DEBUG net.sf.jnati.deploy.repository.LocalRepository  - Artefact path: /Users/krv114/.jnati/repo/jniinchi/1.03_1/MAC-X86_64\n",
      "19   [main] INFO  net.sf.jnati.deploy.artefact.ManifestReader  - Reading manifest\n",
      "48   [main] INFO  net.sf.jnati.deploy.NativeArtefactLocator  - Artefact (jniinchi-1.03_1-MAC-X86_64) location: /Users/krv114/.jnati/repo/jniinchi/1.03_1/MAC-X86_64\n",
      "48   [main] DEBUG net.sf.jnati.deploy.NativeLibraryLoader  - Loading library: /Users/krv114/.jnati/repo/jniinchi/1.03_1/MAC-X86_64/JniInchi-1.03_1-MAC-X86_64\n"
     ]
    },
    {
     "name": "stderr",
     "output_type": "stream",
     "text": [
      "uk.ac.ebi.reactionblast.mechanism.ReactionMechanismTool WARN: Unmapped atoms present in this reaction(MAX) algorithm.\n",
      "uk.ac.ebi.reactionblast.mechanism.ReactionMechanismTool WARN: Unmapped atoms present in this reaction(MIXTURE) algorithm.\n"
     ]
    },
    {
     "name": "stdout",
     "output_type": "stream",
     "text": [
      "Mapped RXN File /Users/krv114/Documents/GitHub/incawrapper/docs/examples/Literature data/wasylenko/mappedRxns/ECBLAST_66_AAM.rxn\n"
     ]
    },
    {
     "name": "stderr",
     "output_type": "stream",
     "text": [
      "Warning: the fonts \"Times\" and \"Times\" are not available for the Java logical font \"Serif\", which may have unexpected appearance or behavior. Re-enable the \"Times\" font to remove this warning.\n"
     ]
    },
    {
     "name": "stdout",
     "output_type": "stream",
     "text": [
      "Annotated RXN Image /Users/krv114/Documents/GitHub/incawrapper/docs/examples/Literature data/wasylenko/mappedRxns/ECBLAST_66_AAM.png\n",
      "Output is presented in text format: /Users/krv114/Documents/GitHub/incawrapper/docs/examples/Literature data/wasylenko/mappedRxns/ECBLAST_66_AAM.txt\n",
      "!--------------------------------------------------------\n",
      "Reaction Decoder Tool (RDT)\n",
      "\n",
      "Author: Syed Asad Rahman\n",
      "e-mail: asad@ebi.ac.uk|s9asad@gmail.com\n",
      "c/o EMBL-European BioInformatics Institute (EBI)\n",
      "WTGC, CB10 1SD Hinxton\n",
      "UK\n",
      "\n",
      "Note: The copyright of this software belongs to the author\n",
      "and EMBL-European BioInformatics Institute (EBI).\n",
      "\n",
      "Reference\n",
      "Rahman, S.A. et.al.(2016) Reaction Decoder Tool (RDT):\n",
      "Extracting Features from Chemical Reactions, Bioinformatics (2016)\n",
      "doi: 10.1093/bioinformatics/btw096\n",
      "!--------------------------------------------------------\n",
      "\n",
      "-- AAM --\n"
     ]
    },
    {
     "name": "stderr",
     "output_type": "stream",
     "text": [
      "uk.ac.ebi.reactionblast.mechanism.ReactionMechanismTool WARN: Number of atom(s) on the Left side 21 =/= Number of atom(s) on the Right side 20\n",
      "uk.ac.ebi.reactionblast.mechanism.ReactionMechanismTool WARN: {C=9, N=3, O=8, P=1} =/= {C=9, N=3, O=7, P=1}\n",
      "uk.ac.ebi.reactionblast.mechanism.ReactionMechanismTool WARN: Unmapped atoms present in this reaction(MIN) algorithm.\n"
     ]
    },
    {
     "name": "stdout",
     "output_type": "stream",
     "text": [
      "0    [main] INFO  net.sf.jnati.deploy.artefact.ConfigManager  - Loading global configuration\n",
      "10   [main] DEBUG net.sf.jnati.deploy.artefact.ConfigManager  - Loading defaults: jar:file:/Users/krv114/Documents/GitHub/incawrapper/docs/examples/Literature%20data/wasylenko/RDT.jar!/META-INF/jnati/jnati.default-properties\n",
      "11   [main] INFO  net.sf.jnati.deploy.artefact.ConfigManager  - Loading artefact configuration: jniinchi-1.03_1\n",
      "14   [main] DEBUG net.sf.jnati.deploy.artefact.ConfigManager  - Loading instance defaults: jar:file:/Users/krv114/Documents/GitHub/incawrapper/docs/examples/Literature%20data/wasylenko/RDT.jar!/META-INF/jnati/jnati.instance.default-properties\n",
      "15   [main] INFO  net.sf.jnati.deploy.repository.ClasspathRepository  - Searching classpath for: jniinchi-1.03_1-MAC-X86_64\n",
      "17   [main] INFO  net.sf.jnati.deploy.repository.LocalRepository  - Searching local repository for: jniinchi-1.03_1-MAC-X86_64\n",
      "17   [main] DEBUG net.sf.jnati.deploy.repository.LocalRepository  - Artefact path: /Users/krv114/.jnati/repo/jniinchi/1.03_1/MAC-X86_64\n",
      "17   [main] INFO  net.sf.jnati.deploy.artefact.ManifestReader  - Reading manifest\n",
      "46   [main] INFO  net.sf.jnati.deploy.NativeArtefactLocator  - Artefact (jniinchi-1.03_1-MAC-X86_64) location: /Users/krv114/.jnati/repo/jniinchi/1.03_1/MAC-X86_64\n",
      "46   [main] DEBUG net.sf.jnati.deploy.NativeLibraryLoader  - Loading library: /Users/krv114/.jnati/repo/jniinchi/1.03_1/MAC-X86_64/JniInchi-1.03_1-MAC-X86_64\n"
     ]
    },
    {
     "name": "stderr",
     "output_type": "stream",
     "text": [
      "uk.ac.ebi.reactionblast.mechanism.ReactionMechanismTool WARN: Unmapped atoms present in this reaction(MAX) algorithm.\n",
      "uk.ac.ebi.reactionblast.mechanism.ReactionMechanismTool WARN: Unmapped atoms present in this reaction(MIXTURE) algorithm.\n"
     ]
    },
    {
     "name": "stdout",
     "output_type": "stream",
     "text": [
      "Mapped RXN File /Users/krv114/Documents/GitHub/incawrapper/docs/examples/Literature data/wasylenko/mappedRxns/ECBLAST_72_AAM.rxn\n"
     ]
    },
    {
     "name": "stderr",
     "output_type": "stream",
     "text": [
      "Warning: the fonts \"Times\" and \"Times\" are not available for the Java logical font \"Serif\", which may have unexpected appearance or behavior. Re-enable the \"Times\" font to remove this warning.\n"
     ]
    },
    {
     "name": "stdout",
     "output_type": "stream",
     "text": [
      "Annotated RXN Image /Users/krv114/Documents/GitHub/incawrapper/docs/examples/Literature data/wasylenko/mappedRxns/ECBLAST_72_AAM.png\n",
      "Output is presented in text format: /Users/krv114/Documents/GitHub/incawrapper/docs/examples/Literature data/wasylenko/mappedRxns/ECBLAST_72_AAM.txt\n",
      "!--------------------------------------------------------\n",
      "Reaction Decoder Tool (RDT)\n",
      "\n",
      "Author: Syed Asad Rahman\n",
      "e-mail: asad@ebi.ac.uk|s9asad@gmail.com\n",
      "c/o EMBL-European BioInformatics Institute (EBI)\n",
      "WTGC, CB10 1SD Hinxton\n",
      "UK\n",
      "\n",
      "Note: The copyright of this software belongs to the author\n",
      "and EMBL-European BioInformatics Institute (EBI).\n",
      "\n",
      "Reference\n",
      "Rahman, S.A. et.al.(2016) Reaction Decoder Tool (RDT):\n",
      "Extracting Features from Chemical Reactions, Bioinformatics (2016)\n",
      "doi: 10.1093/bioinformatics/btw096\n",
      "!--------------------------------------------------------\n",
      "\n",
      "-- AAM --\n"
     ]
    },
    {
     "name": "stderr",
     "output_type": "stream",
     "text": [
      "uk.ac.ebi.reactionblast.mechanism.ReactionMechanismTool WARN: Number of atom(s) on the Left side 24 =/= Number of atom(s) on the Right side 23\n",
      "uk.ac.ebi.reactionblast.mechanism.ReactionMechanismTool WARN: {C=10, N=5, O=8, P=1} =/= {C=10, N=5, O=7, P=1}\n",
      "uk.ac.ebi.reactionblast.mechanism.ReactionMechanismTool WARN: Unmapped atoms present in this reaction(MIN) algorithm.\n"
     ]
    },
    {
     "name": "stdout",
     "output_type": "stream",
     "text": [
      "0    [main] INFO  net.sf.jnati.deploy.artefact.ConfigManager  - Loading global configuration\n",
      "9    [main] DEBUG net.sf.jnati.deploy.artefact.ConfigManager  - Loading defaults: jar:file:/Users/krv114/Documents/GitHub/incawrapper/docs/examples/Literature%20data/wasylenko/RDT.jar!/META-INF/jnati/jnati.default-properties\n",
      "11   [main] INFO  net.sf.jnati.deploy.artefact.ConfigManager  - Loading artefact configuration: jniinchi-1.03_1\n",
      "14   [main] DEBUG net.sf.jnati.deploy.artefact.ConfigManager  - Loading instance defaults: jar:file:/Users/krv114/Documents/GitHub/incawrapper/docs/examples/Literature%20data/wasylenko/RDT.jar!/META-INF/jnati/jnati.instance.default-properties\n",
      "15   [main] INFO  net.sf.jnati.deploy.repository.ClasspathRepository  - Searching classpath for: jniinchi-1.03_1-MAC-X86_64\n",
      "17   [main] INFO  net.sf.jnati.deploy.repository.LocalRepository  - Searching local repository for: jniinchi-1.03_1-MAC-X86_64\n",
      "17   [main] DEBUG net.sf.jnati.deploy.repository.LocalRepository  - Artefact path: /Users/krv114/.jnati/repo/jniinchi/1.03_1/MAC-X86_64\n",
      "17   [main] INFO  net.sf.jnati.deploy.artefact.ManifestReader  - Reading manifest\n",
      "47   [main] INFO  net.sf.jnati.deploy.NativeArtefactLocator  - Artefact (jniinchi-1.03_1-MAC-X86_64) location: /Users/krv114/.jnati/repo/jniinchi/1.03_1/MAC-X86_64\n",
      "47   [main] DEBUG net.sf.jnati.deploy.NativeLibraryLoader  - Loading library: /Users/krv114/.jnati/repo/jniinchi/1.03_1/MAC-X86_64/JniInchi-1.03_1-MAC-X86_64\n"
     ]
    },
    {
     "name": "stderr",
     "output_type": "stream",
     "text": [
      "uk.ac.ebi.reactionblast.mechanism.ReactionMechanismTool WARN: Unmapped atoms present in this reaction(MAX) algorithm.\n",
      "uk.ac.ebi.reactionblast.mechanism.ReactionMechanismTool WARN: Unmapped atoms present in this reaction(MIXTURE) algorithm.\n"
     ]
    },
    {
     "name": "stdout",
     "output_type": "stream",
     "text": [
      "Mapped RXN File /Users/krv114/Documents/GitHub/incawrapper/docs/examples/Literature data/wasylenko/mappedRxns/ECBLAST_73_AAM.rxn\n"
     ]
    },
    {
     "name": "stderr",
     "output_type": "stream",
     "text": [
      "Warning: the fonts \"Times\" and \"Times\" are not available for the Java logical font \"Serif\", which may have unexpected appearance or behavior. Re-enable the \"Times\" font to remove this warning.\n"
     ]
    },
    {
     "name": "stdout",
     "output_type": "stream",
     "text": [
      "Annotated RXN Image /Users/krv114/Documents/GitHub/incawrapper/docs/examples/Literature data/wasylenko/mappedRxns/ECBLAST_73_AAM.png\n",
      "Output is presented in text format: /Users/krv114/Documents/GitHub/incawrapper/docs/examples/Literature data/wasylenko/mappedRxns/ECBLAST_73_AAM.txt\n",
      "!--------------------------------------------------------\n",
      "Reaction Decoder Tool (RDT)\n",
      "\n",
      "Author: Syed Asad Rahman\n",
      "e-mail: asad@ebi.ac.uk|s9asad@gmail.com\n",
      "c/o EMBL-European BioInformatics Institute (EBI)\n",
      "WTGC, CB10 1SD Hinxton\n",
      "UK\n",
      "\n",
      "Note: The copyright of this software belongs to the author\n",
      "and EMBL-European BioInformatics Institute (EBI).\n",
      "\n",
      "Reference\n",
      "Rahman, S.A. et.al.(2016) Reaction Decoder Tool (RDT):\n",
      "Extracting Features from Chemical Reactions, Bioinformatics (2016)\n",
      "doi: 10.1093/bioinformatics/btw096\n",
      "!--------------------------------------------------------\n",
      "\n",
      "-- AAM --\n",
      "0    [main] INFO  net.sf.jnati.deploy.artefact.ConfigManager  - Loading global configuration\n",
      "9    [main] DEBUG net.sf.jnati.deploy.artefact.ConfigManager  - Loading defaults: jar:file:/Users/krv114/Documents/GitHub/incawrapper/docs/examples/Literature%20data/wasylenko/RDT.jar!/META-INF/jnati/jnati.default-properties\n",
      "10   [main] INFO  net.sf.jnati.deploy.artefact.ConfigManager  - Loading artefact configuration: jniinchi-1.03_1\n",
      "14   [main] DEBUG net.sf.jnati.deploy.artefact.ConfigManager  - Loading instance defaults: jar:file:/Users/krv114/Documents/GitHub/incawrapper/docs/examples/Literature%20data/wasylenko/RDT.jar!/META-INF/jnati/jnati.instance.default-properties\n",
      "16   [main] INFO  net.sf.jnati.deploy.repository.ClasspathRepository  - Searching classpath for: jniinchi-1.03_1-MAC-X86_64\n",
      "17   [main] INFO  net.sf.jnati.deploy.repository.LocalRepository  - Searching local repository for: jniinchi-1.03_1-MAC-X86_64\n",
      "17   [main] DEBUG net.sf.jnati.deploy.repository.LocalRepository  - Artefact path: /Users/krv114/.jnati/repo/jniinchi/1.03_1/MAC-X86_64\n",
      "17   [main] INFO  net.sf.jnati.deploy.artefact.ManifestReader  - Reading manifest\n",
      "47   [main] INFO  net.sf.jnati.deploy.NativeArtefactLocator  - Artefact (jniinchi-1.03_1-MAC-X86_64) location: /Users/krv114/.jnati/repo/jniinchi/1.03_1/MAC-X86_64\n",
      "48   [main] DEBUG net.sf.jnati.deploy.NativeLibraryLoader  - Loading library: /Users/krv114/.jnati/repo/jniinchi/1.03_1/MAC-X86_64/JniInchi-1.03_1-MAC-X86_64\n",
      "Mapped RXN File /Users/krv114/Documents/GitHub/incawrapper/docs/examples/Literature data/wasylenko/mappedRxns/ECBLAST_67_AAM.rxn\n"
     ]
    },
    {
     "name": "stderr",
     "output_type": "stream",
     "text": [
      "Warning: the fonts \"Times\" and \"Times\" are not available for the Java logical font \"Serif\", which may have unexpected appearance or behavior. Re-enable the \"Times\" font to remove this warning.\n"
     ]
    },
    {
     "name": "stdout",
     "output_type": "stream",
     "text": [
      "Annotated RXN Image /Users/krv114/Documents/GitHub/incawrapper/docs/examples/Literature data/wasylenko/mappedRxns/ECBLAST_67_AAM.png\n",
      "Output is presented in text format: /Users/krv114/Documents/GitHub/incawrapper/docs/examples/Literature data/wasylenko/mappedRxns/ECBLAST_67_AAM.txt\n",
      "!--------------------------------------------------------\n",
      "Reaction Decoder Tool (RDT)\n",
      "\n",
      "Author: Syed Asad Rahman\n",
      "e-mail: asad@ebi.ac.uk|s9asad@gmail.com\n",
      "c/o EMBL-European BioInformatics Institute (EBI)\n",
      "WTGC, CB10 1SD Hinxton\n",
      "UK\n",
      "\n",
      "Note: The copyright of this software belongs to the author\n",
      "and EMBL-European BioInformatics Institute (EBI).\n",
      "\n",
      "Reference\n",
      "Rahman, S.A. et.al.(2016) Reaction Decoder Tool (RDT):\n",
      "Extracting Features from Chemical Reactions, Bioinformatics (2016)\n",
      "doi: 10.1093/bioinformatics/btw096\n",
      "!--------------------------------------------------------\n",
      "\n",
      "-- AAM --\n",
      "0    [main] INFO  net.sf.jnati.deploy.artefact.ConfigManager  - Loading global configuration\n",
      "7    [main] DEBUG net.sf.jnati.deploy.artefact.ConfigManager  - Loading defaults: jar:file:/Users/krv114/Documents/GitHub/incawrapper/docs/examples/Literature%20data/wasylenko/RDT.jar!/META-INF/jnati/jnati.default-properties\n",
      "8    [main] INFO  net.sf.jnati.deploy.artefact.ConfigManager  - Loading artefact configuration: jniinchi-1.03_1\n",
      "11   [main] DEBUG net.sf.jnati.deploy.artefact.ConfigManager  - Loading instance defaults: jar:file:/Users/krv114/Documents/GitHub/incawrapper/docs/examples/Literature%20data/wasylenko/RDT.jar!/META-INF/jnati/jnati.instance.default-properties\n",
      "14   [main] INFO  net.sf.jnati.deploy.repository.ClasspathRepository  - Searching classpath for: jniinchi-1.03_1-MAC-X86_64\n",
      "15   [main] INFO  net.sf.jnati.deploy.repository.LocalRepository  - Searching local repository for: jniinchi-1.03_1-MAC-X86_64\n",
      "15   [main] DEBUG net.sf.jnati.deploy.repository.LocalRepository  - Artefact path: /Users/krv114/.jnati/repo/jniinchi/1.03_1/MAC-X86_64\n",
      "16   [main] INFO  net.sf.jnati.deploy.artefact.ManifestReader  - Reading manifest\n",
      "44   [main] INFO  net.sf.jnati.deploy.NativeArtefactLocator  - Artefact (jniinchi-1.03_1-MAC-X86_64) location: /Users/krv114/.jnati/repo/jniinchi/1.03_1/MAC-X86_64\n",
      "44   [main] DEBUG net.sf.jnati.deploy.NativeLibraryLoader  - Loading library: /Users/krv114/.jnati/repo/jniinchi/1.03_1/MAC-X86_64/JniInchi-1.03_1-MAC-X86_64\n",
      "Mapped RXN File /Users/krv114/Documents/GitHub/incawrapper/docs/examples/Literature data/wasylenko/mappedRxns/ECBLAST_9_AAM.rxn\n"
     ]
    },
    {
     "name": "stderr",
     "output_type": "stream",
     "text": [
      "Warning: the fonts \"Times\" and \"Times\" are not available for the Java logical font \"Serif\", which may have unexpected appearance or behavior. Re-enable the \"Times\" font to remove this warning.\n"
     ]
    },
    {
     "name": "stdout",
     "output_type": "stream",
     "text": [
      "Annotated RXN Image /Users/krv114/Documents/GitHub/incawrapper/docs/examples/Literature data/wasylenko/mappedRxns/ECBLAST_9_AAM.png\n",
      "Output is presented in text format: /Users/krv114/Documents/GitHub/incawrapper/docs/examples/Literature data/wasylenko/mappedRxns/ECBLAST_9_AAM.txt\n",
      "Reactions mapped in total: 75/75\n"
     ]
    }
   ],
   "source": [
    "atom_mapping.obtain_atom_mappings(max_time=20, base_path=base_path)"
   ]
  },
  {
   "cell_type": "markdown",
   "id": "02071e9a",
   "metadata": {},
   "source": [
    "#### 6. Write reactions file with atom mapping"
   ]
  },
  {
   "cell_type": "code",
   "execution_count": 19,
   "id": "0e3daa90",
   "metadata": {},
   "outputs": [
    {
     "data": {
      "text/plain": [
       "'1.0*C00025 (C1:a C2:b C3:c C4:d C5:e) -> 1.0*C00148 (C1:c C2:a C3:b C4:d C5:e)'"
      ]
     },
     "execution_count": 19,
     "metadata": {},
     "output_type": "execute_result"
    }
   ],
   "source": [
    "atom_mapping.parse_single_reaction_mappings(base_path + '/mappedRxns/rxnFiles/48.rxn', rxn_data.iloc[48]['equation'])"
   ]
  },
  {
   "cell_type": "code",
   "execution_count": 20,
   "id": "87fcbe4d",
   "metadata": {},
   "outputs": [
    {
     "name": "stdout",
     "output_type": "stream",
     "text": [
      "5 not mapped\n",
      "21 not mapped\n",
      "22 not mapped\n",
      "23 not mapped\n",
      "24 not mapped\n",
      "25 not mapped\n",
      " has unmapped carbon(-s)\n",
      " has unmapped carbon(-s)\n",
      "41 not mapped\n",
      "42 not mapped\n",
      "57 not mapped\n",
      "65 not mapped\n",
      "68 not mapped\n",
      "75 not mapped\n",
      "76 not mapped\n",
      "77 not mapped\n",
      "78 not mapped\n",
      "79 not mapped\n",
      "80 not mapped\n",
      " has unmapped carbon(-s)\n",
      " has unmapped carbon(-s)\n",
      "88 not mapped\n",
      "89 not mapped\n",
      " has unmapped carbon(-s)\n",
      "92 not mapped\n"
     ]
    },
    {
     "data": {
      "text/html": [
       "<div>\n",
       "<style scoped>\n",
       "    .dataframe tbody tr th:only-of-type {\n",
       "        vertical-align: middle;\n",
       "    }\n",
       "\n",
       "    .dataframe tbody tr th {\n",
       "        vertical-align: top;\n",
       "    }\n",
       "\n",
       "    .dataframe thead th {\n",
       "        text-align: right;\n",
       "    }\n",
       "</style>\n",
       "<table border=\"1\" class=\"dataframe\">\n",
       "  <thead>\n",
       "    <tr style=\"text-align: right;\">\n",
       "      <th></th>\n",
       "      <th>rxn_id</th>\n",
       "      <th>equation</th>\n",
       "    </tr>\n",
       "  </thead>\n",
       "  <tbody>\n",
       "    <tr>\n",
       "      <th>0</th>\n",
       "      <td>0</td>\n",
       "      <td>1.0*C00031.ext (C1:a C2:b C3:c C4:d C5:e C6:f)...</td>\n",
       "    </tr>\n",
       "    <tr>\n",
       "      <th>1</th>\n",
       "      <td>1</td>\n",
       "      <td>1.0*C01510.ext (C1:a C2:b C3:c C4:d C5:e) -&gt; 1...</td>\n",
       "    </tr>\n",
       "    <tr>\n",
       "      <th>2</th>\n",
       "      <td>2</td>\n",
       "      <td>1.0*C00469 (C1:a C2:b) -&gt; 1.0*C00469.ext (C1:a...</td>\n",
       "    </tr>\n",
       "    <tr>\n",
       "      <th>3</th>\n",
       "      <td>3</td>\n",
       "      <td>1.0*C00033 (C1:a C2:b) -&gt; 1.0*C00033.ext (C1:a...</td>\n",
       "    </tr>\n",
       "    <tr>\n",
       "      <th>4</th>\n",
       "      <td>4</td>\n",
       "      <td>1.0*C00116 (C1:a C2:b C3:c) -&gt; 1.0*C00116.ext ...</td>\n",
       "    </tr>\n",
       "    <tr>\n",
       "      <th>...</th>\n",
       "      <td>...</td>\n",
       "      <td>...</td>\n",
       "    </tr>\n",
       "    <tr>\n",
       "      <th>65</th>\n",
       "      <td>85</td>\n",
       "      <td>1.0*C00418 (C1:a C2:b C3:c C4:d C5:e C6:f) -&gt; ...</td>\n",
       "    </tr>\n",
       "    <tr>\n",
       "      <th>66</th>\n",
       "      <td>86</td>\n",
       "      <td>1.0*C00129 (C1:a C2:b C3:c C4:d C5:e) -&gt; 1.0*C...</td>\n",
       "    </tr>\n",
       "    <tr>\n",
       "      <th>67</th>\n",
       "      <td>91</td>\n",
       "      <td>1.0*C00092 (C1:a C2:b C3:c C4:d C5:e C6:f) -&gt; ...</td>\n",
       "    </tr>\n",
       "    <tr>\n",
       "      <th>68</th>\n",
       "      <td>93</td>\n",
       "      <td>1.0*C00011.ext (C1:a) -&gt; 1.0*C00011 (C1:a)</td>\n",
       "    </tr>\n",
       "    <tr>\n",
       "      <th>69</th>\n",
       "      <td>94</td>\n",
       "      <td>1.0*C00011 (C1:a) -&gt; 1.0*C00011.out (C1:a)</td>\n",
       "    </tr>\n",
       "  </tbody>\n",
       "</table>\n",
       "<p>70 rows × 2 columns</p>\n",
       "</div>"
      ],
      "text/plain": [
       "   rxn_id                                           equation\n",
       "0       0  1.0*C00031.ext (C1:a C2:b C3:c C4:d C5:e C6:f)...\n",
       "1       1  1.0*C01510.ext (C1:a C2:b C3:c C4:d C5:e) -> 1...\n",
       "2       2  1.0*C00469 (C1:a C2:b) -> 1.0*C00469.ext (C1:a...\n",
       "3       3  1.0*C00033 (C1:a C2:b) -> 1.0*C00033.ext (C1:a...\n",
       "4       4  1.0*C00116 (C1:a C2:b C3:c) -> 1.0*C00116.ext ...\n",
       "..    ...                                                ...\n",
       "65     85  1.0*C00418 (C1:a C2:b C3:c C4:d C5:e C6:f) -> ...\n",
       "66     86  1.0*C00129 (C1:a C2:b C3:c C4:d C5:e) -> 1.0*C...\n",
       "67     91  1.0*C00092 (C1:a C2:b C3:c C4:d C5:e C6:f) -> ...\n",
       "68     93         1.0*C00011.ext (C1:a) -> 1.0*C00011 (C1:a)\n",
       "69     94         1.0*C00011 (C1:a) -> 1.0*C00011.out (C1:a)\n",
       "\n",
       "[70 rows x 2 columns]"
      ]
     },
     "execution_count": 20,
     "metadata": {},
     "output_type": "execute_result"
    }
   ],
   "source": [
    "atom_mapping.parse_reaction_mappings(mapped_rxn_path=base_path + '/mappedRxns/rxnFiles', rxn_data=rxn_data)"
   ]
  },
  {
   "cell_type": "code",
   "execution_count": 21,
   "id": "66ff2c63",
   "metadata": {},
   "outputs": [
    {
     "data": {
      "text/html": [
       "<div>\n",
       "<style scoped>\n",
       "    .dataframe tbody tr th:only-of-type {\n",
       "        vertical-align: middle;\n",
       "    }\n",
       "\n",
       "    .dataframe tbody tr th {\n",
       "        vertical-align: top;\n",
       "    }\n",
       "\n",
       "    .dataframe thead th {\n",
       "        text-align: right;\n",
       "    }\n",
       "</style>\n",
       "<table border=\"1\" class=\"dataframe\">\n",
       "  <thead>\n",
       "    <tr style=\"text-align: right;\">\n",
       "      <th></th>\n",
       "      <th>0</th>\n",
       "    </tr>\n",
       "  </thead>\n",
       "  <tbody>\n",
       "    <tr>\n",
       "      <th>0</th>\n",
       "      <td>C00031.ext (abcdef) -&gt; C00092 (abcdef)</td>\n",
       "    </tr>\n",
       "    <tr>\n",
       "      <th>1</th>\n",
       "      <td>C01510.ext (abcde) -&gt; C00231 (abcde)</td>\n",
       "    </tr>\n",
       "    <tr>\n",
       "      <th>2</th>\n",
       "      <td>C00469 (ab) -&gt; C00469.ext (ab)</td>\n",
       "    </tr>\n",
       "    <tr>\n",
       "      <th>3</th>\n",
       "      <td>C00033 (ab) -&gt; C00033.ext (ab)</td>\n",
       "    </tr>\n",
       "    <tr>\n",
       "      <th>4</th>\n",
       "      <td>C00116 (abc) -&gt; C00116.ext (abc)</td>\n",
       "    </tr>\n",
       "    <tr>\n",
       "      <th>...</th>\n",
       "      <td>...</td>\n",
       "    </tr>\n",
       "    <tr>\n",
       "      <th>90</th>\n",
       "      <td>C00092 (abcdef) -&gt; C00182 (abcdef)</td>\n",
       "    </tr>\n",
       "    <tr>\n",
       "      <th>91</th>\n",
       "      <td>C00092 (abcdef) -&gt; C00965 (abcdef)</td>\n",
       "    </tr>\n",
       "    <tr>\n",
       "      <th>92</th>\n",
       "      <td>C05345 (abcdef) -&gt; C00464 (abcdef)</td>\n",
       "    </tr>\n",
       "    <tr>\n",
       "      <th>93</th>\n",
       "      <td>C00011.ext (a) -&gt; C00011 (a)</td>\n",
       "    </tr>\n",
       "    <tr>\n",
       "      <th>94</th>\n",
       "      <td>C00011 (a) -&gt; C00011.out (a)</td>\n",
       "    </tr>\n",
       "  </tbody>\n",
       "</table>\n",
       "<p>95 rows × 1 columns</p>\n",
       "</div>"
      ],
      "text/plain": [
       "                                         0\n",
       "0   C00031.ext (abcdef) -> C00092 (abcdef)\n",
       "1     C01510.ext (abcde) -> C00231 (abcde)\n",
       "2           C00469 (ab) -> C00469.ext (ab)\n",
       "3           C00033 (ab) -> C00033.ext (ab)\n",
       "4         C00116 (abc) -> C00116.ext (abc)\n",
       "..                                     ...\n",
       "90      C00092 (abcdef) -> C00182 (abcdef)\n",
       "91      C00092 (abcdef) -> C00965 (abcdef)\n",
       "92      C05345 (abcdef) -> C00464 (abcdef)\n",
       "93            C00011.ext (a) -> C00011 (a)\n",
       "94            C00011 (a) -> C00011.out (a)\n",
       "\n",
       "[95 rows x 1 columns]"
      ]
     },
     "execution_count": 21,
     "metadata": {},
     "output_type": "execute_result"
    }
   ],
   "source": [
    "wasylenko_kegg"
   ]
  },
  {
   "cell_type": "code",
   "execution_count": null,
   "id": "707efb17",
   "metadata": {},
   "outputs": [],
   "source": []
  },
  {
   "cell_type": "code",
   "execution_count": null,
   "id": "afa72e18",
   "metadata": {},
   "outputs": [],
   "source": []
  },
  {
   "cell_type": "markdown",
   "id": "67a82b89",
   "metadata": {},
   "source": [
    "#### 7. When you're done, you can delete the downloaded files and directories to free up space"
   ]
  },
  {
   "cell_type": "code",
   "execution_count": 18,
   "id": "758b9d00",
   "metadata": {},
   "outputs": [],
   "source": [
    "atom_mapping.clean_output(base_path=base_path)"
   ]
  },
  {
   "cell_type": "code",
   "execution_count": null,
   "id": "dbaad8cc",
   "metadata": {},
   "outputs": [],
   "source": []
  }
 ],
 "metadata": {
  "kernelspec": {
   "display_name": "bfair",
   "language": "python",
   "name": "python3"
  },
  "language_info": {
   "codemirror_mode": {
    "name": "ipython",
    "version": 3
   },
   "file_extension": ".py",
   "mimetype": "text/x-python",
   "name": "python",
   "nbconvert_exporter": "python",
   "pygments_lexer": "ipython3",
   "version": "3.8.13"
  }
 },
 "nbformat": 4,
 "nbformat_minor": 5
}
