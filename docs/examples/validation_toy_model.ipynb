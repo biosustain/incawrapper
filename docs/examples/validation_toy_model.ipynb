{
 "cells": [
  {
   "attachments": {},
   "cell_type": "markdown",
   "metadata": {},
   "source": [
    "# INCAWrapper validation case small toy model\n",
    "This notebook serves as a validation case the show that the INCAWrapper produce similar results as a model run through the INCA GUI. Here we compare the MCMC samples from the INCAWrapper to MCMC samples obtain from the GUI. \n",
    "\n",
    "This notebook is not meant as a tutorial and therefore code description is a bit more sparse. For a proper tutorial see the other examples at https://incawrapper.readthedocs.io/en/latest/examples/index.html.\n",
    "\n",
    "## Introduction\n",
    "In this validation case, we will use a simple toy model has been used in the literature to study 13C-MFA [1], [2]. The model contains 5 reactions and 6 metabolites. To ensure that we can obtain a good fits to the data, we employ a simulated dataset for this validation. The simulated dataset holds one experiment in which the network is fed a labelled version of the metabolite A ([2-C13]-A).\n",
    "\n",
    "## Method for INCA GUI based flux estimation and MCMC sampling\n",
    "The model, experiments and data was manually entered into the INCA GUI. This model was saved to a file (`docs/examples/Literature data/simple model/simple_model_mcmc_validation_gui_model.mat`). We then ran first the estimate, then clicked `Update model`, and the second `Monte carlo sampling` after sampling has converged we used `save fluxmap as` to save the results a file (`docs/examples/Literature data/simple model/simple_model_mcmc_validation_gui_fluxmap.mat`).\n",
    "\n",
    "### Extracting MCMC samples from INCA GUI\n",
    "As noted in the MCMC tutorial for the INCAWrapper, it is currently not capable of loading MCMC results if the MCMC has ben run through the GUI. Therefore we have exported the GUI samples through the Matlab command line, using the the following workflow:\n",
    "- Open INCA \n",
    "- In INCA open the fluxmap containing the MCMC samples\n",
    "- In Matlab command line: run `csvwrite('simple_model_gui_mcmc_results.csv', f.par.vals)`\n",
    "\n",
    "## Method for INCAWrapper flux estimation and MCMC sampling\n",
    "The MCMC was run through the incawrapper using the the Python script `docs/examples/Literature data/simple model/incawrapper_mcmc.py`.\n",
    "\n",
    "## Note about randomness in INCA\n",
    "When INCA estimates the flux distribution it deploys an optimisation algorithm, which searches for a local optimum in the parameter space. To increase the probability that the found flux distribution is a global optimum INCA can be configured to restart the optimisation algorithm at different point in the parameter space. Unfortunately, the INCA manual do not describe any method to set the random seed for random restarts, thus the best we can do is to a large number of restarts in both the INCA GUI and the INCAWrapper to improve the probability that the two executions finds the same optimum. Therefore, we used 1000 restarts during flux estimation in both the INCAWrapper and the INCA GUI. Once an optimum was found for the two models, we performed MCMC sampling both through the GUI and the wrapper. In this notebook we compare these samples to explore if they could be draw from the same population, i.e. the differences in flux solution between the GUI and the Wrapper are likely due to randomness.\n",
    "\n",
    "## Setting up the environment\n",
    "First, we will setup the coding environment, load packages, set pah to files and read-in the data."
   ]
  },
  {
   "cell_type": "code",
   "execution_count": 1,
   "metadata": {},
   "outputs": [],
   "source": [
    "import pandas as pd\n",
    "import numpy as np\n",
    "import matplotlib.pyplot as plt\n",
    "import seaborn as sns\n",
    "import pathlib\n",
    "import incawrapper\n",
    "import ast\n",
    "PROJECT_DIR = pathlib.Path().cwd().parents[1].resolve()\n",
    "data_directory = PROJECT_DIR / pathlib.Path(\"docs/examples/Literature data/simple model\")"
   ]
  },
  {
   "cell_type": "code",
   "execution_count": 2,
   "metadata": {},
   "outputs": [],
   "source": [
    "# File for which MCMC is started from\n",
    "incawrapper_fluxmap_file = data_directory / 'simple_model_incawrapper_fluxmap_mcmc.mat'\n",
    "# gui_fluxmap_file = data_directory / \n",
    "\n",
    "# MCMC samples\n",
    "incawrapper_mcmc_samples_file = data_directory / \"simulated_data\" / \"simple_model_incawrapper_mcmc_results.csv\"\n",
    "gui_mcmc_samples_file = data_directory / \"simulated_data\" / \"simple_model_gui_mcmc_results.csv\"\n",
    "\n",
    "# Hotelling T2 test results\n",
    "hotelling_result_file = data_directory / 'simulated_data' / 'hotelling_test_results.txt'"
   ]
  },
  {
   "cell_type": "markdown",
   "metadata": {},
   "source": [
    "We will load the MCMC results and save the samples to a csv file."
   ]
  },
  {
   "cell_type": "code",
   "execution_count": 3,
   "metadata": {},
   "outputs": [
    {
     "data": {
      "text/html": [
       "<div>\n",
       "<style scoped>\n",
       "    .dataframe tbody tr th:only-of-type {\n",
       "        vertical-align: middle;\n",
       "    }\n",
       "\n",
       "    .dataframe tbody tr th {\n",
       "        vertical-align: top;\n",
       "    }\n",
       "\n",
       "    .dataframe thead th {\n",
       "        text-align: right;\n",
       "    }\n",
       "</style>\n",
       "<table border=\"1\" class=\"dataframe\">\n",
       "  <thead>\n",
       "    <tr style=\"text-align: right;\">\n",
       "      <th></th>\n",
       "      <th>sample</th>\n",
       "      <th>reaction</th>\n",
       "      <th>flux</th>\n",
       "      <th>source</th>\n",
       "    </tr>\n",
       "  </thead>\n",
       "  <tbody>\n",
       "    <tr>\n",
       "      <th>0</th>\n",
       "      <td>0</td>\n",
       "      <td>R1</td>\n",
       "      <td>99.868174</td>\n",
       "      <td>INCAwrapper</td>\n",
       "    </tr>\n",
       "    <tr>\n",
       "      <th>1</th>\n",
       "      <td>1</td>\n",
       "      <td>R1</td>\n",
       "      <td>99.531294</td>\n",
       "      <td>INCAwrapper</td>\n",
       "    </tr>\n",
       "    <tr>\n",
       "      <th>2</th>\n",
       "      <td>2</td>\n",
       "      <td>R1</td>\n",
       "      <td>99.752950</td>\n",
       "      <td>INCAwrapper</td>\n",
       "    </tr>\n",
       "    <tr>\n",
       "      <th>3</th>\n",
       "      <td>3</td>\n",
       "      <td>R1</td>\n",
       "      <td>99.924800</td>\n",
       "      <td>INCAwrapper</td>\n",
       "    </tr>\n",
       "    <tr>\n",
       "      <th>4</th>\n",
       "      <td>4</td>\n",
       "      <td>R1</td>\n",
       "      <td>99.498449</td>\n",
       "      <td>INCAwrapper</td>\n",
       "    </tr>\n",
       "  </tbody>\n",
       "</table>\n",
       "</div>"
      ],
      "text/plain": [
       "   sample reaction       flux       source\n",
       "0       0       R1  99.868174  INCAwrapper\n",
       "1       1       R1  99.531294  INCAwrapper\n",
       "2       2       R1  99.752950  INCAwrapper\n",
       "3       3       R1  99.924800  INCAwrapper\n",
       "4       4       R1  99.498449  INCAwrapper"
      ]
     },
     "execution_count": 3,
     "metadata": {},
     "output_type": "execute_result"
    }
   ],
   "source": [
    "incawrapper_flux_samples = pd.read_csv(incawrapper_mcmc_samples_file, index_col=None)\n",
    "\n",
    "# prepare long format\n",
    "incawrapper_flux_samples['sample'] = incawrapper_flux_samples.index.values\n",
    "incawrapper_flux_samples_long = pd.melt(incawrapper_flux_samples, id_vars='sample', var_name='reaction', value_name='flux')\n",
    "incawrapper_flux_samples_long['source'] = 'INCAwrapper'\n",
    "incawrapper_flux_samples_long.head()"
   ]
  },
  {
   "cell_type": "code",
   "execution_count": 4,
   "metadata": {},
   "outputs": [
    {
     "data": {
      "text/html": [
       "<div>\n",
       "<style scoped>\n",
       "    .dataframe tbody tr th:only-of-type {\n",
       "        vertical-align: middle;\n",
       "    }\n",
       "\n",
       "    .dataframe tbody tr th {\n",
       "        vertical-align: top;\n",
       "    }\n",
       "\n",
       "    .dataframe thead th {\n",
       "        text-align: right;\n",
       "    }\n",
       "</style>\n",
       "<table border=\"1\" class=\"dataframe\">\n",
       "  <thead>\n",
       "    <tr style=\"text-align: right;\">\n",
       "      <th></th>\n",
       "      <th>sample</th>\n",
       "      <th>reaction</th>\n",
       "      <th>flux</th>\n",
       "      <th>source</th>\n",
       "    </tr>\n",
       "  </thead>\n",
       "  <tbody>\n",
       "    <tr>\n",
       "      <th>0</th>\n",
       "      <td>0</td>\n",
       "      <td>R1</td>\n",
       "      <td>99.584</td>\n",
       "      <td>GUI</td>\n",
       "    </tr>\n",
       "    <tr>\n",
       "      <th>1</th>\n",
       "      <td>1</td>\n",
       "      <td>R1</td>\n",
       "      <td>99.342</td>\n",
       "      <td>GUI</td>\n",
       "    </tr>\n",
       "    <tr>\n",
       "      <th>2</th>\n",
       "      <td>2</td>\n",
       "      <td>R1</td>\n",
       "      <td>99.934</td>\n",
       "      <td>GUI</td>\n",
       "    </tr>\n",
       "    <tr>\n",
       "      <th>3</th>\n",
       "      <td>3</td>\n",
       "      <td>R1</td>\n",
       "      <td>99.811</td>\n",
       "      <td>GUI</td>\n",
       "    </tr>\n",
       "    <tr>\n",
       "      <th>4</th>\n",
       "      <td>4</td>\n",
       "      <td>R1</td>\n",
       "      <td>99.748</td>\n",
       "      <td>GUI</td>\n",
       "    </tr>\n",
       "  </tbody>\n",
       "</table>\n",
       "</div>"
      ],
      "text/plain": [
       "   sample reaction    flux source\n",
       "0       0       R1  99.584    GUI\n",
       "1       1       R1  99.342    GUI\n",
       "2       2       R1  99.934    GUI\n",
       "3       3       R1  99.811    GUI\n",
       "4       4       R1  99.748    GUI"
      ]
     },
     "execution_count": 4,
     "metadata": {},
     "output_type": "execute_result"
    }
   ],
   "source": [
    "# Load GUI flux samples\n",
    "gui_flux_samples = pd.read_csv(gui_mcmc_samples_file, index_col=None)\n",
    "gui_flux_samples['sample'] = gui_flux_samples.index.values\n",
    "gui_flux_samples.columns = incawrapper_flux_samples.columns\n",
    "\n",
    "gui_flux_samples_long = gui_flux_samples.melt(id_vars='sample', var_name='reaction', value_name='flux')\n",
    "gui_flux_samples_long['source'] = 'GUI'\n",
    "gui_flux_samples_long.head()"
   ]
  },
  {
   "cell_type": "code",
   "execution_count": 5,
   "metadata": {},
   "outputs": [
    {
     "data": {
      "text/plain": [
       "<Axes: xlabel='reaction', ylabel='flux'>"
      ]
     },
     "execution_count": 5,
     "metadata": {},
     "output_type": "execute_result"
    },
    {
     "data": {
      "image/png": "[encoded data removed]",
      "text/plain": [
       "<Figure size 640x480 with 1 Axes>"
      ]
     },
     "metadata": {},
     "output_type": "display_data"
    }
   ],
   "source": [
    "# setup a plotting data frame\n",
    "plot_df = pd.concat([incawrapper_flux_samples_long, gui_flux_samples_long])\n",
    "sns.boxplot(data=plot_df, x='reaction', y='flux', hue='source')"
   ]
  },
  {
   "cell_type": "markdown",
   "metadata": {},
   "source": [
    "The plot shows that the MCMC samples appear very comparable. However, we now wish to conduct a statistical comparison between the samples of flux distributions obtained from the INCAWrapper and the GUI. To do this we will use a Hotelling's $t^2$ test, which is capable of comparing multivariate means. The most appropriate implementation that we could find was in R. Therefore the test is conducted the R script, `compare_mcmc_samples.R`. Now we fetch the results of the test."
   ]
  },
  {
   "cell_type": "code",
   "execution_count": 6,
   "metadata": {},
   "outputs": [
    {
     "data": {
      "text/html": [
       "<div>\n",
       "<style scoped>\n",
       "    .dataframe tbody tr th:only-of-type {\n",
       "        vertical-align: middle;\n",
       "    }\n",
       "\n",
       "    .dataframe tbody tr th {\n",
       "        vertical-align: top;\n",
       "    }\n",
       "\n",
       "    .dataframe thead th {\n",
       "        text-align: right;\n",
       "    }\n",
       "</style>\n",
       "<table border=\"1\" class=\"dataframe\">\n",
       "  <thead>\n",
       "    <tr style=\"text-align: right;\">\n",
       "      <th></th>\n",
       "      <th>value</th>\n",
       "    </tr>\n",
       "  </thead>\n",
       "  <tbody>\n",
       "    <tr>\n",
       "      <th>p_value</th>\n",
       "      <td>0.364359</td>\n",
       "    </tr>\n",
       "    <tr>\n",
       "      <th>degree_of_freedom_1</th>\n",
       "      <td>3.000000</td>\n",
       "    </tr>\n",
       "    <tr>\n",
       "      <th>degree_of_freedom_2</th>\n",
       "      <td>5696.000000</td>\n",
       "    </tr>\n",
       "    <tr>\n",
       "      <th>n_permutations</th>\n",
       "      <td>1000000.000000</td>\n",
       "    </tr>\n",
       "  </tbody>\n",
       "</table>\n",
       "</div>"
      ],
      "text/plain": [
       "                              value\n",
       "p_value                    0.364359\n",
       "degree_of_freedom_1        3.000000\n",
       "degree_of_freedom_2     5696.000000\n",
       "n_permutations       1000000.000000"
      ]
     },
     "execution_count": 6,
     "metadata": {},
     "output_type": "execute_result"
    }
   ],
   "source": [
    "pd.read_csv(hotelling_result_file, sep=' ', index_col=0)"
   ]
  },
  {
   "cell_type": "markdown",
   "metadata": {},
   "source": [
    "We see that the hotelling's $t^2$ test find that there is no evidence that samples from the GUI and INCAWrapper come from different distributions."
   ]
  },
  {
   "cell_type": "markdown",
   "metadata": {},
   "source": [
    "## Conclusion\n"
   ]
  },
  {
   "cell_type": "markdown",
   "metadata": {},
   "source": [
    "As the MCMC samples from the INCAWrapper and the GUI was not significantly different (alpha = 0.05), we conclude that the two methods explore the flux space and thus the differences in the results can be attributed to randomness."
   ]
  },
  {
   "cell_type": "markdown",
   "metadata": {},
   "source": [
    "## References\n",
    "[1] M. R. Antoniewicz, J. K. Kelleher, and G. Stephanopoulos, “Determination of confidence intervals of metabolic fluxes estimated from stable isotope measurements,” Metabolic Engineering, vol. 8, no. 4, pp. 324–337, Jul. 2006, doi: 10.1016/j.ymben.2006.01.004.\n",
    "\n",
    "[2] M. R. Antoniewicz, J. K. Kelleher, and G. Stephanopoulos, “Elementary metabolite units (EMU): A novel framework for modeling isotopic distributions,” Metabolic Engineering, vol. 9, no. 1, pp. 68–86, Jan. 2007, doi: 10.1016/j.ymben.2006.09.001.\n"
   ]
  },
  {
   "cell_type": "markdown",
   "metadata": {},
   "source": []
  }
 ],
 "metadata": {
  "kernelspec": {
   "display_name": "bfair-testing",
   "language": "python",
   "name": "python3"
  },
  "language_info": {
   "codemirror_mode": {
    "name": "ipython",
    "version": 3
   },
   "file_extension": ".py",
   "mimetype": "text/x-python",
   "name": "python",
   "nbconvert_exporter": "python",
   "pygments_lexer": "ipython3",
   "version": "3.10.8"
  },
  "orig_nbformat": 4,
  "vscode": {
   "interpreter": {
    "hash": "820c70ec08a0eb018d8ec3c5d089748cbb2d1e243fbedf0a7cbeb7c8948c3b84"
   }
  }
 },
 "nbformat": 4,
 "nbformat_minor": 2
}
