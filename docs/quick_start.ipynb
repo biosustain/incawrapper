{
 "cells": [
  {
   "attachments": {},
   "cell_type": "markdown",
   "metadata": {},
   "source": [
    "# Quick start\n",
    "The INCA parser introduce a python wrapper to the Matlab application INCA. INCA can apply multiple 13C-MFA great algorithms. Unfortunately, it is meant to be used through a GUI and therefore it is laborious to handle many samples and measurements and is hard in incorporate into high throughput pipelines. The INCA parser operates on both sides of INCA it helps input model and data into INCA, it can run INCA algorithms and finally provides a workflow to export the results from INCA after execution of algorithms. This will be a very quick walk through of how to use the INCA Parser to give interested users an overview of the capabilities."
   ]
  },
  {
   "cell_type": "code",
   "execution_count": 1,
   "metadata": {},
   "outputs": [],
   "source": [
    "import pandas as pd\n",
    "import pathlib\n",
    "import incawrapper\n",
    "from incawrapper import run_inca\n",
    "import ast\n"
   ]
  },
  {
   "attachments": {},
   "cell_type": "markdown",
   "metadata": {},
   "source": [
    "The input data to the INCA parser is given as pandas dataframes. These has to comply to specified dataschemas (See :ref:`input_data.ipynb` for a thorough walk through of the requirements). The minimum inputs to run MFA in INCA is \n",
    "\n",
    "- Reaction data\n",
    "- Tracer data\n",
    "\n",
    "For stationary 13C-MFA least one of\n",
    "\n",
    "- Flux measurements\n",
    "- MS measurements\n",
    "\n",
    "For Isotopically Non-stationary 13C-MFA additionally measurements of the metabolite pool are can be used.\n",
    "\n",
    "Let's load some data to see the format of the input. All input data is validated for column name and data types, thus it will raise an error if either of those are incorrect."
   ]
  },
  {
   "cell_type": "code",
   "execution_count": 2,
   "metadata": {},
   "outputs": [],
   "source": [
    "data_folder = pathlib.Path(\"./examples/Literature data/simple model\")\n",
    "tracers_data = pd.read_csv(data_folder / \"tracers.csv\", \n",
    "   converters={'atom_mdv':ast.literal_eval, 'atom_ids':ast.literal_eval} # a trick to read lists from csv\n",
    ")\n",
    "reactions_data = pd.read_csv(data_folder / \"reactions.csv\")\n",
    "flux_data = pd.read_csv(data_folder / \"flux_measurements.csv\")\n",
    "ms_data = pd.read_csv(data_folder / \"ms_measurements.csv\", \n",
    "   converters={'labelled_atom_ids': ast.literal_eval} # a trick to read lists from csv\n",
    ")"
   ]
  },
  {
   "attachments": {},
   "cell_type": "markdown",
   "metadata": {},
   "source": [
    "We use a simple toy model with 5 reactions [1,2]. In this data set we have two experiments exp1 and exp2. They were conducted with different tracers. For exp1 we have both flux and MS measurements, while for exp2 the data set only contains MS measurements. "
   ]
  },
  {
   "cell_type": "code",
   "execution_count": 3,
   "metadata": {},
   "outputs": [
    {
     "data": {
      "text/html": [
       "<div>\n",
       "<style scoped>\n",
       "    .dataframe tbody tr th:only-of-type {\n",
       "        vertical-align: middle;\n",
       "    }\n",
       "\n",
       "    .dataframe tbody tr th {\n",
       "        vertical-align: top;\n",
       "    }\n",
       "\n",
       "    .dataframe thead th {\n",
       "        text-align: right;\n",
       "    }\n",
       "</style>\n",
       "<table border=\"1\" class=\"dataframe\">\n",
       "  <thead>\n",
       "    <tr style=\"text-align: right;\">\n",
       "      <th></th>\n",
       "      <th>model</th>\n",
       "      <th>rxn_id</th>\n",
       "      <th>rxn_eqn</th>\n",
       "    </tr>\n",
       "  </thead>\n",
       "  <tbody>\n",
       "    <tr>\n",
       "      <th>0</th>\n",
       "      <td>simple_model</td>\n",
       "      <td>R1</td>\n",
       "      <td>A (abc) -&gt; B (abc)</td>\n",
       "    </tr>\n",
       "    <tr>\n",
       "      <th>1</th>\n",
       "      <td>simple_model</td>\n",
       "      <td>R2</td>\n",
       "      <td>B (abc) &lt;-&gt; D (abc)</td>\n",
       "    </tr>\n",
       "    <tr>\n",
       "      <th>2</th>\n",
       "      <td>simple_model</td>\n",
       "      <td>R3</td>\n",
       "      <td>B (abc) -&gt; C (bc) + E (a)</td>\n",
       "    </tr>\n",
       "    <tr>\n",
       "      <th>3</th>\n",
       "      <td>simple_model</td>\n",
       "      <td>R4</td>\n",
       "      <td>B (abc) + C (de) -&gt; D (bcd) + E (a) + E (e)</td>\n",
       "    </tr>\n",
       "    <tr>\n",
       "      <th>4</th>\n",
       "      <td>simple_model</td>\n",
       "      <td>R5</td>\n",
       "      <td>D (abc) -&gt; F (abc)</td>\n",
       "    </tr>\n",
       "  </tbody>\n",
       "</table>\n",
       "</div>"
      ],
      "text/plain": [
       "          model rxn_id                                      rxn_eqn\n",
       "0  simple_model     R1                           A (abc) -> B (abc)\n",
       "1  simple_model     R2                          B (abc) <-> D (abc)\n",
       "2  simple_model     R3                    B (abc) -> C (bc) + E (a)\n",
       "3  simple_model     R4  B (abc) + C (de) -> D (bcd) + E (a) + E (e)\n",
       "4  simple_model     R5                           D (abc) -> F (abc)"
      ]
     },
     "execution_count": 3,
     "metadata": {},
     "output_type": "execute_result"
    }
   ],
   "source": [
    "reactions_data.head()"
   ]
  },
  {
   "cell_type": "code",
   "execution_count": 4,
   "metadata": {},
   "outputs": [
    {
     "data": {
      "text/html": [
       "<div>\n",
       "<style scoped>\n",
       "    .dataframe tbody tr th:only-of-type {\n",
       "        vertical-align: middle;\n",
       "    }\n",
       "\n",
       "    .dataframe tbody tr th {\n",
       "        vertical-align: top;\n",
       "    }\n",
       "\n",
       "    .dataframe thead th {\n",
       "        text-align: right;\n",
       "    }\n",
       "</style>\n",
       "<table border=\"1\" class=\"dataframe\">\n",
       "  <thead>\n",
       "    <tr style=\"text-align: right;\">\n",
       "      <th></th>\n",
       "      <th>experiment_id</th>\n",
       "      <th>met_id</th>\n",
       "      <th>tracer_id</th>\n",
       "      <th>atom_ids</th>\n",
       "      <th>ratio</th>\n",
       "      <th>atom_mdv</th>\n",
       "      <th>enrichment</th>\n",
       "    </tr>\n",
       "  </thead>\n",
       "  <tbody>\n",
       "    <tr>\n",
       "      <th>0</th>\n",
       "      <td>exp1</td>\n",
       "      <td>A</td>\n",
       "      <td>[2-13C]A</td>\n",
       "      <td>[2]</td>\n",
       "      <td>1.0</td>\n",
       "      <td>[0, 1]</td>\n",
       "      <td>1</td>\n",
       "    </tr>\n",
       "    <tr>\n",
       "      <th>1</th>\n",
       "      <td>exp2</td>\n",
       "      <td>A</td>\n",
       "      <td>[1,2-13C]A</td>\n",
       "      <td>[1, 2]</td>\n",
       "      <td>0.5</td>\n",
       "      <td>[0.05, 0.95]</td>\n",
       "      <td>1</td>\n",
       "    </tr>\n",
       "  </tbody>\n",
       "</table>\n",
       "</div>"
      ],
      "text/plain": [
       "  experiment_id met_id   tracer_id atom_ids  ratio      atom_mdv  enrichment\n",
       "0          exp1      A    [2-13C]A      [2]    1.0        [0, 1]           1\n",
       "1          exp2      A  [1,2-13C]A   [1, 2]    0.5  [0.05, 0.95]           1"
      ]
     },
     "execution_count": 4,
     "metadata": {},
     "output_type": "execute_result"
    }
   ],
   "source": [
    "tracers_data.head()"
   ]
  },
  {
   "cell_type": "code",
   "execution_count": 5,
   "metadata": {},
   "outputs": [
    {
     "data": {
      "text/html": [
       "<div>\n",
       "<style scoped>\n",
       "    .dataframe tbody tr th:only-of-type {\n",
       "        vertical-align: middle;\n",
       "    }\n",
       "\n",
       "    .dataframe tbody tr th {\n",
       "        vertical-align: top;\n",
       "    }\n",
       "\n",
       "    .dataframe thead th {\n",
       "        text-align: right;\n",
       "    }\n",
       "</style>\n",
       "<table border=\"1\" class=\"dataframe\">\n",
       "  <thead>\n",
       "    <tr style=\"text-align: right;\">\n",
       "      <th></th>\n",
       "      <th>experiment_id</th>\n",
       "      <th>rxn_id</th>\n",
       "      <th>flux</th>\n",
       "      <th>flux_std_error</th>\n",
       "    </tr>\n",
       "  </thead>\n",
       "  <tbody>\n",
       "    <tr>\n",
       "      <th>0</th>\n",
       "      <td>exp1</td>\n",
       "      <td>R1</td>\n",
       "      <td>10.0</td>\n",
       "      <td>0.00001</td>\n",
       "    </tr>\n",
       "  </tbody>\n",
       "</table>\n",
       "</div>"
      ],
      "text/plain": [
       "  experiment_id rxn_id  flux  flux_std_error\n",
       "0          exp1     R1  10.0         0.00001"
      ]
     },
     "execution_count": 5,
     "metadata": {},
     "output_type": "execute_result"
    }
   ],
   "source": [
    "flux_data.head()"
   ]
  },
  {
   "cell_type": "code",
   "execution_count": 6,
   "metadata": {},
   "outputs": [
    {
     "data": {
      "text/html": [
       "<div>\n",
       "<style scoped>\n",
       "    .dataframe tbody tr th:only-of-type {\n",
       "        vertical-align: middle;\n",
       "    }\n",
       "\n",
       "    .dataframe tbody tr th {\n",
       "        vertical-align: top;\n",
       "    }\n",
       "\n",
       "    .dataframe thead th {\n",
       "        text-align: right;\n",
       "    }\n",
       "</style>\n",
       "<table border=\"1\" class=\"dataframe\">\n",
       "  <thead>\n",
       "    <tr style=\"text-align: right;\">\n",
       "      <th></th>\n",
       "      <th>experiment_id</th>\n",
       "      <th>met_id</th>\n",
       "      <th>ms_id</th>\n",
       "      <th>measurement_replicate</th>\n",
       "      <th>labelled_atom_ids</th>\n",
       "      <th>unlabelled_atoms</th>\n",
       "      <th>mass_isotope</th>\n",
       "      <th>intensity</th>\n",
       "      <th>intensity_std_error</th>\n",
       "      <th>time</th>\n",
       "    </tr>\n",
       "  </thead>\n",
       "  <tbody>\n",
       "    <tr>\n",
       "      <th>0</th>\n",
       "      <td>exp1</td>\n",
       "      <td>F</td>\n",
       "      <td>F1</td>\n",
       "      <td>1</td>\n",
       "      <td>[1, 2, 3]</td>\n",
       "      <td>NaN</td>\n",
       "      <td>0</td>\n",
       "      <td>0.0001</td>\n",
       "      <td>0.000002</td>\n",
       "      <td>0</td>\n",
       "    </tr>\n",
       "    <tr>\n",
       "      <th>1</th>\n",
       "      <td>exp1</td>\n",
       "      <td>F</td>\n",
       "      <td>F1</td>\n",
       "      <td>1</td>\n",
       "      <td>[1, 2, 3]</td>\n",
       "      <td>NaN</td>\n",
       "      <td>1</td>\n",
       "      <td>0.8008</td>\n",
       "      <td>0.016016</td>\n",
       "      <td>0</td>\n",
       "    </tr>\n",
       "    <tr>\n",
       "      <th>2</th>\n",
       "      <td>exp1</td>\n",
       "      <td>F</td>\n",
       "      <td>F1</td>\n",
       "      <td>1</td>\n",
       "      <td>[1, 2, 3]</td>\n",
       "      <td>NaN</td>\n",
       "      <td>2</td>\n",
       "      <td>0.1983</td>\n",
       "      <td>0.003966</td>\n",
       "      <td>0</td>\n",
       "    </tr>\n",
       "    <tr>\n",
       "      <th>3</th>\n",
       "      <td>exp1</td>\n",
       "      <td>F</td>\n",
       "      <td>F1</td>\n",
       "      <td>1</td>\n",
       "      <td>[1, 2, 3]</td>\n",
       "      <td>NaN</td>\n",
       "      <td>3</td>\n",
       "      <td>0.0009</td>\n",
       "      <td>0.000018</td>\n",
       "      <td>0</td>\n",
       "    </tr>\n",
       "    <tr>\n",
       "      <th>4</th>\n",
       "      <td>exp2</td>\n",
       "      <td>F</td>\n",
       "      <td>F1</td>\n",
       "      <td>1</td>\n",
       "      <td>[1, 2, 3]</td>\n",
       "      <td>NaN</td>\n",
       "      <td>0</td>\n",
       "      <td>0.0002</td>\n",
       "      <td>0.000002</td>\n",
       "      <td>0</td>\n",
       "    </tr>\n",
       "  </tbody>\n",
       "</table>\n",
       "</div>"
      ],
      "text/plain": [
       "  experiment_id met_id ms_id  measurement_replicate labelled_atom_ids  \\\n",
       "0          exp1      F    F1                      1         [1, 2, 3]   \n",
       "1          exp1      F    F1                      1         [1, 2, 3]   \n",
       "2          exp1      F    F1                      1         [1, 2, 3]   \n",
       "3          exp1      F    F1                      1         [1, 2, 3]   \n",
       "4          exp2      F    F1                      1         [1, 2, 3]   \n",
       "\n",
       "   unlabelled_atoms  mass_isotope  intensity  intensity_std_error  time  \n",
       "0               NaN             0     0.0001             0.000002     0  \n",
       "1               NaN             1     0.8008             0.016016     0  \n",
       "2               NaN             2     0.1983             0.003966     0  \n",
       "3               NaN             3     0.0009             0.000018     0  \n",
       "4               NaN             0     0.0002             0.000002     0  "
      ]
     },
     "execution_count": 6,
     "metadata": {},
     "output_type": "execute_result"
    }
   ],
   "source": [
    "ms_data.head()"
   ]
  },
  {
   "attachments": {},
   "cell_type": "markdown",
   "metadata": {},
   "source": [
    "With the data loaded we are ready to create the INCA script that specifies the model, data and algorithms that we wish to apply. We will specify that the estimation algorithm should do 5 restarts and that INCA should not do naturel abundance correction. Finally, specify that we wish to run three of INCA's algorithms: estimate, simulate and continuate and that the model including the results should be saved in a file called simple_model_quickstart.mat in the current working directory."
   ]
  },
  {
   "cell_type": "code",
   "execution_count": 7,
   "metadata": {},
   "outputs": [],
   "source": [
    "output_file = pathlib.Path(\"./examples/Literature data/simple model/simple_model_quikstart.mat\")\n",
    "script = incawrapper.create_inca_script_from_data(reactions_data, tracers_data, flux_data, ms_data, experiment_ids=[\"exp1\"])\n",
    "script.add_to_block(\"options\", incawrapper.define_options(fit_starts=5,sim_na=False))\n",
    "script.add_to_block(\"runner\", incawrapper.define_runner(output_file, run_estimate=True, run_simulation=True, run_continuation=True))"
   ]
  },
  {
   "attachments": {},
   "cell_type": "markdown",
   "metadata": {},
   "source": [
    "Now the script is ready to run in matlab."
   ]
  },
  {
   "cell_type": "code",
   "execution_count": 8,
   "metadata": {},
   "outputs": [
    {
     "name": "stdout",
     "output_type": "stream",
     "text": [
      "INCA script saved to /var/folders/z6/mxpxh4k56tv0h0ff41vmx7gdwtlpvp/T/tmpo4ccyxyy/inca_script.m.\n",
      "Starting MATLAB engine...\n",
      " \n",
      "ms_exp1 = 1x1 msdata object\n",
      " \n",
      "fields: atoms  id  [idvs]  more  on  state  \n",
      " \n",
      "F1\n",
      " \n",
      " \n",
      "m = 1x1 model object\n",
      " \n",
      "fields: [expts]  [mets]  notes  [options]  [rates]  [states]  \n",
      " \n",
      "\t5 reactions (6 fluxes)                                  \n",
      "\t6 states (3 balanced, 1 source, 2 sink and 0 unbalanced)\n",
      "\t6 metabolites                                           \n",
      "\t1 experiments                                           \n",
      " \n",
      "\n",
      "                                         Directional \n",
      " Iteration      Residual     Step-size    derivative        Lambda\n",
      "     0       9.99339e+11\n",
      "     1           6145.68             1      -5.7e+05     0.0311938\n",
      "     2           5009.18             1           -85     0.0103979\n",
      "     3              5000             1        -0.086    0.00346598\n",
      "                                                    \n",
      " Optimization terminated: Constrained optimum found.\n",
      " Parameters converged to within tolerance.          \n",
      "\n",
      "                                         Directional \n",
      " Iteration      Residual     Step-size    derivative        Lambda\n",
      "     0       9.99214e+11\n",
      "     1        9.9697e+11       0.00111     -1.01e+12       451.193\n",
      "     2        1.5617e+07             1     -4.33e+08       451.193\n",
      "     3       2.58267e+06             1     -2.38e+06       150.398\n",
      "     4            168361             1     -3.37e+05       105.265\n",
      "     5            7779.2             1     -1.83e+04       35.6507\n",
      "     6           6115.06          0.74     -4.23e+03       11.8836\n",
      "     7            5916.2             1          19.7       11.8836\n",
      "     8           5591.97             1       1.1e+03       3.96119\n",
      "     9            5004.8             1          63.6       4.06003\n",
      "    10              5000             1        -0.036       1.35334\n",
      "                                                    \n",
      " Optimization terminated: Constrained optimum found.\n",
      " Parameters converged to within tolerance.          \n",
      "\n",
      "                                         Directional \n",
      " Iteration      Residual     Step-size    derivative        Lambda\n",
      "     0       9.99976e+11\n",
      "     1       9.99444e+11       0.00328     -8.16e+10       12348.3\n",
      "     2       3.96455e+10             1     -1.59e+11       12348.3\n",
      "     3       3.40521e+06             1     -2.06e+06       4116.09\n",
      "     4            291891             1     -4.79e+05       1372.03\n",
      "     5           17812.3             1     -3.67e+04       584.237\n",
      "     6           2088.72             1     -1.87e+03       194.746\n",
      "     7           2271.03             1      3.44e+03       64.9152\n",
      "     8           1485.33             1          80.5        129.83\n",
      "     9           1289.98             1      1.47e+03       43.2768\n",
      "    10           164.267             1           218       56.6267\n",
      "    11           136.625             1        -0.935       18.8756\n",
      "    12           136.492             1       -0.0121       6.29185\n",
      "                                                      \n",
      " Optimization terminated: Unconstrained optimum found.\n",
      " Parameters converged to within tolerance.            \n",
      "\n",
      "                                         Directional \n",
      " Iteration      Residual     Step-size    derivative        Lambda\n",
      "     0       9.99233e+11\n",
      "     1           11787.8             1     -1.37e+06     0.0980917\n",
      "     2           3370.34             1          -268     0.0326972\n",
      "     3            690.61             1          -369     0.0270457\n",
      "     4           195.457             1         -79.9    0.00901524\n",
      "     5           137.876             1         -6.77    0.00300508\n",
      "     6            136.51             1        -0.135    0.00100169\n",
      "                                                      \n",
      " Optimization terminated: Unconstrained optimum found.\n",
      " Parameters converged to within tolerance.            \n",
      "\n",
      "                                         Directional \n",
      " Iteration      Residual     Step-size    derivative        Lambda\n",
      "     0       9.99841e+11\n",
      "     1       2.31347e+11         0.554     -4.49e+11       2181.43\n",
      "     2       2.30265e+08             1     -1.96e+08       2181.43\n",
      "     3       3.44734e+07             1     -3.42e+07       727.143\n",
      "     4       2.01773e+06             1     -4.43e+06       477.061\n",
      "     5            140747             1     -2.51e+05        159.02\n",
      "     6           3791.06             1     -1.16e+04       57.0392\n",
      "     7            1155.2             1      1.74e+03       19.0131\n",
      "     8           5084.85         0.556     -1.74e+03       14.0461\n",
      "     9           5039.35         0.936          -812       28.0923\n",
      "    10           468.037             1         -1.21       112.369\n",
      "    11           5007.65          0.99          -258       37.4563\n",
      "    12           573.063             1           757       74.9127\n",
      "    13            423.18             1         -20.7       299.651\n",
      "    14           412.031             1           284       99.8836\n",
      "    15           193.286             1         -34.6       147.712\n",
      "    16           148.231             1          4.64       49.2373\n",
      "    17           136.498             1       -0.0962       36.8519\n",
      "                                                      \n",
      " Optimization terminated: Unconstrained optimum found.\n",
      " Parameters converged to within tolerance.            \n",
      "\n",
      "                                         Directional \n",
      " Iteration      Residual     Step-size    derivative        Lambda\n",
      "     0           136.492\n",
      "     1           136.491             1     -0.000125   0.000359213\n",
      "                                                      \n",
      " Optimization terminated: Unconstrained optimum found.\n",
      " Parameters converged to within tolerance.            \n",
      "\n",
      "\tEstimation completed in 11.6300 seconds.\n",
      "\n",
      "\tPreprocessing time:     8.0900 s\n",
      "\n",
      "\tComputation time:       3.3900 s\n",
      "\n",
      "\tPostprocessing time:    0.1500 s\n",
      "\n",
      "\n",
      " ========== Varying R1 upward from 10 ==========\n",
      "\n",
      "                Delta        Delta                       Predictor    Corrector   Corrector   Failed\n",
      " Iteration      residual     parameter     Step-size         error    adjustment  iterations   steps     h/hopt        Lambda\n",
      "     1          0.768292   8.76523e-06   8.76523e-06      0.000000      0.000000      0          0            1   0.000358521\n",
      "     2          1.536584   1.23959e-05   3.63068e-06     -0.000000      0.000000      0          0            1   0.000119507\n",
      "     3          2.304875   1.51818e-05   2.78592e-06      0.000000      0.000000      0          0            1   3.98356e-05\n",
      "     4          3.073167   1.75305e-05   2.34864e-06      0.000000      0.000000      0          0            1   1.32785e-05\n",
      "     5          3.841459   1.95996e-05   2.06919e-06     -0.000000      0.000000      0          0            1   4.42618e-06\n",
      "     6          4.609751   2.14703e-05   1.87069e-06     -0.000000      0.000000      0          0            1   1.47539e-06\n",
      "\n",
      " ========== Varying R1 downward from 10 ==========\n",
      "\n",
      "                Delta        Delta                       Predictor    Corrector   Corrector   Failed\n",
      " Iteration      residual     parameter     Step-size         error    adjustment  iterations   steps     h/hopt        Lambda\n",
      "     1          0.768292   8.76523e-06   8.76523e-06     -0.000000      0.000000      0          0            1   0.000358521\n",
      "     2          1.536584   1.23959e-05   3.63068e-06     -0.000000      0.000000      0          0            1   0.000119507\n",
      "     3          2.304875   1.51818e-05   2.78592e-06     -0.000000      0.000000      0          0            1   3.98356e-05\n",
      "     4          3.073167   1.75305e-05   2.34864e-06      0.000000      0.000000      0          0            1   1.32785e-05\n",
      "     5          3.841459   1.95996e-05   2.06919e-06     -0.000000      0.000000      0          0            1   4.42618e-06\n",
      "     6          4.609751   2.14703e-05   1.87069e-06     -0.000000      0.000000      0          0            1   1.47539e-06\n",
      "\n",
      " ========== Varying R2 net upward from 6.084 ==========\n",
      "\n",
      "                Delta        Delta                       Predictor    Corrector   Corrector   Failed\n",
      " Iteration      residual     parameter     Step-size         error    adjustment  iterations   steps     h/hopt        Lambda\n",
      "     1          0.753749     0.0594843     0.0594843      0.003463      0.018006      1          0            1   0.000358521\n",
      "     2          1.519123       0.08436     0.0248757     -0.000803      0.002114      1          0            1   0.000119507\n",
      "     3          2.285994      0.103378     0.0190183     -0.000536      0.000885      1          0            1   3.98356e-05\n",
      "     4          3.053380      0.119365     0.0159868     -0.000338      0.000568      1          0            1   1.32785e-05\n",
      "     5          3.821027      0.133416     0.0140513     -0.000218      0.000427      1          0            1   4.42618e-06\n",
      "     6          4.588831      0.146094     0.0126776     -0.000141      0.000347      1          0            1   1.47539e-06\n",
      "\n",
      " ========== Varying R2 net downward from 6.084 ==========\n",
      "\n",
      "                Delta        Delta                       Predictor    Corrector   Corrector   Failed\n",
      " Iteration      residual     parameter     Step-size         error    adjustment  iterations   steps     h/hopt        Lambda\n",
      "     1          0.739891     0.0597295     0.0597295     -0.022161      0.006239      1          0            1   0.000358521\n",
      "     2          1.502793      0.085231     0.0255015     -0.005306      0.000084      1          0            1   0.000119507\n",
      "     3          2.267668      0.104823     0.0195925     -0.003404      0.000013      1          0            1   3.98356e-05\n",
      "     4          3.033394       0.12137     0.0165463     -0.002561      0.000005      1          0            1   1.32785e-05\n",
      "     5          3.799598      0.135974      0.014604     -0.002084      0.000003      1          0            1   4.42618e-06\n",
      "     6          4.566111        0.1492     0.0132266     -0.001776      0.000003      1          0            1   1.47539e-06\n",
      "\n",
      " ========== Varying R2 exch upward from 6.622 ==========\n",
      "\n",
      "                Delta        Delta                       Predictor    Corrector   Corrector   Failed\n",
      " Iteration      residual     parameter     Step-size         error    adjustment  iterations   steps     h/hopt        Lambda\n",
      "     1          0.668989      0.289038      0.289038     -0.079417      0.019884      1          0            1   0.000358521\n",
      "     2          1.412125      0.427311      0.138273     -0.023143      0.002013      1          0            1   0.000119507\n",
      "     3          2.163711      0.535897      0.108586     -0.015846      0.000860      1          0            1   3.98356e-05\n",
      "     4          2.918904      0.629304     0.0934064     -0.012560      0.000539      1          0            1   1.32785e-05\n",
      "     5          3.676161       0.71311     0.0838067     -0.010644      0.000391      1          0            1   4.42618e-06\n",
      "     6          4.434775      0.790161     0.0770503     -0.009369      0.000308      1          0            1   1.47539e-06\n",
      "\n",
      " ========== Varying R2 exch downward from 6.622 ==========\n",
      "\n",
      "                Delta        Delta                       Predictor    Corrector   Corrector   Failed\n",
      " Iteration      residual     parameter     Step-size         error    adjustment  iterations   steps     h/hopt        Lambda\n",
      "     1          0.770037      0.290904      0.290904      0.008406      0.006660      1          0            1   0.000358521\n",
      "     2          1.542383      0.405315      0.114411      0.004143      0.000088      1          0            1   0.000119507\n",
      "     3          2.314678      0.490834     0.0855195      0.004042      0.000038      1          0            1   3.98356e-05\n",
      "     4          3.086781      0.561453     0.0706188      0.003840      0.000028      1          0            1   1.32785e-05\n",
      "     5          3.858682      0.622583     0.0611305      0.003633      0.000024      1          0            1   4.42618e-06\n",
      "\n",
      " ========== Varying R4 upward from 1.958 ==========\n",
      "\n",
      "                Delta        Delta                       Predictor    Corrector   Corrector   Failed\n",
      " Iteration      residual     parameter     Step-size         error    adjustment  iterations   steps     h/hopt        Lambda\n",
      "     1          0.739891     0.0298647     0.0298647     -0.022161      0.006239      1          0            1   0.000358521\n",
      "     2          1.502793     0.0426155     0.0127507     -0.005306      0.000084      1          0            1   0.000119507\n",
      "     3          2.267668     0.0524117    0.00979624     -0.003404      0.000013      1          0            1   3.98356e-05\n",
      "     4          3.033394     0.0606849    0.00827314     -0.002561      0.000005      1          0            1   1.32785e-05\n",
      "     5          3.799598     0.0679869    0.00730201     -0.002084      0.000003      1          0            1   4.42618e-06\n",
      "     6          4.566111     0.0746002    0.00661329     -0.001776      0.000003      1          0            1   1.47539e-06\n",
      "\n",
      " ========== Varying R4 downward from 1.958 ==========\n",
      "\n",
      "                Delta        Delta                       Predictor    Corrector   Corrector   Failed\n",
      " Iteration      residual     parameter     Step-size         error    adjustment  iterations   steps     h/hopt        Lambda\n",
      "     1          0.753748     0.0297421     0.0297421      0.003463      0.018006      1          0            1   0.000358521\n",
      "     2          1.519123       0.04218     0.0124379     -0.000803      0.002114      1          0            1   0.000119507\n",
      "     3          2.285994     0.0516891    0.00950914     -0.000536      0.000885      1          0            1   3.98356e-05\n",
      "     4          3.053380     0.0596825    0.00799339     -0.000338      0.000568      1          0            1   1.32785e-05\n",
      "     5          3.821027     0.0667082    0.00702564     -0.000218      0.000427      1          0            1   4.42618e-06\n",
      "     6          4.588831      0.073047    0.00633881     -0.000141      0.000347      1          0            1   1.47539e-06\n",
      "\n",
      " ========== Varying R5 upward from 8.042 ==========\n",
      "\n",
      "                Delta        Delta                       Predictor    Corrector   Corrector   Failed\n",
      " Iteration      residual     parameter     Step-size         error    adjustment  iterations   steps     h/hopt        Lambda\n",
      "     1          0.753749     0.0297421     0.0297421      0.003463      0.018006      1          0            1   0.000358521\n",
      "     2          1.519123       0.04218     0.0124379     -0.000803      0.002114      1          0            1   0.000119507\n",
      "     3          2.285994     0.0516891    0.00950914     -0.000536      0.000885      1          0            1   3.98356e-05\n",
      "     4          3.053380     0.0596825    0.00799339     -0.000338      0.000568      1          0            1   1.32785e-05\n",
      "     5          3.821027     0.0667082    0.00702564     -0.000218      0.000427      1          0            1   4.42618e-06\n",
      "     6          4.588831      0.073047    0.00633881     -0.000141      0.000347      1          0            1   1.47539e-06\n",
      "\n",
      " ========== Varying R5 downward from 8.042 ==========\n",
      "\n",
      "                Delta        Delta                       Predictor    Corrector   Corrector   Failed\n",
      " Iteration      residual     parameter     Step-size         error    adjustment  iterations   steps     h/hopt        Lambda\n",
      "     1          0.739891     0.0298647     0.0298647     -0.022161      0.006239      1          0            1   0.000358521\n",
      "     2          1.502793     0.0426155     0.0127507     -0.005306      0.000084      1          0            1   0.000119507\n",
      "     3          2.267668     0.0524117    0.00979624     -0.003404      0.000013      1          0            1   3.98356e-05\n",
      "     4          3.033394     0.0606849    0.00827314     -0.002561      0.000005      1          0            1   1.32785e-05\n",
      "     5          3.799598     0.0679869    0.00730201     -0.002084      0.000003      1          0            1   4.42618e-06\n",
      "     6          4.566111     0.0746002    0.00661329     -0.001776      0.000003      1          0            1   1.47539e-06\n",
      "\n",
      "\tContinuation completed in 1.4600 seconds.\n",
      "\n",
      "\tPreprocessing time:     0.3500 s\n",
      "\n",
      "\tComputation time:       1.1100 s\n",
      "Warning: Network is ill-conditioned.\n",
      "\n",
      "\tSimulation completed in 0.0600 seconds.\n",
      "\n",
      "\tPreprocessing time:     0.0500 s\n",
      "\n",
      "\tComputation time:       0.0100 s\n",
      "\n",
      "\tPostprocessing time:    0.0000 s\n",
      "\n",
      "--- 24.38577890396118 seconds -\n"
     ]
    }
   ],
   "source": [
    "import dotenv\n",
    "inca_directory = pathlib.Path(dotenv.get_key(dotenv.find_dotenv(), \"INCA_base_directory\"))\n",
    "run_inca(script, INCA_base_directory=inca_directory)"
   ]
  },
  {
   "attachments": {},
   "cell_type": "markdown",
   "metadata": {},
   "source": [
    "We can now read the results from INCA using the `INCAResults` object."
   ]
  },
  {
   "cell_type": "code",
   "execution_count": 9,
   "metadata": {},
   "outputs": [],
   "source": [
    "res = incawrapper.INCAResults(output_file)"
   ]
  },
  {
   "attachments": {},
   "cell_type": "markdown",
   "metadata": {},
   "source": [
    "Typically, the first thing we want to inspect is the fitted fluxes. They can be displayed as a Pandas dataframe."
   ]
  },
  {
   "cell_type": "code",
   "execution_count": 10,
   "metadata": {},
   "outputs": [
    {
     "data": {
      "text/plain": [
       "\"|    | type      | id      | eqn                |      val |       std |      lb |       ub | unit   |   free |   alf | chi2s                                                             |   cont | cor                                                              | cov                                                              | vals                                                                     | base                             |\\n|---:|:----------|:--------|:-------------------|---------:|----------:|--------:|---------:|:-------|-------:|------:|:------------------------------------------------------------------|-------:|:-----------------------------------------------------------------|:-----------------------------------------------------------------|:-------------------------------------------------------------------------|:---------------------------------|\\n|  0 | Net flux  | R1      | A -> B             | 10       | 1e-05     | 9.99998 | 10       | []     |      0 |  0.05 | [141.10067191 140.33238014 139.56408838 138.79579661 138.02750485 |      0 | [ 1.00000000e+00  8.94722020e-05  2.00181150e-05  5.75791669e-05 | [ 9.99999979e-11  6.08441804e-11  6.62232318e-11  1.95779087e-11 | [ 9.99997853  9.9999804   9.99998247  9.99998482  9.9999876   9.99999123 | {'id': array([], dtype=float64)} |\\n|    |           |         |                    |          |           |         |          |        |        |       |  137.25921309 136.49092132 136.49092132 137.25921309 138.02750485 |        |   5.75791669e-05  2.36523565e-04 -7.77592148e-11]                |   1.95779087e-11  8.04220891e-11 -1.27935856e-17]                |  10.         10.         10.00000877 10.0000124  10.00001518 10.00001753 |                                  |\\n|    |           |         |                    |          |           |         |          |        |        |       |  138.79579661 139.56408838 140.33238014 141.10067191]             |        |                                                                  |                                                                  |  10.0000196  10.00002147]                                                |                                  |\\n|  1 | Net flux  | R2 net  | B <-> D            |  6.08443 | 0.0680034 | 5.9477  |  6.2182  | []     |      1 |  0.05 | [141.05703215 140.29051938 139.52431515 138.7585894  137.99371418 |      0 | [ 8.94721663e-05  1.00000000e+00  9.28432206e-01 -9.99999989e-01 | [ 6.08441561e-11  4.62446874e-03  2.08866273e-02 -2.31223434e-03 | [5.93523129 5.94845788 5.9630619  5.97960818 5.99920067 6.02470213       | {'id': array([], dtype=float64)} |\\n|    |           |         |                    |          |           |         |          |        |        |       |  137.23081233 136.49092132 136.49092132 137.24466987 138.01004394 |        |  -9.99999989e-01  9.99999989e-01  5.82264375e-01]                |  -2.31223434e-03  2.31223440e-03  6.51465711e-04]                |  6.08443163 6.08443163 6.14391591 6.16879163 6.18780992 6.2037967        |                                  |\\n|    |           |         |                    |          |           |         |          |        |        |       |  138.77691532 139.54430134 140.31194833 141.07975253]             |        |                                                                  |                                                                  |  6.21784798 6.23052559]                                                  |                                  |\\n|  2 | Exch flux | R2 exch | B <-> D            |  6.62239 | 0.330817  | 6.00107 |  7.35286 | []     |      1 |  0.05 | [140.34960371 139.57770282 138.80559981 138.03330481 137.26095847 |      0 | [ 2.00180888e-05  9.28432200e-01  1.00000000e+00 -9.28432200e-01 | [ 6.62231450e-11  2.08866272e-02  1.09439574e-01 -1.04433136e-02 | [5.99980982 6.06094031 6.1315591  6.2170786  6.33148938 6.6223932        | {'id': array([], dtype=float64)} |\\n|    |           |         |                    |          |           |         |          |        |        |       |  136.49092132 136.49092132 137.15991041 137.90304621 138.65463196 |        |  -9.28432200e-01  9.28432181e-01  3.38113697e-01]                |  -1.04433136e-02  1.04433136e-02  1.84030743e-03]                |  6.6223932  6.91143093 7.04970424 7.15829052 7.25169695 7.33550361       |                                  |\\n|    |           |         |                    |          |           |         |          |        |        |       |  139.40982516 140.16708198 140.92569677]                          |        |                                                                  |                                                                  |  7.41255392]                                                             |                                  |\\n|  3 | Net flux  | R3      | B -> C + E         |  1.95778 | 0.0340017 | 1.8909  |  2.02615 | []     |      1 |  0.05 | [141.07975244 140.31194825 139.5443013  138.77691531 138.01004392 |      0 | [ 5.75792027e-05 -9.99999989e-01 -9.28432205e-01  1.00000000e+00 | [ 1.95779209e-11 -2.31223434e-03 -1.04433136e-02  1.15611718e-03 | [1.88473721 1.89107601 1.89810165 1.90609504 1.91560419 1.92804205       | {'id': array([], dtype=float64)} |\\n|    |           |         |                    |          |           |         |          |        |        |       |  137.2446698  136.49092132 136.49092132 137.23081226 137.99371412 |        |   1.00000000e+00 -9.99999957e-01 -5.82264376e-01]                |   1.15611718e-03 -1.15611716e-03 -3.25732855e-04]                |  1.95778419 1.95778419 1.98764893 2.00039966 2.01019591 2.01846905       |                                  |\\n|    |           |         |                    |          |           |         |          |        |        |       |  138.75858932 139.52431509 140.29051934 141.05703213]             |        |                                                                  |                                                                  |  2.02577106 2.03238435]                                                  |                                  |\\n|  4 | Net flux  | R4      | B + C -> D + E + E |  1.95778 | 0.0340017 | 1.8909  |  2.02615 | []     |      0 |  0.05 | [141.07975244 140.31194825 139.5443013  138.77691531 138.01004392 |      0 | [ 5.75792027e-05 -9.99999989e-01 -9.28432205e-01  1.00000000e+00 | [ 1.95779209e-11 -2.31223434e-03 -1.04433136e-02  1.15611718e-03 | [1.88473721 1.89107601 1.89810165 1.90609504 1.91560419 1.92804205       | {'id': array([], dtype=float64)} |\\n|    |           |         |                    |          |           |         |          |        |        |       |  137.2446698  136.49092132 136.49092132 137.23081226 137.99371412 |        |   1.00000000e+00 -9.99999957e-01 -5.82264376e-01]                |   1.15611718e-03 -1.15611716e-03 -3.25732855e-04]                |  1.95778419 1.95778419 1.98764893 2.00039966 2.01019591 2.01846905       |                                  |\\n|    |           |         |                    |          |           |         |          |        |        |       |  138.75858932 139.52431509 140.29051934 141.05703213]             |        |                                                                  |                                                                  |  2.02577106 2.03238435]                                                  |                                  |\""
      ]
     },
     "execution_count": 10,
     "metadata": {},
     "output_type": "execute_result"
    }
   ],
   "source": [
    "res.fitdata.fitted_parameters.head().to_markdown()"
   ]
  },
  {
   "cell_type": "code",
   "execution_count": 11,
   "metadata": {},
   "outputs": [
    {
     "name": "stdout",
     "output_type": "stream",
     "text": [
      "Fit accepted: False\n",
      "Confidence level: 0.05\n",
      "Chi-square value (SSR): 136.49092132149707\n",
      "Expected chi-square range: [9.82069117e-04 5.02388619e+00]\n"
     ]
    }
   ],
   "source": [
    "res.fitdata.get_goodness_of_fit()"
   ]
  },
  {
   "cell_type": "code",
   "execution_count": 12,
   "metadata": {},
   "outputs": [
    {
     "data": {
      "text/plain": [
       "(<Figure size 640x480 with 1 Axes>,\n",
       " <Axes: title={'center': 'Probability Plot'}, xlabel='Theoretical quantiles', ylabel='Ordered Values'>)"
      ]
     },
     "execution_count": 12,
     "metadata": {},
     "output_type": "execute_result"
    },
    {
     "data": {
      "image/png": "[encoded data removed]",
      "text/plain": [
       "<Figure size 640x480 with 1 Axes>"
      ]
     },
     "metadata": {},
     "output_type": "display_data"
    }
   ],
   "source": [
    "import incawrapper.visualization as incaviz\n",
    "incaviz.plot_norm_probplot(res)"
   ]
  },
  {
   "cell_type": "markdown",
   "metadata": {},
   "source": [
    "## References\n",
    "[1] M. R. Antoniewicz, J. K. Kelleher, and G. Stephanopoulos, “Determination of confidence intervals of metabolic fluxes estimated from stable isotope measurements,” Metabolic Engineering, vol. 8, no. 4, pp. 324–337, Jul. 2006, doi: 10.1016/j.ymben.2006.01.004.\n",
    "\n",
    "[2] M. R. Antoniewicz, J. K. Kelleher, and G. Stephanopoulos, “Elementary metabolite units (EMU): A novel framework for modeling isotopic distributions,” Metabolic Engineering, vol. 9, no. 1, pp. 68–86, Jan. 2007, doi: 10.1016/j.ymben.2006.09.001.\n"
   ]
  },
  {
   "cell_type": "markdown",
   "metadata": {},
   "source": []
  }
 ],
 "metadata": {
  "kernelspec": {
   "display_name": "bfair-testing",
   "language": "python",
   "name": "python3"
  },
  "language_info": {
   "codemirror_mode": {
    "name": "ipython",
    "version": 3
   },
   "file_extension": ".py",
   "mimetype": "text/x-python",
   "name": "python",
   "nbconvert_exporter": "python",
   "pygments_lexer": "ipython3",
   "version": "3.10.8"
  },
  "orig_nbformat": 4,
  "vscode": {
   "interpreter": {
    "hash": "820c70ec08a0eb018d8ec3c5d089748cbb2d1e243fbedf0a7cbeb7c8948c3b84"
   }
  }
 },
 "nbformat": 4,
 "nbformat_minor": 2
}
